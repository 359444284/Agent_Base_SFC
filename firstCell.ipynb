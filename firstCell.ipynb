{
 "cells": [
  {
   "cell_type": "code",
   "execution_count": 2,
   "id": "present-surrey",
   "metadata": {},
   "outputs": [
    {
     "data": {
      "text/html": [
       "\n",
       "        <iframe\n",
       "            width=\"700\"\n",
       "            height=\"600\"\n",
       "            src=\"https://terna.to.it/TheDevelopmentOfAModel.html\"\n",
       "            frameborder=\"0\"\n",
       "            allowfullscreen\n",
       "        ></iframe>\n",
       "        "
      ],
      "text/plain": [
       "<IPython.lib.display.IFrame at 0x7fb1854be7c0>"
      ]
     },
     "execution_count": 2,
     "metadata": {},
     "output_type": "execute_result"
    }
   ],
   "source": [
    "from IPython.display import IFrame\n",
    "IFrame(src='https://terna.to.it/TheDevelopmentOfAModel.html', width=700, height=600)"
   ]
  },
  {
   "cell_type": "code",
   "execution_count": 2,
   "id": "amateur-baseball",
   "metadata": {},
   "outputs": [],
   "source": [
    "from IPython.display import Markdown, display"
   ]
  },
  {
   "cell_type": "code",
   "execution_count": 3,
   "id": "southern-ethiopia",
   "metadata": {},
   "outputs": [
    {
     "data": {
      "text/markdown": [
       "# The development of a model\n",
       "\n",
       "Eleonora Priori, Jack Birner, Marco Mazzoli, and [Pietro Terna](mailto:pietro.terna@unito.it)\n",
       "\n",
       "Report on the development of an ABM stock-flow consistent model.\n",
       "\n",
       "**model02**: the current version of the framework capable of handling micro-founded macro research questions. Have a look [here](https://nbviewer.org/github/terna/ejmmp/blob/main/model02/model02.ipynb). Pressing the button <img src=\"https://raw.githubusercontent.com/terna/ejmmp/main/myBinder.png\" alt=\"myBinder\" style=\"zoom:25%;\" /> it is possible to run the model interactively via the [**binder**](https://mybinder.org) project.\n",
       "\n",
       "Comments welcome. Please do not quote.\n",
       "\n",
       "Design and development of the model by Eleonora Priori and Pietro Terna.\n",
       "\n",
       "Last updated: July 13^th^, 2022"
      ],
      "text/plain": [
       "<IPython.core.display.Markdown object>"
      ]
     },
     "metadata": {},
     "output_type": "display_data"
    }
   ],
   "source": [
    "display(Markdown(\"TheDevelopmentOfAModel.md\"))"
   ]
  },
  {
   "cell_type": "code",
   "execution_count": null,
   "id": "constitutional-camping",
   "metadata": {},
   "outputs": [],
   "source": [
    "# %load TheDevelopmentOfAModel.md\n",
    "# The development of a model\n",
    "\n",
    "Eleonora Priori, Jack Birner, Marco Mazzoli, and [Pietro Terna](mailto:pietro.terna@unito.it)\n",
    "\n",
    "Report on the development of an ABM stock-flow consistent model.\n",
    "\n",
    "**model02**: the current version of the framework capable of handling micro-founded macro research questions. Have a look [here](https://nbviewer.org/github/terna/ejmmp/blob/main/model02/model02.ipynb). Pressing the button <img src=\"https://raw.githubusercontent.com/terna/ejmmp/main/myBinder.png\" alt=\"myBinder\" style=\"zoom:25%;\" /> it is possible to run the model interactively via the [**binder**](https://mybinder.org) project.\n",
    "\n",
    "Comments welcome. Please do not quote.\n",
    "\n",
    "Design and development of the model by Eleonora Priori and Pietro Terna.\n",
    "\n",
    "Last updated: July 13^th^, 2022"
   ]
  },
  {
   "cell_type": "markdown",
   "id": "narrative-exhibition",
   "metadata": {},
   "source": []
  }
 ],
 "metadata": {
  "kernelspec": {
   "display_name": "Python 3",
   "language": "python",
   "name": "python3"
  },
  "language_info": {
   "codemirror_mode": {
    "name": "ipython",
    "version": 3
   },
   "file_extension": ".py",
   "mimetype": "text/x-python",
   "name": "python",
   "nbconvert_exporter": "python",
   "pygments_lexer": "ipython3",
   "version": "3.9.7"
  }
 },
 "nbformat": 4,
 "nbformat_minor": 5
}
