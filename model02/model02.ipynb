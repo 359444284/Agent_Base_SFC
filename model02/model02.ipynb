{
 "cells": [
  {
   "cell_type": "markdown",
   "id": "naval-nomination",
   "metadata": {},
   "source": [
    "### Un altro passo: arrivano le banche!\n",
    "#### Sempre in azione l'*Istituto Centrale di Statistica* con a fianco la *Banca d'Italia*\n",
    "\n",
    "use it in [Notebook viewer](https://nbviewer.org/github/terna/ejmmp/blob/main/model02/model02.ipynb) or explore it in [GitHub](https://github.com/terna/ejmmp/tree/main/model02) (with the tools.py and metaActions.py files)\n",
    "\n",
    "to force the updatem if missing, follow once [Notebook viewer and flush cache](https://nbviewer.org/github/terna/ejmmp/blob/main/model02/model02.ipynb?flush_cache=true)\n",
    "\n",
    "[Wikipedia as a memo](https://en.wikipedia.org/wiki/Stock-flow_consistent_model#cite_note-42)"
   ]
  },
  {
   "cell_type": "code",
   "execution_count": 1,
   "id": "latter-survey",
   "metadata": {
    "scrolled": true
   },
   "outputs": [
    {
     "data": {
      "application/javascript": [
       "// to avoid scroll in windows\n",
       "IPython.OutputArea.prototype._should_scroll = function(lines) {\n",
       "    return false;\n",
       "}\n"
      ],
      "text/plain": [
       "<IPython.core.display.Javascript object>"
      ]
     },
     "metadata": {},
     "output_type": "display_data"
    }
   ],
   "source": [
    "%%javascript\n",
    "// to avoid scroll in windows\n",
    "IPython.OutputArea.prototype._should_scroll = function(lines) {\n",
    "    return false;\n",
    "}"
   ]
  },
  {
   "cell_type": "code",
   "execution_count": 2,
   "id": "large-brooks",
   "metadata": {},
   "outputs": [],
   "source": [
    "%matplotlib inline\n",
    "import random as r\n",
    "import matplotlib.pyplot as plt\n",
    "import commonVar as cmv\n",
    "import numpy as np\n",
    "from tools import *\n",
    "from metaActions import *\n",
    "import sys"
   ]
  },
  {
   "cell_type": "markdown",
   "id": "prostate-shadow",
   "metadata": {},
   "source": [
    "### Stock-flow *model02*, with real and financial elements\n",
    "\n",
    "- The model also consider the monetary side of the economy.\n",
    "\n",
    "  \n",
    "\n",
    "- We have to initialize loans and capital stocks.\n",
    "\n",
    "  \n",
    "\n",
    "- Currently, entrepreneurs have unlimited funds that they put freely in their activities, balancing other agent negative cash, if any.\n",
    "\n",
    "  \n",
    "\n",
    "- Saving is abstension from consuming, increasing agents' liquidity.\n",
    "\n",
    "\n",
    "\n",
    "- Investments are uniquely for replacement, without technical progress.\n",
    "\n",
    "  "
   ]
  },
  {
   "cell_type": "markdown",
   "id": "comparable-matthew",
   "metadata": {},
   "source": [
    "### symbol table\n",
    "\n",
    "[symbol table](https://oeis.org/wiki/List_of_LaTeX_mathematical_symbols) in $\\LaTeX$\n",
    "\n",
    "$a_i$ -  with $a_i \\in \\mathbf{A}$; agent number $N=|\\mathbf{A}|$, `agentList` and`agentNum`\n",
    "\n",
    "$a^e_i$ -  with $a^e_i \\in \\mathbf{A^e}$ and $\\mathbf{A^e} \\subset \\mathbf{A}$; employer number $N^e=|\\mathbf{A^e}|$ in range $[N^e_{min},N^e_{max}]$, `employerList`\n",
    "\n",
    "$\\mathbf{F}$ - firms' set, with $f_j \\in \\mathbf{F}$ being $N^f = |\\mathbf{F}|$,  with $N^f = |\\mathbf{F}| = |\\mathbf{A^e}|$ , `firmList`\n",
    "\n",
    "$\\mathbf{A}^w$ - working agents' set, being $\\mathbf{A}^w \\subseteq \\mathbf{A}$, with $N^w_i=|\\mathbf{A}^w_i|$ number of working agents employed by employer $i$, also including self-employed employers, with $a_i \\in \\mathbf{A}^e$\n",
    "\n",
    "$\\mathbf{B}$ - banks' set, with $b_j \\in \\mathbf{B}$ being $N^b = |\\mathbf{B}|$, `bankList`\n",
    "\n",
    "$x^d$ - interest rate on deposits, `interestRateOnDeposits`\n",
    "\n",
    "$x^{l^a}$ - interest rate on loans to (private) agents, `interestRateOnLoansVsAgents`\n",
    "\n",
    "$x^{l^f}$ - interest rate on loans to firms, `interestRateOnLoansVsFirms`\n",
    "\n",
    "$X^d_{a|f|b}$ - amount of positive interest on deposits for a given interval $t$ for agents $a$ or firms $f$, and negative for banks $b$, `interestOnDeposits`\n",
    "\n",
    "$X^l_{a|f|b}$ - amount of negative interest on loanss for a given interval $t$ for agents $a$ or firms $f$, and positive for banks $b$, `interestOnLoans`\n",
    "\n",
    "$p$ - price `price`\n",
    "\n",
    "$u$ - unemployment rate `unemploymentRate`\n",
    "\n",
    "$dimensional~heterogeneity$ is a $true/false$ chooser, forcing increasing firms to attract more workers. `dimensionalHeterogeneity`\n",
    "\n",
    "$\\pi_{i,t}$ - labor productivity, a uniformly distributed decimal number in range $[\\pi_{min},\\pi_{max}]$,`productivity`\n",
    "\n",
    "&Delta;$\\pi_{i,t}$ - uniperiodal additive productivity correction in range $[$&Delta;$\\pi_{min},$ &Delta;$\\pi_{max}]$, `productivityDelta`\n",
    "\n",
    "$n_{i,t}$ - number of workers in a firm\n",
    "\n",
    "$q_{i,t}$ - production in quantity, `production`\n",
    "\n",
    "$\\Pi_{i,t}$ - profit, `profit`\n",
    "\n",
    "$\\rho$ - dividend distribution share, `rho`\n",
    "\n",
    "$W$ - wage `wage`\n",
    "\n",
    "$R_{i,t}$ - revenues, `revenues`\n",
    "\n",
    "$s_{i,t}$ - sales in quantity, `sales`\n",
    "\n",
    "$v_{i,t}$ - in**v**entories (final, initial), `initialInventories`, `finalInventories`\n",
    "\n",
    "$d_{i}$ - deperibility share of the production, `deperibilityShare`, setting $d_{max}$\n",
    "\n",
    "$c_{i,t}$ - consumption rate, a uniformly distributed decimal number in range $[c_{min},c_{max}]$,`consumptionRate`\n",
    "\n",
    "$C_{i,t}$ - consumption of $i$ in $t$\n",
    "\n",
    "$I_{i,t}$  - investment plan  of $i$ in $t$, a uniformly distributed realization in range $[I_{min},I_{max}]$,`investmentProgram`\n",
    "\n",
    "$H_{i,t}$  - high powered money (cash) held by individuals (also acting as employers), `cashMoney`\n",
    "\n",
    "$M1_{i,t}$ - checking account money deposits held by  $a_i$ at time $t$, `checkingAccount`\n",
    "\n",
    "$M1^f_{i,t}$ - firm's bank account (with positive or negative balance), `bankAccount`\n",
    "\n",
    "the investment and consumption actions are repeated in each cycle, looking around randomly for the sellers; currently `nOfConsumptionActions` $=30$ and `nOfInvestmentActions`$=10$; each consumption buy action is at maximum the 20% of the planned consumptions in that cycle; instead, each investment buy action can reach the whole amount of the investment program of the cycle; each buy action is limited by the residual capabilty of the seller\n",
    "\n",
    "**magically**, the same good can be a consumption item or an investment one\n",
    "\n",
    "$T$ - number of cycles `ncycles`\n",
    "\n",
    "$t$ - current cycle `cycle`\n"
   ]
  },
  {
   "cell_type": "markdown",
   "id": "broke-marathon",
   "metadata": {},
   "source": [
    "### agent structure\n",
    "\n",
    "The structure of a **generic agent**: it can represent an employer, a worker, an unemployed person.\n",
    "\n",
    "When an agent is created, the **initialization process** defines:\n",
    "\n",
    "- its numerical id, `num`\n",
    "- its entrepreneur status, `entrepreneur`, set to $false$\n",
    "- the id of its employer, `myEmployer`, set to $0$\n",
    "- if entrepreneur, the id of its firm, `myFirm`, set to $0$\n",
    "- $c_{i,0}$ - consumption rate, set to $0$\n",
    "- $H_{i,0}$ - cash money, set to $0$ \n",
    "- $M1_{i,0}$ - checking account money deposits, set to $0$\n",
    "\n",
    "\n",
    "\n",
    "## firm structure\n",
    "\n",
    "- $R_{i,0}$ - `revenues`, initial value  $0$\n",
    "- $s_{i,0}$ - `sales`, initial value  $0$\n",
    "- $v^i_{i,0}$ - in**v**entories, `initialInventories`, set to $0$ \n",
    "- $v^f_{i,0}$ - in**v**entories, `finalInventories`, set to $0$ \n",
    "- $d_{i}$ - deperibility share, a uniformly distributed decimal number in range $[0,d_{max}]$,`deperibilityShare`\n",
    "- $I_{i,0}$  - investment plan, set to $0$\n",
    "- $\\Pi_{i,0}$ - profit, set to $0$, being the related dividend $D_{i,0}$, set to $0$\n",
    "- $M1^f_{i,0}$ - firm's bank account, set to $0$\n",
    "- $\\pi_{i,t-1}$ is set after the initialization step, if an agent becomes an employer\n",
    "\n",
    "\n",
    "\n",
    "each **generic agent** has the **functions**:\n",
    "\n",
    "- **buyConsumptionGoods** \n",
    "\n",
    "$C_{i,t}=c_{i,t} (W+D_{i,t-1}+X^d_{i,t-1}-X^l_{i,t-1})$; using $D_{i,t-1},X^d_{i,t-1},X^l_{i,t-1}$ we introduce lags with (possible) cyclical effect\n",
    "\n",
    "\n",
    "  being $bu$ the buyer and $se$ the seller (firm), for each fraction $C_{i,t}/k$ \n",
    "\n",
    "  ($k$ is the number of buying actions in each cycle with random share [0,cmv.maxConsumptionShareInSubstep))\n",
    "\n",
    "  &Delta;$M1^f_{se,t}=C_{bu,t}/k$\n",
    "\n",
    "  &Delta;$M1_{bu,t}=-C_{bu,t}/k$\n",
    "\n",
    "\n",
    "\n",
    "\n",
    "each **firm** has the **functions**:\n",
    "\n",
    "- **produce** function, with:\n",
    "\n",
    "  $\\pi_{i,t}=\\pi_{i,t-1}+$&Delta;$\\pi_{i,t}$\n",
    "\n",
    "  $q_{i,t}=n_{i,t} \\pi_{i,t}$\n",
    "\n",
    "  \n",
    "\n",
    "- **payWages**\n",
    "\n",
    "  paying $W$ to each worker in each time $t$\n",
    "\n",
    "  &Delta;$M1_{i,t}=W$ for  $a_i \\in \\mathbf{A}^w$ \n",
    "\n",
    "  &Delta;$M1^f_{i,t}=-W \\mathbf{N}^w_i$ for $a_i \\in \\mathbf{A}^e$ \n",
    "\n",
    "  \n",
    "\n",
    "- **buyInvestmentGoods**\n",
    "\n",
    "  $I_{j,t}$ for $f_j \\in \\mathbf{F}$  ($I_{j,t}$ is exogenously set)\n",
    "\n",
    "  being $bu$ the buyer (firm) and $se$ the seller (firm), for each fraction $I_{j,t}/k$\n",
    "\n",
    "  ($k$ is the number of investment actions in each cycle, with random share [0,cmv.maxInvestmentShareInSubstep))\n",
    "\n",
    "  &Delta;$M1^f_{se,t}=I_{bu,t}/k$\n",
    "\n",
    "  &Delta;$M1^f_{bu,t}=-I_{bu,t}/k$\n",
    "\n",
    "  \n",
    "\n",
    "- **makeBalanceSheet**\n",
    "\n",
    "  $v^f_{i,t}=v^i_{i,t}+(q_{i,t}-s_{i,t}) (1 - d_{i})$\n",
    "\n",
    "  $R_{i,t}=p s_{i,t}+X^d_{i,t}$\n",
    "\n",
    "  $\\Pi_{i,t}=R_{i,t}-W n_{i,t}-X^l_{i,t}-p(v^f_{i,t}-v^i_{i,t})$\n",
    "\n",
    "\n",
    "## bank structure\n",
    "\n",
    "to be completed **:-)**\n",
    "\n"
   ]
  },
  {
   "cell_type": "code",
   "execution_count": 3,
   "id": "found-bibliography",
   "metadata": {
    "scrolled": false
   },
   "outputs": [],
   "source": [
    "class Agent():\n",
    "    def __init__(self, num):\n",
    "        self.num=num\n",
    "        self.entrepreneur=False\n",
    "        #self.myFirm=0\n",
    "        self.myEnterprise=0\n",
    "        self.myEmployer=0\n",
    "        self.consumptionRate=0\n",
    "        self.cashMoney=0\n",
    "        self.checkingAccount=0\n",
    "        self.perceivedWage=0\n",
    "        self.perceivedDividend=0\n",
    "        self.myBank=0\n",
    "        self.interestOnDeposits=0\n",
    "        self.interestOnLoans=0\n",
    "\n",
    "    def buyConsumptionGoods(self,k):\n",
    "        if k==0: \n",
    "            self.consumptionRate=r.uniform(cmv.consumptionRateMin,cmv.consumptionRateMax)\n",
    "            self.consumption=(self.perceivedWage+self.perceivedDividend+\\\n",
    "                self.interestOnDeposits-self.interestOnLoans)*self.consumptionRate\n",
    "            if self.consumption < 0: self.consumption=0 \n",
    "\n",
    "            self.interestOnDeposits=0\n",
    "            self.interestOnLoans=0\n",
    "            self.perceivedWage=0\n",
    "            self.perceivedDividend=0\n",
    "            self.madeConsumption=0\n",
    "                \n",
    "        r.shuffle(cmv.firmList)\n",
    "        mySeller=cmv.firmList[0]\n",
    "        self.purchase=r.uniform(0,cmv.maxConsumptionShareInSubstep)*self.consumption \n",
    "                            # mean value should be calibrated with thenumber of buy action\n",
    "        self.purchase=min(self.purchase,self.consumption-self.madeConsumption)\n",
    "        self.purchase=min(self.purchase,cmv.price*(mySeller.production+\\\n",
    "                                        mySeller.initialInventories-mySeller.sales))\n",
    "        mySeller.sales+=self.purchase/cmv.price\n",
    "        mySeller.bankAccount+=self.purchase\n",
    "        #self.consumption-=self.purchase\n",
    "        self.checkingAccount-=self.purchase\n",
    "        self.madeConsumption+=self.purchase\n",
    "    \n"
   ]
  },
  {
   "cell_type": "code",
   "execution_count": 4,
   "id": "dirty-nevada",
   "metadata": {},
   "outputs": [],
   "source": [
    "class Firm():\n",
    "    def __init__(self, num):\n",
    "        self.num=num\n",
    "        self.myWorkers=[]\n",
    "        self.myEntrepreneur=0\n",
    "        self.productivity=0\n",
    "        self.initialInventories=0\n",
    "        self.finalInventories=0\n",
    "        self.bankAccount=0\n",
    "        self.revenues=0 #sales*price\n",
    "        self.sales=0\n",
    "        self.deperibilityShare=r.uniform(0,cmv.maxDeperibilityShare)\n",
    "        self.investmentProgram=0\n",
    "        self.profit=0\n",
    "        self.madeInvestment=0\n",
    "        self.interestOnDeposits=0\n",
    "        self.interestOnLoans=0\n",
    "        self.myBank=0\n",
    "        \n",
    "    def produce(self):\n",
    "        self.initialInventories=self.finalInventories\n",
    "        self.productivity+=r.uniform(cmv.productivityDeltaMin,cmv.productivityDeltaMax)\n",
    "        self.productivity=max(self.productivity,0)\n",
    "        \n",
    "        self.production=len(self.myWorkers)*self.productivity\n",
    "        self.sales=0\n",
    "\n",
    "    def payWages(self):\n",
    "        for anAgent in self.myWorkers:\n",
    "            anAgent.perceivedWage=cmv.wage\n",
    "            anAgent.checkingAccount+=cmv.wage\n",
    "        self.bankAccount-=cmv.wage*len(self.myWorkers)\n",
    "            \n",
    "    def buyInvestmentGoods(self,k):\n",
    "        if k==0: \n",
    "            self.investmentProgram=r.uniform(cmv.investmentMin,cmv.investmentMax)\n",
    "            self.madeInvestment=0\n",
    "                       \n",
    "        r.shuffle(cmv.firmList)\n",
    "        mySeller=cmv.firmList[0]\n",
    "        self.myInvestment=r.uniform(0,cmv.maxInvestmentShareInSubstep)*self.investmentProgram\n",
    "        self.myInvestment=min(self.myInvestment,cmv.price*(mySeller.production+\\\n",
    "                              mySeller.initialInventories-mySeller.sales))\n",
    "        mySeller.sales+=self.myInvestment/cmv.price\n",
    "        mySeller.bankAccount+=self.myInvestment\n",
    "        \n",
    "        self.bankAccount-=self.myInvestment\n",
    "        self.investmentProgram-=self.myInvestment\n",
    "        self.madeInvestment+=self.myInvestment\n",
    "        \n",
    "    def makeBalanceSheet(self):\n",
    "        self.lostProduction=0\n",
    "        if self.production - self.sales > 0: \n",
    "            self.lostProduction=(self.production - self.sales)*self.deperibilityShare\n",
    "        #print(self.num, lostProduction,self.productivity)\n",
    "        self.finalInventories=self.initialInventories+self.production-\\\n",
    "                              self.sales-self.lostProduction\n",
    "        self.revenues=self.sales*cmv.price\n",
    "        self.profit=self.revenues - len(self.myWorkers)*cmv.wage + \\\n",
    "          self.interestOnDeposits - self.interestOnLoans + \\\n",
    "          (self.finalInventories-self.initialInventories)*cmv.price\n",
    "        self.interestOnDeposits=0\n",
    "        self.interestOnLoans=0\n",
    "        #print(self.num,self.profit,self.revenues,len(self.myWorkers)*cmv.wage,\\\n",
    "        #      self.finalInventories, self.initialInventories)\n",
    "        \n",
    "    def distributeDividend(self):\n",
    "        if self.profit > 0:\n",
    "            dividend=cmv.rho*self.profit\n",
    "            self.bankAccount-=dividend\n",
    "            self.myEntrepreneur.checkingAccount+=dividend\n",
    "            self.myEntrepreneur.perceivedDividend=dividend        \n"
   ]
  },
  {
   "cell_type": "code",
   "execution_count": 5,
   "id": "exposed-produce",
   "metadata": {},
   "outputs": [],
   "source": [
    "class Bank(Firm):\n",
    "    def __init__(self, num):\n",
    "        super().__init__(num)\n",
    "        self.myPrivateClients=[]\n",
    "        self.myCommercialClients=[]\n",
    "        self.myDebtsVsAgents=0\n",
    "        self.myDebtsVsFirms=0\n",
    "        self.myCreditsVsAgents=0\n",
    "        self.myCreditsVsFirms=0\n",
    "        self.interestOnDeposits=0\n",
    "        self.interestOnLoans=0\n",
    "        \n",
    "    def computeAndApplyInterests(self):\n",
    "        self.interestOnDeposits=0\n",
    "        self.interestOnLoans=0\n",
    "        \n",
    "        for aPrivateClient in self.myPrivateClients:\n",
    "            if aPrivateClient.checkingAccount >=0:\n",
    "                interests=aPrivateClient.checkingAccount*cmv.interestRateOnDeposits\n",
    "                self.interestOnDeposits-=interests\n",
    "                aPrivateClient.checkingAccount+=interests\n",
    "                aPrivateClient.interestOnDeposits=interests\n",
    "                \n",
    "            if aPrivateClient.checkingAccount < 0:\n",
    "                interests=aPrivateClient.checkingAccount*cmv.interestRateOnLoansVsAgents\n",
    "                self.interestOnLoans+=interests\n",
    "                aPrivateClient.checkingAccount-=interests\n",
    "                aPrivateClient.interestOnLoans=interests\n",
    "               \n",
    "        for aCommercialClient in self.myCommercialClients:\n",
    "            if aCommercialClient.bankAccount >=0:\n",
    "                interests=aCommercialClient.bankAccount*cmv.interestRateOnDeposits\n",
    "                self.interestOnDeposits-=interests\n",
    "                aCommercialClient.bankAccount+=interests\n",
    "                aCommercialClient.interestOnDeposits=interests\n",
    "\n",
    "            if aCommercialClient.bankAccount < 0:\n",
    "                interests=aCommercialClient.bankAccount*cmv.interestRateOnLoansVsFirms\n",
    "                self.interestOnLoans+=interests\n",
    "                aCommercialClient.bankAccount-=interests\n",
    "                aCommercialClient.interestOnLoans=interests\n",
    "        \n",
    "    def makeFinancialAccounts(self):\n",
    "        self.myDebtsVsAgents=0\n",
    "        self.myDebtsVsFirms=0\n",
    "        self.myCreditsVsAgents=0\n",
    "        self.myCreditsVsFirms=0\n",
    "\n",
    "        for aPrivateClient in  self.myPrivateClients:\n",
    "            if aPrivateClient.checkingAccount>=0: \\\n",
    "                self.myDebtsVsAgents-=aPrivateClient.checkingAccount\n",
    "            if aPrivateClient.checkingAccount<0: \\\n",
    "                self.myCreditsVsAgents+=aPrivateClient.checkingAccount\n",
    "        for aCommercialClient in  self.myCommercialClients:\n",
    "            if aCommercialClient.bankAccount>=0: \\\n",
    "                self.myDebtsVsFirms-=aCommercialClient.bankAccount\n",
    "            if aCommercialClient.bankAccount<0: \\\n",
    "                self.myCreditsVsFirms+=aCommercialClient.bankAccount\n",
    "        \n",
    "        "
   ]
  },
  {
   "cell_type": "markdown",
   "id": "given-bangkok",
   "metadata": {},
   "source": [
    "### agent setup\n",
    "\n",
    "- agent basic creation\n",
    "\n",
    "  \n",
    "\n",
    "- creation of entrepreneur list\n",
    "\n",
    "  \n",
    "\n",
    "- selecting entrepreneurs and creating their firms or their banks\n",
    "\n",
    "  \n",
    "\n",
    "- with a given (heterogeneous) productivity\n",
    "\n",
    "  \n",
    "\n",
    "- linking the firm or the bank to its entrepreneur, considering the entrepreneur itself as a worker in its firm or bank\n",
    "\n",
    "  \n",
    "\n",
    "- creation of a temporary workforce list of to-be-employed agent, escluding entrepreneurs (already self employed)\n",
    "\n",
    "  \n",
    "\n",
    "- applying the unmployement rate to exclude agents\n",
    "\n",
    "  \n",
    "\n",
    "- assigning workforce (to-be-employed agents) to firms of banks, with a reinforcement mechanism, gradually giving more attraction/hiring capability to firms or banks growing the most\n",
    "\n",
    "\n",
    "- assigning agents and firms to banks in a random way\n",
    "\n"
   ]
  },
  {
   "cell_type": "code",
   "execution_count": 6,
   "id": "weekly-jordan",
   "metadata": {},
   "outputs": [],
   "source": [
    "def setup():\n",
    "    cmv.agentList=[]\n",
    "    for n in range(cmv.agentNum):\n",
    "        anAgent=Agent(n+1)\n",
    "        cmv.agentList.append(anAgent)\n",
    "\n",
    "    \n",
    "    # creation of entrepreneur list\n",
    "    cmv.entrepreneurNum=r.randint(entrepreneurMin, entrepreneurMax)\n",
    "    cmv.bankNum=r.randint(bankMin, bankMax)\n",
    "    \n",
    "    cmv.entrepreneurList=[]\n",
    "    cmv.firmList=[]\n",
    "    cmv.bankList=[]\n",
    "    entrepreneurCandidates=cmv.agentList.copy()\n",
    "\n",
    "    for n in range(cmv.entrepreneurNum):\n",
    "        \n",
    "        i=r.randint(0,len(entrepreneurCandidates)-1)\n",
    "        \n",
    "        entrepreneurCandidates[i].entrepreneur=True\n",
    "\n",
    "        if len(cmv.bankList) < cmv.bankNum:\n",
    "            newEnterprise=Bank(entrepreneurCandidates[i].num)\n",
    "        else:\n",
    "            newEnterprise=Firm(entrepreneurCandidates[i].num)\n",
    "\n",
    "        entrepreneurCandidates[i].myEnterprise=newEnterprise\n",
    "        entrepreneurCandidates[i].myEmployer=newEnterprise\n",
    "        newEnterprise.myEntrepreneur=entrepreneurCandidates[i]\n",
    "        newEnterprise.myWorkers.append(entrepreneurCandidates[i])\n",
    "        newEnterprise.productivity=\\\n",
    "                r.uniform(cmv.productivityMin,cmv.productivityMax)\n",
    "        cmv.entrepreneurList.append(entrepreneurCandidates.pop(i))\n",
    "        if newEnterprise.__class__.__name__==\"Bank\": cmv.bankList.append(newEnterprise)\n",
    "        if newEnterprise.__class__.__name__==\"Firm\": cmv.firmList.append(newEnterprise)\n",
    "\n",
    "    cmv.firmNum=len(cmv.firmList)\n",
    "    \n",
    "    # creation of workforce list\n",
    "    toBeEmployed=[]\n",
    "\n",
    "    for anAgent in cmv.agentList:\n",
    "        if not anAgent.entrepreneur: toBeEmployed.append(anAgent)\n",
    "    for k in range(round(cmv.unemploymentRate*cmv.agentNum)):\n",
    "        toBeEmployed.pop(r.randint(0,len(toBeEmployed)))\n",
    "    #len(toBeEmployed)\n",
    "\n",
    "\n",
    "    # assigning workforce to firms and banks\n",
    "    tmpEnterpriseListWithDuplications=cmv.firmList+cmv.bankList\n",
    "    for anAgent in toBeEmployed:\n",
    "        choice=r.choice(tmpEnterpriseListWithDuplications)\n",
    "        anAgent.myEmployer=choice\n",
    "        choice.myWorkers.append(anAgent)\n",
    "        if cmv.dimensionalHeterogeneity: tmpEnterpriseListWithDuplications.append(choice)\n",
    "            \n",
    "            \n",
    "    # assigning agents and firms to banks\n",
    "    \n",
    "    for anAgent in cmv.agentList:\n",
    "        anAgent.myBank=r.choice(cmv.bankList)\n",
    "        anAgent.myBank.myPrivateClients.append(anAgent)\n",
    "            \n",
    "    for aFirm in cmv.firmList:\n",
    "        aFirm.myBank=r.choice(cmv.bankList)\n",
    "        aFirm.myBank.myCommercialClients.append(aFirm)\n",
    "\n",
    "    cmv.totalProductionSeries=[]\n",
    "    cmv.totalProductionInfraVarSeries=[]\n",
    "    cmv.totalProfitSeries=[]\n",
    "    cmv.totalProfitInfraVarSeries=[]\n",
    "    cmv.totalInitialInventoriesSeries=[]\n",
    "    cmv.totalInitialInventoriesInfraVarSeries=[]\n",
    "    cmv.totalFinalInventoriesSeries=[]\n",
    "    cmv.totalFinalInventoriesInfraVarSeries=[]\n",
    "    cmv.totalConsumptionSeries=[]\n",
    "    cmv.totalEntrepreneurConsumptionSeries=[]\n",
    "    cmv.totalNonEntrepreneurConsumptionSeries=[]\n",
    "    cmv.totalConsumptionInfraVarSeries=[]\n",
    "    cmv.totalInvestmentSeries=[]\n",
    "    cmv.totalInvestmentInfraVarSeries=[]\n",
    "    cmv.totalCashMoneySeries=[]\n",
    "    cmv.totalCashMoneyInfraVarSeries=[]\n",
    "    cmv.totalCheckingAccountSeries=[]\n",
    "    cmv.totalCheckingAccountInfraVarSeries=[]\n",
    "    cmv.totalBankAccountSeries=[]\n",
    "    cmv.totalBankAccountInfraVarSeries=[]\n",
    "\n",
    "    cmv.totalLostProductionSeries=[]"
   ]
  },
  {
   "cell_type": "markdown",
   "id": "accompanied-defeat",
   "metadata": {},
   "source": [
    "### meta actions (in `metaActions.py`)\n",
    "\n",
    "\n",
    "\n",
    "\n",
    "\n",
    "- *produceAll* orders to the firms to produce and to collects the results\n",
    "\n",
    "  \n",
    "\n",
    "- *payWagesAll* orders to the firms to pay wages, also to the entrepreneurs\n",
    "\n",
    "  \n",
    "\n",
    "- *buyConsumptionGoodsAll* orders to the agents to buy consumption goods\n",
    "\n",
    "  \n",
    "\n",
    "- *buyInvestmentGoodsAll* orders to the firms to buy investment goods\n",
    "\n",
    "  \n",
    "\n",
    "- *buyConsumptionOrInvestmentGoodsAll* orders to the agents and to the firms to buy consumption or investment goods\n",
    "\n",
    "  \n",
    "\n",
    "- *makeBalanceSheetAll* with firm making accounts\n",
    "\n",
    "  \n",
    "\n",
    "- *distributeDividendAll* attributing the $\\rho$ share of firm profits to the entrepreneurs \n",
    "\n",
    "  \n",
    "\n",
    "- *accountCashMoneyAll* summarizing eveyone cash money at the end of a cycle\n",
    "\n",
    "  \n",
    "\n",
    "- *accountCheckingAccountAll* summarizing eveyone checking accounts at the end of a cycle\n",
    "\n",
    "  \n",
    "\n",
    "- *accountBankingAccountAll* summarizing firm banking accounts at the end of a cycle\n",
    "\n",
    "  \n",
    "\n",
    "- *computeAndApplyInterestsAll* calculating the interests on deposits and loans for each agent and firm (and symmetrically for banks) and updatating accounts\n",
    "\n",
    "  \n",
    "\n",
    "- *makeBankFinancialAccountsAll* summmarinzing all the checking and banl accounts"
   ]
  },
  {
   "cell_type": "markdown",
   "id": "dense-journey",
   "metadata": {},
   "source": [
    "\n",
    "### model parameters\n",
    "\n"
   ]
  },
  {
   "cell_type": "code",
   "execution_count": 7,
   "id": "designing-participant",
   "metadata": {
    "scrolled": false
   },
   "outputs": [],
   "source": [
    "cmv.agentNum=100\n",
    "entrepreneurMin=6\n",
    "entrepreneurMax=20\n",
    "bankMin=2\n",
    "bankMax=3 \n",
    "\n",
    "if bankMax > entrepreneurMin:\n",
    "    print (\"Bank maximum number cannot exceed the minimum number of firms!\")\n",
    "    sys.exit(0)\n",
    "\n",
    "cmv.price=1\n",
    "\n",
    "cmv.unemploymentRate=0\n",
    "cmv.dimensionalHeterogeneity=True\n",
    "\n",
    "cmv.productivityMin=0.8\n",
    "cmv.productivityMax=1.2\n",
    "cmv.productivityDeltaMin=cmv.productivityMin-1\n",
    "cmv.productivityDeltaMax=cmv.productivityMax-1\n",
    "\n",
    "cmv.maxDeperibilityShare=0.5\n",
    "\n",
    "cmv.wage=1\n",
    "cmv.rho=0 #0.5 #1\n",
    "cmv.consumptionRateMin=0.5\n",
    "cmv.consumptionRateMax=1\n",
    "\n",
    "cmv.investmentMin=1\n",
    "cmv.investmentMax=15\n",
    "\n",
    "cmv.nOfConsumptionActions=30\n",
    "cmv.maxConsumptionShareInSubstep=0.3\n",
    "cmv.nOfInvestmentActions=10\n",
    "cmv.maxInvestmentShareInSubstep=0.3\n",
    "\n",
    "cmv.interestRateOnDeposits=0.01\n",
    "cmv.interestRateOnLoansVsAgents=0.03\n",
    "cmv.interestRateOnLoansVsFirms=0.10\n",
    "\n",
    "cmv.ncycles=100\n",
    "cmv.cycle=0"
   ]
  },
  {
   "cell_type": "markdown",
   "id": "neutral-cylinder",
   "metadata": {},
   "source": [
    "## <p style=\"color:red\">model machine</p>\n",
    "\n",
    "- a random seed determining the random number sequences\n",
    "\n",
    "\n",
    "\n",
    "- a list of actions (meta ones)\n",
    "\n",
    "\n",
    "\n",
    "- an engine excecuting the meta actions\n",
    "\n",
    "\n",
    "\n",
    "- display tools (their code is hidden into the file `tools.py`)\n",
    "\n",
    "\n"
   ]
  },
  {
   "cell_type": "code",
   "execution_count": 8,
   "id": "sealed-valuation",
   "metadata": {
    "scrolled": false
   },
   "outputs": [
    {
     "name": "stdout",
     "output_type": "stream",
     "text": [
      "-------------------------------------------\n",
      "entrepreneur number 15\n",
      "-------------------------------------------\n",
      "\n",
      "-------------------------------------------\n",
      "\"national\" accounts\n",
      "-------------------------------------------\n",
      "\n",
      "t\ttotal\tlost\tinitial\t\tconsum.\tinvest.\tfinal\n",
      "\tproduc.\tproduc.\tinvent.\t\t\t\tinvent.\n",
      "  1\t86.3\t0.0\t0.0\t    |\t43.1\t43.2\t0.0\n",
      "  2\t79.0\t0.0\t0.0\t    |\t35.0\t44.1\t0.0\n",
      "  3\t73.6\t0.0\t0.0\t    |\t37.2\t36.4\t0.0\n",
      "  4\t73.0\t0.0\t0.0\t    |\t39.0\t34.0\t0.0\n",
      "  5\t73.4\t0.0\t0.0\t    |\t29.4\t44.0\t0.0\n",
      "  6\t73.3\t0.0\t0.0\t    |\t30.9\t42.4\t0.0\n",
      "  7\t65.6\t0.0\t0.0\t    |\t32.9\t32.7\t0.0\n",
      "  8\t66.1\t0.0\t0.0\t    |\t32.3\t33.8\t0.0\n",
      "  9\t66.8\t0.0\t0.0\t    |\t27.2\t39.6\t0.0\n",
      " 10\t69.9\t0.0\t0.0\t    |\t32.0\t38.0\t0.0\n",
      " 11\t70.6\t0.0\t0.0\t    |\t31.5\t39.1\t0.0\n",
      " 12\t68.4\t0.0\t0.0\t    |\t30.0\t38.4\t0.0\n",
      " 13\t68.3\t0.0\t0.0\t    |\t37.7\t30.6\t0.0\n",
      " 14\t66.5\t0.0\t0.0\t    |\t30.4\t36.1\t0.0\n",
      " 15\t73.4\t0.0\t0.0\t    |\t31.8\t41.7\t0.0\n",
      " 16\t73.4\t0.0\t0.0\t    |\t36.4\t37.0\t0.0\n",
      " 17\t74.2\t0.0\t0.0\t    |\t34.8\t39.4\t0.0\n",
      " 18\t75.9\t0.0\t0.0\t    |\t39.7\t36.1\t0.0\n",
      " 19\t72.8\t0.0\t0.0\t    |\t29.0\t43.7\t0.0\n",
      " 20\t75.1\t0.0\t0.0\t    |\t31.4\t43.7\t0.0\n",
      " 21\t78.5\t0.0\t0.0\t    |\t42.8\t35.7\t0.0\n",
      " 22\t77.6\t0.0\t0.0\t    |\t37.0\t40.6\t0.0\n",
      " 23\t81.5\t0.0\t0.0\t    |\t36.1\t45.4\t0.0\n",
      " 24\t85.0\t0.0\t0.0\t    |\t42.7\t42.3\t0.0\n",
      " 25\t81.9\t0.0\t0.0\t    |\t41.0\t41.0\t0.0\n",
      " 26\t87.7\t0.0\t0.0\t    |\t42.7\t45.0\t0.0\n",
      " 27\t83.8\t0.0\t0.0\t    |\t35.1\t48.6\t0.0\n",
      " 28\t84.4\t0.0\t0.0\t    |\t52.5\t31.8\t0.0\n",
      " 29\t84.5\t0.0\t0.0\t    |\t41.0\t43.4\t0.0\n",
      " 30\t85.1\t0.0\t0.0\t    |\t50.2\t34.9\t0.0\n",
      " 31\t92.6\t0.0\t0.0\t    |\t54.8\t37.8\t0.0\n",
      " 32\t96.7\t0.0\t0.0\t    |\t46.9\t49.8\t0.0\n",
      " 33\t100.9\t0.0\t0.0\t    |\t50.6\t50.3\t0.0\n",
      " 34\t103.1\t0.0\t0.0\t    |\t62.1\t41.1\t0.0\n",
      " 35\t103.8\t0.0\t0.0\t    |\t49.0\t54.8\t0.0\n",
      " 36\t99.9\t0.0\t0.0\t    |\t44.3\t55.5\t0.0\n",
      " 37\t97.9\t0.0\t0.0\t    |\t48.4\t49.5\t0.0\n",
      " 38\t93.6\t0.0\t0.0\t    |\t41.6\t52.0\t0.0\n",
      " 39\t95.4\t0.0\t0.0\t    |\t55.9\t39.5\t0.0\n",
      " 40\t92.3\t0.0\t0.0\t    |\t48.0\t44.2\t0.0\n",
      " 41\t98.7\t0.0\t0.0\t    |\t49.0\t49.7\t0.0\n",
      " 42\t100.0\t0.0\t0.0\t    |\t47.6\t52.4\t0.0\n",
      " 43\t100.0\t0.0\t0.0\t    |\t53.8\t46.2\t0.0\n",
      " 44\t98.1\t0.0\t0.0\t    |\t52.6\t45.5\t0.0\n",
      " 45\t93.2\t0.0\t0.0\t    |\t48.6\t44.6\t0.0\n",
      " 46\t95.1\t0.0\t0.0\t    |\t57.4\t37.7\t0.0\n",
      " 47\t96.9\t0.0\t0.0\t    |\t48.3\t48.7\t0.0\n",
      " 48\t93.0\t0.0\t0.0\t    |\t48.1\t44.9\t0.0\n",
      " 49\t96.2\t0.0\t0.0\t    |\t49.9\t46.3\t0.0\n",
      " 50\t93.4\t0.0\t0.0\t    |\t57.2\t36.3\t0.0\n",
      " 51\t99.0\t0.0\t0.0\t    |\t50.4\t48.6\t0.0\n",
      " 52\t102.5\t0.0\t0.0\t    |\t54.9\t47.5\t0.0\n",
      " 53\t99.7\t0.0\t0.0\t    |\t69.2\t30.5\t0.0\n",
      " 54\t102.7\t0.0\t0.0\t    |\t56.9\t45.8\t0.0\n",
      " 55\t100.7\t0.0\t0.0\t    |\t58.4\t42.3\t0.0\n",
      " 56\t104.9\t0.0\t0.0\t    |\t68.4\t36.4\t0.0\n",
      " 57\t110.3\t0.0\t0.0\t    |\t75.5\t34.8\t0.0\n",
      " 58\t108.4\t0.0\t0.0\t    |\t68.4\t40.0\t0.0\n",
      " 59\t104.0\t0.0\t0.0\t    |\t60.1\t43.9\t0.0\n",
      " 60\t106.8\t0.0\t0.0\t    |\t58.5\t48.2\t0.0\n",
      " 61\t106.1\t0.0\t0.0\t    |\t62.8\t43.3\t0.0\n",
      " 62\t102.0\t0.0\t0.0\t    |\t64.2\t37.9\t0.0\n",
      " 63\t102.2\t0.0\t0.0\t    |\t59.6\t42.7\t0.0\n",
      " 64\t104.7\t0.0\t0.0\t    |\t64.1\t40.6\t0.0\n",
      " 65\t111.5\t0.0\t0.0\t    |\t57.5\t54.0\t0.0\n",
      " 66\t117.7\t0.0\t0.0\t    |\t80.1\t37.6\t0.0\n",
      " 67\t116.0\t0.0\t0.0\t    |\t66.1\t50.0\t0.0\n",
      " 68\t124.1\t0.0\t0.0\t    |\t91.4\t32.7\t0.0\n",
      " 69\t125.0\t0.0\t0.0\t    |\t63.7\t61.2\t0.0\n",
      " 70\t122.1\t0.0\t0.0\t    |\t84.4\t37.7\t0.0\n",
      " 71\t117.4\t0.0\t0.0\t    |\t69.8\t47.6\t0.0\n",
      " 72\t115.8\t0.0\t0.0\t    |\t57.8\t58.0\t0.0\n",
      " 73\t115.2\t0.0\t0.0\t    |\t73.8\t41.4\t0.0\n",
      " 74\t116.0\t0.0\t0.0\t    |\t66.3\t49.7\t0.0\n",
      " 75\t117.4\t0.0\t0.0\t    |\t72.9\t44.5\t0.0\n",
      " 76\t120.3\t0.0\t0.0\t    |\t74.3\t46.0\t0.0\n",
      " 77\t124.1\t0.0\t0.0\t    |\t81.1\t42.9\t0.0\n",
      " 78\t121.7\t0.0\t0.0\t    |\t73.9\t47.8\t0.0\n",
      " 79\t123.1\t0.0\t0.0\t    |\t75.9\t47.2\t0.0\n",
      " 80\t124.2\t0.0\t0.0\t    |\t81.4\t42.8\t0.0\n",
      " 81\t123.3\t-0.4\t0.0\t    |\t81.9\t40.3\t0.7\n",
      " 82\t118.0\t0.0\t0.7\t    |\t69.5\t49.2\t0.0\n",
      " 83\t122.9\t0.0\t0.0\t    |\t66.3\t56.6\t0.0\n",
      " 84\t113.7\t0.0\t0.0\t    |\t73.3\t40.4\t0.0\n",
      " 85\t116.0\t0.0\t0.0\t    |\t69.0\t47.0\t0.0\n",
      " 86\t116.5\t0.0\t0.0\t    |\t71.3\t45.2\t0.0\n",
      " 87\t114.6\t0.0\t0.0\t    |\t78.3\t36.3\t0.0\n",
      " 88\t112.9\t0.0\t0.0\t    |\t78.2\t34.7\t0.0\n",
      " 89\t119.4\t0.0\t0.0\t    |\t70.8\t48.6\t0.0\n",
      " 90\t115.3\t0.0\t0.0\t    |\t77.5\t37.8\t0.0\n",
      " 91\t114.7\t0.0\t0.0\t    |\t78.1\t36.6\t0.0\n",
      " 92\t121.8\t0.0\t0.0\t    |\t65.3\t56.5\t0.0\n",
      " 93\t117.3\t0.0\t0.0\t    |\t80.5\t36.7\t0.0\n",
      " 94\t120.8\t0.0\t0.0\t    |\t70.1\t50.6\t0.0\n",
      " 95\t115.9\t0.0\t0.0\t    |\t64.0\t51.9\t0.0\n",
      " 96\t109.5\t0.0\t0.0\t    |\t70.4\t39.0\t0.0\n",
      " 97\t112.8\t0.0\t0.0\t    |\t80.5\t32.4\t0.0\n",
      " 98\t111.7\t0.0\t0.0\t    |\t70.7\t41.0\t0.0\n",
      " 99\t108.8\t0.0\t0.0\t    |\t67.2\t41.6\t0.0\n",
      "100\t108.4\t0.0\t0.0\t    |\t72.0\t36.4\t0.0\n",
      "\n",
      "\n",
      "\n",
      "\n"
     ]
    },
    {
     "data": {
      "image/png": "[encoded data removed]",
      "text/plain": [
       "<Figure size 432x288 with 1 Axes>"
      ]
     },
     "metadata": {
      "needs_background": "light"
     },
     "output_type": "display_data"
    },
    {
     "data": {
      "image/png": "[encoded data removed]",
      "text/plain": [
       "<Figure size 432x288 with 2 Axes>"
      ]
     },
     "metadata": {},
     "output_type": "display_data"
    },
    {
     "data": {
      "image/png": "[encoded data removed]",
      "text/plain": [
       "<Figure size 432x288 with 2 Axes>"
      ]
     },
     "metadata": {},
     "output_type": "display_data"
    },
    {
     "data": {
      "image/png": "[encoded data removed]",
      "text/plain": [
       "<Figure size 432x288 with 2 Axes>"
      ]
     },
     "metadata": {},
     "output_type": "display_data"
    },
    {
     "data": {
      "image/png": "[encoded data removed]",
      "text/plain": [
       "<Figure size 432x288 with 2 Axes>"
      ]
     },
     "metadata": {},
     "output_type": "display_data"
    },
    {
     "data": {
      "image/png": "[encoded data removed]",
      "text/plain": [
       "<Figure size 432x288 with 2 Axes>"
      ]
     },
     "metadata": {},
     "output_type": "display_data"
    },
    {
     "data": {
      "image/png": "[encoded data removed]",
      "text/plain": [
       "<Figure size 432x288 with 2 Axes>"
      ]
     },
     "metadata": {},
     "output_type": "display_data"
    },
    {
     "data": {
      "image/png": "[encoded data removed]",
      "text/plain": [
       "<Figure size 432x288 with 2 Axes>"
      ]
     },
     "metadata": {},
     "output_type": "display_data"
    },
    {
     "data": {
      "image/png": "[encoded data removed]",
      "text/plain": [
       "<Figure size 432x288 with 2 Axes>"
      ]
     },
     "metadata": {},
     "output_type": "display_data"
    },
    {
     "data": {
      "image/png": "[encoded data removed]",
      "text/plain": [
       "<Figure size 432x288 with 2 Axes>"
      ]
     },
     "metadata": {},
     "output_type": "display_data"
    }
   ],
   "source": [
    "r.seed(12131415)\n",
    "\n",
    "setup()\n",
    "\n",
    "cmv.actionList=[\"produceAll()\",\"payWagesAll()\",\"buyConsumptionOrInvestmentGoodsAll()\",\\\n",
    "                \"computeAndApplyInterestsAll()\",\"makeBalanceSheetAll()\",\\\n",
    "                \"distributeDividendAll()\",\"accountCashMoneyAll()\",\\\n",
    "                \"accountCheckingAccountAll()\",\"accountBankAccountAll()\",\\\n",
    "                \"makeBankFinancialAccountsAll()\"\\\n",
    "                ]\n",
    "\n",
    "for cmv.cycle in range(cmv.ncycles):\n",
    "    for anAction in cmv.actionList:\n",
    "            exec(anAction)\n",
    "\n",
    "makeHist() \n",
    "plot1()\n",
    "plot2()\n",
    "plot3()\n",
    "plot4()\n",
    "plot5()\n",
    "plot6()\n",
    "plot7()\n",
    "plot8()\n",
    "plot9()\n",
    "\n",
    "nationalAccounts()"
   ]
  },
  {
   "cell_type": "code",
   "execution_count": 9,
   "id": "typical-washer",
   "metadata": {},
   "outputs": [
    {
     "data": {
      "text/plain": [
       "[99, 41, 61, 38, 86, 57, 70, 76, 63, 80, 64, 26, 98]"
      ]
     },
     "execution_count": 9,
     "metadata": {},
     "output_type": "execute_result"
    }
   ],
   "source": [
    "list(cmv.firmList[i].num for i in range(cmv.firmNum))"
   ]
  },
  {
   "cell_type": "code",
   "execution_count": 10,
   "id": "sized-charge",
   "metadata": {},
   "outputs": [
    {
     "data": {
      "text/plain": [
       "[74, 69, 76, 70, 99, 41, 98, 63, 61, 57, 38, 26, 86]"
      ]
     },
     "execution_count": 10,
     "metadata": {},
     "output_type": "execute_result"
    }
   ],
   "source": [
    "list(cmv.entrepreneurList[i].num for i in range(cmv.firmNum))"
   ]
  },
  {
   "cell_type": "code",
   "execution_count": 11,
   "id": "sufficient-darkness",
   "metadata": {
    "scrolled": true
   },
   "outputs": [],
   "source": [
    "# last cycle\n",
    "tCashNe=0\n",
    "for anA in cmv.agentList:\n",
    "    if not anA.entrepreneur: tCashNe+=anA.cashMoney\n",
    "\n",
    "tCashE=0\n",
    "for anA in cmv.agentList:\n",
    "    if anA.entrepreneur: tCashE+=anA.cashMoney"
   ]
  },
  {
   "cell_type": "code",
   "execution_count": 12,
   "id": "vocal-transparency",
   "metadata": {
    "scrolled": true
   },
   "outputs": [
    {
     "data": {
      "text/plain": [
       "0"
      ]
     },
     "execution_count": 12,
     "metadata": {},
     "output_type": "execute_result"
    }
   ],
   "source": [
    "tCashNe"
   ]
  },
  {
   "cell_type": "code",
   "execution_count": 13,
   "id": "intelligent-powell",
   "metadata": {
    "scrolled": true
   },
   "outputs": [
    {
     "data": {
      "text/plain": [
       "0"
      ]
     },
     "execution_count": 13,
     "metadata": {},
     "output_type": "execute_result"
    }
   ],
   "source": [
    "tCashE"
   ]
  },
  {
   "cell_type": "code",
   "execution_count": 14,
   "id": "native-textbook",
   "metadata": {
    "scrolled": true
   },
   "outputs": [],
   "source": [
    "tC=0\n",
    "for i in range(cmv.ncycles):\n",
    "    tC+=cmv.totalConsumptionSeries[i]"
   ]
  },
  {
   "cell_type": "code",
   "execution_count": 15,
   "id": "smart-employment",
   "metadata": {
    "scrolled": true
   },
   "outputs": [
    {
     "data": {
      "text/plain": [
       "5603.714893511443"
      ]
     },
     "execution_count": 15,
     "metadata": {},
     "output_type": "execute_result"
    }
   ],
   "source": [
    "tC"
   ]
  },
  {
   "cell_type": "code",
   "execution_count": 16,
   "id": "distinguished-bacon",
   "metadata": {
    "scrolled": true
   },
   "outputs": [],
   "source": [
    "tCE=0\n",
    "for i in range(cmv.ncycles):\n",
    "    tCE+=cmv.totalEntrepreneurConsumptionSeries[i]"
   ]
  },
  {
   "cell_type": "code",
   "execution_count": 17,
   "id": "alive-electricity",
   "metadata": {
    "scrolled": true
   },
   "outputs": [
    {
     "data": {
      "text/plain": [
       "837.9112622620207"
      ]
     },
     "execution_count": 17,
     "metadata": {},
     "output_type": "execute_result"
    }
   ],
   "source": [
    "tCE"
   ]
  },
  {
   "cell_type": "code",
   "execution_count": 18,
   "id": "sufficient-placement",
   "metadata": {
    "scrolled": true
   },
   "outputs": [],
   "source": [
    "tCNe=0\n",
    "for i in range(cmv.ncycles):\n",
    "    tCNe+=cmv.totalNonEntrepreneurConsumptionSeries[i]"
   ]
  },
  {
   "cell_type": "code",
   "execution_count": 19,
   "id": "regional-somerset",
   "metadata": {
    "scrolled": true
   },
   "outputs": [
    {
     "data": {
      "text/plain": [
       "4765.803631249423"
      ]
     },
     "execution_count": 19,
     "metadata": {},
     "output_type": "execute_result"
    }
   ],
   "source": [
    "tCNe"
   ]
  },
  {
   "cell_type": "code",
   "execution_count": 20,
   "id": "great-dublin",
   "metadata": {
    "scrolled": true
   },
   "outputs": [],
   "source": [
    "tI=0\n",
    "for i in range(cmv.ncycles):\n",
    "    tI+=cmv.totalInvestmentSeries[i]"
   ]
  },
  {
   "cell_type": "code",
   "execution_count": 21,
   "id": "responsible-appendix",
   "metadata": {
    "scrolled": true
   },
   "outputs": [
    {
     "data": {
      "text/plain": [
       "4291.669390762115"
      ]
     },
     "execution_count": 21,
     "metadata": {},
     "output_type": "execute_result"
    }
   ],
   "source": [
    "tI"
   ]
  },
  {
   "cell_type": "code",
   "execution_count": 22,
   "id": "fancy-geography",
   "metadata": {},
   "outputs": [
    {
     "data": {
      "text/plain": [
       "[57.49394676302098,\n",
       " 123.75305894171373,\n",
       " 188.43513352008227,\n",
       " 251.88339388612616,\n",
       " 325.7240903774059,\n",
       " 398.80563169198615,\n",
       " 470.6043913593327,\n",
       " 543.706139708312,\n",
       " 622.6823304433461,\n",
       " 697.634226486273,\n",
       " 773.8110851772558,\n",
       " 852.274967762345,\n",
       " 923.7538158713197,\n",
       " 1003.2404802007794,\n",
       " 1082.1946663592134,\n",
       " 1157.2480563677134,\n",
       " 1234.6621095157018,\n",
       " 1307.8717555057,\n",
       " 1392.6363662745493,\n",
       " 1475.884497856525,\n",
       " 1548.4461045292992,\n",
       " 1627.5412285296875,\n",
       " 1708.3590941068878,\n",
       " 1783.2755965418933,\n",
       " 1860.727739603027,\n",
       " 1937.1892930793394,\n",
       " 2022.1033952635735,\n",
       " 2090.2550688591928,\n",
       " 2170.707411731876,\n",
       " 2242.7500100971583,\n",
       " 2310.8502531364456,\n",
       " 2387.6035016716664,\n",
       " 2461.329394547305,\n",
       " 2524.2617937513787,\n",
       " 2600.983050051669,\n",
       " 2683.2016545993174,\n",
       " 2762.1070938864164,\n",
       " 2848.73340156437,\n",
       " 2921.7678088852863,\n",
       " 3003.4968398978067,\n",
       " 3085.079321186922,\n",
       " 3168.878219287487,\n",
       " 3247.275082824155,\n",
       " 3327.5842722593857,\n",
       " 3412.796456813923,\n",
       " 3489.9329643067204,\n",
       " 3577.0945713616093,\n",
       " 3665.246781711749,\n",
       " 3752.5168235900737,\n",
       " 3833.287005567739,\n",
       " 3921.725231316317,\n",
       " 4006.450848537359,\n",
       " 4077.6218358250717,\n",
       " 4161.942128006185,\n",
       " 4245.577390377142,\n",
       " 4319.917780604148,\n",
       " 4387.828403172721,\n",
       " 4463.628551105854,\n",
       " 4548.5881903030595,\n",
       " 4635.941023571691,\n",
       " 4719.914282291867,\n",
       " 4803.307964740608,\n",
       " 4892.18550885348,\n",
       " 4977.373279266036,\n",
       " 5070.055738949806,\n",
       " 5140.843115846898,\n",
       " 5226.528282159179,\n",
       " 5287.460262024967,\n",
       " 5376.951920625831,\n",
       " 5446.49667701417,\n",
       " 5531.42772481831,\n",
       " 5629.3159199399915,\n",
       " 5712.048900357052,\n",
       " 5803.233765496781,\n",
       " 5888.587233810197,\n",
       " 5973.4176603770475,\n",
       " 6052.193106444389,\n",
       " 6139.108384267221,\n",
       " 6224.833090085832,\n",
       " 6305.850255963081,\n",
       " 6387.192404607363,\n",
       " 6481.879608019724,\n",
       " 6580.7292155409705,\n",
       " 6673.461370057499,\n",
       " 6771.496750779296,\n",
       " 6868.216397446309,\n",
       " 6958.792514397026,\n",
       " 7050.416188683827,\n",
       " 7150.430238689743,\n",
       " 7244.618656832263,\n",
       " 7339.173462606255,\n",
       " 7447.639492088809,\n",
       " 7541.780886532126,\n",
       " 7647.3613046294,\n",
       " 7760.193959984848,\n",
       " 7867.663144108919,\n",
       " 7966.052136065864,\n",
       " 8075.337965466132,\n",
       " 8189.194522824049,\n",
       " 8299.364618081694]"
      ]
     },
     "execution_count": 22,
     "metadata": {},
     "output_type": "execute_result"
    }
   ],
   "source": [
    "cmv.totalCheckingAccountSeries"
   ]
  },
  {
   "cell_type": "code",
   "execution_count": 23,
   "id": "thorough-thesaurus",
   "metadata": {},
   "outputs": [
    {
     "data": {
      "text/plain": [
       "[-36.06896859712033,\n",
       " -76.58514355099385,\n",
       " -110.19234759446992,\n",
       " -143.3803344354828,\n",
       " -177.80923368596444,\n",
       " -207.95532390111075,\n",
       " -234.76502681955117,\n",
       " -253.82463650896682,\n",
       " -280.18486438689956,\n",
       " -303.5401720392312,\n",
       " -322.36855359947384,\n",
       " -337.5548706092674,\n",
       " -345.1167470223425,\n",
       " -357.48924575969886,\n",
       " -367.83800033389923,\n",
       " -374.8892563782275,\n",
       " -382.31963325671734,\n",
       " -386.3921728806268,\n",
       " -395.2195396565305,\n",
       " -403.92356380211055,\n",
       " -402.9369255453868,\n",
       " -408.12651431985086,\n",
       " -412.0470053004627,\n",
       " -406.0812676056525,\n",
       " -406.78960996698424,\n",
       " -403.08399196517263,\n",
       " -408.3783221838776,\n",
       " -396.55650263044197,\n",
       " -397.75242474684694,\n",
       " -390.0691720102472,\n",
       " -379.5664171153052,\n",
       " -376.5866855600275,\n",
       " -367.00785470461943,\n",
       " -349.42150123627187,\n",
       " -347.17109872675,\n",
       " -349.4746107344961,\n",
       " -346.85356999883334,\n",
       " -347.3826428831168,\n",
       " -335.34238529758244,\n",
       " -334.226500026445,\n",
       " -329.4295502790635,\n",
       " -324.18161038676107,\n",
       " -313.6833763716864,\n",
       " -307.47587910975926,\n",
       " -306.14597313615036,\n",
       " -290.8799866912586,\n",
       " -282.9480618295727,\n",
       " -283.21643252216523,\n",
       " -276.7872558162574,\n",
       " -269.2140178448182,\n",
       " -263.3145779657118,\n",
       " -251.19696847149723,\n",
       " -232.45615888836173,\n",
       " -222.6472934273138,\n",
       " -207.7053424899663,\n",
       " -183.48894974397496,\n",
       " -157.49207008698448,\n",
       " -137.6184408370927,\n",
       " -127.07494647626152,\n",
       " -113.98434399027832,\n",
       " -97.53763639167695,\n",
       " -78.5556340093894,\n",
       " -63.67109413074384,\n",
       " -48.246505052057095,\n",
       " -28.710035037158264,\n",
       " 2.827158704160304,\n",
       " 23.913736316385222,\n",
       " 72.89358484581241,\n",
       " 98.73259227346169,\n",
       " 136.71363352623734,\n",
       " 167.3948287529379,\n",
       " 184.068739263739,\n",
       " 216.52735083652823,\n",
       " 239.44094757957316,\n",
       " 267.221594551392,\n",
       " 297.37024202976164,\n",
       " 334.55236988667116,\n",
       " 366.58271576080614,\n",
       " 398.94232958813507,\n",
       " 443.4943390952661,\n",
       " 488.352555518074,\n",
       " 517.261182682819,\n",
       " 545.3507158400674,\n",
       " 581.1618753261178,\n",
       " 612.2442643040121,\n",
       " 646.6705649364371,\n",
       " 687.3092373460944,\n",
       " 725.454570425711,\n",
       " 756.2151219100799,\n",
       " 795.2460176069848,\n",
       " 838.9591698565483,\n",
       " 874.582641365124,\n",
       " 918.0966601900393,\n",
       " 952.9140752855668,\n",
       " 986.4436557605977,\n",
       " 1019.1352637225903,\n",
       " 1061.3150089718265,\n",
       " 1095.6726445661218,\n",
       " 1127.3420386517648,\n",
       " 1158.2649095322354]"
      ]
     },
     "execution_count": 23,
     "metadata": {},
     "output_type": "execute_result"
    }
   ],
   "source": [
    "cmv.totalBankAccountSeries"
   ]
  },
  {
   "cell_type": "code",
   "execution_count": 24,
   "id": "auburn-mainstream",
   "metadata": {},
   "outputs": [
    {
     "name": "stdout",
     "output_type": "stream",
     "text": [
      "4\n",
      "6\n"
     ]
    }
   ],
   "source": [
    "for anItem in cmv.bankList:\n",
    "    print(len(anItem.myWorkers))"
   ]
  },
  {
   "cell_type": "code",
   "execution_count": 25,
   "id": "biblical-vaccine",
   "metadata": {
    "scrolled": true
   },
   "outputs": [
    {
     "name": "stdout",
     "output_type": "stream",
     "text": [
      "74 [3, 7, 8, 9, 12, 14, 15, 17, 18, 19, 22, 23, 25, 26, 27, 29, 31, 32, 33, 34, 36, 37, 42, 44, 48, 52, 53, 55, 56, 57, 59, 61, 64, 66, 68, 69, 71, 72, 74, 77, 78, 85, 86, 87, 88, 89, 90, 93, 97, 100]\n",
      "74 [76, 70, 99, 38, 26]\n",
      "69 [1, 2, 4, 5, 6, 10, 11, 13, 16, 20, 21, 24, 28, 30, 35, 38, 39, 40, 41, 43, 45, 46, 47, 49, 50, 51, 54, 58, 60, 62, 63, 65, 67, 70, 73, 75, 76, 79, 80, 81, 82, 83, 84, 91, 92, 94, 95, 96, 98, 99]\n",
      "69 [41, 98, 63, 61, 57, 86, 64, 80]\n"
     ]
    }
   ],
   "source": [
    "for aBank in cmv.bankList:\n",
    "    print(aBank.num, list(aBank.myPrivateClients[i].num \\\n",
    "                          for i in range(len(aBank.myPrivateClients))))\n",
    "    print(aBank.num, list(aBank.myCommercialClients[i].num \\\n",
    "                          for i in range(len(aBank.myCommercialClients))))"
   ]
  },
  {
   "cell_type": "code",
   "execution_count": 26,
   "id": "timely-dairy",
   "metadata": {},
   "outputs": [
    {
     "name": "stdout",
     "output_type": "stream",
     "text": [
      "74 -4158.745069987662 0 -36.38094670879913 -98.9045972651427\n",
      "69 -4140.619548094029 0 -1414.6738745926896 -193.88531450411088\n"
     ]
    }
   ],
   "source": [
    "for aBank in cmv.bankList:\n",
    "    print(aBank.num, aBank.myDebtsVsAgents, aBank.myCreditsVsAgents,\\\n",
    "                     aBank.myDebtsVsFirms,  aBank.myCreditsVsFirms)  "
   ]
  },
  {
   "cell_type": "code",
   "execution_count": 27,
   "id": "intimate-church",
   "metadata": {},
   "outputs": [
    {
     "name": "stdout",
     "output_type": "stream",
     "text": [
      "74 -41.535901155410514 -10.989399696126966\n",
      "69 -55.002905175116034 -21.54281272267899\n"
     ]
    }
   ],
   "source": [
    "for aBank in cmv.bankList:\n",
    "    #aBank.computeAndApplyInterests()\n",
    "    print(aBank.num,aBank.interestOnDeposits,aBank.interestOnLoans)"
   ]
  },
  {
   "cell_type": "code",
   "execution_count": 28,
   "id": "novel-belfast",
   "metadata": {},
   "outputs": [
    {
     "data": {
      "text/plain": [
       "False"
      ]
     },
     "execution_count": 28,
     "metadata": {},
     "output_type": "execute_result"
    }
   ],
   "source": [
    "cmv.bankList[1].myEntrepreneur in cmv.bankList[1].myPrivateClients"
   ]
  },
  {
   "cell_type": "code",
   "execution_count": 30,
   "id": "tutorial-hamburg",
   "metadata": {},
   "outputs": [
    {
     "data": {
      "text/plain": [
       "4"
      ]
     },
     "execution_count": 30,
     "metadata": {},
     "output_type": "execute_result"
    }
   ],
   "source": [
    "len(cmv.bankList[0].myWorkers)"
   ]
  },
  {
   "cell_type": "code",
   "execution_count": null,
   "id": "acting-democrat",
   "metadata": {},
   "outputs": [],
   "source": []
  }
 ],
 "metadata": {
  "kernelspec": {
   "display_name": "Python 3",
   "language": "python",
   "name": "python3"
  },
  "language_info": {
   "codemirror_mode": {
    "name": "ipython",
    "version": 3
   },
   "file_extension": ".py",
   "mimetype": "text/x-python",
   "name": "python",
   "nbconvert_exporter": "python",
   "pygments_lexer": "ipython3",
   "version": "3.9.7"
  }
 },
 "nbformat": 4,
 "nbformat_minor": 5
}
