{
 "cells": [
  {
   "cell_type": "markdown",
   "id": "naval-nomination",
   "metadata": {},
   "source": [
    "# model02rp\n",
    "### Un altro passo: sono arrivate le banche e la banca centrale pure!\n",
    "#### Sempre in azione l'*Istituto Centrale di Statistica* con a fianco la *Banca d'Italia*\n",
    "\n",
    "use it in [Notebook viewer](https://nbviewer.org/github/terna/ejmmp/blob/main/model02/model02rp.ipynb) or explore it in [GitHub](https://github.com/terna/ejmmp/tree/main/model02) (with the tools.py and metaActions.py files)\n",
    "\n",
    "to force the update if missing, follow once [Notebook viewer and flush cache](https://nbviewer.org/github/terna/ejmmp/blob/main/model02/model02rp.ipynb?flush_cache=true)\n",
    "\n",
    "[Wikipedia as a memo](https://en.wikipedia.org/wiki/Stock-flow_consistent_model#cite_note-42)"
   ]
  },
  {
   "cell_type": "code",
   "execution_count": 1,
   "id": "latter-survey",
   "metadata": {
    "scrolled": true
   },
   "outputs": [
    {
     "data": {
      "application/javascript": [
       "// to avoid scroll in windows\n",
       "IPython.OutputArea.prototype._should_scroll = function(lines) {\n",
       "    return false;\n",
       "}\n"
      ],
      "text/plain": [
       "<IPython.core.display.Javascript object>"
      ]
     },
     "metadata": {},
     "output_type": "display_data"
    }
   ],
   "source": [
    "%%javascript\n",
    "// to avoid scroll in windows\n",
    "IPython.OutputArea.prototype._should_scroll = function(lines) {\n",
    "    return false;\n",
    "}"
   ]
  },
  {
   "cell_type": "code",
   "execution_count": 2,
   "id": "large-brooks",
   "metadata": {},
   "outputs": [],
   "source": [
    "%matplotlib inline\n",
    "import random as r\n",
    "import matplotlib.pyplot as plt\n",
    "import commonVar as cmv\n",
    "import numpy as np\n",
    "from tools import *\n",
    "from metaActions import *\n",
    "from generateSeeds import *\n",
    "from plot import *\n",
    "from initSeries import *\n",
    "import sys"
   ]
  },
  {
   "cell_type": "markdown",
   "id": "prostate-shadow",
   "metadata": {},
   "source": [
    "### Stock-flow *model02*, with real and financial elements\n",
    "\n",
    "- We observe both the real and monetary sides of the economy.\n",
    "\n",
    "  \n",
    "\n",
    "- We consider loans and deposits, with their interests.\n",
    "\n",
    "  \n",
    "\n",
    "- Enterprises have initial endowments.\n",
    "\n",
    "  \n",
    "\n",
    "- When agents abstein from consuming, their savings increase liquidity.\n",
    "\n",
    "  \n",
    "\n",
    "- Investments are uniquely for replacement, without technical progress.\n",
    "\n",
    "  \n",
    "\n",
    "- We use specific random sequences for both each agent and each function."
   ]
  },
  {
   "cell_type": "markdown",
   "id": "comparable-matthew",
   "metadata": {},
   "source": [
    "### symbol table\n",
    "\n",
    "[symbol table](https://oeis.org/wiki/List_of_LaTeX_mathematical_symbols) in $\\LaTeX$\n",
    "\n",
    "$a_i$ -  with $a_i \\in \\mathbf{A}$; agent number $N=|\\mathbf{A}|$, `agentList` and`agentNum`\n",
    "\n",
    "$a^e_i$ -  with $a^e_i \\in \\mathbf{A^e}$ and $\\mathbf{A^e} \\subset \\mathbf{A}$; employer number $N^e=|\\mathbf{A^e}|$ in range $[N^e_{min},N^e_{max}]$, `employerList`\n",
    "\n",
    "$\\mathbf{F}$ - firms' set, with $f_j \\in \\mathbf{F}$ being $N^f = |\\mathbf{F}|$,  with $N^f = |\\mathbf{F}| = |\\mathbf{A^e}|$ , `firmList`\n",
    "\n",
    "$\\mathbf{A}^w$ - working agents' set, being $\\mathbf{A}^w \\subseteq \\mathbf{A}$, with $N^w_{i,t}=|\\mathbf{A}^w_i|$ number of working agents employed by employer $i$ at time $t$, also including self-employed employers, with $a_i \\in \\mathbf{A}^e$\n",
    "\n",
    "$\\mathbf{B}$ - banks' set, with $b_j \\in \\mathbf{B}$ being $N^b = |\\mathbf{B}|$, `bankList`\n",
    "\n",
    "$x^d$ - interest rate on deposits, `interestRateOnDeposits`\n",
    "\n",
    "$x^{l^a}$ - interest rate on loans to (private) agents, `interestRateOnLoansVsAgents`\n",
    "\n",
    "$x^{l^f}$ - interest rate on loans to firms, `interestRateOnLoansVsFirms`\n",
    "\n",
    "$X^d_{a|f|b}$ - amount of positive interest on deposits for a given interval $t$ for agents $a$ or firms $f$, and negative for banks $b$, `interestOnDeposits`\n",
    "\n",
    "$X^l_{a|f|b}$ - amount of negative interest on loans for a given interval $t$ for agents $a$ or firms $f$, and positive for banks $b$, `interestOnLoans`\n",
    "\n",
    "$p$ - price `price`\n",
    "\n",
    "$u$ - unemployment rate `unemploymentRate`\n",
    "\n",
    "$dimensional~heterogeneity$ is a $true/false$ chooser, forcing increasing firms to attract more workers. `dimensionalHeterogeneity`\n",
    "\n",
    "$\\pi_{i,t}$ - labor productivity, a uniformly distributed decimal number in range $[\\pi_{min},\\pi_{max}]$,`productivity`\n",
    "\n",
    "$\\Delta\\pi_{i,t}$ - uniperiodal additive productivity correction in range $[\\Delta\\pi_{min},\\Delta\\pi_{max}]$, `productivityDelta`\n",
    "\n",
    "$q_{i,t}$ - production in quantity, `production`\n",
    "\n",
    "$\\Pi_{i,t}$ - profit, `profit`\n",
    "\n",
    "$\\rho$ - profit distribution share, `rho`\n",
    "\n",
    "$\\delta_{i,t}$ - dividend $\\rho\\Pi_{i,t}$, `dividend` or `perceivedDividend` \n",
    "\n",
    "$W$ - wage `wage`\n",
    "\n",
    "$R_{i,t}$ - revenues, `revenues`, including both sales revenues, `salesRevenues`, and active interests \n",
    "\n",
    "$s_{i,t}$ - sales in quantity, `sales`\n",
    "\n",
    "$v_{i,t}$ - in**v**entories (final, initial), `initialInventories`, `finalInventories`\n",
    "\n",
    "$d_{i}$ - deperibility share of the production, `deperibilityShare`, setting $d_{max}$\n",
    "\n",
    "$c_{i,t}$ - consumption rate, a uniformly distributed decimal number in range $[c_{min},c_{max}]$,`consumptionRate`\n",
    "\n",
    "$C_{i,t}$ - consumption of $i$ in $t$\n",
    "\n",
    "$I_{i,t}$  - investment plan  of $i$ in $t$, a uniformly distributed realization in range $[I_{min},I_{max}]$,`investmentProgram`\n",
    "\n",
    "$\\lambda$ -parameter limiting the investment plan, in $I_{i,t} \\le \\lambda\\Pi_{i,t-1}$ , `Lambda`\n",
    "\n",
    "$H_{i,t}$  - high powered money (cash) held by individuals (also acting as employers), `cashMoney`\n",
    "\n",
    "$M1_{i,t}$ - checking account money deposits held by  $a_i$ at time $t$, `checkingAccount`\n",
    "\n",
    "$M1^f_{i,t}$ - firm's bank account (with positive or negative balance), `bankAccount`\n",
    "\n",
    "$M1^b_{i,t}$ - bank's account (with positive or negative balance) mantained with the central bank , `centralBankAccount`\n",
    "\n",
    "$\\alpha$ - parameter determining the mean of the random normal distribution of the initial endowments of both firms and banks as $\\alpha N^w_i$, being $i$ a firm or a bank, `alphaF` or `alphaB`\n",
    "\n",
    "$\\beta$ - parameter determining the standard deviation $\\sigma$ of the random normal distribution of the initial endowments of both firms and banks, with $\\sigma=\\frac{\\alpha}{\\beta}N^w_i$, being $i$ a firm or a bank, `beta`\n",
    "\n",
    "the investment and consumption actions are repeated in each cycle, looking around randomly for the sellers; currently `nOfConsumptionActions` $=30$ and `nOfInvestmentActions`$=10$; each consumption buy action is at maximum the 20% of the planned consumptions in that cycle; instead, each investment buy action can reach the whole amount of the investment program of the cycle; each buy action is limited by the residual capabilty of the seller\n",
    "\n",
    "**magically**, the same good can be a consumption item or an investment one\n",
    "\n",
    "$T$ - number of cycles `ncycles`\n",
    "\n",
    "$t$ - current cycle `cycle`\n"
   ]
  },
  {
   "cell_type": "markdown",
   "id": "broke-marathon",
   "metadata": {},
   "source": [
    "## agent structure\n",
    "\n",
    "The structure of an **agent**: it can represent an entrepreneur, a worker, an unemployed person.\n",
    "\n",
    "When an agent is created, the **initialization process** defines:\n",
    "\n",
    "- its numerical id, `num`\n",
    "- its entrepreneur status, `entrepreneur`, set to $false$\n",
    "- the id of its employer, `myEmployer`, set to $0$\n",
    "- if entrepreneur, the id of its firm, `myFirm`, set to $0$\n",
    "- $c_{i,0}$ - consumption rate, set to $0$\n",
    "- $H_{i,0}$ - cash money, set to $0$ \n",
    "- $M1_{i,0}$ - checking account money deposits, set to $0$\n",
    "\n",
    "## firm structure\n",
    "\n",
    "- $R_{i,0}$ - `revenues`, initial value  $0$\n",
    "- $s_{i,0}$ - `sales`, initial value  $0$\n",
    "- $v^i_{i,0}$ - in**v**entories, `initialInventories`, set to $0$ \n",
    "- $v^f_{i,0}$ - in**v**entories, `finalInventories`, set to $0$ \n",
    "- $d_{i}$ - deperibility share, a uniformly distributed decimal number in range $[0,d_{max}]$,`deperibilityShare`\n",
    "- $I_{i,0}$  - investment plan, set to $0$\n",
    "- $\\Pi_{i,0}$ - profit, set to $0$, being the related dividend $D_{i,0}$, set to $0$\n",
    "- $M1^f_{i,0}$ - firm's bank account, set to $0$\n",
    "- $\\pi_{i,t-1}$ set within the initialization step\n",
    "\n",
    "## bank structure\n",
    "\n",
    "- $R_{i,0}$ - `revenues`, initial value  $0$\n",
    "- $I_{i,0}$  - investment plan, set to $0$\n",
    "- $\\Pi_{i,0}$ - profit, set to $0$, being the related dividend $D_{i,0}$, set to $0$\n",
    "- $M1^b_{i,0}$ - bank's account mantained with the central bank, set to $0$\n",
    "- $\\pi_{i,t-1}$ set within the initialization step\n",
    "\n",
    "\n",
    "\n",
    "each **agent** has the **functions**:\n",
    "\n",
    "- **buyConsumptionGoods** \n",
    "\n",
    "  $C_{i,t}=c_{i,t} (W+D_{i,t-1}+X^d_{i,t-1}-X^l_{i,t-1})$; using $D_{i,t-1},X^d_{i,t-1},X^l_{i,t-1}$ we introduce lags with (possible) cyclical effect\n",
    "\n",
    "  being $bu$ the buyer and $se$ the seller (firm), for each fraction $C_{i,t}/k$ \n",
    "\n",
    "  ($k$ is the number of buying actions in each cycle with random share [0,`maxConsumptionShareInSubstep`))\n",
    "\n",
    "  $\\Delta M1^f_{se,t}=C_{bu,t}/k$\n",
    "\n",
    "  $\\Delta M1_{bu,t}=-C_{bu,t}/k$\n",
    "\n",
    "\n",
    "\n",
    "\n",
    "each **firm** has the **functions**:\n",
    "\n",
    "- **produce** function (production in quantity), with:\n",
    "\n",
    "  $\\pi_{i,t}=\\pi_{i,t-1}+\\Delta\\pi_{i,t}$\n",
    "\n",
    "  $q_{i,t}=N^w_{i,t} \\pi_{i,t}$\n",
    "\n",
    "  \n",
    "\n",
    "- **payWages**\n",
    "\n",
    "  paying $W$ to each worker in each time $t$\n",
    "\n",
    "  $\\Delta M1_{i,t}=W$ for  $a_i \\in \\mathbf{A}^w$ \n",
    "\n",
    "  $\\Delta M1^f_{i,t}=-W \\mathbf{N}^w_i$ for $a_i \\in \\mathbf{A}^e$ \n",
    "\n",
    "  \n",
    "\n",
    "- **buyInvestmentGoods**\n",
    "\n",
    "  $I_{j,t}$ for $f_j \\in \\mathbf{F}$  ($I_{j,t}$ is exogenously set), , with $I_{i,t} \\le \\lambda\\Pi_{i,t-1}$, being $\\lambda\\Pi_{i,t-1}$ a proxy of investment sustainability, introducing a lag with (possible) cyclical effect\n",
    "\n",
    "  being $bu$ the buyer (firm) and $se$ the seller (firm), for each fraction $I_{j,t}/k$\n",
    "\n",
    "  ($k$ is the number of investment actions in each cycle, with random share [0,`maxInvestmentShareInSubstep`))\n",
    "\n",
    "  $\\Delta M1^f_{se,t}=I_{bu,t}/k$\n",
    "\n",
    "  $\\Delta M1^f_{bu,t}=-I_{bu,t}/k$\n",
    "\n",
    "  \n",
    "\n",
    "- **makeBalanceSheet**\n",
    "\n",
    "  $v^f_{i,t}=v^i_{i,t}+(q_{i,t}-s_{i,t}) (1 - d_{i})$\n",
    "\n",
    "  $R_{i,t}=p s_{i,t}+X^d_{i,t}$\n",
    "\n",
    "  $\\Pi_{i,t}=R_{i,t}-W N^w_{i,t}-X^l_{i,t}+p(v^f_{i,t}-v^i_{i,t})$\n",
    "\n",
    "  reordering, we have:\n",
    "\n",
    "  $\\underbrace{\\Pi_{i,t}+W N^w_{i,t}+X^l_{i,t}}_{\\textrm{direct added value}}=\\underbrace{R_{i,t}+p(v^f_{i,t}-v^i_{i,t})}_{\\textrm{indirect added value (*)}}$\n",
    "\n",
    "  (*) the cost of bought-in materials and components is missing by construction in this version of the model\n",
    "\n",
    "- **distributeDividend**\n",
    "\n",
    "  $\\delta_{i,t}=\\rho\\Pi_{i,t}$​\n",
    "\n",
    "  $\\Delta M1_{i,t}=\\delta_{i,t}$\n",
    "\n",
    "  $\\Delta M1^f_{i,t}=-\\delta_{i,t}$\n",
    "\n",
    "  \n",
    "\n",
    "each **bank** has the **functions**:\n",
    "\n",
    "- **produce** function (production of bank services in quantity), analogously with the firm one\n",
    "\n",
    "  \n",
    "\n",
    "- **payWages**\n",
    "\n",
    "  paying $W$ to each worker in each time $t$\n",
    "\n",
    "  $\\Delta M1_{i,t}=W$ for  $a_i \\in \\mathbf{A}^w$ \n",
    "\n",
    "  $\\Delta M1^f_{i,t}=-W \\mathbf{N}^w_i$ for $a_i \\in \\mathbf{A}^e$\n",
    "\n",
    "  \n",
    "\n",
    "- **buyInvestmentGoods**\n",
    "\n",
    "  $I_{j,t}$ for $f_j \\in \\mathbf{F}$  ($I_{j,t}$ is exogenously set), , with $I_{i,t} \\le \\lambda\\Pi_{i,t-1}$, being $\\lambda\\Pi_{i,t-1}$ a proxy of investment sustainability, introducing a lag with (possible) cyclical effect\n",
    "\n",
    "  being $bu$ the buyer (firm) and $se$ the seller (firm), for each fraction $I_{j,t}/k$\n",
    "\n",
    "  ($k$ is the number of investment actions in each cycle, with random share [0,`maxInvestmentShareInSubstep`))\n",
    "\n",
    "  $\\Delta M1^f_{se,t}=I_{bu,t}/k$\n",
    "\n",
    "  $\\Delta M1^b_{bu,t}=-I_{bu,t}/k$\n",
    "\n",
    "  \n",
    "\n",
    "- **distributeDividend**\n",
    "\n",
    "  $\\delta_{i,t}=\\rho\\Pi_{i,t}$​​\n",
    "\n",
    "  $\\Delta M1_{i,t}=\\delta_{i,t}$\n",
    "\n",
    "  $\\Delta M1^b_{i,t}=-\\delta_{i,t}$\n",
    "\n",
    "  \n",
    "\n",
    "- **makeBalanceSheet**, with:\n",
    "\n",
    "  being $d_{i}=1$ we have $v^f_{i,t}=v^i_{i,t}=0$\n",
    "\n",
    "  $R_{i,t}=p s_{i,t}+\\sum_{a_i}X^l_{i,t}+\\sum_{f_i}X^l_{i,t}$\n",
    "\n",
    "  $\\Pi_{i,t}=R_{i,t}-W N^w_{i,t}-\\sum_{a_i}X^d_{i,t}-\\sum_{f_i}X^d_{i,t}$\n",
    "\n",
    "  reordering, we have:\n",
    "\n",
    "  $\\underbrace{\\Pi_{i,t}+W N^w_{i,t}+\\sum_{a_i}X^d_{i,t}}_{\\textrm{direct added value}}=\\underbrace{R_{i,t}-\\sum_{f_i}X^d_{i,t}}_{\\textrm{indirect added value (*)}}$\n",
    "\n",
    "  (*) the cost of bought-in materials and components is missing by construction in this version of the model, excepted the interests on deposits paid to firms\t\t\n",
    "\n",
    "  \n",
    "\n",
    "- Every time we observe a transaction between an agent (or a firm) and its bank, we record the corresponding financial flow on the checking account (or bank account) of the agent (or firm) and on that mantained by the bank with the central bank \n"
   ]
  },
  {
   "cell_type": "code",
   "execution_count": 3,
   "id": "found-bibliography",
   "metadata": {
    "scrolled": false
   },
   "outputs": [],
   "source": [
    "class Agent():\n",
    "    def __init__(self, num,r,seed):\n",
    "        self.num=num\n",
    "        self.entrepreneur=False\n",
    "        #self.myFirm=0\n",
    "        self.myEnterprise=0\n",
    "        self.myEmployer=0\n",
    "        self.consumptionRate=0\n",
    "        self.cashMoney=0\n",
    "        self.checkingAccount=0\n",
    "        self.perceivedWage=0\n",
    "        self.perceivedDividend=0\n",
    "        self.myBank=0\n",
    "        self.interestOnDeposits=0\n",
    "        self.interestOnLoans=0\n",
    "        self.r=r.Random()\n",
    "        self.r.seed(seed)\n",
    "        self.myFirmBankList=[]\n",
    "\n",
    "    def buyConsumptionGoods(self,k):\n",
    "        if k==0: \n",
    "            self.consumptionRate=self.r.uniform(cmv.consumptionRateMin,cmv.consumptionRateMax)\n",
    "            self.consumption=(self.perceivedWage+self.perceivedDividend+\\\n",
    "                self.interestOnDeposits-self.interestOnLoans)*self.consumptionRate\n",
    "            if self.consumption < 0: self.consumption=0 \n",
    "\n",
    "            self.interestOnDeposits=0\n",
    "            self.interestOnLoans=0\n",
    "            self.perceivedWage=0\n",
    "            self.perceivedDividend=0\n",
    "            self.madeConsumption=0\n",
    "        \n",
    "        if self.myFirmBankList==[]: self.myFirmBankList=cmv.firmList+cmv.bankList\n",
    "        self.r.shuffle(self.myFirmBankList)\n",
    "        mySeller=self.myFirmBankList[0]\n",
    "        self.purchase=self.r.uniform(0,cmv.maxConsumptionShareInSubstep)*self.consumption \n",
    "                            # mean value should be calibrated with thenumber of buy action\n",
    "        self.purchase=min(self.purchase,self.consumption-self.madeConsumption)\n",
    "        self.purchase=min(self.purchase,cmv.price*(mySeller.production+\\\n",
    "                                        mySeller.initialInventories-mySeller.sales))\n",
    "        mySeller.sales+=self.purchase/cmv.price\n",
    "        if mySeller.__class__.__name__==\"Firm\": mySeller.myBank.creditingBankAccount(mySeller,self.purchase)\n",
    "        #if mySeller.__class__.__name__==\"Firm\": mySeller.bankAccount+=self.purchase\n",
    "        if mySeller.__class__.__name__==\"Bank\": \\\n",
    "                                    mySeller.creditingCentralBankAccount(self.purchase) #mySeller is a bank\n",
    "        #if mySeller.__class__.__name__==\"Bank\": mySeller.centralBankAccount+=self.purchase\n",
    "        self.myBank.debitingCheckingAccount(self,self.purchase)\n",
    "        #self.checkingAccount-=self.purchase\n",
    "        self.madeConsumption+=self.purchase\n",
    "    \n"
   ]
  },
  {
   "cell_type": "code",
   "execution_count": 65,
   "id": "dirty-nevada",
   "metadata": {},
   "outputs": [],
   "source": [
    "class Firm():\n",
    "    def __init__(self, num, r,seed):\n",
    "        self.num=num\n",
    "        self.myWorkers=[]\n",
    "        self.myEntrepreneur=0\n",
    "        self.productivity=0\n",
    "        self.initialInventories=0\n",
    "        self.finalInventories=0\n",
    "        self.bankAccount=0\n",
    "        self.bankAccountTminus1=0\n",
    "        self.salesRevenues=0 #sales*price\n",
    "        self.revenues=0\n",
    "        self.sales=0\n",
    "        self.deperibilityShare=r.uniform(0,cmv.maxDeperibilityShare)\n",
    "        self.investmentProgram=0\n",
    "        self.profit=0\n",
    "        self.madeInvestment=0\n",
    "        self.interestOnDeposits=0\n",
    "        self.interestOnLoans=0\n",
    "        self.addedValue=0\n",
    "        self.myBank=0\n",
    "        self.r=r.Random()\n",
    "        self.r.seed(seed)\n",
    "        \n",
    "    def copyBankAccountBalance(self):\n",
    "        self.bankAccountTminus1=self.bankAccount\n",
    "        \n",
    "    def produce(self):\n",
    "        # clean interests values while starting this cycle\n",
    "        self.interestOnLoans=0\n",
    "        self.interestOnDeposits=0\n",
    "        \n",
    "        self.initialInventories=self.finalInventories\n",
    "        self.productivity+=self.r.uniform(cmv.productivityDeltaMin,cmv.productivityDeltaMax)\n",
    "        self.productivity=max(self.productivity,0)\n",
    "        \n",
    "        self.production=len(self.myWorkers)*self.productivity\n",
    "        self.sales=0\n",
    "\n",
    "    def payWages(self):\n",
    "        for anAgent in self.myWorkers:\n",
    "            anAgent.perceivedWage=cmv.wage\n",
    "            anAgent.myBank.creditingCheckingAccount(anAgent,cmv.wage)\n",
    "            #anAgent.checkingAccount+=cmv.wage\n",
    "            #anAgent.myBank.centralBankAccount+=cmv.wage\n",
    "        self.myBank.debitingBankAccount(self,cmv.wage*len(self.myWorkers))\n",
    "        #self.bankAccount-=cmv.wage*len(self.myWorkers)\n",
    "        #self.myBank.centralBankAccount-=cmv.wage*len(self.myWorkers)\n",
    "            \n",
    "    def buyInvestmentGoods(self,k):\n",
    "        if k==0: \n",
    "            profitControl=max(0,self.profit)\n",
    "            self.investmentProgram=\\\n",
    "                 min(r.uniform(cmv.investmentMin,cmv.investmentMax),cmv.Lambda*profitControl)\n",
    "            self.madeInvestment=0\n",
    "                       \n",
    "        self.r.shuffle(cmv.firmList)\n",
    "        mySeller=cmv.firmList[0]\n",
    "        self.myInvestment=self.r.uniform(0,cmv.maxInvestmentShareInSubstep)*self.investmentProgram\n",
    "        self.myInvestment=min(self.myInvestment,cmv.price*(mySeller.production+\\\n",
    "                              mySeller.initialInventories-mySeller.sales))\n",
    "        mySeller.sales+=self.myInvestment/cmv.price\n",
    "        mySeller.bankAccount+=self.myInvestment\n",
    "        \n",
    "        self.bankAccount-=self.myInvestment\n",
    "        self.investmentProgram-=self.myInvestment\n",
    "        self.madeInvestment+=self.myInvestment\n",
    "        \n",
    "    def makeBalanceSheet(self):\n",
    "        self.lostProduction=0\n",
    "        if self.production - self.sales > 0: \n",
    "            self.lostProduction=(self.production - self.sales)*self.deperibilityShare\n",
    "        #print(self.num, lostProduction,self.productivity)\n",
    "        self.finalInventories=self.initialInventories+self.production-\\\n",
    "                              self.sales-self.lostProduction\n",
    "        self.salesRevenues=self.sales*cmv.price\n",
    "        self.revenues=self.salesRevenues+self.interestOnDeposits\n",
    "        self.profit=self.revenues - len(self.myWorkers)*cmv.wage\\\n",
    "          - self.interestOnLoans + \\\n",
    "          (self.finalInventories-self.initialInventories)*cmv.price\n",
    "        self.addedValue=self.profit+self.interestOnLoans+len(self.myWorkers)*cmv.wage\n",
    "        \n",
    "    def distributeDividend(self):\n",
    "        if self.profit > 0:\n",
    "            dividend=cmv.rho*self.profit\n",
    "            self.myEntrepreneur.perceivedDividend=dividend        \n",
    "            self.myEntrepreneur.myBank.creditingCheckingAccount(self.myEntrepreneur,dividend)\n",
    "            #self.myEntrepreneur.checkingAccount+=dividend\n",
    "            #self.myEntrepreneur.myBank.centralBankAccount+=dividend\n",
    "            self.myBank.debitingBankAccount(self,dividend)\n",
    "            #self.bankAccount-=dividend\n",
    "            #self.myBank.centralBankAccount-=dividend\n"
   ]
  },
  {
   "cell_type": "code",
   "execution_count": 5,
   "id": "exposed-produce",
   "metadata": {},
   "outputs": [],
   "source": [
    "class Bank(Firm):\n",
    "    def __init__(self, num, r,seed):\n",
    "        super().__init__(num,r,seed)\n",
    "        self.myPrivateClients=[]\n",
    "        self.myCommercialClients=[]\n",
    "        self.myDebtsVsAgents=0\n",
    "        self.myDebtsVsFirms=0\n",
    "        self.myCreditsVsAgents=0\n",
    "        self.myCreditsVsFirms=0\n",
    "        self.centralBankAccount=0\n",
    "        \n",
    "        del self.bankAccount\n",
    "        del self.bankAccountTminus1\n",
    "        del self.myBank\n",
    "        \n",
    "        self.myPrivateClientsTotalInterestOnDeposits=0\n",
    "        self.myPrivateClientsTotalInterestOnLoans=0\n",
    "        self.myCommercialClientsTotalInterestOnDeposits=0\n",
    "        self.myCommercialClientsTotalInterestOnLoans=0\n",
    "\n",
    "        self.r=r.Random()\n",
    "        self.r.seed(seed)\n",
    "\n",
    "        \n",
    "    def creditingCheckingAccount(self,aClient,amount): # agents' accounts\n",
    "        aClient.checkingAccount+=amount\n",
    "        self.centralBankAccount+=amount\n",
    "        \n",
    "    def debitingCheckingAccount(self,aClient,amount): # agents' accounts\n",
    "        aClient.checkingAccount-=amount\n",
    "        self.centralBankAccount-=amount\n",
    "        \n",
    "    def creditingBankAccount(self,aClient,amount): # firms' accounts\n",
    "        aClient.bankAccount+=amount\n",
    "        self.centralBankAccount+=amount\n",
    "\n",
    "    def debitingBankAccount(self,aClient,amount): # firms' accounts\n",
    "        aClient.bankAccount-=amount\n",
    "        self.centralBankAccount-=amount\n",
    "        \n",
    "    def creditingCentralBankAccount(self,amount):\n",
    "        self.centralBankAccount+=amount\n",
    "\n",
    "    def payWages(self):\n",
    "        for anAgent in self.myWorkers:\n",
    "            anAgent.perceivedWage=cmv.wage\n",
    "            anAgent.myBank.creditingCheckingAccount(anAgent,cmv.wage)\n",
    "            #anAgent.checkingAccount+=cmv.wage\n",
    "            #anAgent.myBank.centralBankAccount+=cmv.wage\n",
    "        self.centralBankAccount-=cmv.wage*len(self.myWorkers)\n",
    "\n",
    "        \n",
    "    def buyInvestmentGoods(self,k):\n",
    "        if k==0: \n",
    "            profitControl=max(0,self.profit)\n",
    "            self.investmentProgram=\\\n",
    "                 min(r.uniform(cmv.investmentMin,cmv.investmentMax),cmv.Lambda*profitControl)\n",
    "            self.madeInvestment=0\n",
    "                       \n",
    "        self.r.shuffle(cmv.firmList)\n",
    "        mySeller=cmv.firmList[0]\n",
    "        self.myInvestment=self.r.uniform(0,cmv.maxInvestmentShareInSubstep)*self.investmentProgram\n",
    "        self.myInvestment=min(self.myInvestment,cmv.price*(mySeller.production+\\\n",
    "                              mySeller.initialInventories-mySeller.sales))\n",
    "        mySeller.sales+=self.myInvestment/cmv.price\n",
    "        mySeller.bankAccount+=self.myInvestment\n",
    "        \n",
    "        self.centralBankAccount-=self.myInvestment\n",
    "        self.investmentProgram-=self.myInvestment\n",
    "        self.madeInvestment+=self.myInvestment\n",
    "\n",
    "        \n",
    "    def makeBalanceSheet(self):\n",
    "        self.lostProduction=0\n",
    "        #if self.production - self.sales > 0: \n",
    "        #    self.lostProduction=self.production - self.sales\n",
    "        self.finalInventories=0\n",
    "        self.salesRevenues=self.sales*cmv.price\n",
    "        self.revenues=self.salesRevenues + self.myPrivateClientsTotalInterestOnLoans\\\n",
    "                                         + self.myCommercialClientsTotalInterestOnLoans\n",
    "\n",
    "        self.profit=self.revenues - len(self.myWorkers)*cmv.wage\\\n",
    "           - self.myPrivateClientsTotalInterestOnDeposits - self.myCommercialClientsTotalInterestOnDeposits\n",
    "\n",
    "        self.addedValue=self.profit+len(self.myWorkers)*cmv.wage\\\n",
    "          - self.myPrivateClientsTotalInterestOnLoans - self.myCommercialClientsTotalInterestOnLoans \\\n",
    "          + self.myPrivateClientsTotalInterestOnDeposits \n",
    "        \n",
    "\n",
    "    def distributeDividend(self):\n",
    "        if self.profit > 0:\n",
    "            dividend=cmv.rho*self.profit\n",
    "            self.myEntrepreneur.perceivedDividend=dividend        \n",
    "            self.myEntrepreneur.myBank.creditingCheckingAccount(self.myEntrepreneur,dividend)\n",
    "            #self.myEntrepreneur.checkingAccount+=dividend\n",
    "            #self.myEntrepreneur.myBank.centralBankAccount+=dividend\n",
    "            self.centralBankAccount-=dividend\n",
    "\n",
    "            \n",
    "    def computeAndApplyInterests(self):\n",
    "\n",
    "        #interest are always calculate as positive values, then we add or subctract them \n",
    "        #to and from the accounts and we add them to revenues or costs\n",
    "        \n",
    "        for aPrivateClient in self.myPrivateClients:\n",
    "            if aPrivateClient.checkingAccount >=0:\n",
    "                interests=aPrivateClient.checkingAccount*cmv.interestRateOnDeposits\n",
    "                aPrivateClient.checkingAccount+=interests\n",
    "                aPrivateClient.interestOnDeposits=interests\n",
    "                \n",
    "            else: #aPrivateClient.checkingAccount < 0\n",
    "                interests=abs(aPrivateClient.checkingAccount*cmv.interestRateOnLoansVsAgents)\n",
    "                aPrivateClient.checkingAccount-=interests\n",
    "                aPrivateClient.interestOnLoans=interests\n",
    "               \n",
    "        for aCommercialClient in self.myCommercialClients:\n",
    "            if aCommercialClient.bankAccount >=0:\n",
    "                interests=aCommercialClient.bankAccount*cmv.interestRateOnDeposits\n",
    "                aCommercialClient.bankAccount+=interests\n",
    "                aCommercialClient.interestOnDeposits=interests\n",
    "\n",
    "            else: #aCommercialClient.bankAccount < 0\n",
    "                interests=abs(aCommercialClient.bankAccount*cmv.interestRateOnLoansVsFirms)\n",
    "                aCommercialClient.bankAccount-=interests\n",
    "                aCommercialClient.interestOnLoans=interests\n",
    "                \n",
    "        self.myPrivateClientsTotalInterestOnDeposits=\\\n",
    "                 sum(list(self.myPrivateClients[i].interestOnDeposits for i \\\n",
    "                 in range(len(self.myPrivateClients))))\n",
    "        \n",
    "        self.myPrivateClientsTotalInterestOnLoans=\\\n",
    "                 sum(list(self.myPrivateClients[i].interestOnLoans    for i \\\n",
    "                 in range(len(self.myPrivateClients))))\n",
    "        \n",
    "        self.myCommercialClientsTotalInterestOnDeposits=\\\n",
    "                 sum(list(self.myCommercialClients[i].interestOnDeposits for i \\\n",
    "                 in range(len(self.myCommercialClients))))\n",
    "        \n",
    "        self.myCommercialClientsTotalInterestOnLoans=\\\n",
    "                 sum(list(self.myCommercialClients[i].interestOnLoans    for i \\\n",
    "                 in range(len(self.myCommercialClients))))\n",
    "        \n",
    "    def makeFinancialAccounts(self):\n",
    "        self.myDebtsVsAgents=0\n",
    "        self.myDebtsVsFirms=0\n",
    "        self.myCreditsVsAgents=0\n",
    "        self.myCreditsVsFirms=0\n",
    "\n",
    "        for aPrivateClient in  self.myPrivateClients:\n",
    "            if aPrivateClient.checkingAccount>=0: \\\n",
    "                self.myDebtsVsAgents+=aPrivateClient.checkingAccount\n",
    "            if aPrivateClient.checkingAccount<0: \\\n",
    "                self.myCreditsVsAgents+=aPrivateClient.checkingAccount\n",
    "        for aCommercialClient in  self.myCommercialClients:\n",
    "            if aCommercialClient.bankAccount>=0: \\\n",
    "                self.myDebtsVsFirms+=aCommercialClient.bankAccount\n",
    "            if aCommercialClient.bankAccount<0: \\\n",
    "                self.myCreditsVsFirms+=aCommercialClient.bankAccount\n",
    "        \n",
    "        "
   ]
  },
  {
   "cell_type": "markdown",
   "id": "given-bangkok",
   "metadata": {},
   "source": [
    "### agent setup\n",
    "\n",
    "- agent basic creation\n",
    "\n",
    "  \n",
    "\n",
    "- creation of entrepreneur list\n",
    "\n",
    "  \n",
    "\n",
    "- selecting entrepreneurs and creating their firms or their banks\n",
    "\n",
    "  \n",
    "\n",
    "- with a given (heterogeneous) productivity\n",
    "\n",
    "  \n",
    "\n",
    "- linking the firm or the bank to its entrepreneur, considering the entrepreneur itself as a worker in its firm or bank\n",
    "\n",
    "  \n",
    "\n",
    "- creation of a temporary workforce list of to-be-employed agent, escluding entrepreneurs (already self employed)\n",
    "\n",
    "  \n",
    "\n",
    "- applying the unemployement rate to exclude agents\n",
    "\n",
    "  \n",
    "\n",
    "- assigning workforce (to-be-employed agents) to firms or banks, with a reinforcement mechanism, gradually giving more attraction/hiring capability to firms or banks growing the most\n",
    "\n",
    "  \n",
    "\n",
    "- assigning agents and firms to banks in a random way\n",
    "\n",
    "  \n",
    "\n",
    "- endowments provided to the enterprises are proportional to the initial workforce, being extracted from a random-normal distribution with $\\mu=\\alpha N^w_i$ and $\\sigma=\\frac{\\alpha}{\\beta}N^w_i$ (substituting $\\alpha$ with $\\alpha^f$ for the firms, or with $\\alpha^b$ for the banks)"
   ]
  },
  {
   "cell_type": "code",
   "execution_count": 6,
   "id": "weekly-jordan",
   "metadata": {},
   "outputs": [],
   "source": [
    "def setup(r,seed):\n",
    "    \n",
    "    seedManager(r,seed,'setup',setup)\n",
    "    \n",
    "    #print(r.random(),setup.r.random())\n",
    "        \n",
    "    cmv.agentList=[]\n",
    "    for n in range(cmv.agentNum):\n",
    "        anAgent=Agent(n+1,r,cmv.agentSeedList[n])\n",
    "        cmv.agentList.append(anAgent)\n",
    "        \n",
    "    # creation of: entrepreneur list; firm list; bank list\n",
    "    cmv.entrepreneurNum=setup.r.randint(cmv.entrepreneurMin, cmv.entrepreneurMax)\n",
    "    cmv.bankNum=setup.r.randint(cmv.bankMin, cmv.bankMax)\n",
    "    \n",
    "    cmv.entrepreneurList=[]\n",
    "    cmv.firmList=[]\n",
    "    cmv.bankList=[]\n",
    "    entrepreneurCandidates=cmv.agentList.copy()\n",
    "\n",
    "    for n in range(cmv.entrepreneurNum):\n",
    "        \n",
    "        i=setup.r.randint(0,len(entrepreneurCandidates)-1)\n",
    "        \n",
    "        entrepreneurCandidates[i].entrepreneur=True\n",
    "\n",
    "        if len(cmv.bankList) < cmv.bankNum:\n",
    "            newEnterprise=Bank(entrepreneurCandidates[i].num,\\\n",
    "                               r,cmv.bankSeedList[len(cmv.bankList)])\n",
    "        else:\n",
    "            newEnterprise=Firm(entrepreneurCandidates[i].num,\\\n",
    "                               r,cmv.firmSeedList[len(cmv.firmList)])\n",
    "\n",
    "        entrepreneurCandidates[i].myEnterprise=newEnterprise\n",
    "        entrepreneurCandidates[i].myEmployer=newEnterprise\n",
    "        newEnterprise.myEntrepreneur=entrepreneurCandidates[i]\n",
    "        newEnterprise.myWorkers.append(entrepreneurCandidates[i])\n",
    "        newEnterprise.productivity=\\\n",
    "                setup.r.uniform(cmv.productivityMin,cmv.productivityMax)\n",
    "        cmv.entrepreneurList.append(entrepreneurCandidates.pop(i))\n",
    "        if newEnterprise.__class__.__name__==\"Bank\": cmv.bankList.append(newEnterprise)\n",
    "        if newEnterprise.__class__.__name__==\"Firm\": cmv.firmList.append(newEnterprise)\n",
    "\n",
    "    cmv.firmNum=len(cmv.firmList)\n",
    "    \n",
    "    # creation of workforce list\n",
    "    toBeEmployed=[]\n",
    "\n",
    "    for anAgent in cmv.agentList:\n",
    "        if not anAgent.entrepreneur: toBeEmployed.append(anAgent)\n",
    "    for k in range(round(cmv.unemploymentRate*cmv.agentNum)):\n",
    "        toBeEmployed.pop(setup.r.randint(0,len(toBeEmployed)))\n",
    "    #len(toBeEmployed)\n",
    "\n",
    "    # assigning workforce to firms and banks\n",
    "    tmpEnterpriseListWithDuplications=cmv.firmList+cmv.bankList\n",
    "    for anAgent in toBeEmployed:\n",
    "        choice=setup.r.choice(tmpEnterpriseListWithDuplications)\n",
    "        anAgent.myEmployer=choice\n",
    "        choice.myWorkers.append(anAgent)\n",
    "        if cmv.dimensionalHeterogeneity: tmpEnterpriseListWithDuplications.append(choice)\n",
    "            \n",
    "            \n",
    "    # assigning agents to firms and banks\n",
    "    \n",
    "    if len(cmv.bankList)>0:\n",
    "        for anAgent in cmv.agentList:\n",
    "            anAgent.myBank=setup.r.choice(cmv.bankList)\n",
    "            anAgent.myBank.myPrivateClients.append(anAgent)\n",
    "            \n",
    "        for aFirm in cmv.firmList:\n",
    "            aFirm.myBank=setup.r.choice(cmv.bankList)\n",
    "            aFirm.myBank.myCommercialClients.append(aFirm)\n",
    "\n",
    "    # assigning endowments to firms and banks\n",
    "\n",
    "    cmv.totalInitFirmEndowments=0\n",
    "    for aFirm in cmv.firmList:\n",
    "        aFirm.bankAccount=setup.r.gauss(cmv.alphaF*len(aFirm.myWorkers),\\\n",
    "                                       (cmv.alphaF/cmv.beta)*len(aFirm.myWorkers))\n",
    "        cmv.totalInitFirmEndowments+=aFirm.bankAccount  \n",
    "        aFirm.initEn=aFirm.bankAccount                                            \n",
    "\n",
    "    cmv.totalInitBankEndowments=0\n",
    "    for aBank in cmv.bankList:\n",
    "        aBank.centralBankAccount=setup.r.gauss(cmv.alphaB*len(aBank.myWorkers),\\\n",
    "                                              (cmv.alphaB/cmv.beta)*len(aBank.myWorkers))\n",
    "        cmv.totalInitBankEndowments+=aBank.centralBankAccount\n",
    "        aBank.initEn=aBank.centralBankAccount                                     \n",
    "\n",
    "    initSeries()"
   ]
  },
  {
   "cell_type": "markdown",
   "id": "accompanied-defeat",
   "metadata": {},
   "source": [
    "### meta actions (in `metaActions.py`)\n",
    "\n",
    "\n",
    "\n",
    "\n",
    "\n",
    "- *produceAll* orders to the firms to produce and to collects the results\n",
    "\n",
    "  \n",
    "\n",
    "- *payWagesAll* orders to the firms to pay wages, also to the entrepreneurs\n",
    "\n",
    "  \n",
    "\n",
    "- *buyConsumptionGoodsAll* orders to the agents to buy consumption goods\n",
    "\n",
    "  \n",
    "\n",
    "- *buyInvestmentGoodsAll* orders to the firms to buy investment goods\n",
    "\n",
    "  \n",
    "\n",
    "- *buyConsumptionOrInvestmentGoodsAll* orders to the agents and to the firms to buy consumption or investment goods\n",
    "\n",
    "  \n",
    "\n",
    "- *makeBalanceSheetAll* with firm making accounts\n",
    "\n",
    "  \n",
    "\n",
    "- *distributeDividendAll* attributing the $\\rho$ share of firm profits to the entrepreneurs \n",
    "\n",
    "  \n",
    "\n",
    "- *accountCashMoneyAll* summarizing eveyone cash money at the end of a cycle\n",
    "\n",
    "  \n",
    "\n",
    "- *accountCheckingAccountAll* summarizing eveyone checking accounts at the end of a cycle\n",
    "\n",
    "  \n",
    "\n",
    "- *accountBankingAccountAll* summarizing firm banking accounts at the end of a cycle\n",
    "\n",
    "  \n",
    "\n",
    "- *computeAndApplyInterestsAll* calculating the interests on deposits and loans for each agent and firm (and symmetrically for banks) and updatating accounts\n",
    "\n",
    "  \n",
    "\n",
    "- *makeBankFinancialAccountsAll* summmarinzing all the checking and bank accounts"
   ]
  },
  {
   "cell_type": "markdown",
   "id": "dense-journey",
   "metadata": {},
   "source": [
    "\n",
    "### model parameters\n",
    "\n"
   ]
  },
  {
   "cell_type": "code",
   "execution_count": 7,
   "id": "designing-participant",
   "metadata": {
    "scrolled": false
   },
   "outputs": [],
   "source": [
    "cmv.agentNum=100\n",
    "cmv.entrepreneurMin=6\n",
    "cmv.entrepreneurMax=20\n",
    "cmv.bankMin=2\n",
    "cmv.bankMax=3 \n",
    "\n",
    "if cmv.bankMax > cmv.entrepreneurMin:\n",
    "    print (\"Bank maximum number cannot exceed the minimum number of firms!\")\n",
    "    sys.exit(0)\n",
    "\n",
    "cmv.price=1\n",
    "\n",
    "cmv.unemploymentRate=0\n",
    "cmv.dimensionalHeterogeneity=True\n",
    "\n",
    "cmv.productivityMin=0.8\n",
    "cmv.productivityMax=1.2\n",
    "cmv.productivityDeltaMin=cmv.productivityMin-1\n",
    "cmv.productivityDeltaMax=cmv.productivityMax-1\n",
    "\n",
    "cmv.maxDeperibilityShare=0.5\n",
    "\n",
    "cmv.wage=1\n",
    "cmv.rho=0.5 #1\n",
    "cmv.consumptionRateMin=0.5\n",
    "cmv.consumptionRateMax=1\n",
    "\n",
    "cmv.investmentMin=0 #1\n",
    "cmv.investmentMax=0 #15\n",
    "cmv.Lambda=3\n",
    "\n",
    "cmv.nOfConsumptionActions=30\n",
    "cmv.maxConsumptionShareInSubstep=0.3\n",
    "cmv.nOfInvestmentActions=10\n",
    "cmv.maxInvestmentShareInSubstep=0.3\n",
    "\n",
    "cmv.interestRateOnDeposits=0.10 #0 #0.01\n",
    "cmv.interestRateOnLoansVsAgents=0 #0.03\n",
    "cmv.interestRateOnLoansVsFirms=0 #0.10\n",
    "\n",
    "cmv.alphaF=20\n",
    "cmv.alphaB=10\n",
    "cmv.beta=5\n",
    "\n",
    "cmv.ncycles=1\n",
    "cmv.cycle=0"
   ]
  },
  {
   "cell_type": "markdown",
   "id": "neutral-cylinder",
   "metadata": {},
   "source": [
    "## <p style=\"color:red\">model machine</p>\n",
    "\n",
    "- a random seed determining the random number sequences\n",
    "\n",
    "\n",
    "\n",
    "- a list of actions (meta ones)\n",
    "\n",
    "\n",
    "\n",
    "- an engine excecuting the meta actions (their code in `metaAcions,py` file, in the same folder of the notebook; online, look a the model [GitHub](https://github.com/terna/ejmmp/tree/main/model02)\n",
    "\n",
    "  \n",
    "\n",
    "- random seed sequence, to have independent each class instance or function using random number, based on `generateSeed()` in  `generateSeeds.py` file, in the same folder of the notebook; online, look a the model [GitHub](https://github.com/terna/ejmmp/tree/main/model02)\n",
    "\n",
    "\n",
    "\n",
    "- display tools; their code is hidden into the file `tools.py`, in the same folder of the notebook; online, look a the model [GitHub](https://github.com/terna/ejmmp/tree/main/model02)\n",
    "\n"
   ]
  },
  {
   "cell_type": "code",
   "execution_count": 8,
   "id": "sealed-valuation",
   "metadata": {
    "scrolled": false
   },
   "outputs": [
    {
     "name": "stdout",
     "output_type": "stream",
     "text": [
      "!!!!!!!!!!!!!!!!!!!!!!!!!!!!!!!!!!!!!! 570.3711372276837 570.3711372276837\n",
      "-------------------------------------------\n",
      "enterprise number 9\n",
      "-------------------------------------------\n",
      "\n",
      "-------------------------------------------\n",
      "\"national\" accounts\n",
      "-------------------------------------------\n",
      "\n",
      "  t\ttotal\tinitial\t\tconsum.\tinvest.\tfinal\n",
      "\ta.v.\tinvent.\t\t\t\tinvent.\n",
      "  1\t87.954\t0.000\t    |\t74.445\t0.000\t13.509\n",
      "\n",
      "\n",
      "\n",
      "\n"
     ]
    },
    {
     "data": {
      "image/png": "[encoded data removed]",
      "text/plain": [
       "<Figure size 432x288 with 1 Axes>"
      ]
     },
     "metadata": {
      "needs_background": "light"
     },
     "output_type": "display_data"
    },
    {
     "data": {
      "image/png": "[encoded data removed]",
      "text/plain": [
       "<Figure size 432x288 with 2 Axes>"
      ]
     },
     "metadata": {},
     "output_type": "display_data"
    },
    {
     "data": {
      "image/png": "[encoded data removed]",
      "text/plain": [
       "<Figure size 432x288 with 2 Axes>"
      ]
     },
     "metadata": {},
     "output_type": "display_data"
    },
    {
     "data": {
      "image/png": "[encoded data removed]",
      "text/plain": [
       "<Figure size 432x288 with 2 Axes>"
      ]
     },
     "metadata": {},
     "output_type": "display_data"
    },
    {
     "data": {
      "image/png": "[encoded data removed]",
      "text/plain": [
       "<Figure size 432x288 with 2 Axes>"
      ]
     },
     "metadata": {},
     "output_type": "display_data"
    },
    {
     "name": "stderr",
     "output_type": "stream",
     "text": [
      "/Users/pt/GitHub/ejmmp/model02/plot.py:11: UserWarning: Attempting to set identical bottom == top == 13.508533969501357 results in singular transformations; automatically expanding.\n",
      "  ax1.set_ylim(y1lim)\n"
     ]
    },
    {
     "data": {
      "image/png": "[encoded data removed]",
      "text/plain": [
       "<Figure size 432x288 with 2 Axes>"
      ]
     },
     "metadata": {},
     "output_type": "display_data"
    },
    {
     "data": {
      "image/png": "[encoded data removed]",
      "text/plain": [
       "<Figure size 432x288 with 2 Axes>"
      ]
     },
     "metadata": {},
     "output_type": "display_data"
    },
    {
     "name": "stderr",
     "output_type": "stream",
     "text": [
      "/Users/pt/GitHub/ejmmp/model02/plot.py:11: UserWarning: Attempting to set identical bottom == top == 0 results in singular transformations; automatically expanding.\n",
      "  ax1.set_ylim(y1lim)\n",
      "/Users/pt/GitHub/ejmmp/model02/plot.py:19: UserWarning: Attempting to set identical bottom == top == 0 results in singular transformations; automatically expanding.\n",
      "  ax2.set_ylim(y2lim)\n"
     ]
    },
    {
     "data": {
      "image/png": "[encoded data removed]",
      "text/plain": [
       "<Figure size 432x288 with 2 Axes>"
      ]
     },
     "metadata": {},
     "output_type": "display_data"
    },
    {
     "data": {
      "image/png": "[encoded data removed]",
      "text/plain": [
       "<Figure size 432x288 with 2 Axes>"
      ]
     },
     "metadata": {},
     "output_type": "display_data"
    },
    {
     "data": {
      "image/png": "[encoded data removed]",
      "text/plain": [
       "<Figure size 432x288 with 2 Axes>"
      ]
     },
     "metadata": {},
     "output_type": "display_data"
    },
    {
     "data": {
      "image/png": "[encoded data removed]",
      "text/plain": [
       "<Figure size 432x288 with 2 Axes>"
      ]
     },
     "metadata": {},
     "output_type": "display_data"
    },
    {
     "data": {
      "image/png": "[encoded data removed]",
      "text/plain": [
       "<Figure size 432x288 with 2 Axes>"
      ]
     },
     "metadata": {},
     "output_type": "display_data"
    },
    {
     "data": {
      "image/png": "[encoded data removed]",
      "text/plain": [
       "<Figure size 432x288 with 2 Axes>"
      ]
     },
     "metadata": {},
     "output_type": "display_data"
    },
    {
     "data": {
      "image/png": "[encoded data removed]",
      "text/plain": [
       "<Figure size 432x288 with 2 Axes>"
      ]
     },
     "metadata": {},
     "output_type": "display_data"
    },
    {
     "data": {
      "image/png": "[encoded data removed]",
      "text/plain": [
       "<Figure size 432x288 with 2 Axes>"
      ]
     },
     "metadata": {},
     "output_type": "display_data"
    },
    {
     "data": {
      "image/png": "[encoded data removed]",
      "text/plain": [
       "<Figure size 432x288 with 2 Axes>"
      ]
     },
     "metadata": {},
     "output_type": "display_data"
    },
    {
     "data": {
      "image/png": "[encoded data removed]",
      "text/plain": [
       "<Figure size 432x288 with 2 Axes>"
      ]
     },
     "metadata": {},
     "output_type": "display_data"
    },
    {
     "data": {
      "image/png": "[encoded data removed]",
      "text/plain": [
       "<Figure size 432x288 with 2 Axes>"
      ]
     },
     "metadata": {},
     "output_type": "display_data"
    },
    {
     "data": {
      "image/png": "[encoded data removed]",
      "text/plain": [
       "<Figure size 432x288 with 2 Axes>"
      ]
     },
     "metadata": {},
     "output_type": "display_data"
    }
   ],
   "source": [
    "# the seed must be in range -2147483648 to 2147483647\n",
    "r.seed(12345)\n",
    "\n",
    "generateSeeds()\n",
    "\n",
    "setup(r,cmv.functionSeedList[0])\n",
    "\n",
    "cmv.actionList=[\"copyBankAccounts()\",\"produceAll()\",\"payWagesAll()\",\\\n",
    "                \"buyConsumptionOrInvestmentGoodsAll(r,cmv.functionSeedList[3])\",\\\n",
    "                \"computeAndApplyInterestsAll()\",\"makeBalanceSheetAll()\",\\\n",
    "                \"distributeDividendAll()\",\"accountCashMoneyAll()\",\\\n",
    "                \"accountCheckingAccountAll()\",\"accountBankAccountAll()\",\\\n",
    "                \"makeBankFinancialAccountsAll()\"\\\n",
    "                ]\n",
    "\n",
    "for cmv.cycle in range(cmv.ncycles):\n",
    "    for anAction in cmv.actionList:\n",
    "            exec(anAction)\n",
    "\n",
    "makeHist() \n",
    "\n",
    "nationalAccounts()\n",
    "\n",
    "makePlots()\n"
   ]
  },
  {
   "cell_type": "markdown",
   "id": "strong-hopkins",
   "metadata": {},
   "source": [
    "### firms"
   ]
  },
  {
   "cell_type": "code",
   "execution_count": 9,
   "id": "express-distance",
   "metadata": {},
   "outputs": [
    {
     "name": "stdout",
     "output_type": "stream",
     "text": [
      "55 23 19.054916228012566 469.71563897495486 483.4782899626233\n",
      "76 3 3.066499532872884 55.601228088159516 58.6677276210324\n",
      "85 20 25.71513220582029 570.3711372276837 591.2913938291412\n",
      "31 10 6.773742210185279 119.38577958792987 126.15952179811515\n",
      "33 2 1.7679477287151322 32.67021925640382 34.438166985118954\n",
      "35 18 11.645404254102184 268.8322844987552 277.05629562806376\n",
      "97 6 6.5594204097700235 121.47413874352038 128.03355915329044\n",
      "\n",
      "\n",
      " 74.58306256947836 1638.0504263774073 1699.124954977385\n"
     ]
    }
   ],
   "source": [
    "# num, numWorlers, profitto distr, intEn e saldi a fine anno -1\n",
    "t1=0\n",
    "t2=0\n",
    "t3=0\n",
    "\n",
    "for aFirm in cmv.firmList:\n",
    "    if aFirm.profit>0: distr=aFirm.profit/2\n",
    "    else: distr=0\n",
    "    t1+=distr\n",
    "    t2+=aFirm.initEn\n",
    "    t3+=aFirm.bankAccount\n",
    "    print(aFirm.num,len(aFirm.myWorkers),distr,aFirm.initEn,aFirm.bankAccount)\n",
    "print(\"\\n\\n\",t1,t2,t3)"
   ]
  },
  {
   "cell_type": "markdown",
   "id": "adjustable-transcript",
   "metadata": {},
   "source": [
    "#### hanno distribuito 1.5554923615842167 e aumentato i mezzi propri di 1.5554923615842167"
   ]
  },
  {
   "cell_type": "markdown",
   "id": "institutional-prairie",
   "metadata": {},
   "source": [
    "### banks"
   ]
  },
  {
   "cell_type": "code",
   "execution_count": 10,
   "id": "identical-central",
   "metadata": {},
   "outputs": [
    {
     "name": "stdout",
     "output_type": "stream",
     "text": [
      "37 9 0 -132.416477642815 92.94202891147445 62.426690601119674\n",
      "11 9 0 -31.351579757762153 117.74620501544635 148.2615433258011\n",
      "\n",
      "\n",
      " 0 -163.76805740057716 210.68823392692082 210.6882339269208\n"
     ]
    }
   ],
   "source": [
    "W0=0\n",
    "W00=0\n",
    "W1=0\n",
    "W2=0\n",
    "for aBank in cmv.bankList:\n",
    "    if aBank.profit>0: distr=aBank.profit/2\n",
    "    else: distr=0\n",
    "    W0+=distr\n",
    "    W00+=aBank.profit\n",
    "    W1+=aBank.initEn\n",
    "    W2+=aBank.centralBankAccount\n",
    "    print(aBank.num,len(aBank.myWorkers),distr,aBank.profit,aBank.initEn,aBank.centralBankAccount)\n",
    "    \n",
    "print(\"\\n\\n\",W0,W00,W1,W2)"
   ]
  },
  {
   "cell_type": "raw",
   "id": "traditional-happiness",
   "metadata": {},
   "source": [
    "cmv.totalCheckingAccountSeries[-2]"
   ]
  },
  {
   "cell_type": "code",
   "execution_count": 11,
   "id": "fancy-geography",
   "metadata": {},
   "outputs": [
    {
     "data": {
      "text/plain": [
       "102.69352880060015"
      ]
     },
     "execution_count": 11,
     "metadata": {},
     "output_type": "execute_result"
    }
   ],
   "source": [
    "cmv.totalCheckingAccountSeries[-1]"
   ]
  },
  {
   "cell_type": "markdown",
   "id": "dominant-stack",
   "metadata": {},
   "source": [
    "#### gli agents hanno aumentato i depositi da 0 iniziale"
   ]
  },
  {
   "cell_type": "code",
   "execution_count": 12,
   "id": "civil-joyce",
   "metadata": {},
   "outputs": [
    {
     "data": {
      "text/plain": [
       "27.888519321059604"
      ]
     },
     "execution_count": 12,
     "metadata": {},
     "output_type": "execute_result"
    }
   ],
   "source": [
    "27.888519321059604"
   ]
  },
  {
   "cell_type": "code",
   "execution_count": 13,
   "id": "married-bowling",
   "metadata": {},
   "outputs": [
    {
     "data": {
      "text/plain": [
       "74.44503069898019"
      ]
     },
     "execution_count": 13,
     "metadata": {},
     "output_type": "execute_result"
    }
   ],
   "source": [
    "cmv.totalConsumptionSeries[-1]"
   ]
  },
  {
   "cell_type": "code",
   "execution_count": 14,
   "id": "wrapped-deposit",
   "metadata": {},
   "outputs": [
    {
     "data": {
      "text/plain": [
       "74.58306256947836"
      ]
     },
     "execution_count": 14,
     "metadata": {},
     "output_type": "execute_result"
    }
   ],
   "source": [
    "tot=0\n",
    "for anItem in cmv.firmList:\n",
    "    if anItem.profit > 0: tot+=anItem.profit\n",
    "tot/2"
   ]
  },
  {
   "cell_type": "code",
   "execution_count": 15,
   "id": "laughing-shoulder",
   "metadata": {},
   "outputs": [
    {
     "data": {
      "text/plain": [
       "74.58306256947836"
      ]
     },
     "execution_count": 15,
     "metadata": {},
     "output_type": "execute_result"
    }
   ],
   "source": [
    "tot=0\n",
    "for anItem in (cmv.firmList+cmv.bankList):\n",
    "    if anItem.profit > 0: tot+=anItem.profit\n",
    "tot/2"
   ]
  },
  {
   "cell_type": "markdown",
   "id": "terminal-interest",
   "metadata": {},
   "source": [
    "#### delle stesso importo di entrate e uscite familiari (100 somma wages)"
   ]
  },
  {
   "cell_type": "code",
   "execution_count": 16,
   "id": "cooked-athens",
   "metadata": {},
   "outputs": [
    {
     "data": {
      "text/plain": [
       "27.88851932105962"
      ]
     },
     "execution_count": 16,
     "metadata": {},
     "output_type": "execute_result"
    }
   ],
   "source": [
    "100+2.3335500200398114-74.44503069898019"
   ]
  },
  {
   "cell_type": "markdown",
   "id": "spare-hampton",
   "metadata": {},
   "source": [
    "### Le firms \n",
    "#### hanno diminuito i depositi (non hanno prestiti)"
   ]
  },
  {
   "cell_type": "code",
   "execution_count": 17,
   "id": "beginning-password",
   "metadata": {},
   "outputs": [
    {
     "data": {
      "text/plain": [
       "0"
      ]
     },
     "execution_count": 17,
     "metadata": {},
     "output_type": "execute_result"
    }
   ],
   "source": [
    "cmv.totalCreditsVsFirmsSeries[-1]"
   ]
  },
  {
   "cell_type": "raw",
   "id": "burning-display",
   "metadata": {},
   "source": [
    "cmv.totalBankAccountSeries [-2] iniziali erano 1638.0504263774073 "
   ]
  },
  {
   "cell_type": "code",
   "execution_count": 18,
   "id": "thorough-thesaurus",
   "metadata": {},
   "outputs": [
    {
     "data": {
      "text/plain": [
       "1699.124954977385"
      ]
     },
     "execution_count": 18,
     "metadata": {},
     "output_type": "execute_result"
    }
   ],
   "source": [
    "cmv.totalBankAccountSeries [-1]"
   ]
  },
  {
   "cell_type": "code",
   "execution_count": 19,
   "id": "developed-nomination",
   "metadata": {},
   "outputs": [
    {
     "data": {
      "text/plain": [
       "[1699.1249549773852]"
      ]
     },
     "execution_count": 19,
     "metadata": {},
     "output_type": "execute_result"
    }
   ],
   "source": [
    "cmv.totalDebtsVsFirmsSeries"
   ]
  },
  {
   "cell_type": "code",
   "execution_count": 20,
   "id": "honey-course",
   "metadata": {},
   "outputs": [
    {
     "data": {
      "text/plain": [
       "27.144084605479065"
      ]
     },
     "execution_count": 20,
     "metadata": {},
     "output_type": "execute_result"
    }
   ],
   "source": [
    "1638.0504263774073-1610.9063417719283"
   ]
  },
  {
   "cell_type": "markdown",
   "id": "boolean-contract",
   "metadata": {},
   "source": [
    "#### con movimenti del periodo dati da..."
   ]
  },
  {
   "cell_type": "markdown",
   "id": "executive-destination",
   "metadata": {},
   "source": [
    "#### salesRevenues "
   ]
  },
  {
   "cell_type": "code",
   "execution_count": 21,
   "id": "established-drama",
   "metadata": {},
   "outputs": [
    {
     "data": {
      "text/plain": [
       "56.41140775610413"
      ]
     },
     "execution_count": 21,
     "metadata": {},
     "output_type": "execute_result"
    }
   ],
   "source": [
    "tot=0\n",
    "for aFirm in cmv.firmList:\n",
    "    tot+=aFirm.salesRevenues\n",
    "tot"
   ]
  },
  {
   "cell_type": "markdown",
   "id": "confident-breeding",
   "metadata": {},
   "source": [
    "#### sottraendo profitti pagati & wages pagati con 100-18=82 workers"
   ]
  },
  {
   "cell_type": "code",
   "execution_count": 22,
   "id": "julian-minutes",
   "metadata": {},
   "outputs": [
    {
     "data": {
      "text/plain": [
       "-27.14408460548008"
      ]
     },
     "execution_count": 22,
     "metadata": {},
     "output_type": "execute_result"
    }
   ],
   "source": [
    "56.41140775610413-1.5554923615842167-82"
   ]
  },
  {
   "cell_type": "markdown",
   "id": "turned-master",
   "metadata": {},
   "source": [
    "dati i profitti non distribuiti, hanno aumentato i mezzi propri di 1.5554923615842167"
   ]
  },
  {
   "cell_type": "markdown",
   "id": "valid-loading",
   "metadata": {},
   "source": [
    "## le banks\n",
    "#### per la loro gestione"
   ]
  },
  {
   "cell_type": "markdown",
   "id": "theoretical-roller",
   "metadata": {},
   "source": [
    "#### hanno venduto"
   ]
  },
  {
   "cell_type": "code",
   "execution_count": 23,
   "id": "skilled-bidder",
   "metadata": {},
   "outputs": [
    {
     "data": {
      "text/plain": [
       "18.03362294287605"
      ]
     },
     "execution_count": 23,
     "metadata": {},
     "output_type": "execute_result"
    }
   ],
   "source": [
    "tot=0\n",
    "for aBank in cmv.bankList:\n",
    "    tot+=aBank.salesRevenues\n",
    "tot"
   ]
  },
  {
   "cell_type": "markdown",
   "id": "potential-remainder",
   "metadata": {},
   "source": [
    "#### hanno prodotto"
   ]
  },
  {
   "cell_type": "code",
   "execution_count": 24,
   "id": "soviet-peeing",
   "metadata": {},
   "outputs": [
    {
     "data": {
      "text/plain": [
       "19.67869970937146"
      ]
     },
     "execution_count": 24,
     "metadata": {},
     "output_type": "execute_result"
    }
   ],
   "source": [
    "tot=0\n",
    "for aBank in cmv.bankList:\n",
    "    tot+=aBank.production\n",
    "tot"
   ]
  },
  {
   "cell_type": "code",
   "execution_count": 25,
   "id": "improved-algeria",
   "metadata": {},
   "outputs": [
    {
     "data": {
      "text/plain": [
       "-1.6450767664954107"
      ]
     },
     "execution_count": 25,
     "metadata": {},
     "output_type": "execute_result"
    }
   ],
   "source": [
    "18.03362294287605-19.67869970937146"
   ]
  },
  {
   "cell_type": "markdown",
   "id": "brave-arbor",
   "metadata": {},
   "source": [
    "#### sottraendo dai ricavi i profitti pagati & wages pagati con 18 workers"
   ]
  },
  {
   "cell_type": "code",
   "execution_count": 26,
   "id": "understood-relaxation",
   "metadata": {},
   "outputs": [
    {
     "data": {
      "text/plain": [
       "-0.7444347155795441"
      ]
     },
     "execution_count": 26,
     "metadata": {},
     "output_type": "execute_result"
    }
   ],
   "source": [
    "18.03362294287605-0.7780576584555945-18"
   ]
  },
  {
   "cell_type": "markdown",
   "id": "enclosed-therapy",
   "metadata": {},
   "source": [
    "aumento mezzi propri, cioè somma profitti non distribuiti, 0.7780576584555945"
   ]
  },
  {
   "cell_type": "markdown",
   "id": "subject-cooperation",
   "metadata": {},
   "source": [
    "## con central bank\n",
    "#### quadratura"
   ]
  },
  {
   "cell_type": "markdown",
   "id": "vocal-welding",
   "metadata": {},
   "source": [
    "central bank iniziale pari a endowment 210.6882339269209"
   ]
  },
  {
   "cell_type": "markdown",
   "id": "grateful-cyprus",
   "metadata": {},
   "source": [
    "a -1 visto qui sopra con banks: 210.68823392692104"
   ]
  },
  {
   "cell_type": "markdown",
   "id": "latter-image",
   "metadata": {},
   "source": [
    "#### gli endowments iniziali erano (firms and banks)"
   ]
  },
  {
   "cell_type": "code",
   "execution_count": 27,
   "id": "professional-survival",
   "metadata": {},
   "outputs": [
    {
     "data": {
      "text/plain": [
       "1848.7386603043283"
      ]
     },
     "execution_count": 27,
     "metadata": {},
     "output_type": "execute_result"
    }
   ],
   "source": [
    "1638.0504263774073+210.68823392692082"
   ]
  },
  {
   "cell_type": "markdown",
   "id": "lesser-booth",
   "metadata": {},
   "source": [
    "#### ora abbiamo (agents, firms, banks)"
   ]
  },
  {
   "cell_type": "code",
   "execution_count": 28,
   "id": "golden-edgar",
   "metadata": {},
   "outputs": [
    {
     "data": {
      "text/plain": [
       "1849.483095019909"
      ]
     },
     "execution_count": 28,
     "metadata": {},
     "output_type": "execute_result"
    }
   ],
   "source": [
    "27.888519321059604+1610.90634177192836+210.68823392692082"
   ]
  },
  {
   "cell_type": "markdown",
   "id": "pleased-sense",
   "metadata": {},
   "source": [
    "finale - iniziale"
   ]
  },
  {
   "cell_type": "code",
   "execution_count": 29,
   "id": "polar-percentage",
   "metadata": {},
   "outputs": [
    {
     "data": {
      "text/plain": [
       "0.7444347155806099"
      ]
     },
     "execution_count": 29,
     "metadata": {},
     "output_type": "execute_result"
    }
   ],
   "source": [
    "1849.483095019909 - 1848.7386603043283"
   ]
  },
  {
   "cell_type": "code",
   "execution_count": 30,
   "id": "dietary-literature",
   "metadata": {},
   "outputs": [
    {
     "data": {
      "text/plain": [
       "58"
      ]
     },
     "execution_count": 30,
     "metadata": {},
     "output_type": "execute_result"
    }
   ],
   "source": [
    "len(cmv.bankList[0].myPrivateClients)"
   ]
  },
  {
   "cell_type": "code",
   "execution_count": 31,
   "id": "level-relations",
   "metadata": {},
   "outputs": [
    {
     "data": {
      "text/plain": [
       "5"
      ]
     },
     "execution_count": 31,
     "metadata": {},
     "output_type": "execute_result"
    }
   ],
   "source": [
    "len(cmv.bankList[0].myCommercialClients)"
   ]
  },
  {
   "cell_type": "code",
   "execution_count": 32,
   "id": "inside-making",
   "metadata": {},
   "outputs": [
    {
     "data": {
      "text/plain": [
       "42"
      ]
     },
     "execution_count": 32,
     "metadata": {},
     "output_type": "execute_result"
    }
   ],
   "source": [
    "len(cmv.bankList[1].myPrivateClients)"
   ]
  },
  {
   "cell_type": "code",
   "execution_count": 33,
   "id": "encouraging-migration",
   "metadata": {},
   "outputs": [
    {
     "data": {
      "text/plain": [
       "2"
      ]
     },
     "execution_count": 33,
     "metadata": {},
     "output_type": "execute_result"
    }
   ],
   "source": [
    "len(cmv.bankList[1].myCommercialClients)"
   ]
  },
  {
   "cell_type": "markdown",
   "id": "otherwise-machine",
   "metadata": {},
   "source": [
    "## 000000000000000000000000000000"
   ]
  },
  {
   "cell_type": "code",
   "execution_count": 34,
   "id": "artificial-hacker",
   "metadata": {},
   "outputs": [],
   "source": [
    "b0=cmv.bankList[0]"
   ]
  },
  {
   "cell_type": "code",
   "execution_count": 35,
   "id": "artistic-active",
   "metadata": {},
   "outputs": [
    {
     "data": {
      "text/plain": [
       "42.943865958376165"
      ]
     },
     "execution_count": 35,
     "metadata": {},
     "output_type": "execute_result"
    }
   ],
   "source": [
    "tot=0\n",
    "for i in range(len(b0.myPrivateClients)):\n",
    "    tot+=b0.myPrivateClients[i].madeConsumption\n",
    "tot"
   ]
  },
  {
   "cell_type": "code",
   "execution_count": 36,
   "id": "psychological-strategy",
   "metadata": {},
   "outputs": [
    {
     "data": {
      "text/plain": [
       "58"
      ]
     },
     "execution_count": 36,
     "metadata": {},
     "output_type": "execute_result"
    }
   ],
   "source": [
    "len(b0.myPrivateClients) #wages at agents"
   ]
  },
  {
   "cell_type": "code",
   "execution_count": 37,
   "id": "published-chamber",
   "metadata": {},
   "outputs": [
    {
     "data": {
      "text/plain": [
       "61"
      ]
     },
     "execution_count": 37,
     "metadata": {},
     "output_type": "execute_result"
    }
   ],
   "source": [
    "tot=0\n",
    "for i in range(len(b0.myCommercialClients)):\n",
    "    tot+=len(b0.myCommercialClients[i].myWorkers)\n",
    "tot"
   ]
  },
  {
   "cell_type": "code",
   "execution_count": 38,
   "id": "wound-pension",
   "metadata": {},
   "outputs": [
    {
     "data": {
      "text/plain": [
       "41.266804855681386"
      ]
     },
     "execution_count": 38,
     "metadata": {},
     "output_type": "execute_result"
    }
   ],
   "source": [
    "tot=0\n",
    "for i in range(len(b0.myCommercialClients)):\n",
    "    tot+=b0.myCommercialClients[i].salesRevenues\n",
    "tot"
   ]
  },
  {
   "cell_type": "code",
   "execution_count": 39,
   "id": "hidden-logging",
   "metadata": {},
   "outputs": [
    {
     "data": {
      "text/plain": [
       "59.871158782503294"
      ]
     },
     "execution_count": 39,
     "metadata": {},
     "output_type": "execute_result"
    }
   ],
   "source": [
    "tot=0\n",
    "for i in range(len(b0.myCommercialClients)):\n",
    "    if b0.myCommercialClients[i].profit>0:\n",
    "        tot+=b0.myCommercialClients[i].profit/2\n",
    "tot"
   ]
  },
  {
   "cell_type": "code",
   "execution_count": 40,
   "id": "twelve-statistics",
   "metadata": {},
   "outputs": [
    {
     "data": {
      "text/plain": [
       "35.555373948878454"
      ]
     },
     "execution_count": 40,
     "metadata": {},
     "output_type": "execute_result"
    }
   ],
   "source": [
    "tot=0\n",
    "for i in range(len(b0.myPrivateClients)):\n",
    "    tot+=b0.myPrivateClients[i].perceivedDividend\n",
    "tot"
   ]
  },
  {
   "cell_type": "code",
   "execution_count": 41,
   "id": "beginning-voltage",
   "metadata": {},
   "outputs": [
    {
     "data": {
      "text/plain": [
       "7.4775076259648605"
      ]
     },
     "execution_count": 41,
     "metadata": {},
     "output_type": "execute_result"
    }
   ],
   "source": [
    "b0.salesRevenues"
   ]
  },
  {
   "cell_type": "code",
   "execution_count": 42,
   "id": "corresponding-transcription",
   "metadata": {},
   "outputs": [
    {
     "data": {
      "text/plain": [
       "9"
      ]
     },
     "execution_count": 42,
     "metadata": {},
     "output_type": "execute_result"
    }
   ],
   "source": [
    "9"
   ]
  },
  {
   "cell_type": "code",
   "execution_count": 43,
   "id": "personalized-meaning",
   "metadata": {},
   "outputs": [
    {
     "data": {
      "text/plain": [
       "-132.416477642815"
      ]
     },
     "execution_count": 43,
     "metadata": {},
     "output_type": "execute_result"
    }
   ],
   "source": [
    "b0.profit"
   ]
  },
  {
   "cell_type": "code",
   "execution_count": 44,
   "id": "hollywood-mitchell",
   "metadata": {},
   "outputs": [
    {
     "data": {
      "text/plain": [
       "-5.724870463750721"
      ]
     },
     "execution_count": 44,
     "metadata": {},
     "output_type": "execute_result"
    }
   ],
   "source": [
    "-42.943865958376165+58-61+41.266804855681386+1.7697770759589524-1.2950940629797543+7.4775076259648605-9"
   ]
  },
  {
   "cell_type": "code",
   "execution_count": 45,
   "id": "objective-matter",
   "metadata": {},
   "outputs": [
    {
     "data": {
      "text/plain": [
       "-5.724870463750747"
      ]
     },
     "execution_count": 45,
     "metadata": {},
     "output_type": "execute_result"
    }
   ],
   "source": [
    "87.2171584477237-92.94202891147445 "
   ]
  },
  {
   "cell_type": "markdown",
   "id": "inner-season",
   "metadata": {},
   "source": [
    "## 111111111111111111111111111111111111111111"
   ]
  },
  {
   "cell_type": "code",
   "execution_count": 46,
   "id": "comic-entrepreneur",
   "metadata": {},
   "outputs": [],
   "source": [
    "b1=cmv.bankList[1]"
   ]
  },
  {
   "cell_type": "code",
   "execution_count": 47,
   "id": "municipal-brass",
   "metadata": {},
   "outputs": [
    {
     "data": {
      "text/plain": [
       "31.50116474060405"
      ]
     },
     "execution_count": 47,
     "metadata": {},
     "output_type": "execute_result"
    }
   ],
   "source": [
    "tot=0\n",
    "for i in range(len(b1.myPrivateClients)):\n",
    "    tot+=b1.myPrivateClients[i].madeConsumption\n",
    "tot"
   ]
  },
  {
   "cell_type": "code",
   "execution_count": 48,
   "id": "primary-amino",
   "metadata": {},
   "outputs": [
    {
     "data": {
      "text/plain": [
       "74.44503069898022"
      ]
     },
     "execution_count": 48,
     "metadata": {},
     "output_type": "execute_result"
    }
   ],
   "source": [
    "42.943865958376165+31.50116474060405"
   ]
  },
  {
   "cell_type": "code",
   "execution_count": 49,
   "id": "biological-aquarium",
   "metadata": {},
   "outputs": [
    {
     "data": {
      "text/plain": [
       "42"
      ]
     },
     "execution_count": 49,
     "metadata": {},
     "output_type": "execute_result"
    }
   ],
   "source": [
    "len(b1.myPrivateClients) #wages at agents"
   ]
  },
  {
   "cell_type": "code",
   "execution_count": 50,
   "id": "dominant-treasurer",
   "metadata": {},
   "outputs": [
    {
     "data": {
      "text/plain": [
       "21"
      ]
     },
     "execution_count": 50,
     "metadata": {},
     "output_type": "execute_result"
    }
   ],
   "source": [
    "tot=0\n",
    "for i in range(len(b1.myCommercialClients)):\n",
    "    tot+=len(b1.myCommercialClients[i].myWorkers)\n",
    "tot"
   ]
  },
  {
   "cell_type": "code",
   "execution_count": 51,
   "id": "surprised-graduation",
   "metadata": {},
   "outputs": [
    {
     "data": {
      "text/plain": [
       "15.144602900422747"
      ]
     },
     "execution_count": 51,
     "metadata": {},
     "output_type": "execute_result"
    }
   ],
   "source": [
    "tot=0\n",
    "for i in range(len(b1.myCommercialClients)):\n",
    "    tot+=b1.myCommercialClients[i].salesRevenues\n",
    "tot"
   ]
  },
  {
   "cell_type": "code",
   "execution_count": 52,
   "id": "sought-martin",
   "metadata": {},
   "outputs": [
    {
     "data": {
      "text/plain": [
       "14.711903786975068"
      ]
     },
     "execution_count": 52,
     "metadata": {},
     "output_type": "execute_result"
    }
   ],
   "source": [
    "tot=0\n",
    "for i in range(len(b1.myCommercialClients)):\n",
    "    if b1.myCommercialClients[i].profit>0:\n",
    "        tot+=b1.myCommercialClients[i].profit/2\n",
    "tot"
   ]
  },
  {
   "cell_type": "code",
   "execution_count": 53,
   "id": "skilled-winter",
   "metadata": {},
   "outputs": [
    {
     "data": {
      "text/plain": [
       "39.0276886205999"
      ]
     },
     "execution_count": 53,
     "metadata": {},
     "output_type": "execute_result"
    }
   ],
   "source": [
    "tot=0\n",
    "for i in range(len(b1.myPrivateClients)):\n",
    "    tot+=b1.myPrivateClients[i].perceivedDividend\n",
    "tot"
   ]
  },
  {
   "cell_type": "code",
   "execution_count": 54,
   "id": "laden-flood",
   "metadata": {},
   "outputs": [
    {
     "data": {
      "text/plain": [
       "10.556115316911189"
      ]
     },
     "execution_count": 54,
     "metadata": {},
     "output_type": "execute_result"
    }
   ],
   "source": [
    "b1.salesRevenues"
   ]
  },
  {
   "cell_type": "code",
   "execution_count": 55,
   "id": "military-visit",
   "metadata": {},
   "outputs": [
    {
     "data": {
      "text/plain": [
       "9"
      ]
     },
     "execution_count": 55,
     "metadata": {},
     "output_type": "execute_result"
    }
   ],
   "source": [
    "9"
   ]
  },
  {
   "cell_type": "code",
   "execution_count": 56,
   "id": "eight-avenue",
   "metadata": {},
   "outputs": [
    {
     "data": {
      "text/plain": [
       "-31.351579757762153"
      ]
     },
     "execution_count": 56,
     "metadata": {},
     "output_type": "execute_result"
    }
   ],
   "source": [
    "b1.profit"
   ]
  },
  {
   "cell_type": "code",
   "execution_count": 57,
   "id": "committed-throw",
   "metadata": {},
   "outputs": [
    {
     "data": {
      "text/plain": [
       "6.502928122206281"
      ]
     },
     "execution_count": 57,
     "metadata": {},
     "output_type": "execute_result"
    }
   ],
   "source": [
    "-31.50116474060405+42-21+15.144602900422747+0.5637729440808588-0.2603982986044624+10.556115316911189-9"
   ]
  },
  {
   "cell_type": "code",
   "execution_count": 58,
   "id": "dramatic-thesaurus",
   "metadata": {},
   "outputs": [
    {
     "data": {
      "text/plain": [
       "5.724870463750733"
      ]
     },
     "execution_count": 58,
     "metadata": {},
     "output_type": "execute_result"
    }
   ],
   "source": [
    "123.47107547919708-117.74620501544635"
   ]
  },
  {
   "cell_type": "code",
   "execution_count": 59,
   "id": "exposed-capability",
   "metadata": {},
   "outputs": [
    {
     "data": {
      "text/plain": [
       "0.7780576584555483"
      ]
     },
     "execution_count": 59,
     "metadata": {},
     "output_type": "execute_result"
    }
   ],
   "source": [
    "6.502928122206281-5.724870463750733"
   ]
  },
  {
   "cell_type": "code",
   "execution_count": 79,
   "id": "critical-preservation",
   "metadata": {},
   "outputs": [
    {
     "name": "stdout",
     "output_type": "stream",
     "text": [
      "\n",
      "Last cycle test\n",
      "\n",
      "\n",
      "\n",
      "AGENTS\n",
      "\n",
      "\n",
      "+-----+---------------------------------------------------------+-----------+----------------+\n",
      "|     |                                                         |   cycle 1 |                |\n",
      "+=====+=========================================================+===========+================+\n",
      "| (1) | agents' Deposits Previous Cycle                         |    0      | bank stock (-) |\n",
      "+-----+---------------------------------------------------------+-----------+----------------+\n",
      "| (2) | agents' Deposits Current Cycle (with current interests) |  102.694  | bank stock (+) |\n",
      "+-----+---------------------------------------------------------+-----------+----------------+\n",
      "| (3) | firms' Loans Previous Cycle                             |    0      | bank stock (+) |\n",
      "+-----+---------------------------------------------------------+-----------+----------------+\n",
      "| (4) | firms' Loans Current Cycle (with current interests)     |    0      | bank stock (-) |\n",
      "+-----+---------------------------------------------------------+-----------+----------------+\n",
      "| (5) | agents' Wages Current Cycle                             |  100      | bank flow (+)  |\n",
      "+-----+---------------------------------------------------------+-----------+----------------+\n",
      "| (6) | agents' Consumption Current Cycle                       |   74.445  | bank flow (-)  |\n",
      "+-----+---------------------------------------------------------+-----------+----------------+\n",
      "| (7) | agents' Perceived Dividends Current Cycle               |   74.5831 | bank flow (+)  |\n",
      "+-----+---------------------------------------------------------+-----------+----------------+\n",
      "| (8) | agents' Interests On Deposits Current Cycle             |    2.5555 | bank flow (+)  |\n",
      "+-----+---------------------------------------------------------+-----------+----------------+\n",
      "| (9) | agents' Interests On Loans Current Cycle                |    0      | bank flow (-)  |\n",
      "+-----+---------------------------------------------------------+-----------+----------------+\n",
      "\n",
      "Reconciliation\n",
      "\n",
      "\n",
      "- (1) + (2) + (3) - (4)       =>  102.69352880060015\n",
      "\n",
      "+ (5) - (6) + (7) + (8) - (9) =>  102.69352880060015\n",
      "___________________________________________________________________________________\n",
      "\n",
      "\n",
      "\n",
      "FIRMS\n",
      "\n",
      "\n",
      "+--------+-------+-----------+-----------+------------+----------+------------+------------+------------+---------+\n",
      "| # in   | num   |      firm |      firm |       firm |     firm |   firmBank |   firmBank |       firm |    firm |\n",
      "| firm   |       |    InitEn |   Workers |   Dividend |   Profit |    Account |    Account |        Int |     Int |\n",
      "| List   |       |           |           |            |          |   Deposits |      Loans |         On |      On |\n",
      "|        |       |           |           |            |          |            |            |   Deposits |   Loans |\n",
      "+========+=======+===========+===========+============+==========+============+============+============+=========+\n",
      "| 0      | 55    |  469.716  |        23 |   19.0549  |  38.1098 |   483.478  |          0 |   45.6848  |       0 |\n",
      "+--------+-------+-----------+-----------+------------+----------+------------+------------+------------+---------+\n",
      "| 1      | 76    |   55.6012 |         3 |    3.0665  |   6.133  |    58.6677 |          0 |    5.6122  |       0 |\n",
      "+--------+-------+-----------+-----------+------------+----------+------------+------------+------------+---------+\n",
      "| 2      | 85    |  570.371  |        20 |   25.7151  |  51.4303 |   591.291  |          0 |   56.0915  |       0 |\n",
      "+--------+-------+-----------+-----------+------------+----------+------------+------------+------------+---------+\n",
      "| 3      | 31    |  119.386  |        10 |    6.77374 |  13.5475 |   126.16   |          0 |   12.0848  |       0 |\n",
      "+--------+-------+-----------+-----------+------------+----------+------------+------------+------------+---------+\n",
      "| 4      | 33    |   32.6702 |         2 |    1.76795 |   3.5359 |    34.4382 |          0 |    3.29146 |       0 |\n",
      "+--------+-------+-----------+-----------+------------+----------+------------+------------+------------+---------+\n",
      "| 5      | 35    |  268.832  |        18 |   11.6454  |  23.2908 |   277.056  |          0 |   26.2456  |       0 |\n",
      "+--------+-------+-----------+-----------+------------+----------+------------+------------+------------+---------+\n",
      "| 6      | 97    |  121.474  |         6 |    6.55942 |  13.1188 |   128.034  |          0 |   12.2357  |       0 |\n",
      "+--------+-------+-----------+-----------+------------+----------+------------+------------+------------+---------+\n",
      "| tot    |       | 1638.05   |        82 |   74.5831  | 149.166  |  1699.12   |          0 |  161.246   |       0 |\n",
      "+--------+-------+-----------+-----------+------------+----------+------------+------------+------------+---------+\n",
      "\n",
      "\n",
      "Reconciliation of firm financial accounts\n",
      "\n",
      "\n",
      "+-----+------------------------------------------------------------+-----------+----------------+\n",
      "|     |                                                            |   cycle 1 |                |\n",
      "+=====+============================================================+===========+================+\n",
      "| (1) | firms' Deposits Previous Cycle                             | 1638.05   | bank stock (-) |\n",
      "+-----+------------------------------------------------------------+-----------+----------------+\n",
      "| (2) | firms' Deposits Current Cycle (with current interests)     | 1699.12   | bank stock (+) |\n",
      "+-----+------------------------------------------------------------+-----------+----------------+\n",
      "| (3) | firms' Loans Previous Cycle                                |    0      | bank stock (+) |\n",
      "+-----+------------------------------------------------------------+-----------+----------------+\n",
      "| (4) | firms' Loans Current Cycle (with current interests)        |    0      | bank stock (-) |\n",
      "+-----+------------------------------------------------------------+-----------+----------------+\n",
      "| (5) | firms' Revenues Current Cycle (with interests on deposits) |  217.658  | bank flow (+)  |\n",
      "+-----+------------------------------------------------------------+-----------+----------------+\n",
      "| (6) | firms' Paid Wages Current Cycle                            |   82      | bank flow (-)  |\n",
      "+-----+------------------------------------------------------------+-----------+----------------+\n",
      "| (7) | firms' Paid Dividends Current Cycle                        |   74.5831 | bank flow (-)  |\n",
      "+-----+------------------------------------------------------------+-----------+----------------+\n",
      "\n",
      "Reconciliation\n",
      "\n",
      "\n",
      "- (1) + (2) + (3) - (4) =>  61.07452859997761\n",
      "\n",
      "+ (5) - (6) - (7)       =>  61.074528599976986 \n",
      "\n",
      "___________________________________________________________________________________\n",
      "\n",
      "\n",
      "\n",
      "BANKS\n",
      "\n",
      "\n",
      "+--------+-------+----------+-----------+------------+-----------+------------+-----------+------------+---------+\n",
      "| # in   | num   |     bank |      bank |       bank |      bank | myFirm     | myFirm    | int        | int     |\n",
      "| bank   |       |   InitEn |   Workers |   Dividend |    Profit | Bank       | Bank      | On         | On      |\n",
      "| List   |       |          |           |            |           | Account    | Account   | Firm       | Loans   |\n",
      "|        |       |          |           |            |           | Deposits   | Loans     | Deposits   | to      |\n",
      "|        |       |          |           |            |           | (t-1)      | (t-1)     |            | Firms   |\n",
      "+========+=======+==========+===========+============+===========+============+===========+============+=========+\n",
      "| 0      | 37    |   92.942 |         9 |          0 | -132.416  | 1363.401   | 0         | -          | -       |\n",
      "|        |       |          |           |            |           | (1313.617) | (0)       |            |         |\n",
      "+--------+-------+----------+-----------+------------+-----------+------------+-----------+------------+---------+\n",
      "| 1      | 11    |  117.746 |         9 |          0 |  -31.3516 | 335.724    | 0         | -          | -       |\n",
      "|        |       |          |           |            |           | (324.434)  | (0)       |            |         |\n",
      "+--------+-------+----------+-----------+------------+-----------+------------+-----------+------------+---------+\n",
      "| tot    |       |  210.688 |        18 |          0 | -163.768  | 1699.125   | 0         | -          | -       |\n",
      "|        |       |          |           |            |           | (1638.05)  | (0)       |            |         |\n",
      "+--------+-------+----------+-----------+------------+-----------+------------+-----------+------------+---------+\n"
     ]
    }
   ],
   "source": [
    "%run -i test"
   ]
  },
  {
   "cell_type": "code",
   "execution_count": null,
   "id": "direct-mailman",
   "metadata": {},
   "outputs": [],
   "source": []
  }
 ],
 "metadata": {
  "kernelspec": {
   "display_name": "Python 3",
   "language": "python",
   "name": "python3"
  },
  "language_info": {
   "codemirror_mode": {
    "name": "ipython",
    "version": 3
   },
   "file_extension": ".py",
   "mimetype": "text/x-python",
   "name": "python",
   "nbconvert_exporter": "python",
   "pygments_lexer": "ipython3",
   "version": "3.9.7"
  }
 },
 "nbformat": 4,
 "nbformat_minor": 5
}
