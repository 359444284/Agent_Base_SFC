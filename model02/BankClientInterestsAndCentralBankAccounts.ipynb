{
 "cells": [
  {
   "cell_type": "markdown",
   "id": "legitimate-complaint",
   "metadata": {},
   "source": [
    "## Bank Client Interests and Central Bank Accounts\n",
    "\n",
    "A note about modification to be done.\n",
    "\n",
    "*Metaproblem*: can we use $M1$ as name for the deposits of the banks at the central bank?\n",
    "\n",
    "### interests on Loans to Firms\n",
    "<p style=\"color:red\">To be corrected</p>\n",
    "\n",
    "The code is the following (in class **Bank**) starting with the lines with **#!!!**:"
   ]
  },
  {
   "cell_type": "raw",
   "id": "unavailable-assurance",
   "metadata": {},
   "source": [
    "    def computeAndApplyInterests(self):\n",
    "\n",
    "        #interest are always calculate as positive values, then we add or subctract them \n",
    "        #to and from the accounts and we add them to revenues or costs\n",
    "        \n",
    "        for aPrivateClient in self.myPrivateClients:\n",
    "            if aPrivateClient.checkingAccount >=0:\n",
    "                interests=aPrivateClient.checkingAccount*cmv.interestRateOnDeposits\n",
    "                aPrivateClient.checkingAccount+=interests\n",
    "                aPrivateClient.interestOnDeposits=interests\n",
    "                \n",
    "            else: #aPrivateClient.checkingAccount < 0\n",
    "                interests=abs(aPrivateClient.checkingAccount*cmv.interestRateOnLoansVsAgents)\n",
    "                aPrivateClient.checkingAccount-=interests\n",
    "                aPrivateClient.interestOnLoans=interests\n",
    "               \n",
    "        for aCommercialClient in self.myCommercialClients:\n",
    "            if aCommercialClient.bankAccount >=0:\n",
    "                interests=aCommercialClient.bankAccount*cmv.interestRateOnDeposits\n",
    "                aCommercialClient.bankAccount+=interests\n",
    "                aCommercialClient.interestOnDeposits=interests\n",
    "\n",
    "            else: #aCommercialClient.bankAccount < 0 #!!!\n",
    "                interests=abs(aCommercialClient.bankAccount*cmv.interestRateOnLoansVsFirms) #!!!\n",
    "                aCommercialClient.bankAccount-=interests #!!!\n",
    "                aCommercialClient.interestOnLoans=interests #!!!\n",
    "                \n",
    "        self.myPrivateClientsTotalInterestOnDeposits=\\\n",
    "                 sum(list(self.myPrivateClients[i].interestOnDeposits for i \\\n",
    "                 in range(len(self.myPrivateClients))))\n",
    "        \n",
    "        self.myPrivateClientsTotalInterestOnLoans=\\\n",
    "                 sum(list(self.myPrivateClients[i].interestOnLoans    for i \\\n",
    "                 in range(len(self.myPrivateClients))))\n",
    "        \n",
    "        self.myCommercialClientsTotalInterestOnDeposits=\\\n",
    "                 sum(list(self.myCommercialClients[i].interestOnDeposits for i \\\n",
    "                 in range(len(self.myCommercialClients))))\n",
    "        \n",
    "        self.myCommercialClientsTotalInterestOnLoans=\\\n",
    "                 sum(list(self.myCommercialClients[i].interestOnLoans    for i \\\n",
    "                 in range(len(self.myCommercialClients))))\n",
    "        \n",
    "\n"
   ]
  },
  {
   "cell_type": "markdown",
   "id": "legitimate-affiliation",
   "metadata": {},
   "source": [
    "### the analysis of the error in accouting interests, with banks with huge dividends to pay and empty accounts\n",
    "\n",
    "- bank 0 debits interest amount to client-X's account; it also add that value to the revenues;\n",
    "\n",
    "- Imagine that client-X does not agree to increase his debt to bank 0 and obtains a credit to pay that interest from bank 1;\n",
    "\n",
    "- client-X pays the interest to bank 0: bank 1 debits the amount to client-X and credits it to bank 0 (money creation!); bank 0 credits the amount to client-X and debits its account at the central bank;at the same time, it does the same operation with its treasury account;\n",
    "\n",
    "- the treasury account of 0 gets increases and bank 0 pays dividends without using loans form the central bank;\n",
    "\n",
    "- if we conmanage the whole operation only with bank 0, the result must be the same;\n",
    "\n",
    "- bank 0 debits client-X and gives it further credit as client-X does not pay the interest amount (as if bank 0 should open a new credit line and client-X would use it to pay the interest). client-X's new debt is the interest debited in its account; new money has been created and bank 0 credits its central bank account of the amount of the 'virtual interest payment'.\n",
    "\n"
   ]
  },
  {
   "cell_type": "markdown",
   "id": "tropical-hawaiian",
   "metadata": {},
   "source": [
    "NB NB check $X^d_{a|f,b}$ and $X^l_{a|f,b}$, were $X^d_{a|f|b}$ and $X^l_{a|f|b}$; verify the definitions too. \n",
    "\n",
    "- **computeAndApplyInterests**\n",
    "\n",
    "\n",
    "\n",
    "- interests on Loans to Firms (firm $i$ and bank $j$)\n",
    "\n",
    "we treat the final balance of the interval $M1^f_{i,t}$ as if it had been constant throughout the periodthe\n",
    "\n",
    "$X^l_{i,j}= M1^f_{i,t} x^{l^f}$\n",
    "\n",
    "[being $M1^f_{i,t}$ a \"firm's bank account (with positive or negative balance)\", the name $M1$ is inappropriate]\n",
    "\n",
    "$\\Delta M1^f_{i,t}=-X^l_{i,j}$\n",
    "\n",
    "$\\Delta M1^b_j = X^l_{i,j}$\n",
    "\n",
    "$\\Delta M1^T_j = X^l_{i,j}$\n",
    "\n",
    "\n",
    "\n",
    "\n",
    "\n",
    "\n",
    "\n",
    "\n"
   ]
  },
  {
   "cell_type": "markdown",
   "id": "cardiovascular-soundtrack",
   "metadata": {},
   "source": [
    "New codes  in class **Bank** are:\n",
    "\n",
    "<p style=\"color:red\">(to be verified)</p>"
   ]
  },
  {
   "cell_type": "raw",
   "id": "single-course",
   "metadata": {},
   "source": [
    "a"
   ]
  }
 ],
 "metadata": {
  "kernelspec": {
   "display_name": "Python 3",
   "language": "python",
   "name": "python3"
  },
  "language_info": {
   "codemirror_mode": {
    "name": "ipython",
    "version": 3
   },
   "file_extension": ".py",
   "mimetype": "text/x-python",
   "name": "python",
   "nbconvert_exporter": "python",
   "pygments_lexer": "ipython3",
   "version": "3.9.7"
  }
 },
 "nbformat": 4,
 "nbformat_minor": 5
}
