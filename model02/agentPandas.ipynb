{
 "cells": [
  {
   "cell_type": "code",
   "execution_count": 1,
   "id": "3bc940e4",
   "metadata": {},
   "outputs": [],
   "source": [
    "import pandas as pd"
   ]
  },
  {
   "cell_type": "code",
   "execution_count": 2,
   "id": "80d2bd9e",
   "metadata": {},
   "outputs": [],
   "source": [
    "class Ap():\n",
    "    def __init__(self, num):\n",
    "        self.num=num"
   ]
  },
  {
   "cell_type": "code",
   "execution_count": 3,
   "id": "07df8d7a",
   "metadata": {},
   "outputs": [],
   "source": [
    "aList=[]\n",
    "for i in range(100):\n",
    "    anAp=Ap(i+1)\n",
    "    aList.append(anAp)"
   ]
  },
  {
   "cell_type": "code",
   "execution_count": 4,
   "id": "e9bbe197",
   "metadata": {},
   "outputs": [
    {
     "data": {
      "text/plain": [
       "100"
      ]
     },
     "execution_count": 4,
     "metadata": {},
     "output_type": "execute_result"
    }
   ],
   "source": [
    "aList[-1].num"
   ]
  },
  {
   "cell_type": "code",
   "execution_count": null,
   "id": "d2a23467",
   "metadata": {},
   "outputs": [],
   "source": []
  }
 ],
 "metadata": {
  "kernelspec": {
   "display_name": "Python 3 (ipykernel)",
   "language": "python",
   "name": "python3"
  },
  "language_info": {
   "codemirror_mode": {
    "name": "ipython",
    "version": 3
   },
   "file_extension": ".py",
   "mimetype": "text/x-python",
   "name": "python",
   "nbconvert_exporter": "python",
   "pygments_lexer": "ipython3",
   "version": "3.9.7"
  }
 },
 "nbformat": 4,
 "nbformat_minor": 5
}
