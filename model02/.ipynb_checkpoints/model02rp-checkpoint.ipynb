{
 "cells": [
  {
   "cell_type": "markdown",
   "id": "naval-nomination",
   "metadata": {},
   "source": [
    "# model02rp\n",
    "### Un altro passo: arrivano le banche!\n",
    "#### Sempre in azione l'*Istituto Centrale di Statistica* con a fianco la *Banca d'Italia*\n",
    "\n",
    "use it in [Notebook viewer](https://nbviewer.org/github/terna/ejmmp/blob/main/model02/model02rp.ipynb) or explore it in [GitHub](https://github.com/terna/ejmmp/tree/main/model02) (with the tools.py and metaActions.py files)\n",
    "\n",
    "to force the updatem if missing, follow once [Notebook viewer and flush cache](https://nbviewer.org/github/terna/ejmmp/blob/main/model02/model02rp.ipynb?flush_cache=true)\n",
    "\n",
    "[Wikipedia as a memo](https://en.wikipedia.org/wiki/Stock-flow_consistent_model#cite_note-42)"
   ]
  },
  {
   "cell_type": "code",
   "execution_count": 1,
   "id": "latter-survey",
   "metadata": {
    "scrolled": true
   },
   "outputs": [
    {
     "data": {
      "application/javascript": [
       "// to avoid scroll in windows\n",
       "IPython.OutputArea.prototype._should_scroll = function(lines) {\n",
       "    return false;\n",
       "}\n"
      ],
      "text/plain": [
       "<IPython.core.display.Javascript object>"
      ]
     },
     "metadata": {},
     "output_type": "display_data"
    }
   ],
   "source": [
    "%%javascript\n",
    "// to avoid scroll in windows\n",
    "IPython.OutputArea.prototype._should_scroll = function(lines) {\n",
    "    return false;\n",
    "}"
   ]
  },
  {
   "cell_type": "code",
   "execution_count": 2,
   "id": "large-brooks",
   "metadata": {},
   "outputs": [],
   "source": [
    "%matplotlib inline\n",
    "import random as r\n",
    "import matplotlib.pyplot as plt\n",
    "import commonVar as cmv\n",
    "import numpy as np\n",
    "from tools import *\n",
    "from metaActions import *\n",
    "from generateSeeds import *\n",
    "from plot import *\n",
    "import sys"
   ]
  },
  {
   "cell_type": "markdown",
   "id": "prostate-shadow",
   "metadata": {},
   "source": [
    "### Stock-flow *model02*, with real and financial elements\n",
    "\n",
    "- The model also considers the monetary side of the economy.\n",
    "\n",
    "  \n",
    "\n",
    "- We have to initialize loans and capital stocks.\n",
    "\n",
    "  \n",
    "\n",
    "- Currently, entrepreneurs have unlimited funds that they put freely in their activities, balancing other agent negative cash, if any.\n",
    "\n",
    "  \n",
    "\n",
    "- Saving is abstension from consuming, increasing agents' liquidity.\n",
    "\n",
    "\n",
    "\n",
    "- Investments are uniquely for replacement, without technical progress.\n",
    "\n",
    "  "
   ]
  },
  {
   "cell_type": "markdown",
   "id": "comparable-matthew",
   "metadata": {},
   "source": [
    "### symbol table\n",
    "\n",
    "[symbol table](https://oeis.org/wiki/List_of_LaTeX_mathematical_symbols) in $\\LaTeX$\n",
    "\n",
    "$a_i$ -  with $a_i \\in \\mathbf{A}$; agent number $N=|\\mathbf{A}|$, `agentList` and`agentNum`\n",
    "\n",
    "$a^e_i$ -  with $a^e_i \\in \\mathbf{A^e}$ and $\\mathbf{A^e} \\subset \\mathbf{A}$; employer number $N^e=|\\mathbf{A^e}|$ in range $[N^e_{min},N^e_{max}]$, `employerList`\n",
    "\n",
    "$\\mathbf{F}$ - firms' set, with $f_j \\in \\mathbf{F}$ being $N^f = |\\mathbf{F}|$,  with $N^f = |\\mathbf{F}| = |\\mathbf{A^e}|$ , `firmList`\n",
    "\n",
    "$\\mathbf{A}^w$ - working agents' set, being $\\mathbf{A}^w \\subseteq \\mathbf{A}$, with $N^w_i=|\\mathbf{A}^w_i|$ number of working agents employed by employer $i$, also including self-employed employers, with $a_i \\in \\mathbf{A}^e$\n",
    "\n",
    "$\\mathbf{B}$ - banks' set, with $b_j \\in \\mathbf{B}$ being $N^b = |\\mathbf{B}|$, `bankList`\n",
    "\n",
    "$x^d$ - interest rate on deposits, `interestRateOnDeposits`\n",
    "\n",
    "$x^{l^a}$ - interest rate on loans to (private) agents, `interestRateOnLoansVsAgents`\n",
    "\n",
    "$x^{l^f}$ - interest rate on loans to firms, `interestRateOnLoansVsFirms`\n",
    "\n",
    "$X^d_{a|f|b}$ - amount of positive interest on deposits for a given interval $t$ for agents $a$ or firms $f$, and negative for banks $b$, `interestOnDeposits`\n",
    "\n",
    "$X^l_{a|f|b}$ - amount of negative interest on loans for a given interval $t$ for agents $a$ or firms $f$, and positive for banks $b$, `interestOnLoans`\n",
    "\n",
    "$p$ - price `price`\n",
    "\n",
    "$u$ - unemployment rate `unemploymentRate`\n",
    "\n",
    "$dimensional~heterogeneity$ is a $true/false$ chooser, forcing increasing firms to attract more workers. `dimensionalHeterogeneity`\n",
    "\n",
    "$\\pi_{i,t}$ - labor productivity, a uniformly distributed decimal number in range $[\\pi_{min},\\pi_{max}]$,`productivity`\n",
    "\n",
    "&Delta;$\\pi_{i,t}$ - uniperiodal additive productivity correction in range $[$&Delta;$\\pi_{min},$ &Delta;$\\pi_{max}]$, `productivityDelta`\n",
    "\n",
    "$n_{i,t}$ - number of workers in a firm\n",
    "\n",
    "$q_{i,t}$ - production in quantity, `production`\n",
    "\n",
    "$\\Pi_{i,t}$ - profit, `profit`\n",
    "\n",
    "$\\rho$ - profit distribution share, `rho`\n",
    "\n",
    "$\\delta_{i,t}$ - dividend $\\rho\\Pi_{i,t}$, `dividend` or `perceivedDividend` \n",
    "\n",
    "$W$ - wage `wage`\n",
    "\n",
    "$R_{i,t}$ - revenues, `revenues`\n",
    "\n",
    "$s_{i,t}$ - sales in quantity, `sales`\n",
    "\n",
    "$v_{i,t}$ - in**v**entories (final, initial), `initialInventories`, `finalInventories`\n",
    "\n",
    "$d_{i}$ - deperibility share of the production, `deperibilityShare`, setting $d_{max}$\n",
    "\n",
    "$c_{i,t}$ - consumption rate, a uniformly distributed decimal number in range $[c_{min},c_{max}]$,`consumptionRate`\n",
    "\n",
    "$C_{i,t}$ - consumption of $i$ in $t$\n",
    "\n",
    "$I_{i,t}$  - investment plan  of $i$ in $t$, a uniformly distributed realization in range $[I_{min},I_{max}]$,`investmentProgram`\n",
    "\n",
    "$H_{i,t}$  - high powered money (cash) held by individuals (also acting as employers), `cashMoney`\n",
    "\n",
    "$M1_{i,t}$ - checking account money deposits held by  $a_i$ at time $t$, `checkingAccount`\n",
    "\n",
    "$M1^f_{i,t}$ - firm's bank account (with positive or negative balance), `bankAccount`\n",
    "\n",
    "$M1^b_{i,t}$ - bank's account (with positive or negative balance) mantained with the central bank , `centralBankAccount`\n",
    "\n",
    "the investment and consumption actions are repeated in each cycle, looking around randomly for the sellers; currently `nOfConsumptionActions` $=30$ and `nOfInvestmentActions`$=10$; each consumption buy action is at maximum the 20% of the planned consumptions in that cycle; instead, each investment buy action can reach the whole amount of the investment program of the cycle; each buy action is limited by the residual capabilty of the seller\n",
    "\n",
    "**magically**, the same good can be a consumption item or an investment one\n",
    "\n",
    "$T$ - number of cycles `ncycles`\n",
    "\n",
    "$t$ - current cycle `cycle`\n",
    "\n"
   ]
  },
  {
   "cell_type": "markdown",
   "id": "broke-marathon",
   "metadata": {},
   "source": [
    "## agent structure\n",
    "\n",
    "The structure of an **agent**: it can represent an entrepreneur, a worker, an unemployed person.\n",
    "\n",
    "When an agent is created, the **initialization process** defines:\n",
    "\n",
    "- its numerical id, `num`\n",
    "- its entrepreneur status, `entrepreneur`, set to $false$\n",
    "- the id of its employer, `myEmployer`, set to $0$\n",
    "- if entrepreneur, the id of its firm, `myFirm`, set to $0$\n",
    "- $c_{i,0}$ - consumption rate, set to $0$\n",
    "- $H_{i,0}$ - cash money, set to $0$ \n",
    "- $M1_{i,0}$ - checking account money deposits, set to $0$\n",
    "\n",
    "## firm structure\n",
    "\n",
    "- $R_{i,0}$ - `revenues`, initial value  $0$\n",
    "- $s_{i,0}$ - `sales`, initial value  $0$\n",
    "- $v^i_{i,0}$ - in**v**entories, `initialInventories`, set to $0$ \n",
    "- $v^f_{i,0}$ - in**v**entories, `finalInventories`, set to $0$ \n",
    "- $d_{i}$ - deperibility share, a uniformly distributed decimal number in range $[0,d_{max}]$,`deperibilityShare`\n",
    "- $I_{i,0}$  - investment plan, set to $0$\n",
    "- $\\Pi_{i,0}$ - profit, set to $0$, being the related dividend $D_{i,0}$, set to $0$\n",
    "- $M1^f_{i,0}$ - firm's bank account, set to $0$\n",
    "- $\\pi_{i,t-1}$ set within the initialization step\n",
    "\n",
    "## bank structure\n",
    "\n",
    "- $R_{i,0}$ - `revenues`, initial value  $0$\n",
    "- $I_{i,0}$  - investment plan, set to $0$\n",
    "- $\\Pi_{i,0}$ - profit, set to $0$, being the related dividend $D_{i,0}$, set to $0$\n",
    "- $M1^b_{i,0}$ - bank's account mantained with the central bank, set to $0$\n",
    "- $\\pi_{i,t-1}$ set within the initialization step\n",
    "\n",
    "\n",
    "\n",
    "each **agent** has the **functions**:\n",
    "\n",
    "- **buyConsumptionGoods** \n",
    "\n",
    "  $C_{i,t}=c_{i,t} (W+D_{i,t-1}+X^d_{i,t-1}-X^l_{i,t-1})$; using $D_{i,t-1},X^d_{i,t-1},X^l_{i,t-1}$ we introduce lags with (possible) cyclical effect\n",
    "\n",
    "  being $bu$ the buyer and $se$ the seller (firm), for each fraction $C_{i,t}/k$ \n",
    "\n",
    "  ($k$ is the number of buying actions in each cycle with random share [0,cmv.maxConsumptionShareInSubstep))\n",
    "\n",
    "  &Delta;$M1^f_{se,t}=C_{bu,t}/k$\n",
    "\n",
    "  &Delta;$M1_{bu,t}=-C_{bu,t}/k$\n",
    "\n",
    "\n",
    "\n",
    "\n",
    "each **firm** has the **functions**:\n",
    "\n",
    "- **produce** function (production in quantity), with:\n",
    "\n",
    "  $\\pi_{i,t}=\\pi_{i,t-1}+$&Delta;$\\pi_{i,t}$\n",
    "\n",
    "  $q_{i,t}=n_{i,t} \\pi_{i,t}$\n",
    "\n",
    "  \n",
    "\n",
    "- **payWages**\n",
    "\n",
    "  paying $W$ to each worker in each time $t$\n",
    "\n",
    "  &Delta;$M1_{i,t}=W$ for  $a_i \\in \\mathbf{A}^w$ \n",
    "\n",
    "  &Delta;$M1^f_{i,t}=-W \\mathbf{N}^w_i$ for $a_i \\in \\mathbf{A}^e$ \n",
    "\n",
    "  \n",
    "\n",
    "- **buyInvestmentGoods**\n",
    "\n",
    "  $I_{j,t}$ for $f_j \\in \\mathbf{F}$  ($I_{j,t}$ is exogenously set)\n",
    "\n",
    "  being $bu$ the buyer (firm) and $se$ the seller (firm), for each fraction $I_{j,t}/k$\n",
    "\n",
    "  ($k$ is the number of investment actions in each cycle, with random share [0,cmv.maxInvestmentShareInSubstep))\n",
    "\n",
    "  &Delta;$M1^f_{se,t}=I_{bu,t}/k$\n",
    "\n",
    "  &Delta;$M1^f_{bu,t}=-I_{bu,t}/k$\n",
    "\n",
    "  \n",
    "\n",
    "- **makeBalanceSheet**\n",
    "\n",
    "  $v^f_{i,t}=v^i_{i,t}+(q_{i,t}-s_{i,t}) (1 - d_{i})$\n",
    "\n",
    "  $R_{i,t}=p s_{i,t}+X^d_{i,t}$\n",
    "\n",
    "  $\\Pi_{i,t}=R_{i,t}-W n_{i,t}-X^l_{i,t}+p(v^f_{i,t}-v^i_{i,t})$\n",
    "\n",
    "  reordering, we have:\n",
    "\n",
    "  $\\underbrace{\\Pi_{i,t}+W n_{i,t}+X^l_{i,t}}_{\\textrm{direct added value}}=\\underbrace{R_{i,t}+p(v^f_{i,t}-v^i_{i,t})}_{\\textrm{indirect added value (*)}}$\n",
    "\n",
    "  (*) the cost of bought-in materials and components is missing by construction in this version of the model\n",
    "\n",
    "- **distributeDividend**\n",
    "\n",
    "  $\\delta_{i,t}=\\rho\\Pi_{i,t}$​\n",
    "\n",
    "  &Delta;$M1_{i,t}=\\delta_{i,t}$\n",
    "\n",
    "  &Delta;$M1^f_{i,t}=-\\delta_{i,t}$\n",
    "\n",
    "  \n",
    "\n",
    "each **bank** has the **functions**:\n",
    "\n",
    "- **produce** function (production of bank services in quantity), analogously with the firm one\n",
    "\n",
    "  \n",
    "\n",
    "- **payWages**\n",
    "\n",
    "  paying $W$ to each worker in each time $t$\n",
    "\n",
    "  &Delta;$M1_{i,t}=W$ for  $a_i \\in \\mathbf{A}^w$ \n",
    "\n",
    "  &Delta;$M1^f_{i,t}=-W \\mathbf{N}^w_i$ for $a_i \\in \\mathbf{A}^e$\n",
    "\n",
    "  \n",
    "\n",
    "- **distributeDividend**\n",
    "\n",
    "  $\\delta_{i,t}=\\rho\\Pi_{i,t}$​​\n",
    "\n",
    "  &Delta;$M1_{i,t}=\\delta_{i,t}$\n",
    "\n",
    "  &Delta;$M1^b_{i,t}=-\\delta_{i,t}$\n",
    "\n",
    "  \n",
    "\n",
    "- **makeBalanceSheet**, with:\n",
    "\n",
    "    being $d_{i}=1$ we have $v^f_{i,t}=v^i_{i,t}=0$\n",
    "\n",
    "    $R_{i,t}=p s_{i,t}+\\sum_{a_i}X^l_{i,t}+\\sum_{f_i}X^l_{i,t}$\n",
    "\n",
    "    $\\Pi_{i,t}=R_{i,t}-W n_{i,t}-\\sum_{a_i}X^d_{i,t}-\\sum_{f_i}X^d_{i,t}$\n",
    "\n",
    "    reordering, we have:\n",
    "\n",
    "    $\\underbrace{\\Pi_{i,t}+W n_{i,t}+\\sum_{a_i}X^d_{i,t}+\\sum_{f_i}X^d_{i,t}}_{\\textrm{direct added value}}=\\underbrace{R_{i,t}}_{\\textrm{indirect added value (*)}}$\n",
    "\n",
    "    (*) the cost of bought-in materials and components is missing by construction in this version of the model\n"
   ]
  },
  {
   "cell_type": "code",
   "execution_count": 3,
   "id": "found-bibliography",
   "metadata": {
    "scrolled": false
   },
   "outputs": [],
   "source": [
    "class Agent():\n",
    "    def __init__(self, num,r,seed):\n",
    "        self.num=num\n",
    "        self.entrepreneur=False\n",
    "        #self.myFirm=0\n",
    "        self.myEnterprise=0\n",
    "        self.myEmployer=0\n",
    "        self.consumptionRate=0\n",
    "        self.cashMoney=0\n",
    "        self.checkingAccount=0\n",
    "        self.perceivedWage=0\n",
    "        self.perceivedDividend=0\n",
    "        self.myBank=0\n",
    "        self.interestOnDeposits=0\n",
    "        self.interestOnLoans=0\n",
    "        self.r=r.Random()\n",
    "        self.r.seed(seed)\n",
    "        self.myFirmBankList=[]\n",
    "\n",
    "    def buyConsumptionGoods(self,k):\n",
    "        if k==0: \n",
    "            self.consumptionRate=self.r.uniform(cmv.consumptionRateMin,cmv.consumptionRateMax)\n",
    "            self.consumption=(self.perceivedWage+self.perceivedDividend+\\\n",
    "                self.interestOnDeposits-self.interestOnLoans)*self.consumptionRate\n",
    "            if self.consumption < 0: self.consumption=0 \n",
    "\n",
    "            self.interestOnDeposits=0\n",
    "            self.interestOnLoans=0\n",
    "            self.perceivedWage=0\n",
    "            self.perceivedDividend=0\n",
    "            self.madeConsumption=0\n",
    "        \n",
    "        if self.myFirmBankList==[]: self.myFirmBankList=cmv.firmList+cmv.bankList\n",
    "        self.r.shuffle(self.myFirmBankList)\n",
    "        mySeller=self.myFirmBankList[0]\n",
    "        self.purchase=self.r.uniform(0,cmv.maxConsumptionShareInSubstep)*self.consumption \n",
    "                            # mean value should be calibrated with thenumber of buy action\n",
    "        self.purchase=min(self.purchase,self.consumption-self.madeConsumption)\n",
    "        self.purchase=min(self.purchase,cmv.price*(mySeller.production+\\\n",
    "                                        mySeller.initialInventories-mySeller.sales))\n",
    "        mySeller.sales+=self.purchase/cmv.price\n",
    "        if mySeller.__class__.__name__==\"Firm\": mySeller.bankAccount+=self.purchase\n",
    "        if mySeller.__class__.__name__==\"Bank\": mySeller.centralBankAccount+=self.purchase\n",
    "        self.checkingAccount-=self.purchase\n",
    "        self.madeConsumption+=self.purchase\n",
    "    \n"
   ]
  },
  {
   "cell_type": "code",
   "execution_count": 4,
   "id": "dirty-nevada",
   "metadata": {},
   "outputs": [],
   "source": [
    "class Firm():\n",
    "    def __init__(self, num, r,seed):\n",
    "        self.num=num\n",
    "        self.myWorkers=[]\n",
    "        self.myEntrepreneur=0\n",
    "        self.productivity=0\n",
    "        self.initialInventories=0\n",
    "        self.finalInventories=0\n",
    "        self.bankAccount=0\n",
    "        self.salesRevenues=0 #sales*price\n",
    "        self.sales=0\n",
    "        self.deperibilityShare=r.uniform(0,cmv.maxDeperibilityShare)\n",
    "        self.investmentProgram=0\n",
    "        self.profit=0\n",
    "        self.madeInvestment=0\n",
    "        self.interestOnDeposits=0\n",
    "        self.interestOnLoans=0\n",
    "        self.addedValue=0\n",
    "        self.myBank=0\n",
    "        self.r=r.Random()\n",
    "        self.r.seed(seed)\n",
    "        \n",
    "    def produce(self):\n",
    "        self.initialInventories=self.finalInventories\n",
    "        self.productivity+=self.r.uniform(cmv.productivityDeltaMin,cmv.productivityDeltaMax)\n",
    "        self.productivity=max(self.productivity,0)\n",
    "        \n",
    "        self.production=len(self.myWorkers)*self.productivity\n",
    "        self.sales=0\n",
    "\n",
    "    def payWages(self):\n",
    "        for anAgent in self.myWorkers:\n",
    "            anAgent.perceivedWage=cmv.wage\n",
    "            anAgent.checkingAccount+=cmv.wage\n",
    "        self.bankAccount-=cmv.wage*len(self.myWorkers)\n",
    "            \n",
    "    def buyInvestmentGoods(self,k):\n",
    "        if k==0: \n",
    "            self.investmentProgram=r.uniform(cmv.investmentMin,cmv.investmentMax)\n",
    "            self.madeInvestment=0\n",
    "                       \n",
    "        self.r.shuffle(cmv.firmList)\n",
    "        mySeller=cmv.firmList[0]\n",
    "        self.myInvestment=self.r.uniform(0,cmv.maxInvestmentShareInSubstep)*self.investmentProgram\n",
    "        self.myInvestment=min(self.myInvestment,cmv.price*(mySeller.production+\\\n",
    "                              mySeller.initialInventories-mySeller.sales))\n",
    "        mySeller.sales+=self.myInvestment/cmv.price\n",
    "        mySeller.bankAccount+=self.myInvestment\n",
    "        \n",
    "        self.bankAccount-=self.myInvestment\n",
    "        self.investmentProgram-=self.myInvestment\n",
    "        self.madeInvestment+=self.myInvestment\n",
    "        \n",
    "    def makeBalanceSheet(self):\n",
    "        self.lostProduction=0\n",
    "        if self.production - self.sales > 0: \n",
    "            self.lostProduction=(self.production - self.sales)*self.deperibilityShare\n",
    "        #print(self.num, lostProduction,self.productivity)\n",
    "        self.finalInventories=self.initialInventories+self.production-\\\n",
    "                              self.sales-self.lostProduction\n",
    "        self.salesRevenues=self.sales*cmv.price\n",
    "        self.profit=self.salesRevenues - len(self.myWorkers)*cmv.wage + \\\n",
    "          self.interestOnDeposits - self.interestOnLoans + \\\n",
    "          (self.finalInventories-self.initialInventories)*cmv.price\n",
    "        self.addedValue=self.profit+self.interestOnLoans+len(self.myWorkers)*cmv.wage\n",
    "        #self.interestOnDeposits=0\n",
    "        #self.interestOnLoans=0\n",
    "        #print(self.num,self.profit,self.revenues,len(self.myWorkers)*cmv.wage,\\\n",
    "        #      self.finalInventories, self.initialInventories)\n",
    "        \n",
    "    def distributeDividend(self):\n",
    "        if self.profit > 0:\n",
    "            dividend=cmv.rho*self.profit\n",
    "            self.bankAccount-=dividend\n",
    "            self.myEntrepreneur.checkingAccount+=dividend\n",
    "            self.myEntrepreneur.perceivedDividend=dividend        \n"
   ]
  },
  {
   "cell_type": "code",
   "execution_count": 5,
   "id": "exposed-produce",
   "metadata": {},
   "outputs": [],
   "source": [
    "class Bank(Firm):\n",
    "    def __init__(self, num, r,seed):\n",
    "        super().__init__(num,r,seed)\n",
    "        self.myPrivateClients=[]\n",
    "        self.myCommercialClients=[]\n",
    "        self.myDebtsVsAgents=0\n",
    "        self.myDebtsVsFirms=0\n",
    "        self.myCreditsVsAgents=0\n",
    "        self.myCreditsVsFirms=0\n",
    "        self.interestOnDeposits=0\n",
    "        self.interestOnLoans=0\n",
    "        self.centralBankAccount=0\n",
    "        \n",
    "        del self.bankAccount\n",
    "        \n",
    "        self.myPrivateClientsTotalInterestOnDeposits=0\n",
    "        self.myPrivateClientsTotalInterestOnLoans=0\n",
    "        self.myCommercialClientsTotalInterestOnDeposits=0\n",
    "        self.myCommercialClientsTotalInterestOnLoans=0\n",
    "\n",
    "        self.r=r.Random()\n",
    "        self.r.seed(seed)\n",
    "\n",
    "        \n",
    "    def payWages(self):\n",
    "        for anAgent in self.myWorkers:\n",
    "            anAgent.perceivedWage=cmv.wage\n",
    "            anAgent.checkingAccount+=cmv.wage\n",
    "        self.centralBankAccount-=cmv.wage*len(self.myWorkers)\n",
    "\n",
    "        \n",
    "    def buyInvestmentGoods(self,k):\n",
    "        if k==0: \n",
    "            self.investmentProgram=r.uniform(cmv.investmentMin,cmv.investmentMax)\n",
    "            self.madeInvestment=0\n",
    "                       \n",
    "        self.r.shuffle(cmv.firmList)\n",
    "        mySeller=cmv.firmList[0]\n",
    "        self.myInvestment=self.r.uniform(0,cmv.maxInvestmentShareInSubstep)*self.investmentProgram\n",
    "        self.myInvestment=min(self.myInvestment,cmv.price*(mySeller.production+\\\n",
    "                              mySeller.initialInventories-mySeller.sales))\n",
    "        mySeller.sales+=self.myInvestment/cmv.price\n",
    "        mySeller.bankAccount+=self.myInvestment\n",
    "        \n",
    "        self.centralBankAccount-=self.myInvestment\n",
    "        self.investmentProgram-=self.myInvestment\n",
    "        self.madeInvestment+=self.myInvestment\n",
    "\n",
    "        \n",
    "    def makeBalanceSheet(self):\n",
    "        self.lostProduction=0\n",
    "        #if self.production - self.sales > 0: \n",
    "        #    self.lostProduction=self.production - self.sales\n",
    "        self.finalInventories=0\n",
    "        self.salesRevenues=self.sales*cmv.price\n",
    "\n",
    "        self.profit=self.salesRevenues - len(self.myWorkers)*cmv.wage\\\n",
    "          + self.myPrivateClientsTotalInterestOnLoans\\\n",
    "          + self.myCommercialClientsTotalInterestOnLoans\\\n",
    "          - self.myPrivateClientsTotalInterestOnDeposits\\\n",
    "          - self.myCommercialClientsTotalInterestOnDeposits\n",
    "        self.addedValue=self.profit+self.myPrivateClientsTotalInterestOnDeposits+\\\n",
    "             self.myCommercialClientsTotalInterestOnDeposits+len(self.myWorkers)*cmv.wage\n",
    "\n",
    "        \n",
    "    def distributeDividend(self):\n",
    "        if self.profit > 0:\n",
    "            dividend=cmv.rho*self.profit\n",
    "            self.centralBankAccount-=dividend\n",
    "            self.myEntrepreneur.checkingAccount+=dividend\n",
    "            self.myEntrepreneur.perceivedDividend=dividend        \n",
    "\n",
    "            \n",
    "    def computeAndApplyInterests(self):\n",
    "        self.interestOnDeposits=0\n",
    "        self.interestOnLoans=0\n",
    "        #interest are always calculate as positive values, than we add or subctract them \n",
    "        #to and from the accounts and we add them to revenues or costs\n",
    "        \n",
    "        for aPrivateClient in self.myPrivateClients:\n",
    "            if aPrivateClient.checkingAccount >=0:\n",
    "                interests=aPrivateClient.checkingAccount*cmv.interestRateOnDeposits\n",
    "                self.interestOnDeposits+=interests\n",
    "                aPrivateClient.checkingAccount+=interests\n",
    "                aPrivateClient.interestOnDeposits=interests\n",
    "                \n",
    "            else: #aPrivateClient.checkingAccount < 0\n",
    "                interests=abs(aPrivateClient.checkingAccount*cmv.interestRateOnLoansVsAgents)\n",
    "                self.interestOnLoans+=interests\n",
    "                aPrivateClient.checkingAccount-=interests\n",
    "                aPrivateClient.interestOnLoans=interests\n",
    "               \n",
    "        for aCommercialClient in self.myCommercialClients:\n",
    "            if aCommercialClient.bankAccount >=0:\n",
    "                interests=aCommercialClient.bankAccount*cmv.interestRateOnDeposits\n",
    "                self.interestOnDeposits+=interests\n",
    "                aCommercialClient.bankAccount+=interests\n",
    "                aCommercialClient.interestOnDeposits=interests\n",
    "\n",
    "            else: #aCommercialClient.bankAccount < 0\n",
    "                interests=abs(aCommercialClient.bankAccount*cmv.interestRateOnLoansVsFirms)\n",
    "                self.interestOnLoans+=interests\n",
    "                aCommercialClient.bankAccount-=interests\n",
    "                aCommercialClient.interestOnLoans=interests\n",
    "                \n",
    "        self.myPrivateClientsTotalInterestOnDeposits=\\\n",
    "                 sum(list(self.myPrivateClients[i].interestOnDeposits for i \\\n",
    "                 in range(len(self.myPrivateClients))))\n",
    "        \n",
    "        self.myPrivateClientsTotalInterestOnLoans=\\\n",
    "                 sum(list(self.myPrivateClients[i].interestOnLoans    for i \\\n",
    "                 in range(len(self.myPrivateClients))))\n",
    "        \n",
    "        self.myCommercialClientsTotalInterestOnDeposits=\\\n",
    "                 sum(list(self.myCommercialClients[i].interestOnDeposits for i \\\n",
    "                 in range(len(self.myCommercialClients))))\n",
    "        \n",
    "        self.myCommercialClientsTotalInterestOnLoans=\\\n",
    "                 sum(list(self.myCommercialClients[i].interestOnLoans    for i \\\n",
    "                 in range(len(self.myCommercialClients))))\n",
    "        \n",
    "    def makeFinancialAccounts(self):\n",
    "        self.myDebtsVsAgents=0\n",
    "        self.myDebtsVsFirms=0\n",
    "        self.myCreditsVsAgents=0\n",
    "        self.myCreditsVsFirms=0\n",
    "\n",
    "        for aPrivateClient in  self.myPrivateClients:\n",
    "            if aPrivateClient.checkingAccount>=0: \\\n",
    "                self.myDebtsVsAgents-=aPrivateClient.checkingAccount\n",
    "            if aPrivateClient.checkingAccount<0: \\\n",
    "                self.myCreditsVsAgents+=aPrivateClient.checkingAccount\n",
    "        for aCommercialClient in  self.myCommercialClients:\n",
    "            if aCommercialClient.bankAccount>=0: \\\n",
    "                self.myDebtsVsFirms-=aCommercialClient.bankAccount\n",
    "            if aCommercialClient.bankAccount<0: \\\n",
    "                self.myCreditsVsFirms+=aCommercialClient.bankAccount\n",
    "        \n",
    "        "
   ]
  },
  {
   "cell_type": "markdown",
   "id": "given-bangkok",
   "metadata": {},
   "source": [
    "### agent setup\n",
    "\n",
    "- agent basic creation\n",
    "\n",
    "  \n",
    "\n",
    "- creation of entrepreneur list\n",
    "\n",
    "  \n",
    "\n",
    "- selecting entrepreneurs and creating their firms or their banks\n",
    "\n",
    "  \n",
    "\n",
    "- with a given (heterogeneous) productivity\n",
    "\n",
    "  \n",
    "\n",
    "- linking the firm or the bank to its entrepreneur, considering the entrepreneur itself as a worker in its firm or bank\n",
    "\n",
    "  \n",
    "\n",
    "- creation of a temporary workforce list of to-be-employed agent, escluding entrepreneurs (already self employed)\n",
    "\n",
    "  \n",
    "\n",
    "- applying the unmployement rate to exclude agents\n",
    "\n",
    "  \n",
    "\n",
    "- assigning workforce (to-be-employed agents) to firms of banks, with a reinforcement mechanism, gradually giving more attraction/hiring capability to firms or banks growing the most\n",
    "\n",
    "\n",
    "- assigning agents and firms to banks in a random way\n",
    "\n"
   ]
  },
  {
   "cell_type": "code",
   "execution_count": 6,
   "id": "weekly-jordan",
   "metadata": {},
   "outputs": [],
   "source": [
    "def setup(r,seed):\n",
    "    \n",
    "    seedManager(r,seed,'setup',setup)\n",
    "    \n",
    "    #print(r.random(),setup.r.random())\n",
    "        \n",
    "    cmv.agentList=[]\n",
    "    for n in range(cmv.agentNum):\n",
    "        anAgent=Agent(n+1,r,cmv.agentSeedList[n])\n",
    "        cmv.agentList.append(anAgent)\n",
    "\n",
    "    \n",
    "    # creation of: entrepreneur list; firm list; bank list\n",
    "    cmv.entrepreneurNum=setup.r.randint(cmv.entrepreneurMin, cmv.entrepreneurMax)\n",
    "    cmv.bankNum=setup.r.randint(cmv.bankMin, cmv.bankMax)\n",
    "    \n",
    "    cmv.entrepreneurList=[]\n",
    "    cmv.firmList=[]\n",
    "    cmv.bankList=[]\n",
    "    entrepreneurCandidates=cmv.agentList.copy()\n",
    "\n",
    "    for n in range(cmv.entrepreneurNum):\n",
    "        \n",
    "        i=setup.r.randint(0,len(entrepreneurCandidates)-1)\n",
    "        \n",
    "        entrepreneurCandidates[i].entrepreneur=True\n",
    "\n",
    "        if len(cmv.bankList) < cmv.bankNum:\n",
    "            newEnterprise=Bank(entrepreneurCandidates[i].num,\\\n",
    "                               r,cmv.bankSeedList[len(cmv.bankList)])\n",
    "        else:\n",
    "            newEnterprise=Firm(entrepreneurCandidates[i].num,\\\n",
    "                               r,cmv.firmSeedList[len(cmv.firmList)])\n",
    "\n",
    "        entrepreneurCandidates[i].myEnterprise=newEnterprise\n",
    "        entrepreneurCandidates[i].myEmployer=newEnterprise\n",
    "        newEnterprise.myEntrepreneur=entrepreneurCandidates[i]\n",
    "        newEnterprise.myWorkers.append(entrepreneurCandidates[i])\n",
    "        newEnterprise.productivity=\\\n",
    "                setup.r.uniform(cmv.productivityMin,cmv.productivityMax)\n",
    "        cmv.entrepreneurList.append(entrepreneurCandidates.pop(i))\n",
    "        if newEnterprise.__class__.__name__==\"Bank\": cmv.bankList.append(newEnterprise)\n",
    "        if newEnterprise.__class__.__name__==\"Firm\": cmv.firmList.append(newEnterprise)\n",
    "\n",
    "    cmv.firmNum=len(cmv.firmList)\n",
    "    \n",
    "    # creation of workforce list\n",
    "    toBeEmployed=[]\n",
    "\n",
    "    for anAgent in cmv.agentList:\n",
    "        if not anAgent.entrepreneur: toBeEmployed.append(anAgent)\n",
    "    for k in range(round(cmv.unemploymentRate*cmv.agentNum)):\n",
    "        toBeEmployed.pop(setup.r.randint(0,len(toBeEmployed)))\n",
    "    #len(toBeEmployed)\n",
    "\n",
    "    # assigning workforce to firms and banks\n",
    "    tmpEnterpriseListWithDuplications=cmv.firmList+cmv.bankList\n",
    "    for anAgent in toBeEmployed:\n",
    "        choice=setup.r.choice(tmpEnterpriseListWithDuplications)\n",
    "        anAgent.myEmployer=choice\n",
    "        choice.myWorkers.append(anAgent)\n",
    "        if cmv.dimensionalHeterogeneity: tmpEnterpriseListWithDuplications.append(choice)\n",
    "            \n",
    "            \n",
    "    # assigning agents and firms to banks\n",
    "    \n",
    "    if len(cmv.bankList)>0:\n",
    "        for anAgent in cmv.agentList:\n",
    "            anAgent.myBank=setup.r.choice(cmv.bankList)\n",
    "            anAgent.myBank.myPrivateClients.append(anAgent)\n",
    "            \n",
    "        for aFirm in cmv.firmList:\n",
    "            aFirm.myBank=setup.r.choice(cmv.bankList)\n",
    "            aFirm.myBank.myCommercialClients.append(aFirm)\n",
    "\n",
    "    cmv.totalProductionSeries=[]\n",
    "    cmv.totalProductionInfraVarSeries=[]\n",
    "    cmv.totalProfitSeries=[]\n",
    "    cmv.totalProfitInfraVarSeries=[]\n",
    "    cmv.totalInitialInventoriesSeries=[]\n",
    "    cmv.totalInitialInventoriesInfraVarSeries=[]\n",
    "    cmv.totalFinalInventoriesSeries=[]\n",
    "    cmv.totalFinalInventoriesInfraVarSeries=[]\n",
    "    cmv.totalConsumptionSeries=[]\n",
    "    cmv.totalEntrepreneurConsumptionSeries=[]\n",
    "    cmv.totalNonEntrepreneurConsumptionSeries=[]\n",
    "    cmv.totalConsumptionInfraVarSeries=[]\n",
    "    cmv.totalInvestmentSeries=[]\n",
    "    cmv.totalInvestmentInfraVarSeries=[]\n",
    "    cmv.totalCashMoneySeries=[]\n",
    "    cmv.totalCashMoneyInfraVarSeries=[]\n",
    "    cmv.totalCheckingAccountSeries=[]\n",
    "    cmv.totalCheckingAccountInfraVarSeries=[]\n",
    "    cmv.totalBankAccountSeries=[]\n",
    "    cmv.totalBankAccountInfraVarSeries=[]\n",
    "    cmv.totalAddedValueSeries=[]\n",
    "    cmv.totalAddedValueInfraVarSeries=[]\n",
    "\n",
    "    cmv.totalLostProductionSeries=[]"
   ]
  },
  {
   "cell_type": "markdown",
   "id": "accompanied-defeat",
   "metadata": {},
   "source": [
    "### meta actions (in `metaActions.py`)\n",
    "\n",
    "\n",
    "\n",
    "\n",
    "\n",
    "- *produceAll* orders to the firms to produce and to collects the results\n",
    "\n",
    "  \n",
    "\n",
    "- *payWagesAll* orders to the firms to pay wages, also to the entrepreneurs\n",
    "\n",
    "  \n",
    "\n",
    "- *buyConsumptionGoodsAll* orders to the agents to buy consumption goods\n",
    "\n",
    "  \n",
    "\n",
    "- *buyInvestmentGoodsAll* orders to the firms to buy investment goods\n",
    "\n",
    "  \n",
    "\n",
    "- *buyConsumptionOrInvestmentGoodsAll* orders to the agents and to the firms to buy consumption or investment goods\n",
    "\n",
    "  \n",
    "\n",
    "- *makeBalanceSheetAll* with firm making accounts\n",
    "\n",
    "  \n",
    "\n",
    "- *distributeDividendAll* attributing the $\\rho$ share of firm profits to the entrepreneurs \n",
    "\n",
    "  \n",
    "\n",
    "- *accountCashMoneyAll* summarizing eveyone cash money at the end of a cycle\n",
    "\n",
    "  \n",
    "\n",
    "- *accountCheckingAccountAll* summarizing eveyone checking accounts at the end of a cycle\n",
    "\n",
    "  \n",
    "\n",
    "- *accountBankingAccountAll* summarizing firm banking accounts at the end of a cycle\n",
    "\n",
    "  \n",
    "\n",
    "- *computeAndApplyInterestsAll* calculating the interests on deposits and loans for each agent and firm (and symmetrically for banks) and updatating accounts\n",
    "\n",
    "  \n",
    "\n",
    "- *makeBankFinancialAccountsAll* summmarinzing all the checking and bank accounts"
   ]
  },
  {
   "cell_type": "markdown",
   "id": "dense-journey",
   "metadata": {},
   "source": [
    "\n",
    "### model parameters\n",
    "\n"
   ]
  },
  {
   "cell_type": "code",
   "execution_count": 7,
   "id": "designing-participant",
   "metadata": {
    "scrolled": false
   },
   "outputs": [],
   "source": [
    "cmv.agentNum=100\n",
    "cmv.entrepreneurMin=6\n",
    "cmv.entrepreneurMax=20\n",
    "cmv.bankMin=2\n",
    "cmv.bankMax=3 \n",
    "\n",
    "if cmv.bankMax > cmv.entrepreneurMin:\n",
    "    print (\"Bank maximum number cannot exceed the minimum number of firms!\")\n",
    "    sys.exit(0)\n",
    "\n",
    "cmv.price=1\n",
    "\n",
    "cmv.unemploymentRate=0\n",
    "cmv.dimensionalHeterogeneity=True\n",
    "\n",
    "cmv.productivityMin=0.8\n",
    "cmv.productivityMax=1.2\n",
    "cmv.productivityDeltaMin=cmv.productivityMin-1\n",
    "cmv.productivityDeltaMax=cmv.productivityMax-1\n",
    "\n",
    "cmv.maxDeperibilityShare=0.5\n",
    "\n",
    "cmv.wage=1\n",
    "cmv.rho=0.5 #1\n",
    "cmv.consumptionRateMin=0.5\n",
    "cmv.consumptionRateMax=1\n",
    "\n",
    "cmv.investmentMin=1\n",
    "cmv.investmentMax=15\n",
    "\n",
    "cmv.nOfConsumptionActions=30\n",
    "cmv.maxConsumptionShareInSubstep=0.3\n",
    "cmv.nOfInvestmentActions=10\n",
    "cmv.maxInvestmentShareInSubstep=0.3\n",
    "\n",
    "cmv.interestRateOnDeposits=0.01\n",
    "cmv.interestRateOnLoansVsAgents=0.03\n",
    "cmv.interestRateOnLoansVsFirms=0.01 #0.10\n",
    "\n",
    "cmv.ncycles=1\n",
    "cmv.cycle=0"
   ]
  },
  {
   "cell_type": "markdown",
   "id": "neutral-cylinder",
   "metadata": {},
   "source": [
    "## <p style=\"color:red\">model machine</p>\n",
    "\n",
    "- a random seed determining the random number sequences\n",
    "\n",
    "\n",
    "\n",
    "- a list of actions (meta ones)\n",
    "\n",
    "\n",
    "\n",
    "- an engine excecuting the meta actions (their code in `metaAcions,py` file, in the same folder of the notebook; online, look a the model [GitHub](https://github.com/terna/ejmmp/tree/main/model02)\n",
    "\n",
    "  \n",
    "\n",
    "- random seed sequence, to have independent each class instance or function using random number, based on `generateSeed()` in  `generateSeeds.py` file, in the same folder of the notebook; online, look a the model [GitHub](https://github.com/terna/ejmmp/tree/main/model02)\n",
    "\n",
    "\n",
    "\n",
    "- display tools; their code is hidden into the file `tools.py`, in the same folder of the notebook; online, look a the model [GitHub](https://github.com/terna/ejmmp/tree/main/model02)\n",
    "\n"
   ]
  },
  {
   "cell_type": "code",
   "execution_count": 8,
   "id": "sealed-valuation",
   "metadata": {
    "scrolled": false
   },
   "outputs": [
    {
     "name": "stdout",
     "output_type": "stream",
     "text": [
      "-------------------------------------------\n",
      "enterprise number 9\n",
      "-------------------------------------------\n",
      "\n",
      "-------------------------------------------\n",
      "\"national\" accounts\n",
      "-------------------------------------------\n",
      "\n",
      "  t\ttotal\tinitial\t\tconsum.\tinvest.\tfinal\n",
      "\ta.v.\tinvent.\t\t\t\tinvent.\n",
      "  1\t97.0\t0.0\t    |\t58.8\t37.9\t0.0\n",
      "\n",
      "\n",
      "\n",
      "\n"
     ]
    },
    {
     "data": {
      "image/png": "[encoded data removed]",
      "text/plain": [
       "<Figure size 432x288 with 1 Axes>"
      ]
     },
     "metadata": {
      "needs_background": "light"
     },
     "output_type": "display_data"
    },
    {
     "data": {
      "image/png": "[encoded data removed]",
      "text/plain": [
       "<Figure size 432x288 with 2 Axes>"
      ]
     },
     "metadata": {},
     "output_type": "display_data"
    },
    {
     "data": {
      "image/png": "[encoded data removed]",
      "text/plain": [
       "<Figure size 432x288 with 2 Axes>"
      ]
     },
     "metadata": {},
     "output_type": "display_data"
    },
    {
     "data": {
      "image/png": "[encoded data removed]",
      "text/plain": [
       "<Figure size 432x288 with 2 Axes>"
      ]
     },
     "metadata": {},
     "output_type": "display_data"
    },
    {
     "data": {
      "image/png": "[encoded data removed]",
      "text/plain": [
       "<Figure size 432x288 with 2 Axes>"
      ]
     },
     "metadata": {},
     "output_type": "display_data"
    },
    {
     "data": {
      "image/png": "[encoded data removed]",
      "text/plain": [
       "<Figure size 432x288 with 2 Axes>"
      ]
     },
     "metadata": {},
     "output_type": "display_data"
    },
    {
     "data": {
      "image/png": "[encoded data removed]",
      "text/plain": [
       "<Figure size 432x288 with 2 Axes>"
      ]
     },
     "metadata": {},
     "output_type": "display_data"
    },
    {
     "data": {
      "image/png": "[encoded data removed]",
      "text/plain": [
       "<Figure size 432x288 with 2 Axes>"
      ]
     },
     "metadata": {},
     "output_type": "display_data"
    },
    {
     "data": {
      "image/png": "[encoded data removed]",
      "text/plain": [
       "<Figure size 432x288 with 2 Axes>"
      ]
     },
     "metadata": {},
     "output_type": "display_data"
    },
    {
     "data": {
      "image/png": "[encoded data removed]",
      "text/plain": [
       "<Figure size 432x288 with 2 Axes>"
      ]
     },
     "metadata": {},
     "output_type": "display_data"
    },
    {
     "data": {
      "image/png": "[encoded data removed]",
      "text/plain": [
       "<Figure size 432x288 with 2 Axes>"
      ]
     },
     "metadata": {},
     "output_type": "display_data"
    }
   ],
   "source": [
    "# the seed must be in range -2147483648 to 2147483647\n",
    "r.seed(12345)\n",
    "\n",
    "generateSeeds()\n",
    "\n",
    "setup(r,cmv.functionSeedList[0])\n",
    "\n",
    "cmv.actionList=[\"produceAll()\",\"payWagesAll()\",\\\n",
    "                \"buyConsumptionOrInvestmentGoodsAll(r,cmv.functionSeedList[3])\",\\\n",
    "                \"computeAndApplyInterestsAll()\",\"makeBalanceSheetAll()\",\\\n",
    "                \"distributeDividendAll()\",\"accountCashMoneyAll()\",\\\n",
    "                \"accountCheckingAccountAll()\",\"accountBankAccountAll()\",\\\n",
    "                \"makeBankFinancialAccountsAll()\"\\\n",
    "                ]\n",
    "\n",
    "for cmv.cycle in range(cmv.ncycles):\n",
    "    for anAction in cmv.actionList:\n",
    "            exec(anAction)\n",
    "\n",
    "makeHist() \n",
    "\n",
    "nationalAccounts()\n",
    "\n",
    "plot([0,max(cmv.totalAddedValueSeries)],cmv.totalAddedValueSeries,\"added-value\",\\\n",
    "     [0, max(cmv.totalAddedValueInfraVarSeries)],cmv.totalAddedValueInfraVarSeries,\"added-valInVar\")\n",
    "\n",
    "plot([0,max(cmv.totalProductionSeries)],cmv.totalProductionSeries,\"production\",\\\n",
    "     [0, max(cmv.totalProductionInfraVarSeries)],cmv.totalProductionInfraVarSeries,\"prodInVar\")\n",
    "\n",
    "plot([min(cmv.totalProfitSeries), max(0,max(cmv.totalProfitSeries))],\\\n",
    "     cmv.totalProfitSeries,\"profit\",\\\n",
    "     [0, max(cmv.totalProfitInfraVarSeries)],cmv.totalProfitInfraVarSeries,\"profInVar\")\n",
    "\n",
    "plot([min(cmv.totalInitialInventoriesSeries), max(0.01,max(cmv.totalInitialInventoriesSeries))],\\\n",
    "     cmv.totalInitialInventoriesSeries,\"initialInventories\",\\\n",
    "     [0, max(0.01,max(cmv.totalInitialInventoriesInfraVarSeries))],\\\n",
    "     cmv.totalInitialInventoriesInfraVarSeries,\"initialInventoriesInVar\")\n",
    "\n",
    "plot([min(cmv.totalFinalInventoriesSeries), max(0.01,max(cmv.totalFinalInventoriesSeries))],\\\n",
    "     cmv.totalFinalInventoriesSeries,\"finalInventories\",\\\n",
    "     [0, max(0.01,max(cmv.totalFinalInventoriesInfraVarSeries))],\\\n",
    "     cmv.totalFinalInventoriesInfraVarSeries,\"finalInventoriesInVar\")\n",
    "\n",
    "plot([0, max(cmv.totalConsumptionSeries)],cmv.totalConsumptionSeries,\"consumption\",\\\n",
    "     [0, max(cmv.totalConsumptionInfraVarSeries)],cmv.totalConsumptionInfraVarSeries,\"consInVar\")\n",
    "\n",
    "plot([0, max(cmv.totalInvestmentSeries)],cmv.totalInvestmentSeries,\"investment\",\\\n",
    "     [0, max(cmv.totalInvestmentInfraVarSeries)],cmv.totalInvestmentInfraVarSeries,\"investiInVar\")\n",
    "\n",
    "plot([min(-0.01, min(cmv.totalCashMoneySeries)),max(0.01,max(cmv.totalCashMoneySeries))],\\\n",
    "     cmv.totalCashMoneySeries,\"cash-money\",\\\n",
    "     [0, max(0.01,max(cmv.totalCashMoneyInfraVarSeries))],cmv.totalCashMoneyInfraVarSeries,\"cash-moneyInVar\")\n",
    "\n",
    "plot([min(-0.01, min(cmv.totalCheckingAccountSeries)),max(0.01,max(cmv.totalCheckingAccountSeries))],\\\n",
    "     cmv.totalCheckingAccountSeries,\"checking-ccount\",\\\n",
    "     [0, max(0.01,max(cmv.totalCheckingAccountInfraVarSeries))],cmv.totalCheckingAccountInfraVarSeries,\\\n",
    "     \"checking-accountInVar\")\n",
    "\n",
    "plot([min(-0.01, min(cmv.totalBankAccountSeries)),max(0.01,max(cmv.totalBankAccountSeries))],\\\n",
    "     cmv.totalBankAccountSeries,\"bank-ccount\",\\\n",
    "     [0, max(0.01,max(cmv.totalBankAccountInfraVarSeries))],cmv.totalBankAccountInfraVarSeries,\\\n",
    "     \"bank-accountInVar\")\n"
   ]
  },
  {
   "cell_type": "code",
   "execution_count": 9,
   "id": "typical-washer",
   "metadata": {},
   "outputs": [
    {
     "data": {
      "text/plain": [
       "[55, 76, 85, 31, 33, 35, 97]"
      ]
     },
     "execution_count": 9,
     "metadata": {},
     "output_type": "execute_result"
    }
   ],
   "source": [
    "list(cmv.firmList[i].num for i in range(cmv.firmNum))"
   ]
  },
  {
   "cell_type": "code",
   "execution_count": 10,
   "id": "sized-charge",
   "metadata": {},
   "outputs": [
    {
     "data": {
      "text/plain": [
       "[37, 11, 33, 31, 97, 85, 35]"
      ]
     },
     "execution_count": 10,
     "metadata": {},
     "output_type": "execute_result"
    }
   ],
   "source": [
    "list(cmv.entrepreneurList[i].num for i in range(cmv.firmNum))"
   ]
  },
  {
   "cell_type": "code",
   "execution_count": 11,
   "id": "sufficient-darkness",
   "metadata": {
    "scrolled": true
   },
   "outputs": [],
   "source": [
    "# last cycle\n",
    "tCashNe=0\n",
    "for anA in cmv.agentList:\n",
    "    if not anA.entrepreneur: tCashNe+=anA.cashMoney\n",
    "\n",
    "tCashE=0\n",
    "for anA in cmv.agentList:\n",
    "    if anA.entrepreneur: tCashE+=anA.cashMoney"
   ]
  },
  {
   "cell_type": "code",
   "execution_count": 12,
   "id": "vocal-transparency",
   "metadata": {
    "scrolled": true
   },
   "outputs": [
    {
     "data": {
      "text/plain": [
       "0"
      ]
     },
     "execution_count": 12,
     "metadata": {},
     "output_type": "execute_result"
    }
   ],
   "source": [
    "tCashNe"
   ]
  },
  {
   "cell_type": "code",
   "execution_count": 13,
   "id": "intelligent-powell",
   "metadata": {
    "scrolled": true
   },
   "outputs": [
    {
     "data": {
      "text/plain": [
       "0"
      ]
     },
     "execution_count": 13,
     "metadata": {},
     "output_type": "execute_result"
    }
   ],
   "source": [
    "tCashE"
   ]
  },
  {
   "cell_type": "code",
   "execution_count": 14,
   "id": "native-textbook",
   "metadata": {
    "scrolled": true
   },
   "outputs": [],
   "source": [
    "tC=0\n",
    "for i in range(cmv.ncycles):\n",
    "    tC+=cmv.totalConsumptionSeries[i]"
   ]
  },
  {
   "cell_type": "code",
   "execution_count": 15,
   "id": "smart-employment",
   "metadata": {
    "scrolled": true
   },
   "outputs": [
    {
     "data": {
      "text/plain": [
       "58.804039463999324"
      ]
     },
     "execution_count": 15,
     "metadata": {},
     "output_type": "execute_result"
    }
   ],
   "source": [
    "tC"
   ]
  },
  {
   "cell_type": "code",
   "execution_count": 16,
   "id": "distinguished-bacon",
   "metadata": {
    "scrolled": true
   },
   "outputs": [],
   "source": [
    "tCE=0\n",
    "for i in range(cmv.ncycles):\n",
    "    tCE+=cmv.totalEntrepreneurConsumptionSeries[i]"
   ]
  },
  {
   "cell_type": "code",
   "execution_count": 17,
   "id": "alive-electricity",
   "metadata": {
    "scrolled": true
   },
   "outputs": [
    {
     "data": {
      "text/plain": [
       "5.882037574389951"
      ]
     },
     "execution_count": 17,
     "metadata": {},
     "output_type": "execute_result"
    }
   ],
   "source": [
    "tCE"
   ]
  },
  {
   "cell_type": "code",
   "execution_count": 18,
   "id": "sufficient-placement",
   "metadata": {
    "scrolled": true
   },
   "outputs": [],
   "source": [
    "tCNe=0\n",
    "for i in range(cmv.ncycles):\n",
    "    tCNe+=cmv.totalNonEntrepreneurConsumptionSeries[i]"
   ]
  },
  {
   "cell_type": "code",
   "execution_count": 19,
   "id": "regional-somerset",
   "metadata": {
    "scrolled": true
   },
   "outputs": [
    {
     "data": {
      "text/plain": [
       "52.922001889609376"
      ]
     },
     "execution_count": 19,
     "metadata": {},
     "output_type": "execute_result"
    }
   ],
   "source": [
    "tCNe"
   ]
  },
  {
   "cell_type": "code",
   "execution_count": 20,
   "id": "great-dublin",
   "metadata": {
    "scrolled": true
   },
   "outputs": [],
   "source": [
    "tI=0\n",
    "for i in range(cmv.ncycles):\n",
    "    tI+=cmv.totalInvestmentSeries[i]"
   ]
  },
  {
   "cell_type": "code",
   "execution_count": 21,
   "id": "responsible-appendix",
   "metadata": {
    "scrolled": true
   },
   "outputs": [
    {
     "data": {
      "text/plain": [
       "37.852278548540326"
      ]
     },
     "execution_count": 21,
     "metadata": {},
     "output_type": "execute_result"
    }
   ],
   "source": [
    "tI"
   ]
  },
  {
   "cell_type": "code",
   "execution_count": 22,
   "id": "fancy-geography",
   "metadata": {},
   "outputs": [
    {
     "data": {
      "text/plain": [
       "[44.63999405998423]"
      ]
     },
     "execution_count": 22,
     "metadata": {},
     "output_type": "execute_result"
    }
   ],
   "source": [
    "cmv.totalCheckingAccountSeries"
   ]
  },
  {
   "cell_type": "code",
   "execution_count": 23,
   "id": "thorough-thesaurus",
   "metadata": {},
   "outputs": [
    {
     "data": {
      "text/plain": [
       "[-39.84523284610185]"
      ]
     },
     "execution_count": 23,
     "metadata": {},
     "output_type": "execute_result"
    }
   ],
   "source": [
    "cmv.totalBankAccountSeries"
   ]
  },
  {
   "cell_type": "code",
   "execution_count": 24,
   "id": "auburn-mainstream",
   "metadata": {},
   "outputs": [
    {
     "name": "stdout",
     "output_type": "stream",
     "text": [
      "9\n",
      "9\n"
     ]
    }
   ],
   "source": [
    "for anItem in cmv.bankList:\n",
    "    print(len(anItem.myWorkers))"
   ]
  },
  {
   "cell_type": "code",
   "execution_count": 25,
   "id": "arctic-airplane",
   "metadata": {},
   "outputs": [
    {
     "name": "stdout",
     "output_type": "stream",
     "text": [
      "23\n",
      "3\n",
      "20\n",
      "10\n",
      "2\n",
      "18\n",
      "6\n"
     ]
    }
   ],
   "source": [
    "for anItem in cmv.firmList:\n",
    "    print(len(anItem.myWorkers))"
   ]
  },
  {
   "cell_type": "code",
   "execution_count": 26,
   "id": "biblical-vaccine",
   "metadata": {
    "scrolled": true
   },
   "outputs": [
    {
     "name": "stdout",
     "output_type": "stream",
     "text": [
      "37 [1, 3, 5, 8, 9, 11, 14, 16, 18, 20, 21, 23, 24, 25, 28, 30, 31, 34, 36, 37, 39, 40, 41, 42, 44, 46, 47, 49, 50, 51, 52, 53, 54, 56, 59, 60, 62, 65, 66, 68, 70, 71, 73, 74, 76, 77, 78, 81, 83, 85, 87, 88, 89, 90, 92, 93, 95, 99]\n",
      "37 [33, 31, 97, 85, 55]\n",
      "11 [2, 4, 6, 7, 10, 12, 13, 15, 17, 19, 22, 26, 27, 29, 32, 33, 35, 38, 43, 45, 48, 55, 57, 58, 61, 63, 64, 67, 69, 72, 75, 79, 80, 82, 84, 86, 91, 94, 96, 97, 98, 100]\n",
      "11 [35, 76]\n"
     ]
    }
   ],
   "source": [
    "for aBank in cmv.bankList:\n",
    "    print(aBank.num, list(aBank.myPrivateClients[i].num \\\n",
    "                          for i in range(len(aBank.myPrivateClients))))\n",
    "    print(aBank.num, list(aBank.myCommercialClients[i].num \\\n",
    "                          for i in range(len(aBank.myCommercialClients))))"
   ]
  },
  {
   "cell_type": "code",
   "execution_count": 27,
   "id": "timely-dairy",
   "metadata": {},
   "outputs": [
    {
     "name": "stdout",
     "output_type": "stream",
     "text": [
      "37 -27.3517590856842 0 0 -36.53983831922644\n",
      "11 -17.28823497430003 0 0 -3.3053945268754124\n"
     ]
    }
   ],
   "source": [
    "for aBank in cmv.bankList:\n",
    "    print(aBank.num, aBank.myDebtsVsAgents, aBank.myCreditsVsAgents,\\\n",
    "                     aBank.myDebtsVsFirms,  aBank.myCreditsVsFirms)  "
   ]
  },
  {
   "cell_type": "code",
   "execution_count": 28,
   "id": "intimate-church",
   "metadata": {},
   "outputs": [
    {
     "name": "stdout",
     "output_type": "stream",
     "text": [
      "37 0.2497197319441174 0.3533704886358221\n",
      "11 0.16613024518356032 0.030181075053796635\n"
     ]
    }
   ],
   "source": [
    "for aBank in cmv.bankList:\n",
    "    #aBank.computeAndApplyInterests()\n",
    "    print(aBank.num,aBank.interestOnDeposits,aBank.interestOnLoans)"
   ]
  },
  {
   "cell_type": "code",
   "execution_count": 29,
   "id": "novel-belfast",
   "metadata": {},
   "outputs": [
    {
     "data": {
      "text/plain": [
       "False"
      ]
     },
     "execution_count": 29,
     "metadata": {},
     "output_type": "execute_result"
    }
   ],
   "source": [
    "cmv.bankList[1].myEntrepreneur in cmv.bankList[1].myPrivateClients"
   ]
  },
  {
   "cell_type": "code",
   "execution_count": 30,
   "id": "tutorial-hamburg",
   "metadata": {},
   "outputs": [
    {
     "data": {
      "text/plain": [
       "9"
      ]
     },
     "execution_count": 30,
     "metadata": {},
     "output_type": "execute_result"
    }
   ],
   "source": [
    "len(cmv.bankList[0].myWorkers)"
   ]
  },
  {
   "cell_type": "code",
   "execution_count": 31,
   "id": "structural-variance",
   "metadata": {},
   "outputs": [
    {
     "data": {
      "text/plain": [
       "1"
      ]
     },
     "execution_count": 31,
     "metadata": {},
     "output_type": "execute_result"
    }
   ],
   "source": [
    "cmv.agentList[0].num"
   ]
  },
  {
   "cell_type": "code",
   "execution_count": 32,
   "id": "electoral-story",
   "metadata": {},
   "outputs": [
    {
     "data": {
      "text/plain": [
       "0.8909551513014097"
      ]
     },
     "execution_count": 32,
     "metadata": {},
     "output_type": "execute_result"
    }
   ],
   "source": [
    "cmv.bankList[0].r.random()"
   ]
  },
  {
   "cell_type": "code",
   "execution_count": 33,
   "id": "duplicate-smooth",
   "metadata": {},
   "outputs": [
    {
     "data": {
      "text/plain": [
       "[<__main__.Firm at 0x7fc6279747c0>,\n",
       " <__main__.Firm at 0x7fc627974850>,\n",
       " <__main__.Firm at 0x7fc6279748b0>,\n",
       " <__main__.Firm at 0x7fc627974910>,\n",
       " <__main__.Firm at 0x7fc627974a30>]"
      ]
     },
     "execution_count": 33,
     "metadata": {},
     "output_type": "execute_result"
    }
   ],
   "source": [
    "cmv.bankList[0].myCommercialClients"
   ]
  },
  {
   "cell_type": "code",
   "execution_count": 34,
   "id": "super-england",
   "metadata": {},
   "outputs": [
    {
     "data": {
      "text/plain": [
       "0.24582936017644647"
      ]
     },
     "execution_count": 34,
     "metadata": {},
     "output_type": "execute_result"
    }
   ],
   "source": [
    "cmv.bankList[0].myPrivateClientsTotalInterestOnDeposits"
   ]
  },
  {
   "cell_type": "code",
   "execution_count": 35,
   "id": "australian-barrel",
   "metadata": {},
   "outputs": [
    {
     "data": {
      "text/plain": [
       "0"
      ]
     },
     "execution_count": 35,
     "metadata": {},
     "output_type": "execute_result"
    }
   ],
   "source": [
    "cmv.bankList[0].myPrivateClientsTotalInterestOnLoans"
   ]
  },
  {
   "cell_type": "code",
   "execution_count": 36,
   "id": "concrete-burke",
   "metadata": {},
   "outputs": [
    {
     "data": {
      "text/plain": [
       "0.003890371767670931"
      ]
     },
     "execution_count": 36,
     "metadata": {},
     "output_type": "execute_result"
    }
   ],
   "source": [
    "cmv.bankList[0].myCommercialClientsTotalInterestOnDeposits"
   ]
  },
  {
   "cell_type": "code",
   "execution_count": 37,
   "id": "hybrid-alberta",
   "metadata": {},
   "outputs": [
    {
     "data": {
      "text/plain": [
       "0.3533704886358221"
      ]
     },
     "execution_count": 37,
     "metadata": {},
     "output_type": "execute_result"
    }
   ],
   "source": [
    "cmv.bankList[0].myCommercialClientsTotalInterestOnLoans"
   ]
  },
  {
   "cell_type": "code",
   "execution_count": 38,
   "id": "varying-gender",
   "metadata": {},
   "outputs": [
    {
     "data": {
      "text/plain": [
       "[18.510426571427974,\n",
       " 3.520796597208925,\n",
       " 16.592418509564993,\n",
       " 11.466532609565462,\n",
       " 2.244430483445347,\n",
       " 17.763788499006786,\n",
       " 6.883115404716371]"
      ]
     },
     "execution_count": 38,
     "metadata": {},
     "output_type": "execute_result"
    }
   ],
   "source": [
    "list(cmv.firmList[i].addedValue for i in range(cmv.firmNum))"
   ]
  },
  {
   "cell_type": "code",
   "execution_count": 39,
   "id": "drawn-shopping",
   "metadata": {},
   "outputs": [
    {
     "data": {
      "text/plain": [
       "[-4.622543768372461,\n",
       " 0.5142118928839043,\n",
       " -3.5185961726295534,\n",
       " 1.466532609565462,\n",
       " 0.19162339159345465,\n",
       " -0.25980787172199016,\n",
       " 0.826537029927422]"
      ]
     },
     "execution_count": 39,
     "metadata": {},
     "output_type": "execute_result"
    }
   ],
   "source": [
    "list(cmv.firmList[i].profit for i in range(cmv.firmNum))"
   ]
  },
  {
   "cell_type": "code",
   "execution_count": 40,
   "id": "animal-disabled",
   "metadata": {},
   "outputs": [
    {
     "data": {
      "text/plain": [
       "[7.830878114600683, 12.231373158460398]"
      ]
     },
     "execution_count": 40,
     "metadata": {},
     "output_type": "execute_result"
    }
   ],
   "source": [
    "list(cmv.bankList[i].addedValue for i in range(cmv.bankNum))"
   ]
  },
  {
   "cell_type": "code",
   "execution_count": 41,
   "id": "cardiac-floating",
   "metadata": {},
   "outputs": [
    {
     "data": {
      "text/plain": [
       "[-1.418841617343435, 3.0652429132768377]"
      ]
     },
     "execution_count": 41,
     "metadata": {},
     "output_type": "execute_result"
    }
   ],
   "source": [
    "list(cmv.bankList[i].profit for i in range(cmv.bankNum))"
   ]
  },
  {
   "cell_type": "code",
   "execution_count": 42,
   "id": "synthetic-reduction",
   "metadata": {},
   "outputs": [
    {
     "data": {
      "text/plain": [
       "[0.003890371767670931, 0]"
      ]
     },
     "execution_count": 42,
     "metadata": {},
     "output_type": "execute_result"
    }
   ],
   "source": [
    "list(cmv.bankList[i].myCommercialClientsTotalInterestOnDeposits for i in range(cmv.bankNum))"
   ]
  },
  {
   "cell_type": "code",
   "execution_count": 43,
   "id": "nasty-milan",
   "metadata": {},
   "outputs": [
    {
     "data": {
      "text/plain": [
       "[0.24582936017644647, 0.16613024518356032]"
      ]
     },
     "execution_count": 43,
     "metadata": {},
     "output_type": "execute_result"
    }
   ],
   "source": [
    "list(cmv.bankList[i].myPrivateClientsTotalInterestOnDeposits for i in range(cmv.bankNum))"
   ]
  },
  {
   "cell_type": "code",
   "execution_count": 44,
   "id": "acceptable-implement",
   "metadata": {},
   "outputs": [
    {
     "data": {
      "text/plain": [
       "96.65631801253964"
      ]
     },
     "execution_count": 44,
     "metadata": {},
     "output_type": "execute_result"
    }
   ],
   "source": [
    "sum(list((cmv.firmList+cmv.bankList)[i].production for i in range(cmv.firmNum+cmv.bankNum)))"
   ]
  },
  {
   "cell_type": "code",
   "execution_count": 45,
   "id": "cardiac-above",
   "metadata": {},
   "outputs": [
    {
     "data": {
      "text/plain": [
       "0.003890371767670931"
      ]
     },
     "execution_count": 45,
     "metadata": {},
     "output_type": "execute_result"
    }
   ],
   "source": [
    "sum(list((cmv.firmList)[i].interestOnDeposits for i in range(cmv.firmNum)))"
   ]
  },
  {
   "cell_type": "code",
   "execution_count": 46,
   "id": "later-influence",
   "metadata": {},
   "outputs": [
    {
     "data": {
      "text/plain": [
       "0.38355156368961874"
      ]
     },
     "execution_count": 46,
     "metadata": {},
     "output_type": "execute_result"
    }
   ],
   "source": [
    "sum(list((cmv.bankList)[i].interestOnLoans for i in range(cmv.bankNum)))"
   ]
  },
  {
   "cell_type": "code",
   "execution_count": 47,
   "id": "graduate-ordinary",
   "metadata": {},
   "outputs": [
    {
     "data": {
      "text/plain": [
       "97.04375994799693"
      ]
     },
     "execution_count": 47,
     "metadata": {},
     "output_type": "execute_result"
    }
   ],
   "source": [
    "sum(list((cmv.firmList+cmv.bankList)[i].production for i in range(cmv.firmNum+cmv.bankNum)))+\\\n",
    "sum(list((cmv.firmList)[i].interestOnDeposits for i in range(cmv.firmNum)))+\\\n",
    "sum(list((cmv.bankList)[i].interestOnLoans for i in range(cmv.bankNum)))"
   ]
  },
  {
   "cell_type": "code",
   "execution_count": 48,
   "id": "accomplished-routine",
   "metadata": {},
   "outputs": [
    {
     "data": {
      "text/plain": [
       "58.80403946399932"
      ]
     },
     "execution_count": 48,
     "metadata": {},
     "output_type": "execute_result"
    }
   ],
   "source": [
    "sum(list((cmv.agentList)[i].madeConsumption for i in range(cmv.agentNum)))"
   ]
  },
  {
   "cell_type": "code",
   "execution_count": 49,
   "id": "experienced-button",
   "metadata": {},
   "outputs": [
    {
     "data": {
      "text/plain": [
       "37.85227854854033"
      ]
     },
     "execution_count": 49,
     "metadata": {},
     "output_type": "execute_result"
    }
   ],
   "source": [
    "sum(list((cmv.firmList+cmv.bankList)[i].madeInvestment for i in range(cmv.firmNum+cmv.bankNum)))"
   ]
  },
  {
   "cell_type": "code",
   "execution_count": 50,
   "id": "popular-isolation",
   "metadata": {},
   "outputs": [
    {
     "data": {
      "text/plain": [
       "96.65631801253966"
      ]
     },
     "execution_count": 50,
     "metadata": {},
     "output_type": "execute_result"
    }
   ],
   "source": [
    "sum(list((cmv.agentList)[i].madeConsumption for i in range(cmv.agentNum)))+\\\n",
    "sum(list((cmv.firmList+cmv.bankList)[i].madeInvestment for i in range(cmv.firmNum+cmv.bankNum)))"
   ]
  },
  {
   "cell_type": "code",
   "execution_count": 51,
   "id": "detected-socket",
   "metadata": {},
   "outputs": [
    {
     "data": {
      "text/plain": [
       "97.04375994799693"
      ]
     },
     "execution_count": 51,
     "metadata": {},
     "output_type": "execute_result"
    }
   ],
   "source": [
    "sum(list((cmv.firmList+cmv.bankList)[i].profit for i in range(cmv.firmNum+cmv.bankNum)))+\\\n",
    "sum(list((cmv.firmList)[i].interestOnLoans for i in range(cmv.firmNum)))+\\\n",
    "sum(list((cmv.bankList)[i].interestOnDeposits for i in range(cmv.bankNum)))+\\\n",
    "sum(list(len((cmv.firmList+cmv.bankList)[i].myWorkers)*cmv.wage for i in range(cmv.firmNum+cmv.bankNum)))"
   ]
  },
  {
   "cell_type": "code",
   "execution_count": 52,
   "id": "confirmed-lexington",
   "metadata": {},
   "outputs": [
    {
     "data": {
      "text/plain": [
       "96.65631801253964"
      ]
     },
     "execution_count": 52,
     "metadata": {},
     "output_type": "execute_result"
    }
   ],
   "source": [
    "sum(list((cmv.firmList+cmv.bankList)[i].salesRevenues for i in range(cmv.firmNum+cmv.bankNum)))"
   ]
  },
  {
   "cell_type": "code",
   "execution_count": null,
   "id": "champion-typing",
   "metadata": {},
   "outputs": [],
   "source": []
  }
 ],
 "metadata": {
  "kernelspec": {
   "display_name": "Python 3",
   "language": "python",
   "name": "python3"
  },
  "language_info": {
   "codemirror_mode": {
    "name": "ipython",
    "version": 3
   },
   "file_extension": ".py",
   "mimetype": "text/x-python",
   "name": "python",
   "nbconvert_exporter": "python",
   "pygments_lexer": "ipython3",
   "version": "3.9.7"
  }
 },
 "nbformat": 4,
 "nbformat_minor": 5
}
