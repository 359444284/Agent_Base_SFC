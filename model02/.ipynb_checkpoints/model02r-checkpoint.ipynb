{
 "cells": [
  {
   "cell_type": "markdown",
   "id": "naval-nomination",
   "metadata": {},
   "source": [
    "### Un altro passo: arrivano le banche!\n",
    "#### Sempre in azione l'*Istituto Centrale di Statistica* con a fianco la *Banca d'Italia*\n",
    "\n",
    "use it in [Notebook viewer](https://nbviewer.org/github/terna/ejmmp/blob/main/model02/model02.ipynb) or explore it in [GitHub](https://github.com/terna/ejmmp/tree/main/model02) (with the tools.py and metaActions.py files)\n",
    "\n",
    "to force the updatem if missing, follow once [Notebook viewer and flush cache](https://nbviewer.org/github/terna/ejmmp/blob/main/model02/model02.ipynb?flush_cache=true)\n",
    "\n",
    "[Wikipedia as a memo](https://en.wikipedia.org/wiki/Stock-flow_consistent_model#cite_note-42)"
   ]
  },
  {
   "cell_type": "code",
   "execution_count": 1,
   "id": "latter-survey",
   "metadata": {
    "scrolled": true
   },
   "outputs": [
    {
     "data": {
      "application/javascript": [
       "// to avoid scroll in windows\n",
       "IPython.OutputArea.prototype._should_scroll = function(lines) {\n",
       "    return false;\n",
       "}\n"
      ],
      "text/plain": [
       "<IPython.core.display.Javascript object>"
      ]
     },
     "metadata": {},
     "output_type": "display_data"
    }
   ],
   "source": [
    "%%javascript\n",
    "// to avoid scroll in windows\n",
    "IPython.OutputArea.prototype._should_scroll = function(lines) {\n",
    "    return false;\n",
    "}"
   ]
  },
  {
   "cell_type": "code",
   "execution_count": 2,
   "id": "large-brooks",
   "metadata": {},
   "outputs": [],
   "source": [
    "%matplotlib inline\n",
    "import random as r\n",
    "import matplotlib.pyplot as plt\n",
    "import commonVar as cmv\n",
    "import numpy as np\n",
    "from tools import *\n",
    "from metaActions import *\n",
    "from generateSeeds import *\n",
    "import sys"
   ]
  },
  {
   "cell_type": "markdown",
   "id": "prostate-shadow",
   "metadata": {},
   "source": [
    "### Stock-flow *model02*, with real and financial elements\n",
    "\n",
    "- The model also consider the monetary side of the economy.\n",
    "\n",
    "  \n",
    "\n",
    "- We have to initialize loans and capital stocks.\n",
    "\n",
    "  \n",
    "\n",
    "- Currently, entrepreneurs have unlimited funds that they put freely in their activities, balancing other agent negative cash, if any.\n",
    "\n",
    "  \n",
    "\n",
    "- Saving is abstension from consuming, increasing agents' liquidity.\n",
    "\n",
    "\n",
    "\n",
    "- Investments are uniquely for replacement, without technical progress.\n",
    "\n",
    "  "
   ]
  },
  {
   "cell_type": "markdown",
   "id": "comparable-matthew",
   "metadata": {},
   "source": [
    "### symbol table\n",
    "\n",
    "[symbol table](https://oeis.org/wiki/List_of_LaTeX_mathematical_symbols) in $\\LaTeX$\n",
    "\n",
    "$a_i$ -  with $a_i \\in \\mathbf{A}$; agent number $N=|\\mathbf{A}|$, `agentList` and`agentNum`\n",
    "\n",
    "$a^e_i$ -  with $a^e_i \\in \\mathbf{A^e}$ and $\\mathbf{A^e} \\subset \\mathbf{A}$; employer number $N^e=|\\mathbf{A^e}|$ in range $[N^e_{min},N^e_{max}]$, `employerList`\n",
    "\n",
    "$\\mathbf{F}$ - firms' set, with $f_j \\in \\mathbf{F}$ being $N^f = |\\mathbf{F}|$,  with $N^f = |\\mathbf{F}| = |\\mathbf{A^e}|$ , `firmList`\n",
    "\n",
    "$\\mathbf{A}^w$ - working agents' set, being $\\mathbf{A}^w \\subseteq \\mathbf{A}$, with $N^w_i=|\\mathbf{A}^w_i|$ number of working agents employed by employer $i$, also including self-employed employers, with $a_i \\in \\mathbf{A}^e$\n",
    "\n",
    "$\\mathbf{B}$ - banks' set, with $b_j \\in \\mathbf{B}$ being $N^b = |\\mathbf{B}|$, `bankList`\n",
    "\n",
    "$x^d$ - interest rate on deposits, `interestRateOnDeposits`\n",
    "\n",
    "$x^{l^a}$ - interest rate on loans to (private) agents, `interestRateOnLoansVsAgents`\n",
    "\n",
    "$x^{l^f}$ - interest rate on loans to firms, `interestRateOnLoansVsFirms`\n",
    "\n",
    "$X^d_{a|f|b}$ - amount of positive interest on deposits for a given interval $t$ for agents $a$ or firms $f$, and negative for banks $b$, `interestOnDeposits`\n",
    "\n",
    "$X^l_{a|f|b}$ - amount of negative interest on loanss for a given interval $t$ for agents $a$ or firms $f$, and positive for banks $b$, `interestOnLoans`\n",
    "\n",
    "$p$ - price `price`\n",
    "\n",
    "$u$ - unemployment rate `unemploymentRate`\n",
    "\n",
    "$dimensional~heterogeneity$ is a $true/false$ chooser, forcing increasing firms to attract more workers. `dimensionalHeterogeneity`\n",
    "\n",
    "$\\pi_{i,t}$ - labor productivity, a uniformly distributed decimal number in range $[\\pi_{min},\\pi_{max}]$,`productivity`\n",
    "\n",
    "&Delta;$\\pi_{i,t}$ - uniperiodal additive productivity correction in range $[$&Delta;$\\pi_{min},$ &Delta;$\\pi_{max}]$, `productivityDelta`\n",
    "\n",
    "$n_{i,t}$ - number of workers in a firm\n",
    "\n",
    "$q_{i,t}$ - production in quantity, `production`\n",
    "\n",
    "$\\Pi_{i,t}$ - profit, `profit`\n",
    "\n",
    "$\\rho$ - dividend distribution share, `rho`\n",
    "\n",
    "$W$ - wage `wage`\n",
    "\n",
    "$R_{i,t}$ - revenues, `revenues`\n",
    "\n",
    "$s_{i,t}$ - sales in quantity, `sales`\n",
    "\n",
    "$v_{i,t}$ - in**v**entories (final, initial), `initialInventories`, `finalInventories`\n",
    "\n",
    "$d_{i}$ - deperibility share of the production, `deperibilityShare`, setting $d_{max}$\n",
    "\n",
    "$c_{i,t}$ - consumption rate, a uniformly distributed decimal number in range $[c_{min},c_{max}]$,`consumptionRate`\n",
    "\n",
    "$C_{i,t}$ - consumption of $i$ in $t$\n",
    "\n",
    "$I_{i,t}$  - investment plan  of $i$ in $t$, a uniformly distributed realization in range $[I_{min},I_{max}]$,`investmentProgram`\n",
    "\n",
    "$H_{i,t}$  - high powered money (cash) held by individuals (also acting as employers), `cashMoney`\n",
    "\n",
    "$M1_{i,t}$ - checking account money deposits held by  $a_i$ at time $t$, `checkingAccount`\n",
    "\n",
    "$M1^f_{i,t}$ - firm's bank account (with positive or negative balance), `bankAccount`\n",
    "\n",
    "the investment and consumption actions are repeated in each cycle, looking around randomly for the sellers; currently `nOfConsumptionActions` $=30$ and `nOfInvestmentActions`$=10$; each consumption buy action is at maximum the 20% of the planned consumptions in that cycle; instead, each investment buy action can reach the whole amount of the investment program of the cycle; each buy action is limited by the residual capabilty of the seller\n",
    "\n",
    "**magically**, the same good can be a consumption item or an investment one\n",
    "\n",
    "$T$ - number of cycles `ncycles`\n",
    "\n",
    "$t$ - current cycle `cycle`\n"
   ]
  },
  {
   "cell_type": "markdown",
   "id": "broke-marathon",
   "metadata": {},
   "source": [
    "## agent structure\n",
    "\n",
    "The structure of an **agent**: it can represent an entrepreneur, a worker, an unemployed person.\n",
    "\n",
    "When an agent is created, the **initialization process** defines:\n",
    "\n",
    "- its numerical id, `num`\n",
    "- its entrepreneur status, `entrepreneur`, set to $false$\n",
    "- the id of its employer, `myEmployer`, set to $0$\n",
    "- if entrepreneur, the id of its firm, `myFirm`, set to $0$\n",
    "- $c_{i,0}$ - consumption rate, set to $0$\n",
    "- $H_{i,0}$ - cash money, set to $0$ \n",
    "- $M1_{i,0}$ - checking account money deposits, set to $0$\n",
    "\n",
    "## firm structure\n",
    "\n",
    "- $R_{i,0}$ - `revenues`, initial value  $0$\n",
    "- $s_{i,0}$ - `sales`, initial value  $0$\n",
    "- $v^i_{i,0}$ - in**v**entories, `initialInventories`, set to $0$ \n",
    "- $v^f_{i,0}$ - in**v**entories, `finalInventories`, set to $0$ \n",
    "- $d_{i}$ - deperibility share, a uniformly distributed decimal number in range $[0,d_{max}]$,`deperibilityShare`\n",
    "- $I_{i,0}$  - investment plan, set to $0$\n",
    "- $\\Pi_{i,0}$ - profit, set to $0$, being the related dividend $D_{i,0}$, set to $0$\n",
    "- $M1^f_{i,0}$ - firm's bank account, set to $0$\n",
    "- $\\pi_{i,t-1}$ set within the initialization step\n",
    "\n",
    "## bank structure\n",
    "\n",
    "- $R_{i,0}$ - `revenues`, initial value  $0$\n",
    "- $I_{i,0}$  - investment plan, set to $0$\n",
    "- $\\Pi_{i,0}$ - profit, set to $0$, being the related dividend $D_{i,0}$, set to $0$\n",
    "- $M1^b_{i,0}$ - bank's account mantained with the central bank, set to $0$\n",
    "- $\\pi_{i,t-1}$ set within the initialization step\n",
    "\n",
    "\n",
    "\n",
    "each **agent** has the **functions**:\n",
    "\n",
    "- **buyConsumptionGoods** \n",
    "\n",
    "  $C_{i,t}=c_{i,t} (W+D_{i,t-1}+X^d_{i,t-1}-X^l_{i,t-1})$; using $D_{i,t-1},X^d_{i,t-1},X^l_{i,t-1}$ we introduce lags with (possible) cyclical effect\n",
    "\n",
    "  being $bu$ the buyer and $se$ the seller (firm), for each fraction $C_{i,t}/k$ \n",
    "\n",
    "  ($k$ is the number of buying actions in each cycle with random share [0,cmv.maxConsumptionShareInSubstep))\n",
    "\n",
    "  &Delta;$M1^f_{se,t}=C_{bu,t}/k$\n",
    "\n",
    "  &Delta;$M1_{bu,t}=-C_{bu,t}/k$\n",
    "\n",
    "\n",
    "\n",
    "\n",
    "each **firm** has the **functions**:\n",
    "\n",
    "- **produce** function, with:\n",
    "\n",
    "  $\\pi_{i,t}=\\pi_{i,t-1}+$&Delta;$\\pi_{i,t}$\n",
    "\n",
    "  $q_{i,t}=n_{i,t} \\pi_{i,t}$\n",
    "\n",
    "  \n",
    "\n",
    "- **payWages**\n",
    "\n",
    "  paying $W$ to each worker in each time $t$\n",
    "\n",
    "  &Delta;$M1_{i,t}=W$ for  $a_i \\in \\mathbf{A}^w$ \n",
    "\n",
    "  &Delta;$M1^f_{i,t}=-W \\mathbf{N}^w_i$ for $a_i \\in \\mathbf{A}^e$ \n",
    "\n",
    "  \n",
    "\n",
    "- **buyInvestmentGoods**\n",
    "\n",
    "  $I_{j,t}$ for $f_j \\in \\mathbf{F}$  ($I_{j,t}$ is exogenously set)\n",
    "\n",
    "  being $bu$ the buyer (firm) and $se$ the seller (firm), for each fraction $I_{j,t}/k$\n",
    "\n",
    "  ($k$ is the number of investment actions in each cycle, with random share [0,cmv.maxInvestmentShareInSubstep))\n",
    "\n",
    "  &Delta;$M1^f_{se,t}=I_{bu,t}/k$\n",
    "\n",
    "  &Delta;$M1^f_{bu,t}=-I_{bu,t}/k$\n",
    "\n",
    "  \n",
    "\n",
    "- **makeBalanceSheet**\n",
    "\n",
    "  $v^f_{i,t}=v^i_{i,t}+(q_{i,t}-s_{i,t}) (1 - d_{i})$\n",
    "\n",
    "  $R_{i,t}=p s_{i,t}+X^d_{i,t}$\n",
    "\n",
    "  $\\Pi_{i,t}=R_{i,t}-W n_{i,t}-X^l_{i,t}-p(v^f_{i,t}-v^i_{i,t})$\n",
    "\n",
    "\n",
    "\n",
    "each **bank** has the **functions**:\n",
    "\n",
    "- **produce** function, with:\n",
    "\n",
    "​\t\t\t\t$\\pi_{i,t}=\\pi_{i,t-1}+$&Delta;$\\pi_{i,t}$\n",
    "\n",
    "​\t\t\t\t$q_{i,t}=n_{i,t} \\pi_{i,t}-X^d_b-X^l_b$ NB not production, <p style=\"color:red\">added value</p>\n",
    "\n",
    "​\t\t\t\t$X^d_b<0$ in def, here addendum of add. value and cost???????????????????\n",
    "\n",
    "​\t\t\t\t$X^l_b<0$ if the b. is borrower so cost???????????????????\n",
    "\n",
    "to be completed **:-)**\n",
    "\n"
   ]
  },
  {
   "cell_type": "code",
   "execution_count": 3,
   "id": "found-bibliography",
   "metadata": {
    "scrolled": false
   },
   "outputs": [],
   "source": [
    "class Agent():\n",
    "    def __init__(self, num):\n",
    "        self.num=num\n",
    "        self.entrepreneur=False\n",
    "        #self.myFirm=0\n",
    "        self.myEnterprise=0\n",
    "        self.myEmployer=0\n",
    "        self.consumptionRate=0\n",
    "        self.cashMoney=0\n",
    "        self.checkingAccount=0\n",
    "        self.perceivedWage=0\n",
    "        self.perceivedDividend=0\n",
    "        self.myBank=0\n",
    "        self.interestOnDeposits=0\n",
    "        self.interestOnLoans=0\n",
    "\n",
    "    def buyConsumptionGoods(self,k):\n",
    "        if k==0: \n",
    "            self.consumptionRate=r.uniform(cmv.consumptionRateMin,cmv.consumptionRateMax)\n",
    "            self.consumption=(self.perceivedWage+self.perceivedDividend+\\\n",
    "                self.interestOnDeposits-self.interestOnLoans)*self.consumptionRate\n",
    "            if self.consumption < 0: self.consumption=0 \n",
    "\n",
    "            self.interestOnDeposits=0\n",
    "            self.interestOnLoans=0\n",
    "            self.perceivedWage=0\n",
    "            self.perceivedDividend=0\n",
    "            self.madeConsumption=0\n",
    "                \n",
    "        r.shuffle(cmv.firmList)\n",
    "        mySeller=cmv.firmList[0]\n",
    "        self.purchase=r.uniform(0,cmv.maxConsumptionShareInSubstep)*self.consumption \n",
    "                            # mean value should be calibrated with thenumber of buy action\n",
    "        self.purchase=min(self.purchase,self.consumption-self.madeConsumption)\n",
    "        self.purchase=min(self.purchase,cmv.price*(mySeller.production+\\\n",
    "                                        mySeller.initialInventories-mySeller.sales))\n",
    "        mySeller.sales+=self.purchase/cmv.price\n",
    "        mySeller.bankAccount+=self.purchase\n",
    "        #self.consumption-=self.purchase\n",
    "        self.checkingAccount-=self.purchase\n",
    "        self.madeConsumption+=self.purchase\n",
    "    \n"
   ]
  },
  {
   "cell_type": "code",
   "execution_count": 4,
   "id": "dirty-nevada",
   "metadata": {},
   "outputs": [],
   "source": [
    "class Firm():\n",
    "    def __init__(self, num):\n",
    "        self.num=num\n",
    "        self.myWorkers=[]\n",
    "        self.myEntrepreneur=0\n",
    "        self.productivity=0\n",
    "        self.initialInventories=0\n",
    "        self.finalInventories=0\n",
    "        self.bankAccount=0\n",
    "        self.revenues=0 #sales*price\n",
    "        self.sales=0\n",
    "        self.deperibilityShare=r.uniform(0,cmv.maxDeperibilityShare)\n",
    "        self.investmentProgram=0\n",
    "        self.profit=0\n",
    "        self.madeInvestment=0\n",
    "        self.interestOnDeposits=0\n",
    "        self.interestOnLoans=0\n",
    "        self.myBank=0\n",
    "        \n",
    "    def produce(self):\n",
    "        self.initialInventories=self.finalInventories\n",
    "        self.productivity+=r.uniform(cmv.productivityDeltaMin,cmv.productivityDeltaMax)\n",
    "        self.productivity=max(self.productivity,0)\n",
    "        \n",
    "        self.production=len(self.myWorkers)*self.productivity\n",
    "        self.sales=0\n",
    "\n",
    "    def payWages(self):\n",
    "        for anAgent in self.myWorkers:\n",
    "            anAgent.perceivedWage=cmv.wage\n",
    "            anAgent.checkingAccount+=cmv.wage\n",
    "        self.bankAccount-=cmv.wage*len(self.myWorkers)\n",
    "            \n",
    "    def buyInvestmentGoods(self,k):\n",
    "        if k==0: \n",
    "            self.investmentProgram=r.uniform(cmv.investmentMin,cmv.investmentMax)\n",
    "            self.madeInvestment=0\n",
    "                       \n",
    "        r.shuffle(cmv.firmList)\n",
    "        mySeller=cmv.firmList[0]\n",
    "        self.myInvestment=r.uniform(0,cmv.maxInvestmentShareInSubstep)*self.investmentProgram\n",
    "        self.myInvestment=min(self.myInvestment,cmv.price*(mySeller.production+\\\n",
    "                              mySeller.initialInventories-mySeller.sales))\n",
    "        mySeller.sales+=self.myInvestment/cmv.price\n",
    "        mySeller.bankAccount+=self.myInvestment\n",
    "        \n",
    "        self.bankAccount-=self.myInvestment\n",
    "        self.investmentProgram-=self.myInvestment\n",
    "        self.madeInvestment+=self.myInvestment\n",
    "        \n",
    "    def makeBalanceSheet(self):\n",
    "        self.lostProduction=0\n",
    "        if self.production - self.sales > 0: \n",
    "            self.lostProduction=(self.production - self.sales)*self.deperibilityShare\n",
    "        #print(self.num, lostProduction,self.productivity)\n",
    "        self.finalInventories=self.initialInventories+self.production-\\\n",
    "                              self.sales-self.lostProduction\n",
    "        self.revenues=self.sales*cmv.price\n",
    "        self.profit=self.revenues - len(self.myWorkers)*cmv.wage + \\\n",
    "          self.interestOnDeposits - self.interestOnLoans + \\\n",
    "          (self.finalInventories-self.initialInventories)*cmv.price\n",
    "        self.interestOnDeposits=0\n",
    "        self.interestOnLoans=0\n",
    "        #print(self.num,self.profit,self.revenues,len(self.myWorkers)*cmv.wage,\\\n",
    "        #      self.finalInventories, self.initialInventories)\n",
    "        \n",
    "    def distributeDividend(self):\n",
    "        if self.profit > 0:\n",
    "            dividend=cmv.rho*self.profit\n",
    "            self.bankAccount-=dividend\n",
    "            self.myEntrepreneur.checkingAccount+=dividend\n",
    "            self.myEntrepreneur.perceivedDividend=dividend        \n"
   ]
  },
  {
   "cell_type": "code",
   "execution_count": 5,
   "id": "exposed-produce",
   "metadata": {},
   "outputs": [],
   "source": [
    "class Bank(Firm):\n",
    "    def __init__(self, num):\n",
    "        super().__init__(num)\n",
    "        self.myPrivateClients=[]\n",
    "        self.myCommercialClients=[]\n",
    "        self.myDebtsVsAgents=0\n",
    "        self.myDebtsVsFirms=0\n",
    "        self.myCreditsVsAgents=0\n",
    "        self.myCreditsVsFirms=0\n",
    "        self.interestOnDeposits=0\n",
    "        self.interestOnLoans=0\n",
    "        \n",
    "    def computeAndApplyInterests(self):\n",
    "        self.interestOnDeposits=0\n",
    "        self.interestOnLoans=0\n",
    "        \n",
    "        for aPrivateClient in self.myPrivateClients:\n",
    "            if aPrivateClient.checkingAccount >=0:\n",
    "                interests=aPrivateClient.checkingAccount*cmv.interestRateOnDeposits\n",
    "                self.interestOnDeposits-=interests\n",
    "                aPrivateClient.checkingAccount+=interests\n",
    "                aPrivateClient.interestOnDeposits=interests\n",
    "                \n",
    "            if aPrivateClient.checkingAccount < 0:\n",
    "                interests=aPrivateClient.checkingAccount*cmv.interestRateOnLoansVsAgents\n",
    "                self.interestOnLoans+=interests\n",
    "                aPrivateClient.checkingAccount-=interests\n",
    "                aPrivateClient.interestOnLoans=interests\n",
    "               \n",
    "        for aCommercialClient in self.myCommercialClients:\n",
    "            if aCommercialClient.bankAccount >=0:\n",
    "                interests=aCommercialClient.bankAccount*cmv.interestRateOnDeposits\n",
    "                self.interestOnDeposits-=interests\n",
    "                aCommercialClient.bankAccount+=interests\n",
    "                aCommercialClient.interestOnDeposits=interests\n",
    "\n",
    "            if aCommercialClient.bankAccount < 0:\n",
    "                interests=aCommercialClient.bankAccount*cmv.interestRateOnLoansVsFirms\n",
    "                self.interestOnLoans+=interests\n",
    "                aCommercialClient.bankAccount-=interests\n",
    "                aCommercialClient.interestOnLoans=interests\n",
    "        \n",
    "    def makeFinancialAccounts(self):\n",
    "        self.myDebtsVsAgents=0\n",
    "        self.myDebtsVsFirms=0\n",
    "        self.myCreditsVsAgents=0\n",
    "        self.myCreditsVsFirms=0\n",
    "\n",
    "        for aPrivateClient in  self.myPrivateClients:\n",
    "            if aPrivateClient.checkingAccount>=0: \\\n",
    "                self.myDebtsVsAgents-=aPrivateClient.checkingAccount\n",
    "            if aPrivateClient.checkingAccount<0: \\\n",
    "                self.myCreditsVsAgents+=aPrivateClient.checkingAccount\n",
    "        for aCommercialClient in  self.myCommercialClients:\n",
    "            if aCommercialClient.bankAccount>=0: \\\n",
    "                self.myDebtsVsFirms-=aCommercialClient.bankAccount\n",
    "            if aCommercialClient.bankAccount<0: \\\n",
    "                self.myCreditsVsFirms+=aCommercialClient.bankAccount\n",
    "        \n",
    "        "
   ]
  },
  {
   "cell_type": "markdown",
   "id": "given-bangkok",
   "metadata": {},
   "source": [
    "### agent setup\n",
    "\n",
    "- agent basic creation\n",
    "\n",
    "  \n",
    "\n",
    "- creation of entrepreneur list\n",
    "\n",
    "  \n",
    "\n",
    "- selecting entrepreneurs and creating their firms or their banks\n",
    "\n",
    "  \n",
    "\n",
    "- with a given (heterogeneous) productivity\n",
    "\n",
    "  \n",
    "\n",
    "- linking the firm or the bank to its entrepreneur, considering the entrepreneur itself as a worker in its firm or bank\n",
    "\n",
    "  \n",
    "\n",
    "- creation of a temporary workforce list of to-be-employed agent, escluding entrepreneurs (already self employed)\n",
    "\n",
    "  \n",
    "\n",
    "- applying the unmployement rate to exclude agents\n",
    "\n",
    "  \n",
    "\n",
    "- assigning workforce (to-be-employed agents) to firms of banks, with a reinforcement mechanism, gradually giving more attraction/hiring capability to firms or banks growing the most\n",
    "\n",
    "\n",
    "- assigning agents and firms to banks in a random way\n",
    "\n"
   ]
  },
  {
   "cell_type": "code",
   "execution_count": 6,
   "id": "weekly-jordan",
   "metadata": {},
   "outputs": [],
   "source": [
    "def setup(r,seed):\n",
    "    \n",
    "    seedManager(r,seed,'setup',setup)\n",
    "    \n",
    "    #print(r.random(),setup.r.random())\n",
    "        \n",
    "    cmv.agentList=[]\n",
    "    for n in range(cmv.agentNum):\n",
    "        anAgent=Agent(n+1)\n",
    "        cmv.agentList.append(anAgent)\n",
    "\n",
    "    \n",
    "    # creation of entrepreneur list\n",
    "    cmv.entrepreneurNum=setup.r.randint(cmv.entrepreneurMin, cmv.entrepreneurMax)\n",
    "    cmv.bankNum=setup.r.randint(cmv.bankMin, cmv.bankMax)\n",
    "    \n",
    "    cmv.entrepreneurList=[]\n",
    "    cmv.firmList=[]\n",
    "    cmv.bankList=[]\n",
    "    entrepreneurCandidates=cmv.agentList.copy()\n",
    "\n",
    "    for n in range(cmv.entrepreneurNum):\n",
    "        \n",
    "        i=setup.r.randint(0,len(entrepreneurCandidates)-1)\n",
    "        \n",
    "        entrepreneurCandidates[i].entrepreneur=True\n",
    "\n",
    "        if len(cmv.bankList) < cmv.bankNum:\n",
    "            newEnterprise=Bank(entrepreneurCandidates[i].num)\n",
    "        else:\n",
    "            newEnterprise=Firm(entrepreneurCandidates[i].num)\n",
    "\n",
    "        entrepreneurCandidates[i].myEnterprise=newEnterprise\n",
    "        entrepreneurCandidates[i].myEmployer=newEnterprise\n",
    "        newEnterprise.myEntrepreneur=entrepreneurCandidates[i]\n",
    "        newEnterprise.myWorkers.append(entrepreneurCandidates[i])\n",
    "        newEnterprise.productivity=\\\n",
    "                setup.r.uniform(cmv.productivityMin,cmv.productivityMax)\n",
    "        cmv.entrepreneurList.append(entrepreneurCandidates.pop(i))\n",
    "        if newEnterprise.__class__.__name__==\"Bank\": cmv.bankList.append(newEnterprise)\n",
    "        if newEnterprise.__class__.__name__==\"Firm\": cmv.firmList.append(newEnterprise)\n",
    "\n",
    "    cmv.firmNum=len(cmv.firmList)\n",
    "    \n",
    "    # creation of workforce list\n",
    "    toBeEmployed=[]\n",
    "\n",
    "    for anAgent in cmv.agentList:\n",
    "        if not anAgent.entrepreneur: toBeEmployed.append(anAgent)\n",
    "    for k in range(round(cmv.unemploymentRate*cmv.agentNum)):\n",
    "        toBeEmployed.pop(setup.r.randint(0,len(toBeEmployed)))\n",
    "    #len(toBeEmployed)\n",
    "\n",
    "\n",
    "    # assigning workforce to firms and banks\n",
    "    tmpEnterpriseListWithDuplications=cmv.firmList+cmv.bankList\n",
    "    for anAgent in toBeEmployed:\n",
    "        choice=setup.r.choice(tmpEnterpriseListWithDuplications)\n",
    "        anAgent.myEmployer=choice\n",
    "        choice.myWorkers.append(anAgent)\n",
    "        if cmv.dimensionalHeterogeneity: tmpEnterpriseListWithDuplications.append(choice)\n",
    "            \n",
    "            \n",
    "    # assigning agents and firms to banks\n",
    "    \n",
    "    for anAgent in cmv.agentList:\n",
    "        anAgent.myBank=setup.r.choice(cmv.bankList)\n",
    "        anAgent.myBank.myPrivateClients.append(anAgent)\n",
    "            \n",
    "    for aFirm in cmv.firmList:\n",
    "        aFirm.myBank=setup.r.choice(cmv.bankList)\n",
    "        aFirm.myBank.myCommercialClients.append(aFirm)\n",
    "\n",
    "    cmv.totalProductionSeries=[]\n",
    "    cmv.totalProductionInfraVarSeries=[]\n",
    "    cmv.totalProfitSeries=[]\n",
    "    cmv.totalProfitInfraVarSeries=[]\n",
    "    cmv.totalInitialInventoriesSeries=[]\n",
    "    cmv.totalInitialInventoriesInfraVarSeries=[]\n",
    "    cmv.totalFinalInventoriesSeries=[]\n",
    "    cmv.totalFinalInventoriesInfraVarSeries=[]\n",
    "    cmv.totalConsumptionSeries=[]\n",
    "    cmv.totalEntrepreneurConsumptionSeries=[]\n",
    "    cmv.totalNonEntrepreneurConsumptionSeries=[]\n",
    "    cmv.totalConsumptionInfraVarSeries=[]\n",
    "    cmv.totalInvestmentSeries=[]\n",
    "    cmv.totalInvestmentInfraVarSeries=[]\n",
    "    cmv.totalCashMoneySeries=[]\n",
    "    cmv.totalCashMoneyInfraVarSeries=[]\n",
    "    cmv.totalCheckingAccountSeries=[]\n",
    "    cmv.totalCheckingAccountInfraVarSeries=[]\n",
    "    cmv.totalBankAccountSeries=[]\n",
    "    cmv.totalBankAccountInfraVarSeries=[]\n",
    "\n",
    "    cmv.totalLostProductionSeries=[]"
   ]
  },
  {
   "cell_type": "markdown",
   "id": "accompanied-defeat",
   "metadata": {},
   "source": [
    "### meta actions (in `metaActions.py`)\n",
    "\n",
    "\n",
    "\n",
    "\n",
    "\n",
    "- *produceAll* orders to the firms to produce and to collects the results\n",
    "\n",
    "  \n",
    "\n",
    "- *payWagesAll* orders to the firms to pay wages, also to the entrepreneurs\n",
    "\n",
    "  \n",
    "\n",
    "- *buyConsumptionGoodsAll* orders to the agents to buy consumption goods\n",
    "\n",
    "  \n",
    "\n",
    "- *buyInvestmentGoodsAll* orders to the firms to buy investment goods\n",
    "\n",
    "  \n",
    "\n",
    "- *buyConsumptionOrInvestmentGoodsAll* orders to the agents and to the firms to buy consumption or investment goods\n",
    "\n",
    "  \n",
    "\n",
    "- *makeBalanceSheetAll* with firm making accounts\n",
    "\n",
    "  \n",
    "\n",
    "- *distributeDividendAll* attributing the $\\rho$ share of firm profits to the entrepreneurs \n",
    "\n",
    "  \n",
    "\n",
    "- *accountCashMoneyAll* summarizing eveyone cash money at the end of a cycle\n",
    "\n",
    "  \n",
    "\n",
    "- *accountCheckingAccountAll* summarizing eveyone checking accounts at the end of a cycle\n",
    "\n",
    "  \n",
    "\n",
    "- *accountBankingAccountAll* summarizing firm banking accounts at the end of a cycle\n",
    "\n",
    "  \n",
    "\n",
    "- *computeAndApplyInterestsAll* calculating the interests on deposits and loans for each agent and firm (and symmetrically for banks) and updatating accounts\n",
    "\n",
    "  \n",
    "\n",
    "- *makeBankFinancialAccountsAll* summmarinzing all the checking and banl accounts"
   ]
  },
  {
   "cell_type": "markdown",
   "id": "dense-journey",
   "metadata": {},
   "source": [
    "\n",
    "### model parameters\n",
    "\n"
   ]
  },
  {
   "cell_type": "code",
   "execution_count": 7,
   "id": "designing-participant",
   "metadata": {
    "scrolled": false
   },
   "outputs": [],
   "source": [
    "cmv.agentNum=100\n",
    "cmv.entrepreneurMin=6\n",
    "cmv.entrepreneurMax=20\n",
    "cmv.bankMin=2\n",
    "cmv.bankMax=3 \n",
    "\n",
    "if cmv.bankMax > cmv.entrepreneurMin:\n",
    "    print (\"Bank maximum number cannot exceed the minimum number of firms!\")\n",
    "    sys.exit(0)\n",
    "\n",
    "cmv.price=1\n",
    "\n",
    "cmv.unemploymentRate=0\n",
    "cmv.dimensionalHeterogeneity=True\n",
    "\n",
    "cmv.productivityMin=0.8\n",
    "cmv.productivityMax=1.2\n",
    "cmv.productivityDeltaMin=cmv.productivityMin-1\n",
    "cmv.productivityDeltaMax=cmv.productivityMax-1\n",
    "\n",
    "cmv.maxDeperibilityShare=0.5\n",
    "\n",
    "cmv.wage=1\n",
    "cmv.rho=0 #0.5 #1\n",
    "cmv.consumptionRateMin=0.5\n",
    "cmv.consumptionRateMax=1\n",
    "\n",
    "cmv.investmentMin=1\n",
    "cmv.investmentMax=15\n",
    "\n",
    "cmv.nOfConsumptionActions=30\n",
    "cmv.maxConsumptionShareInSubstep=0.3\n",
    "cmv.nOfInvestmentActions=10\n",
    "cmv.maxInvestmentShareInSubstep=0.3\n",
    "\n",
    "cmv.interestRateOnDeposits=0.01\n",
    "cmv.interestRateOnLoansVsAgents=0.03\n",
    "cmv.interestRateOnLoansVsFirms=0.10\n",
    "\n",
    "cmv.ncycles=100\n",
    "cmv.cycle=0"
   ]
  },
  {
   "cell_type": "markdown",
   "id": "neutral-cylinder",
   "metadata": {},
   "source": [
    "## <p style=\"color:red\">model machine</p>\n",
    "\n",
    "- a random seed determining the random number sequences\n",
    "\n",
    "\n",
    "\n",
    "- a list of actions (meta ones)\n",
    "\n",
    "\n",
    "\n",
    "- an engine excecuting the meta actions (their code in `metaAcions,py` file, in the same folder of the notebook; online, look a the model [GitHub](https://github.com/terna/ejmmp/tree/main/model02)\n",
    "\n",
    "  \n",
    "\n",
    "- random seed sequence, to have independent each class instance or function using random number, based on `generateSeed()` in  `generateSeeds.py` file, in the same folder of the notebook; online, look a the model [GitHub](https://github.com/terna/ejmmp/tree/main/model02)\n",
    "\n",
    "\n",
    "\n",
    "- display tools; their code is hidden into the file `tools.py`, in the same folder of the notebook; online, look a the model [GitHub](https://github.com/terna/ejmmp/tree/main/model02)\n",
    "\n"
   ]
  },
  {
   "cell_type": "code",
   "execution_count": 8,
   "id": "sealed-valuation",
   "metadata": {
    "scrolled": false
   },
   "outputs": [
    {
     "name": "stdout",
     "output_type": "stream",
     "text": [
      "-------------------------------------------\n",
      "entrepreneur number 9\n",
      "-------------------------------------------\n",
      "\n"
     ]
    },
    {
     "name": "stderr",
     "output_type": "stream",
     "text": [
      "/Users/pt/GitHub/ejmmp/model02/tools.py:67: UserWarning: Attempting to set identical bottom == top == 0 results in singular transformations; automatically expanding.\n",
      "  ax1c.set_ylim([min(cmv.totalInitialInventoriesSeries), \\\n",
      "/Users/pt/GitHub/ejmmp/model02/tools.py:76: UserWarning: Attempting to set identical bottom == top == 0 results in singular transformations; automatically expanding.\n",
      "  ax2c.set_ylim([0, max(cmv.totalInitialInventoriesInfraVarSeries)])\n",
      "/Users/pt/GitHub/ejmmp/model02/tools.py:88: UserWarning: Attempting to set identical bottom == top == 0.0 results in singular transformations; automatically expanding.\n",
      "  ax1d.set_ylim([min(cmv.totalFinalInventoriesSeries), \\\n",
      "/Users/pt/GitHub/ejmmp/model02/tools.py:97: UserWarning: Attempting to set identical bottom == top == 0 results in singular transformations; automatically expanding.\n",
      "  ax2d.set_ylim([0, max(cmv.totalFinalInventoriesInfraVarSeries)])\n"
     ]
    },
    {
     "name": "stdout",
     "output_type": "stream",
     "text": [
      "-------------------------------------------\n",
      "\"national\" accounts\n",
      "-------------------------------------------\n",
      "\n",
      "t\ttotal\tlost\tinitial\t\tconsum.\tinvest.\tfinal\n",
      "\tproduc.\tproduc.\tinvent.\t\t\t\tinvent.\n",
      "  1\t74.1\t0.0\t0.0\t    |\t47.0\t27.0\t0.0\n",
      "  2\t71.3\t0.0\t0.0\t    |\t40.9\t30.4\t0.0\n",
      "  3\t71.0\t0.0\t0.0\t    |\t32.5\t38.5\t0.0\n",
      "  4\t71.8\t0.0\t0.0\t    |\t53.6\t18.2\t0.0\n",
      "  5\t72.6\t0.0\t0.0\t    |\t40.1\t32.5\t0.0\n",
      "  6\t70.6\t0.0\t0.0\t    |\t40.2\t30.4\t0.0\n",
      "  7\t59.9\t0.0\t0.0\t    |\t40.5\t19.4\t0.0\n",
      "  8\t60.1\t0.0\t0.0\t    |\t41.2\t18.9\t0.0\n",
      "  9\t65.9\t0.0\t0.0\t    |\t36.9\t29.0\t0.0\n",
      " 10\t64.8\t0.0\t0.0\t    |\t31.6\t33.2\t0.0\n",
      " 11\t62.3\t0.0\t0.0\t    |\t38.3\t24.0\t0.0\n",
      " 12\t63.6\t0.0\t0.0\t    |\t40.4\t23.2\t0.0\n",
      " 13\t64.0\t0.0\t0.0\t    |\t32.9\t31.1\t0.0\n",
      " 14\t62.8\t0.0\t0.0\t    |\t36.8\t26.0\t0.0\n",
      " 15\t60.9\t0.0\t0.0\t    |\t30.9\t30.0\t0.0\n",
      " 16\t57.4\t0.0\t0.0\t    |\t27.7\t29.7\t0.0\n",
      " 17\t54.4\t0.0\t0.0\t    |\t31.9\t22.4\t0.0\n",
      " 18\t61.6\t0.0\t0.0\t    |\t40.8\t20.7\t0.0\n",
      " 19\t62.9\t0.0\t0.0\t    |\t39.8\t23.1\t0.0\n",
      " 20\t63.2\t0.0\t0.0\t    |\t34.7\t28.5\t0.0\n",
      " 21\t64.0\t0.0\t0.0\t    |\t40.5\t23.6\t0.0\n",
      " 22\t67.3\t0.0\t0.0\t    |\t35.6\t31.6\t0.0\n",
      " 23\t64.4\t0.0\t0.0\t    |\t36.3\t28.1\t0.0\n",
      " 24\t66.0\t0.0\t0.0\t    |\t38.7\t27.3\t0.0\n",
      " 25\t63.0\t0.0\t0.0\t    |\t42.3\t20.6\t0.0\n",
      " 26\t59.5\t0.0\t0.0\t    |\t33.6\t25.9\t0.0\n",
      " 27\t55.3\t0.0\t0.0\t    |\t36.2\t19.1\t0.0\n",
      " 28\t55.0\t0.0\t0.0\t    |\t37.6\t17.3\t0.0\n",
      " 29\t51.0\t0.0\t0.0\t    |\t35.7\t15.3\t0.0\n",
      " 30\t48.7\t0.0\t0.0\t    |\t29.4\t19.2\t0.0\n",
      " 31\t50.5\t0.0\t0.0\t    |\t29.5\t20.9\t0.0\n",
      " 32\t49.1\t0.0\t0.0\t    |\t32.8\t16.3\t0.0\n",
      " 33\t51.5\t0.0\t0.0\t    |\t32.2\t19.3\t0.0\n",
      " 34\t52.8\t0.0\t0.0\t    |\t27.6\t25.2\t0.0\n",
      " 35\t53.6\t0.0\t0.0\t    |\t34.3\t19.3\t0.0\n",
      " 36\t59.1\t0.0\t0.0\t    |\t38.1\t21.0\t0.0\n",
      " 37\t61.5\t0.0\t0.0\t    |\t34.4\t27.1\t0.0\n",
      " 38\t56.4\t0.0\t0.0\t    |\t29.0\t27.4\t0.0\n",
      " 39\t49.5\t0.0\t0.0\t    |\t29.6\t19.9\t0.0\n",
      " 40\t51.7\t0.0\t0.0\t    |\t33.6\t18.1\t0.0\n",
      " 41\t45.8\t0.0\t0.0\t    |\t31.9\t13.9\t0.0\n",
      " 42\t46.9\t0.0\t0.0\t    |\t31.7\t15.2\t0.0\n",
      " 43\t44.8\t0.0\t0.0\t    |\t30.2\t14.6\t0.0\n",
      " 44\t47.0\t0.0\t0.0\t    |\t23.5\t23.5\t0.0\n",
      " 45\t38.9\t0.0\t0.0\t    |\t24.8\t14.1\t0.0\n",
      " 46\t36.1\t0.0\t0.0\t    |\t21.5\t14.6\t0.0\n",
      " 47\t45.5\t0.0\t0.0\t    |\t27.8\t17.7\t0.0\n",
      " 48\t49.4\t0.0\t0.0\t    |\t29.5\t19.9\t0.0\n",
      " 49\t44.5\t0.0\t0.0\t    |\t26.0\t18.5\t0.0\n",
      " 50\t42.2\t0.0\t0.0\t    |\t25.7\t16.5\t0.0\n",
      " 51\t44.0\t0.0\t0.0\t    |\t28.5\t15.5\t0.0\n",
      " 52\t46.1\t0.0\t0.0\t    |\t32.2\t13.9\t0.0\n",
      " 53\t40.7\t0.0\t0.0\t    |\t23.7\t17.0\t0.0\n",
      " 54\t49.2\t0.0\t0.0\t    |\t33.3\t15.9\t0.0\n",
      " 55\t44.8\t0.0\t0.0\t    |\t33.6\t11.3\t0.0\n",
      " 56\t51.0\t0.0\t0.0\t    |\t37.6\t13.4\t0.0\n",
      " 57\t47.2\t0.0\t0.0\t    |\t26.0\t21.2\t0.0\n",
      " 58\t49.9\t0.0\t0.0\t    |\t32.3\t17.5\t0.0\n",
      " 59\t47.4\t0.0\t0.0\t    |\t33.4\t13.9\t0.0\n",
      " 60\t43.4\t0.0\t0.0\t    |\t27.2\t16.2\t0.0\n",
      " 61\t45.1\t0.0\t0.0\t    |\t32.5\t12.5\t0.0\n",
      " 62\t42.4\t0.0\t0.0\t    |\t21.4\t21.0\t0.0\n",
      " 63\t40.5\t0.0\t0.0\t    |\t30.7\t9.9\t0.0\n",
      " 64\t33.5\t0.0\t0.0\t    |\t23.5\t10.0\t0.0\n",
      " 65\t35.2\t0.0\t0.0\t    |\t26.3\t8.9\t0.0\n",
      " 66\t36.1\t0.0\t0.0\t    |\t28.2\t7.9\t0.0\n",
      " 67\t42.8\t0.0\t0.0\t    |\t31.5\t11.3\t0.0\n",
      " 68\t41.5\t0.0\t0.0\t    |\t23.0\t18.5\t0.0\n",
      " 69\t36.8\t0.0\t0.0\t    |\t27.1\t9.7\t0.0\n",
      " 70\t30.8\t0.0\t0.0\t    |\t18.2\t12.6\t0.0\n",
      " 71\t31.2\t0.0\t0.0\t    |\t22.0\t9.2\t0.0\n",
      " 72\t37.5\t0.0\t0.0\t    |\t28.5\t9.0\t0.0\n",
      " 73\t40.1\t0.0\t0.0\t    |\t25.5\t14.6\t0.0\n",
      " 74\t40.7\t0.0\t0.0\t    |\t26.0\t14.7\t0.0\n",
      " 75\t42.9\t0.0\t0.0\t    |\t31.4\t11.5\t0.0\n",
      " 76\t46.7\t0.0\t0.0\t    |\t32.2\t14.5\t0.0\n",
      " 77\t45.7\t0.0\t0.0\t    |\t28.3\t17.3\t0.0\n",
      " 78\t42.6\t0.0\t0.0\t    |\t28.6\t14.0\t0.0\n",
      " 79\t43.5\t0.0\t0.0\t    |\t30.4\t13.1\t0.0\n",
      " 80\t49.4\t0.0\t0.0\t    |\t35.1\t14.3\t0.0\n",
      " 81\t56.7\t0.0\t0.0\t    |\t44.8\t11.8\t0.0\n",
      " 82\t57.1\t0.0\t0.0\t    |\t43.1\t14.0\t0.0\n",
      " 83\t57.4\t0.0\t0.0\t    |\t39.8\t17.6\t0.0\n",
      " 84\t58.7\t0.0\t0.0\t    |\t36.2\t22.5\t0.0\n",
      " 85\t61.0\t0.0\t0.0\t    |\t40.0\t21.0\t0.0\n",
      " 86\t54.6\t0.0\t0.0\t    |\t37.2\t17.5\t0.0\n",
      " 87\t52.7\t0.0\t0.0\t    |\t41.1\t11.6\t0.0\n",
      " 88\t51.3\t0.0\t0.0\t    |\t34.6\t16.7\t0.0\n",
      " 89\t54.9\t0.0\t0.0\t    |\t38.9\t15.9\t0.0\n",
      " 90\t57.8\t0.0\t0.0\t    |\t44.7\t13.1\t0.0\n",
      " 91\t55.4\t0.0\t0.0\t    |\t34.5\t20.8\t0.0\n",
      " 92\t61.6\t0.0\t0.0\t    |\t39.4\t22.2\t0.0\n",
      " 93\t58.7\t0.0\t0.0\t    |\t43.2\t15.5\t0.0\n",
      " 94\t52.5\t0.0\t0.0\t    |\t39.0\t13.5\t0.0\n",
      " 95\t51.7\t0.0\t0.0\t    |\t33.6\t18.0\t0.0\n",
      " 96\t51.4\t0.0\t0.0\t    |\t34.7\t16.7\t0.0\n",
      " 97\t59.7\t0.0\t0.0\t    |\t39.0\t20.6\t0.0\n",
      " 98\t63.6\t0.0\t0.0\t    |\t43.5\t20.1\t0.0\n",
      " 99\t68.7\t0.0\t0.0\t    |\t43.5\t25.2\t0.0\n",
      "100\t67.2\t0.0\t0.0\t    |\t47.2\t19.9\t0.0\n",
      "\n",
      "\n",
      "\n",
      "\n"
     ]
    },
    {
     "data": {
      "image/png": "[encoded data removed]",
      "text/plain": [
       "<Figure size 432x288 with 1 Axes>"
      ]
     },
     "metadata": {
      "needs_background": "light"
     },
     "output_type": "display_data"
    },
    {
     "data": {
      "image/png": "[encoded data removed]",
      "text/plain": [
       "<Figure size 432x288 with 2 Axes>"
      ]
     },
     "metadata": {},
     "output_type": "display_data"
    },
    {
     "data": {
      "image/png": "[encoded data removed]",
      "text/plain": [
       "<Figure size 432x288 with 2 Axes>"
      ]
     },
     "metadata": {},
     "output_type": "display_data"
    },
    {
     "data": {
      "image/png": "[encoded data removed]",
      "text/plain": [
       "<Figure size 432x288 with 2 Axes>"
      ]
     },
     "metadata": {},
     "output_type": "display_data"
    },
    {
     "data": {
      "image/png": "[encoded data removed]",
      "text/plain": [
       "<Figure size 432x288 with 2 Axes>"
      ]
     },
     "metadata": {},
     "output_type": "display_data"
    },
    {
     "data": {
      "image/png": "[encoded data removed]",
      "text/plain": [
       "<Figure size 432x288 with 2 Axes>"
      ]
     },
     "metadata": {},
     "output_type": "display_data"
    },
    {
     "data": {
      "image/png": "[encoded data removed]",
      "text/plain": [
       "<Figure size 432x288 with 2 Axes>"
      ]
     },
     "metadata": {},
     "output_type": "display_data"
    },
    {
     "data": {
      "image/png": "[encoded data removed]",
      "text/plain": [
       "<Figure size 432x288 with 2 Axes>"
      ]
     },
     "metadata": {},
     "output_type": "display_data"
    },
    {
     "data": {
      "image/png": "[encoded data removed]",
      "text/plain": [
       "<Figure size 432x288 with 2 Axes>"
      ]
     },
     "metadata": {},
     "output_type": "display_data"
    },
    {
     "data": {
      "image/png": "[encoded data removed]",
      "text/plain": [
       "<Figure size 432x288 with 2 Axes>"
      ]
     },
     "metadata": {},
     "output_type": "display_data"
    }
   ],
   "source": [
    "# seed must be in range -2147483648 to 2147483647\n",
    "r.seed(12345)\n",
    "\n",
    "generateSeeds()\n",
    "\n",
    "setup(r,cmv.seedList[0])\n",
    "\n",
    "cmv.actionList=[\"produceAll()\",\"payWagesAll()\",\\\n",
    "                \"buyConsumptionOrInvestmentGoodsAll(r,cmv.seedList[3])\",\\\n",
    "                \"computeAndApplyInterestsAll()\",\"makeBalanceSheetAll()\",\\\n",
    "                \"distributeDividendAll()\",\"accountCashMoneyAll()\",\\\n",
    "                \"accountCheckingAccountAll()\",\"accountBankAccountAll()\",\\\n",
    "                \"makeBankFinancialAccountsAll()\"\\\n",
    "                ]\n",
    "\n",
    "for cmv.cycle in range(cmv.ncycles):\n",
    "    for anAction in cmv.actionList:\n",
    "            exec(anAction)\n",
    "\n",
    "makeHist() \n",
    "plot1()\n",
    "plot2()\n",
    "plot3()\n",
    "plot4()\n",
    "plot5()\n",
    "plot6()\n",
    "plot7()\n",
    "plot8()\n",
    "plot9()\n",
    "\n",
    "nationalAccounts()"
   ]
  },
  {
   "cell_type": "code",
   "execution_count": 9,
   "id": "typical-washer",
   "metadata": {},
   "outputs": [
    {
     "data": {
      "text/plain": [
       "[85, 97, 55, 33, 31, 76, 35]"
      ]
     },
     "execution_count": 9,
     "metadata": {},
     "output_type": "execute_result"
    }
   ],
   "source": [
    "list(cmv.firmList[i].num for i in range(cmv.firmNum))"
   ]
  },
  {
   "cell_type": "code",
   "execution_count": 10,
   "id": "sized-charge",
   "metadata": {},
   "outputs": [
    {
     "data": {
      "text/plain": [
       "[37, 11, 33, 31, 97, 85, 35]"
      ]
     },
     "execution_count": 10,
     "metadata": {},
     "output_type": "execute_result"
    }
   ],
   "source": [
    "list(cmv.entrepreneurList[i].num for i in range(cmv.firmNum))"
   ]
  },
  {
   "cell_type": "code",
   "execution_count": 11,
   "id": "sufficient-darkness",
   "metadata": {
    "scrolled": true
   },
   "outputs": [],
   "source": [
    "# last cycle\n",
    "tCashNe=0\n",
    "for anA in cmv.agentList:\n",
    "    if not anA.entrepreneur: tCashNe+=anA.cashMoney\n",
    "\n",
    "tCashE=0\n",
    "for anA in cmv.agentList:\n",
    "    if anA.entrepreneur: tCashE+=anA.cashMoney"
   ]
  },
  {
   "cell_type": "code",
   "execution_count": 12,
   "id": "vocal-transparency",
   "metadata": {
    "scrolled": true
   },
   "outputs": [
    {
     "data": {
      "text/plain": [
       "0"
      ]
     },
     "execution_count": 12,
     "metadata": {},
     "output_type": "execute_result"
    }
   ],
   "source": [
    "tCashNe"
   ]
  },
  {
   "cell_type": "code",
   "execution_count": 13,
   "id": "intelligent-powell",
   "metadata": {
    "scrolled": true
   },
   "outputs": [
    {
     "data": {
      "text/plain": [
       "0"
      ]
     },
     "execution_count": 13,
     "metadata": {},
     "output_type": "execute_result"
    }
   ],
   "source": [
    "tCashE"
   ]
  },
  {
   "cell_type": "code",
   "execution_count": 14,
   "id": "native-textbook",
   "metadata": {
    "scrolled": true
   },
   "outputs": [],
   "source": [
    "tC=0\n",
    "for i in range(cmv.ncycles):\n",
    "    tC+=cmv.totalConsumptionSeries[i]"
   ]
  },
  {
   "cell_type": "code",
   "execution_count": 15,
   "id": "smart-employment",
   "metadata": {
    "scrolled": true
   },
   "outputs": [
    {
     "data": {
      "text/plain": [
       "3374.9739329539075"
      ]
     },
     "execution_count": 15,
     "metadata": {},
     "output_type": "execute_result"
    }
   ],
   "source": [
    "tC"
   ]
  },
  {
   "cell_type": "code",
   "execution_count": 16,
   "id": "distinguished-bacon",
   "metadata": {
    "scrolled": true
   },
   "outputs": [],
   "source": [
    "tCE=0\n",
    "for i in range(cmv.ncycles):\n",
    "    tCE+=cmv.totalEntrepreneurConsumptionSeries[i]"
   ]
  },
  {
   "cell_type": "code",
   "execution_count": 17,
   "id": "alive-electricity",
   "metadata": {
    "scrolled": true
   },
   "outputs": [
    {
     "data": {
      "text/plain": [
       "306.3184566198197"
      ]
     },
     "execution_count": 17,
     "metadata": {},
     "output_type": "execute_result"
    }
   ],
   "source": [
    "tCE"
   ]
  },
  {
   "cell_type": "code",
   "execution_count": 18,
   "id": "sufficient-placement",
   "metadata": {
    "scrolled": true
   },
   "outputs": [],
   "source": [
    "tCNe=0\n",
    "for i in range(cmv.ncycles):\n",
    "    tCNe+=cmv.totalNonEntrepreneurConsumptionSeries[i]"
   ]
  },
  {
   "cell_type": "code",
   "execution_count": 19,
   "id": "regional-somerset",
   "metadata": {
    "scrolled": true
   },
   "outputs": [
    {
     "data": {
      "text/plain": [
       "3068.6554763340864"
      ]
     },
     "execution_count": 19,
     "metadata": {},
     "output_type": "execute_result"
    }
   ],
   "source": [
    "tCNe"
   ]
  },
  {
   "cell_type": "code",
   "execution_count": 20,
   "id": "great-dublin",
   "metadata": {
    "scrolled": true
   },
   "outputs": [],
   "source": [
    "tI=0\n",
    "for i in range(cmv.ncycles):\n",
    "    tI+=cmv.totalInvestmentSeries[i]"
   ]
  },
  {
   "cell_type": "code",
   "execution_count": 21,
   "id": "responsible-appendix",
   "metadata": {
    "scrolled": true
   },
   "outputs": [
    {
     "data": {
      "text/plain": [
       "1912.2795492685473"
      ]
     },
     "execution_count": 21,
     "metadata": {},
     "output_type": "execute_result"
    }
   ],
   "source": [
    "tI"
   ]
  },
  {
   "cell_type": "code",
   "execution_count": 22,
   "id": "fancy-geography",
   "metadata": {},
   "outputs": [
    {
     "data": {
      "text/plain": [
       "[53.49090432365309,\n",
       " 113.73440336979893,\n",
       " 183.07611425555797,\n",
       " 231.77321589232582,\n",
       " 294.5677287930855,\n",
       " 357.9177420147265,\n",
       " 421.5705593877269,\n",
       " 485.1677592326802,\n",
       " 553.727525949372,\n",
       " 628.3476353958457,\n",
       " 696.934578429589,\n",
       " 764.1152835225439,\n",
       " 839.5171608008515,\n",
       " 911.7344016566843,\n",
       " 990.6423854132046,\n",
       " 1073.5669443916422,\n",
       " 1153.0529131224746,\n",
       " 1224.3578391932322,\n",
       " 1297.399904246708,\n",
       " 1376.3358506588006,\n",
       " 1450.2431790732005,\n",
       " 1529.7627953754359,\n",
       " 1609.398306018209,\n",
       " 1687.407927136281,\n",
       " 1762.5488482666842,\n",
       " 1847.2324021457355,\n",
       " 1930.1345246778053,\n",
       " 2012.4278666713656,\n",
       " 2097.4820778363255,\n",
       " 2189.732398188152,\n",
       " 2282.79724691654,\n",
       " 2373.495271239127,\n",
       " 2465.682797116663,\n",
       " 2563.42782124952,\n",
       " 2655.3891376707707,\n",
       " 2744.4498729269767,\n",
       " 2838.1842941871264,\n",
       " 2938.3162834858545,\n",
       " 3038.8425117475613,\n",
       " 3136.244539632627,\n",
       " 3236.3947855185925,\n",
       " 3337.7486428763996,\n",
       " 3441.6427228922703,\n",
       " 3553.3398654961707,\n",
       " 3664.8377444440644,\n",
       " 3780.7969635237177,\n",
       " 3891.5053247047867,\n",
       " 4001.6024170936585,\n",
       " 4116.338407423774,\n",
       " 4232.552461400473,\n",
       " 4347.043955189899,\n",
       " 4459.010117570465,\n",
       " 4580.649408111513,\n",
       " 4693.829375948622,\n",
       " 4807.8645345537925,\n",
       " 4918.95061923737,\n",
       " 5042.85524309145,\n",
       " 5161.643518765069,\n",
       " 5280.48395223109,\n",
       " 5406.81909848633,\n",
       " 5529.020477104623,\n",
       " 5663.697488748157,\n",
       " 5790.352537760361,\n",
       " 5925.492461455168,\n",
       " 6059.19534325219,\n",
       " 6192.337783411341,\n",
       " 6323.446748051145,\n",
       " 6464.485041921931,\n",
       " 6602.714720073398,\n",
       " 6751.385399346238,\n",
       " 6897.673559873894,\n",
       " 7038.9062932125025,\n",
       " 7184.567885030814,\n",
       " 7331.158310649857,\n",
       " 7473.746188196427,\n",
       " 7616.9504331774915,\n",
       " 7765.490976200451,\n",
       " 7915.297304251708,\n",
       " 8064.742316222459,\n",
       " 8210.891731349559,\n",
       " 8348.717541196771,\n",
       " 8489.717852515401,\n",
       " 8635.418483602385,\n",
       " 8786.202968409914,\n",
       " 8934.670568150383,\n",
       " 9087.476154996664,\n",
       " 9237.805184977244,\n",
       " 9396.215276655023,\n",
       " 9551.873765110824,\n",
       " 9703.24932777322,\n",
       " 9866.418754423596,\n",
       " 10026.31415345042,\n",
       " 10183.980298165288,\n",
       " 10347.401582456689,\n",
       " 10517.917719649873,\n",
       " 10689.035946004551,\n",
       " 10857.511350934748,\n",
       " 11023.180965999043,\n",
       " 11190.435689484879,\n",
       " 11355.628694650737]"
      ]
     },
     "execution_count": 22,
     "metadata": {},
     "output_type": "execute_result"
    }
   ],
   "source": [
    "cmv.totalCheckingAccountSeries"
   ]
  },
  {
   "cell_type": "code",
   "execution_count": 23,
   "id": "thorough-thesaurus",
   "metadata": {},
   "outputs": [
    {
     "data": {
      "text/plain": [
       "[-28.889798005410164,\n",
       " -55.4536044135776,\n",
       " -90.56113014271887,\n",
       " -103.761494821686,\n",
       " -128.20374789728368,\n",
       " -147.49140736514767,\n",
       " -167.8106682354256,\n",
       " -182.44627342084402,\n",
       " -201.01237371202436,\n",
       " -222.46731441045654,\n",
       " -230.69024725355487,\n",
       " -238.5272807532681,\n",
       " -252.42172430210076,\n",
       " -258.8514916513244,\n",
       " -274.42955832249214,\n",
       " -289.3547115634256,\n",
       " -301.1644680295412,\n",
       " -304.3647002846067,\n",
       " -308.9068787793094,\n",
       " -315.48224969373075,\n",
       " -316.93766285570223,\n",
       " -319.1088533414779,\n",
       " -321.4675516816255,\n",
       " -326.8982858315058,\n",
       " -326.8883772669545,\n",
       " -330.7061916746619,\n",
       " -330.7847173752541,\n",
       " -335.6617227834304,\n",
       " -341.67250892613026,\n",
       " -350.70343429393256,\n",
       " -360.0657278338851,\n",
       " -364.6872434582164,\n",
       " -368.67684346718323,\n",
       " -370.5027201838067,\n",
       " -367.80438323686917,\n",
       " -362.5285776734145,\n",
       " -365.2780144405059,\n",
       " -371.6004204079343,\n",
       " -374.4943825233046,\n",
       " -377.4196296696549,\n",
       " -380.7740355805361,\n",
       " -382.51652837794927,\n",
       " -386.4578840024362,\n",
       " -388.91116288474893,\n",
       " -395.5326070081671,\n",
       " -403.707592986565,\n",
       " -402.94791085130146,\n",
       " -401.02147472066866,\n",
       " -401.90992189502384,\n",
       " -403.85152609328236,\n",
       " -401.9309044324609,\n",
       " -393.82471508497207,\n",
       " -396.39785232354154,\n",
       " -388.954455644981,\n",
       " -384.3345309055181,\n",
       " -374.7713981677927,\n",
       " -373.4635393802436,\n",
       " -366.58560264080035,\n",
       " -362.20213311271243,\n",
       " -360.09188744666994,\n",
       " -356.07371097022025,\n",
       " -359.6948682061287,\n",
       " -357.451740638496,\n",
       " -362.0072352987671,\n",
       " -363.5311838579365,\n",
       " -359.61378686159316,\n",
       " -356.590867316911,\n",
       " -356.48154425399764,\n",
       " -356.5041045256909,\n",
       " -361.77982588318184,\n",
       " -365.6695376107253,\n",
       " -361.0112845686373,\n",
       " -359.83014919581547,\n",
       " -359.0586385698223,\n",
       " -350.8976104347158,\n",
       " -341.01702668873133,\n",
       " -339.37056284000755,\n",
       " -331.7542016468265,\n",
       " -323.84648042253343,\n",
       " -311.8467020919137,\n",
       " -293.64705471830655,\n",
       " -279.6580144000144,\n",
       " -266.23047987599324,\n",
       " -258.05738709956415,\n",
       " -246.6131368587978,\n",
       " -239.60199868230737,\n",
       " -231.4999437731135,\n",
       " -230.18102168317978,\n",
       " -223.72096097244207,\n",
       " -214.63599590391212,\n",
       " -212.64194868155937,\n",
       " -207.72960925670046,\n",
       " -198.82106086303796,\n",
       " -190.79402437047017,\n",
       " -191.07089405472894,\n",
       " -187.34889974267801,\n",
       " -176.67364851019332,\n",
       " -166.5087310967952,\n",
       " -156.63076913956934,\n",
       " -140.94725942402286]"
      ]
     },
     "execution_count": 23,
     "metadata": {},
     "output_type": "execute_result"
    }
   ],
   "source": [
    "cmv.totalBankAccountSeries"
   ]
  },
  {
   "cell_type": "code",
   "execution_count": 24,
   "id": "auburn-mainstream",
   "metadata": {},
   "outputs": [
    {
     "name": "stdout",
     "output_type": "stream",
     "text": [
      "9\n",
      "9\n"
     ]
    }
   ],
   "source": [
    "for anItem in cmv.bankList:\n",
    "    print(len(anItem.myWorkers))"
   ]
  },
  {
   "cell_type": "code",
   "execution_count": 25,
   "id": "biblical-vaccine",
   "metadata": {
    "scrolled": true
   },
   "outputs": [
    {
     "name": "stdout",
     "output_type": "stream",
     "text": [
      "37 [1, 3, 5, 8, 9, 11, 14, 16, 18, 20, 21, 23, 24, 25, 28, 30, 31, 34, 36, 37, 39, 40, 41, 42, 44, 46, 47, 49, 50, 51, 52, 53, 54, 56, 59, 60, 62, 65, 66, 68, 70, 71, 73, 74, 76, 77, 78, 81, 83, 85, 87, 88, 89, 90, 92, 93, 95, 99]\n",
      "37 [33, 31, 97, 85, 55]\n",
      "11 [2, 4, 6, 7, 10, 12, 13, 15, 17, 19, 22, 26, 27, 29, 32, 33, 35, 38, 43, 45, 48, 55, 57, 58, 61, 63, 64, 67, 69, 72, 75, 79, 80, 82, 84, 86, 91, 94, 96, 97, 98, 100]\n",
      "11 [35, 76]\n"
     ]
    }
   ],
   "source": [
    "for aBank in cmv.bankList:\n",
    "    print(aBank.num, list(aBank.myPrivateClients[i].num \\\n",
    "                          for i in range(len(aBank.myPrivateClients))))\n",
    "    print(aBank.num, list(aBank.myCommercialClients[i].num \\\n",
    "                          for i in range(len(aBank.myCommercialClients))))"
   ]
  },
  {
   "cell_type": "code",
   "execution_count": 26,
   "id": "timely-dairy",
   "metadata": {},
   "outputs": [
    {
     "name": "stdout",
     "output_type": "stream",
     "text": [
      "37 -6596.267152509449 0 0 -385.86115382077514\n",
      "11 -4759.361542141291 0 -244.91389439675228 0\n"
     ]
    }
   ],
   "source": [
    "for aBank in cmv.bankList:\n",
    "    print(aBank.num, aBank.myDebtsVsAgents, aBank.myCreditsVsAgents,\\\n",
    "                     aBank.myDebtsVsFirms,  aBank.myCreditsVsFirms)  "
   ]
  },
  {
   "cell_type": "code",
   "execution_count": 27,
   "id": "intimate-church",
   "metadata": {},
   "outputs": [
    {
     "name": "stdout",
     "output_type": "stream",
     "text": [
      "37 -65.30957576742028 -42.87346153564168\n",
      "11 -49.54728154988161 0\n"
     ]
    }
   ],
   "source": [
    "for aBank in cmv.bankList:\n",
    "    #aBank.computeAndApplyInterests()\n",
    "    print(aBank.num,aBank.interestOnDeposits,aBank.interestOnLoans)"
   ]
  },
  {
   "cell_type": "code",
   "execution_count": 28,
   "id": "novel-belfast",
   "metadata": {},
   "outputs": [
    {
     "data": {
      "text/plain": [
       "False"
      ]
     },
     "execution_count": 28,
     "metadata": {},
     "output_type": "execute_result"
    }
   ],
   "source": [
    "cmv.bankList[1].myEntrepreneur in cmv.bankList[1].myPrivateClients"
   ]
  },
  {
   "cell_type": "code",
   "execution_count": 30,
   "id": "tutorial-hamburg",
   "metadata": {},
   "outputs": [
    {
     "data": {
      "text/plain": [
       "9"
      ]
     },
     "execution_count": 30,
     "metadata": {},
     "output_type": "execute_result"
    }
   ],
   "source": [
    "len(cmv.bankList[0].myWorkers)"
   ]
  },
  {
   "cell_type": "code",
   "execution_count": null,
   "id": "structural-variance",
   "metadata": {},
   "outputs": [],
   "source": []
  }
 ],
 "metadata": {
  "kernelspec": {
   "display_name": "Python 3",
   "language": "python",
   "name": "python3"
  },
  "language_info": {
   "codemirror_mode": {
    "name": "ipython",
    "version": 3
   },
   "file_extension": ".py",
   "mimetype": "text/x-python",
   "name": "python",
   "nbconvert_exporter": "python",
   "pygments_lexer": "ipython3",
   "version": "3.9.7"
  }
 },
 "nbformat": 4,
 "nbformat_minor": 5
}
