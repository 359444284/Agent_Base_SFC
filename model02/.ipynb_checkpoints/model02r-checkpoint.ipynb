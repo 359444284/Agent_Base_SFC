{
 "cells": [
  {
   "cell_type": "markdown",
   "id": "naval-nomination",
   "metadata": {},
   "source": [
    "### Un altro passo: arrivano le banche!\n",
    "#### Sempre in azione l'*Istituto Centrale di Statistica* con a fianco la *Banca d'Italia*\n",
    "\n",
    "use it in [Notebook viewer](https://nbviewer.org/github/terna/ejmmp/blob/main/model02/model02.ipynb) or explore it in [GitHub](https://github.com/terna/ejmmp/tree/main/model02) (with the tools.py and metaActions.py files)\n",
    "\n",
    "to force the updatem if missing, follow once [Notebook viewer and flush cache](https://nbviewer.org/github/terna/ejmmp/blob/main/model02/model02.ipynb?flush_cache=true)\n",
    "\n",
    "[Wikipedia as a memo](https://en.wikipedia.org/wiki/Stock-flow_consistent_model#cite_note-42)"
   ]
  },
  {
   "cell_type": "code",
   "execution_count": 1,
   "id": "latter-survey",
   "metadata": {
    "scrolled": true
   },
   "outputs": [
    {
     "data": {
      "application/javascript": [
       "// to avoid scroll in windows\n",
       "IPython.OutputArea.prototype._should_scroll = function(lines) {\n",
       "    return false;\n",
       "}\n"
      ],
      "text/plain": [
       "<IPython.core.display.Javascript object>"
      ]
     },
     "metadata": {},
     "output_type": "display_data"
    }
   ],
   "source": [
    "%%javascript\n",
    "// to avoid scroll in windows\n",
    "IPython.OutputArea.prototype._should_scroll = function(lines) {\n",
    "    return false;\n",
    "}"
   ]
  },
  {
   "cell_type": "code",
   "execution_count": 2,
   "id": "large-brooks",
   "metadata": {},
   "outputs": [],
   "source": [
    "%matplotlib inline\n",
    "import random as r\n",
    "import matplotlib.pyplot as plt\n",
    "import commonVar as cmv\n",
    "import numpy as np\n",
    "from tools import *\n",
    "from metaActions import *\n",
    "from generateSeeds import *\n",
    "import sys"
   ]
  },
  {
   "cell_type": "markdown",
   "id": "prostate-shadow",
   "metadata": {},
   "source": [
    "### Stock-flow *model02*, with real and financial elements\n",
    "\n",
    "- The model also consider the monetary side of the economy.\n",
    "\n",
    "  \n",
    "\n",
    "- We have to initialize loans and capital stocks.\n",
    "\n",
    "  \n",
    "\n",
    "- Currently, entrepreneurs have unlimited funds that they put freely in their activities, balancing other agent negative cash, if any.\n",
    "\n",
    "  \n",
    "\n",
    "- Saving is abstension from consuming, increasing agents' liquidity.\n",
    "\n",
    "\n",
    "\n",
    "- Investments are uniquely for replacement, without technical progress.\n",
    "\n",
    "  "
   ]
  },
  {
   "cell_type": "markdown",
   "id": "comparable-matthew",
   "metadata": {},
   "source": [
    "### symbol table\n",
    "\n",
    "[symbol table](https://oeis.org/wiki/List_of_LaTeX_mathematical_symbols) in $\\LaTeX$\n",
    "\n",
    "$a_i$ -  with $a_i \\in \\mathbf{A}$; agent number $N=|\\mathbf{A}|$, `agentList` and`agentNum`\n",
    "\n",
    "$a^e_i$ -  with $a^e_i \\in \\mathbf{A^e}$ and $\\mathbf{A^e} \\subset \\mathbf{A}$; employer number $N^e=|\\mathbf{A^e}|$ in range $[N^e_{min},N^e_{max}]$, `employerList`\n",
    "\n",
    "$\\mathbf{F}$ - firms' set, with $f_j \\in \\mathbf{F}$ being $N^f = |\\mathbf{F}|$,  with $N^f = |\\mathbf{F}| = |\\mathbf{A^e}|$ , `firmList`\n",
    "\n",
    "$\\mathbf{A}^w$ - working agents' set, being $\\mathbf{A}^w \\subseteq \\mathbf{A}$, with $N^w_i=|\\mathbf{A}^w_i|$ number of working agents employed by employer $i$, also including self-employed employers, with $a_i \\in \\mathbf{A}^e$\n",
    "\n",
    "$\\mathbf{B}$ - banks' set, with $b_j \\in \\mathbf{B}$ being $N^b = |\\mathbf{B}|$, `bankList`\n",
    "\n",
    "$x^d$ - interest rate on deposits, `interestRateOnDeposits`\n",
    "\n",
    "$x^{l^a}$ - interest rate on loans to (private) agents, `interestRateOnLoansVsAgents`\n",
    "\n",
    "$x^{l^f}$ - interest rate on loans to firms, `interestRateOnLoansVsFirms`\n",
    "\n",
    "$X^d_{a|f|b}$ - amount of positive interest on deposits for a given interval $t$ for agents $a$ or firms $f$, and negative for banks $b$, `interestOnDeposits`\n",
    "\n",
    "$X^l_{a|f|b}$ - amount of negative interest on loanss for a given interval $t$ for agents $a$ or firms $f$, and positive for banks $b$, `interestOnLoans`\n",
    "\n",
    "$p$ - price `price`\n",
    "\n",
    "$u$ - unemployment rate `unemploymentRate`\n",
    "\n",
    "$dimensional~heterogeneity$ is a $true/false$ chooser, forcing increasing firms to attract more workers. `dimensionalHeterogeneity`\n",
    "\n",
    "$\\pi_{i,t}$ - labor productivity, a uniformly distributed decimal number in range $[\\pi_{min},\\pi_{max}]$,`productivity`\n",
    "\n",
    "&Delta;$\\pi_{i,t}$ - uniperiodal additive productivity correction in range $[$&Delta;$\\pi_{min},$ &Delta;$\\pi_{max}]$, `productivityDelta`\n",
    "\n",
    "$n_{i,t}$ - number of workers in a firm\n",
    "\n",
    "$q_{i,t}$ - production in quantity, `production`\n",
    "\n",
    "$\\Pi_{i,t}$ - profit, `profit`\n",
    "\n",
    "$\\rho$ - dividend distribution share, `rho`\n",
    "\n",
    "$W$ - wage `wage`\n",
    "\n",
    "$R_{i,t}$ - revenues, `revenues`\n",
    "\n",
    "$s_{i,t}$ - sales in quantity, `sales`\n",
    "\n",
    "$v_{i,t}$ - in**v**entories (final, initial), `initialInventories`, `finalInventories`\n",
    "\n",
    "$d_{i}$ - deperibility share of the production, `deperibilityShare`, setting $d_{max}$\n",
    "\n",
    "$c_{i,t}$ - consumption rate, a uniformly distributed decimal number in range $[c_{min},c_{max}]$,`consumptionRate`\n",
    "\n",
    "$C_{i,t}$ - consumption of $i$ in $t$\n",
    "\n",
    "$I_{i,t}$  - investment plan  of $i$ in $t$, a uniformly distributed realization in range $[I_{min},I_{max}]$,`investmentProgram`\n",
    "\n",
    "$H_{i,t}$  - high powered money (cash) held by individuals (also acting as employers), `cashMoney`\n",
    "\n",
    "$M1_{i,t}$ - checking account money deposits held by  $a_i$ at time $t$, `checkingAccount`\n",
    "\n",
    "$M1^f_{i,t}$ - firm's bank account (with positive or negative balance), `bankAccount`\n",
    "\n",
    "the investment and consumption actions are repeated in each cycle, looking around randomly for the sellers; currently `nOfConsumptionActions` $=30$ and `nOfInvestmentActions`$=10$; each consumption buy action is at maximum the 20% of the planned consumptions in that cycle; instead, each investment buy action can reach the whole amount of the investment program of the cycle; each buy action is limited by the residual capabilty of the seller\n",
    "\n",
    "**magically**, the same good can be a consumption item or an investment one\n",
    "\n",
    "$T$ - number of cycles `ncycles`\n",
    "\n",
    "$t$ - current cycle `cycle`\n"
   ]
  },
  {
   "cell_type": "markdown",
   "id": "broke-marathon",
   "metadata": {},
   "source": [
    "## agent structure\n",
    "\n",
    "The structure of an **agent**: it can represent an entrepreneur, a worker, an unemployed person.\n",
    "\n",
    "When an agent is created, the **initialization process** defines:\n",
    "\n",
    "- its numerical id, `num`\n",
    "- its entrepreneur status, `entrepreneur`, set to $false$\n",
    "- the id of its employer, `myEmployer`, set to $0$\n",
    "- if entrepreneur, the id of its firm, `myFirm`, set to $0$\n",
    "- $c_{i,0}$ - consumption rate, set to $0$\n",
    "- $H_{i,0}$ - cash money, set to $0$ \n",
    "- $M1_{i,0}$ - checking account money deposits, set to $0$\n",
    "\n",
    "## firm structure\n",
    "\n",
    "- $R_{i,0}$ - `revenues`, initial value  $0$\n",
    "- $s_{i,0}$ - `sales`, initial value  $0$\n",
    "- $v^i_{i,0}$ - in**v**entories, `initialInventories`, set to $0$ \n",
    "- $v^f_{i,0}$ - in**v**entories, `finalInventories`, set to $0$ \n",
    "- $d_{i}$ - deperibility share, a uniformly distributed decimal number in range $[0,d_{max}]$,`deperibilityShare`\n",
    "- $I_{i,0}$  - investment plan, set to $0$\n",
    "- $\\Pi_{i,0}$ - profit, set to $0$, being the related dividend $D_{i,0}$, set to $0$\n",
    "- $M1^f_{i,0}$ - firm's bank account, set to $0$\n",
    "- $\\pi_{i,t-1}$ set within the initialization step\n",
    "\n",
    "## bank structure\n",
    "\n",
    "- $R_{i,0}$ - `revenues`, initial value  $0$\n",
    "- $I_{i,0}$  - investment plan, set to $0$\n",
    "- $\\Pi_{i,0}$ - profit, set to $0$, being the related dividend $D_{i,0}$, set to $0$\n",
    "- $M1^b_{i,0}$ - bank's account mantained with the central bank, set to $0$\n",
    "- $\\pi_{i,t-1}$ set within the initialization step\n",
    "\n",
    "\n",
    "\n",
    "each **agent** has the **functions**:\n",
    "\n",
    "- **buyConsumptionGoods** \n",
    "\n",
    "  $C_{i,t}=c_{i,t} (W+D_{i,t-1}+X^d_{i,t-1}-X^l_{i,t-1})$; using $D_{i,t-1},X^d_{i,t-1},X^l_{i,t-1}$ we introduce lags with (possible) cyclical effect\n",
    "\n",
    "  being $bu$ the buyer and $se$ the seller (firm), for each fraction $C_{i,t}/k$ \n",
    "\n",
    "  ($k$ is the number of buying actions in each cycle with random share [0,cmv.maxConsumptionShareInSubstep))\n",
    "\n",
    "  &Delta;$M1^f_{se,t}=C_{bu,t}/k$\n",
    "\n",
    "  &Delta;$M1_{bu,t}=-C_{bu,t}/k$\n",
    "\n",
    "\n",
    "\n",
    "\n",
    "each **firm** has the **functions**:\n",
    "\n",
    "- **produce** function, with:\n",
    "\n",
    "  $\\pi_{i,t}=\\pi_{i,t-1}+$&Delta;$\\pi_{i,t}$\n",
    "\n",
    "  $q_{i,t}=n_{i,t} \\pi_{i,t}$\n",
    "\n",
    "  \n",
    "\n",
    "- **payWages**\n",
    "\n",
    "  paying $W$ to each worker in each time $t$\n",
    "\n",
    "  &Delta;$M1_{i,t}=W$ for  $a_i \\in \\mathbf{A}^w$ \n",
    "\n",
    "  &Delta;$M1^f_{i,t}=-W \\mathbf{N}^w_i$ for $a_i \\in \\mathbf{A}^e$ \n",
    "\n",
    "  \n",
    "\n",
    "- **buyInvestmentGoods**\n",
    "\n",
    "  $I_{j,t}$ for $f_j \\in \\mathbf{F}$  ($I_{j,t}$ is exogenously set)\n",
    "\n",
    "  being $bu$ the buyer (firm) and $se$ the seller (firm), for each fraction $I_{j,t}/k$\n",
    "\n",
    "  ($k$ is the number of investment actions in each cycle, with random share [0,cmv.maxInvestmentShareInSubstep))\n",
    "\n",
    "  &Delta;$M1^f_{se,t}=I_{bu,t}/k$\n",
    "\n",
    "  &Delta;$M1^f_{bu,t}=-I_{bu,t}/k$\n",
    "\n",
    "  \n",
    "\n",
    "- **makeBalanceSheet**\n",
    "\n",
    "  $v^f_{i,t}=v^i_{i,t}+(q_{i,t}-s_{i,t}) (1 - d_{i})$\n",
    "\n",
    "  $R_{i,t}=p s_{i,t}+X^d_{i,t}$\n",
    "\n",
    "  $\\Pi_{i,t}=R_{i,t}-W n_{i,t}-X^l_{i,t}-p(v^f_{i,t}-v^i_{i,t})$\n",
    "\n",
    "\n",
    "\n",
    "each **bank** has the **functions**:\n",
    "\n",
    "- **produce** function, with:\n",
    "\n",
    "​\t\t\t\t$\\pi_{i,t}=\\pi_{i,t-1}+$&Delta;$\\pi_{i,t}$\n",
    "\n",
    "​\t\t\t\t$q_{i,t}=n_{i,t} \\pi_{i,t}-X^d_b-X^l_b$ NB not production, <p style=\"color:red\">added value</p>\n",
    "\n",
    "​\t\t\t\t$X^d_b<0$ in def, here addendum of add. value and cost???????????????????\n",
    "\n",
    "​\t\t\t\t$X^l_b<0$ if the b. is borrower so cost???????????????????\n",
    "\n",
    "to be completed **:-)**\n",
    "\n"
   ]
  },
  {
   "cell_type": "code",
   "execution_count": 3,
   "id": "found-bibliography",
   "metadata": {
    "scrolled": false
   },
   "outputs": [],
   "source": [
    "class Agent():\n",
    "    def __init__(self, num,r,seed):\n",
    "        self.num=num\n",
    "        self.entrepreneur=False\n",
    "        #self.myFirm=0\n",
    "        self.myEnterprise=0\n",
    "        self.myEmployer=0\n",
    "        self.consumptionRate=0\n",
    "        self.cashMoney=0\n",
    "        self.checkingAccount=0\n",
    "        self.perceivedWage=0\n",
    "        self.perceivedDividend=0\n",
    "        self.myBank=0\n",
    "        self.interestOnDeposits=0\n",
    "        self.interestOnLoans=0\n",
    "        self.r=r.Random()\n",
    "        self.r.seed(seed)\n",
    "\n",
    "    def buyConsumptionGoods(self,k):\n",
    "        if k==0: \n",
    "            self.consumptionRate=self.r.uniform(cmv.consumptionRateMin,cmv.consumptionRateMax)\n",
    "            self.consumption=(self.perceivedWage+self.perceivedDividend+\\\n",
    "                self.interestOnDeposits-self.interestOnLoans)*self.consumptionRate\n",
    "            if self.consumption < 0: self.consumption=0 \n",
    "\n",
    "            self.interestOnDeposits=0\n",
    "            self.interestOnLoans=0\n",
    "            self.perceivedWage=0\n",
    "            self.perceivedDividend=0\n",
    "            self.madeConsumption=0\n",
    "                \n",
    "        self.r.shuffle(cmv.firmList)\n",
    "        mySeller=cmv.firmList[0]\n",
    "        self.purchase=self.r.uniform(0,cmv.maxConsumptionShareInSubstep)*self.consumption \n",
    "                            # mean value should be calibrated with thenumber of buy action\n",
    "        self.purchase=min(self.purchase,self.consumption-self.madeConsumption)\n",
    "        self.purchase=min(self.purchase,cmv.price*(mySeller.production+\\\n",
    "                                        mySeller.initialInventories-mySeller.sales))\n",
    "        mySeller.sales+=self.purchase/cmv.price\n",
    "        mySeller.bankAccount+=self.purchase\n",
    "        #self.consumption-=self.purchase\n",
    "        self.checkingAccount-=self.purchase\n",
    "        self.madeConsumption+=self.purchase\n",
    "    \n"
   ]
  },
  {
   "cell_type": "code",
   "execution_count": 4,
   "id": "dirty-nevada",
   "metadata": {},
   "outputs": [],
   "source": [
    "class Firm():\n",
    "    def __init__(self, num):\n",
    "        self.num=num\n",
    "        self.myWorkers=[]\n",
    "        self.myEntrepreneur=0\n",
    "        self.productivity=0\n",
    "        self.initialInventories=0\n",
    "        self.finalInventories=0\n",
    "        self.bankAccount=0\n",
    "        self.revenues=0 #sales*price\n",
    "        self.sales=0\n",
    "        self.deperibilityShare=r.uniform(0,cmv.maxDeperibilityShare)\n",
    "        self.investmentProgram=0\n",
    "        self.profit=0\n",
    "        self.madeInvestment=0\n",
    "        self.interestOnDeposits=0\n",
    "        self.interestOnLoans=0\n",
    "        self.myBank=0\n",
    "        \n",
    "    def produce(self):\n",
    "        self.initialInventories=self.finalInventories\n",
    "        self.productivity+=r.uniform(cmv.productivityDeltaMin,cmv.productivityDeltaMax)\n",
    "        self.productivity=max(self.productivity,0)\n",
    "        \n",
    "        self.production=len(self.myWorkers)*self.productivity\n",
    "        self.sales=0\n",
    "\n",
    "    def payWages(self):\n",
    "        for anAgent in self.myWorkers:\n",
    "            anAgent.perceivedWage=cmv.wage\n",
    "            anAgent.checkingAccount+=cmv.wage\n",
    "        self.bankAccount-=cmv.wage*len(self.myWorkers)\n",
    "            \n",
    "    def buyInvestmentGoods(self,k):\n",
    "        if k==0: \n",
    "            self.investmentProgram=r.uniform(cmv.investmentMin,cmv.investmentMax)\n",
    "            self.madeInvestment=0\n",
    "                       \n",
    "        r.shuffle(cmv.firmList)\n",
    "        mySeller=cmv.firmList[0]\n",
    "        self.myInvestment=r.uniform(0,cmv.maxInvestmentShareInSubstep)*self.investmentProgram\n",
    "        self.myInvestment=min(self.myInvestment,cmv.price*(mySeller.production+\\\n",
    "                              mySeller.initialInventories-mySeller.sales))\n",
    "        mySeller.sales+=self.myInvestment/cmv.price\n",
    "        mySeller.bankAccount+=self.myInvestment\n",
    "        \n",
    "        self.bankAccount-=self.myInvestment\n",
    "        self.investmentProgram-=self.myInvestment\n",
    "        self.madeInvestment+=self.myInvestment\n",
    "        \n",
    "    def makeBalanceSheet(self):\n",
    "        self.lostProduction=0\n",
    "        if self.production - self.sales > 0: \n",
    "            self.lostProduction=(self.production - self.sales)*self.deperibilityShare\n",
    "        #print(self.num, lostProduction,self.productivity)\n",
    "        self.finalInventories=self.initialInventories+self.production-\\\n",
    "                              self.sales-self.lostProduction\n",
    "        self.revenues=self.sales*cmv.price\n",
    "        self.profit=self.revenues - len(self.myWorkers)*cmv.wage + \\\n",
    "          self.interestOnDeposits - self.interestOnLoans + \\\n",
    "          (self.finalInventories-self.initialInventories)*cmv.price\n",
    "        self.interestOnDeposits=0\n",
    "        self.interestOnLoans=0\n",
    "        #print(self.num,self.profit,self.revenues,len(self.myWorkers)*cmv.wage,\\\n",
    "        #      self.finalInventories, self.initialInventories)\n",
    "        \n",
    "    def distributeDividend(self):\n",
    "        if self.profit > 0:\n",
    "            dividend=cmv.rho*self.profit\n",
    "            self.bankAccount-=dividend\n",
    "            self.myEntrepreneur.checkingAccount+=dividend\n",
    "            self.myEntrepreneur.perceivedDividend=dividend        \n"
   ]
  },
  {
   "cell_type": "code",
   "execution_count": 5,
   "id": "exposed-produce",
   "metadata": {},
   "outputs": [],
   "source": [
    "class Bank(Firm):\n",
    "    def __init__(self, num):\n",
    "        super().__init__(num)\n",
    "        self.myPrivateClients=[]\n",
    "        self.myCommercialClients=[]\n",
    "        self.myDebtsVsAgents=0\n",
    "        self.myDebtsVsFirms=0\n",
    "        self.myCreditsVsAgents=0\n",
    "        self.myCreditsVsFirms=0\n",
    "        self.interestOnDeposits=0\n",
    "        self.interestOnLoans=0\n",
    "        \n",
    "    def computeAndApplyInterests(self):\n",
    "        self.interestOnDeposits=0\n",
    "        self.interestOnLoans=0\n",
    "        \n",
    "        for aPrivateClient in self.myPrivateClients:\n",
    "            if aPrivateClient.checkingAccount >=0:\n",
    "                interests=aPrivateClient.checkingAccount*cmv.interestRateOnDeposits\n",
    "                self.interestOnDeposits-=interests\n",
    "                aPrivateClient.checkingAccount+=interests\n",
    "                aPrivateClient.interestOnDeposits=interests\n",
    "                \n",
    "            if aPrivateClient.checkingAccount < 0:\n",
    "                interests=aPrivateClient.checkingAccount*cmv.interestRateOnLoansVsAgents\n",
    "                self.interestOnLoans+=interests\n",
    "                aPrivateClient.checkingAccount-=interests\n",
    "                aPrivateClient.interestOnLoans=interests\n",
    "               \n",
    "        for aCommercialClient in self.myCommercialClients:\n",
    "            if aCommercialClient.bankAccount >=0:\n",
    "                interests=aCommercialClient.bankAccount*cmv.interestRateOnDeposits\n",
    "                self.interestOnDeposits-=interests\n",
    "                aCommercialClient.bankAccount+=interests\n",
    "                aCommercialClient.interestOnDeposits=interests\n",
    "\n",
    "            if aCommercialClient.bankAccount < 0:\n",
    "                interests=aCommercialClient.bankAccount*cmv.interestRateOnLoansVsFirms\n",
    "                self.interestOnLoans+=interests\n",
    "                aCommercialClient.bankAccount-=interests\n",
    "                aCommercialClient.interestOnLoans=interests\n",
    "        \n",
    "    def makeFinancialAccounts(self):\n",
    "        self.myDebtsVsAgents=0\n",
    "        self.myDebtsVsFirms=0\n",
    "        self.myCreditsVsAgents=0\n",
    "        self.myCreditsVsFirms=0\n",
    "\n",
    "        for aPrivateClient in  self.myPrivateClients:\n",
    "            if aPrivateClient.checkingAccount>=0: \\\n",
    "                self.myDebtsVsAgents-=aPrivateClient.checkingAccount\n",
    "            if aPrivateClient.checkingAccount<0: \\\n",
    "                self.myCreditsVsAgents+=aPrivateClient.checkingAccount\n",
    "        for aCommercialClient in  self.myCommercialClients:\n",
    "            if aCommercialClient.bankAccount>=0: \\\n",
    "                self.myDebtsVsFirms-=aCommercialClient.bankAccount\n",
    "            if aCommercialClient.bankAccount<0: \\\n",
    "                self.myCreditsVsFirms+=aCommercialClient.bankAccount\n",
    "        \n",
    "        "
   ]
  },
  {
   "cell_type": "markdown",
   "id": "given-bangkok",
   "metadata": {},
   "source": [
    "### agent setup\n",
    "\n",
    "- agent basic creation\n",
    "\n",
    "  \n",
    "\n",
    "- creation of entrepreneur list\n",
    "\n",
    "  \n",
    "\n",
    "- selecting entrepreneurs and creating their firms or their banks\n",
    "\n",
    "  \n",
    "\n",
    "- with a given (heterogeneous) productivity\n",
    "\n",
    "  \n",
    "\n",
    "- linking the firm or the bank to its entrepreneur, considering the entrepreneur itself as a worker in its firm or bank\n",
    "\n",
    "  \n",
    "\n",
    "- creation of a temporary workforce list of to-be-employed agent, escluding entrepreneurs (already self employed)\n",
    "\n",
    "  \n",
    "\n",
    "- applying the unmployement rate to exclude agents\n",
    "\n",
    "  \n",
    "\n",
    "- assigning workforce (to-be-employed agents) to firms of banks, with a reinforcement mechanism, gradually giving more attraction/hiring capability to firms or banks growing the most\n",
    "\n",
    "\n",
    "- assigning agents and firms to banks in a random way\n",
    "\n"
   ]
  },
  {
   "cell_type": "code",
   "execution_count": 6,
   "id": "weekly-jordan",
   "metadata": {},
   "outputs": [],
   "source": [
    "def setup(r,seed):\n",
    "    \n",
    "    seedManager(r,seed,'setup',setup)\n",
    "    \n",
    "    #print(r.random(),setup.r.random())\n",
    "        \n",
    "    cmv.agentList=[]\n",
    "    for n in range(cmv.agentNum):\n",
    "        anAgent=Agent(n+1,r,cmv.seedList[101+n])\n",
    "        cmv.agentList.append(anAgent)\n",
    "\n",
    "    \n",
    "    # creation of entrepreneur list\n",
    "    cmv.entrepreneurNum=setup.r.randint(cmv.entrepreneurMin, cmv.entrepreneurMax)\n",
    "    cmv.bankNum=setup.r.randint(cmv.bankMin, cmv.bankMax)\n",
    "    \n",
    "    cmv.entrepreneurList=[]\n",
    "    cmv.firmList=[]\n",
    "    cmv.bankList=[]\n",
    "    entrepreneurCandidates=cmv.agentList.copy()\n",
    "\n",
    "    for n in range(cmv.entrepreneurNum):\n",
    "        \n",
    "        i=setup.r.randint(0,len(entrepreneurCandidates)-1)\n",
    "        \n",
    "        entrepreneurCandidates[i].entrepreneur=True\n",
    "\n",
    "        if len(cmv.bankList) < cmv.bankNum:\n",
    "            newEnterprise=Bank(entrepreneurCandidates[i].num)\n",
    "        else:\n",
    "            newEnterprise=Firm(entrepreneurCandidates[i].num)\n",
    "\n",
    "        entrepreneurCandidates[i].myEnterprise=newEnterprise\n",
    "        entrepreneurCandidates[i].myEmployer=newEnterprise\n",
    "        newEnterprise.myEntrepreneur=entrepreneurCandidates[i]\n",
    "        newEnterprise.myWorkers.append(entrepreneurCandidates[i])\n",
    "        newEnterprise.productivity=\\\n",
    "                setup.r.uniform(cmv.productivityMin,cmv.productivityMax)\n",
    "        cmv.entrepreneurList.append(entrepreneurCandidates.pop(i))\n",
    "        if newEnterprise.__class__.__name__==\"Bank\": cmv.bankList.append(newEnterprise)\n",
    "        if newEnterprise.__class__.__name__==\"Firm\": cmv.firmList.append(newEnterprise)\n",
    "\n",
    "    cmv.firmNum=len(cmv.firmList)\n",
    "    \n",
    "    # creation of workforce list\n",
    "    toBeEmployed=[]\n",
    "\n",
    "    for anAgent in cmv.agentList:\n",
    "        if not anAgent.entrepreneur: toBeEmployed.append(anAgent)\n",
    "    for k in range(round(cmv.unemploymentRate*cmv.agentNum)):\n",
    "        toBeEmployed.pop(setup.r.randint(0,len(toBeEmployed)))\n",
    "    #len(toBeEmployed)\n",
    "\n",
    "\n",
    "    # assigning workforce to firms and banks\n",
    "    tmpEnterpriseListWithDuplications=cmv.firmList+cmv.bankList\n",
    "    for anAgent in toBeEmployed:\n",
    "        choice=setup.r.choice(tmpEnterpriseListWithDuplications)\n",
    "        anAgent.myEmployer=choice\n",
    "        choice.myWorkers.append(anAgent)\n",
    "        if cmv.dimensionalHeterogeneity: tmpEnterpriseListWithDuplications.append(choice)\n",
    "            \n",
    "            \n",
    "    # assigning agents and firms to banks\n",
    "    \n",
    "    for anAgent in cmv.agentList:\n",
    "        anAgent.myBank=setup.r.choice(cmv.bankList)\n",
    "        anAgent.myBank.myPrivateClients.append(anAgent)\n",
    "            \n",
    "    for aFirm in cmv.firmList:\n",
    "        aFirm.myBank=setup.r.choice(cmv.bankList)\n",
    "        aFirm.myBank.myCommercialClients.append(aFirm)\n",
    "\n",
    "    cmv.totalProductionSeries=[]\n",
    "    cmv.totalProductionInfraVarSeries=[]\n",
    "    cmv.totalProfitSeries=[]\n",
    "    cmv.totalProfitInfraVarSeries=[]\n",
    "    cmv.totalInitialInventoriesSeries=[]\n",
    "    cmv.totalInitialInventoriesInfraVarSeries=[]\n",
    "    cmv.totalFinalInventoriesSeries=[]\n",
    "    cmv.totalFinalInventoriesInfraVarSeries=[]\n",
    "    cmv.totalConsumptionSeries=[]\n",
    "    cmv.totalEntrepreneurConsumptionSeries=[]\n",
    "    cmv.totalNonEntrepreneurConsumptionSeries=[]\n",
    "    cmv.totalConsumptionInfraVarSeries=[]\n",
    "    cmv.totalInvestmentSeries=[]\n",
    "    cmv.totalInvestmentInfraVarSeries=[]\n",
    "    cmv.totalCashMoneySeries=[]\n",
    "    cmv.totalCashMoneyInfraVarSeries=[]\n",
    "    cmv.totalCheckingAccountSeries=[]\n",
    "    cmv.totalCheckingAccountInfraVarSeries=[]\n",
    "    cmv.totalBankAccountSeries=[]\n",
    "    cmv.totalBankAccountInfraVarSeries=[]\n",
    "\n",
    "    cmv.totalLostProductionSeries=[]"
   ]
  },
  {
   "cell_type": "markdown",
   "id": "accompanied-defeat",
   "metadata": {},
   "source": [
    "### meta actions (in `metaActions.py`)\n",
    "\n",
    "\n",
    "\n",
    "\n",
    "\n",
    "- *produceAll* orders to the firms to produce and to collects the results\n",
    "\n",
    "  \n",
    "\n",
    "- *payWagesAll* orders to the firms to pay wages, also to the entrepreneurs\n",
    "\n",
    "  \n",
    "\n",
    "- *buyConsumptionGoodsAll* orders to the agents to buy consumption goods\n",
    "\n",
    "  \n",
    "\n",
    "- *buyInvestmentGoodsAll* orders to the firms to buy investment goods\n",
    "\n",
    "  \n",
    "\n",
    "- *buyConsumptionOrInvestmentGoodsAll* orders to the agents and to the firms to buy consumption or investment goods\n",
    "\n",
    "  \n",
    "\n",
    "- *makeBalanceSheetAll* with firm making accounts\n",
    "\n",
    "  \n",
    "\n",
    "- *distributeDividendAll* attributing the $\\rho$ share of firm profits to the entrepreneurs \n",
    "\n",
    "  \n",
    "\n",
    "- *accountCashMoneyAll* summarizing eveyone cash money at the end of a cycle\n",
    "\n",
    "  \n",
    "\n",
    "- *accountCheckingAccountAll* summarizing eveyone checking accounts at the end of a cycle\n",
    "\n",
    "  \n",
    "\n",
    "- *accountBankingAccountAll* summarizing firm banking accounts at the end of a cycle\n",
    "\n",
    "  \n",
    "\n",
    "- *computeAndApplyInterestsAll* calculating the interests on deposits and loans for each agent and firm (and symmetrically for banks) and updatating accounts\n",
    "\n",
    "  \n",
    "\n",
    "- *makeBankFinancialAccountsAll* summmarinzing all the checking and banl accounts"
   ]
  },
  {
   "cell_type": "markdown",
   "id": "dense-journey",
   "metadata": {},
   "source": [
    "\n",
    "### model parameters\n",
    "\n"
   ]
  },
  {
   "cell_type": "code",
   "execution_count": 7,
   "id": "designing-participant",
   "metadata": {
    "scrolled": false
   },
   "outputs": [],
   "source": [
    "cmv.agentNum=100\n",
    "cmv.entrepreneurMin=6\n",
    "cmv.entrepreneurMax=20\n",
    "cmv.bankMin=2\n",
    "cmv.bankMax=3 \n",
    "\n",
    "if cmv.bankMax > cmv.entrepreneurMin:\n",
    "    print (\"Bank maximum number cannot exceed the minimum number of firms!\")\n",
    "    sys.exit(0)\n",
    "\n",
    "cmv.price=1\n",
    "\n",
    "cmv.unemploymentRate=0\n",
    "cmv.dimensionalHeterogeneity=True\n",
    "\n",
    "cmv.productivityMin=0.8\n",
    "cmv.productivityMax=1.2\n",
    "cmv.productivityDeltaMin=cmv.productivityMin-1\n",
    "cmv.productivityDeltaMax=cmv.productivityMax-1\n",
    "\n",
    "cmv.maxDeperibilityShare=0.5\n",
    "\n",
    "cmv.wage=1\n",
    "cmv.rho=0 #0.5 #1\n",
    "cmv.consumptionRateMin=0.5\n",
    "cmv.consumptionRateMax=1\n",
    "\n",
    "cmv.investmentMin=1\n",
    "cmv.investmentMax=15\n",
    "\n",
    "cmv.nOfConsumptionActions=30\n",
    "cmv.maxConsumptionShareInSubstep=0.3\n",
    "cmv.nOfInvestmentActions=10\n",
    "cmv.maxInvestmentShareInSubstep=0.3\n",
    "\n",
    "cmv.interestRateOnDeposits=0.01\n",
    "cmv.interestRateOnLoansVsAgents=0.03\n",
    "cmv.interestRateOnLoansVsFirms=0.10\n",
    "\n",
    "cmv.ncycles=100\n",
    "cmv.cycle=0"
   ]
  },
  {
   "cell_type": "markdown",
   "id": "neutral-cylinder",
   "metadata": {},
   "source": [
    "## <p style=\"color:red\">model machine</p>\n",
    "\n",
    "- a random seed determining the random number sequences\n",
    "\n",
    "\n",
    "\n",
    "- a list of actions (meta ones)\n",
    "\n",
    "\n",
    "\n",
    "- an engine excecuting the meta actions (their code in `metaAcions,py` file, in the same folder of the notebook; online, look a the model [GitHub](https://github.com/terna/ejmmp/tree/main/model02)\n",
    "\n",
    "  \n",
    "\n",
    "- random seed sequence, to have independent each class instance or function using random number, based on `generateSeed()` in  `generateSeeds.py` file, in the same folder of the notebook; online, look a the model [GitHub](https://github.com/terna/ejmmp/tree/main/model02)\n",
    "\n",
    "\n",
    "\n",
    "- display tools; their code is hidden into the file `tools.py`, in the same folder of the notebook; online, look a the model [GitHub](https://github.com/terna/ejmmp/tree/main/model02)\n",
    "\n"
   ]
  },
  {
   "cell_type": "code",
   "execution_count": 8,
   "id": "sealed-valuation",
   "metadata": {
    "scrolled": false
   },
   "outputs": [
    {
     "name": "stdout",
     "output_type": "stream",
     "text": [
      "-------------------------------------------\n",
      "entrepreneur number 9\n",
      "-------------------------------------------\n",
      "\n",
      "-------------------------------------------\n",
      "\"national\" accounts\n",
      "-------------------------------------------\n",
      "\n",
      "t\ttotal\tlost\tinitial\t\tconsum.\tinvest.\tfinal\n",
      "\tproduc.\tproduc.\tinvent.\t\t\t\tinvent.\n",
      "  1\t74.2\t0.0\t0.0\t    |\t52.7\t21.6\t0.0\n",
      "  2\t73.3\t0.0\t0.0\t    |\t40.3\t33.0\t0.0\n",
      "  3\t71.7\t0.0\t0.0\t    |\t45.2\t26.5\t0.0\n",
      "  4\t72.7\t0.0\t0.0\t    |\t47.6\t25.0\t0.0\n",
      "  5\t79.0\t0.0\t0.0\t    |\t55.0\t24.0\t0.0\n",
      "  6\t82.9\t0.0\t0.0\t    |\t54.5\t28.4\t0.0\n",
      "  7\t86.4\t0.0\t0.0\t    |\t51.0\t35.4\t0.0\n",
      "  8\t80.0\t0.0\t0.0\t    |\t41.6\t38.3\t0.0\n",
      "  9\t91.0\t0.0\t0.0\t    |\t61.4\t29.6\t0.0\n",
      " 10\t82.7\t0.0\t0.0\t    |\t49.4\t33.3\t0.0\n",
      " 11\t87.8\t0.0\t0.0\t    |\t47.6\t40.2\t0.0\n",
      " 12\t84.6\t0.0\t0.0\t    |\t45.3\t39.3\t0.0\n",
      " 13\t86.8\t0.0\t0.0\t    |\t55.5\t31.2\t0.0\n",
      " 14\t92.0\t0.0\t0.0\t    |\t54.5\t37.6\t0.0\n",
      " 15\t90.3\t0.0\t0.0\t    |\t68.8\t21.6\t0.0\n",
      " 16\t91.2\t0.0\t0.0\t    |\t62.8\t28.4\t0.0\n",
      " 17\t87.1\t0.0\t0.0\t    |\t62.1\t25.0\t0.0\n",
      " 18\t85.4\t0.0\t0.0\t    |\t60.0\t25.5\t0.0\n",
      " 19\t87.2\t0.0\t0.0\t    |\t46.8\t40.4\t0.0\n",
      " 20\t88.9\t0.0\t0.0\t    |\t60.2\t28.7\t0.0\n",
      " 21\t101.1\t0.0\t0.0\t    |\t65.8\t35.4\t0.0\n",
      " 22\t102.3\t0.0\t0.0\t    |\t55.1\t47.2\t0.0\n",
      " 23\t105.9\t0.0\t0.0\t    |\t74.2\t31.7\t0.0\n",
      " 24\t101.1\t0.0\t0.0\t    |\t59.3\t41.8\t0.0\n",
      " 25\t103.7\t0.0\t0.0\t    |\t61.6\t42.1\t0.0\n",
      " 26\t107.1\t-0.1\t0.0\t    |\t77.0\t29.8\t0.2\n",
      " 27\t100.8\t0.0\t0.2\t    |\t56.9\t44.1\t0.0\n",
      " 28\t93.8\t0.0\t0.0\t    |\t54.7\t39.1\t0.0\n",
      " 29\t95.0\t0.0\t0.0\t    |\t60.7\t34.3\t0.0\n",
      " 30\t96.0\t0.0\t0.0\t    |\t55.4\t40.6\t0.0\n",
      " 31\t98.4\t0.0\t0.0\t    |\t72.3\t26.1\t0.0\n",
      " 32\t100.2\t0.0\t0.0\t    |\t69.7\t30.5\t0.0\n",
      " 33\t97.3\t0.0\t0.0\t    |\t55.4\t41.9\t0.0\n",
      " 34\t104.1\t0.0\t0.0\t    |\t75.9\t28.2\t0.0\n",
      " 35\t112.7\t0.0\t0.0\t    |\t75.7\t37.0\t0.0\n",
      " 36\t113.9\t-0.4\t0.0\t    |\t80.0\t32.2\t1.2\n",
      " 37\t119.7\t-0.4\t1.2\t    |\t71.0\t47.3\t2.3\n",
      " 38\t117.8\t-0.3\t2.3\t    |\t81.6\t35.1\t3.1\n",
      " 39\t115.2\t-0.1\t3.1\t    |\t81.8\t32.9\t3.5\n",
      " 40\t111.3\t0.0\t3.5\t    |\t77.9\t36.9\t0.0\n",
      " 41\t112.3\t0.0\t0.0\t    |\t79.1\t33.2\t0.0\n",
      " 42\t109.3\t-0.3\t0.0\t    |\t88.9\t19.4\t0.8\n",
      " 43\t101.8\t0.0\t0.8\t    |\t69.1\t33.5\t0.0\n",
      " 44\t104.7\t0.0\t0.0\t    |\t55.3\t49.5\t0.0\n",
      " 45\t101.8\t0.0\t0.0\t    |\t72.5\t29.3\t0.0\n",
      " 46\t106.0\t0.0\t0.0\t    |\t69.4\t36.7\t0.0\n",
      " 47\t112.1\t0.0\t0.0\t    |\t83.5\t28.6\t0.0\n",
      " 48\t115.2\t0.0\t0.0\t    |\t78.9\t36.3\t0.0\n",
      " 49\t114.1\t0.0\t0.0\t    |\t72.4\t41.7\t0.0\n",
      " 50\t118.0\t-0.5\t0.0\t    |\t80.9\t35.3\t1.4\n",
      " 51\t122.5\t-1.4\t1.4\t    |\t87.2\t29.8\t5.5\n",
      " 52\t119.8\t-1.2\t5.5\t    |\t82.4\t32.8\t8.8\n",
      " 53\t128.0\t-0.7\t8.8\t    |\t87.3\t38.1\t10.8\n",
      " 54\t130.4\t-3.8\t10.8\t    |\t91.0\t24.6\t21.8\n",
      " 55\t135.6\t-2.9\t21.8\t    |\t87.0\t37.4\t30.1\n",
      " 56\t137.7\t-3.8\t30.1\t    |\t92.0\t31.1\t40.9\n",
      " 57\t138.9\t-4.4\t40.9\t    |\t87.1\t34.8\t53.5\n",
      " 58\t137.7\t-3.4\t53.5\t    |\t90.7\t33.9\t63.2\n",
      " 59\t141.9\t-0.5\t63.2\t    |\t84.3\t55.7\t64.7\n",
      " 60\t142.4\t-3.9\t64.7\t    |\t87.2\t39.9\t75.9\n",
      " 61\t140.9\t-2.8\t75.9\t    |\t88.8\t41.3\t83.9\n",
      " 62\t133.3\t-1.3\t83.9\t    |\t87.6\t40.7\t87.6\n",
      " 63\t136.4\t-3.5\t87.6\t    |\t87.6\t35.3\t97.6\n",
      " 64\t133.4\t-0.4\t97.6\t    |\t89.4\t42.5\t98.8\n",
      " 65\t137.9\t-2.1\t98.8\t    |\t89.5\t40.2\t104.9\n",
      " 66\t142.1\t-3.6\t104.9\t    |\t87.1\t40.9\t115.4\n",
      " 67\t134.4\t-2.7\t115.4\t    |\t88.5\t35.6\t123.0\n",
      " 68\t134.8\t-3.4\t123.0\t    |\t87.6\t34.1\t132.8\n",
      " 69\t135.3\t0.0\t132.8\t    |\t97.4\t38.6\t132.1\n",
      " 70\t141.6\t-2.7\t132.1\t    |\t91.5\t39.8\t139.7\n",
      " 71\t135.6\t-3.2\t139.7\t    |\t86.5\t36.7\t149.0\n",
      " 72\t131.4\t-1.3\t149.0\t    |\t91.2\t35.2\t152.7\n",
      " 73\t132.8\t-0.6\t152.7\t    |\t91.9\t38.7\t154.3\n",
      " 74\t132.3\t-3.0\t154.3\t    |\t90.6\t30.2\t162.9\n",
      " 75\t126.3\t-0.0\t162.9\t    |\t92.5\t33.8\t162.9\n",
      " 76\t129.5\t-0.3\t162.9\t    |\t87.2\t40.9\t163.9\n",
      " 77\t126.4\t-0.2\t163.9\t    |\t93.9\t31.8\t164.5\n",
      " 78\t126.3\t-0.7\t164.5\t    |\t90.2\t33.3\t166.5\n",
      " 79\t118.8\t-0.4\t166.5\t    |\t91.9\t25.5\t167.6\n",
      " 80\t113.7\t0.0\t167.6\t    |\t91.2\t27.4\t162.7\n",
      " 81\t115.7\t0.0\t162.7\t    |\t88.8\t29.1\t160.4\n",
      " 82\t116.8\t0.0\t160.4\t    |\t86.4\t40.2\t150.6\n",
      " 83\t107.5\t0.0\t150.6\t    |\t81.0\t44.3\t132.8\n",
      " 84\t103.5\t0.0\t132.8\t    |\t84.3\t33.0\t119.0\n",
      " 85\t110.0\t0.0\t119.0\t    |\t87.2\t35.5\t106.3\n",
      " 86\t106.8\t-0.6\t106.3\t    |\t85.2\t19.3\t108.0\n",
      " 87\t103.1\t0.0\t108.0\t    |\t86.0\t32.8\t92.3\n",
      " 88\t99.9\t0.0\t92.3\t    |\t88.1\t23.9\t80.2\n",
      " 89\t104.6\t0.0\t80.2\t    |\t83.3\t23.3\t78.2\n",
      " 90\t98.3\t0.0\t78.2\t    |\t87.8\t22.0\t66.7\n",
      " 91\t92.0\t0.0\t66.7\t    |\t77.6\t25.1\t55.9\n",
      " 92\t95.9\t0.0\t55.9\t    |\t83.1\t17.4\t51.2\n",
      " 93\t102.1\t0.0\t51.2\t    |\t84.5\t28.2\t40.7\n",
      " 94\t97.8\t0.0\t40.7\t    |\t85.8\t30.1\t22.6\n",
      " 95\t99.0\t0.0\t22.6\t    |\t85.4\t25.4\t10.9\n",
      " 96\t105.3\t0.0\t10.9\t    |\t86.1\t23.7\t6.3\n",
      " 97\t101.2\t0.0\t6.3\t    |\t86.4\t21.1\t0.0\n",
      " 98\t99.5\t-0.7\t0.0\t    |\t81.5\t15.1\t2.1\n",
      " 99\t101.0\t0.0\t2.1\t    |\t77.1\t26.1\t0.0\n",
      "100\t103.9\t0.0\t0.0\t    |\t86.2\t17.7\t0.0\n",
      "\n",
      "\n",
      "\n",
      "\n"
     ]
    },
    {
     "data": {
      "image/png": "[encoded data removed]",
      "text/plain": [
       "<Figure size 432x288 with 1 Axes>"
      ]
     },
     "metadata": {
      "needs_background": "light"
     },
     "output_type": "display_data"
    },
    {
     "data": {
      "image/png": "[encoded data removed]",
      "text/plain": [
       "<Figure size 432x288 with 2 Axes>"
      ]
     },
     "metadata": {},
     "output_type": "display_data"
    },
    {
     "data": {
      "image/png": "[encoded data removed]",
      "text/plain": [
       "<Figure size 432x288 with 2 Axes>"
      ]
     },
     "metadata": {},
     "output_type": "display_data"
    },
    {
     "data": {
      "image/png": "[encoded data removed]",
      "text/plain": [
       "<Figure size 432x288 with 2 Axes>"
      ]
     },
     "metadata": {},
     "output_type": "display_data"
    },
    {
     "data": {
      "image/png": "[encoded data removed]",
      "text/plain": [
       "<Figure size 432x288 with 2 Axes>"
      ]
     },
     "metadata": {},
     "output_type": "display_data"
    },
    {
     "data": {
      "image/png": "[encoded data removed]",
      "text/plain": [
       "<Figure size 432x288 with 2 Axes>"
      ]
     },
     "metadata": {},
     "output_type": "display_data"
    },
    {
     "data": {
      "image/png": "[encoded data removed]",
      "text/plain": [
       "<Figure size 432x288 with 2 Axes>"
      ]
     },
     "metadata": {},
     "output_type": "display_data"
    },
    {
     "data": {
      "image/png": "[encoded data removed]",
      "text/plain": [
       "<Figure size 432x288 with 2 Axes>"
      ]
     },
     "metadata": {},
     "output_type": "display_data"
    },
    {
     "data": {
      "image/png": "[encoded data removed]",
      "text/plain": [
       "<Figure size 432x288 with 2 Axes>"
      ]
     },
     "metadata": {},
     "output_type": "display_data"
    },
    {
     "data": {
      "image/png": "[encoded data removed]",
      "text/plain": [
       "<Figure size 432x288 with 2 Axes>"
      ]
     },
     "metadata": {},
     "output_type": "display_data"
    }
   ],
   "source": [
    "# seed must be in range -2147483648 to 2147483647\n",
    "r.seed(12345)\n",
    "\n",
    "generateSeeds()\n",
    "\n",
    "setup(r,cmv.seedList[0])\n",
    "\n",
    "cmv.actionList=[\"produceAll()\",\"payWagesAll()\",\\\n",
    "                \"buyConsumptionOrInvestmentGoodsAll(r,cmv.seedList[3])\",\\\n",
    "                \"computeAndApplyInterestsAll()\",\"makeBalanceSheetAll()\",\\\n",
    "                \"distributeDividendAll()\",\"accountCashMoneyAll()\",\\\n",
    "                \"accountCheckingAccountAll()\",\"accountBankAccountAll()\",\\\n",
    "                \"makeBankFinancialAccountsAll()\"\\\n",
    "                ]\n",
    "\n",
    "for cmv.cycle in range(cmv.ncycles):\n",
    "    for anAction in cmv.actionList:\n",
    "            exec(anAction)\n",
    "\n",
    "makeHist() \n",
    "plot1()\n",
    "plot2()\n",
    "plot3()\n",
    "plot4()\n",
    "plot5()\n",
    "plot6()\n",
    "plot7()\n",
    "plot8()\n",
    "plot9()\n",
    "\n",
    "nationalAccounts()"
   ]
  },
  {
   "cell_type": "code",
   "execution_count": 9,
   "id": "typical-washer",
   "metadata": {},
   "outputs": [
    {
     "data": {
      "text/plain": [
       "[97, 76, 31, 35, 55, 33, 85]"
      ]
     },
     "execution_count": 9,
     "metadata": {},
     "output_type": "execute_result"
    }
   ],
   "source": [
    "list(cmv.firmList[i].num for i in range(cmv.firmNum))"
   ]
  },
  {
   "cell_type": "code",
   "execution_count": 10,
   "id": "sized-charge",
   "metadata": {},
   "outputs": [
    {
     "data": {
      "text/plain": [
       "[37, 11, 33, 31, 97, 85, 35]"
      ]
     },
     "execution_count": 10,
     "metadata": {},
     "output_type": "execute_result"
    }
   ],
   "source": [
    "list(cmv.entrepreneurList[i].num for i in range(cmv.firmNum))"
   ]
  },
  {
   "cell_type": "code",
   "execution_count": 11,
   "id": "sufficient-darkness",
   "metadata": {
    "scrolled": true
   },
   "outputs": [],
   "source": [
    "# last cycle\n",
    "tCashNe=0\n",
    "for anA in cmv.agentList:\n",
    "    if not anA.entrepreneur: tCashNe+=anA.cashMoney\n",
    "\n",
    "tCashE=0\n",
    "for anA in cmv.agentList:\n",
    "    if anA.entrepreneur: tCashE+=anA.cashMoney"
   ]
  },
  {
   "cell_type": "code",
   "execution_count": 12,
   "id": "vocal-transparency",
   "metadata": {
    "scrolled": true
   },
   "outputs": [
    {
     "data": {
      "text/plain": [
       "0"
      ]
     },
     "execution_count": 12,
     "metadata": {},
     "output_type": "execute_result"
    }
   ],
   "source": [
    "tCashNe"
   ]
  },
  {
   "cell_type": "code",
   "execution_count": 13,
   "id": "intelligent-powell",
   "metadata": {
    "scrolled": true
   },
   "outputs": [
    {
     "data": {
      "text/plain": [
       "0"
      ]
     },
     "execution_count": 13,
     "metadata": {},
     "output_type": "execute_result"
    }
   ],
   "source": [
    "tCashE"
   ]
  },
  {
   "cell_type": "code",
   "execution_count": 14,
   "id": "native-textbook",
   "metadata": {
    "scrolled": true
   },
   "outputs": [],
   "source": [
    "tC=0\n",
    "for i in range(cmv.ncycles):\n",
    "    tC+=cmv.totalConsumptionSeries[i]"
   ]
  },
  {
   "cell_type": "code",
   "execution_count": 15,
   "id": "smart-employment",
   "metadata": {
    "scrolled": true
   },
   "outputs": [
    {
     "data": {
      "text/plain": [
       "7544.163762532923"
      ]
     },
     "execution_count": 15,
     "metadata": {},
     "output_type": "execute_result"
    }
   ],
   "source": [
    "tC"
   ]
  },
  {
   "cell_type": "code",
   "execution_count": 16,
   "id": "distinguished-bacon",
   "metadata": {
    "scrolled": true
   },
   "outputs": [],
   "source": [
    "tCE=0\n",
    "for i in range(cmv.ncycles):\n",
    "    tCE+=cmv.totalEntrepreneurConsumptionSeries[i]"
   ]
  },
  {
   "cell_type": "code",
   "execution_count": 17,
   "id": "alive-electricity",
   "metadata": {
    "scrolled": true
   },
   "outputs": [
    {
     "data": {
      "text/plain": [
       "684.1196646002552"
      ]
     },
     "execution_count": 17,
     "metadata": {},
     "output_type": "execute_result"
    }
   ],
   "source": [
    "tCE"
   ]
  },
  {
   "cell_type": "code",
   "execution_count": 18,
   "id": "sufficient-placement",
   "metadata": {
    "scrolled": true
   },
   "outputs": [],
   "source": [
    "tCNe=0\n",
    "for i in range(cmv.ncycles):\n",
    "    tCNe+=cmv.totalNonEntrepreneurConsumptionSeries[i]"
   ]
  },
  {
   "cell_type": "code",
   "execution_count": 19,
   "id": "regional-somerset",
   "metadata": {
    "scrolled": true
   },
   "outputs": [
    {
     "data": {
      "text/plain": [
       "6860.044097932667"
      ]
     },
     "execution_count": 19,
     "metadata": {},
     "output_type": "execute_result"
    }
   ],
   "source": [
    "tCNe"
   ]
  },
  {
   "cell_type": "code",
   "execution_count": 20,
   "id": "great-dublin",
   "metadata": {
    "scrolled": true
   },
   "outputs": [],
   "source": [
    "tI=0\n",
    "for i in range(cmv.ncycles):\n",
    "    tI+=cmv.totalInvestmentSeries[i]"
   ]
  },
  {
   "cell_type": "code",
   "execution_count": 21,
   "id": "responsible-appendix",
   "metadata": {
    "scrolled": true
   },
   "outputs": [
    {
     "data": {
      "text/plain": [
       "3304.2059020205606"
      ]
     },
     "execution_count": 21,
     "metadata": {},
     "output_type": "execute_result"
    }
   ],
   "source": [
    "tI"
   ]
  },
  {
   "cell_type": "code",
   "execution_count": 22,
   "id": "fancy-geography",
   "metadata": {},
   "outputs": [
    {
     "data": {
      "text/plain": [
       "[47.793510811185556,\n",
       " 108.59181431277713,\n",
       " 165.0430732378092,\n",
       " 219.59396048575513,\n",
       " 267.28295085202814,\n",
       " 315.8633273647255,\n",
       " 368.5157742168056,\n",
       " 431.16020543117617,\n",
       " 474.47695241300687,\n",
       " 530.3223184866523,\n",
       " 588.5304775215085,\n",
       " 649.6540468287421,\n",
       " 701.0741616564729,\n",
       " 754.0695418889367,\n",
       " 793.1625386519274,\n",
       " 838.6710549715657,\n",
       " 885.3188259660824,\n",
       " 934.6151866136182,\n",
       " 997.6543962832486,\n",
       " 1047.7829921947994,\n",
       " 1092.8456129571125,\n",
       " 1149.1324033377207,\n",
       " 1186.6931115361933,\n",
       " 1239.6920305414355,\n",
       " 1290.8500963567462,\n",
       " 1327.007095250869,\n",
       " 1383.813121338453,\n",
       " 1443.4229816415273,\n",
       " 1497.5623092258668,\n",
       " 1557.565396120398,\n",
       " 1601.0835416378973,\n",
       " 1647.7151370051101,\n",
       " 1709.2449111311887,\n",
       " 1750.689029035492,\n",
       " 1792.7619234576375,\n",
       " 1830.866159037218,\n",
       " 1878.4744378700889,\n",
       " 1915.8530825642786,\n",
       " 1953.3472207267228,\n",
       " 1995.1815062327828,\n",
       " 2036.213304725894,\n",
       " 2067.827357653938,\n",
       " 2119.7212952766995,\n",
       " 2186.107616637312,\n",
       " 2235.711143443778,\n",
       " 2289.0187045174484,\n",
       " 2328.5691474779383,\n",
       " 2373.186437222944,\n",
       " 2424.827613905012,\n",
       " 2468.403835407828,\n",
       " 2506.010283088048,\n",
       " 2548.803929172033,\n",
       " 2587.1455841393404,\n",
       " 2622.105659104278,\n",
       " 2661.4718416627406,\n",
       " 2696.145601334843,\n",
       " 2736.1487284465284,\n",
       " 2772.903273577154,\n",
       " 2816.536334369643,\n",
       " 2857.601507482781,\n",
       " 2897.493156674011,\n",
       " 2939.003360015131,\n",
       " 2980.919046948385,\n",
       " 3021.435656606414,\n",
       " 3062.296524767722,\n",
       " 3105.97904321671,\n",
       " 3148.6998700333756,\n",
       " 3192.727067378605,\n",
       " 3227.309273168335,\n",
       " 3268.2022299115597,\n",
       " 3314.5679607925995,\n",
       " 3356.5552706793874,\n",
       " 3398.337059592441,\n",
       " 3441.853712052734,\n",
       " 3483.8528040246,\n",
       " 3531.5695711886196,\n",
       " 3573.071454500378,\n",
       " 3618.703665402281,\n",
       " 3663.088058320529,\n",
       " 3708.574243090001,\n",
       " 3756.9369418274578,\n",
       " 3808.222277594517,\n",
       " 3865.5081932176863,\n",
       " 3920.032355576995,\n",
       " 3972.169735972824,\n",
       " 4026.8099762684146,\n",
       " 4081.1950413418263,\n",
       " 4133.994361105459,\n",
       " 4192.214246122278,\n",
       " 4246.448707259203,\n",
       " 4311.486771489689,\n",
       " 4371.631092460036,\n",
       " 4431.027287906944,\n",
       " 4489.683797625044,\n",
       " 4549.362368897875,\n",
       " 4608.868135056738,\n",
       " 4668.643925116333,\n",
       " 4734.001169852063,\n",
       " 4804.493972917605,\n",
       " 4866.438667859872]"
      ]
     },
     "execution_count": 22,
     "metadata": {},
     "output_type": "execute_result"
    }
   ],
   "source": [
    "cmv.totalCheckingAccountSeries"
   ]
  },
  {
   "cell_type": "code",
   "execution_count": 23,
   "id": "thorough-thesaurus",
   "metadata": {},
   "outputs": [
    {
     "data": {
      "text/plain": [
       "[-19.96890695522923,\n",
       " -47.93050076230517,\n",
       " -70.92876965830268,\n",
       " -87.61365468463434,\n",
       " -94.22574658096815,\n",
       " -103.52589254387402,\n",
       " -111.7436399138644,\n",
       " -122.11102073832006,\n",
       " -115.54891688469482,\n",
       " -118.31099039366714,\n",
       " -125.14010114269686,\n",
       " -124.82595832798494,\n",
       " -114.22557875024387,\n",
       " -114.72057674875302,\n",
       " -98.0572889549786,\n",
       " -81.57496773300593,\n",
       " -64.07711321469517,\n",
       " -53.11416406253675,\n",
       " -54.720892075608,\n",
       " -42.0315410689473,\n",
       " -22.519889798665062,\n",
       " -12.50094252011177,\n",
       " 18.599108167633972,\n",
       " 28.715542943758486,\n",
       " 41.0018635169734,\n",
       " 67.4244806156708,\n",
       " 73.94973083290807,\n",
       " 78.22656556776418,\n",
       " 89.37623724104108,\n",
       " 101.52338830454522,\n",
       " 122.98243064156387,\n",
       " 146.62756512382182,\n",
       " 157.8983364739187,\n",
       " 184.2791646546002,\n",
       " 209.988801960628,\n",
       " 242.4146335405566,\n",
       " 269.92619202573474,\n",
       " 299.616220122245,\n",
       " 333.4445954201136,\n",
       " 370.52808621036996,\n",
       " 408.8901771340197,\n",
       " 452.7362585636857,\n",
       " 479.43383907312415,\n",
       " 498.16506026097403,\n",
       " 533.8171237843859,\n",
       " 561.0990594682572,\n",
       " 604.3706967876027,\n",
       " 645.4313482325124,\n",
       " 687.712412431152,\n",
       " 734.18358762962,\n",
       " 782.5299989482235,\n",
       " 825.208248364665,\n",
       " 880.403157328108,\n",
       " 929.164842573158,\n",
       " 978.5083014320104,\n",
       " 1036.2370456861188,\n",
       " 1085.3668440609517,\n",
       " 1137.593823851888,\n",
       " 1191.456942602329,\n",
       " 1243.437205356708,\n",
       " 1298.7689417754925,\n",
       " 1350.8619886435977,\n",
       " 1399.6784673565364,\n",
       " 1450.8305246784626,\n",
       " 1506.7105347246734,\n",
       " 1554.9576773312303,\n",
       " 1607.6228226988676,\n",
       " 1660.5922542189646,\n",
       " 1721.5980728267668,\n",
       " 1771.0570988482932,\n",
       " 1819.368303109803,\n",
       " 1872.6977012574819,\n",
       " 1922.7093629103033,\n",
       " 1970.835578511219,\n",
       " 2032.2559527670335,\n",
       " 2083.7430373662673,\n",
       " 2140.0297135056076,\n",
       " 2186.844780402767,\n",
       " 2240.7264426439947,\n",
       " 2294.5390790344854,\n",
       " 2343.204048064232,\n",
       " 2395.2134399930815,\n",
       " 2449.451482490995,\n",
       " 2504.1857313111705,\n",
       " 2559.718885340427,\n",
       " 2616.4987733706275,\n",
       " 2683.467962668163,\n",
       " 2743.1930284656246,\n",
       " 2798.6608464708474,\n",
       " 2864.2318122221086,\n",
       " 2915.3440503439656,\n",
       " 2975.1773972717565,\n",
       " 3036.5205982675498,\n",
       " 3107.004070430773,\n",
       " 3170.6756304000405,\n",
       " 3238.277877191683,\n",
       " 3305.9529653931722,\n",
       " 3366.487115329566,\n",
       " 3429.419684688247,\n",
       " 3498.9473032961996]"
      ]
     },
     "execution_count": 23,
     "metadata": {},
     "output_type": "execute_result"
    }
   ],
   "source": [
    "cmv.totalBankAccountSeries"
   ]
  },
  {
   "cell_type": "code",
   "execution_count": 24,
   "id": "auburn-mainstream",
   "metadata": {},
   "outputs": [
    {
     "name": "stdout",
     "output_type": "stream",
     "text": [
      "9\n",
      "9\n"
     ]
    }
   ],
   "source": [
    "for anItem in cmv.bankList:\n",
    "    print(len(anItem.myWorkers))"
   ]
  },
  {
   "cell_type": "code",
   "execution_count": 25,
   "id": "biblical-vaccine",
   "metadata": {
    "scrolled": true
   },
   "outputs": [
    {
     "name": "stdout",
     "output_type": "stream",
     "text": [
      "37 [1, 3, 5, 8, 9, 11, 14, 16, 18, 20, 21, 23, 24, 25, 28, 30, 31, 34, 36, 37, 39, 40, 41, 42, 44, 46, 47, 49, 50, 51, 52, 53, 54, 56, 59, 60, 62, 65, 66, 68, 70, 71, 73, 74, 76, 77, 78, 81, 83, 85, 87, 88, 89, 90, 92, 93, 95, 99]\n",
      "37 [33, 31, 97, 85, 55]\n",
      "11 [2, 4, 6, 7, 10, 12, 13, 15, 17, 19, 22, 26, 27, 29, 32, 33, 35, 38, 43, 45, 48, 55, 57, 58, 61, 63, 64, 67, 69, 72, 75, 79, 80, 82, 84, 86, 91, 94, 96, 97, 98, 100]\n",
      "11 [35, 76]\n"
     ]
    }
   ],
   "source": [
    "for aBank in cmv.bankList:\n",
    "    print(aBank.num, list(aBank.myPrivateClients[i].num \\\n",
    "                          for i in range(len(aBank.myPrivateClients))))\n",
    "    print(aBank.num, list(aBank.myCommercialClients[i].num \\\n",
    "                          for i in range(len(aBank.myCommercialClients))))"
   ]
  },
  {
   "cell_type": "code",
   "execution_count": 26,
   "id": "timely-dairy",
   "metadata": {},
   "outputs": [
    {
     "name": "stdout",
     "output_type": "stream",
     "text": [
      "37 -2819.288548712772 0 -3062.3660325019073 -216.74585003595328\n",
      "11 -2047.150119147102 0 -671.5833448585634 -18.25622402831769\n"
     ]
    }
   ],
   "source": [
    "for aBank in cmv.bankList:\n",
    "    print(aBank.num, aBank.myDebtsVsAgents, aBank.myCreditsVsAgents,\\\n",
    "                     aBank.myDebtsVsFirms,  aBank.myCreditsVsFirms)  "
   ]
  },
  {
   "cell_type": "code",
   "execution_count": 27,
   "id": "intimate-church",
   "metadata": {},
   "outputs": [
    {
     "name": "stdout",
     "output_type": "stream",
     "text": [
      "37 -58.23420377440276 -24.082872226217034\n",
      "11 -26.918153108966997 -2.028469336479743\n"
     ]
    }
   ],
   "source": [
    "for aBank in cmv.bankList:\n",
    "    #aBank.computeAndApplyInterests()\n",
    "    print(aBank.num,aBank.interestOnDeposits,aBank.interestOnLoans)"
   ]
  },
  {
   "cell_type": "code",
   "execution_count": 28,
   "id": "novel-belfast",
   "metadata": {},
   "outputs": [
    {
     "data": {
      "text/plain": [
       "False"
      ]
     },
     "execution_count": 28,
     "metadata": {},
     "output_type": "execute_result"
    }
   ],
   "source": [
    "cmv.bankList[1].myEntrepreneur in cmv.bankList[1].myPrivateClients"
   ]
  },
  {
   "cell_type": "code",
   "execution_count": 29,
   "id": "tutorial-hamburg",
   "metadata": {},
   "outputs": [
    {
     "data": {
      "text/plain": [
       "9"
      ]
     },
     "execution_count": 29,
     "metadata": {},
     "output_type": "execute_result"
    }
   ],
   "source": [
    "len(cmv.bankList[0].myWorkers)"
   ]
  },
  {
   "cell_type": "code",
   "execution_count": null,
   "id": "structural-variance",
   "metadata": {},
   "outputs": [],
   "source": []
  }
 ],
 "metadata": {
  "kernelspec": {
   "display_name": "Python 3",
   "language": "python",
   "name": "python3"
  },
  "language_info": {
   "codemirror_mode": {
    "name": "ipython",
    "version": 3
   },
   "file_extension": ".py",
   "mimetype": "text/x-python",
   "name": "python",
   "nbconvert_exporter": "python",
   "pygments_lexer": "ipython3",
   "version": "3.9.7"
  }
 },
 "nbformat": 4,
 "nbformat_minor": 5
}
