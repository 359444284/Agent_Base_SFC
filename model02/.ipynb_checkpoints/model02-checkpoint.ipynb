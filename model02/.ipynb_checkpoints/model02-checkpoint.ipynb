{
 "cells": [
  {
   "cell_type": "markdown",
   "id": "naval-nomination",
   "metadata": {},
   "source": [
    "### Un altro passo: arrivano le banche!\n",
    "#### Sempre in azione l'*Istituto Centrale di Statistica* con a fianco la *Banca d'Italia*\n",
    "\n",
    "use it also in [Notebook viewer](https://nbviewer.org/github/terna/ejmmp/blob/main/model0/model0.ipynb)\n",
    "\n",
    "if the content is missing to update, follow once [Notebook viewer and flush cache](https://nbviewer.org/github/terna/ejmmp/blob/main/model0/model0.ipynb?flush_cache=true)\n",
    "\n",
    "[Wikipedia as a memo](https://en.wikipedia.org/wiki/Stock-flow_consistent_model#cite_note-42)"
   ]
  },
  {
   "cell_type": "code",
   "execution_count": 1,
   "id": "latter-survey",
   "metadata": {
    "scrolled": true
   },
   "outputs": [
    {
     "data": {
      "application/javascript": [
       "// to avoid scroll in windows\n",
       "IPython.OutputArea.prototype._should_scroll = function(lines) {\n",
       "    return false;\n",
       "}\n"
      ],
      "text/plain": [
       "<IPython.core.display.Javascript object>"
      ]
     },
     "metadata": {},
     "output_type": "display_data"
    }
   ],
   "source": [
    "%%javascript\n",
    "// to avoid scroll in windows\n",
    "IPython.OutputArea.prototype._should_scroll = function(lines) {\n",
    "    return false;\n",
    "}"
   ]
  },
  {
   "cell_type": "code",
   "execution_count": 2,
   "id": "great-earthquake",
   "metadata": {
    "scrolled": false
   },
   "outputs": [],
   "source": [
    "%matplotlib inline\n",
    "import random as r\n",
    "import matplotlib.pyplot as plt\n",
    "import commonVar as cmv\n",
    "import numpy as np\n",
    "from tools import *\n",
    "import sys"
   ]
  },
  {
   "cell_type": "markdown",
   "id": "prostate-shadow",
   "metadata": {},
   "source": [
    "### Stock-flow *model1c*, with real and financial elements\n",
    "\n",
    "- Besides the real part of the economy, we introduce the initial element of the monetary side of the economy.\n",
    "\n",
    "  \n",
    "\n",
    "- We are introducing gradually loans, credits, debts, capital stock, interest rate.\n",
    "\n",
    "\n",
    "\n",
    "- Firms have unlimited funds that they put freely in their activities, balancing other agent negative cash, if any.\n",
    "\n",
    "  \n",
    "\n",
    "- Saving is abstension from consuming, increasing agent liquidity.\n",
    "\n",
    "\n",
    "\n",
    "- Investments are uniquely for replacement, without technical progress.\n",
    "\n",
    "  "
   ]
  },
  {
   "cell_type": "markdown",
   "id": "comparable-matthew",
   "metadata": {},
   "source": [
    "### symbol table\n",
    "\n",
    "[symbol table](https://oeis.org/wiki/List_of_LaTeX_mathematical_symbols) in $\\LaTeX$ \n",
    "\n",
    "$a_i$ -  with $a_i \\in \\mathbf{A}$; agent number $N=|\\mathbf{A}|$, `agentList` and`agentNum`\n",
    "\n",
    "$a^e_i$ -  with $a^e_i \\in \\mathbf{A^e}$ and $\\mathbf{A^e} \\subset \\mathbf{A}$; employer number $N^e=|\\mathbf{A^e}|$ in range $[N^e_{min},N^e_{max}]$, `employerList`\n",
    "\n",
    "$\\mathbf{F}$ - firms' set, with $f_j \\in \\mathbf{F}$ being $N^f = |\\mathbf{F}|$,  with $N^f = |\\mathbf{F}| = |\\mathbf{A^e}|$ , `firmList`\n",
    "\n",
    "$\\mathbf{A}^w$ - working agents' set, being $\\mathbf{A}^w \\subseteq \\mathbf{A}$, with $N^w_i=|\\mathbf{A}^w_i|$ number of working agents employed by employer $i$, also including self-employed employers, with $a_i \\in \\mathbf{A}^e$\n",
    "\n",
    "$\\mathbf{B}$ - banks' set, with $b_j \\in \\mathbf{B}$ being $N^b = |\\mathbf{B}|$, `bankList`\n",
    "\n",
    "$p$ - price `price`\n",
    "\n",
    "$u$ - unemployment rate `unemploymentRate`\n",
    "\n",
    "$dimensional~heterogeneity$ is a $true/false$ chooser, forcing increasing firms to attract more workers. `dimensionalHeterogeneity`\n",
    "\n",
    "$\\pi_{i,t}$ - labor productivity, a uniformly distributed decimal number in range $[\\pi_{min},\\pi_{max}]$,`productivity`\n",
    "\n",
    "&Delta;$\\pi_{i,t}$ - uniperiodal additive productivity correction in range $[$&Delta;$\\pi_{min},$ &Delta;$\\pi_{max}]$, `productivityDelta`\n",
    "\n",
    "$n_{i,t}$ - number of workers in a firm\n",
    "\n",
    "$q_{i,t}$ - production in quantity, `production`\n",
    "\n",
    "$\\Pi_{i,t}$ - profit, `profit`\n",
    "\n",
    "$\\rho$ - dividend distribution share, `rho`\n",
    "\n",
    "$W$ - wage `wage`\n",
    "\n",
    "$R_{i,t}$ - revenues, `revenues`\n",
    "\n",
    "$s_{i,t}$ - sales in quantity, `sales`\n",
    "\n",
    "$v_{i,t}$ - in**v**entories (final, initial), `initialInventories`, `finalInventories`\n",
    "\n",
    "$d_{i}$ - deperibility share of the production, `deperibilityShare`, setting $d_{max}$\n",
    "\n",
    "$c_{i,t}$ - consumption rate, a uniformly distributed decimal number in range $[c_{min},c_{max}]$,`consumptionRate`\n",
    "\n",
    "$C_{i,t}$ - consumption of $i$ in $t$\n",
    "\n",
    "$I_{i,t}$  - investment plan  of $i$ in $t$, a uniformly distributed realization in range $[I_{min},I_{max}]$,`investmentProgram`\n",
    "\n",
    "$H_{i,t}$  - high powered money (cash) held by individuals (also acting as employers), `cashMoney`\n",
    "\n",
    "$M1_{i,t}$ - checking account money deposits held by  $a_i$ at time $t$, `checkingAccount`\n",
    "\n",
    "$M1^f_{i,t}$ - firm's bank account (with positive or negative balance), `bankAccount`\n",
    "\n",
    "the investment and consumption actions are repeated in each cycle, looking around randomly for the sellers; currently `nOfConsumptionActions` $=30$ and `nOfInvestmentActions`$=10$; each consumption buy action is at maximum the 20% of the planned consumptions in that cycle; instead, each investment buy action can reach the whole amount of the investment program of the cycle; each buy action is limited by the residual capabilty of the seller\n",
    "\n",
    "**magically**, the same good can be a consumption item or an investment one\n",
    "\n",
    "$T$ - number of cycles `ncycles`\n",
    "\n",
    "$t$ - current cycle `cycle`\n"
   ]
  },
  {
   "cell_type": "markdown",
   "id": "broke-marathon",
   "metadata": {},
   "source": [
    "### agent structure\n",
    "\n",
    "The structure of a **generic agent**: it can represent an employer, a worker, an unemployed person.\n",
    "\n",
    "When an agent is created, the **initialization process** defines:\n",
    "\n",
    "- its numerical id, `num`\n",
    "- its entrepreneur status, `entrepreneur`, set to $false$\n",
    "- the id of its employer, `myEmployer`, set to $0$\n",
    "- if entrepreneur, the id of its firm, `myFirm`, set to $0$\n",
    "- $c_{i,0}$ - consumption rate, set to $0$\n",
    "- $H_{i,0}$ - cash money, set to $0$ \n",
    "- $M1_{i,0}$ - checking account money deposits, set to $0$\n",
    "\n",
    "\n",
    "\n",
    "## firm structure\n",
    "\n",
    "- $R_{i,0}$ - `revenues`, initial value  $0$\n",
    "- $s_{i,0}$ - `sales`, initial value  $0$\n",
    "- $v^i_{i,0}$ - in**v**entories, `initialInventories`, set to $0$ \n",
    "- $v^f_{i,0}$ - in**v**entories, `finalInventories`, set to $0$ \n",
    "- $d_{i}$ - deperibility share, a uniformly distributed decimal number in range $[0,d_{max}]$,`deperibilityShare`\n",
    "- $I_{i,0}$  - investment plan, set to $0$\n",
    "- $\\Pi_{i,0}$ - profit, set to $0$, being the related dividend $D_{i,0}$, set to $0$\n",
    "- $M1^f_{i,0}$ - firm's bank account, set to $0$\n",
    "- $\\pi_{i,t-1}$ is set after the initialization step, if an agent becomes an employer\n",
    "\n",
    "\n",
    "\n",
    "each **generic agent** has the **functions**:\n",
    "\n",
    "- **buyConsumptionGoods** \n",
    "\n",
    "  $C_{i,t}=c_{i,t} (W+D_{i,t-1})$; using $D_{i,t-1}$ we introduce a lag with a (possible) cyclical effect\n",
    "\n",
    "  being $bu$ the buyer and $se$ the seller (firm), for each fraction $C_{i,t}/k$ \n",
    "\n",
    "  ($k$ is the number of buying actions in each cycle with random share [0,cmv.maxConsumptionShareInSubstep))\n",
    "\n",
    "  &Delta;$M1^f_{se,t}=C_{bu,t}/k$\n",
    "\n",
    "  &Delta;$M1_{bu,t}=-C_{bu,t}/k$\n",
    "\n",
    "\n",
    "\n",
    "\n",
    "each **firm** has the **functions**:\n",
    "\n",
    "- **produce** function, with:\n",
    "\n",
    "  $\\pi_{i,t}=\\pi_{i,t-1}+$&Delta;$\\pi_{i,t}$\n",
    "\n",
    "  $q_{i,t}=n_{i,t} \\pi_{i,t}$\n",
    "\n",
    "  \n",
    "\n",
    "- **payWages**\n",
    "\n",
    "  paying $W$ to each worker in each time $t$\n",
    "\n",
    "  &Delta;$M1_{i,t}=W$ for  $a_i \\in \\mathbf{A}^w$ \n",
    "\n",
    "  &Delta;$M1^f_{i,t}=-W \\mathbf{N}^w_i$ for $a_i \\in \\mathbf{A}^e$ \n",
    "\n",
    "  \n",
    "\n",
    "- **buyInvestmentGoods**\n",
    "\n",
    "  $I_{j,t}$ for $f_j \\in \\mathbf{F}$  ($I_{j,t}$ is exogenously set)\n",
    "\n",
    "  being $bu$ the buyer (firm) and $se$ the seller (firm), for each fraction $I_{j,t}/k$\n",
    "\n",
    "  ($k$ is the number of investment actions in each cycle, with random share [0,cmv.maxInvestmentShareInSubstep))\n",
    "\n",
    "  &Delta;$M1^f_{se,t}=I_{bu,t}/k$\n",
    "\n",
    "  &Delta;$M1^f_{bu,t}=-I_{bu,t}/k$\n",
    "\n",
    "  \n",
    "\n",
    "- **makeBalanceSheet**\n",
    "\n",
    "  $v^f_{i,t}=v^i_{i,t}+(q_{i,t}-s_{i,t}) (1 - d_{i})$\n",
    "\n",
    "  $R_{i,t}=p s_{i,t}$\n",
    "\n",
    "  $\\Pi_{i,t}=R_{i,t}-W n_{i,t}-p(v^f_{i,t}-v^i_{i,t})$\n",
    "\n",
    "\n",
    "\n",
    "Agent **bank** is a special subject operating on the financial side of the model  (to be continued)\n",
    "\n"
   ]
  },
  {
   "cell_type": "code",
   "execution_count": 3,
   "id": "found-bibliography",
   "metadata": {
    "scrolled": false
   },
   "outputs": [],
   "source": [
    "class Agent():\n",
    "    def __init__(self, num):\n",
    "        self.num=num\n",
    "        self.entrepreneur=False\n",
    "        #self.myFirm=0\n",
    "        self.myEnterprise=0\n",
    "        self.myEmployer=0\n",
    "        self.consumptionRate=0\n",
    "        self.cashMoney=0\n",
    "        self.checkingAccount=0\n",
    "        self.perceivedWage=0\n",
    "        self.perceivedDividend=0\n",
    "\n",
    "    def buyConsumptionGoods(self,k):\n",
    "        if k==0: \n",
    "            self.consumptionRate=r.uniform(cmv.consumptionRateMin,cmv.consumptionRateMax)\n",
    "            self.consumption=(self.perceivedWage+self.perceivedDividend)*self.consumptionRate\n",
    "            if self.consumption < 0: self.consumption=0 # impossible, being perceivedWage and\n",
    "                                                        # perceivedDividend >=0 but in case of\n",
    "                                                        # future modifications ...\n",
    "            self.perceivedWage=0\n",
    "            self.perceivedDividend=0\n",
    "            self.madeConsumption=0\n",
    "                \n",
    "        r.shuffle(cmv.firmList)\n",
    "        mySeller=cmv.firmList[0]\n",
    "        self.purchase=r.uniform(0,cmv.maxConsumptionShareInSubstep)*self.consumption \n",
    "                            # mean value should be calibrated with thenumber of buy action\n",
    "        self.purchase=min(self.purchase,self.consumption-self.madeConsumption)\n",
    "        self.purchase=min(self.purchase,cmv.price*(mySeller.production+\\\n",
    "                                        mySeller.initialInventories-mySeller.sales))\n",
    "        mySeller.sales+=self.purchase/cmv.price\n",
    "        mySeller.bankAccount+=self.purchase\n",
    "        #self.consumption-=self.purchase\n",
    "        self.checkingAccount-=self.purchase\n",
    "        self.madeConsumption+=self.purchase\n",
    "    \n"
   ]
  },
  {
   "cell_type": "code",
   "execution_count": 4,
   "id": "dirty-nevada",
   "metadata": {},
   "outputs": [],
   "source": [
    "class Firm():\n",
    "    def __init__(self, num):\n",
    "        self.num=num\n",
    "        self.myWorkers=[]\n",
    "        self.myEntrepreneur=0\n",
    "        self.productivity=0\n",
    "        self.initialInventories=0\n",
    "        self.finalInventories=0\n",
    "        self.bankAccount=0\n",
    "        self.revenues=0 #sales*price\n",
    "        self.sales=0\n",
    "        self.deperibilityShare=r.uniform(0,cmv.maxDeperibilityShare)\n",
    "        self.investmentProgram=0\n",
    "        self.profit=0\n",
    "        self.madeInvestment=0\n",
    "        \n",
    "    def produce(self):\n",
    "        self.initialInventories=self.finalInventories\n",
    "        self.productivity+=r.uniform(cmv.productivityDeltaMin,cmv.productivityDeltaMax)\n",
    "        self.productivity=max(self.productivity,0)\n",
    "        \n",
    "        self.production=len(self.myWorkers)*self.productivity\n",
    "        self.sales=0\n",
    "\n",
    "    def payWages(self):\n",
    "        for anAgent in self.myWorkers:\n",
    "            anAgent.perceivedWage=cmv.wage\n",
    "            anAgent.checkingAccount+=cmv.wage\n",
    "        self.bankAccount-=cmv.wage*len(self.myWorkers)\n",
    "            \n",
    "    def buyInvestmentGoods(self,k):\n",
    "        if k==0: \n",
    "            self.investmentProgram=r.uniform(cmv.investmentMin,cmv.investmentMax)\n",
    "            self.madeInvestment=0\n",
    "                       \n",
    "        r.shuffle(cmv.firmList)\n",
    "        mySeller=cmv.firmList[0]\n",
    "        self.myInvestment=r.uniform(0,cmv.maxInvestmentShareInSubstep)*self.investmentProgram\n",
    "        self.myInvestment=min(self.myInvestment,cmv.price*(mySeller.production+\\\n",
    "                              mySeller.initialInventories-mySeller.sales))\n",
    "        mySeller.sales+=self.myInvestment/cmv.price\n",
    "        mySeller.bankAccount+=self.myInvestment\n",
    "        \n",
    "        self.bankAccount-=self.myInvestment\n",
    "        self.investmentProgram-=self.myInvestment\n",
    "        self.madeInvestment+=self.myInvestment\n",
    "        \n",
    "    def makeBalanceSheet(self):\n",
    "        self.lostProduction=0\n",
    "        if self.production - self.sales > 0: \n",
    "            self.lostProduction=(self.production - self.sales)*self.deperibilityShare\n",
    "        #print(self.num, lostProduction,self.productivity)\n",
    "        self.finalInventories=self.initialInventories+self.production-\\\n",
    "                              self.sales-self.lostProduction\n",
    "        self.revenues=self.sales*cmv.price\n",
    "        self.profit=self.revenues - len(self.myWorkers)*cmv.wage + \\\n",
    "          (self.finalInventories-self.initialInventories)*cmv.price\n",
    "        #print(self.num,self.profit,self.revenues,len(self.myWorkers)*cmv.wage,\\\n",
    "        #      self.finalInventories, self.initialInventories)\n",
    "        \n",
    "    def distributeDividend(self):\n",
    "        if self.profit > 0:\n",
    "            dividend=cmv.rho*self.profit\n",
    "            self.bankAccount-=dividend\n",
    "            self.myEntrepreneur.checkingAccount+=dividend\n",
    "            self.myEntrepreneur.perceivedDividend=dividend        \n"
   ]
  },
  {
   "cell_type": "code",
   "execution_count": 5,
   "id": "honey-expression",
   "metadata": {},
   "outputs": [],
   "source": [
    "class Bank(Firm):\n",
    "    def __init__(self, num):\n",
    "        super().__init__(num)"
   ]
  },
  {
   "cell_type": "markdown",
   "id": "given-bangkok",
   "metadata": {},
   "source": [
    "### agent setup\n",
    "\n",
    "- agent basic creation\n",
    "\n",
    "  \n",
    "\n",
    "- creation of entrepreneur list\n",
    "\n",
    "  \n",
    "\n",
    "- selecting entrepreneurs and creating their firms\n",
    "\n",
    "  \n",
    "\n",
    "- with a given (heterogeneous) productivity\n",
    "\n",
    "  \n",
    "\n",
    "- linking the firm to its entrepreneur, considering the entrepreneur itself as a worker in its firm\n",
    "\n",
    "  \n",
    "\n",
    "- creation of a temporary workforce list of to-be-employed agent, escluding entrepreneurs (already self employed)\n",
    "\n",
    "  \n",
    "\n",
    "- applying the unmployement rate to exclude agents\n",
    "\n",
    "  \n",
    "\n",
    "- assigning workforce (to-be-employed agents) to firms, with a reinforcement mechanism, gradually giving more attraction/hiring capability to firms growing the most\n",
    "\n"
   ]
  },
  {
   "cell_type": "code",
   "execution_count": 6,
   "id": "weekly-jordan",
   "metadata": {},
   "outputs": [],
   "source": [
    "def setup():\n",
    "    cmv.agentList=[]\n",
    "    for n in range(cmv.agentNum):\n",
    "        anAgent=Agent(n+1)\n",
    "        cmv.agentList.append(anAgent)\n",
    "    \n",
    "\n",
    "    # creation of entrepreneur list\n",
    "    cmv.entrepreneurNum=r.randint(entrepreneurMin, entrepreneurMax)\n",
    "    cmv.bankNum=r.randint(bankMin, bankMax)\n",
    "    \n",
    "    cmv.entrepreneurList=[]\n",
    "    cmv.firmList=[]\n",
    "    cmv.bankList=[]\n",
    "    entrepreneurCandidates=cmv.agentList.copy()\n",
    "\n",
    "    for n in range(cmv.entrepreneurNum):\n",
    "        i=r.randint(0,len(entrepreneurCandidates))\n",
    "        entrepreneurCandidates[i].entrepreneur=True\n",
    "\n",
    "        if len(cmv.bankList) < bankNum:\n",
    "            newEnterprise=Bank(entrepreneurCandidates[i].num)\n",
    "        else:\n",
    "            newEnterprise=Firm(entrepreneurCandidates[i].num)\n",
    "        #aFirm=Firm(entrepreneurCandidates[i].num)\n",
    "        entrepreneurCandidates[i].myEntreprise=newEnterprise\n",
    "        entrepreneurCandidates[i].myEmployer=newEnterprise\n",
    "        newEnterprise.myEntrepreneur=entrepreneurCandidates[i]\n",
    "        newEnterprise.myWorkers.append(entrepreneurCandidates[i])\n",
    "        newEnterprise.productivity=\\\n",
    "                r.uniform(cmv.productivityMin,cmv.productivityMax)\n",
    "        cmv.entrepreneurList.append(entrepreneurCandidates.pop(i))\n",
    "        ???cmv.firmList.append(aFirm)\n",
    "        \n",
    "    cmv.firmNum=len(cmv.firmList)\n",
    "    \n",
    "    # creation of workforce list\n",
    "    toBeEmployed=[]\n",
    "\n",
    "    for anAgent in cmv.agentList:\n",
    "        if not anAgent.entrepreneur: toBeEmployed.append(anAgent)\n",
    "    for k in range(round(cmv.unemploymentRate*cmv.agentNum)):\n",
    "        toBeEmployed.pop(r.randint(0,len(toBeEmployed)))\n",
    "    #len(toBeEmployed)\n",
    "\n",
    "\n",
    "    # assigning workforce to firms\n",
    "    tmpFirmListWithDuplications=cmv.firmList.copy()\n",
    "    for anAgent in toBeEmployed:\n",
    "        choice=r.choice(tmpFirmListWithDuplications)\n",
    "        anAgent.myEmployer=choice\n",
    "        choice.myWorkers.append(anAgent)\n",
    "        if cmv.dimensionalHeterogeneity: tmpFirmListWithDuplications.append(choice)\n",
    "            \n",
    "    cmv.totalProductionSeries=[]\n",
    "    cmv.totalProductionInfraVarSeries=[]\n",
    "    cmv.totalProfitSeries=[]\n",
    "    cmv.totalProfitInfraVarSeries=[]\n",
    "    cmv.totalInitialInventoriesSeries=[]\n",
    "    cmv.totalInitialInventoriesInfraVarSeries=[]\n",
    "    cmv.totalFinalInventoriesSeries=[]\n",
    "    cmv.totalFinalInventoriesInfraVarSeries=[]\n",
    "    cmv.totalConsumptionSeries=[]\n",
    "    cmv.totalEntrepreneurConsumptionSeries=[]\n",
    "    cmv.totalNonEntrepreneurConsumptionSeries=[]\n",
    "    cmv.totalConsumptionInfraVarSeries=[]\n",
    "    cmv.totalInvestmentSeries=[]\n",
    "    cmv.totalInvestmentInfraVarSeries=[]\n",
    "    cmv.totalCashMoneySeries=[]\n",
    "    cmv.totalCashMoneyInfraVarSeries=[]\n",
    "    cmv.totalCheckingAccountSeries=[]\n",
    "    cmv.totalCheckingAccountInfraVarSeries=[]\n",
    "    cmv.totalBankAccountSeries=[]\n",
    "    cmv.totalBankAccountInfraVarSeries=[]\n",
    "\n",
    "    cmv.totalLostProductionSeries=[]"
   ]
  },
  {
   "cell_type": "markdown",
   "id": "accompanied-defeat",
   "metadata": {},
   "source": [
    "### meta actions\n",
    "\n",
    "\n",
    "\n",
    "- *produceAll* orders to the firms to produce and to collects the results\n",
    "\n",
    "  \n",
    "\n",
    "- *payWagesAll* orders to the firms to pay wages, also to the entrepreneurs\n",
    "\n",
    "  \n",
    "\n",
    "- *buyConsumptionGoodsAll* orders to the agents to buy consumption goods\n",
    "\n",
    "  \n",
    "\n",
    "- *buyInvestmentGoodsAll* orders to the firms to buy investment goods\n",
    "\n",
    "  \n",
    "\n",
    "- *buyConsumptionOrInvestmentGoodsAll* orders to the agents and to the firms to buy consumption or investment goods\n",
    "\n",
    "  \n",
    "\n",
    "- *makeBalanceSheetAll* with firm making accounts\n",
    "\n",
    "\n",
    "\n",
    "- *accountCashMoneyAll* summarizing eveyone cash money at the end of a cycle\n",
    "\n",
    "  \n",
    "\n",
    "- *accountCheckingAccountAll* summarizing eveyone checking accounts at the end of a cycle\n",
    "\n",
    "  \n",
    "\n",
    "- *accountBankingAccountAll* summarizing firm banking accounts at the end of a cycle\n",
    "\n"
   ]
  },
  {
   "cell_type": "code",
   "execution_count": 7,
   "id": "artistic-barcelona",
   "metadata": {
    "scrolled": false
   },
   "outputs": [],
   "source": [
    "def produceAll():\n",
    "    cmv.totalProductionSeries.append(0)\n",
    "    cmv.totalProductionInfraVarSeries.append(0)\n",
    "    cmv.totalInitialInventoriesSeries.append(0)\n",
    "    cmv.totalInitialInventoriesInfraVarSeries.append(0)\n",
    "\n",
    "    for aFirm in cmv.firmList:\n",
    "        aFirm.produce()\n",
    "        cmv.totalProductionSeries[-1]+=aFirm.production\n",
    "        cmv.totalProductionInfraVarSeries[-1]+=aFirm.production**2\n",
    "        cmv.totalInitialInventoriesSeries[-1]+=aFirm.initialInventories\n",
    "        cmv.totalInitialInventoriesInfraVarSeries[-1]+=aFirm.initialInventories**2\n",
    "\n",
    "    cmv.totalProductionInfraVarSeries[-1]=\\\n",
    "                            (cmv.totalProductionInfraVarSeries[-1]/cmv.firmNum - \\\n",
    "                            (cmv.totalProductionSeries[-1]/cmv.firmNum)**2)\n",
    "    cmv.totalInitialInventoriesInfraVarSeries[-1]=\\\n",
    "                            (cmv.totalInitialInventoriesInfraVarSeries[-1]/cmv.firmNum - \\\n",
    "                            (cmv.totalInitialInventoriesSeries[-1]/cmv.firmNum)**2)\n",
    "                                          "
   ]
  },
  {
   "cell_type": "code",
   "execution_count": 8,
   "id": "married-fabric",
   "metadata": {
    "scrolled": false
   },
   "outputs": [],
   "source": [
    "def payWagesAll():\n",
    "    for aFirm in cmv.firmList:\n",
    "        aFirm.payWages()\n"
   ]
  },
  {
   "cell_type": "code",
   "execution_count": 9,
   "id": "global-mercury",
   "metadata": {
    "scrolled": true
   },
   "outputs": [],
   "source": [
    "def buyConsumptionGoodsAll():\n",
    "    cmv.totalEntrepreneurConsumptionSeries.append(0) \n",
    "    cmv.totalNonEntrepreneurConsumptionSeries.append(0)\n",
    "    cmv.totalConsumptionSeries.append(0)\n",
    "    cmv.totalConsumptionInfraVarSeries.append(0)\n",
    "    for k in range(cmv.nOfConsumptionActions):\n",
    "        r.shuffle(cmv.agentList)\n",
    "        for anAgent in cmv.agentList:\n",
    "            anAgent.buyConsumptionGoods(k)\n",
    "            if k==cmv.nOfConsumptionActions-1:\n",
    "                if anAgent.entrepreneur:\n",
    "                    cmv.totalEntrepreneurConsumptionSeries[-1]+=anAgent.madeConsumption\n",
    "                if not anAgent.entrepreneur:\n",
    "                    cmv.totalNonEntrepreneurConsumptionSeries[-1]+=anAgent.madeConsumption\n",
    "                cmv.totalConsumptionSeries[-1]+=anAgent.madeConsumption\n",
    "                cmv.totalConsumptionInfraVarSeries[-1]+=anAgent.madeConsumption**2\n",
    "\n",
    "    cmv.totalConsumptionInfraVarSeries[-1]=\\\n",
    "                              (cmv.totalConsumptionInfraVarSeries[-1]/cmv.agentNum - \\\n",
    "                              (cmv.totalConsumptionSeries[-1]/cmv.agentNum)**2)\n",
    "                "
   ]
  },
  {
   "cell_type": "code",
   "execution_count": 10,
   "id": "incredible-strategy",
   "metadata": {
    "scrolled": true
   },
   "outputs": [],
   "source": [
    "def buyInvestmentGoodsAll():\n",
    "    cmv.totalInvestmentSeries.append(0)\n",
    "    cmv.totalInvestmentInfraVarSeries.append(0)\n",
    "    for k in range(cmv.nOfInvestmentActions):\n",
    "        firmSafeList=cmv.firmList.copy() # safe copy without the shuffles in \n",
    "                                         # buyInvestmentGoods\n",
    "        r.shuffle(firmSafeList)\n",
    "        for aFirm in firmSafeList:\n",
    "            aFirm.buyInvestmentGoods(k)\n",
    "            if k==cmv.nOfInvestmentActions-1:\n",
    "                cmv.totalInvestmentSeries[-1]+=aFirm.madeInvestment\n",
    "                cmv.totalInvestmentInfraVarSeries[-1]+=aFirm.madeInvestment**2\n",
    "\n",
    "    cmv.totalInvestmentInfraVarSeries[-1]=\\\n",
    "                              (cmv.totalInvestmentInfraVarSeries[-1]/cmv.firmNum - \\\n",
    "                              (cmv.totalInvestmentSeries[-1]/cmv.firmNum)**2)\n",
    "                "
   ]
  },
  {
   "cell_type": "code",
   "execution_count": 11,
   "id": "living-flash",
   "metadata": {},
   "outputs": [],
   "source": [
    "def buyConsumptionOrInvestmentGoodsAll():\n",
    "    agentAndFirmList=cmv.agentList+cmv.firmList\n",
    "\n",
    "    cmv.totalEntrepreneurConsumptionSeries.append(0) \n",
    "    cmv.totalNonEntrepreneurConsumptionSeries.append(0)\n",
    "    cmv.totalConsumptionSeries.append(0)\n",
    "    cmv.totalConsumptionInfraVarSeries.append(0)\n",
    "    cmv.totalInvestmentSeries.append(0)\n",
    "    cmv.totalInvestmentInfraVarSeries.append(0)\n",
    "\n",
    "    repetitions=max(cmv.nOfConsumptionActions,cmv.nOfInvestmentActions)\n",
    "\n",
    "    for k in range(repetitions):\n",
    "        r.shuffle(agentAndFirmList)\n",
    "        for anItem in agentAndFirmList:\n",
    "            if anItem.__class__.__name__==\"Agent\" and\\\n",
    "            k < cmv.nOfConsumptionActions - 1: anItem.buyConsumptionGoods(k)\n",
    "            if anItem.__class__.__name__==\"Firm\" and\\\n",
    "            k < cmv.nOfInvestmentActions - 1:  anItem.buyInvestmentGoods(k)\n",
    "\n",
    "            if k==cmv.nOfConsumptionActions-1 and anItem.__class__.__name__==\"Agent\":\n",
    "                if anItem.entrepreneur:\n",
    "                    cmv.totalEntrepreneurConsumptionSeries[-1]+=anItem.madeConsumption\n",
    "                if not anItem.entrepreneur:\n",
    "                    cmv.totalNonEntrepreneurConsumptionSeries[-1]+=anItem.madeConsumption\n",
    "                cmv.totalConsumptionSeries[-1]+=anItem.madeConsumption\n",
    "                cmv.totalConsumptionInfraVarSeries[-1]+=anItem.madeConsumption**2\n",
    "\n",
    "            if k==cmv.nOfInvestmentActions-1 and anItem.__class__.__name__==\"Firm\":\n",
    "                cmv.totalInvestmentSeries[-1]+=anItem.madeInvestment\n",
    "                cmv.totalInvestmentInfraVarSeries[-1]+=anItem.madeInvestment**2\n",
    "\n",
    "    cmv.totalConsumptionInfraVarSeries[-1]=\\\n",
    "                              (cmv.totalConsumptionInfraVarSeries[-1]/cmv.agentNum - \\\n",
    "                              (cmv.totalConsumptionSeries[-1]/cmv.agentNum)**2)\n",
    " \n",
    "    cmv.totalInvestmentInfraVarSeries[-1]=\\\n",
    "                              (cmv.totalInvestmentInfraVarSeries[-1]/cmv.firmNum - \\\n",
    "                              (cmv.totalInvestmentSeries[-1]/cmv.firmNum)**2)\n"
   ]
  },
  {
   "cell_type": "code",
   "execution_count": 12,
   "id": "twelve-aerospace",
   "metadata": {
    "scrolled": true
   },
   "outputs": [],
   "source": [
    "def accountCashMoneyAll():\n",
    "    cmv.totalCashMoneySeries.append(0)\n",
    "    cmv.totalCashMoneyInfraVarSeries.append(0)\n",
    "    for anAgent in cmv.agentList:\n",
    "        cmv.totalCashMoneySeries[-1]+=anAgent.cashMoney\n",
    "        cmv.totalCashMoneyInfraVarSeries[-1]+=anAgent.cashMoney**2\n",
    "\n",
    "    cmv.totalCashMoneyInfraVarSeries[-1]=\\\n",
    "                              (cmv.totalCashMoneyInfraVarSeries[-1]/cmv.agentNum - \\\n",
    "                              (cmv.totalCashMoneySeries[-1]/cmv.agentNum)**2)\n",
    "    if abs(cmv.totalCashMoneySeries[-1])<0.00001: \\\n",
    "        cmv.totalCashMoneySeries[-1]=0\n"
   ]
  },
  {
   "cell_type": "code",
   "execution_count": 13,
   "id": "daily-hobby",
   "metadata": {},
   "outputs": [],
   "source": [
    "def accountCheckingAccountAll():\n",
    "    cmv.totalCheckingAccountSeries.append(0)\n",
    "    cmv.totalCheckingAccountInfraVarSeries.append(0)\n",
    "    for anAgent in cmv.agentList:\n",
    "        cmv.totalCheckingAccountSeries[-1]+=anAgent.checkingAccount\n",
    "        cmv.totalCheckingAccountInfraVarSeries[-1]+=anAgent.checkingAccount**2\n",
    "\n",
    "    cmv.totalCheckingAccountInfraVarSeries[-1]=\\\n",
    "                              (cmv.totalCheckingAccountInfraVarSeries[-1]/cmv.agentNum - \\\n",
    "                              (cmv.totalCheckingAccountSeries[-1]/cmv.agentNum)**2)\n",
    "    if abs(cmv.totalCheckingAccountSeries[-1])<0.00001: \\\n",
    "        cmv.totalCheckingAccountSeries[-1]=0\n"
   ]
  },
  {
   "cell_type": "code",
   "execution_count": 14,
   "id": "soviet-johnson",
   "metadata": {},
   "outputs": [],
   "source": [
    "def accountBankAccountAll(): #temporary - this is an attribute of firms\n",
    "    cmv.totalBankAccountSeries.append(0)\n",
    "    cmv.totalBankAccountInfraVarSeries.append(0)\n",
    "    for aFirm in cmv.firmList:\n",
    "        cmv.totalBankAccountSeries[-1]+=aFirm.bankAccount\n",
    "        cmv.totalBankAccountInfraVarSeries[-1]+=aFirm.bankAccount**2\n",
    "\n",
    "    cmv.totalBankAccountInfraVarSeries[-1]=\\\n",
    "                              (cmv.totalBankAccountInfraVarSeries[-1]/cmv.firmNum - \\\n",
    "                              (cmv.totalBankAccountSeries[-1]/cmv.firmNum)**2)\n",
    "    if abs(cmv.totalBankAccountSeries[-1])<0.00001: \\\n",
    "        cmv.totalBankAccountSeries[-1]=0\n"
   ]
  },
  {
   "cell_type": "code",
   "execution_count": 15,
   "id": "exceptional-management",
   "metadata": {
    "scrolled": false
   },
   "outputs": [],
   "source": [
    "def makeBalanceSheetAll():\n",
    "    cmv.totalProfitSeries.append(0)\n",
    "    cmv.totalProfitInfraVarSeries.append(0)\n",
    "    cmv.totalFinalInventoriesSeries.append(0)\n",
    "    cmv.totalFinalInventoriesInfraVarSeries.append(0)\n",
    "    cmv.totalLostProductionSeries.append(0)\n",
    "    for aFirm in cmv.firmList:\n",
    "        aFirm.makeBalanceSheet()\n",
    "        cmv.totalProfitSeries[-1]+=aFirm.profit\n",
    "        cmv.totalProfitInfraVarSeries[-1]+=aFirm.profit**2\n",
    "        cmv.totalFinalInventoriesSeries[-1]+=aFirm.finalInventories\n",
    "        cmv.totalFinalInventoriesInfraVarSeries[-1]+=aFirm.finalInventories**2\n",
    "        cmv.totalLostProductionSeries[-1]+=aFirm.lostProduction\n",
    "\n",
    "    cmv.totalProfitInfraVarSeries[-1]=(cmv.totalProfitInfraVarSeries[-1]/cmv.firmNum - \\\n",
    "                                          (cmv.totalProfitSeries[-1]/cmv.firmNum)**2)\n",
    "    cmv.totalFinalInventoriesInfraVarSeries[-1]=\\\n",
    "                            (cmv.totalFinalInventoriesInfraVarSeries[-1]/cmv.firmNum - \\\n",
    "                            (cmv.totalFinalInventoriesSeries[-1]/cmv.firmNum)**2)\n",
    "                                            "
   ]
  },
  {
   "cell_type": "code",
   "execution_count": 16,
   "id": "arctic-terminology",
   "metadata": {},
   "outputs": [],
   "source": [
    "def distributeDividendAll():\n",
    "    for aFirm in cmv.firmList:\n",
    "        aFirm.distributeDividend()"
   ]
  },
  {
   "cell_type": "markdown",
   "id": "dense-journey",
   "metadata": {},
   "source": [
    "\n",
    "### model parameters\n",
    "\n"
   ]
  },
  {
   "cell_type": "code",
   "execution_count": 18,
   "id": "designing-participant",
   "metadata": {
    "scrolled": false
   },
   "outputs": [],
   "source": [
    "cmv.agentNum=100\n",
    "entrepreneurMin=6\n",
    "entrepreneurMax=20\n",
    "bankMin=2\n",
    "bankMax=3 \n",
    "\n",
    "if bankMax > entrepreneurMin:\n",
    "    print (\"Bank maximum number cannot exceed the minimum number of firms!\")\n",
    "    sys.exit(0)\n",
    "\n",
    "cmv.price=1\n",
    "\n",
    "cmv.unemploymentRate=0\n",
    "cmv.dimensionalHeterogeneity=True\n",
    "\n",
    "cmv.productivityMin=0.8\n",
    "cmv.productivityMax=1.2\n",
    "cmv.productivityDeltaMin=cmv.productivityMin-1\n",
    "cmv.productivityDeltaMax=cmv.productivityMax-1\n",
    "\n",
    "cmv.maxDeperibilityShare=0.5\n",
    "\n",
    "cmv.wage=1\n",
    "cmv.rho=0.5 #1\n",
    "cmv.consumptionRateMin=0.5\n",
    "cmv.consumptionRateMax=1\n",
    "\n",
    "cmv.investmentMin=1\n",
    "cmv.investmentMax=10\n",
    "\n",
    "cmv.nOfConsumptionActions=30\n",
    "cmv.maxConsumptionShareInSubstep=0.3\n",
    "cmv.nOfInvestmentActions=10\n",
    "cmv.maxInvestmentShareInSubstep=0.3\n",
    "cmv.ncycles=100\n",
    "cmv.cycle=0"
   ]
  },
  {
   "cell_type": "markdown",
   "id": "neutral-cylinder",
   "metadata": {},
   "source": [
    "## <p style=\"color:red\">model machine</p>\n",
    "\n",
    "- a random seed determining the random number sequences\n",
    "\n",
    "\n",
    "\n",
    "- a list of actions (meta ones)\n",
    "\n",
    "\n",
    "\n",
    "- an engine excecuting the meta actions\n",
    "\n",
    "\n",
    "\n",
    "- display tools (their code is hidden into the file `tools.py`)\n",
    "\n",
    "\n"
   ]
  },
  {
   "cell_type": "code",
   "execution_count": null,
   "id": "sealed-valuation",
   "metadata": {
    "scrolled": false
   },
   "outputs": [],
   "source": [
    "r.seed(121314)\n",
    "\n",
    "setup()\n",
    "\n",
    "cmv.actionList=[\"produceAll()\",\"payWagesAll()\",\"buyConsumptionOrInvestmentGoodsAll()\",\\\n",
    "                \"makeBalanceSheetAll()\",\\\n",
    "                \"distributeDividendAll()\",\"accountCashMoneyAll()\",\\\n",
    "                \"accountCheckingAccountAll()\",\"accountBankAccountAll()\",\\\n",
    "                ]\n",
    "\n",
    "for cmv.cycle in range(cmv.ncycles):\n",
    "    for anAction in cmv.actionList:\n",
    "            exec(anAction)\n",
    "\n",
    "makeHist()   \n",
    "plot1()\n",
    "plot2()\n",
    "plot3()\n",
    "plot4()\n",
    "plot5()\n",
    "plot6()\n",
    "plot7()\n",
    "plot8()\n",
    "plot9()\n",
    "\n",
    "nationalAccounts()"
   ]
  },
  {
   "cell_type": "code",
   "execution_count": null,
   "id": "typical-washer",
   "metadata": {},
   "outputs": [],
   "source": [
    "list(cmv.firmList[i].num for i in range(cmv.firmNum))"
   ]
  },
  {
   "cell_type": "code",
   "execution_count": null,
   "id": "sized-charge",
   "metadata": {},
   "outputs": [],
   "source": [
    "list(cmv.entrepreneurList[i].num for i in range(cmv.firmNum))"
   ]
  },
  {
   "cell_type": "code",
   "execution_count": null,
   "id": "sufficient-darkness",
   "metadata": {
    "scrolled": true
   },
   "outputs": [],
   "source": [
    "# last cycle\n",
    "tCashNe=0\n",
    "for anA in cmv.agentList:\n",
    "    if not anA.entrepreneur: tCashNe+=anA.cashMoney\n",
    "\n",
    "tCashE=0\n",
    "for anA in cmv.agentList:\n",
    "    if anA.entrepreneur: tCashE+=anA.cashMoney"
   ]
  },
  {
   "cell_type": "code",
   "execution_count": null,
   "id": "vocal-transparency",
   "metadata": {
    "scrolled": true
   },
   "outputs": [],
   "source": [
    "tCashNe"
   ]
  },
  {
   "cell_type": "code",
   "execution_count": null,
   "id": "intelligent-powell",
   "metadata": {
    "scrolled": true
   },
   "outputs": [],
   "source": [
    "tCashE"
   ]
  },
  {
   "cell_type": "code",
   "execution_count": null,
   "id": "native-textbook",
   "metadata": {
    "scrolled": true
   },
   "outputs": [],
   "source": [
    "tC=0\n",
    "for i in range(cmv.ncycles):\n",
    "    tC+=cmv.totalConsumptionSeries[i]"
   ]
  },
  {
   "cell_type": "code",
   "execution_count": null,
   "id": "smart-employment",
   "metadata": {
    "scrolled": true
   },
   "outputs": [],
   "source": [
    "tC"
   ]
  },
  {
   "cell_type": "code",
   "execution_count": null,
   "id": "distinguished-bacon",
   "metadata": {
    "scrolled": true
   },
   "outputs": [],
   "source": [
    "tCE=0\n",
    "for i in range(cmv.ncycles):\n",
    "    tCE+=cmv.totalEntrepreneurConsumptionSeries[i]"
   ]
  },
  {
   "cell_type": "code",
   "execution_count": null,
   "id": "alive-electricity",
   "metadata": {
    "scrolled": true
   },
   "outputs": [],
   "source": [
    "tCE"
   ]
  },
  {
   "cell_type": "code",
   "execution_count": null,
   "id": "sufficient-placement",
   "metadata": {
    "scrolled": true
   },
   "outputs": [],
   "source": [
    "tCNe=0\n",
    "for i in range(cmv.ncycles):\n",
    "    tCNe+=cmv.totalNonEntrepreneurConsumptionSeries[i]"
   ]
  },
  {
   "cell_type": "code",
   "execution_count": null,
   "id": "regional-somerset",
   "metadata": {
    "scrolled": true
   },
   "outputs": [],
   "source": [
    "tCNe"
   ]
  },
  {
   "cell_type": "code",
   "execution_count": null,
   "id": "great-dublin",
   "metadata": {
    "scrolled": true
   },
   "outputs": [],
   "source": [
    "tI=0\n",
    "for i in range(cmv.ncycles):\n",
    "    tI+=cmv.totalInvestmentSeries[i]"
   ]
  },
  {
   "cell_type": "code",
   "execution_count": null,
   "id": "responsible-appendix",
   "metadata": {
    "scrolled": true
   },
   "outputs": [],
   "source": [
    "tI"
   ]
  },
  {
   "cell_type": "code",
   "execution_count": null,
   "id": "fancy-geography",
   "metadata": {},
   "outputs": [],
   "source": [
    "cmv.totalCheckingAccountSeries"
   ]
  },
  {
   "cell_type": "code",
   "execution_count": null,
   "id": "thorough-thesaurus",
   "metadata": {},
   "outputs": [],
   "source": [
    "cmv.totalBankAccountSeries"
   ]
  },
  {
   "cell_type": "code",
   "execution_count": null,
   "id": "analyzed-sleep",
   "metadata": {},
   "outputs": [],
   "source": []
  }
 ],
 "metadata": {
  "kernelspec": {
   "display_name": "Python 3",
   "language": "python",
   "name": "python3"
  },
  "language_info": {
   "codemirror_mode": {
    "name": "ipython",
    "version": 3
   },
   "file_extension": ".py",
   "mimetype": "text/x-python",
   "name": "python",
   "nbconvert_exporter": "python",
   "pygments_lexer": "ipython3",
   "version": "3.9.7"
  }
 },
 "nbformat": 4,
 "nbformat_minor": 5
}
