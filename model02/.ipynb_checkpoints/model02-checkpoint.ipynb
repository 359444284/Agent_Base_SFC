{
 "cells": [
  {
   "cell_type": "markdown",
   "id": "naval-nomination",
   "metadata": {},
   "source": [
    "### Un altro passo: arrivano le banche!\n",
    "#### Sempre in azione l'*Istituto Centrale di Statistica* con a fianco la *Banca d'Italia*\n",
    "\n",
    "use it also in [Notebook viewer](https://nbviewer.org/github/terna/ejmmp/blob/main/model0/model0.ipynb)\n",
    "\n",
    "if the content is missing to update, follow once [Notebook viewer and flush cache](https://nbviewer.org/github/terna/ejmmp/blob/main/model0/model0.ipynb?flush_cache=true)\n",
    "\n",
    "[Wikipedia as a memo](https://en.wikipedia.org/wiki/Stock-flow_consistent_model#cite_note-42)"
   ]
  },
  {
   "cell_type": "code",
   "execution_count": 1,
   "id": "latter-survey",
   "metadata": {
    "scrolled": true
   },
   "outputs": [
    {
     "data": {
      "application/javascript": [
       "// to avoid scroll in windows\n",
       "IPython.OutputArea.prototype._should_scroll = function(lines) {\n",
       "    return false;\n",
       "}\n"
      ],
      "text/plain": [
       "<IPython.core.display.Javascript object>"
      ]
     },
     "metadata": {},
     "output_type": "display_data"
    }
   ],
   "source": [
    "%%javascript\n",
    "// to avoid scroll in windows\n",
    "IPython.OutputArea.prototype._should_scroll = function(lines) {\n",
    "    return false;\n",
    "}"
   ]
  },
  {
   "cell_type": "code",
   "execution_count": 2,
   "id": "great-earthquake",
   "metadata": {
    "scrolled": false
   },
   "outputs": [],
   "source": [
    "%matplotlib inline\n",
    "import random as r\n",
    "import matplotlib.pyplot as plt\n",
    "import commonVar as cmv\n",
    "import numpy as np\n",
    "from tools import *\n",
    "import sys"
   ]
  },
  {
   "cell_type": "markdown",
   "id": "prostate-shadow",
   "metadata": {},
   "source": [
    "### Stock-flow *model02*, with real and financial elements\n",
    "\n",
    "- Besides the real part of the economy, we introduce the initial element of the monetary side of the economy.\n",
    "\n",
    "  \n",
    "\n",
    "- We are introducing gradually loans, credits, debts, capital stock, interest rate.\n",
    "\n",
    "\n",
    "\n",
    "- Firms have unlimited funds that they put freely in their activities, balancing other agent negative cash, if any.\n",
    "\n",
    "  \n",
    "\n",
    "- Saving is abstension from consuming, increasing agent liquidity.\n",
    "\n",
    "\n",
    "\n",
    "- Investments are uniquely for replacement, without technical progress.\n",
    "\n",
    "  "
   ]
  },
  {
   "cell_type": "markdown",
   "id": "comparable-matthew",
   "metadata": {},
   "source": [
    "### symbol table\n",
    "\n",
    "[symbol table](https://oeis.org/wiki/List_of_LaTeX_mathematical_symbols) in $\\LaTeX$ \n",
    "\n",
    "$a_i$ -  with $a_i \\in \\mathbf{A}$; agent number $N=|\\mathbf{A}|$, `agentList` and`agentNum`\n",
    "\n",
    "$a^e_i$ -  with $a^e_i \\in \\mathbf{A^e}$ and $\\mathbf{A^e} \\subset \\mathbf{A}$; employer number $N^e=|\\mathbf{A^e}|$ in range $[N^e_{min},N^e_{max}]$, `employerList`\n",
    "\n",
    "$\\mathbf{F}$ - firms' set, with $f_j \\in \\mathbf{F}$ being $N^f = |\\mathbf{F}|$,  with $N^f = |\\mathbf{F}| = |\\mathbf{A^e}|$ , `firmList`\n",
    "\n",
    "$\\mathbf{A}^w$ - working agents' set, being $\\mathbf{A}^w \\subseteq \\mathbf{A}$, with $N^w_i=|\\mathbf{A}^w_i|$ number of working agents employed by employer $i$, also including self-employed employers, with $a_i \\in \\mathbf{A}^e$\n",
    "\n",
    "$\\mathbf{B}$ - banks' set, with $b_j \\in \\mathbf{B}$ being $N^b = |\\mathbf{B}|$, `bankList`\n",
    "\n",
    "$p$ - price `price`\n",
    "\n",
    "$u$ - unemployment rate `unemploymentRate`\n",
    "\n",
    "$dimensional~heterogeneity$ is a $true/false$ chooser, forcing increasing firms to attract more workers. `dimensionalHeterogeneity`\n",
    "\n",
    "$\\pi_{i,t}$ - labor productivity, a uniformly distributed decimal number in range $[\\pi_{min},\\pi_{max}]$,`productivity`\n",
    "\n",
    "&Delta;$\\pi_{i,t}$ - uniperiodal additive productivity correction in range $[$&Delta;$\\pi_{min},$ &Delta;$\\pi_{max}]$, `productivityDelta`\n",
    "\n",
    "$n_{i,t}$ - number of workers in a firm\n",
    "\n",
    "$q_{i,t}$ - production in quantity, `production`\n",
    "\n",
    "$\\Pi_{i,t}$ - profit, `profit`\n",
    "\n",
    "$\\rho$ - dividend distribution share, `rho`\n",
    "\n",
    "$W$ - wage `wage`\n",
    "\n",
    "$R_{i,t}$ - revenues, `revenues`\n",
    "\n",
    "$s_{i,t}$ - sales in quantity, `sales`\n",
    "\n",
    "$v_{i,t}$ - in**v**entories (final, initial), `initialInventories`, `finalInventories`\n",
    "\n",
    "$d_{i}$ - deperibility share of the production, `deperibilityShare`, setting $d_{max}$\n",
    "\n",
    "$c_{i,t}$ - consumption rate, a uniformly distributed decimal number in range $[c_{min},c_{max}]$,`consumptionRate`\n",
    "\n",
    "$C_{i,t}$ - consumption of $i$ in $t$\n",
    "\n",
    "$I_{i,t}$  - investment plan  of $i$ in $t$, a uniformly distributed realization in range $[I_{min},I_{max}]$,`investmentProgram`\n",
    "\n",
    "$H_{i,t}$  - high powered money (cash) held by individuals (also acting as employers), `cashMoney`\n",
    "\n",
    "$M1_{i,t}$ - checking account money deposits held by  $a_i$ at time $t$, `checkingAccount`\n",
    "\n",
    "$M1^f_{i,t}$ - firm's bank account (with positive or negative balance), `bankAccount`\n",
    "\n",
    "the investment and consumption actions are repeated in each cycle, looking around randomly for the sellers; currently `nOfConsumptionActions` $=30$ and `nOfInvestmentActions`$=10$; each consumption buy action is at maximum the 20% of the planned consumptions in that cycle; instead, each investment buy action can reach the whole amount of the investment program of the cycle; each buy action is limited by the residual capabilty of the seller\n",
    "\n",
    "**magically**, the same good can be a consumption item or an investment one\n",
    "\n",
    "$T$ - number of cycles `ncycles`\n",
    "\n",
    "$t$ - current cycle `cycle`\n"
   ]
  },
  {
   "cell_type": "markdown",
   "id": "broke-marathon",
   "metadata": {},
   "source": [
    "### agent structure\n",
    "\n",
    "The structure of a **generic agent**: it can represent an employer, a worker, an unemployed person.\n",
    "\n",
    "When an agent is created, the **initialization process** defines:\n",
    "\n",
    "- its numerical id, `num`\n",
    "- its entrepreneur status, `entrepreneur`, set to $false$\n",
    "- the id of its employer, `myEmployer`, set to $0$\n",
    "- if entrepreneur, the id of its firm, `myFirm`, set to $0$\n",
    "- $c_{i,0}$ - consumption rate, set to $0$\n",
    "- $H_{i,0}$ - cash money, set to $0$ \n",
    "- $M1_{i,0}$ - checking account money deposits, set to $0$\n",
    "\n",
    "\n",
    "\n",
    "## firm structure\n",
    "\n",
    "- $R_{i,0}$ - `revenues`, initial value  $0$\n",
    "- $s_{i,0}$ - `sales`, initial value  $0$\n",
    "- $v^i_{i,0}$ - in**v**entories, `initialInventories`, set to $0$ \n",
    "- $v^f_{i,0}$ - in**v**entories, `finalInventories`, set to $0$ \n",
    "- $d_{i}$ - deperibility share, a uniformly distributed decimal number in range $[0,d_{max}]$,`deperibilityShare`\n",
    "- $I_{i,0}$  - investment plan, set to $0$\n",
    "- $\\Pi_{i,0}$ - profit, set to $0$, being the related dividend $D_{i,0}$, set to $0$\n",
    "- $M1^f_{i,0}$ - firm's bank account, set to $0$\n",
    "- $\\pi_{i,t-1}$ is set after the initialization step, if an agent becomes an employer\n",
    "\n",
    "\n",
    "\n",
    "each **generic agent** has the **functions**:\n",
    "\n",
    "- **buyConsumptionGoods** \n",
    "\n",
    "  $C_{i,t}=c_{i,t} (W+D_{i,t-1})$; using $D_{i,t-1}$ we introduce a lag with a (possible) cyclical effect\n",
    "\n",
    "  being $bu$ the buyer and $se$ the seller (firm), for each fraction $C_{i,t}/k$ \n",
    "\n",
    "  ($k$ is the number of buying actions in each cycle with random share [0,cmv.maxConsumptionShareInSubstep))\n",
    "\n",
    "  &Delta;$M1^f_{se,t}=C_{bu,t}/k$\n",
    "\n",
    "  &Delta;$M1_{bu,t}=-C_{bu,t}/k$\n",
    "\n",
    "\n",
    "\n",
    "\n",
    "each **firm** has the **functions**:\n",
    "\n",
    "- **produce** function, with:\n",
    "\n",
    "  $\\pi_{i,t}=\\pi_{i,t-1}+$&Delta;$\\pi_{i,t}$\n",
    "\n",
    "  $q_{i,t}=n_{i,t} \\pi_{i,t}$\n",
    "\n",
    "  \n",
    "\n",
    "- **payWages**\n",
    "\n",
    "  paying $W$ to each worker in each time $t$\n",
    "\n",
    "  &Delta;$M1_{i,t}=W$ for  $a_i \\in \\mathbf{A}^w$ \n",
    "\n",
    "  &Delta;$M1^f_{i,t}=-W \\mathbf{N}^w_i$ for $a_i \\in \\mathbf{A}^e$ \n",
    "\n",
    "  \n",
    "\n",
    "- **buyInvestmentGoods**\n",
    "\n",
    "  $I_{j,t}$ for $f_j \\in \\mathbf{F}$  ($I_{j,t}$ is exogenously set)\n",
    "\n",
    "  being $bu$ the buyer (firm) and $se$ the seller (firm), for each fraction $I_{j,t}/k$\n",
    "\n",
    "  ($k$ is the number of investment actions in each cycle, with random share [0,cmv.maxInvestmentShareInSubstep))\n",
    "\n",
    "  &Delta;$M1^f_{se,t}=I_{bu,t}/k$\n",
    "\n",
    "  &Delta;$M1^f_{bu,t}=-I_{bu,t}/k$\n",
    "\n",
    "  \n",
    "\n",
    "- **makeBalanceSheet**\n",
    "\n",
    "  $v^f_{i,t}=v^i_{i,t}+(q_{i,t}-s_{i,t}) (1 - d_{i})$\n",
    "\n",
    "  $R_{i,t}=p s_{i,t}$\n",
    "\n",
    "  $\\Pi_{i,t}=R_{i,t}-W n_{i,t}-p(v^f_{i,t}-v^i_{i,t})$\n",
    "\n",
    "\n",
    "\n",
    "Agent **bank** is a special subject operating on the financial side of the model  (to be continued)\n",
    "\n"
   ]
  },
  {
   "cell_type": "code",
   "execution_count": 3,
   "id": "found-bibliography",
   "metadata": {
    "scrolled": false
   },
   "outputs": [],
   "source": [
    "class Agent():\n",
    "    def __init__(self, num):\n",
    "        self.num=num\n",
    "        self.entrepreneur=False\n",
    "        #self.myFirm=0\n",
    "        self.myEnterprise=0\n",
    "        self.myEmployer=0\n",
    "        self.consumptionRate=0\n",
    "        self.cashMoney=0\n",
    "        self.checkingAccount=0\n",
    "        self.perceivedWage=0\n",
    "        self.perceivedDividend=0\n",
    "        myBank=0\n",
    "\n",
    "    def buyConsumptionGoods(self,k):\n",
    "        if k==0: \n",
    "            self.consumptionRate=r.uniform(cmv.consumptionRateMin,cmv.consumptionRateMax)\n",
    "            self.consumption=(self.perceivedWage+self.perceivedDividend)*self.consumptionRate\n",
    "            if self.consumption < 0: self.consumption=0 # impossible, being perceivedWage and\n",
    "                                                        # perceivedDividend >=0 but in case of\n",
    "                                                        # future modifications ...\n",
    "            self.perceivedWage=0\n",
    "            self.perceivedDividend=0\n",
    "            self.madeConsumption=0\n",
    "                \n",
    "        r.shuffle(cmv.firmList)\n",
    "        mySeller=cmv.firmList[0]\n",
    "        self.purchase=r.uniform(0,cmv.maxConsumptionShareInSubstep)*self.consumption \n",
    "                            # mean value should be calibrated with thenumber of buy action\n",
    "        self.purchase=min(self.purchase,self.consumption-self.madeConsumption)\n",
    "        self.purchase=min(self.purchase,cmv.price*(mySeller.production+\\\n",
    "                                        mySeller.initialInventories-mySeller.sales))\n",
    "        mySeller.sales+=self.purchase/cmv.price\n",
    "        mySeller.bankAccount+=self.purchase\n",
    "        #self.consumption-=self.purchase\n",
    "        self.checkingAccount-=self.purchase\n",
    "        self.madeConsumption+=self.purchase\n",
    "    \n"
   ]
  },
  {
   "cell_type": "code",
   "execution_count": 4,
   "id": "dirty-nevada",
   "metadata": {},
   "outputs": [],
   "source": [
    "class Firm():\n",
    "    def __init__(self, num):\n",
    "        self.num=num\n",
    "        self.myWorkers=[]\n",
    "        self.myEntrepreneur=0\n",
    "        self.productivity=0\n",
    "        self.initialInventories=0\n",
    "        self.finalInventories=0\n",
    "        self.bankAccount=0\n",
    "        self.revenues=0 #sales*price\n",
    "        self.sales=0\n",
    "        self.deperibilityShare=r.uniform(0,cmv.maxDeperibilityShare)\n",
    "        self.investmentProgram=0\n",
    "        self.profit=0\n",
    "        self.madeInvestment=0\n",
    "        self.myBank=0\n",
    "        \n",
    "    def produce(self):\n",
    "        self.initialInventories=self.finalInventories\n",
    "        self.productivity+=r.uniform(cmv.productivityDeltaMin,cmv.productivityDeltaMax)\n",
    "        self.productivity=max(self.productivity,0)\n",
    "        \n",
    "        self.production=len(self.myWorkers)*self.productivity\n",
    "        self.sales=0\n",
    "\n",
    "    def payWages(self):\n",
    "        for anAgent in self.myWorkers:\n",
    "            anAgent.perceivedWage=cmv.wage\n",
    "            anAgent.checkingAccount+=cmv.wage\n",
    "        self.bankAccount-=cmv.wage*len(self.myWorkers)\n",
    "            \n",
    "    def buyInvestmentGoods(self,k):\n",
    "        if k==0: \n",
    "            self.investmentProgram=r.uniform(cmv.investmentMin,cmv.investmentMax)\n",
    "            self.madeInvestment=0\n",
    "                       \n",
    "        r.shuffle(cmv.firmList)\n",
    "        mySeller=cmv.firmList[0]\n",
    "        self.myInvestment=r.uniform(0,cmv.maxInvestmentShareInSubstep)*self.investmentProgram\n",
    "        self.myInvestment=min(self.myInvestment,cmv.price*(mySeller.production+\\\n",
    "                              mySeller.initialInventories-mySeller.sales))\n",
    "        mySeller.sales+=self.myInvestment/cmv.price\n",
    "        mySeller.bankAccount+=self.myInvestment\n",
    "        \n",
    "        self.bankAccount-=self.myInvestment\n",
    "        self.investmentProgram-=self.myInvestment\n",
    "        self.madeInvestment+=self.myInvestment\n",
    "        \n",
    "    def makeBalanceSheet(self):\n",
    "        self.lostProduction=0\n",
    "        if self.production - self.sales > 0: \n",
    "            self.lostProduction=(self.production - self.sales)*self.deperibilityShare\n",
    "        #print(self.num, lostProduction,self.productivity)\n",
    "        self.finalInventories=self.initialInventories+self.production-\\\n",
    "                              self.sales-self.lostProduction\n",
    "        self.revenues=self.sales*cmv.price\n",
    "        self.profit=self.revenues - len(self.myWorkers)*cmv.wage + \\\n",
    "          (self.finalInventories-self.initialInventories)*cmv.price\n",
    "        #print(self.num,self.profit,self.revenues,len(self.myWorkers)*cmv.wage,\\\n",
    "        #      self.finalInventories, self.initialInventories)\n",
    "        \n",
    "    def distributeDividend(self):\n",
    "        if self.profit > 0:\n",
    "            dividend=cmv.rho*self.profit\n",
    "            self.bankAccount-=dividend\n",
    "            self.myEntrepreneur.checkingAccount+=dividend\n",
    "            self.myEntrepreneur.perceivedDividend=dividend        \n"
   ]
  },
  {
   "cell_type": "code",
   "execution_count": 5,
   "id": "exposed-produce",
   "metadata": {},
   "outputs": [],
   "source": [
    "class Bank(Firm):\n",
    "    def __init__(self, num):\n",
    "        super().__init__(num)\n",
    "        self.myPrivateClients=[]\n",
    "        self.myCommercialClients=[]\n",
    "        self.myDebtsVsAgents=0\n",
    "        self.myDebtsVsFirms=0\n",
    "        self.myCreditsVsAgents=0\n",
    "        self.myCreditsVsFirms=0\n",
    "        \n",
    "    def makeFinancialAccounts(self):\n",
    "        self.myDebtsVsAgents=0\n",
    "        self.myDebtsVsFirms=0\n",
    "        self.myCreditsVsAgents=0\n",
    "        self.myCreditsVsFirms=0\n",
    "\n",
    "        for aPrivateClient in  self.myPrivateClients:\n",
    "            if aPrivateClient.checkingAccount>0: \\\n",
    "                self.myDebtsVsAgents+=aPrivateClient.checkingAccount\n",
    "            if aPrivateClient.checkingAccount<0: \\\n",
    "                self.myCreditsVsAgents-=aPrivateClient.checkingAccount\n",
    "        for aCommercialClient in  self.myCommercialClients:\n",
    "            if aCommercialClient.bankAccount>0: \\\n",
    "                self.myDebtsVsFirms+=aCommercialClient.bankAccount\n",
    "            if aCommercialClient.bankAccount<0: \\\n",
    "                self.myCreditsVsFirms-=aCommercialClient.bankAccount\n",
    "        \n",
    "        "
   ]
  },
  {
   "cell_type": "markdown",
   "id": "given-bangkok",
   "metadata": {},
   "source": [
    "### agent setup\n",
    "\n",
    "- agent basic creation\n",
    "\n",
    "  \n",
    "\n",
    "- creation of entrepreneur list\n",
    "\n",
    "  \n",
    "\n",
    "- selecting entrepreneurs and creating their firms\n",
    "\n",
    "  \n",
    "\n",
    "- with a given (heterogeneous) productivity\n",
    "\n",
    "  \n",
    "\n",
    "- linking the firm to its entrepreneur, considering the entrepreneur itself as a worker in its firm\n",
    "\n",
    "  \n",
    "\n",
    "- creation of a temporary workforce list of to-be-employed agent, escluding entrepreneurs (already self employed)\n",
    "\n",
    "  \n",
    "\n",
    "- applying the unmployement rate to exclude agents\n",
    "\n",
    "  \n",
    "\n",
    "- assigning workforce (to-be-employed agents) to firms, with a reinforcement mechanism, gradually giving more attraction/hiring capability to firms growing the most\n",
    "\n"
   ]
  },
  {
   "cell_type": "code",
   "execution_count": 6,
   "id": "weekly-jordan",
   "metadata": {},
   "outputs": [],
   "source": [
    "def setup():\n",
    "    cmv.agentList=[]\n",
    "    for n in range(cmv.agentNum):\n",
    "        anAgent=Agent(n+1)\n",
    "        cmv.agentList.append(anAgent)\n",
    "\n",
    "    \n",
    "    # creation of entrepreneur list\n",
    "    cmv.entrepreneurNum=r.randint(entrepreneurMin, entrepreneurMax)\n",
    "    cmv.bankNum=r.randint(bankMin, bankMax)\n",
    "    \n",
    "    cmv.entrepreneurList=[]\n",
    "    cmv.firmList=[]\n",
    "    cmv.bankList=[]\n",
    "    entrepreneurCandidates=cmv.agentList.copy()\n",
    "\n",
    "    for n in range(cmv.entrepreneurNum):\n",
    "        \n",
    "        i=r.randint(0,len(entrepreneurCandidates)-1)\n",
    "        \n",
    "        entrepreneurCandidates[i].entrepreneur=True\n",
    "\n",
    "        if len(cmv.bankList) < cmv.bankNum:\n",
    "            newEnterprise=Bank(entrepreneurCandidates[i].num)\n",
    "        else:\n",
    "            newEnterprise=Firm(entrepreneurCandidates[i].num)\n",
    "\n",
    "        entrepreneurCandidates[i].myEnterprise=newEnterprise\n",
    "        entrepreneurCandidates[i].myEmployer=newEnterprise\n",
    "        newEnterprise.myEntrepreneur=entrepreneurCandidates[i]\n",
    "        newEnterprise.myWorkers.append(entrepreneurCandidates[i])\n",
    "        newEnterprise.productivity=\\\n",
    "                r.uniform(cmv.productivityMin,cmv.productivityMax)\n",
    "        cmv.entrepreneurList.append(entrepreneurCandidates.pop(i))\n",
    "        if newEnterprise.__class__.__name__==\"Bank\": cmv.bankList.append(newEnterprise)\n",
    "        if newEnterprise.__class__.__name__==\"Firm\": cmv.firmList.append(newEnterprise)\n",
    "\n",
    "    cmv.firmNum=len(cmv.firmList)\n",
    "    \n",
    "    # creation of workforce list\n",
    "    toBeEmployed=[]\n",
    "\n",
    "    for anAgent in cmv.agentList:\n",
    "        if not anAgent.entrepreneur: toBeEmployed.append(anAgent)\n",
    "    for k in range(round(cmv.unemploymentRate*cmv.agentNum)):\n",
    "        toBeEmployed.pop(r.randint(0,len(toBeEmployed)))\n",
    "    #len(toBeEmployed)\n",
    "\n",
    "\n",
    "    # assigning workforce to firms\n",
    "    tmpEnterpriseListWithDuplications=cmv.firmList+cmv.bankList\n",
    "    for anAgent in toBeEmployed:\n",
    "        choice=r.choice(tmpEnterpriseListWithDuplications)\n",
    "        anAgent.myEmployer=choice\n",
    "        choice.myWorkers.append(anAgent)\n",
    "        if cmv.dimensionalHeterogeneity: tmpEnterpriseListWithDuplications.append(choice)\n",
    "            \n",
    "            \n",
    "    # assigning agents and firms to banks\n",
    "    \n",
    "    for anAgent in cmv.agentList:\n",
    "        anAgent.myBank=r.choice(cmv.bankList)\n",
    "        anAgent.myBank.myPrivateClients.append(anAgent)\n",
    "            \n",
    "    for aFirm in cmv.firmList:\n",
    "        aFirm.myBank=r.choice(cmv.bankList)\n",
    "        aFirm.myBank.myCommercialClients.append(aFirm)\n",
    "\n",
    "    cmv.totalProductionSeries=[]\n",
    "    cmv.totalProductionInfraVarSeries=[]\n",
    "    cmv.totalProfitSeries=[]\n",
    "    cmv.totalProfitInfraVarSeries=[]\n",
    "    cmv.totalInitialInventoriesSeries=[]\n",
    "    cmv.totalInitialInventoriesInfraVarSeries=[]\n",
    "    cmv.totalFinalInventoriesSeries=[]\n",
    "    cmv.totalFinalInventoriesInfraVarSeries=[]\n",
    "    cmv.totalConsumptionSeries=[]\n",
    "    cmv.totalEntrepreneurConsumptionSeries=[]\n",
    "    cmv.totalNonEntrepreneurConsumptionSeries=[]\n",
    "    cmv.totalConsumptionInfraVarSeries=[]\n",
    "    cmv.totalInvestmentSeries=[]\n",
    "    cmv.totalInvestmentInfraVarSeries=[]\n",
    "    cmv.totalCashMoneySeries=[]\n",
    "    cmv.totalCashMoneyInfraVarSeries=[]\n",
    "    cmv.totalCheckingAccountSeries=[]\n",
    "    cmv.totalCheckingAccountInfraVarSeries=[]\n",
    "    cmv.totalBankAccountSeries=[]\n",
    "    cmv.totalBankAccountInfraVarSeries=[]\n",
    "\n",
    "    cmv.totalLostProductionSeries=[]"
   ]
  },
  {
   "cell_type": "markdown",
   "id": "accompanied-defeat",
   "metadata": {},
   "source": [
    "### meta actions\n",
    "\n",
    "\n",
    "\n",
    "- *produceAll* orders to the firms to produce and to collects the results\n",
    "\n",
    "  \n",
    "\n",
    "- *payWagesAll* orders to the firms to pay wages, also to the entrepreneurs\n",
    "\n",
    "  \n",
    "\n",
    "- *buyConsumptionGoodsAll* orders to the agents to buy consumption goods\n",
    "\n",
    "  \n",
    "\n",
    "- *buyInvestmentGoodsAll* orders to the firms to buy investment goods\n",
    "\n",
    "  \n",
    "\n",
    "- *buyConsumptionOrInvestmentGoodsAll* orders to the agents and to the firms to buy consumption or investment goods\n",
    "\n",
    "  \n",
    "\n",
    "- *makeBalanceSheetAll* with firm making accounts\n",
    "\n",
    "\n",
    "\n",
    "- *accountCashMoneyAll* summarizing eveyone cash money at the end of a cycle\n",
    "\n",
    "  \n",
    "\n",
    "- *accountCheckingAccountAll* summarizing eveyone checking accounts at the end of a cycle\n",
    "\n",
    "  \n",
    "\n",
    "- *accountBankingAccountAll* summarizing firm banking accounts at the end of a cycle\n",
    "\n"
   ]
  },
  {
   "cell_type": "code",
   "execution_count": 7,
   "id": "artistic-barcelona",
   "metadata": {
    "scrolled": false
   },
   "outputs": [],
   "source": [
    "def produceAll():\n",
    "    cmv.totalProductionSeries.append(0)\n",
    "    cmv.totalProductionInfraVarSeries.append(0)\n",
    "    cmv.totalInitialInventoriesSeries.append(0)\n",
    "    cmv.totalInitialInventoriesInfraVarSeries.append(0)\n",
    "\n",
    "    for aFirm in cmv.firmList:\n",
    "        aFirm.produce()\n",
    "        cmv.totalProductionSeries[-1]+=aFirm.production\n",
    "        cmv.totalProductionInfraVarSeries[-1]+=aFirm.production**2\n",
    "        cmv.totalInitialInventoriesSeries[-1]+=aFirm.initialInventories\n",
    "        cmv.totalInitialInventoriesInfraVarSeries[-1]+=aFirm.initialInventories**2\n",
    "\n",
    "    cmv.totalProductionInfraVarSeries[-1]=\\\n",
    "                            (cmv.totalProductionInfraVarSeries[-1]/cmv.firmNum - \\\n",
    "                            (cmv.totalProductionSeries[-1]/cmv.firmNum)**2)\n",
    "    cmv.totalInitialInventoriesInfraVarSeries[-1]=\\\n",
    "                            (cmv.totalInitialInventoriesInfraVarSeries[-1]/cmv.firmNum - \\\n",
    "                            (cmv.totalInitialInventoriesSeries[-1]/cmv.firmNum)**2)\n",
    "                                          "
   ]
  },
  {
   "cell_type": "code",
   "execution_count": 8,
   "id": "married-fabric",
   "metadata": {
    "scrolled": false
   },
   "outputs": [],
   "source": [
    "def payWagesAll():\n",
    "    for aFirm in cmv.firmList:\n",
    "        aFirm.payWages()\n"
   ]
  },
  {
   "cell_type": "code",
   "execution_count": 9,
   "id": "global-mercury",
   "metadata": {
    "scrolled": true
   },
   "outputs": [],
   "source": [
    "def buyConsumptionGoodsAll():\n",
    "    cmv.totalEntrepreneurConsumptionSeries.append(0) \n",
    "    cmv.totalNonEntrepreneurConsumptionSeries.append(0)\n",
    "    cmv.totalConsumptionSeries.append(0)\n",
    "    cmv.totalConsumptionInfraVarSeries.append(0)\n",
    "    for k in range(cmv.nOfConsumptionActions):\n",
    "        r.shuffle(cmv.agentList)\n",
    "        for anAgent in cmv.agentList:\n",
    "            anAgent.buyConsumptionGoods(k)\n",
    "            if k==cmv.nOfConsumptionActions-1:\n",
    "                if anAgent.entrepreneur:\n",
    "                    cmv.totalEntrepreneurConsumptionSeries[-1]+=anAgent.madeConsumption\n",
    "                if not anAgent.entrepreneur:\n",
    "                    cmv.totalNonEntrepreneurConsumptionSeries[-1]+=anAgent.madeConsumption\n",
    "                cmv.totalConsumptionSeries[-1]+=anAgent.madeConsumption\n",
    "                cmv.totalConsumptionInfraVarSeries[-1]+=anAgent.madeConsumption**2\n",
    "\n",
    "    cmv.totalConsumptionInfraVarSeries[-1]=\\\n",
    "                              (cmv.totalConsumptionInfraVarSeries[-1]/cmv.agentNum - \\\n",
    "                              (cmv.totalConsumptionSeries[-1]/cmv.agentNum)**2)\n",
    "                "
   ]
  },
  {
   "cell_type": "code",
   "execution_count": 10,
   "id": "incredible-strategy",
   "metadata": {
    "scrolled": true
   },
   "outputs": [],
   "source": [
    "def buyInvestmentGoodsAll():\n",
    "    cmv.totalInvestmentSeries.append(0)\n",
    "    cmv.totalInvestmentInfraVarSeries.append(0)\n",
    "    for k in range(cmv.nOfInvestmentActions):\n",
    "        firmSafeList=cmv.firmList.copy() # safe copy without the shuffles in \n",
    "                                         # buyInvestmentGoods\n",
    "        r.shuffle(firmSafeList)\n",
    "        for aFirm in firmSafeList:\n",
    "            aFirm.buyInvestmentGoods(k)\n",
    "            if k==cmv.nOfInvestmentActions-1:\n",
    "                cmv.totalInvestmentSeries[-1]+=aFirm.madeInvestment\n",
    "                cmv.totalInvestmentInfraVarSeries[-1]+=aFirm.madeInvestment**2\n",
    "\n",
    "    cmv.totalInvestmentInfraVarSeries[-1]=\\\n",
    "                              (cmv.totalInvestmentInfraVarSeries[-1]/cmv.firmNum - \\\n",
    "                              (cmv.totalInvestmentSeries[-1]/cmv.firmNum)**2)\n",
    "                "
   ]
  },
  {
   "cell_type": "code",
   "execution_count": 11,
   "id": "living-flash",
   "metadata": {},
   "outputs": [],
   "source": [
    "def buyConsumptionOrInvestmentGoodsAll():\n",
    "    agentAndFirmList=cmv.agentList+cmv.firmList\n",
    "\n",
    "    cmv.totalEntrepreneurConsumptionSeries.append(0) \n",
    "    cmv.totalNonEntrepreneurConsumptionSeries.append(0)\n",
    "    cmv.totalConsumptionSeries.append(0)\n",
    "    cmv.totalConsumptionInfraVarSeries.append(0)\n",
    "    cmv.totalInvestmentSeries.append(0)\n",
    "    cmv.totalInvestmentInfraVarSeries.append(0)\n",
    "\n",
    "    repetitions=max(cmv.nOfConsumptionActions,cmv.nOfInvestmentActions)\n",
    "\n",
    "    for k in range(repetitions):\n",
    "        r.shuffle(agentAndFirmList)\n",
    "        for anItem in agentAndFirmList:\n",
    "            if anItem.__class__.__name__==\"Agent\" and\\\n",
    "            k < cmv.nOfConsumptionActions - 1: anItem.buyConsumptionGoods(k)\n",
    "            if anItem.__class__.__name__==\"Firm\" and\\\n",
    "            k < cmv.nOfInvestmentActions - 1:  anItem.buyInvestmentGoods(k)\n",
    "\n",
    "            if k==cmv.nOfConsumptionActions-1 and anItem.__class__.__name__==\"Agent\":\n",
    "                if anItem.entrepreneur:\n",
    "                    cmv.totalEntrepreneurConsumptionSeries[-1]+=anItem.madeConsumption\n",
    "                if not anItem.entrepreneur:\n",
    "                    cmv.totalNonEntrepreneurConsumptionSeries[-1]+=anItem.madeConsumption\n",
    "                cmv.totalConsumptionSeries[-1]+=anItem.madeConsumption\n",
    "                cmv.totalConsumptionInfraVarSeries[-1]+=anItem.madeConsumption**2\n",
    "\n",
    "            if k==cmv.nOfInvestmentActions-1 and anItem.__class__.__name__==\"Firm\":\n",
    "                cmv.totalInvestmentSeries[-1]+=anItem.madeInvestment\n",
    "                cmv.totalInvestmentInfraVarSeries[-1]+=anItem.madeInvestment**2\n",
    "\n",
    "    cmv.totalConsumptionInfraVarSeries[-1]=\\\n",
    "                              (cmv.totalConsumptionInfraVarSeries[-1]/cmv.agentNum - \\\n",
    "                              (cmv.totalConsumptionSeries[-1]/cmv.agentNum)**2)\n",
    " \n",
    "    cmv.totalInvestmentInfraVarSeries[-1]=\\\n",
    "                              (cmv.totalInvestmentInfraVarSeries[-1]/cmv.firmNum - \\\n",
    "                              (cmv.totalInvestmentSeries[-1]/cmv.firmNum)**2)\n"
   ]
  },
  {
   "cell_type": "code",
   "execution_count": 12,
   "id": "twelve-aerospace",
   "metadata": {
    "scrolled": true
   },
   "outputs": [],
   "source": [
    "def accountCashMoneyAll():\n",
    "    cmv.totalCashMoneySeries.append(0)\n",
    "    cmv.totalCashMoneyInfraVarSeries.append(0)\n",
    "    for anAgent in cmv.agentList:\n",
    "        cmv.totalCashMoneySeries[-1]+=anAgent.cashMoney\n",
    "        cmv.totalCashMoneyInfraVarSeries[-1]+=anAgent.cashMoney**2\n",
    "\n",
    "    cmv.totalCashMoneyInfraVarSeries[-1]=\\\n",
    "                              (cmv.totalCashMoneyInfraVarSeries[-1]/cmv.agentNum - \\\n",
    "                              (cmv.totalCashMoneySeries[-1]/cmv.agentNum)**2)\n",
    "    if abs(cmv.totalCashMoneySeries[-1])<0.00001: \\\n",
    "        cmv.totalCashMoneySeries[-1]=0\n"
   ]
  },
  {
   "cell_type": "code",
   "execution_count": 13,
   "id": "daily-hobby",
   "metadata": {},
   "outputs": [],
   "source": [
    "def accountCheckingAccountAll():\n",
    "    cmv.totalCheckingAccountSeries.append(0)\n",
    "    cmv.totalCheckingAccountInfraVarSeries.append(0)\n",
    "    for anAgent in cmv.agentList:\n",
    "        cmv.totalCheckingAccountSeries[-1]+=anAgent.checkingAccount\n",
    "        cmv.totalCheckingAccountInfraVarSeries[-1]+=anAgent.checkingAccount**2\n",
    "\n",
    "    cmv.totalCheckingAccountInfraVarSeries[-1]=\\\n",
    "                              (cmv.totalCheckingAccountInfraVarSeries[-1]/cmv.agentNum - \\\n",
    "                              (cmv.totalCheckingAccountSeries[-1]/cmv.agentNum)**2)\n",
    "    if abs(cmv.totalCheckingAccountSeries[-1])<0.00001: \\\n",
    "        cmv.totalCheckingAccountSeries[-1]=0\n"
   ]
  },
  {
   "cell_type": "code",
   "execution_count": 14,
   "id": "soviet-johnson",
   "metadata": {},
   "outputs": [],
   "source": [
    "def accountBankAccountAll(): #temporary - this is an attribute of firms\n",
    "    cmv.totalBankAccountSeries.append(0)\n",
    "    cmv.totalBankAccountInfraVarSeries.append(0)\n",
    "    for aFirm in cmv.firmList:\n",
    "        cmv.totalBankAccountSeries[-1]+=aFirm.bankAccount\n",
    "        cmv.totalBankAccountInfraVarSeries[-1]+=aFirm.bankAccount**2\n",
    "\n",
    "    cmv.totalBankAccountInfraVarSeries[-1]=\\\n",
    "                              (cmv.totalBankAccountInfraVarSeries[-1]/cmv.firmNum - \\\n",
    "                              (cmv.totalBankAccountSeries[-1]/cmv.firmNum)**2)\n",
    "    if abs(cmv.totalBankAccountSeries[-1])<0.00001: \\\n",
    "        cmv.totalBankAccountSeries[-1]=0\n"
   ]
  },
  {
   "cell_type": "code",
   "execution_count": 15,
   "id": "parliamentary-bishop",
   "metadata": {},
   "outputs": [],
   "source": [
    "def makeBankFinancialAccountsAll():\n",
    "    \n",
    "    for aBank in cmv.bankList:\n",
    "        aBank.makeFinancialAccounts()\n",
    "        "
   ]
  },
  {
   "cell_type": "code",
   "execution_count": 16,
   "id": "exceptional-management",
   "metadata": {
    "scrolled": false
   },
   "outputs": [],
   "source": [
    "def makeBalanceSheetAll():\n",
    "    cmv.totalProfitSeries.append(0)\n",
    "    cmv.totalProfitInfraVarSeries.append(0)\n",
    "    cmv.totalFinalInventoriesSeries.append(0)\n",
    "    cmv.totalFinalInventoriesInfraVarSeries.append(0)\n",
    "    cmv.totalLostProductionSeries.append(0)\n",
    "    \n",
    "    for aFirm in cmv.firmList:\n",
    "        aFirm.makeBalanceSheet()\n",
    "        cmv.totalProfitSeries[-1]+=aFirm.profit\n",
    "        cmv.totalProfitInfraVarSeries[-1]+=aFirm.profit**2\n",
    "        cmv.totalFinalInventoriesSeries[-1]+=aFirm.finalInventories\n",
    "        cmv.totalFinalInventoriesInfraVarSeries[-1]+=aFirm.finalInventories**2\n",
    "        cmv.totalLostProductionSeries[-1]+=aFirm.lostProduction\n",
    "\n",
    "    cmv.totalProfitInfraVarSeries[-1]=(cmv.totalProfitInfraVarSeries[-1]/cmv.firmNum - \\\n",
    "                                          (cmv.totalProfitSeries[-1]/cmv.firmNum)**2)\n",
    "    cmv.totalFinalInventoriesInfraVarSeries[-1]=\\\n",
    "                            (cmv.totalFinalInventoriesInfraVarSeries[-1]/cmv.firmNum - \\\n",
    "                            (cmv.totalFinalInventoriesSeries[-1]/cmv.firmNum)**2)\n",
    "                                            "
   ]
  },
  {
   "cell_type": "code",
   "execution_count": 17,
   "id": "arctic-terminology",
   "metadata": {},
   "outputs": [],
   "source": [
    "def distributeDividendAll():\n",
    "    for aFirm in cmv.firmList:\n",
    "        aFirm.distributeDividend()"
   ]
  },
  {
   "cell_type": "markdown",
   "id": "dense-journey",
   "metadata": {},
   "source": [
    "\n",
    "### model parameters\n",
    "\n"
   ]
  },
  {
   "cell_type": "code",
   "execution_count": 18,
   "id": "designing-participant",
   "metadata": {
    "scrolled": false
   },
   "outputs": [],
   "source": [
    "cmv.agentNum=100\n",
    "entrepreneurMin=6\n",
    "entrepreneurMax=20\n",
    "bankMin=2\n",
    "bankMax=3 \n",
    "\n",
    "if bankMax > entrepreneurMin:\n",
    "    print (\"Bank maximum number cannot exceed the minimum number of firms!\")\n",
    "    sys.exit(0)\n",
    "\n",
    "cmv.price=1\n",
    "\n",
    "cmv.unemploymentRate=0\n",
    "cmv.dimensionalHeterogeneity=True\n",
    "\n",
    "cmv.productivityMin=0.8\n",
    "cmv.productivityMax=1.2\n",
    "cmv.productivityDeltaMin=cmv.productivityMin-1\n",
    "cmv.productivityDeltaMax=cmv.productivityMax-1\n",
    "\n",
    "cmv.maxDeperibilityShare=0.5\n",
    "\n",
    "cmv.wage=1\n",
    "cmv.rho=0.5 #1\n",
    "cmv.consumptionRateMin=0.5\n",
    "cmv.consumptionRateMax=1\n",
    "\n",
    "cmv.investmentMin=1\n",
    "cmv.investmentMax=15\n",
    "\n",
    "cmv.nOfConsumptionActions=30\n",
    "cmv.maxConsumptionShareInSubstep=0.3\n",
    "cmv.nOfInvestmentActions=10\n",
    "cmv.maxInvestmentShareInSubstep=0.3\n",
    "cmv.ncycles=100\n",
    "cmv.cycle=0"
   ]
  },
  {
   "cell_type": "markdown",
   "id": "neutral-cylinder",
   "metadata": {},
   "source": [
    "## <p style=\"color:red\">model machine</p>\n",
    "\n",
    "- a random seed determining the random number sequences\n",
    "\n",
    "\n",
    "\n",
    "- a list of actions (meta ones)\n",
    "\n",
    "\n",
    "\n",
    "- an engine excecuting the meta actions\n",
    "\n",
    "\n",
    "\n",
    "- display tools (their code is hidden into the file `tools.py`)\n",
    "\n",
    "\n"
   ]
  },
  {
   "cell_type": "code",
   "execution_count": 19,
   "id": "sealed-valuation",
   "metadata": {
    "scrolled": false
   },
   "outputs": [
    {
     "name": "stdout",
     "output_type": "stream",
     "text": [
      "-------------------------------------------\n",
      "entrepreneur number 15\n",
      "-------------------------------------------\n",
      "\n",
      "-------------------------------------------\n",
      "\"national\" accounts\n",
      "-------------------------------------------\n",
      "\n",
      "t\ttotal\tlost\tinitial\t\tconsum.\tinvest.\tfinal\n",
      "\tproduc.\tproduc.\tinvent.\t\t\t\tinvent.\n",
      "  1\t86.3\t0.0\t0.0\t    |\t33.4\t52.9\t0.0\n",
      "  2\t84.7\t0.0\t0.0\t    |\t34.7\t50.0\t0.0\n",
      "  3\t84.2\t0.0\t0.0\t    |\t41.4\t42.7\t0.0\n",
      "  4\t80.1\t0.0\t0.0\t    |\t34.4\t45.7\t0.0\n",
      "  5\t81.7\t0.0\t0.0\t    |\t36.6\t45.1\t0.0\n",
      "  6\t81.7\t0.0\t0.0\t    |\t32.3\t49.3\t0.0\n",
      "  7\t85.2\t0.0\t0.0\t    |\t45.1\t40.1\t0.0\n",
      "  8\t81.8\t0.0\t0.0\t    |\t40.3\t41.5\t0.0\n",
      "  9\t75.4\t0.0\t0.0\t    |\t32.8\t42.6\t0.0\n",
      " 10\t72.1\t0.0\t0.0\t    |\t38.8\t33.3\t0.0\n",
      " 11\t66.3\t0.0\t0.0\t    |\t44.2\t22.1\t0.0\n",
      " 12\t64.6\t0.0\t0.0\t    |\t33.5\t31.1\t0.0\n",
      " 13\t63.5\t0.0\t0.0\t    |\t31.7\t31.8\t0.0\n",
      " 14\t59.6\t0.0\t0.0\t    |\t26.4\t33.2\t0.0\n",
      " 15\t57.0\t0.0\t0.0\t    |\t24.7\t32.3\t0.0\n",
      " 16\t57.5\t0.0\t0.0\t    |\t32.3\t25.2\t0.0\n",
      " 17\t57.5\t0.0\t0.0\t    |\t32.1\t25.5\t0.0\n",
      " 18\t58.5\t0.0\t0.0\t    |\t25.9\t32.6\t0.0\n",
      " 19\t57.7\t0.0\t0.0\t    |\t24.9\t32.8\t0.0\n",
      " 20\t55.3\t0.0\t0.0\t    |\t25.0\t30.3\t0.0\n",
      " 21\t54.8\t0.0\t0.0\t    |\t23.8\t31.1\t0.0\n",
      " 22\t56.2\t0.0\t0.0\t    |\t29.1\t27.1\t0.0\n",
      " 23\t61.4\t0.0\t0.0\t    |\t30.6\t30.8\t0.0\n",
      " 24\t67.9\t0.0\t0.0\t    |\t29.5\t38.5\t0.0\n",
      " 25\t64.0\t0.0\t0.0\t    |\t33.0\t31.0\t0.0\n",
      " 26\t62.3\t0.0\t0.0\t    |\t32.6\t29.6\t0.0\n",
      " 27\t57.0\t0.0\t0.0\t    |\t28.0\t29.0\t0.0\n",
      " 28\t53.0\t0.0\t0.0\t    |\t26.0\t27.0\t0.0\n",
      " 29\t54.4\t0.0\t0.0\t    |\t25.8\t28.6\t0.0\n",
      " 30\t54.2\t0.0\t0.0\t    |\t25.2\t28.9\t0.0\n",
      " 31\t52.7\t0.0\t0.0\t    |\t20.1\t32.5\t0.0\n",
      " 32\t55.1\t0.0\t0.0\t    |\t24.9\t30.2\t0.0\n",
      " 33\t57.9\t0.0\t0.0\t    |\t26.1\t31.8\t0.0\n",
      " 34\t60.3\t0.0\t0.0\t    |\t28.0\t32.3\t0.0\n",
      " 35\t59.8\t0.0\t0.0\t    |\t32.8\t27.1\t0.0\n",
      " 36\t57.8\t0.0\t0.0\t    |\t25.9\t31.9\t0.0\n",
      " 37\t59.1\t0.0\t0.0\t    |\t28.1\t31.0\t0.0\n",
      " 38\t62.3\t0.0\t0.0\t    |\t28.9\t33.4\t0.0\n",
      " 39\t64.7\t0.0\t0.0\t    |\t32.6\t32.1\t0.0\n",
      " 40\t64.0\t0.0\t0.0\t    |\t32.0\t32.0\t0.0\n",
      " 41\t56.3\t0.0\t0.0\t    |\t20.3\t36.0\t0.0\n",
      " 42\t58.9\t0.0\t0.0\t    |\t28.7\t30.1\t0.0\n",
      " 43\t59.2\t0.0\t0.0\t    |\t31.1\t28.1\t0.0\n",
      " 44\t55.0\t0.0\t0.0\t    |\t29.5\t25.5\t0.0\n",
      " 45\t62.3\t0.0\t0.0\t    |\t26.6\t35.7\t0.0\n",
      " 46\t67.2\t0.0\t0.0\t    |\t28.4\t38.8\t0.0\n",
      " 47\t73.3\t0.0\t0.0\t    |\t37.0\t36.3\t0.0\n",
      " 48\t71.5\t0.0\t0.0\t    |\t40.4\t31.1\t0.0\n",
      " 49\t71.0\t0.0\t0.0\t    |\t48.8\t22.2\t0.0\n",
      " 50\t77.6\t0.0\t0.0\t    |\t46.1\t31.5\t0.0\n",
      " 51\t82.2\t0.0\t0.0\t    |\t53.6\t28.7\t0.0\n",
      " 52\t81.6\t0.0\t0.0\t    |\t41.3\t40.3\t0.0\n",
      " 53\t85.9\t0.0\t0.0\t    |\t46.7\t39.1\t0.0\n",
      " 54\t84.7\t0.0\t0.0\t    |\t51.0\t33.7\t0.0\n",
      " 55\t84.3\t0.0\t0.0\t    |\t43.0\t41.3\t0.0\n",
      " 56\t79.8\t0.0\t0.0\t    |\t36.6\t43.2\t0.0\n",
      " 57\t77.0\t0.0\t0.0\t    |\t43.5\t33.4\t0.0\n",
      " 58\t76.2\t-0.2\t0.0\t    |\t51.0\t24.9\t0.2\n",
      " 59\t78.4\t0.0\t0.2\t    |\t42.8\t35.9\t0.0\n",
      " 60\t81.5\t0.0\t0.0\t    |\t45.4\t36.0\t0.0\n",
      " 61\t82.3\t-3.6\t0.0\t    |\t48.9\t26.1\t3.6\n",
      " 62\t85.8\t-0.7\t3.6\t    |\t46.1\t38.3\t4.4\n",
      " 63\t83.5\t-3.4\t4.4\t    |\t53.3\t23.3\t7.8\n",
      " 64\t82.6\t0.0\t7.8\t    |\t49.9\t34.4\t6.1\n",
      " 65\t85.2\t-3.3\t6.1\t    |\t59.1\t19.5\t9.4\n",
      " 66\t84.8\t-3.0\t9.4\t    |\t43.2\t35.7\t12.4\n",
      " 67\t83.8\t0.0\t12.4\t    |\t47.5\t36.6\t12.1\n",
      " 68\t87.2\t-4.5\t12.1\t    |\t45.4\t32.7\t16.7\n",
      " 69\t91.7\t-4.8\t16.7\t    |\t50.9\t31.3\t21.4\n",
      " 70\t92.5\t-4.8\t21.4\t    |\t48.5\t34.5\t26.2\n",
      " 71\t94.8\t-0.9\t26.2\t    |\t53.6\t39.4\t27.1\n",
      " 72\t97.3\t-3.2\t27.1\t    |\t53.9\t36.9\t30.3\n",
      " 73\t92.7\t-1.2\t30.3\t    |\t53.3\t37.0\t31.6\n",
      " 74\t90.4\t-5.9\t31.6\t    |\t50.6\t28.0\t37.4\n",
      " 75\t91.2\t-7.2\t37.4\t    |\t48.0\t28.8\t44.7\n",
      " 76\t89.7\t-4.9\t44.7\t    |\t53.9\t26.0\t49.6\n",
      " 77\t90.1\t-8.4\t49.6\t    |\t46.6\t26.6\t58.1\n",
      " 78\t89.2\t-4.2\t58.1\t    |\t48.3\t32.3\t62.3\n",
      " 79\t92.5\t-2.8\t62.3\t    |\t49.8\t37.2\t65.1\n",
      " 80\t95.0\t-5.8\t65.1\t    |\t49.3\t34.3\t70.8\n",
      " 81\t101.7\t-4.6\t70.8\t    |\t52.6\t39.9\t75.4\n",
      " 82\t104.4\t-2.6\t75.4\t    |\t57.7\t41.4\t78.1\n",
      " 83\t103.4\t-2.0\t78.1\t    |\t59.0\t40.5\t80.1\n",
      " 84\t99.3\t-1.1\t80.1\t    |\t55.9\t41.2\t81.2\n",
      " 85\t94.0\t0.0\t81.2\t    |\t56.8\t39.3\t79.1\n",
      " 86\t93.1\t-2.1\t79.1\t    |\t53.6\t35.2\t81.3\n",
      " 87\t94.0\t-1.7\t81.3\t    |\t57.7\t33.0\t82.9\n",
      " 88\t92.3\t0.0\t82.9\t    |\t55.7\t41.0\t78.5\n",
      " 89\t85.8\t0.0\t78.5\t    |\t50.8\t43.1\t70.5\n",
      " 90\t92.7\t-1.7\t70.5\t    |\t51.8\t37.5\t72.2\n",
      " 91\t91.6\t-1.2\t72.2\t    |\t49.9\t39.2\t73.5\n",
      " 92\t95.0\t-1.0\t73.5\t    |\t55.9\t37.2\t74.4\n",
      " 93\t99.6\t-1.2\t74.4\t    |\t61.2\t36.1\t75.6\n",
      " 94\t100.0\t-0.3\t75.6\t    |\t60.7\t38.8\t75.8\n",
      " 95\t99.1\t0.0\t75.8\t    |\t57.4\t48.2\t69.3\n",
      " 96\t99.2\t-2.2\t69.3\t    |\t56.3\t38.5\t71.5\n",
      " 97\t98.0\t0.0\t71.5\t    |\t57.0\t50.0\t62.5\n",
      " 98\t101.5\t0.0\t62.5\t    |\t55.8\t52.2\t55.9\n",
      " 99\t101.5\t0.0\t55.9\t    |\t59.7\t43.4\t54.3\n",
      "100\t95.6\t0.0\t54.3\t    |\t58.2\t41.2\t50.5\n",
      "\n",
      "\n",
      "\n",
      "\n"
     ]
    },
    {
     "data": {
      "image/png": "[encoded data removed]",
      "text/plain": [
       "<Figure size 432x288 with 1 Axes>"
      ]
     },
     "metadata": {
      "needs_background": "light"
     },
     "output_type": "display_data"
    },
    {
     "data": {
      "image/png": "[encoded data removed]",
      "text/plain": [
       "<Figure size 432x288 with 2 Axes>"
      ]
     },
     "metadata": {},
     "output_type": "display_data"
    },
    {
     "data": {
      "image/png": "[encoded data removed]",
      "text/plain": [
       "<Figure size 432x288 with 2 Axes>"
      ]
     },
     "metadata": {},
     "output_type": "display_data"
    },
    {
     "data": {
      "image/png": "[encoded data removed]",
      "text/plain": [
       "<Figure size 432x288 with 2 Axes>"
      ]
     },
     "metadata": {},
     "output_type": "display_data"
    },
    {
     "data": {
      "image/png": "[encoded data removed]",
      "text/plain": [
       "<Figure size 432x288 with 2 Axes>"
      ]
     },
     "metadata": {},
     "output_type": "display_data"
    },
    {
     "data": {
      "image/png": "[encoded data removed]",
      "text/plain": [
       "<Figure size 432x288 with 2 Axes>"
      ]
     },
     "metadata": {},
     "output_type": "display_data"
    },
    {
     "data": {
      "image/png": "[encoded data removed]",
      "text/plain": [
       "<Figure size 432x288 with 2 Axes>"
      ]
     },
     "metadata": {},
     "output_type": "display_data"
    },
    {
     "data": {
      "image/png": "[encoded data removed]",
      "text/plain": [
       "<Figure size 432x288 with 2 Axes>"
      ]
     },
     "metadata": {},
     "output_type": "display_data"
    },
    {
     "data": {
      "image/png": "[encoded data removed]",
      "text/plain": [
       "<Figure size 432x288 with 2 Axes>"
      ]
     },
     "metadata": {},
     "output_type": "display_data"
    },
    {
     "data": {
      "image/png": "[encoded data removed]",
      "text/plain": [
       "<Figure size 432x288 with 2 Axes>"
      ]
     },
     "metadata": {},
     "output_type": "display_data"
    }
   ],
   "source": [
    "r.seed(12131415)\n",
    "\n",
    "setup()\n",
    "\n",
    "cmv.actionList=[\"produceAll()\",\"payWagesAll()\",\"buyConsumptionOrInvestmentGoodsAll()\",\\\n",
    "                \"makeBalanceSheetAll()\",\\\n",
    "                \"distributeDividendAll()\",\"accountCashMoneyAll()\",\\\n",
    "                \"accountCheckingAccountAll()\",\"accountBankAccountAll()\",\\\n",
    "                \"makeBankFinancialAccountsAll()\"\\\n",
    "                ]\n",
    "\n",
    "for cmv.cycle in range(cmv.ncycles):\n",
    "    for anAction in cmv.actionList:\n",
    "            exec(anAction)\n",
    "\n",
    "makeHist() \n",
    "plot1()\n",
    "plot2()\n",
    "plot3()\n",
    "plot4()\n",
    "plot5()\n",
    "plot6()\n",
    "plot7()\n",
    "plot8()\n",
    "plot9()\n",
    "\n",
    "nationalAccounts()"
   ]
  },
  {
   "cell_type": "code",
   "execution_count": 20,
   "id": "typical-washer",
   "metadata": {},
   "outputs": [
    {
     "data": {
      "text/plain": [
       "[98, 38, 57, 41, 64, 63, 61, 76, 70, 99, 86, 80, 26]"
      ]
     },
     "execution_count": 20,
     "metadata": {},
     "output_type": "execute_result"
    }
   ],
   "source": [
    "list(cmv.firmList[i].num for i in range(cmv.firmNum))"
   ]
  },
  {
   "cell_type": "code",
   "execution_count": 21,
   "id": "sized-charge",
   "metadata": {},
   "outputs": [
    {
     "data": {
      "text/plain": [
       "[74, 69, 76, 70, 99, 41, 98, 63, 61, 57, 38, 26, 86]"
      ]
     },
     "execution_count": 21,
     "metadata": {},
     "output_type": "execute_result"
    }
   ],
   "source": [
    "list(cmv.entrepreneurList[i].num for i in range(cmv.firmNum))"
   ]
  },
  {
   "cell_type": "code",
   "execution_count": 22,
   "id": "sufficient-darkness",
   "metadata": {
    "scrolled": true
   },
   "outputs": [],
   "source": [
    "# last cycle\n",
    "tCashNe=0\n",
    "for anA in cmv.agentList:\n",
    "    if not anA.entrepreneur: tCashNe+=anA.cashMoney\n",
    "\n",
    "tCashE=0\n",
    "for anA in cmv.agentList:\n",
    "    if anA.entrepreneur: tCashE+=anA.cashMoney"
   ]
  },
  {
   "cell_type": "code",
   "execution_count": 23,
   "id": "vocal-transparency",
   "metadata": {
    "scrolled": true
   },
   "outputs": [
    {
     "data": {
      "text/plain": [
       "0"
      ]
     },
     "execution_count": 23,
     "metadata": {},
     "output_type": "execute_result"
    }
   ],
   "source": [
    "tCashNe"
   ]
  },
  {
   "cell_type": "code",
   "execution_count": 24,
   "id": "intelligent-powell",
   "metadata": {
    "scrolled": true
   },
   "outputs": [
    {
     "data": {
      "text/plain": [
       "0"
      ]
     },
     "execution_count": 24,
     "metadata": {},
     "output_type": "execute_result"
    }
   ],
   "source": [
    "tCashE"
   ]
  },
  {
   "cell_type": "code",
   "execution_count": 25,
   "id": "native-textbook",
   "metadata": {
    "scrolled": true
   },
   "outputs": [],
   "source": [
    "tC=0\n",
    "for i in range(cmv.ncycles):\n",
    "    tC+=cmv.totalConsumptionSeries[i]"
   ]
  },
  {
   "cell_type": "code",
   "execution_count": 26,
   "id": "smart-employment",
   "metadata": {
    "scrolled": true
   },
   "outputs": [
    {
     "data": {
      "text/plain": [
       "4149.327474793039"
      ]
     },
     "execution_count": 26,
     "metadata": {},
     "output_type": "execute_result"
    }
   ],
   "source": [
    "tC"
   ]
  },
  {
   "cell_type": "code",
   "execution_count": 27,
   "id": "distinguished-bacon",
   "metadata": {
    "scrolled": true
   },
   "outputs": [],
   "source": [
    "tCE=0\n",
    "for i in range(cmv.ncycles):\n",
    "    tCE+=cmv.totalEntrepreneurConsumptionSeries[i]"
   ]
  },
  {
   "cell_type": "code",
   "execution_count": 28,
   "id": "alive-electricity",
   "metadata": {
    "scrolled": true
   },
   "outputs": [
    {
     "data": {
      "text/plain": [
       "946.9034281847805"
      ]
     },
     "execution_count": 28,
     "metadata": {},
     "output_type": "execute_result"
    }
   ],
   "source": [
    "tCE"
   ]
  },
  {
   "cell_type": "code",
   "execution_count": 29,
   "id": "sufficient-placement",
   "metadata": {
    "scrolled": true
   },
   "outputs": [],
   "source": [
    "tCNe=0\n",
    "for i in range(cmv.ncycles):\n",
    "    tCNe+=cmv.totalNonEntrepreneurConsumptionSeries[i]"
   ]
  },
  {
   "cell_type": "code",
   "execution_count": 30,
   "id": "regional-somerset",
   "metadata": {
    "scrolled": true
   },
   "outputs": [
    {
     "data": {
      "text/plain": [
       "3202.424046608258"
      ]
     },
     "execution_count": 30,
     "metadata": {},
     "output_type": "execute_result"
    }
   ],
   "source": [
    "tCNe"
   ]
  },
  {
   "cell_type": "code",
   "execution_count": 31,
   "id": "great-dublin",
   "metadata": {
    "scrolled": true
   },
   "outputs": [],
   "source": [
    "tI=0\n",
    "for i in range(cmv.ncycles):\n",
    "    tI+=cmv.totalInvestmentSeries[i]"
   ]
  },
  {
   "cell_type": "code",
   "execution_count": 32,
   "id": "responsible-appendix",
   "metadata": {
    "scrolled": true
   },
   "outputs": [
    {
     "data": {
      "text/plain": [
       "3483.4562759733244"
      ]
     },
     "execution_count": 32,
     "metadata": {},
     "output_type": "execute_result"
    }
   ],
   "source": [
    "tI"
   ]
  },
  {
   "cell_type": "code",
   "execution_count": 33,
   "id": "fancy-geography",
   "metadata": {},
   "outputs": [
    {
     "data": {
      "text/plain": [
       "[57.769750123779176,\n",
       " 114.5788438922568,\n",
       " 164.65562589154305,\n",
       " 222.04587591883444,\n",
       " 278.25883696224776,\n",
       " 340.375039367437,\n",
       " 390.9898598557617,\n",
       " 446.4893815520021,\n",
       " 507.94960207101036,\n",
       " 562.99767687587,\n",
       " 611.2746732113014,\n",
       " 669.1015379228658,\n",
       " 728.0714672784294,\n",
       " 792.8344598596707,\n",
       " 859.1940847357315,\n",
       " 917.6503508947277,\n",
       " 976.2107761668165,\n",
       " 1041.2819230695522,\n",
       " 1108.1849237338552,\n",
       " 1175.2863954076074,\n",
       " 1243.5116488829258,\n",
       " 1306.6626438271612,\n",
       " 1369.0360321419175,\n",
       " 1432.9138392598322,\n",
       " 1492.7338127421801,\n",
       " 1553.4457448826179,\n",
       " 1617.619811903172,\n",
       " 1683.117860556266,\n",
       " 1749.1448208444845,\n",
       " 1816.040073981803,\n",
       " 1888.483240665354,\n",
       " 1955.6616854267045,\n",
       " 2022.1207570823112,\n",
       " 2086.3138919783896,\n",
       " 2145.763535357798,\n",
       " 2212.5221098144953,\n",
       " 2276.2692853528747,\n",
       " 2339.344031881385,\n",
       " 2399.4931298325437,\n",
       " 2461.077152991603,\n",
       " 2533.6867507854226,\n",
       " 2598.06441816043,\n",
       " 2660.7769941058805,\n",
       " 2724.853320841977,\n",
       " 2793.625442381234,\n",
       " 2861.7324808816825,\n",
       " 2923.8339785916846,\n",
       " 2983.214222678413,\n",
       " 3034.7732970776665,\n",
       " 3091.9482659294977,\n",
       " 3141.730877075562,\n",
       " 3203.934256730035,\n",
       " 3261.5093469681087,\n",
       " 3315.17231310265,\n",
       " 3376.0373361048,\n",
       " 3442.3485858273584,\n",
       " 3503.2806698412614,\n",
       " 3556.7907689835733,\n",
       " 3620.230226609522,\n",
       " 3680.9172578460602,\n",
       " 3736.5123993506527,\n",
       " 3796.897682878076,\n",
       " 3848.719345517364,\n",
       " 3905.5862925537713,\n",
       " 3950.0980919969134,\n",
       " 4011.324790060306,\n",
       " 4069.5312515104247,\n",
       " 4127.788915855602,\n",
       " 4180.457655438445,\n",
       " 4235.587242973161,\n",
       " 4288.659618708951,\n",
       " 4340.1162504030735,\n",
       " 4392.350146639092,\n",
       " 4444.838383341119,\n",
       " 4499.178088161111,\n",
       " 4548.164438545079,\n",
       " 4603.276773706283,\n",
       " 4657.57133317357,\n",
       " 4711.9799929616665,\n",
       " 4765.765567936858,\n",
       " 4818.076177198963,\n",
       " 4866.850242991238,\n",
       " 4912.591181274934,\n",
       " 4960.840169665851,\n",
       " 5006.531341933746,\n",
       " 5054.2015163336455,\n",
       " 5097.103626020921,\n",
       " 5142.3006337728975,\n",
       " 5191.613327845724,\n",
       " 5239.88731395691,\n",
       " 5289.294727819387,\n",
       " 5333.478969931965,\n",
       " 5373.967266380758,\n",
       " 5417.043388239285,\n",
       " 5462.4781627393895,\n",
       " 5508.75049678026,\n",
       " 5555.810915270335,\n",
       " 5603.860162100866,\n",
       " 5647.446671088697,\n",
       " 5691.3662460487085]"
      ]
     },
     "execution_count": 33,
     "metadata": {},
     "output_type": "execute_result"
    }
   ],
   "source": [
    "cmv.totalCheckingAccountSeries"
   ]
  },
  {
   "cell_type": "code",
   "execution_count": 34,
   "id": "thorough-thesaurus",
   "metadata": {},
   "outputs": [
    {
     "data": {
      "text/plain": [
       "[-57.76975012377916,\n",
       " -114.57884389225688,\n",
       " -164.65562589154305,\n",
       " -222.04587591883438,\n",
       " -278.2588369622478,\n",
       " -340.37503936743684,\n",
       " -390.9898598557615,\n",
       " -446.48938155200227,\n",
       " -507.9496020710105,\n",
       " -562.9976768758698,\n",
       " -611.2746732113013,\n",
       " -669.1015379228659,\n",
       " -728.0714672784294,\n",
       " -792.8344598596707,\n",
       " -859.1940847357315,\n",
       " -917.650350894728,\n",
       " -976.2107761668161,\n",
       " -1041.2819230695516,\n",
       " -1108.1849237338558,\n",
       " -1175.2863954076067,\n",
       " -1243.511648882926,\n",
       " -1306.6626438271608,\n",
       " -1369.0360321419178,\n",
       " -1432.913839259832,\n",
       " -1492.7338127421797,\n",
       " -1553.4457448826186,\n",
       " -1617.6198119031721,\n",
       " -1683.1178605562664,\n",
       " -1749.1448208444838,\n",
       " -1816.0400739818028,\n",
       " -1888.483240665353,\n",
       " -1955.6616854267052,\n",
       " -2022.1207570823117,\n",
       " -2086.31389197839,\n",
       " -2145.7635353577984,\n",
       " -2212.5221098144953,\n",
       " -2276.269285352876,\n",
       " -2339.3440318813846,\n",
       " -2399.493129832543,\n",
       " -2461.077152991604,\n",
       " -2533.6867507854226,\n",
       " -2598.0644181604316,\n",
       " -2660.776994105881,\n",
       " -2724.8533208419763,\n",
       " -2793.6254423812343,\n",
       " -2861.7324808816825,\n",
       " -2923.8339785916846,\n",
       " -2983.214222678414,\n",
       " -3034.773297077666,\n",
       " -3091.948265929498,\n",
       " -3141.7308770755635,\n",
       " -3203.9342567300346,\n",
       " -3261.5093469681083,\n",
       " -3315.1723131026506,\n",
       " -3376.0373361048014,\n",
       " -3442.3485858273584,\n",
       " -3503.280669841261,\n",
       " -3556.790768983573,\n",
       " -3620.2302266095217,\n",
       " -3680.917257846058,\n",
       " -3736.5123993506522,\n",
       " -3796.897682878076,\n",
       " -3848.7193455173638,\n",
       " -3905.586292553771,\n",
       " -3950.098091996913,\n",
       " -4011.3247900603074,\n",
       " -4069.531251510425,\n",
       " -4127.788915855602,\n",
       " -4180.457655438446,\n",
       " -4235.587242973161,\n",
       " -4288.659618708952,\n",
       " -4340.116250403075,\n",
       " -4392.350146639094,\n",
       " -4444.838383341119,\n",
       " -4499.178088161112,\n",
       " -4548.164438545082,\n",
       " -4603.276773706284,\n",
       " -4657.571333173571,\n",
       " -4711.979992961667,\n",
       " -4765.765567936858,\n",
       " -4818.076177198967,\n",
       " -4866.8502429912405,\n",
       " -4912.5911812749355,\n",
       " -4960.840169665853,\n",
       " -5006.531341933749,\n",
       " -5054.201516333649,\n",
       " -5097.103626020925,\n",
       " -5142.3006337729,\n",
       " -5191.613327845726,\n",
       " -5239.887313956914,\n",
       " -5289.29472781939,\n",
       " -5333.478969931968,\n",
       " -5373.96726638076,\n",
       " -5417.043388239286,\n",
       " -5462.478162739391,\n",
       " -5508.750496780262,\n",
       " -5555.810915270339,\n",
       " -5603.86016210087,\n",
       " -5647.4466710887,\n",
       " -5691.366246048713]"
      ]
     },
     "execution_count": 34,
     "metadata": {},
     "output_type": "execute_result"
    }
   ],
   "source": [
    "cmv.totalBankAccountSeries"
   ]
  },
  {
   "cell_type": "code",
   "execution_count": 35,
   "id": "auburn-mainstream",
   "metadata": {},
   "outputs": [
    {
     "name": "stdout",
     "output_type": "stream",
     "text": [
      "4\n",
      "6\n"
     ]
    }
   ],
   "source": [
    "for anItem in cmv.bankList:\n",
    "    print(len(anItem.myWorkers))"
   ]
  },
  {
   "cell_type": "code",
   "execution_count": 36,
   "id": "biblical-vaccine",
   "metadata": {
    "scrolled": true
   },
   "outputs": [
    {
     "name": "stdout",
     "output_type": "stream",
     "text": [
      "74 [3, 7, 8, 9, 12, 14, 15, 17, 18, 19, 22, 23, 25, 26, 27, 29, 31, 32, 33, 34, 36, 37, 42, 44, 48, 52, 53, 55, 56, 57, 59, 61, 64, 66, 68, 69, 71, 72, 74, 77, 78, 85, 86, 87, 88, 89, 90, 93, 97, 100]\n",
      "74 [76, 70, 99, 38, 26]\n",
      "69 [1, 2, 4, 5, 6, 10, 11, 13, 16, 20, 21, 24, 28, 30, 35, 38, 39, 40, 41, 43, 45, 46, 47, 49, 50, 51, 54, 58, 60, 62, 63, 65, 67, 70, 73, 75, 76, 79, 80, 81, 82, 83, 84, 91, 92, 94, 95, 96, 98, 99]\n",
      "69 [41, 98, 63, 61, 57, 86, 64, 80]\n"
     ]
    }
   ],
   "source": [
    "for aBank in cmv.bankList:\n",
    "    print(aBank.num, list(aBank.myPrivateClients[i].num \\\n",
    "                          for i in range(len(aBank.myPrivateClients))))\n",
    "    print(aBank.num, list(aBank.myCommercialClients[i].num \\\n",
    "                          for i in range(len(aBank.myCommercialClients))))"
   ]
  },
  {
   "cell_type": "code",
   "execution_count": 37,
   "id": "timely-dairy",
   "metadata": {},
   "outputs": [
    {
     "name": "stdout",
     "output_type": "stream",
     "text": [
      "74 2950.29016926631 0 0 1660.1013870780255\n",
      "69 2741.076076782398 0 205.1949268582679 4236.459785828955\n"
     ]
    }
   ],
   "source": [
    "for aBank in cmv.bankList:\n",
    "    print(aBank.num, aBank.myDebtsVsAgents, aBank.myCreditsVsAgents,\\\n",
    "                     aBank.myDebtsVsFirms,  aBank.myCreditsVsFirms)  "
   ]
  },
  {
   "cell_type": "code",
   "execution_count": null,
   "id": "material-resistance",
   "metadata": {},
   "outputs": [],
   "source": []
  }
 ],
 "metadata": {
  "kernelspec": {
   "display_name": "Python 3",
   "language": "python",
   "name": "python3"
  },
  "language_info": {
   "codemirror_mode": {
    "name": "ipython",
    "version": 3
   },
   "file_extension": ".py",
   "mimetype": "text/x-python",
   "name": "python",
   "nbconvert_exporter": "python",
   "pygments_lexer": "ipython3",
   "version": "3.9.7"
  }
 },
 "nbformat": 4,
 "nbformat_minor": 5
}
