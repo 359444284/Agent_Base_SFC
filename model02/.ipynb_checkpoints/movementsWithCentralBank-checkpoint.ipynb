{
 "cells": [
  {
   "cell_type": "markdown",
   "id": "legitimate-complaint",
   "metadata": {},
   "source": [
    "## Movements with CentralBank\n",
    "\n",
    "A note about modification to be done.\n",
    "\n",
    "*Metaproblem*: can we use $M1$ as name for the deposits of the banks at the central bank?\n",
    "\n",
    "### Debiting operations\n",
    "<p style=\"color:red\">To be corrected</p>\n",
    "\n",
    "The codes  are the following (in class **Bank**):"
   ]
  },
  {
   "cell_type": "raw",
   "id": "unavailable-assurance",
   "metadata": {},
   "source": [
    "def debitingCheckingAccount(self,aClient,amount): # agents' accounts\n",
    "        aClient.checkingAccount-=amount\n",
    "        self.centralBankAccount-=amount\n",
    "        \n",
    "\n",
    "def debitingBankAccount(self,aClient,amount): # firms' accounts\n",
    "        aClient.bankAccount-=amount\n",
    "        self.centralBankAccount-=amount\n",
    "\n",
    "def bankDebitingCentralBankAccount(self,amount):\n",
    "        self.centralBankAccount-=amount\n",
    "        self.bankTreasuryAccountAtCentralBank-=amount\n"
   ]
  },
  {
   "cell_type": "markdown",
   "id": "tropical-hawaiian",
   "metadata": {},
   "source": [
    "eq.\n",
    "\n",
    "- **debitingCheckingAccount**\n",
    "\n",
    "For the amount $\\mathcal{M}$, debiting the account of agent $i$ at bank $j$\n",
    "\n",
    "$\\Delta M1_i=-\\mathcal{M}$\n",
    "\n",
    "With $\\mathcal{L}= \\begin{cases} \\mathcal{M}- M1_i,&  \\text{if } \\mathcal{M}- M1_i>0 \\\\ 0, & \\text{otherwise}\\end{cases}$\n",
    "\n",
    "modifying the correspondent bank $j$ deposit at the cemtral bank\n",
    "\n",
    "$\\Delta M1^b_j=-\\mathcal{M} + \\mathcal{L}$\n",
    "\n",
    "The account $M1_i$ can be positive or negative (in case, also accounted into the loans).\n",
    "\n",
    "\n",
    "- **debitingBankAccount**\n",
    "\n",
    "For the amount $\\mathcal{M}$, debiting the account of bank $j$ at bank $i$\n",
    "\n",
    "$\\Delta M1^f_i=-\\mathcal{M}$\n",
    "\n",
    "With $\\mathcal{L}= \\begin{cases} \\mathcal{M}- M1^f_i,&  \\text{if } \\mathcal{M}- M1^f_i>0 \\\\ 0, & \\text{otherwise}\\end{cases}$\n",
    "\n",
    "modifying the correspondent bank $j$ deposit at the central bank\n",
    "\n",
    "$\\Delta M1^b_j=-\\mathcal{M} + \\mathcal{L}$\n",
    "\n",
    "The account $M1^f_i$ can be positive or negative (in case, also accounted into the loans).\n",
    "\n",
    "- **bankDebitingCentralBankAccount** \n",
    "\n",
    "<p style=\"color:red\">NB NB</p>the symbol for *treasury* missing in the list\n",
    "\n",
    "For the amount $\\mathcal{M}$, debiting the account of bank $j$ at the central bank\n",
    "\n",
    "$\\Delta M1^b_j=-\\mathcal{M}$\n",
    "\n",
    "being the amount $\\mathcal{M}$ a payment on charge of the bank, considering also the specific treasury account of bank $j$ \n",
    "\n",
    "$\\Delta M1^T_j=-\\mathcal{M}$\n",
    "\n",
    "The account $M1^b_j$ can be positive or negative (in case, also accounted into the loans of the central bank).\n"
   ]
  },
  {
   "cell_type": "markdown",
   "id": "cardiovascular-soundtrack",
   "metadata": {},
   "source": [
    "New codes  in class **Bank** are:\n",
    "\n",
    "<p style=\"color:red\">(to be verified)</p>"
   ]
  },
  {
   "cell_type": "raw",
   "id": "single-course",
   "metadata": {},
   "source": [
    "def debitingCheckingAccount(self,aClient,amount): # agents' accounts\n",
    "        aClient.checkingAccount-=amount\n",
    "        self.centralBankAccount-=amount\n",
    "        \n",
    "\n",
    "def debitingBankAccount(self,aClient,amount): # firms' accounts\n",
    "        aClient.bankAccount-=amount\n",
    "        self.centralBankAccount-=amount\n",
    "\n",
    "def bankDebitingCentralBankAccount(self,amount):\n",
    "        self.centralBankAccount-=amount\n",
    "        self.bankTreasuryAccountAtCentralBank-=amount"
   ]
  },
  {
   "cell_type": "markdown",
   "id": "sacred-riding",
   "metadata": {},
   "source": [
    "### Crediting operations"
   ]
  },
  {
   "cell_type": "code",
   "execution_count": null,
   "id": "amateur-pension",
   "metadata": {},
   "outputs": [],
   "source": []
  }
 ],
 "metadata": {
  "kernelspec": {
   "display_name": "Python 3",
   "language": "python",
   "name": "python3"
  },
  "language_info": {
   "codemirror_mode": {
    "name": "ipython",
    "version": 3
   },
   "file_extension": ".py",
   "mimetype": "text/x-python",
   "name": "python",
   "nbconvert_exporter": "python",
   "pygments_lexer": "ipython3",
   "version": "3.9.7"
  }
 },
 "nbformat": 4,
 "nbformat_minor": 5
}
