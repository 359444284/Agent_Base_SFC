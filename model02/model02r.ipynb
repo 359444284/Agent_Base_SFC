{
 "cells": [
  {
   "cell_type": "markdown",
   "id": "naval-nomination",
   "metadata": {},
   "source": [
    "# model02r\n",
    "### Un altro passo: arrivano le banche!\n",
    "#### Sempre in azione l'*Istituto Centrale di Statistica* con a fianco la *Banca d'Italia*\n",
    "\n",
    "use it in [Notebook viewer](https://nbviewer.org/github/terna/ejmmp/blob/main/model02/model02.ipynb) or explore it in [GitHub](https://github.com/terna/ejmmp/tree/main/model02) (with the tools.py and metaActions.py files)\n",
    "\n",
    "to force the updatem if missing, follow once [Notebook viewer and flush cache](https://nbviewer.org/github/terna/ejmmp/blob/main/model02/model02.ipynb?flush_cache=true)\n",
    "\n",
    "[Wikipedia as a memo](https://en.wikipedia.org/wiki/Stock-flow_consistent_model#cite_note-42)"
   ]
  },
  {
   "cell_type": "code",
   "execution_count": 1,
   "id": "latter-survey",
   "metadata": {
    "scrolled": true
   },
   "outputs": [
    {
     "data": {
      "application/javascript": [
       "// to avoid scroll in windows\n",
       "IPython.OutputArea.prototype._should_scroll = function(lines) {\n",
       "    return false;\n",
       "}\n"
      ],
      "text/plain": [
       "<IPython.core.display.Javascript object>"
      ]
     },
     "metadata": {},
     "output_type": "display_data"
    }
   ],
   "source": [
    "%%javascript\n",
    "// to avoid scroll in windows\n",
    "IPython.OutputArea.prototype._should_scroll = function(lines) {\n",
    "    return false;\n",
    "}"
   ]
  },
  {
   "cell_type": "code",
   "execution_count": 2,
   "id": "large-brooks",
   "metadata": {},
   "outputs": [],
   "source": [
    "%matplotlib inline\n",
    "import random as r\n",
    "import matplotlib.pyplot as plt\n",
    "import commonVar as cmv\n",
    "import numpy as np\n",
    "from tools import *\n",
    "from metaActions import *\n",
    "from generateSeeds import *\n",
    "import sys"
   ]
  },
  {
   "cell_type": "markdown",
   "id": "prostate-shadow",
   "metadata": {},
   "source": [
    "### Stock-flow *model02*, with real and financial elements\n",
    "\n",
    "- The model also considers the monetary side of the economy.\n",
    "\n",
    "  \n",
    "\n",
    "- We have to initialize loans and capital stocks.\n",
    "\n",
    "  \n",
    "\n",
    "- Currently, entrepreneurs have unlimited funds that they put freely in their activities, balancing other agent negative cash, if any.\n",
    "\n",
    "  \n",
    "\n",
    "- Saving is abstension from consuming, increasing agents' liquidity.\n",
    "\n",
    "\n",
    "\n",
    "- Investments are uniquely for replacement, without technical progress.\n",
    "\n",
    "  "
   ]
  },
  {
   "cell_type": "markdown",
   "id": "comparable-matthew",
   "metadata": {},
   "source": [
    "### symbol table\n",
    "\n",
    "[symbol table](https://oeis.org/wiki/List_of_LaTeX_mathematical_symbols) in $\\LaTeX$\n",
    "\n",
    "$a_i$ -  with $a_i \\in \\mathbf{A}$; agent number $N=|\\mathbf{A}|$, `agentList` and`agentNum`\n",
    "\n",
    "$a^e_i$ -  with $a^e_i \\in \\mathbf{A^e}$ and $\\mathbf{A^e} \\subset \\mathbf{A}$; employer number $N^e=|\\mathbf{A^e}|$ in range $[N^e_{min},N^e_{max}]$, `employerList`\n",
    "\n",
    "$\\mathbf{F}$ - firms' set, with $f_j \\in \\mathbf{F}$ being $N^f = |\\mathbf{F}|$,  with $N^f = |\\mathbf{F}| = |\\mathbf{A^e}|$ , `firmList`\n",
    "\n",
    "$\\mathbf{A}^w$ - working agents' set, being $\\mathbf{A}^w \\subseteq \\mathbf{A}$, with $N^w_i=|\\mathbf{A}^w_i|$ number of working agents employed by employer $i$, also including self-employed employers, with $a_i \\in \\mathbf{A}^e$\n",
    "\n",
    "$\\mathbf{B}$ - banks' set, with $b_j \\in \\mathbf{B}$ being $N^b = |\\mathbf{B}|$, `bankList`\n",
    "\n",
    "$x^d$ - interest rate on deposits, `interestRateOnDeposits`\n",
    "\n",
    "$x^{l^a}$ - interest rate on loans to (private) agents, `interestRateOnLoansVsAgents`\n",
    "\n",
    "$x^{l^f}$ - interest rate on loans to firms, `interestRateOnLoansVsFirms`\n",
    "\n",
    "$X^d_{a|f|b}$ - amount of positive interest on deposits for a given interval $t$ for agents $a$ or firms $f$, and negative for banks $b$, `interestOnDeposits`\n",
    "\n",
    "$X^l_{a|f|b}$ - amount of negative interest on loans for a given interval $t$ for agents $a$ or firms $f$, and positive for banks $b$, `interestOnLoans`\n",
    "\n",
    "$p$ - price `price`\n",
    "\n",
    "$u$ - unemployment rate `unemploymentRate`\n",
    "\n",
    "$dimensional~heterogeneity$ is a $true/false$ chooser, forcing increasing firms to attract more workers. `dimensionalHeterogeneity`\n",
    "\n",
    "$\\pi_{i,t}$ - labor productivity, a uniformly distributed decimal number in range $[\\pi_{min},\\pi_{max}]$,`productivity`\n",
    "\n",
    "&Delta;$\\pi_{i,t}$ - uniperiodal additive productivity correction in range $[$&Delta;$\\pi_{min},$ &Delta;$\\pi_{max}]$, `productivityDelta`\n",
    "\n",
    "$n_{i,t}$ - number of workers in a firm\n",
    "\n",
    "$q_{i,t}$ - production in quantity, `production`\n",
    "\n",
    "$\\Pi_{i,t}$ - profit, `profit`\n",
    "\n",
    "$\\rho$ - profit distribution share, `rho`\n",
    "\n",
    "$\\delta_{i,t}$ - dividend $\\rho\\Pi_{i,t}$, `dividend` or `perceivedDividend` \n",
    "\n",
    "$W$ - wage `wage`\n",
    "\n",
    "$R_{i,t}$ - revenues, `revenues`\n",
    "\n",
    "$s_{i,t}$ - sales in quantity, `sales`\n",
    "\n",
    "$v_{i,t}$ - in**v**entories (final, initial), `initialInventories`, `finalInventories`\n",
    "\n",
    "$d_{i}$ - deperibility share of the production, `deperibilityShare`, setting $d_{max}$\n",
    "\n",
    "$c_{i,t}$ - consumption rate, a uniformly distributed decimal number in range $[c_{min},c_{max}]$,`consumptionRate`\n",
    "\n",
    "$C_{i,t}$ - consumption of $i$ in $t$\n",
    "\n",
    "$I_{i,t}$  - investment plan  of $i$ in $t$, a uniformly distributed realization in range $[I_{min},I_{max}]$,`investmentProgram`\n",
    "\n",
    "$H_{i,t}$  - high powered money (cash) held by individuals (also acting as employers), `cashMoney`\n",
    "\n",
    "$M1_{i,t}$ - checking account money deposits held by  $a_i$ at time $t$, `checkingAccount`\n",
    "\n",
    "$M1^f_{i,t}$ - firm's bank account (with positive or negative balance), `bankAccount`\n",
    "\n",
    "$M1^b_{i,t}$ - bank's account (with positive or negative balance) mantained with the central bank , `centralBankAccount`\n",
    "\n",
    "the investment and consumption actions are repeated in each cycle, looking around randomly for the sellers; currently `nOfConsumptionActions` $=30$ and `nOfInvestmentActions`$=10$; each consumption buy action is at maximum the 20% of the planned consumptions in that cycle; instead, each investment buy action can reach the whole amount of the investment program of the cycle; each buy action is limited by the residual capabilty of the seller\n",
    "\n",
    "**magically**, the same good can be a consumption item or an investment one\n",
    "\n",
    "$T$ - number of cycles `ncycles`\n",
    "\n",
    "$t$ - current cycle `cycle`\n",
    "\n"
   ]
  },
  {
   "cell_type": "markdown",
   "id": "broke-marathon",
   "metadata": {},
   "source": [
    "## agent structure\n",
    "\n",
    "The structure of an **agent**: it can represent an entrepreneur, a worker, an unemployed person.\n",
    "\n",
    "When an agent is created, the **initialization process** defines:\n",
    "\n",
    "- its numerical id, `num`\n",
    "- its entrepreneur status, `entrepreneur`, set to $false$\n",
    "- the id of its employer, `myEmployer`, set to $0$\n",
    "- if entrepreneur, the id of its firm, `myFirm`, set to $0$\n",
    "- $c_{i,0}$ - consumption rate, set to $0$\n",
    "- $H_{i,0}$ - cash money, set to $0$ \n",
    "- $M1_{i,0}$ - checking account money deposits, set to $0$\n",
    "\n",
    "## firm structure\n",
    "\n",
    "- $R_{i,0}$ - `revenues`, initial value  $0$\n",
    "- $s_{i,0}$ - `sales`, initial value  $0$\n",
    "- $v^i_{i,0}$ - in**v**entories, `initialInventories`, set to $0$ \n",
    "- $v^f_{i,0}$ - in**v**entories, `finalInventories`, set to $0$ \n",
    "- $d_{i}$ - deperibility share, a uniformly distributed decimal number in range $[0,d_{max}]$,`deperibilityShare`\n",
    "- $I_{i,0}$  - investment plan, set to $0$\n",
    "- $\\Pi_{i,0}$ - profit, set to $0$, being the related dividend $D_{i,0}$, set to $0$\n",
    "- $M1^f_{i,0}$ - firm's bank account, set to $0$\n",
    "- $\\pi_{i,t-1}$ set within the initialization step\n",
    "\n",
    "## bank structure\n",
    "\n",
    "- $R_{i,0}$ - `revenues`, initial value  $0$\n",
    "- $I_{i,0}$  - investment plan, set to $0$\n",
    "- $\\Pi_{i,0}$ - profit, set to $0$, being the related dividend $D_{i,0}$, set to $0$\n",
    "- $M1^b_{i,0}$ - bank's account mantained with the central bank, set to $0$\n",
    "- $\\pi_{i,t-1}$ set within the initialization step\n",
    "\n",
    "\n",
    "\n",
    "each **agent** has the **functions**:\n",
    "\n",
    "- **buyConsumptionGoods** \n",
    "\n",
    "  $C_{i,t}=c_{i,t} (W+D_{i,t-1}+X^d_{i,t-1}-X^l_{i,t-1})$; using $D_{i,t-1},X^d_{i,t-1},X^l_{i,t-1}$ we introduce lags with (possible) cyclical effect\n",
    "\n",
    "  being $bu$ the buyer and $se$ the seller (firm), for each fraction $C_{i,t}/k$ \n",
    "\n",
    "  ($k$ is the number of buying actions in each cycle with random share [0,cmv.maxConsumptionShareInSubstep))\n",
    "\n",
    "  &Delta;$M1^f_{se,t}=C_{bu,t}/k$\n",
    "\n",
    "  &Delta;$M1_{bu,t}=-C_{bu,t}/k$\n",
    "\n",
    "\n",
    "\n",
    "\n",
    "each **firm** has the **functions**:\n",
    "\n",
    "- **produce** function (production in quantity), with:\n",
    "\n",
    "  $\\pi_{i,t}=\\pi_{i,t-1}+$&Delta;$\\pi_{i,t}$\n",
    "\n",
    "  $q_{i,t}=n_{i,t} \\pi_{i,t}$\n",
    "\n",
    "  \n",
    "\n",
    "- **payWages**\n",
    "\n",
    "  paying $W$ to each worker in each time $t$\n",
    "\n",
    "  &Delta;$M1_{i,t}=W$ for  $a_i \\in \\mathbf{A}^w$ \n",
    "\n",
    "  &Delta;$M1^f_{i,t}=-W \\mathbf{N}^w_i$ for $a_i \\in \\mathbf{A}^e$ \n",
    "\n",
    "  \n",
    "\n",
    "- **buyInvestmentGoods**\n",
    "\n",
    "  $I_{j,t}$ for $f_j \\in \\mathbf{F}$  ($I_{j,t}$ is exogenously set)\n",
    "\n",
    "  being $bu$ the buyer (firm) and $se$ the seller (firm), for each fraction $I_{j,t}/k$\n",
    "\n",
    "  ($k$ is the number of investment actions in each cycle, with random share [0,cmv.maxInvestmentShareInSubstep))\n",
    "\n",
    "  &Delta;$M1^f_{se,t}=I_{bu,t}/k$\n",
    "\n",
    "  &Delta;$M1^f_{bu,t}=-I_{bu,t}/k$\n",
    "\n",
    "  \n",
    "\n",
    "- **makeBalanceSheet**\n",
    "\n",
    "  $v^f_{i,t}=v^i_{i,t}+(q_{i,t}-s_{i,t}) (1 - d_{i})$\n",
    "\n",
    "  $R_{i,t}=p s_{i,t}+X^d_{i,t}$\n",
    "\n",
    "  $\\Pi_{i,t}=R_{i,t}-W n_{i,t}-X^l_{i,t}+p(v^f_{i,t}-v^i_{i,t})$\n",
    "\n",
    "  reordering, we have:\n",
    "\n",
    "  $\\underbrace{\\Pi_{i,t}+W n_{i,t}+X^l_{i,t}}_{\\textrm{direct added value}}=\\underbrace{R_{i,t}+p(v^f_{i,t}-v^i_{i,t})}_{\\textrm{indirect added value (*)}}$\n",
    "\n",
    "  (*) the cost of bought-in materials and components is missing by construction in this version of the model\n",
    "\n",
    "- **distributeDividend**\n",
    "\n",
    "  $\\delta_{i,t}=\\rho\\Pi_{i,t}$​\n",
    "\n",
    "  &Delta;$M1_{i,t}=\\delta_{i,t}$\n",
    "\n",
    "  &Delta;$M1^f_{i,t}=-\\delta_{i,t}$\n",
    "\n",
    "  \n",
    "\n",
    "each **bank** has the **functions**:\n",
    "\n",
    "- **produce** function (production of bank services in quantity), analogously with the firm one\n",
    "\n",
    "  \n",
    "\n",
    "- **payWages**\n",
    "\n",
    "  paying $W$ to each worker in each time $t$\n",
    "\n",
    "  &Delta;$M1_{i,t}=W$ for  $a_i \\in \\mathbf{A}^w$ \n",
    "\n",
    "  &Delta;$M1^f_{i,t}=-W \\mathbf{N}^w_i$ for $a_i \\in \\mathbf{A}^e$\n",
    "\n",
    "  \n",
    "\n",
    "- **distributeDividend**\n",
    "\n",
    "  $\\delta_{i,t}=\\rho\\Pi_{i,t}$​​\n",
    "\n",
    "  &Delta;$M1_{i,t}=\\delta_{i,t}$\n",
    "\n",
    "  &Delta;$M1^b_{i,t}=-\\delta_{i,t}$\n",
    "\n",
    "  \n",
    "\n",
    "- **makeBalanceSheet**, with:\n",
    "\n"
   ]
  },
  {
   "cell_type": "code",
   "execution_count": 3,
   "id": "found-bibliography",
   "metadata": {
    "scrolled": false
   },
   "outputs": [],
   "source": [
    "class Agent():\n",
    "    def __init__(self, num,r,seed):\n",
    "        self.num=num\n",
    "        self.entrepreneur=False\n",
    "        #self.myFirm=0\n",
    "        self.myEnterprise=0\n",
    "        self.myEmployer=0\n",
    "        self.consumptionRate=0\n",
    "        self.cashMoney=0\n",
    "        self.checkingAccount=0\n",
    "        self.perceivedWage=0\n",
    "        self.perceivedDividend=0\n",
    "        self.myBank=0\n",
    "        self.interestOnDeposits=0\n",
    "        self.interestOnLoans=0\n",
    "        self.r=r.Random()\n",
    "        self.r.seed(seed)\n",
    "\n",
    "    def buyConsumptionGoods(self,k):\n",
    "        if k==0: \n",
    "            self.consumptionRate=self.r.uniform(cmv.consumptionRateMin,cmv.consumptionRateMax)\n",
    "            self.consumption=(self.perceivedWage+self.perceivedDividend+\\\n",
    "                self.interestOnDeposits-self.interestOnLoans)*self.consumptionRate\n",
    "            if self.consumption < 0: self.consumption=0 \n",
    "\n",
    "            self.interestOnDeposits=0\n",
    "            self.interestOnLoans=0\n",
    "            self.perceivedWage=0\n",
    "            self.perceivedDividend=0\n",
    "            self.madeConsumption=0\n",
    "                \n",
    "        self.r.shuffle(cmv.firmList)\n",
    "        mySeller=cmv.firmList[0]\n",
    "        self.purchase=self.r.uniform(0,cmv.maxConsumptionShareInSubstep)*self.consumption \n",
    "                            # mean value should be calibrated with thenumber of buy action\n",
    "        self.purchase=min(self.purchase,self.consumption-self.madeConsumption)\n",
    "        self.purchase=min(self.purchase,cmv.price*(mySeller.production+\\\n",
    "                                        mySeller.initialInventories-mySeller.sales))\n",
    "        mySeller.sales+=self.purchase/cmv.price\n",
    "        mySeller.bankAccount+=self.purchase\n",
    "        #self.consumption-=self.purchase\n",
    "        self.checkingAccount-=self.purchase\n",
    "        self.madeConsumption+=self.purchase\n",
    "    \n"
   ]
  },
  {
   "cell_type": "code",
   "execution_count": 4,
   "id": "dirty-nevada",
   "metadata": {},
   "outputs": [],
   "source": [
    "class Firm():\n",
    "    def __init__(self, num, r,seed):\n",
    "        self.num=num\n",
    "        self.myWorkers=[]\n",
    "        self.myEntrepreneur=0\n",
    "        self.productivity=0\n",
    "        self.initialInventories=0\n",
    "        self.finalInventories=0\n",
    "        self.bankAccount=0\n",
    "        self.revenues=0 #sales*price\n",
    "        self.sales=0\n",
    "        self.deperibilityShare=r.uniform(0,cmv.maxDeperibilityShare)\n",
    "        self.investmentProgram=0\n",
    "        self.profit=0\n",
    "        self.madeInvestment=0\n",
    "        self.interestOnDeposits=0\n",
    "        self.interestOnLoans=0\n",
    "        self.addedValue=0\n",
    "        self.myBank=0\n",
    "        self.r=r.Random()\n",
    "        self.r.seed(seed)\n",
    "        \n",
    "    def produce(self):\n",
    "        self.initialInventories=self.finalInventories\n",
    "        self.productivity+=self.r.uniform(cmv.productivityDeltaMin,cmv.productivityDeltaMax)\n",
    "        self.productivity=max(self.productivity,0)\n",
    "        \n",
    "        self.production=len(self.myWorkers)*self.productivity\n",
    "        self.sales=0\n",
    "\n",
    "    def payWages(self):\n",
    "        for anAgent in self.myWorkers:\n",
    "            anAgent.perceivedWage=cmv.wage\n",
    "            anAgent.checkingAccount+=cmv.wage\n",
    "        self.bankAccount-=cmv.wage*len(self.myWorkers)\n",
    "            \n",
    "    def buyInvestmentGoods(self,k):\n",
    "        if k==0: \n",
    "            self.investmentProgram=r.uniform(cmv.investmentMin,cmv.investmentMax)\n",
    "            self.madeInvestment=0\n",
    "                       \n",
    "        self.r.shuffle(cmv.firmList)\n",
    "        mySeller=cmv.firmList[0]\n",
    "        self.myInvestment=self.r.uniform(0,cmv.maxInvestmentShareInSubstep)*self.investmentProgram\n",
    "        self.myInvestment=min(self.myInvestment,cmv.price*(mySeller.production+\\\n",
    "                              mySeller.initialInventories-mySeller.sales))\n",
    "        mySeller.sales+=self.myInvestment/cmv.price\n",
    "        mySeller.bankAccount+=self.myInvestment\n",
    "        \n",
    "        self.bankAccount-=self.myInvestment\n",
    "        self.investmentProgram-=self.myInvestment\n",
    "        self.madeInvestment+=self.myInvestment\n",
    "        \n",
    "    def makeBalanceSheet(self):\n",
    "        self.lostProduction=0\n",
    "        if self.production - self.sales > 0: \n",
    "            self.lostProduction=(self.production - self.sales)*self.deperibilityShare\n",
    "        #print(self.num, lostProduction,self.productivity)\n",
    "        self.finalInventories=self.initialInventories+self.production-\\\n",
    "                              self.sales-self.lostProduction\n",
    "        self.revenues=self.sales*cmv.price\n",
    "        self.profit=self.revenues - len(self.myWorkers)*cmv.wage + \\\n",
    "          self.interestOnDeposits - self.interestOnLoans + \\\n",
    "          (self.finalInventories-self.initialInventories)*cmv.price\n",
    "        self.addedValue=self.profit+self.interestOnLoans+len(self.myWorkers)*cmv.wage\n",
    "        self.interestOnDeposits=0\n",
    "        self.interestOnLoans=0\n",
    "        #print(self.num,self.profit,self.revenues,len(self.myWorkers)*cmv.wage,\\\n",
    "        #      self.finalInventories, self.initialInventories)\n",
    "        \n",
    "    def distributeDividend(self):\n",
    "        if self.profit > 0:\n",
    "            dividend=cmv.rho*self.profit\n",
    "            self.bankAccount-=dividend\n",
    "            self.myEntrepreneur.checkingAccount+=dividend\n",
    "            self.myEntrepreneur.perceivedDividend=dividend        \n"
   ]
  },
  {
   "cell_type": "code",
   "execution_count": 5,
   "id": "exposed-produce",
   "metadata": {},
   "outputs": [],
   "source": [
    "class Bank(Firm):\n",
    "    def __init__(self, num, r,seed):\n",
    "        super().__init__(num,r,seed)\n",
    "        self.myPrivateClients=[]\n",
    "        self.myCommercialClients=[]\n",
    "        self.myDebtsVsAgents=0\n",
    "        self.myDebtsVsFirms=0\n",
    "        self.myCreditsVsAgents=0\n",
    "        self.myCreditsVsFirms=0\n",
    "        self.interestOnDeposits=0\n",
    "        self.r=r.Random()\n",
    "        self.r.seed(seed)\n",
    "        self.interestOnLoans=0\n",
    "        self.centralBankAccount=0\n",
    "        \n",
    "        del self.bankAccount\n",
    "        \n",
    "        \n",
    "    def payWages(self):\n",
    "        for anAgent in self.myWorkers:\n",
    "            anAgent.perceivedWage=cmv.wage\n",
    "            anAgent.checkingAccount+=cmv.wage\n",
    "        self.centralBankAccount-=cmv.wage*len(self.myWorkers)\n",
    "\n",
    "        \n",
    "    def buyInvestmentGoods(self,k):\n",
    "        if k==0: \n",
    "            self.investmentProgram=r.uniform(cmv.investmentMin,cmv.investmentMax)\n",
    "            self.madeInvestment=0\n",
    "                       \n",
    "        self.r.shuffle(cmv.firmList)\n",
    "        mySeller=cmv.firmList[0]\n",
    "        self.myInvestment=self.r.uniform(0,cmv.maxInvestmentShareInSubstep)*self.investmentProgram\n",
    "        self.myInvestment=min(self.myInvestment,cmv.price*(mySeller.production+\\\n",
    "                              mySeller.initialInventories-mySeller.sales))\n",
    "        mySeller.sales+=self.myInvestment/cmv.price\n",
    "        mySeller.bankAccount+=self.myInvestment\n",
    "        \n",
    "        self.centralBankAccount-=self.myInvestment\n",
    "        self.investmentProgram-=self.myInvestment\n",
    "        self.madeInvestment+=self.myInvestment\n",
    "\n",
    "        \n",
    "    def distributeDividend(self):\n",
    "        if self.profit > 0:\n",
    "            dividend=cmv.rho*self.profit\n",
    "            self.centralBankAccount-=dividend\n",
    "            self.myEntrepreneur.checkingAccount+=dividend\n",
    "            self.myEntrepreneur.perceivedDividend=dividend        \n",
    "\n",
    "    def computeAndApplyInterests(self):\n",
    "        self.interestOnDeposits=0\n",
    "        self.interestOnLoans=0\n",
    "        \n",
    "        for aPrivateClient in self.myPrivateClients:\n",
    "            if aPrivateClient.checkingAccount >=0:\n",
    "                interests=aPrivateClient.checkingAccount*cmv.interestRateOnDeposits\n",
    "                self.interestOnDeposits-=interests\n",
    "                aPrivateClient.checkingAccount+=interests\n",
    "                aPrivateClient.interestOnDeposits=interests\n",
    "                \n",
    "            if aPrivateClient.checkingAccount < 0:\n",
    "                interests=aPrivateClient.checkingAccount*cmv.interestRateOnLoansVsAgents\n",
    "                self.interestOnLoans+=interests\n",
    "                aPrivateClient.checkingAccount-=interests\n",
    "                aPrivateClient.interestOnLoans=interests\n",
    "               \n",
    "        for aCommercialClient in self.myCommercialClients:\n",
    "            if aCommercialClient.bankAccount >=0:\n",
    "                interests=aCommercialClient.bankAccount*cmv.interestRateOnDeposits\n",
    "                self.interestOnDeposits-=interests\n",
    "                aCommercialClient.bankAccount+=interests\n",
    "                aCommercialClient.interestOnDeposits=interests\n",
    "\n",
    "            if aCommercialClient.bankAccount < 0:\n",
    "                interests=aCommercialClient.bankAccount*cmv.interestRateOnLoansVsFirms\n",
    "                self.interestOnLoans+=interests\n",
    "                aCommercialClient.bankAccount-=interests\n",
    "                aCommercialClient.interestOnLoans=interests\n",
    "        \n",
    "    def makeFinancialAccounts(self):\n",
    "        self.myDebtsVsAgents=0\n",
    "        self.myDebtsVsFirms=0\n",
    "        self.myCreditsVsAgents=0\n",
    "        self.myCreditsVsFirms=0\n",
    "\n",
    "        for aPrivateClient in  self.myPrivateClients:\n",
    "            if aPrivateClient.checkingAccount>=0: \\\n",
    "                self.myDebtsVsAgents-=aPrivateClient.checkingAccount\n",
    "            if aPrivateClient.checkingAccount<0: \\\n",
    "                self.myCreditsVsAgents+=aPrivateClient.checkingAccount\n",
    "        for aCommercialClient in  self.myCommercialClients:\n",
    "            if aCommercialClient.bankAccount>=0: \\\n",
    "                self.myDebtsVsFirms-=aCommercialClient.bankAccount\n",
    "            if aCommercialClient.bankAccount<0: \\\n",
    "                self.myCreditsVsFirms+=aCommercialClient.bankAccount\n",
    "        \n",
    "        "
   ]
  },
  {
   "cell_type": "markdown",
   "id": "given-bangkok",
   "metadata": {},
   "source": [
    "### agent setup\n",
    "\n",
    "- agent basic creation\n",
    "\n",
    "  \n",
    "\n",
    "- creation of entrepreneur list\n",
    "\n",
    "  \n",
    "\n",
    "- selecting entrepreneurs and creating their firms or their banks\n",
    "\n",
    "  \n",
    "\n",
    "- with a given (heterogeneous) productivity\n",
    "\n",
    "  \n",
    "\n",
    "- linking the firm or the bank to its entrepreneur, considering the entrepreneur itself as a worker in its firm or bank\n",
    "\n",
    "  \n",
    "\n",
    "- creation of a temporary workforce list of to-be-employed agent, escluding entrepreneurs (already self employed)\n",
    "\n",
    "  \n",
    "\n",
    "- applying the unmployement rate to exclude agents\n",
    "\n",
    "  \n",
    "\n",
    "- assigning workforce (to-be-employed agents) to firms of banks, with a reinforcement mechanism, gradually giving more attraction/hiring capability to firms or banks growing the most\n",
    "\n",
    "\n",
    "- assigning agents and firms to banks in a random way\n",
    "\n"
   ]
  },
  {
   "cell_type": "code",
   "execution_count": 6,
   "id": "weekly-jordan",
   "metadata": {},
   "outputs": [],
   "source": [
    "def setup(r,seed):\n",
    "    \n",
    "    seedManager(r,seed,'setup',setup)\n",
    "    \n",
    "    #print(r.random(),setup.r.random())\n",
    "        \n",
    "    cmv.agentList=[]\n",
    "    for n in range(cmv.agentNum):\n",
    "        anAgent=Agent(n+1,r,cmv.agentSeedList[n])\n",
    "        cmv.agentList.append(anAgent)\n",
    "\n",
    "    \n",
    "    # creation of: entrepreneur list; firm list; bank list\n",
    "    cmv.entrepreneurNum=setup.r.randint(cmv.entrepreneurMin, cmv.entrepreneurMax)\n",
    "    cmv.bankNum=setup.r.randint(cmv.bankMin, cmv.bankMax)\n",
    "    \n",
    "    cmv.entrepreneurList=[]\n",
    "    cmv.firmList=[]\n",
    "    cmv.bankList=[]\n",
    "    entrepreneurCandidates=cmv.agentList.copy()\n",
    "\n",
    "    for n in range(cmv.entrepreneurNum):\n",
    "        \n",
    "        i=setup.r.randint(0,len(entrepreneurCandidates)-1)\n",
    "        \n",
    "        entrepreneurCandidates[i].entrepreneur=True\n",
    "\n",
    "        if len(cmv.bankList) < cmv.bankNum:\n",
    "            newEnterprise=Bank(entrepreneurCandidates[i].num,\\\n",
    "                               r,cmv.bankSeedList[len(cmv.bankList)])\n",
    "        else:\n",
    "            newEnterprise=Firm(entrepreneurCandidates[i].num,\\\n",
    "                               r,cmv.firmSeedList[len(cmv.firmList)])\n",
    "\n",
    "        entrepreneurCandidates[i].myEnterprise=newEnterprise\n",
    "        entrepreneurCandidates[i].myEmployer=newEnterprise\n",
    "        newEnterprise.myEntrepreneur=entrepreneurCandidates[i]\n",
    "        newEnterprise.myWorkers.append(entrepreneurCandidates[i])\n",
    "        newEnterprise.productivity=\\\n",
    "                setup.r.uniform(cmv.productivityMin,cmv.productivityMax)\n",
    "        cmv.entrepreneurList.append(entrepreneurCandidates.pop(i))\n",
    "        if newEnterprise.__class__.__name__==\"Bank\": cmv.bankList.append(newEnterprise)\n",
    "        if newEnterprise.__class__.__name__==\"Firm\": cmv.firmList.append(newEnterprise)\n",
    "\n",
    "    cmv.firmNum=len(cmv.firmList)\n",
    "    \n",
    "    # creation of workforce list\n",
    "    toBeEmployed=[]\n",
    "\n",
    "    for anAgent in cmv.agentList:\n",
    "        if not anAgent.entrepreneur: toBeEmployed.append(anAgent)\n",
    "    for k in range(round(cmv.unemploymentRate*cmv.agentNum)):\n",
    "        toBeEmployed.pop(setup.r.randint(0,len(toBeEmployed)))\n",
    "    #len(toBeEmployed)\n",
    "\n",
    "\n",
    "    # assigning workforce to firms and banks\n",
    "    tmpEnterpriseListWithDuplications=cmv.firmList+cmv.bankList\n",
    "    for anAgent in toBeEmployed:\n",
    "        choice=setup.r.choice(tmpEnterpriseListWithDuplications)\n",
    "        anAgent.myEmployer=choice\n",
    "        choice.myWorkers.append(anAgent)\n",
    "        if cmv.dimensionalHeterogeneity: tmpEnterpriseListWithDuplications.append(choice)\n",
    "            \n",
    "            \n",
    "    # assigning agents and firms to banks\n",
    "    \n",
    "    for anAgent in cmv.agentList:\n",
    "        anAgent.myBank=setup.r.choice(cmv.bankList)\n",
    "        anAgent.myBank.myPrivateClients.append(anAgent)\n",
    "            \n",
    "    for aFirm in cmv.firmList:\n",
    "        aFirm.myBank=setup.r.choice(cmv.bankList)\n",
    "        aFirm.myBank.myCommercialClients.append(aFirm)\n",
    "\n",
    "    cmv.totalProductionSeries=[]\n",
    "    cmv.totalProductionInfraVarSeries=[]\n",
    "    cmv.totalProfitSeries=[]\n",
    "    cmv.totalProfitInfraVarSeries=[]\n",
    "    cmv.totalInitialInventoriesSeries=[]\n",
    "    cmv.totalInitialInventoriesInfraVarSeries=[]\n",
    "    cmv.totalFinalInventoriesSeries=[]\n",
    "    cmv.totalFinalInventoriesInfraVarSeries=[]\n",
    "    cmv.totalConsumptionSeries=[]\n",
    "    cmv.totalEntrepreneurConsumptionSeries=[]\n",
    "    cmv.totalNonEntrepreneurConsumptionSeries=[]\n",
    "    cmv.totalConsumptionInfraVarSeries=[]\n",
    "    cmv.totalInvestmentSeries=[]\n",
    "    cmv.totalInvestmentInfraVarSeries=[]\n",
    "    cmv.totalCashMoneySeries=[]\n",
    "    cmv.totalCashMoneyInfraVarSeries=[]\n",
    "    cmv.totalCheckingAccountSeries=[]\n",
    "    cmv.totalCheckingAccountInfraVarSeries=[]\n",
    "    cmv.totalBankAccountSeries=[]\n",
    "    cmv.totalBankAccountInfraVarSeries=[]\n",
    "    cmv.totalAddedValueSeries=[]\n",
    "    cmv.totalAddedValueInfraVarSeries=[]\n",
    "\n",
    "    cmv.totalLostProductionSeries=[]"
   ]
  },
  {
   "cell_type": "markdown",
   "id": "accompanied-defeat",
   "metadata": {},
   "source": [
    "### meta actions (in `metaActions.py`)\n",
    "\n",
    "\n",
    "\n",
    "\n",
    "\n",
    "- *produceAll* orders to the firms to produce and to collects the results\n",
    "\n",
    "  \n",
    "\n",
    "- *payWagesAll* orders to the firms to pay wages, also to the entrepreneurs\n",
    "\n",
    "  \n",
    "\n",
    "- *buyConsumptionGoodsAll* orders to the agents to buy consumption goods\n",
    "\n",
    "  \n",
    "\n",
    "- *buyInvestmentGoodsAll* orders to the firms to buy investment goods\n",
    "\n",
    "  \n",
    "\n",
    "- *buyConsumptionOrInvestmentGoodsAll* orders to the agents and to the firms to buy consumption or investment goods\n",
    "\n",
    "  \n",
    "\n",
    "- *makeBalanceSheetAll* with firm making accounts\n",
    "\n",
    "  \n",
    "\n",
    "- *distributeDividendAll* attributing the $\\rho$ share of firm profits to the entrepreneurs \n",
    "\n",
    "  \n",
    "\n",
    "- *accountCashMoneyAll* summarizing eveyone cash money at the end of a cycle\n",
    "\n",
    "  \n",
    "\n",
    "- *accountCheckingAccountAll* summarizing eveyone checking accounts at the end of a cycle\n",
    "\n",
    "  \n",
    "\n",
    "- *accountBankingAccountAll* summarizing firm banking accounts at the end of a cycle\n",
    "\n",
    "  \n",
    "\n",
    "- *computeAndApplyInterestsAll* calculating the interests on deposits and loans for each agent and firm (and symmetrically for banks) and updatating accounts\n",
    "\n",
    "  \n",
    "\n",
    "- *makeBankFinancialAccountsAll* summmarinzing all the checking and banl accounts"
   ]
  },
  {
   "cell_type": "markdown",
   "id": "dense-journey",
   "metadata": {},
   "source": [
    "\n",
    "### model parameters\n",
    "\n"
   ]
  },
  {
   "cell_type": "code",
   "execution_count": 7,
   "id": "designing-participant",
   "metadata": {
    "scrolled": false
   },
   "outputs": [],
   "source": [
    "cmv.agentNum=200\n",
    "cmv.entrepreneurMin=6\n",
    "cmv.entrepreneurMax=20\n",
    "cmv.bankMin=2\n",
    "cmv.bankMax=3 \n",
    "\n",
    "if cmv.bankMax > cmv.entrepreneurMin:\n",
    "    print (\"Bank maximum number cannot exceed the minimum number of firms!\")\n",
    "    sys.exit(0)\n",
    "\n",
    "cmv.price=1\n",
    "\n",
    "cmv.unemploymentRate=0\n",
    "cmv.dimensionalHeterogeneity=True\n",
    "\n",
    "cmv.productivityMin=0.8\n",
    "cmv.productivityMax=1.2\n",
    "cmv.productivityDeltaMin=cmv.productivityMin-1\n",
    "cmv.productivityDeltaMax=cmv.productivityMax-1\n",
    "\n",
    "cmv.maxDeperibilityShare=0.5\n",
    "\n",
    "cmv.wage=1\n",
    "cmv.rho=0 #0.5 #1\n",
    "cmv.consumptionRateMin=0.5\n",
    "cmv.consumptionRateMax=1\n",
    "\n",
    "cmv.investmentMin=1\n",
    "cmv.investmentMax=15\n",
    "\n",
    "cmv.nOfConsumptionActions=30\n",
    "cmv.maxConsumptionShareInSubstep=0.3\n",
    "cmv.nOfInvestmentActions=10\n",
    "cmv.maxInvestmentShareInSubstep=0.3\n",
    "\n",
    "cmv.interestRateOnDeposits=0.01\n",
    "cmv.interestRateOnLoansVsAgents=0.03\n",
    "cmv.interestRateOnLoansVsFirms=0.10\n",
    "\n",
    "cmv.ncycles=100\n",
    "cmv.cycle=0"
   ]
  },
  {
   "cell_type": "markdown",
   "id": "neutral-cylinder",
   "metadata": {},
   "source": [
    "## <p style=\"color:red\">model machine</p>\n",
    "\n",
    "- a random seed determining the random number sequences\n",
    "\n",
    "\n",
    "\n",
    "- a list of actions (meta ones)\n",
    "\n",
    "\n",
    "\n",
    "- an engine excecuting the meta actions (their code in `metaAcions,py` file, in the same folder of the notebook; online, look a the model [GitHub](https://github.com/terna/ejmmp/tree/main/model02)\n",
    "\n",
    "  \n",
    "\n",
    "- random seed sequence, to have independent each class instance or function using random number, based on `generateSeed()` in  `generateSeeds.py` file, in the same folder of the notebook; online, look a the model [GitHub](https://github.com/terna/ejmmp/tree/main/model02)\n",
    "\n",
    "\n",
    "\n",
    "- display tools; their code is hidden into the file `tools.py`, in the same folder of the notebook; online, look a the model [GitHub](https://github.com/terna/ejmmp/tree/main/model02)\n",
    "\n"
   ]
  },
  {
   "cell_type": "code",
   "execution_count": 8,
   "id": "sealed-valuation",
   "metadata": {
    "scrolled": false
   },
   "outputs": [
    {
     "name": "stdout",
     "output_type": "stream",
     "text": [
      "-------------------------------------------\n",
      "enterprise number 9\n",
      "-------------------------------------------\n",
      "\n",
      "-------------------------------------------\n",
      "\"national\" accounts\n",
      "-------------------------------------------\n",
      "\n",
      "  t\ttotal\tinitial\t\tconsum.\tinvest.\tfinal\n",
      "\ta.v.\tinvent.\t\t\t\tinvent.\n",
      "  1\t175.4\t0.0\t    |\t106.2\t41.8\t28.3\n",
      "  2\t190.9\t28.3\t    |\t120.5\t39.7\t60.7\n",
      "  3\t202.9\t60.7\t    |\t142.2\t27.7\t96.1\n",
      "  4\t194.2\t96.1\t    |\t119.9\t44.5\t129.1\n",
      "  5\t193.3\t129.1\t    |\t121.5\t41.1\t163.8\n",
      "  6\t197.7\t163.8\t    |\t144.5\t26.5\t195.1\n",
      "  7\t200.2\t195.1\t    |\t128.9\t41.5\t230.3\n",
      "  8\t203.1\t230.3\t    |\t143.6\t30.7\t265.1\n",
      "  9\t206.5\t265.1\t    |\t146.8\t29.0\t302.3\n",
      " 10\t210.3\t302.3\t    |\t144.4\t38.0\t337.4\n",
      " 11\t214.8\t337.4\t    |\t150.7\t32.2\t377.0\n",
      " 12\t192.4\t377.0\t    |\t128.5\t36.4\t413.0\n",
      " 13\t174.2\t413.0\t    |\t112.8\t36.3\t447.6\n",
      " 14\t166.3\t447.6\t    |\t101.9\t37.8\t484.7\n",
      " 15\t140.4\t484.7\t    |\t89.8\t26.3\t520.7\n",
      " 16\t147.9\t520.7\t    |\t96.6\t29.4\t555.5\n",
      " 17\t143.4\t555.5\t    |\t89.9\t32.4\t590.8\n",
      " 18\t149.9\t590.8\t    |\t103.4\t26.9\t625.6\n",
      " 19\t159.9\t625.6\t    |\t114.8\t27.3\t659.6\n",
      " 20\t167.3\t659.6\t    |\t124.2\t30.2\t689.6\n",
      " 21\t174.6\t689.6\t    |\t141.2\t24.4\t716.6\n",
      " 22\t175.1\t716.6\t    |\t119.0\t51.3\t740.3\n",
      " 23\t175.3\t740.3\t    |\t139.2\t35.6\t760.5\n",
      " 24\t174.8\t760.5\t    |\t126.8\t45.5\t783.7\n",
      " 25\t176.7\t783.7\t    |\t135.0\t39.8\t807.1\n",
      " 26\t183.4\t807.1\t    |\t139.4\t42.0\t831.5\n",
      " 27\t189.9\t831.5\t    |\t140.7\t45.9\t857.9\n",
      " 28\t189.7\t857.9\t    |\t156.8\t30.6\t883.9\n",
      " 29\t200.8\t883.9\t    |\t161.3\t38.4\t909.4\n",
      " 30\t199.8\t909.4\t    |\t160.1\t43.8\t930.4\n",
      " 31\t203.8\t930.4\t    |\t160.2\t47.6\t952.1\n",
      " 32\t207.5\t952.1\t    |\t166.6\t39.8\t979.4\n",
      " 33\t201.2\t979.4\t    |\t174.5\t35.2\t997.8\n",
      " 34\t199.7\t997.8\t    |\t173.4\t35.9\t1015.6\n",
      " 35\t188.9\t1015.6\t    |\t171.3\t41.2\t1020.0\n",
      " 36\t193.7\t1020.0\t    |\t166.5\t36.1\t1039.6\n",
      " 37\t191.7\t1039.6\t    |\t171.2\t34.3\t1055.0\n",
      " 38\t189.6\t1055.0\t    |\t170.6\t32.5\t1071.2\n",
      " 39\t182.1\t1071.2\t    |\t163.7\t35.9\t1084.1\n",
      " 40\t172.6\t1084.1\t    |\t158.8\t25.1\t1103.8\n",
      " 41\t168.2\t1103.8\t    |\t156.2\t43.7\t1103.9\n",
      " 42\t159.5\t1103.9\t    |\t148.4\t34.0\t1113.6\n",
      " 43\t140.1\t1113.6\t    |\t115.4\t37.1\t1135.0\n",
      " 44\t123.9\t1135.0\t    |\t115.8\t22.4\t1155.7\n",
      " 45\t124.2\t1155.7\t    |\t99.1\t43.9\t1173.3\n",
      " 46\t113.3\t1173.3\t    |\t118.7\t17.7\t1187.7\n",
      " 47\t123.8\t1187.7\t    |\t107.6\t37.8\t1205.0\n",
      " 48\t132.1\t1205.0\t    |\t116.6\t40.2\t1220.4\n",
      " 49\t136.7\t1220.4\t    |\t120.1\t42.7\t1235.6\n",
      " 50\t137.8\t1235.6\t    |\t136.6\t30.3\t1248.9\n",
      " 51\t132.1\t1248.9\t    |\t113.4\t44.5\t1266.6\n",
      " 52\t121.5\t1266.6\t    |\t112.1\t34.6\t1286.3\n",
      " 53\t115.0\t1286.3\t    |\t114.7\t25.1\t1307.7\n",
      " 54\t116.4\t1307.7\t    |\t113.1\t27.1\t1331.5\n",
      " 55\t110.6\t1331.5\t    |\t119.4\t17.0\t1354.5\n",
      " 56\t103.2\t1354.5\t    |\t103.8\t23.1\t1381.1\n",
      " 57\t97.7\t1381.1\t    |\t101.1\t25.0\t1404.4\n",
      " 58\t106.1\t1404.4\t    |\t108.3\t24.0\t1431.4\n",
      " 59\t102.7\t1431.4\t    |\t98.5\t31.0\t1459.4\n",
      " 60\t103.4\t1459.4\t    |\t101.9\t31.8\t1485.4\n",
      " 61\t111.7\t1485.4\t    |\t110.2\t32.1\t1512.6\n",
      " 62\t102.6\t1512.6\t    |\t96.8\t35.9\t1541.8\n",
      " 63\t96.4\t1541.8\t    |\t97.3\t33.3\t1568.5\n",
      " 64\t99.7\t1568.5\t    |\t96.4\t38.5\t1595.9\n",
      " 65\t108.2\t1595.9\t    |\t115.4\t32.2\t1620.5\n",
      " 66\t103.2\t1620.5\t    |\t114.0\t26.7\t1648.6\n",
      " 67\t95.7\t1648.6\t    |\t101.4\t32.7\t1677.4\n",
      " 68\t105.5\t1677.4\t    |\t98.8\t42.8\t1710.2\n",
      " 69\t108.3\t1710.2\t    |\t132.1\t16.5\t1740.1\n",
      " 70\t104.7\t1740.1\t    |\t116.7\t29.0\t1770.9\n",
      " 71\t106.6\t1770.9\t    |\t117.7\t32.1\t1801.0\n",
      " 72\t113.6\t1801.0\t    |\t117.4\t43.5\t1828.6\n",
      " 73\t97.8\t1828.6\t    |\t112.9\t35.3\t1854.7\n",
      " 74\t95.1\t1854.7\t    |\t105.2\t42.5\t1880.4\n",
      " 75\t92.1\t1880.4\t    |\t117.1\t30.4\t1904.8\n",
      " 76\t90.2\t1904.8\t    |\t107.4\t37.7\t1931.5\n",
      " 77\t79.6\t1931.5\t    |\t98.6\t37.4\t1958.6\n",
      " 78\t83.9\t1958.6\t    |\t105.7\t35.0\t1987.1\n",
      " 79\t91.9\t1987.1\t    |\t132.7\t17.8\t2015.2\n",
      " 80\t83.6\t2015.2\t    |\t113.9\t32.9\t2040.4\n",
      " 81\t86.6\t2040.4\t    |\t125.7\t25.7\t2065.7\n",
      " 82\t99.8\t2065.7\t    |\t125.4\t38.0\t2093.8\n",
      " 83\t97.6\t2093.8\t    |\t134.7\t28.7\t2121.3\n",
      " 84\t92.5\t2121.3\t    |\t128.9\t32.9\t2147.0\n",
      " 85\t101.1\t2147.0\t    |\t143.8\t29.5\t2171.2\n",
      " 86\t101.0\t2171.2\t    |\t156.9\t20.0\t2193.1\n",
      " 87\t105.9\t2193.1\t    |\t152.1\t28.7\t2217.5\n",
      " 88\t124.2\t2217.5\t    |\t170.2\t27.6\t2244.5\n",
      " 89\t117.8\t2244.5\t    |\t149.4\t40.9\t2274.1\n",
      " 90\t116.6\t2274.1\t    |\t165.2\t23.7\t2305.3\n",
      " 91\t107.7\t2305.3\t    |\t155.7\t24.4\t2338.0\n",
      " 92\t110.3\t2338.0\t    |\t162.3\t21.3\t2371.0\n",
      " 93\t101.6\t2371.0\t    |\t147.0\t29.6\t2404.1\n",
      " 94\t107.1\t2404.1\t    |\t149.8\t32.8\t2438.1\n",
      " 95\t108.1\t2438.1\t    |\t159.2\t29.0\t2469.0\n",
      " 96\t121.2\t2469.0\t    |\t177.3\t26.4\t2499.0\n",
      " 97\t120.2\t2499.0\t    |\t172.4\t29.8\t2530.7\n",
      " 98\t114.3\t2530.7\t    |\t169.0\t32.3\t2558.9\n",
      " 99\t121.8\t2558.9\t    |\t179.3\t31.5\t2586.6\n",
      "100\t129.6\t2586.6\t    |\t189.5\t29.5\t2615.1\n",
      "\n",
      "\n",
      "\n",
      "\n"
     ]
    },
    {
     "data": {
      "image/png": "[encoded data removed]",
      "text/plain": [
       "<Figure size 432x288 with 1 Axes>"
      ]
     },
     "metadata": {
      "needs_background": "light"
     },
     "output_type": "display_data"
    },
    {
     "data": {
      "image/png": "[encoded data removed]",
      "text/plain": [
       "<Figure size 432x288 with 2 Axes>"
      ]
     },
     "metadata": {},
     "output_type": "display_data"
    },
    {
     "data": {
      "image/png": "[encoded data removed]",
      "text/plain": [
       "<Figure size 432x288 with 2 Axes>"
      ]
     },
     "metadata": {},
     "output_type": "display_data"
    },
    {
     "data": {
      "image/png": "[encoded data removed]",
      "text/plain": [
       "<Figure size 432x288 with 2 Axes>"
      ]
     },
     "metadata": {},
     "output_type": "display_data"
    },
    {
     "data": {
      "image/png": "[encoded data removed]",
      "text/plain": [
       "<Figure size 432x288 with 2 Axes>"
      ]
     },
     "metadata": {},
     "output_type": "display_data"
    },
    {
     "data": {
      "image/png": "[encoded data removed]",
      "text/plain": [
       "<Figure size 432x288 with 2 Axes>"
      ]
     },
     "metadata": {},
     "output_type": "display_data"
    },
    {
     "data": {
      "image/png": "[encoded data removed]",
      "text/plain": [
       "<Figure size 432x288 with 2 Axes>"
      ]
     },
     "metadata": {},
     "output_type": "display_data"
    },
    {
     "data": {
      "image/png": "[encoded data removed]",
      "text/plain": [
       "<Figure size 432x288 with 2 Axes>"
      ]
     },
     "metadata": {},
     "output_type": "display_data"
    },
    {
     "data": {
      "image/png": "[encoded data removed]",
      "text/plain": [
       "<Figure size 432x288 with 2 Axes>"
      ]
     },
     "metadata": {},
     "output_type": "display_data"
    },
    {
     "data": {
      "image/png": "[encoded data removed]",
      "text/plain": [
       "<Figure size 432x288 with 2 Axes>"
      ]
     },
     "metadata": {},
     "output_type": "display_data"
    }
   ],
   "source": [
    "# the seed must be in range -2147483648 to 2147483647\n",
    "r.seed(12345)\n",
    "\n",
    "generateSeeds()\n",
    "\n",
    "setup(r,cmv.functionSeedList[0])\n",
    "\n",
    "cmv.actionList=[\"produceAll()\",\"payWagesAll()\",\\\n",
    "                \"buyConsumptionOrInvestmentGoodsAll(r,cmv.functionSeedList[3])\",\\\n",
    "                \"computeAndApplyInterestsAll()\",\"makeBalanceSheetAll()\",\\\n",
    "                \"distributeDividendAll()\",\"accountCashMoneyAll()\",\\\n",
    "                \"accountCheckingAccountAll()\",\"accountBankAccountAll()\",\\\n",
    "                \"makeBankFinancialAccountsAll()\"\\\n",
    "                ]\n",
    "\n",
    "for cmv.cycle in range(cmv.ncycles):\n",
    "    for anAction in cmv.actionList:\n",
    "            exec(anAction)\n",
    "\n",
    "makeHist() \n",
    "plot1()\n",
    "plot2()\n",
    "plot3()\n",
    "plot4()\n",
    "plot5()\n",
    "plot6()\n",
    "plot7()\n",
    "plot8()\n",
    "plot9()\n",
    "\n",
    "nationalAccounts()"
   ]
  },
  {
   "cell_type": "code",
   "execution_count": 9,
   "id": "typical-washer",
   "metadata": {},
   "outputs": [
    {
     "data": {
      "text/plain": [
       "[189, 66, 61, 64, 197, 126, 165]"
      ]
     },
     "execution_count": 9,
     "metadata": {},
     "output_type": "execute_result"
    }
   ],
   "source": [
    "list(cmv.firmList[i].num for i in range(cmv.firmNum))"
   ]
  },
  {
   "cell_type": "code",
   "execution_count": 10,
   "id": "sized-charge",
   "metadata": {},
   "outputs": [
    {
     "data": {
      "text/plain": [
       "[74, 22, 64, 61, 189, 165, 66]"
      ]
     },
     "execution_count": 10,
     "metadata": {},
     "output_type": "execute_result"
    }
   ],
   "source": [
    "list(cmv.entrepreneurList[i].num for i in range(cmv.firmNum))"
   ]
  },
  {
   "cell_type": "code",
   "execution_count": 11,
   "id": "sufficient-darkness",
   "metadata": {
    "scrolled": true
   },
   "outputs": [],
   "source": [
    "# last cycle\n",
    "tCashNe=0\n",
    "for anA in cmv.agentList:\n",
    "    if not anA.entrepreneur: tCashNe+=anA.cashMoney\n",
    "\n",
    "tCashE=0\n",
    "for anA in cmv.agentList:\n",
    "    if anA.entrepreneur: tCashE+=anA.cashMoney"
   ]
  },
  {
   "cell_type": "code",
   "execution_count": 12,
   "id": "vocal-transparency",
   "metadata": {
    "scrolled": true
   },
   "outputs": [
    {
     "data": {
      "text/plain": [
       "0"
      ]
     },
     "execution_count": 12,
     "metadata": {},
     "output_type": "execute_result"
    }
   ],
   "source": [
    "tCashNe"
   ]
  },
  {
   "cell_type": "code",
   "execution_count": 13,
   "id": "intelligent-powell",
   "metadata": {
    "scrolled": true
   },
   "outputs": [
    {
     "data": {
      "text/plain": [
       "0"
      ]
     },
     "execution_count": 13,
     "metadata": {},
     "output_type": "execute_result"
    }
   ],
   "source": [
    "tCashE"
   ]
  },
  {
   "cell_type": "code",
   "execution_count": 14,
   "id": "native-textbook",
   "metadata": {
    "scrolled": true
   },
   "outputs": [],
   "source": [
    "tC=0\n",
    "for i in range(cmv.ncycles):\n",
    "    tC+=cmv.totalConsumptionSeries[i]"
   ]
  },
  {
   "cell_type": "code",
   "execution_count": 15,
   "id": "smart-employment",
   "metadata": {
    "scrolled": true
   },
   "outputs": [
    {
     "data": {
      "text/plain": [
       "13170.357632944308"
      ]
     },
     "execution_count": 15,
     "metadata": {},
     "output_type": "execute_result"
    }
   ],
   "source": [
    "tC"
   ]
  },
  {
   "cell_type": "code",
   "execution_count": 16,
   "id": "distinguished-bacon",
   "metadata": {
    "scrolled": true
   },
   "outputs": [],
   "source": [
    "tCE=0\n",
    "for i in range(cmv.ncycles):\n",
    "    tCE+=cmv.totalEntrepreneurConsumptionSeries[i]"
   ]
  },
  {
   "cell_type": "code",
   "execution_count": 17,
   "id": "alive-electricity",
   "metadata": {
    "scrolled": true
   },
   "outputs": [
    {
     "data": {
      "text/plain": [
       "597.7053045481896"
      ]
     },
     "execution_count": 17,
     "metadata": {},
     "output_type": "execute_result"
    }
   ],
   "source": [
    "tCE"
   ]
  },
  {
   "cell_type": "code",
   "execution_count": 18,
   "id": "sufficient-placement",
   "metadata": {
    "scrolled": true
   },
   "outputs": [],
   "source": [
    "tCNe=0\n",
    "for i in range(cmv.ncycles):\n",
    "    tCNe+=cmv.totalNonEntrepreneurConsumptionSeries[i]"
   ]
  },
  {
   "cell_type": "code",
   "execution_count": 19,
   "id": "regional-somerset",
   "metadata": {
    "scrolled": true
   },
   "outputs": [
    {
     "data": {
      "text/plain": [
       "12572.652328396118"
      ]
     },
     "execution_count": 19,
     "metadata": {},
     "output_type": "execute_result"
    }
   ],
   "source": [
    "tCNe"
   ]
  },
  {
   "cell_type": "code",
   "execution_count": 20,
   "id": "great-dublin",
   "metadata": {
    "scrolled": true
   },
   "outputs": [],
   "source": [
    "tI=0\n",
    "for i in range(cmv.ncycles):\n",
    "    tI+=cmv.totalInvestmentSeries[i]"
   ]
  },
  {
   "cell_type": "code",
   "execution_count": 21,
   "id": "responsible-appendix",
   "metadata": {
    "scrolled": true
   },
   "outputs": [
    {
     "data": {
      "text/plain": [
       "3315.9602190044566"
      ]
     },
     "execution_count": 21,
     "metadata": {},
     "output_type": "execute_result"
    }
   ],
   "source": [
    "tI"
   ]
  },
  {
   "cell_type": "code",
   "execution_count": 22,
   "id": "fancy-geography",
   "metadata": {},
   "outputs": [
    {
     "data": {
      "text/plain": [
       "[94.7301654010125,\n",
       " 175.9991865454066,\n",
       " 236.1265152747569,\n",
       " 319.4211997962177,\n",
       " 401.9240285580495,\n",
       " 461.9545286437089,\n",
       " 538.4337177014404,\n",
       " 600.816993773001,\n",
       " 660.5401516441509,\n",
       " 723.3352244392154,\n",
       " 780.3271384293477,\n",
       " 860.3358476787377,\n",
       " 956.9916696086995,\n",
       " 1065.6030706910208,\n",
       " 1187.5340927068673,\n",
       " 1303.8547007706077,\n",
       " 1428.0569358178302,\n",
       " 1539.8752138706977,\n",
       " 1641.3141265428733,\n",
       " 1734.235626241365,\n",
       " 1810.9262010685625,\n",
       " 1910.8744128628935,\n",
       " 1991.386553504866,\n",
       " 2085.194069113205,\n",
       " 2171.7295577653817,\n",
       " 2254.6484978481803,\n",
       " 2337.0581502320438,\n",
       " 2404.0217992343987,\n",
       " 2467.104730534242,\n",
       " 2532.0467058366994,\n",
       " 2597.5536632119183,\n",
       " 2657.235713644895,\n",
       " 2709.561523381439,\n",
       " 2763.5264615964093,\n",
       " 2820.198594634849,\n",
       " 2882.2017520190025,\n",
       " 2940.132506179688,\n",
       " 2999.237255422638,\n",
       " 3065.901795665269,\n",
       " 3138.14285380769,\n",
       " 3213.7410643473113,\n",
       " 3297.949634653651,\n",
       " 3416.4097077324254,\n",
       " 3535.615742045432,\n",
       " 3672.9096160882564,\n",
       " 3791.747524546238,\n",
       " 3922.9964518494735,\n",
       " 4046.483463472567,\n",
       " 4167.628272598584,\n",
       " 4273.347293478294,\n",
       " 4403.497661435941,\n",
       " 4536.271204817158,\n",
       " 4667.812189373295,\n",
       " 4802.309474272468,\n",
       " 4931.6976359216205,\n",
       " 5078.205454257902,\n",
       " 5228.875666285883,\n",
       " 5373.749230907294,\n",
       " 5530.016628394502,\n",
       " 5684.41023815479,\n",
       " 5831.912820250289,\n",
       " 5994.436183790712,\n",
       " 6158.064857963938,\n",
       " 6324.237154099782,\n",
       " 6472.894930001195,\n",
       " 6624.4561813828495,\n",
       " 6790.266574622479,\n",
       " 6960.430565387525,\n",
       " 7098.569056094498,\n",
       " 7253.726141992486,\n",
       " 7409.355918427605,\n",
       " 7566.852937585429,\n",
       " 7730.469787211464,\n",
       " 7903.509755979599,\n",
       " 8066.300971289158,\n",
       " 8240.539300178856,\n",
       " 8425.406631064434,\n",
       " 8604.93609581998,\n",
       " 8758.918603690801,\n",
       " 8933.426523097318,\n",
       " 9097.835590071114,\n",
       " 9264.112766475551,\n",
       " 9422.681743583404,\n",
       " 9588.75060478899,\n",
       " 9741.376982686543,\n",
       " 9882.29836756827,\n",
       " 10029.465744633944,\n",
       " 10159.847816603078,\n",
       " 10312.547303699139,\n",
       " 10450.813323839104,\n",
       " 10600.098122951651,\n",
       " 10744.217184556654,\n",
       " 10905.211934978955,\n",
       " 11064.921457134535,\n",
       " 11216.739412557272,\n",
       " 11351.87207894486,\n",
       " 11493.249173062683,\n",
       " 11639.46705591174,\n",
       " 11776.747746887519,\n",
       " 11905.106115598222]"
      ]
     },
     "execution_count": 22,
     "metadata": {},
     "output_type": "execute_result"
    }
   ],
   "source": [
    "cmv.totalCheckingAccountSeries"
   ]
  },
  {
   "cell_type": "code",
   "execution_count": 23,
   "id": "thorough-thesaurus",
   "metadata": {},
   "outputs": [
    {
     "data": {
      "text/plain": [
       "[-41.095174797012945,\n",
       " -63.02445700890037,\n",
       " -65.13416167441335,\n",
       " -79.33247896364382,\n",
       " -101.16791247785264,\n",
       " -94.24621322054972,\n",
       " -105.129856865953,\n",
       " -105.46636905669216,\n",
       " -101.9376429741225,\n",
       " -97.32035967316874,\n",
       " -90.84397920636408,\n",
       " -101.82894276716372,\n",
       " -124.9090052813147,\n",
       " -161.4416600448548,\n",
       " -201.7303077356741,\n",
       " -233.71924653669348,\n",
       " -265.8678634173948,\n",
       " -284.851148806408,\n",
       " -292.3123207384123,\n",
       " -289.27168314369464,\n",
       " -272.67070409605446,\n",
       " -265.51716429816656,\n",
       " -252.78885409993734,\n",
       " -247.2621792692146,\n",
       " -231.31530812887044,\n",
       " -207.66618219120625,\n",
       " -184.04527289880082,\n",
       " -154.69436400471784,\n",
       " -117.93002918391895,\n",
       " -80.83844981716919,\n",
       " -52.09788010334958,\n",
       " -13.374386840048885,\n",
       " 30.89192548652862,\n",
       " 75.35852419155616,\n",
       " 109.57261245770917,\n",
       " 136.94088633977094,\n",
       " 167.3709431383808,\n",
       " 197.8025309309997,\n",
       " 223.23730556517336,\n",
       " 240.74110646316512,\n",
       " 266.2809858602254,\n",
       " 278.3881755232476,\n",
       " 259.06692203035175,\n",
       " 236.80021850668157,\n",
       " 207.3018260567731,\n",
       " 195.61020567578407,\n",
       " 180.02939835471102,\n",
       " 178.3485362365335,\n",
       " 180.19481399856033,\n",
       " 196.30785527687203,\n",
       " 189.6094911913403,\n",
       " 189.67173451989242,\n",
       " 192.96254891315772,\n",
       " 194.13108599300006,\n",
       " 200.83341785238395,\n",
       " 198.30267853633993,\n",
       " 189.7845506109196,\n",
       " 190.04907109959302,\n",
       " 185.4093329529258,\n",
       " 187.29583822168507,\n",
       " 198.37391010861202,\n",
       " 196.9235664462286,\n",
       " 190.7310485331629,\n",
       " 188.57408092561764,\n",
       " 200.02959133166178,\n",
       " 207.31840916437525,\n",
       " 205.6315184580448,\n",
       " 206.17047568194027,\n",
       " 234.91483873032317,\n",
       " 251.46658033608693,\n",
       " 267.32435601654527,\n",
       " 286.2203629738279,\n",
       " 305.1937923645672,\n",
       " 317.64420684303195,\n",
       " 335.9604942032919,\n",
       " 351.6155942314171,\n",
       " 357.56992645618146,\n",
       " 371.5658918001638,\n",
       " 411.17200970311154,\n",
       " 429.14971668077345,\n",
       " 461.27687164862147,\n",
       " 492.5738433700542,\n",
       " 535.5193141087555,\n",
       " 573.6944872834326,\n",
       " 623.7203793476552,\n",
       " 685.056289445861,\n",
       " 745.9039918510846,\n",
       " 820.9438302592467,\n",
       " 872.9881694059543,\n",
       " 937.624233186801,\n",
       " 997.8880697516583,\n",
       " 1063.4024223285712,\n",
       " 1114.3427990796627,\n",
       " 1169.8844781894447,\n",
       " 1235.465210908992,\n",
       " 1314.4757811269824,\n",
       " 1392.1107659558832,\n",
       " 1467.8518742320764,\n",
       " 1557.7318437879137,\n",
       " 1657.8119812707691]"
      ]
     },
     "execution_count": 23,
     "metadata": {},
     "output_type": "execute_result"
    }
   ],
   "source": [
    "cmv.totalBankAccountSeries"
   ]
  },
  {
   "cell_type": "code",
   "execution_count": 24,
   "id": "auburn-mainstream",
   "metadata": {},
   "outputs": [
    {
     "name": "stdout",
     "output_type": "stream",
     "text": [
      "7\n",
      "33\n"
     ]
    }
   ],
   "source": [
    "for anItem in cmv.bankList:\n",
    "    print(len(anItem.myWorkers))"
   ]
  },
  {
   "cell_type": "code",
   "execution_count": 25,
   "id": "biblical-vaccine",
   "metadata": {
    "scrolled": true
   },
   "outputs": [
    {
     "name": "stdout",
     "output_type": "stream",
     "text": [
      "74 [1, 3, 4, 6, 7, 8, 11, 13, 15, 17, 18, 19, 20, 22, 23, 25, 29, 31, 32, 33, 34, 37, 38, 39, 41, 42, 43, 52, 53, 56, 57, 58, 62, 63, 64, 67, 69, 70, 72, 73, 74, 76, 77, 78, 79, 80, 84, 85, 86, 88, 89, 90, 92, 94, 95, 96, 102, 106, 107, 108, 111, 112, 122, 129, 130, 131, 132, 135, 139, 141, 145, 146, 148, 149, 154, 159, 163, 166, 167, 169, 171, 173, 174, 178, 179, 181, 182, 186, 187, 188, 189, 190, 193, 194, 195, 197, 198, 199, 200]\n",
      "74 [64, 189, 165, 66, 197, 126]\n",
      "22 [2, 5, 9, 10, 12, 14, 16, 21, 24, 26, 27, 28, 30, 35, 36, 40, 44, 45, 46, 47, 48, 49, 50, 51, 54, 55, 59, 60, 61, 65, 66, 68, 71, 75, 81, 82, 83, 87, 91, 93, 97, 98, 99, 100, 101, 103, 104, 105, 109, 110, 113, 114, 115, 116, 117, 118, 119, 120, 121, 123, 124, 125, 126, 127, 128, 133, 134, 136, 137, 138, 140, 142, 143, 144, 147, 150, 151, 152, 153, 155, 156, 157, 158, 160, 161, 162, 164, 165, 168, 170, 172, 175, 176, 177, 180, 183, 184, 185, 191, 192, 196]\n",
      "22 [61]\n"
     ]
    }
   ],
   "source": [
    "for aBank in cmv.bankList:\n",
    "    print(aBank.num, list(aBank.myPrivateClients[i].num \\\n",
    "                          for i in range(len(aBank.myPrivateClients))))\n",
    "    print(aBank.num, list(aBank.myCommercialClients[i].num \\\n",
    "                          for i in range(len(aBank.myCommercialClients))))"
   ]
  },
  {
   "cell_type": "code",
   "execution_count": 26,
   "id": "timely-dairy",
   "metadata": {},
   "outputs": [
    {
     "name": "stdout",
     "output_type": "stream",
     "text": [
      "74 -5922.7864816891315 0 -1903.3848828956097 -370.5831600736674\n",
      "22 -5982.319633909095 0 -125.01025844882675 0\n"
     ]
    }
   ],
   "source": [
    "for aBank in cmv.bankList:\n",
    "    print(aBank.num, aBank.myDebtsVsAgents, aBank.myCreditsVsAgents,\\\n",
    "                     aBank.myDebtsVsFirms,  aBank.myCreditsVsFirms)  "
   ]
  },
  {
   "cell_type": "code",
   "execution_count": 27,
   "id": "intimate-church",
   "metadata": {},
   "outputs": [
    {
     "name": "stdout",
     "output_type": "stream",
     "text": [
      "74 0 0\n",
      "22 0 0\n"
     ]
    }
   ],
   "source": [
    "for aBank in cmv.bankList:\n",
    "    #aBank.computeAndApplyInterests()\n",
    "    print(aBank.num,aBank.interestOnDeposits,aBank.interestOnLoans)"
   ]
  },
  {
   "cell_type": "code",
   "execution_count": 28,
   "id": "novel-belfast",
   "metadata": {},
   "outputs": [
    {
     "data": {
      "text/plain": [
       "False"
      ]
     },
     "execution_count": 28,
     "metadata": {},
     "output_type": "execute_result"
    }
   ],
   "source": [
    "cmv.bankList[1].myEntrepreneur in cmv.bankList[1].myPrivateClients"
   ]
  },
  {
   "cell_type": "code",
   "execution_count": 29,
   "id": "tutorial-hamburg",
   "metadata": {},
   "outputs": [
    {
     "data": {
      "text/plain": [
       "7"
      ]
     },
     "execution_count": 29,
     "metadata": {},
     "output_type": "execute_result"
    }
   ],
   "source": [
    "len(cmv.bankList[0].myWorkers)"
   ]
  },
  {
   "cell_type": "code",
   "execution_count": 30,
   "id": "structural-variance",
   "metadata": {},
   "outputs": [
    {
     "data": {
      "text/plain": [
       "1"
      ]
     },
     "execution_count": 30,
     "metadata": {},
     "output_type": "execute_result"
    }
   ],
   "source": [
    "cmv.agentList[0].num"
   ]
  },
  {
   "cell_type": "code",
   "execution_count": 31,
   "id": "electoral-story",
   "metadata": {},
   "outputs": [
    {
     "data": {
      "text/plain": [
       "0.5759236412983152"
      ]
     },
     "execution_count": 31,
     "metadata": {},
     "output_type": "execute_result"
    }
   ],
   "source": [
    "cmv.bankList[0].r.random()"
   ]
  },
  {
   "cell_type": "code",
   "execution_count": 32,
   "id": "duplicate-smooth",
   "metadata": {},
   "outputs": [
    {
     "data": {
      "text/plain": [
       "[<__main__.Firm at 0x7f9814497e50>,\n",
       " <__main__.Firm at 0x7f9814497bb0>,\n",
       " <__main__.Firm at 0x7f9814497f40>,\n",
       " <__main__.Firm at 0x7f9814497e80>,\n",
       " <__main__.Firm at 0x7f9814497e20>,\n",
       " <__main__.Firm at 0x7f98144970d0>]"
      ]
     },
     "execution_count": 32,
     "metadata": {},
     "output_type": "execute_result"
    }
   ],
   "source": [
    "cmv.bankList[0].myCommercialClients"
   ]
  },
  {
   "cell_type": "code",
   "execution_count": null,
   "id": "middle-female",
   "metadata": {},
   "outputs": [],
   "source": []
  },
  {
   "cell_type": "code",
   "execution_count": null,
   "id": "regulation-louisville",
   "metadata": {},
   "outputs": [],
   "source": []
  }
 ],
 "metadata": {
  "kernelspec": {
   "display_name": "Python 3",
   "language": "python",
   "name": "python3"
  },
  "language_info": {
   "codemirror_mode": {
    "name": "ipython",
    "version": 3
   },
   "file_extension": ".py",
   "mimetype": "text/x-python",
   "name": "python",
   "nbconvert_exporter": "python",
   "pygments_lexer": "ipython3",
   "version": "3.9.7"
  }
 },
 "nbformat": 4,
 "nbformat_minor": 5
}
