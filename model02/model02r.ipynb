{
 "cells": [
  {
   "cell_type": "markdown",
   "id": "naval-nomination",
   "metadata": {},
   "source": [
    "### Un altro passo: arrivano le banche!\n",
    "#### Sempre in azione l'*Istituto Centrale di Statistica* con a fianco la *Banca d'Italia*\n",
    "\n",
    "use it in [Notebook viewer](https://nbviewer.org/github/terna/ejmmp/blob/main/model02/model02.ipynb) or explore it in [GitHub](https://github.com/terna/ejmmp/tree/main/model02) (with the tools.py and metaActions.py files)\n",
    "\n",
    "to force the updatem if missing, follow once [Notebook viewer and flush cache](https://nbviewer.org/github/terna/ejmmp/blob/main/model02/model02.ipynb?flush_cache=true)\n",
    "\n",
    "[Wikipedia as a memo](https://en.wikipedia.org/wiki/Stock-flow_consistent_model#cite_note-42)"
   ]
  },
  {
   "cell_type": "code",
   "execution_count": 1,
   "id": "latter-survey",
   "metadata": {
    "scrolled": true
   },
   "outputs": [
    {
     "data": {
      "application/javascript": [
       "// to avoid scroll in windows\n",
       "IPython.OutputArea.prototype._should_scroll = function(lines) {\n",
       "    return false;\n",
       "}\n"
      ],
      "text/plain": [
       "<IPython.core.display.Javascript object>"
      ]
     },
     "metadata": {},
     "output_type": "display_data"
    }
   ],
   "source": [
    "%%javascript\n",
    "// to avoid scroll in windows\n",
    "IPython.OutputArea.prototype._should_scroll = function(lines) {\n",
    "    return false;\n",
    "}"
   ]
  },
  {
   "cell_type": "code",
   "execution_count": 2,
   "id": "large-brooks",
   "metadata": {},
   "outputs": [],
   "source": [
    "%matplotlib inline\n",
    "import random as r\n",
    "import matplotlib.pyplot as plt\n",
    "import commonVar as cmv\n",
    "import numpy as np\n",
    "from tools import *\n",
    "from metaActions import *\n",
    "from generateSeeds import *\n",
    "import sys"
   ]
  },
  {
   "cell_type": "markdown",
   "id": "prostate-shadow",
   "metadata": {},
   "source": [
    "### Stock-flow *model02*, with real and financial elements\n",
    "\n",
    "- The model also consider the monetary side of the economy.\n",
    "\n",
    "  \n",
    "\n",
    "- We have to initialize loans and capital stocks.\n",
    "\n",
    "  \n",
    "\n",
    "- Currently, entrepreneurs have unlimited funds that they put freely in their activities, balancing other agent negative cash, if any.\n",
    "\n",
    "  \n",
    "\n",
    "- Saving is abstension from consuming, increasing agents' liquidity.\n",
    "\n",
    "\n",
    "\n",
    "- Investments are uniquely for replacement, without technical progress.\n",
    "\n",
    "  "
   ]
  },
  {
   "cell_type": "markdown",
   "id": "comparable-matthew",
   "metadata": {},
   "source": [
    "### symbol table\n",
    "\n",
    "[symbol table](https://oeis.org/wiki/List_of_LaTeX_mathematical_symbols) in $\\LaTeX$\n",
    "\n",
    "$a_i$ -  with $a_i \\in \\mathbf{A}$; agent number $N=|\\mathbf{A}|$, `agentList` and`agentNum`\n",
    "\n",
    "$a^e_i$ -  with $a^e_i \\in \\mathbf{A^e}$ and $\\mathbf{A^e} \\subset \\mathbf{A}$; employer number $N^e=|\\mathbf{A^e}|$ in range $[N^e_{min},N^e_{max}]$, `employerList`\n",
    "\n",
    "$\\mathbf{F}$ - firms' set, with $f_j \\in \\mathbf{F}$ being $N^f = |\\mathbf{F}|$,  with $N^f = |\\mathbf{F}| = |\\mathbf{A^e}|$ , `firmList`\n",
    "\n",
    "$\\mathbf{A}^w$ - working agents' set, being $\\mathbf{A}^w \\subseteq \\mathbf{A}$, with $N^w_i=|\\mathbf{A}^w_i|$ number of working agents employed by employer $i$, also including self-employed employers, with $a_i \\in \\mathbf{A}^e$\n",
    "\n",
    "$\\mathbf{B}$ - banks' set, with $b_j \\in \\mathbf{B}$ being $N^b = |\\mathbf{B}|$, `bankList`\n",
    "\n",
    "$x^d$ - interest rate on deposits, `interestRateOnDeposits`\n",
    "\n",
    "$x^{l^a}$ - interest rate on loans to (private) agents, `interestRateOnLoansVsAgents`\n",
    "\n",
    "$x^{l^f}$ - interest rate on loans to firms, `interestRateOnLoansVsFirms`\n",
    "\n",
    "$X^d_{a|f|b}$ - amount of positive interest on deposits for a given interval $t$ for agents $a$ or firms $f$, and negative for banks $b$, `interestOnDeposits`\n",
    "\n",
    "$X^l_{a|f|b}$ - amount of negative interest on loanss for a given interval $t$ for agents $a$ or firms $f$, and positive for banks $b$, `interestOnLoans`\n",
    "\n",
    "$p$ - price `price`\n",
    "\n",
    "$u$ - unemployment rate `unemploymentRate`\n",
    "\n",
    "$dimensional~heterogeneity$ is a $true/false$ chooser, forcing increasing firms to attract more workers. `dimensionalHeterogeneity`\n",
    "\n",
    "$\\pi_{i,t}$ - labor productivity, a uniformly distributed decimal number in range $[\\pi_{min},\\pi_{max}]$,`productivity`\n",
    "\n",
    "&Delta;$\\pi_{i,t}$ - uniperiodal additive productivity correction in range $[$&Delta;$\\pi_{min},$ &Delta;$\\pi_{max}]$, `productivityDelta`\n",
    "\n",
    "$n_{i,t}$ - number of workers in a firm\n",
    "\n",
    "$q_{i,t}$ - production in quantity, `production`\n",
    "\n",
    "$\\Pi_{i,t}$ - profit, `profit`\n",
    "\n",
    "$\\rho$ - dividend distribution share, `rho`\n",
    "\n",
    "$W$ - wage `wage`\n",
    "\n",
    "$R_{i,t}$ - revenues, `revenues`\n",
    "\n",
    "$s_{i,t}$ - sales in quantity, `sales`\n",
    "\n",
    "$v_{i,t}$ - in**v**entories (final, initial), `initialInventories`, `finalInventories`\n",
    "\n",
    "$d_{i}$ - deperibility share of the production, `deperibilityShare`, setting $d_{max}$\n",
    "\n",
    "$c_{i,t}$ - consumption rate, a uniformly distributed decimal number in range $[c_{min},c_{max}]$,`consumptionRate`\n",
    "\n",
    "$C_{i,t}$ - consumption of $i$ in $t$\n",
    "\n",
    "$I_{i,t}$  - investment plan  of $i$ in $t$, a uniformly distributed realization in range $[I_{min},I_{max}]$,`investmentProgram`\n",
    "\n",
    "$H_{i,t}$  - high powered money (cash) held by individuals (also acting as employers), `cashMoney`\n",
    "\n",
    "$M1_{i,t}$ - checking account money deposits held by  $a_i$ at time $t$, `checkingAccount`\n",
    "\n",
    "$M1^f_{i,t}$ - firm's bank account (with positive or negative balance), `bankAccount`\n",
    "\n",
    "the investment and consumption actions are repeated in each cycle, looking around randomly for the sellers; currently `nOfConsumptionActions` $=30$ and `nOfInvestmentActions`$=10$; each consumption buy action is at maximum the 20% of the planned consumptions in that cycle; instead, each investment buy action can reach the whole amount of the investment program of the cycle; each buy action is limited by the residual capabilty of the seller\n",
    "\n",
    "**magically**, the same good can be a consumption item or an investment one\n",
    "\n",
    "$T$ - number of cycles `ncycles`\n",
    "\n",
    "$t$ - current cycle `cycle`\n"
   ]
  },
  {
   "cell_type": "markdown",
   "id": "broke-marathon",
   "metadata": {},
   "source": [
    "## agent structure\n",
    "\n",
    "The structure of an **agent**: it can represent an entrepreneur, a worker, an unemployed person.\n",
    "\n",
    "When an agent is created, the **initialization process** defines:\n",
    "\n",
    "- its numerical id, `num`\n",
    "- its entrepreneur status, `entrepreneur`, set to $false$\n",
    "- the id of its employer, `myEmployer`, set to $0$\n",
    "- if entrepreneur, the id of its firm, `myFirm`, set to $0$\n",
    "- $c_{i,0}$ - consumption rate, set to $0$\n",
    "- $H_{i,0}$ - cash money, set to $0$ \n",
    "- $M1_{i,0}$ - checking account money deposits, set to $0$\n",
    "\n",
    "## firm structure\n",
    "\n",
    "- $R_{i,0}$ - `revenues`, initial value  $0$\n",
    "- $s_{i,0}$ - `sales`, initial value  $0$\n",
    "- $v^i_{i,0}$ - in**v**entories, `initialInventories`, set to $0$ \n",
    "- $v^f_{i,0}$ - in**v**entories, `finalInventories`, set to $0$ \n",
    "- $d_{i}$ - deperibility share, a uniformly distributed decimal number in range $[0,d_{max}]$,`deperibilityShare`\n",
    "- $I_{i,0}$  - investment plan, set to $0$\n",
    "- $\\Pi_{i,0}$ - profit, set to $0$, being the related dividend $D_{i,0}$, set to $0$\n",
    "- $M1^f_{i,0}$ - firm's bank account, set to $0$\n",
    "- $\\pi_{i,t-1}$ set within the initialization step\n",
    "\n",
    "## bank structure\n",
    "\n",
    "- $R_{i,0}$ - `revenues`, initial value  $0$\n",
    "- $I_{i,0}$  - investment plan, set to $0$\n",
    "- $\\Pi_{i,0}$ - profit, set to $0$, being the related dividend $D_{i,0}$, set to $0$\n",
    "- $M1^b_{i,0}$ - bank's account mantained with the central bank, set to $0$\n",
    "- $\\pi_{i,t-1}$ set within the initialization step\n",
    "\n",
    "\n",
    "\n",
    "each **agent** has the **functions**:\n",
    "\n",
    "- **buyConsumptionGoods** \n",
    "\n",
    "  $C_{i,t}=c_{i,t} (W+D_{i,t-1}+X^d_{i,t-1}-X^l_{i,t-1})$; using $D_{i,t-1},X^d_{i,t-1},X^l_{i,t-1}$ we introduce lags with (possible) cyclical effect\n",
    "\n",
    "  being $bu$ the buyer and $se$ the seller (firm), for each fraction $C_{i,t}/k$ \n",
    "\n",
    "  ($k$ is the number of buying actions in each cycle with random share [0,cmv.maxConsumptionShareInSubstep))\n",
    "\n",
    "  &Delta;$M1^f_{se,t}=C_{bu,t}/k$\n",
    "\n",
    "  &Delta;$M1_{bu,t}=-C_{bu,t}/k$\n",
    "\n",
    "\n",
    "\n",
    "\n",
    "each **firm** has the **functions**:\n",
    "\n",
    "- **produce** function, with:\n",
    "\n",
    "  $\\pi_{i,t}=\\pi_{i,t-1}+$&Delta;$\\pi_{i,t}$\n",
    "\n",
    "  $q_{i,t}=n_{i,t} \\pi_{i,t}$\n",
    "\n",
    "  \n",
    "\n",
    "- **payWages**\n",
    "\n",
    "  paying $W$ to each worker in each time $t$\n",
    "\n",
    "  &Delta;$M1_{i,t}=W$ for  $a_i \\in \\mathbf{A}^w$ \n",
    "\n",
    "  &Delta;$M1^f_{i,t}=-W \\mathbf{N}^w_i$ for $a_i \\in \\mathbf{A}^e$ \n",
    "\n",
    "  \n",
    "\n",
    "- **buyInvestmentGoods**\n",
    "\n",
    "  $I_{j,t}$ for $f_j \\in \\mathbf{F}$  ($I_{j,t}$ is exogenously set)\n",
    "\n",
    "  being $bu$ the buyer (firm) and $se$ the seller (firm), for each fraction $I_{j,t}/k$\n",
    "\n",
    "  ($k$ is the number of investment actions in each cycle, with random share [0,cmv.maxInvestmentShareInSubstep))\n",
    "\n",
    "  &Delta;$M1^f_{se,t}=I_{bu,t}/k$\n",
    "\n",
    "  &Delta;$M1^f_{bu,t}=-I_{bu,t}/k$\n",
    "\n",
    "  \n",
    "\n",
    "- **makeBalanceSheet**\n",
    "\n",
    "  $v^f_{i,t}=v^i_{i,t}+(q_{i,t}-s_{i,t}) (1 - d_{i})$\n",
    "\n",
    "  $R_{i,t}=p s_{i,t}+X^d_{i,t}$\n",
    "\n",
    "  $\\Pi_{i,t}=R_{i,t}-W n_{i,t}-X^l_{i,t}-p(v^f_{i,t}-v^i_{i,t})$\n",
    "\n",
    "\n",
    "\n",
    "each **bank** has the **functions**:\n",
    "\n",
    "- **produce** function, with:\n",
    "\n",
    "​\t\t\t\t$\\pi_{i,t}=\\pi_{i,t-1}+$&Delta;$\\pi_{i,t}$\n",
    "\n",
    "​\t\t\t\t$q_{i,t}=n_{i,t} \\pi_{i,t}-X^d_b-X^l_b$ NB not production, <p style=\"color:red\">added value</p>\n",
    "\n",
    "​\t\t\t\t$X^d_b<0$ in def, here addendum of add. value and cost???????????????????\n",
    "\n",
    "​\t\t\t\t$X^l_b<0$ if the b. is borrower so cost???????????????????\n",
    "\n",
    "to be completed **:-)**\n",
    "\n"
   ]
  },
  {
   "cell_type": "code",
   "execution_count": 3,
   "id": "found-bibliography",
   "metadata": {
    "scrolled": false
   },
   "outputs": [],
   "source": [
    "class Agent():\n",
    "    def __init__(self, num,r,seed):\n",
    "        self.num=num\n",
    "        self.entrepreneur=False\n",
    "        #self.myFirm=0\n",
    "        self.myEnterprise=0\n",
    "        self.myEmployer=0\n",
    "        self.consumptionRate=0\n",
    "        self.cashMoney=0\n",
    "        self.checkingAccount=0\n",
    "        self.perceivedWage=0\n",
    "        self.perceivedDividend=0\n",
    "        self.myBank=0\n",
    "        self.interestOnDeposits=0\n",
    "        self.interestOnLoans=0\n",
    "        self.r=r.Random()\n",
    "        self.r.seed(seed)\n",
    "\n",
    "    def buyConsumptionGoods(self,k):\n",
    "        if k==0: \n",
    "            self.consumptionRate=self.r.uniform(cmv.consumptionRateMin,cmv.consumptionRateMax)\n",
    "            self.consumption=(self.perceivedWage+self.perceivedDividend+\\\n",
    "                self.interestOnDeposits-self.interestOnLoans)*self.consumptionRate\n",
    "            if self.consumption < 0: self.consumption=0 \n",
    "\n",
    "            self.interestOnDeposits=0\n",
    "            self.interestOnLoans=0\n",
    "            self.perceivedWage=0\n",
    "            self.perceivedDividend=0\n",
    "            self.madeConsumption=0\n",
    "                \n",
    "        self.r.shuffle(cmv.firmList)\n",
    "        mySeller=cmv.firmList[0]\n",
    "        self.purchase=self.r.uniform(0,cmv.maxConsumptionShareInSubstep)*self.consumption \n",
    "                            # mean value should be calibrated with thenumber of buy action\n",
    "        self.purchase=min(self.purchase,self.consumption-self.madeConsumption)\n",
    "        self.purchase=min(self.purchase,cmv.price*(mySeller.production+\\\n",
    "                                        mySeller.initialInventories-mySeller.sales))\n",
    "        mySeller.sales+=self.purchase/cmv.price\n",
    "        mySeller.bankAccount+=self.purchase\n",
    "        #self.consumption-=self.purchase\n",
    "        self.checkingAccount-=self.purchase\n",
    "        self.madeConsumption+=self.purchase\n",
    "    \n"
   ]
  },
  {
   "cell_type": "code",
   "execution_count": 4,
   "id": "dirty-nevada",
   "metadata": {},
   "outputs": [],
   "source": [
    "class Firm():\n",
    "    def __init__(self, num):\n",
    "        self.num=num\n",
    "        self.myWorkers=[]\n",
    "        self.myEntrepreneur=0\n",
    "        self.productivity=0\n",
    "        self.initialInventories=0\n",
    "        self.finalInventories=0\n",
    "        self.bankAccount=0\n",
    "        self.revenues=0 #sales*price\n",
    "        self.sales=0\n",
    "        self.deperibilityShare=r.uniform(0,cmv.maxDeperibilityShare)\n",
    "        self.investmentProgram=0\n",
    "        self.profit=0\n",
    "        self.madeInvestment=0\n",
    "        self.interestOnDeposits=0\n",
    "        self.interestOnLoans=0\n",
    "        self.myBank=0\n",
    "        \n",
    "    def produce(self):\n",
    "        self.initialInventories=self.finalInventories\n",
    "        self.productivity+=r.uniform(cmv.productivityDeltaMin,cmv.productivityDeltaMax)\n",
    "        self.productivity=max(self.productivity,0)\n",
    "        \n",
    "        self.production=len(self.myWorkers)*self.productivity\n",
    "        self.sales=0\n",
    "\n",
    "    def payWages(self):\n",
    "        for anAgent in self.myWorkers:\n",
    "            anAgent.perceivedWage=cmv.wage\n",
    "            anAgent.checkingAccount+=cmv.wage\n",
    "        self.bankAccount-=cmv.wage*len(self.myWorkers)\n",
    "            \n",
    "    def buyInvestmentGoods(self,k):\n",
    "        if k==0: \n",
    "            self.investmentProgram=r.uniform(cmv.investmentMin,cmv.investmentMax)\n",
    "            self.madeInvestment=0\n",
    "                       \n",
    "        r.shuffle(cmv.firmList)\n",
    "        mySeller=cmv.firmList[0]\n",
    "        self.myInvestment=r.uniform(0,cmv.maxInvestmentShareInSubstep)*self.investmentProgram\n",
    "        self.myInvestment=min(self.myInvestment,cmv.price*(mySeller.production+\\\n",
    "                              mySeller.initialInventories-mySeller.sales))\n",
    "        mySeller.sales+=self.myInvestment/cmv.price\n",
    "        mySeller.bankAccount+=self.myInvestment\n",
    "        \n",
    "        self.bankAccount-=self.myInvestment\n",
    "        self.investmentProgram-=self.myInvestment\n",
    "        self.madeInvestment+=self.myInvestment\n",
    "        \n",
    "    def makeBalanceSheet(self):\n",
    "        self.lostProduction=0\n",
    "        if self.production - self.sales > 0: \n",
    "            self.lostProduction=(self.production - self.sales)*self.deperibilityShare\n",
    "        #print(self.num, lostProduction,self.productivity)\n",
    "        self.finalInventories=self.initialInventories+self.production-\\\n",
    "                              self.sales-self.lostProduction\n",
    "        self.revenues=self.sales*cmv.price\n",
    "        self.profit=self.revenues - len(self.myWorkers)*cmv.wage + \\\n",
    "          self.interestOnDeposits - self.interestOnLoans + \\\n",
    "          (self.finalInventories-self.initialInventories)*cmv.price\n",
    "        self.interestOnDeposits=0\n",
    "        self.interestOnLoans=0\n",
    "        #print(self.num,self.profit,self.revenues,len(self.myWorkers)*cmv.wage,\\\n",
    "        #      self.finalInventories, self.initialInventories)\n",
    "        \n",
    "    def distributeDividend(self):\n",
    "        if self.profit > 0:\n",
    "            dividend=cmv.rho*self.profit\n",
    "            self.bankAccount-=dividend\n",
    "            self.myEntrepreneur.checkingAccount+=dividend\n",
    "            self.myEntrepreneur.perceivedDividend=dividend        \n"
   ]
  },
  {
   "cell_type": "code",
   "execution_count": 5,
   "id": "exposed-produce",
   "metadata": {},
   "outputs": [],
   "source": [
    "class Bank(Firm):\n",
    "    def __init__(self, num):\n",
    "        super().__init__(num)\n",
    "        self.myPrivateClients=[]\n",
    "        self.myCommercialClients=[]\n",
    "        self.myDebtsVsAgents=0\n",
    "        self.myDebtsVsFirms=0\n",
    "        self.myCreditsVsAgents=0\n",
    "        self.myCreditsVsFirms=0\n",
    "        self.interestOnDeposits=0\n",
    "        self.interestOnLoans=0\n",
    "        \n",
    "    def computeAndApplyInterests(self):\n",
    "        self.interestOnDeposits=0\n",
    "        self.interestOnLoans=0\n",
    "        \n",
    "        for aPrivateClient in self.myPrivateClients:\n",
    "            if aPrivateClient.checkingAccount >=0:\n",
    "                interests=aPrivateClient.checkingAccount*cmv.interestRateOnDeposits\n",
    "                self.interestOnDeposits-=interests\n",
    "                aPrivateClient.checkingAccount+=interests\n",
    "                aPrivateClient.interestOnDeposits=interests\n",
    "                \n",
    "            if aPrivateClient.checkingAccount < 0:\n",
    "                interests=aPrivateClient.checkingAccount*cmv.interestRateOnLoansVsAgents\n",
    "                self.interestOnLoans+=interests\n",
    "                aPrivateClient.checkingAccount-=interests\n",
    "                aPrivateClient.interestOnLoans=interests\n",
    "               \n",
    "        for aCommercialClient in self.myCommercialClients:\n",
    "            if aCommercialClient.bankAccount >=0:\n",
    "                interests=aCommercialClient.bankAccount*cmv.interestRateOnDeposits\n",
    "                self.interestOnDeposits-=interests\n",
    "                aCommercialClient.bankAccount+=interests\n",
    "                aCommercialClient.interestOnDeposits=interests\n",
    "\n",
    "            if aCommercialClient.bankAccount < 0:\n",
    "                interests=aCommercialClient.bankAccount*cmv.interestRateOnLoansVsFirms\n",
    "                self.interestOnLoans+=interests\n",
    "                aCommercialClient.bankAccount-=interests\n",
    "                aCommercialClient.interestOnLoans=interests\n",
    "        \n",
    "    def makeFinancialAccounts(self):\n",
    "        self.myDebtsVsAgents=0\n",
    "        self.myDebtsVsFirms=0\n",
    "        self.myCreditsVsAgents=0\n",
    "        self.myCreditsVsFirms=0\n",
    "\n",
    "        for aPrivateClient in  self.myPrivateClients:\n",
    "            if aPrivateClient.checkingAccount>=0: \\\n",
    "                self.myDebtsVsAgents-=aPrivateClient.checkingAccount\n",
    "            if aPrivateClient.checkingAccount<0: \\\n",
    "                self.myCreditsVsAgents+=aPrivateClient.checkingAccount\n",
    "        for aCommercialClient in  self.myCommercialClients:\n",
    "            if aCommercialClient.bankAccount>=0: \\\n",
    "                self.myDebtsVsFirms-=aCommercialClient.bankAccount\n",
    "            if aCommercialClient.bankAccount<0: \\\n",
    "                self.myCreditsVsFirms+=aCommercialClient.bankAccount\n",
    "        \n",
    "        "
   ]
  },
  {
   "cell_type": "markdown",
   "id": "given-bangkok",
   "metadata": {},
   "source": [
    "### agent setup\n",
    "\n",
    "- agent basic creation\n",
    "\n",
    "  \n",
    "\n",
    "- creation of entrepreneur list\n",
    "\n",
    "  \n",
    "\n",
    "- selecting entrepreneurs and creating their firms or their banks\n",
    "\n",
    "  \n",
    "\n",
    "- with a given (heterogeneous) productivity\n",
    "\n",
    "  \n",
    "\n",
    "- linking the firm or the bank to its entrepreneur, considering the entrepreneur itself as a worker in its firm or bank\n",
    "\n",
    "  \n",
    "\n",
    "- creation of a temporary workforce list of to-be-employed agent, escluding entrepreneurs (already self employed)\n",
    "\n",
    "  \n",
    "\n",
    "- applying the unmployement rate to exclude agents\n",
    "\n",
    "  \n",
    "\n",
    "- assigning workforce (to-be-employed agents) to firms of banks, with a reinforcement mechanism, gradually giving more attraction/hiring capability to firms or banks growing the most\n",
    "\n",
    "\n",
    "- assigning agents and firms to banks in a random way\n",
    "\n"
   ]
  },
  {
   "cell_type": "code",
   "execution_count": 6,
   "id": "weekly-jordan",
   "metadata": {},
   "outputs": [],
   "source": [
    "def setup(r,seed):\n",
    "    \n",
    "    seedManager(r,seed,'setup',setup)\n",
    "    \n",
    "    #print(r.random(),setup.r.random())\n",
    "        \n",
    "    cmv.agentList=[]\n",
    "    for n in range(cmv.agentNum):\n",
    "        anAgent=Agent(n+1,r,cmv.seedList[101+n])\n",
    "        cmv.agentList.append(anAgent)\n",
    "\n",
    "    \n",
    "    # creation of entrepreneur list\n",
    "    cmv.entrepreneurNum=setup.r.randint(cmv.entrepreneurMin, cmv.entrepreneurMax)\n",
    "    cmv.bankNum=setup.r.randint(cmv.bankMin, cmv.bankMax)\n",
    "    \n",
    "    cmv.entrepreneurList=[]\n",
    "    cmv.firmList=[]\n",
    "    cmv.bankList=[]\n",
    "    entrepreneurCandidates=cmv.agentList.copy()\n",
    "\n",
    "    for n in range(cmv.entrepreneurNum):\n",
    "        \n",
    "        i=setup.r.randint(0,len(entrepreneurCandidates)-1)\n",
    "        \n",
    "        entrepreneurCandidates[i].entrepreneur=True\n",
    "\n",
    "        if len(cmv.bankList) < cmv.bankNum:\n",
    "            newEnterprise=Bank(entrepreneurCandidates[i].num)\n",
    "        else:\n",
    "            newEnterprise=Firm(entrepreneurCandidates[i].num)\n",
    "\n",
    "        entrepreneurCandidates[i].myEnterprise=newEnterprise\n",
    "        entrepreneurCandidates[i].myEmployer=newEnterprise\n",
    "        newEnterprise.myEntrepreneur=entrepreneurCandidates[i]\n",
    "        newEnterprise.myWorkers.append(entrepreneurCandidates[i])\n",
    "        newEnterprise.productivity=\\\n",
    "                setup.r.uniform(cmv.productivityMin,cmv.productivityMax)\n",
    "        cmv.entrepreneurList.append(entrepreneurCandidates.pop(i))\n",
    "        if newEnterprise.__class__.__name__==\"Bank\": cmv.bankList.append(newEnterprise)\n",
    "        if newEnterprise.__class__.__name__==\"Firm\": cmv.firmList.append(newEnterprise)\n",
    "\n",
    "    cmv.firmNum=len(cmv.firmList)\n",
    "    \n",
    "    # creation of workforce list\n",
    "    toBeEmployed=[]\n",
    "\n",
    "    for anAgent in cmv.agentList:\n",
    "        if not anAgent.entrepreneur: toBeEmployed.append(anAgent)\n",
    "    for k in range(round(cmv.unemploymentRate*cmv.agentNum)):\n",
    "        toBeEmployed.pop(setup.r.randint(0,len(toBeEmployed)))\n",
    "    #len(toBeEmployed)\n",
    "\n",
    "\n",
    "    # assigning workforce to firms and banks\n",
    "    tmpEnterpriseListWithDuplications=cmv.firmList+cmv.bankList\n",
    "    for anAgent in toBeEmployed:\n",
    "        choice=setup.r.choice(tmpEnterpriseListWithDuplications)\n",
    "        anAgent.myEmployer=choice\n",
    "        choice.myWorkers.append(anAgent)\n",
    "        if cmv.dimensionalHeterogeneity: tmpEnterpriseListWithDuplications.append(choice)\n",
    "            \n",
    "            \n",
    "    # assigning agents and firms to banks\n",
    "    \n",
    "    for anAgent in cmv.agentList:\n",
    "        anAgent.myBank=setup.r.choice(cmv.bankList)\n",
    "        anAgent.myBank.myPrivateClients.append(anAgent)\n",
    "            \n",
    "    for aFirm in cmv.firmList:\n",
    "        aFirm.myBank=setup.r.choice(cmv.bankList)\n",
    "        aFirm.myBank.myCommercialClients.append(aFirm)\n",
    "\n",
    "    cmv.totalProductionSeries=[]\n",
    "    cmv.totalProductionInfraVarSeries=[]\n",
    "    cmv.totalProfitSeries=[]\n",
    "    cmv.totalProfitInfraVarSeries=[]\n",
    "    cmv.totalInitialInventoriesSeries=[]\n",
    "    cmv.totalInitialInventoriesInfraVarSeries=[]\n",
    "    cmv.totalFinalInventoriesSeries=[]\n",
    "    cmv.totalFinalInventoriesInfraVarSeries=[]\n",
    "    cmv.totalConsumptionSeries=[]\n",
    "    cmv.totalEntrepreneurConsumptionSeries=[]\n",
    "    cmv.totalNonEntrepreneurConsumptionSeries=[]\n",
    "    cmv.totalConsumptionInfraVarSeries=[]\n",
    "    cmv.totalInvestmentSeries=[]\n",
    "    cmv.totalInvestmentInfraVarSeries=[]\n",
    "    cmv.totalCashMoneySeries=[]\n",
    "    cmv.totalCashMoneyInfraVarSeries=[]\n",
    "    cmv.totalCheckingAccountSeries=[]\n",
    "    cmv.totalCheckingAccountInfraVarSeries=[]\n",
    "    cmv.totalBankAccountSeries=[]\n",
    "    cmv.totalBankAccountInfraVarSeries=[]\n",
    "\n",
    "    cmv.totalLostProductionSeries=[]"
   ]
  },
  {
   "cell_type": "markdown",
   "id": "accompanied-defeat",
   "metadata": {},
   "source": [
    "### meta actions (in `metaActions.py`)\n",
    "\n",
    "\n",
    "\n",
    "\n",
    "\n",
    "- *produceAll* orders to the firms to produce and to collects the results\n",
    "\n",
    "  \n",
    "\n",
    "- *payWagesAll* orders to the firms to pay wages, also to the entrepreneurs\n",
    "\n",
    "  \n",
    "\n",
    "- *buyConsumptionGoodsAll* orders to the agents to buy consumption goods\n",
    "\n",
    "  \n",
    "\n",
    "- *buyInvestmentGoodsAll* orders to the firms to buy investment goods\n",
    "\n",
    "  \n",
    "\n",
    "- *buyConsumptionOrInvestmentGoodsAll* orders to the agents and to the firms to buy consumption or investment goods\n",
    "\n",
    "  \n",
    "\n",
    "- *makeBalanceSheetAll* with firm making accounts\n",
    "\n",
    "  \n",
    "\n",
    "- *distributeDividendAll* attributing the $\\rho$ share of firm profits to the entrepreneurs \n",
    "\n",
    "  \n",
    "\n",
    "- *accountCashMoneyAll* summarizing eveyone cash money at the end of a cycle\n",
    "\n",
    "  \n",
    "\n",
    "- *accountCheckingAccountAll* summarizing eveyone checking accounts at the end of a cycle\n",
    "\n",
    "  \n",
    "\n",
    "- *accountBankingAccountAll* summarizing firm banking accounts at the end of a cycle\n",
    "\n",
    "  \n",
    "\n",
    "- *computeAndApplyInterestsAll* calculating the interests on deposits and loans for each agent and firm (and symmetrically for banks) and updatating accounts\n",
    "\n",
    "  \n",
    "\n",
    "- *makeBankFinancialAccountsAll* summmarinzing all the checking and banl accounts"
   ]
  },
  {
   "cell_type": "markdown",
   "id": "dense-journey",
   "metadata": {},
   "source": [
    "\n",
    "### model parameters\n",
    "\n"
   ]
  },
  {
   "cell_type": "code",
   "execution_count": 7,
   "id": "designing-participant",
   "metadata": {
    "scrolled": false
   },
   "outputs": [],
   "source": [
    "cmv.agentNum=100\n",
    "cmv.entrepreneurMin=6\n",
    "cmv.entrepreneurMax=20\n",
    "cmv.bankMin=2\n",
    "cmv.bankMax=3 \n",
    "\n",
    "if cmv.bankMax > cmv.entrepreneurMin:\n",
    "    print (\"Bank maximum number cannot exceed the minimum number of firms!\")\n",
    "    sys.exit(0)\n",
    "\n",
    "cmv.price=1\n",
    "\n",
    "cmv.unemploymentRate=0\n",
    "cmv.dimensionalHeterogeneity=True\n",
    "\n",
    "cmv.productivityMin=0.8\n",
    "cmv.productivityMax=1.2\n",
    "cmv.productivityDeltaMin=cmv.productivityMin-1\n",
    "cmv.productivityDeltaMax=cmv.productivityMax-1\n",
    "\n",
    "cmv.maxDeperibilityShare=0.5\n",
    "\n",
    "cmv.wage=1\n",
    "cmv.rho=0 #0.5 #1\n",
    "cmv.consumptionRateMin=0.5\n",
    "cmv.consumptionRateMax=1\n",
    "\n",
    "cmv.investmentMin=1\n",
    "cmv.investmentMax=15\n",
    "\n",
    "cmv.nOfConsumptionActions=30\n",
    "cmv.maxConsumptionShareInSubstep=0.3\n",
    "cmv.nOfInvestmentActions=10\n",
    "cmv.maxInvestmentShareInSubstep=0.3\n",
    "\n",
    "cmv.interestRateOnDeposits=0.01\n",
    "cmv.interestRateOnLoansVsAgents=0.03\n",
    "cmv.interestRateOnLoansVsFirms=0.10\n",
    "\n",
    "cmv.ncycles=100\n",
    "cmv.cycle=0"
   ]
  },
  {
   "cell_type": "markdown",
   "id": "neutral-cylinder",
   "metadata": {},
   "source": [
    "## <p style=\"color:red\">model machine</p>\n",
    "\n",
    "- a random seed determining the random number sequences\n",
    "\n",
    "\n",
    "\n",
    "- a list of actions (meta ones)\n",
    "\n",
    "\n",
    "\n",
    "- an engine excecuting the meta actions (their code in `metaAcions,py` file, in the same folder of the notebook; online, look a the model [GitHub](https://github.com/terna/ejmmp/tree/main/model02)\n",
    "\n",
    "  \n",
    "\n",
    "- random seed sequence, to have independent each class instance or function using random number, based on `generateSeed()` in  `generateSeeds.py` file, in the same folder of the notebook; online, look a the model [GitHub](https://github.com/terna/ejmmp/tree/main/model02)\n",
    "\n",
    "\n",
    "\n",
    "- display tools; their code is hidden into the file `tools.py`, in the same folder of the notebook; online, look a the model [GitHub](https://github.com/terna/ejmmp/tree/main/model02)\n",
    "\n"
   ]
  },
  {
   "cell_type": "code",
   "execution_count": 8,
   "id": "sealed-valuation",
   "metadata": {
    "scrolled": false
   },
   "outputs": [
    {
     "name": "stdout",
     "output_type": "stream",
     "text": [
      "-------------------------------------------\n",
      "entrepreneur number 9\n",
      "-------------------------------------------\n",
      "\n"
     ]
    },
    {
     "name": "stderr",
     "output_type": "stream",
     "text": [
      "/Users/pt/GitHub/ejmmp/model02/tools.py:67: UserWarning: Attempting to set identical bottom == top == 0 results in singular transformations; automatically expanding.\n",
      "  ax1c.set_ylim([min(cmv.totalInitialInventoriesSeries), \\\n",
      "/Users/pt/GitHub/ejmmp/model02/tools.py:76: UserWarning: Attempting to set identical bottom == top == 0 results in singular transformations; automatically expanding.\n",
      "  ax2c.set_ylim([0, max(cmv.totalInitialInventoriesInfraVarSeries)])\n",
      "/Users/pt/GitHub/ejmmp/model02/tools.py:88: UserWarning: Attempting to set identical bottom == top == 0.0 results in singular transformations; automatically expanding.\n",
      "  ax1d.set_ylim([min(cmv.totalFinalInventoriesSeries), \\\n",
      "/Users/pt/GitHub/ejmmp/model02/tools.py:97: UserWarning: Attempting to set identical bottom == top == 0 results in singular transformations; automatically expanding.\n",
      "  ax2d.set_ylim([0, max(cmv.totalFinalInventoriesInfraVarSeries)])\n"
     ]
    },
    {
     "name": "stdout",
     "output_type": "stream",
     "text": [
      "-------------------------------------------\n",
      "\"national\" accounts\n",
      "-------------------------------------------\n",
      "\n",
      "t\ttotal\tlost\tinitial\t\tconsum.\tinvest.\tfinal\n",
      "\tproduc.\tproduc.\tinvent.\t\t\t\tinvent.\n",
      "  1\t74.2\t0.0\t0.0\t    |\t51.2\t23.1\t0.0\n",
      "  2\t76.5\t0.0\t0.0\t    |\t38.4\t38.2\t0.0\n",
      "  3\t78.4\t0.0\t0.0\t    |\t48.7\t29.7\t0.0\n",
      "  4\t77.7\t0.0\t0.0\t    |\t50.8\t26.9\t0.0\n",
      "  5\t79.2\t0.0\t0.0\t    |\t47.8\t31.5\t0.0\n",
      "  6\t75.5\t0.0\t0.0\t    |\t47.4\t28.1\t0.0\n",
      "  7\t78.9\t0.0\t0.0\t    |\t39.4\t39.6\t0.0\n",
      "  8\t77.9\t0.0\t0.0\t    |\t37.0\t40.8\t0.0\n",
      "  9\t77.7\t0.0\t0.0\t    |\t44.1\t33.6\t0.0\n",
      " 10\t81.1\t0.0\t0.0\t    |\t38.8\t42.3\t0.0\n",
      " 11\t83.2\t0.0\t0.0\t    |\t50.4\t32.7\t0.0\n",
      " 12\t83.5\t0.0\t0.0\t    |\t52.0\t31.5\t0.0\n",
      " 13\t89.9\t0.0\t0.0\t    |\t62.5\t27.3\t0.0\n",
      " 14\t90.9\t0.0\t0.0\t    |\t59.9\t31.0\t0.0\n",
      " 15\t99.1\t0.0\t0.0\t    |\t60.7\t38.4\t0.0\n",
      " 16\t97.3\t0.0\t0.0\t    |\t71.0\t26.3\t0.0\n",
      " 17\t98.1\t0.0\t0.0\t    |\t63.7\t34.4\t0.0\n",
      " 18\t93.3\t0.0\t0.0\t    |\t58.0\t35.4\t0.0\n",
      " 19\t90.5\t0.0\t0.0\t    |\t54.6\t35.9\t0.0\n",
      " 20\t91.0\t0.0\t0.0\t    |\t54.0\t37.1\t0.0\n",
      " 21\t88.5\t0.0\t0.0\t    |\t53.7\t34.8\t0.0\n",
      " 22\t87.5\t0.0\t0.0\t    |\t54.2\t33.3\t0.0\n",
      " 23\t86.3\t0.0\t0.0\t    |\t57.8\t28.5\t0.0\n",
      " 24\t85.5\t0.0\t0.0\t    |\t47.3\t38.2\t0.0\n",
      " 25\t77.1\t0.0\t0.0\t    |\t44.0\t33.1\t0.0\n",
      " 26\t83.1\t0.0\t0.0\t    |\t55.6\t27.5\t0.0\n",
      " 27\t79.1\t0.0\t0.0\t    |\t41.8\t37.3\t0.0\n",
      " 28\t86.5\t0.0\t0.0\t    |\t53.5\t33.0\t0.0\n",
      " 29\t85.2\t0.0\t0.0\t    |\t45.5\t39.7\t0.0\n",
      " 30\t80.8\t0.0\t0.0\t    |\t45.2\t35.6\t0.0\n",
      " 31\t87.6\t0.0\t0.0\t    |\t53.3\t34.3\t0.0\n",
      " 32\t94.8\t0.0\t0.0\t    |\t55.6\t39.2\t0.0\n",
      " 33\t92.9\t0.0\t0.0\t    |\t53.9\t39.0\t0.0\n",
      " 34\t97.4\t0.0\t0.0\t    |\t75.6\t21.8\t0.0\n",
      " 35\t99.1\t0.0\t0.0\t    |\t69.0\t30.1\t0.0\n",
      " 36\t100.5\t0.0\t0.0\t    |\t66.5\t34.0\t0.0\n",
      " 37\t95.1\t0.0\t0.0\t    |\t64.6\t30.5\t0.0\n",
      " 38\t102.9\t0.0\t0.0\t    |\t70.0\t32.9\t0.0\n",
      " 39\t96.0\t0.0\t0.0\t    |\t71.3\t24.7\t0.0\n",
      " 40\t92.1\t0.0\t0.0\t    |\t56.7\t35.4\t0.0\n",
      " 41\t87.1\t0.0\t0.0\t    |\t61.9\t25.2\t0.0\n",
      " 42\t80.9\t0.0\t0.0\t    |\t55.4\t25.5\t0.0\n",
      " 43\t74.2\t0.0\t0.0\t    |\t45.8\t28.4\t0.0\n",
      " 44\t81.2\t0.0\t0.0\t    |\t57.7\t23.5\t0.0\n",
      " 45\t81.3\t0.0\t0.0\t    |\t51.0\t30.3\t0.0\n",
      " 46\t77.0\t0.0\t0.0\t    |\t52.9\t24.1\t0.0\n",
      " 47\t79.8\t0.0\t0.0\t    |\t47.0\t32.7\t0.0\n",
      " 48\t80.6\t0.0\t0.0\t    |\t44.9\t35.6\t0.0\n",
      " 49\t73.4\t0.0\t0.0\t    |\t42.6\t30.8\t0.0\n",
      " 50\t80.6\t0.0\t0.0\t    |\t55.7\t24.9\t0.0\n",
      " 51\t82.7\t0.0\t0.0\t    |\t56.6\t26.1\t0.0\n",
      " 52\t81.3\t0.0\t0.0\t    |\t52.1\t29.2\t0.0\n",
      " 53\t86.9\t0.0\t0.0\t    |\t63.3\t23.6\t0.0\n",
      " 54\t88.5\t0.0\t0.0\t    |\t65.3\t23.2\t0.0\n",
      " 55\t94.8\t0.0\t0.0\t    |\t72.4\t22.4\t0.0\n",
      " 56\t100.2\t0.0\t0.0\t    |\t68.8\t31.5\t0.0\n",
      " 57\t92.6\t0.0\t0.0\t    |\t66.1\t26.5\t0.0\n",
      " 58\t84.4\t0.0\t0.0\t    |\t61.0\t23.5\t0.0\n",
      " 59\t91.6\t0.0\t0.0\t    |\t70.0\t21.6\t0.0\n",
      " 60\t89.7\t0.0\t0.0\t    |\t59.5\t30.2\t0.0\n",
      " 61\t90.5\t0.0\t0.0\t    |\t58.7\t31.8\t0.0\n",
      " 62\t91.6\t0.0\t0.0\t    |\t57.0\t34.6\t0.0\n",
      " 63\t86.6\t0.0\t0.0\t    |\t59.4\t27.1\t0.0\n",
      " 64\t95.7\t0.0\t0.0\t    |\t77.9\t17.8\t0.0\n",
      " 65\t95.8\t0.0\t0.0\t    |\t68.6\t27.2\t0.0\n",
      " 66\t96.9\t0.0\t0.0\t    |\t67.9\t29.0\t0.0\n",
      " 67\t97.1\t0.0\t0.0\t    |\t79.1\t18.0\t0.0\n",
      " 68\t98.4\t0.0\t0.0\t    |\t84.3\t14.1\t0.0\n",
      " 69\t96.2\t0.0\t0.0\t    |\t72.2\t24.0\t0.0\n",
      " 70\t87.5\t0.0\t0.0\t    |\t66.6\t20.9\t0.0\n",
      " 71\t86.8\t0.0\t0.0\t    |\t52.8\t34.0\t0.0\n",
      " 72\t82.2\t0.0\t0.0\t    |\t49.0\t33.2\t0.0\n",
      " 73\t83.4\t0.0\t0.0\t    |\t57.8\t25.6\t0.0\n",
      " 74\t82.9\t0.0\t0.0\t    |\t63.2\t19.7\t0.0\n",
      " 75\t76.4\t0.0\t0.0\t    |\t53.7\t22.7\t0.0\n",
      " 76\t83.0\t0.0\t0.0\t    |\t68.9\t14.1\t0.0\n",
      " 77\t85.1\t0.0\t0.0\t    |\t52.3\t32.8\t0.0\n",
      " 78\t81.3\t0.0\t0.0\t    |\t53.7\t27.6\t0.0\n",
      " 79\t83.3\t0.0\t0.0\t    |\t56.5\t26.8\t0.0\n",
      " 80\t76.7\t0.0\t0.0\t    |\t43.8\t32.9\t0.0\n",
      " 81\t70.5\t0.0\t0.0\t    |\t43.6\t26.9\t0.0\n",
      " 82\t68.5\t0.0\t0.0\t    |\t49.2\t19.3\t0.0\n",
      " 83\t68.4\t0.0\t0.0\t    |\t43.7\t24.7\t0.0\n",
      " 84\t63.1\t0.0\t0.0\t    |\t41.4\t21.7\t0.0\n",
      " 85\t63.8\t0.0\t0.0\t    |\t42.2\t21.6\t0.0\n",
      " 86\t68.0\t0.0\t0.0\t    |\t42.9\t25.1\t0.0\n",
      " 87\t68.3\t0.0\t0.0\t    |\t53.2\t15.1\t0.0\n",
      " 88\t70.9\t0.0\t0.0\t    |\t55.2\t15.7\t0.0\n",
      " 89\t74.7\t0.0\t0.0\t    |\t45.7\t29.1\t0.0\n",
      " 90\t69.4\t0.0\t0.0\t    |\t46.1\t23.3\t0.0\n",
      " 91\t73.5\t0.0\t0.0\t    |\t53.0\t20.5\t0.0\n",
      " 92\t74.3\t0.0\t0.0\t    |\t50.6\t23.6\t0.0\n",
      " 93\t75.3\t0.0\t0.0\t    |\t56.8\t18.6\t0.0\n",
      " 94\t71.0\t0.0\t0.0\t    |\t51.1\t19.8\t0.0\n",
      " 95\t65.6\t0.0\t0.0\t    |\t47.8\t17.8\t0.0\n",
      " 96\t61.8\t0.0\t0.0\t    |\t39.2\t22.7\t0.0\n",
      " 97\t62.4\t0.0\t0.0\t    |\t47.1\t15.4\t0.0\n",
      " 98\t66.2\t0.0\t0.0\t    |\t48.4\t17.8\t0.0\n",
      " 99\t71.2\t0.0\t0.0\t    |\t45.8\t25.4\t0.0\n",
      "100\t73.5\t0.0\t0.0\t    |\t54.5\t19.0\t0.0\n",
      "\n",
      "\n",
      "\n",
      "\n"
     ]
    },
    {
     "data": {
      "image/png": "[encoded data removed]",
      "text/plain": [
       "<Figure size 432x288 with 1 Axes>"
      ]
     },
     "metadata": {
      "needs_background": "light"
     },
     "output_type": "display_data"
    },
    {
     "data": {
      "image/png": "[encoded data removed]",
      "text/plain": [
       "<Figure size 432x288 with 2 Axes>"
      ]
     },
     "metadata": {},
     "output_type": "display_data"
    },
    {
     "data": {
      "image/png": "[encoded data removed]",
      "text/plain": [
       "<Figure size 432x288 with 2 Axes>"
      ]
     },
     "metadata": {},
     "output_type": "display_data"
    },
    {
     "data": {
      "image/png": "[encoded data removed]",
      "text/plain": [
       "<Figure size 432x288 with 2 Axes>"
      ]
     },
     "metadata": {},
     "output_type": "display_data"
    },
    {
     "data": {
      "image/png": "[encoded data removed]",
      "text/plain": [
       "<Figure size 432x288 with 2 Axes>"
      ]
     },
     "metadata": {},
     "output_type": "display_data"
    },
    {
     "data": {
      "image/png": "[encoded data removed]",
      "text/plain": [
       "<Figure size 432x288 with 2 Axes>"
      ]
     },
     "metadata": {},
     "output_type": "display_data"
    },
    {
     "data": {
      "image/png": "[encoded data removed]",
      "text/plain": [
       "<Figure size 432x288 with 2 Axes>"
      ]
     },
     "metadata": {},
     "output_type": "display_data"
    },
    {
     "data": {
      "image/png": "[encoded data removed]",
      "text/plain": [
       "<Figure size 432x288 with 2 Axes>"
      ]
     },
     "metadata": {},
     "output_type": "display_data"
    },
    {
     "data": {
      "image/png": "[encoded data removed]",
      "text/plain": [
       "<Figure size 432x288 with 2 Axes>"
      ]
     },
     "metadata": {},
     "output_type": "display_data"
    },
    {
     "data": {
      "image/png": "[encoded data removed]",
      "text/plain": [
       "<Figure size 432x288 with 2 Axes>"
      ]
     },
     "metadata": {},
     "output_type": "display_data"
    }
   ],
   "source": [
    "# seed must be in range -2147483648 to 2147483647\n",
    "r.seed(12345)\n",
    "\n",
    "generateSeeds()\n",
    "\n",
    "setup(r,cmv.seedList[0])\n",
    "\n",
    "cmv.actionList=[\"produceAll()\",\"payWagesAll()\",\\\n",
    "                \"buyConsumptionOrInvestmentGoodsAll(r,cmv.seedList[3])\",\\\n",
    "                \"computeAndApplyInterestsAll()\",\"makeBalanceSheetAll()\",\\\n",
    "                \"distributeDividendAll()\",\"accountCashMoneyAll()\",\\\n",
    "                \"accountCheckingAccountAll()\",\"accountBankAccountAll()\",\\\n",
    "                \"makeBankFinancialAccountsAll()\"\\\n",
    "                ]\n",
    "\n",
    "for cmv.cycle in range(cmv.ncycles):\n",
    "    for anAction in cmv.actionList:\n",
    "            exec(anAction)\n",
    "\n",
    "makeHist() \n",
    "plot1()\n",
    "plot2()\n",
    "plot3()\n",
    "plot4()\n",
    "plot5()\n",
    "plot6()\n",
    "plot7()\n",
    "plot8()\n",
    "plot9()\n",
    "\n",
    "nationalAccounts()"
   ]
  },
  {
   "cell_type": "code",
   "execution_count": 9,
   "id": "typical-washer",
   "metadata": {},
   "outputs": [
    {
     "data": {
      "text/plain": [
       "[97, 55, 76, 35, 85, 33, 31]"
      ]
     },
     "execution_count": 9,
     "metadata": {},
     "output_type": "execute_result"
    }
   ],
   "source": [
    "list(cmv.firmList[i].num for i in range(cmv.firmNum))"
   ]
  },
  {
   "cell_type": "code",
   "execution_count": 10,
   "id": "sized-charge",
   "metadata": {},
   "outputs": [
    {
     "data": {
      "text/plain": [
       "[37, 11, 33, 31, 97, 85, 35]"
      ]
     },
     "execution_count": 10,
     "metadata": {},
     "output_type": "execute_result"
    }
   ],
   "source": [
    "list(cmv.entrepreneurList[i].num for i in range(cmv.firmNum))"
   ]
  },
  {
   "cell_type": "code",
   "execution_count": 11,
   "id": "sufficient-darkness",
   "metadata": {
    "scrolled": true
   },
   "outputs": [],
   "source": [
    "# last cycle\n",
    "tCashNe=0\n",
    "for anA in cmv.agentList:\n",
    "    if not anA.entrepreneur: tCashNe+=anA.cashMoney\n",
    "\n",
    "tCashE=0\n",
    "for anA in cmv.agentList:\n",
    "    if anA.entrepreneur: tCashE+=anA.cashMoney"
   ]
  },
  {
   "cell_type": "code",
   "execution_count": 12,
   "id": "vocal-transparency",
   "metadata": {
    "scrolled": true
   },
   "outputs": [
    {
     "data": {
      "text/plain": [
       "0"
      ]
     },
     "execution_count": 12,
     "metadata": {},
     "output_type": "execute_result"
    }
   ],
   "source": [
    "tCashNe"
   ]
  },
  {
   "cell_type": "code",
   "execution_count": 13,
   "id": "intelligent-powell",
   "metadata": {
    "scrolled": true
   },
   "outputs": [
    {
     "data": {
      "text/plain": [
       "0"
      ]
     },
     "execution_count": 13,
     "metadata": {},
     "output_type": "execute_result"
    }
   ],
   "source": [
    "tCashE"
   ]
  },
  {
   "cell_type": "code",
   "execution_count": 14,
   "id": "native-textbook",
   "metadata": {
    "scrolled": true
   },
   "outputs": [],
   "source": [
    "tC=0\n",
    "for i in range(cmv.ncycles):\n",
    "    tC+=cmv.totalConsumptionSeries[i]"
   ]
  },
  {
   "cell_type": "code",
   "execution_count": 15,
   "id": "smart-employment",
   "metadata": {
    "scrolled": true
   },
   "outputs": [
    {
     "data": {
      "text/plain": [
       "5516.513394151656"
      ]
     },
     "execution_count": 15,
     "metadata": {},
     "output_type": "execute_result"
    }
   ],
   "source": [
    "tC"
   ]
  },
  {
   "cell_type": "code",
   "execution_count": 16,
   "id": "distinguished-bacon",
   "metadata": {
    "scrolled": true
   },
   "outputs": [],
   "source": [
    "tCE=0\n",
    "for i in range(cmv.ncycles):\n",
    "    tCE+=cmv.totalEntrepreneurConsumptionSeries[i]"
   ]
  },
  {
   "cell_type": "code",
   "execution_count": 17,
   "id": "alive-electricity",
   "metadata": {
    "scrolled": true
   },
   "outputs": [
    {
     "data": {
      "text/plain": [
       "492.749583055526"
      ]
     },
     "execution_count": 17,
     "metadata": {},
     "output_type": "execute_result"
    }
   ],
   "source": [
    "tCE"
   ]
  },
  {
   "cell_type": "code",
   "execution_count": 18,
   "id": "sufficient-placement",
   "metadata": {
    "scrolled": true
   },
   "outputs": [],
   "source": [
    "tCNe=0\n",
    "for i in range(cmv.ncycles):\n",
    "    tCNe+=cmv.totalNonEntrepreneurConsumptionSeries[i]"
   ]
  },
  {
   "cell_type": "code",
   "execution_count": 19,
   "id": "regional-somerset",
   "metadata": {
    "scrolled": true
   },
   "outputs": [
    {
     "data": {
      "text/plain": [
       "5023.763811096132"
      ]
     },
     "execution_count": 19,
     "metadata": {},
     "output_type": "execute_result"
    }
   ],
   "source": [
    "tCNe"
   ]
  },
  {
   "cell_type": "code",
   "execution_count": 20,
   "id": "great-dublin",
   "metadata": {
    "scrolled": true
   },
   "outputs": [],
   "source": [
    "tI=0\n",
    "for i in range(cmv.ncycles):\n",
    "    tI+=cmv.totalInvestmentSeries[i]"
   ]
  },
  {
   "cell_type": "code",
   "execution_count": 21,
   "id": "responsible-appendix",
   "metadata": {
    "scrolled": true
   },
   "outputs": [
    {
     "data": {
      "text/plain": [
       "2802.2250812959264"
      ]
     },
     "execution_count": 21,
     "metadata": {},
     "output_type": "execute_result"
    }
   ],
   "source": [
    "tI"
   ]
  },
  {
   "cell_type": "code",
   "execution_count": 22,
   "id": "fancy-geography",
   "metadata": {},
   "outputs": [
    {
     "data": {
      "text/plain": [
       "[49.304004097201926,\n",
       " 112.05273125961446,\n",
       " 164.97885197433322,\n",
       " 216.36149663976929,\n",
       " 271.28386248639964,\n",
       " 327.1096349433139,\n",
       " 391.62962412611637,\n",
       " 459.1397898514297,\n",
       " 520.2283845040821,\n",
       " 587.2879443651609,\n",
       " 643.2074865490658,\n",
       " 698.1055577328649,\n",
       " 742.9238196738007,\n",
       " 790.8353412358007,\n",
       " 838.4008773018113,\n",
       " 876.0839087070805,\n",
       " 921.5389998776762,\n",
       " 973.2196588935684,\n",
       " 1028.828055755314,\n",
       " 1085.6106270897064,\n",
       " 1143.239366611249,\n",
       " 1200.961247820427,\n",
       " 1255.6408796243788,\n",
       " 1321.433090392647,\n",
       " 1391.1872183548774,\n",
       " 1449.9741696117958,\n",
       " 1523.2210944393466,\n",
       " 1585.3899293480436,\n",
       " 1656.2470558153193,\n",
       " 1728.1383553289404,\n",
       " 1792.5638454418015,\n",
       " 1855.2935824601843,\n",
       " 1920.381402962611,\n",
       " 1964.2084761737128,\n",
       " 2015.1379201470772,\n",
       " 2069.1166758378317,\n",
       " 2125.5999391315454,\n",
       " 2177.132434381514,\n",
       " 2227.879354816587,\n",
       " 2293.9090165937378,\n",
       " 2355.315777299415,\n",
       " 2423.899993105315,\n",
       " 2502.9193747750564,\n",
       " 2570.665048910391,\n",
       " 2645.844205829256,\n",
       " 2719.8504391332817,\n",
       " 2800.5525763948162,\n",
       " 2884.1771791016727,\n",
       " 2970.9863148978416,\n",
       " 3045.4260311733938,\n",
       " 3119.7515858071697,\n",
       " 3199.369404581595,\n",
       " 3268.4128677977424,\n",
       " 3336.11945615568,\n",
       " 3397.3900433551457,\n",
       " 3462.919769562437,\n",
       " 3531.7516732023596,\n",
       " 3606.4659167916825,\n",
       " 3672.84746250528,\n",
       " 3750.4436633995283,\n",
       " 3829.653294136696,\n",
       " 3911.397565743096,\n",
       " 3991.4711249985953,\n",
       " 4053.657306592639,\n",
       " 4125.899542827507,\n",
       " 4199.539507121492,\n",
       " 4262.6812655036165,\n",
       " 4321.203039512691,\n",
       " 4392.457582607643,\n",
       " 4470.089362136752,\n",
       " 4562.4529179310375,\n",
       " 4659.58628652277,\n",
       " 4748.796254997572,\n",
       " 4833.4639391794335,\n",
       " 4928.551706101151,\n",
       " 5009.215593422347,\n",
       " 5107.511452101706,\n",
       " 5205.347122595687,\n",
       " 5301.316909237446,\n",
       " 5411.1008604041535,\n",
       " 5522.133669014077,\n",
       " 5628.63070799927,\n",
       " 5741.801378216708,\n",
       " 5858.383821770827,\n",
       " 5975.334418827905,\n",
       " 6092.711169013322,\n",
       " 6200.925760787448,\n",
       " 6308.2185432743845,\n",
       " 6426.1933085307855,\n",
       " 6544.887145133958,\n",
       " 6657.843532167056,\n",
       " 6774.269676095677,\n",
       " 6885.685372095699,\n",
       " 7003.887046919097,\n",
       " 7126.6280045347685,\n",
       " 7259.349506967404,\n",
       " 7385.38663661217,\n",
       " 7511.375124911137,\n",
       " 7641.280572291276,\n",
       " 7763.623597156568]"
      ]
     },
     "execution_count": 22,
     "metadata": {},
     "output_type": "execute_result"
    }
   ],
   "source": [
    "cmv.totalCheckingAccountSeries"
   ]
  },
  {
   "cell_type": "code",
   "execution_count": 23,
   "id": "thorough-thesaurus",
   "metadata": {},
   "outputs": [
    {
     "data": {
      "text/plain": [
       "[-23.07239700179713,\n",
       " -51.2676934019632,\n",
       " -69.7593223022584,\n",
       " -81.51589476350756,\n",
       " -102.19133958850283,\n",
       " -115.2175476398919,\n",
       " -132.17600109394397,\n",
       " -151.49302563713815,\n",
       " -166.22061398541368,\n",
       " -184.07249809355554,\n",
       " -189.9187464375546,\n",
       " -192.4456031908745,\n",
       " -183.39194371281855,\n",
       " -174.10430734332098,\n",
       " -163.41157266222234,\n",
       " -150.0336890771225,\n",
       " -138.96257530697144,\n",
       " -133.8114654557524,\n",
       " -129.6162227081302,\n",
       " -126.56333030537783,\n",
       " -125.43011064403892,\n",
       " -120.89210226893712,\n",
       " -111.77857883028773,\n",
       " -112.09576580177009,\n",
       " -113.55320086002638,\n",
       " -107.08892907194944,\n",
       " -114.3210545328361,\n",
       " -106.73154146141744,\n",
       " -105.39535406426396,\n",
       " -104.48920301931079,\n",
       " -98.7084806248838,\n",
       " -85.20535364965116,\n",
       " -75.59449148685388,\n",
       " -47.44661171317116,\n",
       " -26.18418600152978,\n",
       " -4.836517767337405,\n",
       " 18.647522183895177,\n",
       " 41.50732608105223,\n",
       " 63.512419910530646,\n",
       " 73.61751697292421,\n",
       " 85.73499487817742,\n",
       " 93.62731910489123,\n",
       " 93.05192601157393,\n",
       " 104.37776207204735,\n",
       " 112.2376520501686,\n",
       " 125.66063904561864,\n",
       " 136.90597909147635,\n",
       " 139.59408195325466,\n",
       " 142.12747250384407,\n",
       " 161.08499853010903,\n",
       " 180.55976053200544,\n",
       " 199.20315025078037,\n",
       " 223.42168038788432,\n",
       " 253.49361495121258,\n",
       " 288.03335824428945,\n",
       " 321.88615883985085,\n",
       " 348.897191907651,\n",
       " 372.51507726439445,\n",
       " 408.8533291147438,\n",
       " 432.4105363739821,\n",
       " 452.1706547518757,\n",
       " 475.28939633540926,\n",
       " 499.0541093213207,\n",
       " 542.6826918943049,\n",
       " 570.1508548913139,\n",
       " 596.0255797167086,\n",
       " 633.2265839097704,\n",
       " 675.0775005408623,\n",
       " 702.0295629813631,\n",
       " 725.0598959029196,\n",
       " 740.1684986338829,\n",
       " 757.0554950856617,\n",
       " 777.0982672208278,\n",
       " 804.1129342428084,\n",
       " 820.8115124095791,\n",
       " 852.3970116146979,\n",
       " 871.8592606494782,\n",
       " 887.6400369266753,\n",
       " 910.7619674787333,\n",
       " 924.6055709850505,\n",
       " 931.9991243130168,\n",
       " 951.6863181620702,\n",
       " 958.7491252593627,\n",
       " 967.3326019539165,\n",
       " 974.6823405540378,\n",
       " 987.1258149919692,\n",
       " 1006.5253583626646,\n",
       " 1028.0327076826532,\n",
       " 1045.4264213054878,\n",
       " 1058.9179482700147,\n",
       " 1079.7295406044007,\n",
       " 1095.806251495348,\n",
       " 1118.0455928623562,\n",
       " 1137.8452901064252,\n",
       " 1153.0011321265456,\n",
       " 1155.0004536545844,\n",
       " 1165.4199515616372,\n",
       " 1177.280839703808,\n",
       " 1191.5428966626912,\n",
       " 1208.3938408574288]"
      ]
     },
     "execution_count": 23,
     "metadata": {},
     "output_type": "execute_result"
    }
   ],
   "source": [
    "cmv.totalBankAccountSeries"
   ]
  },
  {
   "cell_type": "code",
   "execution_count": 24,
   "id": "auburn-mainstream",
   "metadata": {},
   "outputs": [
    {
     "name": "stdout",
     "output_type": "stream",
     "text": [
      "9\n",
      "9\n"
     ]
    }
   ],
   "source": [
    "for anItem in cmv.bankList:\n",
    "    print(len(anItem.myWorkers))"
   ]
  },
  {
   "cell_type": "code",
   "execution_count": 25,
   "id": "biblical-vaccine",
   "metadata": {
    "scrolled": true
   },
   "outputs": [
    {
     "name": "stdout",
     "output_type": "stream",
     "text": [
      "37 [1, 3, 5, 8, 9, 11, 14, 16, 18, 20, 21, 23, 24, 25, 28, 30, 31, 34, 36, 37, 39, 40, 41, 42, 44, 46, 47, 49, 50, 51, 52, 53, 54, 56, 59, 60, 62, 65, 66, 68, 70, 71, 73, 74, 76, 77, 78, 81, 83, 85, 87, 88, 89, 90, 92, 93, 95, 99]\n",
      "37 [33, 31, 97, 85, 55]\n",
      "11 [2, 4, 6, 7, 10, 12, 13, 15, 17, 19, 22, 26, 27, 29, 32, 33, 35, 38, 43, 45, 48, 55, 57, 58, 61, 63, 64, 67, 69, 72, 75, 79, 80, 82, 84, 86, 91, 94, 96, 97, 98, 100]\n",
      "11 [35, 76]\n"
     ]
    }
   ],
   "source": [
    "for aBank in cmv.bankList:\n",
    "    print(aBank.num, list(aBank.myPrivateClients[i].num \\\n",
    "                          for i in range(len(aBank.myPrivateClients))))\n",
    "    print(aBank.num, list(aBank.myCommercialClients[i].num \\\n",
    "                          for i in range(len(aBank.myCommercialClients))))"
   ]
  },
  {
   "cell_type": "code",
   "execution_count": 26,
   "id": "timely-dairy",
   "metadata": {},
   "outputs": [
    {
     "name": "stdout",
     "output_type": "stream",
     "text": [
      "37 -4500.475778969208 0 -1439.8136896029441 -195.82879902749477\n",
      "11 -3263.1478181873595 0 -8.788919479017048 -44.37996919703763\n"
     ]
    }
   ],
   "source": [
    "for aBank in cmv.bankList:\n",
    "    print(aBank.num, aBank.myDebtsVsAgents, aBank.myCreditsVsAgents,\\\n",
    "                     aBank.myDebtsVsFirms,  aBank.myCreditsVsFirms)  "
   ]
  },
  {
   "cell_type": "code",
   "execution_count": 27,
   "id": "intimate-church",
   "metadata": {},
   "outputs": [
    {
     "name": "stdout",
     "output_type": "stream",
     "text": [
      "37 -58.81474721358566 -21.758755447499418\n",
      "11 -32.39541324422155 -4.931107688559737\n"
     ]
    }
   ],
   "source": [
    "for aBank in cmv.bankList:\n",
    "    #aBank.computeAndApplyInterests()\n",
    "    print(aBank.num,aBank.interestOnDeposits,aBank.interestOnLoans)"
   ]
  },
  {
   "cell_type": "code",
   "execution_count": 28,
   "id": "novel-belfast",
   "metadata": {},
   "outputs": [
    {
     "data": {
      "text/plain": [
       "False"
      ]
     },
     "execution_count": 28,
     "metadata": {},
     "output_type": "execute_result"
    }
   ],
   "source": [
    "cmv.bankList[1].myEntrepreneur in cmv.bankList[1].myPrivateClients"
   ]
  },
  {
   "cell_type": "code",
   "execution_count": 29,
   "id": "tutorial-hamburg",
   "metadata": {},
   "outputs": [
    {
     "data": {
      "text/plain": [
       "9"
      ]
     },
     "execution_count": 29,
     "metadata": {},
     "output_type": "execute_result"
    }
   ],
   "source": [
    "len(cmv.bankList[0].myWorkers)"
   ]
  },
  {
   "cell_type": "code",
   "execution_count": 30,
   "id": "structural-variance",
   "metadata": {},
   "outputs": [
    {
     "data": {
      "text/plain": [
       "1"
      ]
     },
     "execution_count": 30,
     "metadata": {},
     "output_type": "execute_result"
    }
   ],
   "source": [
    "cmv.agentList[0].num"
   ]
  },
  {
   "cell_type": "code",
   "execution_count": 31,
   "id": "electoral-story",
   "metadata": {},
   "outputs": [
    {
     "data": {
      "text/plain": [
       "0.7467664249367124"
      ]
     },
     "execution_count": 31,
     "metadata": {},
     "output_type": "execute_result"
    }
   ],
   "source": [
    "cmv.agentList[0].r.random()"
   ]
  },
  {
   "cell_type": "code",
   "execution_count": null,
   "id": "duplicate-smooth",
   "metadata": {},
   "outputs": [],
   "source": []
  }
 ],
 "metadata": {
  "kernelspec": {
   "display_name": "Python 3",
   "language": "python",
   "name": "python3"
  },
  "language_info": {
   "codemirror_mode": {
    "name": "ipython",
    "version": 3
   },
   "file_extension": ".py",
   "mimetype": "text/x-python",
   "name": "python",
   "nbconvert_exporter": "python",
   "pygments_lexer": "ipython3",
   "version": "3.9.7"
  }
 },
 "nbformat": 4,
 "nbformat_minor": 5
}
