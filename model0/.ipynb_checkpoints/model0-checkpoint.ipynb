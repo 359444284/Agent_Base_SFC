{
 "cells": [
  {
   "cell_type": "markdown",
   "id": "naval-nomination",
   "metadata": {},
   "source": [
    "#### Dedicato a Jack e Marco: ecco in azione l'*Istituto Centrale di Statistica*"
   ]
  },
  {
   "cell_type": "code",
   "execution_count": 1,
   "id": "latter-survey",
   "metadata": {},
   "outputs": [
    {
     "data": {
      "application/javascript": [
       "// to avoid scroll in windows\n",
       "IPython.OutputArea.prototype._should_scroll = function(lines) {\n",
       "    return false;\n",
       "}\n"
      ],
      "text/plain": [
       "<IPython.core.display.Javascript object>"
      ]
     },
     "metadata": {},
     "output_type": "display_data"
    }
   ],
   "source": [
    "%%javascript\n",
    "// to avoid scroll in windows\n",
    "IPython.OutputArea.prototype._should_scroll = function(lines) {\n",
    "    return false;\n",
    "}"
   ]
  },
  {
   "cell_type": "code",
   "execution_count": 2,
   "id": "great-earthquake",
   "metadata": {
    "scrolled": true
   },
   "outputs": [],
   "source": [
    "%matplotlib inline\n",
    "import random as r\n",
    "import matplotlib.pyplot as plt\n",
    "import commonVar as cmv\n",
    "import numpy as np"
   ]
  },
  {
   "cell_type": "markdown",
   "id": "prostate-shadow",
   "metadata": {},
   "source": [
    "### stock-flow *model0*, the real part\n",
    "\n",
    "- We are considering here uniquely the real part of the economy.\n",
    "\n",
    "- No loans, credits, debits, capital stock, interest rate\n",
    "\n",
    "- Enterpreneurs have unlimited funds that they put freely in their activities.\n",
    "\n",
    "- Saving is abstension from consuming."
   ]
  },
  {
   "cell_type": "markdown",
   "id": "comparable-matthew",
   "metadata": {},
   "source": [
    "### symbols\n",
    "\n",
    "[symbol table](https://www.caam.rice.edu/~heinken/latex/symbols.pdf) in $\\LaTeX$ \n",
    "\n",
    "$\\mathcal{N}$ - number of agents, `agentNum`\n",
    "\n",
    "$\\mathcal{E}$ - employer number, a uniformly distributed integer number in range $[\\mathcal{E}_{min},\\mathcal{E}_{max}]$, `employerNum`\n",
    "\n",
    "$p$ - price `price`\n",
    "\n",
    "$u$ - unemployment rate `unemploymentRate`\n",
    "\n",
    "$dimensional~etherogeneity$ is a $true/false$ chooser, forcing increasing firms to attract more workers. `dimensionalEtherogeneity`\n",
    "\n",
    "$\\pi_{i,t}$ - labor productivity, a uniformly distributed decimal number in range $[\\pi_{min},\\pi_{max}]$,`productivity`\n",
    "\n",
    "$\\Delta\\pi_{i,t}$ - uniperiodal additive productivity correction in range $[\\Delta\\pi_{min},\\Delta\\pi_{max}]$, `productivityDelta`\n",
    "\n",
    "$n_{i,t}$ - number of workers in a firm, set just in time\n",
    "\n",
    "$q_{i,t}$ - production in quantity, `production`\n",
    "\n",
    "$\\Pi_{i,t}$ - profit, `profit`\n",
    "\n",
    "$w$ - wage `wage`\n",
    "\n",
    "$r_{i,t}$ - revenues, `revenues`\n",
    "\n",
    "$s_{i,t}$ - sales, `sales`\n",
    "\n",
    "$v_{i,t}$ - in**v**entories (final, initial), `initialInventories`, `finalInventories`\n",
    "\n",
    "$d_{i}$ - deperibility share of the production, `deperibilityShare`, setting $d_{max}$\n",
    "\n",
    "$c_{i,t}$ - consumption rate, a uniformly distributed decimal number in range $[c_{min},c_{max}]$,`consumptionRate`\n",
    "\n",
    "$C_{i,t}$ - consumption of $i$ in $t$\n",
    "\n",
    "$T$ - number of cycles `ncycles`\n",
    "\n",
    "$t$ - cycle `cycle`\n",
    " \n",
    "\n",
    "### model parameters"
   ]
  },
  {
   "cell_type": "code",
   "execution_count": 3,
   "id": "designing-participant",
   "metadata": {
    "scrolled": true
   },
   "outputs": [],
   "source": [
    "cmv.agentNum=100\n",
    "employerMin=5\n",
    "employerMax=20\n",
    "\n",
    "cmv.price=1\n",
    "\n",
    "cmv.unemploymentRate=0\n",
    "cmv.dimensionalEtherogeneity=True\n",
    "\n",
    "cmv.productivityMin=0.8\n",
    "cmv.productivityMax=1.2\n",
    "cmv.productivityDeltaMin=cmv.productivityMin-1\n",
    "cmv.productivityDeltaMax=cmv.productivityMax-1\n",
    "\n",
    "cmv.maxDeperibilityShare=0. #0.5\n",
    "\n",
    "cmv.wage=1\n",
    "cmv.consumptionRateMin=0.5\n",
    "cmv.consumptionRateMax=1\n",
    "\n",
    "cmv.nOfConsumptionActions=30\n",
    "cmv.ncycles=10\n",
    "cmv.cycle=0"
   ]
  },
  {
   "cell_type": "markdown",
   "id": "broke-marathon",
   "metadata": {},
   "source": [
    "### agent structure\n",
    "\n",
    "The structure of a generic agent: it can represent and employer, a worker, an unemployed person.\n",
    "\n",
    "When an agent is created, the **initialization process** defines:\n",
    "\n",
    "- its numerical id, `num`\n",
    "\n",
    "- its employer status, `employer`, set to $false$\n",
    "- the id of its employer, `myEmployer`, set to $0$\n",
    "- $r_{i,0}$ - `revenues`, initial value  $0$\n",
    "- $s_{i,0}$ - `sales`, , initial value  $0$\n",
    "- $v_{i,0}$ - inventories, `initialInventories`, set to $0$ \n",
    "- $d_{i}$ - deperibility share, a uniformly distributed decimal number in range $[0,d_{max}]$,`deperibilityShare`\n",
    "- $w$ - `wage`, currently a fixed value\n",
    "\n",
    "\n",
    "\n",
    "each agent has the functions:\n",
    "\n",
    "- **produce** function, used only if is an employer, with:\n",
    "\n",
    "  $\\pi_{i,t}=\\pi_{i,t-1}+\\Delta\\pi_{i,t}$\n",
    "\n",
    "  $q_{i,t}=n_{i,t} \\pi_{i,t}$\n",
    "  \n",
    "\n",
    "- **payWages**\n",
    "\n",
    "  if employer, increases the wallet of each employee of the amount $w$ in each time $t$\n",
    "  \n",
    "\n",
    "- **buyConsumptionGoods** \n",
    "\n",
    "  $C_{i,t}=c_{i,t} (w+\\Pi_{i,t-1})$\n",
    "\n"
   ]
  },
  {
   "cell_type": "code",
   "execution_count": 4,
   "id": "found-bibliography",
   "metadata": {
    "scrolled": true
   },
   "outputs": [],
   "source": [
    "class Agent():\n",
    "    def __init__(self, num):\n",
    "        self.num=num\n",
    "        self.employer=False\n",
    "        self.myEmployer=0\n",
    "        self.revenues=0 #sales*price\n",
    "        self.sales=0\n",
    "        self.initialInventories=0\n",
    "        self.finalInventories=0\n",
    "        self.deperibilityShare=r.uniform(0,cmv.maxDeperibilityShare)\n",
    "        self.wallet=0\n",
    "        self.consumptionRate=0\n",
    "        self.profit=0\n",
    "\n",
    "    def produce(self):\n",
    "        self.initialInventories=self.finalInventories\n",
    "        self.productivity+=r.uniform(cmv.productivityDeltaMin,cmv.productivityDeltaMax)\n",
    "        self.production=len(self.myWorkers)*self.productivity\n",
    "        self.sales=0\n",
    "    \n",
    "    def payWages(self):\n",
    "        for anAgent in self.myWorkers:\n",
    "            anAgent.wallet+=cmv.wage\n",
    "            \n",
    "    def buyConsumptionGoods(self,k):\n",
    "        if k==0: \n",
    "            self.consumptionRate=r.uniform(cmv.consumptionRateMin,cmv.consumptionRateMax)\n",
    "            self.consumption=(cmv.wage+self.profit)*self.consumptionRate\n",
    "            if self.consumption < 0: self.consumption=0\n",
    "                \n",
    "        r.shuffle(cmv.employerList)\n",
    "        mySeller=cmv.employerList[0]\n",
    "        self.purchase=r.uniform(0,1/5)*self.consumption # mean value 0.10 (10 buy action could be sufficient)\n",
    "        self.purchase=min(self.purchase,mySeller.production+mySeller.initialInventories\\\n",
    "                          -mySeller.sales)\n",
    "        mySeller.sales+=self.purchase\n",
    "        self.consumption-=self.purchase\n",
    "    \n",
    "    def makeBalanceSheet(self):\n",
    "        lostProduction=0\n",
    "        if self.production - self.sales > 0: \n",
    "            lostProduction=(self.production - self.sales)*self.deperibilityShare\n",
    "        self.finalInventories=self.initialInventories+self.production-\\\n",
    "                              self.sales-lostProduction\n",
    "        self.revenues=self.sales*cmv.price\n",
    "        self.profit=self.revenues - len(self.myWorkers)*cmv.wage + \\\n",
    "          (self.finalInventories-self.initialInventories)*cmv.price\n",
    "        print(self.num,self.profit,self.revenues,len(self.myWorkers)*cmv.wage,\\\n",
    "              self.finalInventories,\\\n",
    "             self.initialInventories)\n",
    "        self.wallet+=self.profit\n",
    "        \n"
   ]
  },
  {
   "cell_type": "markdown",
   "id": "given-bangkok",
   "metadata": {},
   "source": [
    "### agent setup"
   ]
  },
  {
   "cell_type": "code",
   "execution_count": 5,
   "id": "timely-flesh",
   "metadata": {
    "scrolled": true
   },
   "outputs": [],
   "source": [
    "def setup():\n",
    "    cmv.employerNum=r.randint(employerMin, employerMax)\n",
    "    cmv.agentList=[]\n",
    "    for n in range(cmv.agentNum):\n",
    "        anAgent=Agent(n+1)\n",
    "        cmv.agentList.append(anAgent)\n",
    "    \n",
    "\n",
    "    # creation of employer list\n",
    "    cmv.employerList=[]\n",
    "    employerCandidates=cmv.agentList.copy()\n",
    "\n",
    "    for n in range(cmv.employerNum):\n",
    "        i=r.randint(0,len(employerCandidates))\n",
    "        employerCandidates[i].employer=True\n",
    "        employerCandidates[i].myEmployer=employerCandidates[i]\n",
    "        employerCandidates[i].myWorkers=[employerCandidates[i]]\n",
    "        employerCandidates[i].productivity=r.uniform(cmv.productivityMin,cmv.productivityMax)\n",
    "        cmv.employerList.append(employerCandidates.pop(i))\n",
    "      \n",
    "\n",
    "    # creation of workforce list\n",
    "    toBeEmployed=[]\n",
    "\n",
    "    for anAgent in cmv.agentList:\n",
    "        if not anAgent.employer: toBeEmployed.append(anAgent)\n",
    "    for k in range(round(cmv.unemploymentRate*cmv.agentNum)):\n",
    "        toBeEmployed.pop(r.randint(0,len(toBeEmployed)))\n",
    "    #len(toBeEmployed)\n",
    "\n",
    "\n",
    "    # assigning workforce to employers\n",
    "    tmpEmployerListWithDuplications=[]\n",
    "    for anAgent in cmv.agentList:\n",
    "        if anAgent.employer: tmpEmployerListWithDuplications.append(anAgent)\n",
    "    for anAgent in toBeEmployed:\n",
    "        choice=r.choice(tmpEmployerListWithDuplications)\n",
    "        anAgent.myEmployer=choice\n",
    "        choice.myWorkers.append(anAgent)\n",
    "        if cmv.dimensionalEtherogeneity: tmpEmployerListWithDuplications.append(choice)\n",
    "            \n",
    "    cmv.totalProductionSeries=[]\n",
    "    cmv.totalProductionInfraVarSeries=[]\n",
    "    cmv.totalProfitSeries=[]\n",
    "    cmv.totalProfitInfraVarSeries=[]\n"
   ]
  },
  {
   "cell_type": "raw",
   "id": "endless-product",
   "metadata": {},
   "source": [
    "list(toBeEmployed[i].myEmployer.num for i in range(len(toBeEmployed)))"
   ]
  },
  {
   "cell_type": "markdown",
   "id": "accompanied-defeat",
   "metadata": {},
   "source": [
    "### ------------------------------------------------------------------"
   ]
  },
  {
   "cell_type": "code",
   "execution_count": 6,
   "id": "artistic-barcelona",
   "metadata": {
    "scrolled": true
   },
   "outputs": [],
   "source": [
    "def produceAll():\n",
    "    cmv.totalProductionSeries.append(0)\n",
    "    cmv.totalProductionInfraVarSeries.append(0)\n",
    "    for anAgent in cmv.agentList:\n",
    "        if anAgent.employer: \n",
    "            anAgent.produce()\n",
    "            cmv.totalProductionSeries[-1]+=anAgent.production\n",
    "            cmv.totalProductionInfraVarSeries[-1]+=anAgent.production**2\n",
    "    cmv.totalProductionInfraVarSeries[-1]=\\\n",
    "                                  (cmv.totalProductionInfraVarSeries[-1]/cmv.employerNum - \\\n",
    "                                  (cmv.totalProductionSeries[-1]/cmv.employerNum)**2)\n",
    "                                          "
   ]
  },
  {
   "cell_type": "code",
   "execution_count": 7,
   "id": "married-fabric",
   "metadata": {
    "scrolled": true
   },
   "outputs": [],
   "source": [
    "def payWagesAll():\n",
    "    for anAgent in cmv.agentList:\n",
    "        if anAgent.employer:\n",
    "            anAgent.payWages()\n"
   ]
  },
  {
   "cell_type": "code",
   "execution_count": 8,
   "id": "global-mercury",
   "metadata": {},
   "outputs": [],
   "source": [
    "def buyConsumptionGoodsAll():\n",
    "    for k in range(cmv.nOfConsumptionActions):\n",
    "        r.shuffle(cmv.agentList)\n",
    "        for anAgent in cmv.agentList:\n",
    "            anAgent.buyConsumptionGoods(k)"
   ]
  },
  {
   "cell_type": "code",
   "execution_count": 9,
   "id": "exceptional-management",
   "metadata": {
    "scrolled": true
   },
   "outputs": [],
   "source": [
    "def makeBalanceSheetAll():\n",
    "    cmv.totalProfitSeries.append(0)\n",
    "    cmv.totalProfitInfraVarSeries.append(0)\n",
    "    for anAgent in cmv.agentList:\n",
    "        if anAgent.employer:\n",
    "            anAgent.makeBalanceSheet()\n",
    "            cmv.totalProfitSeries[-1]+=anAgent.profit\n",
    "            cmv.totalProfitInfraVarSeries[-1]+=anAgent.profit**2\n",
    "    cmv.totalProfitInfraVarSeries[-1]=(cmv.totalProfitInfraVarSeries[-1]/cmv.employerNum - \\\n",
    "                                          (cmv.totalProfitSeries[-1]/cmv.employerNum)**2)\n",
    "                                             "
   ]
  },
  {
   "cell_type": "code",
   "execution_count": 10,
   "id": "empirical-radio",
   "metadata": {},
   "outputs": [],
   "source": [
    "def plot1():\n",
    "    # https://matplotlib.org/3.5.1/gallery/subplots_axes_and_figures/two_scales.html\n",
    "    # https://matplotlib.org/3.5.1/tutorials/colors/colors.html\n",
    "    myColor1 = 'tab:orange'\n",
    "    myColor2 = 'tab:blue'\n",
    "    fig1, ax1a = plt.subplots()\n",
    "    ax1a.set_ylim([0, max(cmv.totalProductionSeries)])\n",
    "    t=range(1,cmv.ncycles+1)\n",
    "    ax1a.plot(t, cmv.totalProductionSeries, label=\"production\", color=myColor1)\n",
    "    ax1a.tick_params(axis='y', labelcolor=myColor1)\n",
    "    \n",
    "    ax2a = ax1a.twinx()  # instantiate a second axes that shares the same x-axis\n",
    "    ax2a.set_ylim([0, max(cmv.totalProductionInfraVarSeries)])\n",
    "    ax2a.plot(t, cmv.totalProductionInfraVarSeries, label=\"prodInVar\", color=myColor2)\n",
    "    ax2a.tick_params(axis='y', labelcolor=myColor2)\n",
    "    fig1.legend()\n",
    "\n",
    "def plot2():\n",
    "    # https://matplotlib.org/3.5.1/gallery/subplots_axes_and_figures/two_scales.html\n",
    "    # https://matplotlib.org/3.5.1/tutorials/colors/colors.html\n",
    "    myColor1 = 'tab:orange'\n",
    "    myColor2 = 'tab:blue'\n",
    "    fig2, ax1b = plt.subplots()\n",
    "    ax1b.set_ylim([min(cmv.totalProfitSeries), max(0,max(cmv.totalProfitSeries))])\n",
    "    t=range(1,cmv.ncycles+1)\n",
    "    ax1b.plot(t, cmv.totalProfitSeries, label=\"profit\", color=myColor1)\n",
    "    ax1b.tick_params(axis='y', labelcolor=myColor1)\n",
    "    ax1b.plot([0,cmv.ncycles],[0,0],color='tab:green')\n",
    "\n",
    "    ax2b = ax1b.twinx()  # instantiate a second axes that shares the same x-axis\n",
    "    ax2b.set_ylim([0, max(cmv.totalProfitInfraVarSeries)])\n",
    "    ax2b.plot(t, cmv.totalProfitInfraVarSeries, label=\"profInVar\", color=myColor2)\n",
    "    ax2b.tick_params(axis='y', labelcolor=myColor2)\n",
    "    fig2.legend()\n"
   ]
  },
  {
   "cell_type": "markdown",
   "id": "neutral-cylinder",
   "metadata": {},
   "source": [
    "### model machine"
   ]
  },
  {
   "cell_type": "code",
   "execution_count": 11,
   "id": "sealed-valuation",
   "metadata": {
    "scrolled": true
   },
   "outputs": [
    {
     "name": "stdout",
     "output_type": "stream",
     "text": [
      "90 0.29197546757054127 3.2919754675705413 3 0.0 0\n",
      "33 0.8229001234455673 4.587776060209861 4 0.23512406323570634 0\n",
      "82 -2.0301669248452363 4.816767087821598 10 3.153065987333166 0\n",
      "75 2.568952576530137 4.858912636616348 15 12.710039939913788 0\n",
      "98 -0.2743507384000683 2.7256492615999317 3 0.0 0\n",
      "17 0.9688419135315476 4.816110151082536 4 0.15273176244901165 0\n",
      "10 0.3498165480821922 1.3498165480821922 1 0.0 0\n",
      "2 -0.12322002108227004 0.87677997891773 1 0.0 0\n",
      "45 0.5551976717798892 3.555197671779889 3 0.0 0\n",
      "64 1.9517085954160072 5.112986318935614 13 9.838722276480393 0\n",
      "25 -0.43869315138373377 3.5613068486162662 4 0.0 0\n",
      "60 -1.3601165386462388 3.5960079373968106 8 3.04387552395695 0\n",
      "62 1.2237803856221463 4.858878173072477 12 8.36490221254967 0\n",
      "76 -0.2754114510697905 4.492973933748718 5 0.23161461518149196 0\n",
      "96 -0.9953622458337059 3.004637754166294 4 0.0 0\n",
      "31 -1.4792807752202446 3.5207192247797554 5 0.0 0\n",
      "53 -0.15071992298743409 0.8492800770125659 1 0.0 0\n",
      "92 0.6603090363700765 3.6603090363700765 3 0.0 0\n",
      "77 0.03611366087307566 1.0361136608730757 1 0.0 0\n",
      "25 -0.5896106957287581 3.410389304271242 4 0.0 0.0\n",
      "53 -0.24892202548208986 0.7510779745179101 1 0.0 0.0\n",
      "33 0.1630187393227267 4.398142802558433 4 0.0 0.23512406323570634\n",
      "17 1.6193710155081567 4.500552528161348 4 1.27155024979582 0.15273176244901165\n",
      "90 0.05115509280782682 3.051155092807827 3 0.0 0.0\n",
      "75 1.3999499449211257 4.60708354777998 15 24.502906337054934 12.710039939913788\n",
      "77 0.22697432759811154 1.2269743275981115 1 0.0 0.0\n",
      "10 0.41399927825464844 1.4139992782546484 1 0.0 0.0\n",
      "92 1.002782945414209 4.002782945414209 3 0.0 0.0\n",
      "82 -2.290064698639167 3.950711950688204 10 6.912289338005795 3.153065987333166\n",
      "2 -0.2807698344389433 0.7192301655610567 1 0.0 0.0\n",
      "64 2.013284545710021 5.816107270215389 13 19.035899551975024 9.838722276480393\n",
      "96 -0.5222505801946422 3.477749419805358 4 0.0 0.0\n",
      "62 1.9353493505575754 5.293755952598992 12 17.006495610508253 8.36490221254967\n",
      "76 -1.0079309940909296 4.223683621090562 5 0.0 0.23161461518149196\n",
      "98 0.1801860194363769 3.180186019436377 3 0.0 0.0\n",
      "45 0.9485880615435516 3.9485880615435516 3 0.0 0.0\n",
      "60 -1.911896084622263 3.8456259349618005 8 5.286353504372887 3.04387552395695\n",
      "31 -1.9749087227267776 3.0250912772732224 5 0.0 0.0\n",
      "77 0.28700841725440895 1.287008417254409 1 0.0 0.0\n",
      "25 -0.7217165649215143 3.2782834350784857 4 0.0 0.0\n",
      "64 -0.437813245482479 5.567895139301518 13 26.030191167191028 19.035899551975024\n",
      "90 0.35608450776059897 3.356084507760599 3 0.0 0.0\n",
      "31 -1.099029889667975 3.900970110332025 5 0.0 0.0\n",
      "82 -1.6299709904095057 4.678476651290865 10 10.603841696305425 6.912289338005795\n",
      "98 -0.38057131024572666 2.6194286897542733 3 0.0 0.0\n",
      "33 0.15763383109573414 4.157633831095734 4 0.0 0.0\n",
      "53 -0.18718058174540753 0.8128194182545925 1 0.0 0.0\n",
      "10 0.484151417908516 1.484151417908516 1 0.0 0.0\n",
      "92 1.1204480121807752 4.120448012180775 3 0.0 0.0\n",
      "75 1.1778650704627083 4.729194503660746 15 35.951576903856896 24.502906337054934\n",
      "2 -0.42629707903343206 0.5737029209665679 1 0.0 0.0\n",
      "17 1.4729314214012978 5.317284346034366 4 1.4271973251627514 1.27155024979582\n",
      "96 -0.7220214792774136 3.2779785207225864 4 0.0 0.0\n",
      "60 -2.8342246349525233 4.651009411156422 8 5.801119458263941 5.286353504372887\n",
      "45 1.5228916885911055 4.124931436535946 3 0.3979602520551593 0.0\n",
      "76 -1.898847384561643 3.101152615438357 5 0.0 0.0\n",
      "62 1.8285928508433003 3.8334814729990923 12 27.00160698835246 17.006495610508253\n",
      "60 -1.9195274326337932 5.099988839054354 8 6.781603186575794 5.801119458263941\n",
      "33 0.6592273046277892 4.659227304627789 4 0.0 0.0\n",
      "76 -1.9269583020440595 3.0730416979559405 5 0.0 0.0\n",
      "64 -1.3844877942152998 4.398194680435959 13 33.24750869253977 26.030191167191028\n",
      "10 0.3439098549078923 1.3439098549078923 1 0.0 0.0\n",
      "82 -3.2436242052575315 4.47010445976253 10 12.890113031285363 10.603841696305425\n",
      "45 1.5920553257095644 4.990015577764724 3 0.0 0.3979602520551593\n",
      "31 -0.6618624907945723 4.338137509205428 5 0.0 0.0\n",
      "96 -0.4383406690003091 3.561659330999691 4 0.0 0.0\n",
      "17 1.973938006778691 4.17907309418269 4 3.2220622377587524 1.4271973251627514\n",
      "90 0.8704773377486177 3.8704773377486177 3 0.0 0.0\n",
      "92 1.1225257969798772 4.122525796979877 3 0.0 0.0\n",
      "2 -0.6039354597998143 0.39606454020018567 1 0.0 0.0\n",
      "53 -0.3127242579134395 0.6872757420865605 1 0.0 0.0\n",
      "75 0.21749730390594024 4.008459529601962 15 47.160614678160876 35.951576903856896\n",
      "77 0.3878361984797065 1.3878361984797065 1 0.0 0.0\n",
      "98 -0.4351979199957494 2.5648020800042506 3 0.0 0.0\n",
      "25 -0.10675283115404932 3.8932471688459507 4 0.0 0.0\n",
      "62 3.1736893528828016 4.812884778879878 12 37.36241156235538 27.00160698835246\n",
      "92 0.5657733480125584 3.5657733480125584 3 0.0 0.0\n",
      "2 -0.6222093576571148 0.3777906423428852 1 0.0 0.0\n",
      "64 -2.508823705940407 5.908069864562038 13 37.83061512203732 33.24750869253977\n",
      "33 1.3274328612017499 4.402884226583789 4 0.9245486346179606 0.0\n",
      "96 -1.124312773690864 2.875687226309136 4 0.0 0.0\n",
      "82 -2.8156264085459135 5.254929931359273 10 14.819556691380177 12.890113031285363\n",
      "25 0.2515025289092838 4.251502528909284 4 0.0 0.0\n",
      "77 0.28402220310101844 1.2840222031010184 1 0.0 0.0\n",
      "75 -0.9448423709992539 4.2860667542616895 15 56.92970555289993 47.160614678160876\n",
      "45 1.874154290595448 4.874154290595448 3 0.0 0.0\n",
      "60 -3.0568244337137367 5.21974027836061 8 6.505038474501448 6.781603186575794\n",
      "76 -1.2973710466006558 3.702628953399344 5 0.0 0.0\n",
      "17 1.2889254907483938 4.546352406963018 4 3.9646353215441286 3.2220622377587524\n",
      "62 2.6770485376234046 4.910607771890758 12 47.12885232808803 37.36241156235538\n",
      "31 -0.8613424711603423 4.138657528839658 5 0.0 0.0\n",
      "98 -0.023976992647330775 2.9760230073526692 3 0.0 0.0\n",
      "53 -0.3573383389628374 0.6426616610371626 1 0.0 0.0\n",
      "90 0.8614961743935354 3.8614961743935354 3 0.0 0.0\n",
      "10 0.2282405816549924 1.2282405816549924 1 0.0 0.0\n",
      "96 -1.2615078322787432 2.738492167721257 4 0.0 0.0\n",
      "53 -0.3926702215971749 0.6073297784028251 1 0.0 0.0\n",
      "77 0.17454468639013676 1.1745446863901368 1 0.0 0.0\n",
      "76 -0.7353828715070723 4.264617128492928 5 0.0 0.0\n",
      "98 -0.16787035826363894 2.832129641736361 3 0.0 0.0\n",
      "31 -0.5358324130704855 4.4641675869295145 5 0.0 0.0\n",
      "10 0.05569417428776702 1.055694174287767 1 0.0 0.0\n",
      "25 -0.18485519842456277 3.6797875226391343 4 0.1353572789363029 0.0\n",
      "92 0.8318057737861002 3.8318057737861 3 0.0 0.0\n",
      "64 -1.9075937589660725 4.856997041110013 13 44.06602432196124 37.83061512203732\n",
      "90 1.400321565032467 4.400321565032467 3 0.0 0.0\n",
      "17 0.7993305115642082 3.675098935383086 4 5.088866897725251 3.9646353215441286\n",
      "2 -0.5983868083647494 0.4016131916352505 1 0.0 0.0\n",
      "33 1.8058610845119984 4.443145229841628 4 2.287264489288331 0.9245486346179606\n",
      "45 1.7306238907098015 4.7306238907098015 3 0.0 0.0\n",
      "82 -4.588825699056544 4.680736991023595 10 15.549994001300037 14.819556691380177\n",
      "60 -3.7010972727690605 3.490159117046738 8 7.313782084685649 6.505038474501448\n",
      "75 1.4672865927537124 4.608315808633282 15 68.78867633702036 56.92970555289993\n",
      "62 3.9751680152454707 4.493246879949217 12 58.610773463384284 47.12885232808803\n",
      "98 0.3808015476790221 3.380801547679022 3 0.0 0.0\n",
      "60 -3.73077557450057 4.848133208598747 8 6.734873301586332 7.313782084685649\n",
      "33 1.7331399810770822 5.515671173283789 4 2.504733297081624 2.287264489288331\n",
      "77 0.10551444423942469 1.1055144442394247 1 0.0 0.0\n",
      "10 0.021448429326228924 1.021448429326229 1 0.0 0.0\n",
      "96 -0.620956366096244 3.379043633903756 4 0.0 0.0\n",
      "92 1.2674550255246526 4.267455025524653 3 0.0 0.0\n",
      "75 -0.5482664511655493 4.343326803039045 15 78.89708308281577 68.78867633702036\n",
      "62 2.557609099327091 4.770076208934756 12 68.39830635377662 58.610773463384284\n",
      "53 -0.46868826543260944 0.5313117345673906 1 0.0 0.0\n",
      "25 0.46351793241828565 4.5988752113545885 4 0.0 0.1353572789363029\n",
      "64 0.10142021020202918 4.329058290447165 13 52.8383862417161 44.06602432196124\n",
      "90 0.9431127834585409 3.943112783458541 3 0.0 0.0\n",
      "2 -0.5344216913932422 0.46557830860675775 1 0.0 0.0\n",
      "31 -1.3027995183413394 3.6972004816586606 5 0.0 0.0\n",
      "17 0.9896825629647479 4.317899587954722 4 5.760649872735277 5.088866897725251\n",
      "45 2.154298475550804 5.154298475550804 3 0.0 0.0\n",
      "82 -5.590611207403777 5.473466312391427 10 14.485916481504834 15.549994001300037\n",
      "76 -0.16887528112995298 4.831124718870047 5 0.0 0.0\n",
      "2 -0.680887754125217 0.31911224587478304 1 0.0 0.0\n",
      "33 1.6729137288156588 5.4637761348145215 4 2.7138708910827614 2.504733297081624\n",
      "90 1.5258764519516692 4.525876451951669 3 0.0 0.0\n",
      "82 -7.0565013577834845 5.185335222228312 10 12.244079901493038 14.485916481504834\n",
      "10 -0.1663139533065835 0.8336860466934165 1 0.0 0.0\n",
      "92 1.7645958723627135 4.7645958723627135 3 0.0 0.0\n",
      "17 1.5797479764836986 5.508221042909419 4 5.8321768063095565 5.760649872735277\n",
      "77 -0.08662485331845238 0.9133751466815476 1 0.0 0.0\n",
      "31 -1.0528354446985153 3.9471645553014847 5 0.0 0.0\n",
      "98 0.36862408641048194 3.368624086410482 3 0.0 0.0\n",
      "60 -4.850748419707528 5.586663637555604 8 4.297461244323201 6.734873301586332\n",
      "75 -0.46399391743078944 5.251895206422185 15 88.1811939589628 78.89708308281577\n",
      "96 -0.9084191476848944 3.0915808523151056 4 0.0 0.0\n",
      "64 2.588335737999115 3.8571589156183053 13 64.56956306409691 52.8383862417161\n",
      "25 0.48790745024375326 4.487907450243753 4 0.0 0.0\n",
      "53 -0.30270304002156245 0.6972969599784375 1 0.0 0.0\n",
      "76 -0.5863644132749455 4.4136355867250545 5 0.0 0.0\n",
      "62 0.7835780670253083 4.1621640193295 12 77.01972040147243 68.39830635377662\n",
      "45 2.346072879219644 4.229884584192322 3 1.1161882950273219 0.0\n"
     ]
    },
    {
     "name": "stdout",
     "output_type": "stream",
     "text": [
      "90 1.1558242958802332 4.155824295880233 3 0.0 0.0\n",
      "60 -3.2745458789217947 4.6270698575838205 8 4.395845507817586 4.297461244323201\n",
      "92 2.2664802286738155 4.665832481182785 3 0.6006477474910303 0.0\n",
      "2 -0.8575135918437273 0.14248640815627267 1 0.0 0.0\n",
      "17 1.7840170418055603 6.358409842709544 4 5.257784005405573 5.8321768063095565\n",
      "76 -0.7667810863610187 4.233218913638981 5 0.0 0.0\n",
      "75 -1.2814415480000925 4.997910485533095 15 96.90184192542961 88.1811939589628\n",
      "82 -5.252851568305385 4.825258329505472 10 12.165970003682181 12.244079901493038\n",
      "96 -0.2116624756580361 3.788337524341964 4 0.0 0.0\n",
      "64 2.3959213380936824 5.006432049701996 13 74.9590523524886 64.56956306409691\n",
      "77 -0.01974632706239854 0.9802536729376015 1 0.0 0.0\n",
      "45 2.09488592777648 4.058645511653118 3 2.1524287111506837 1.1161882950273219\n",
      "53 -0.2882131029175299 0.7117868970824701 1 0.0 0.0\n",
      "33 1.0284931402050264 4.471251381512365 4 3.2711126497754224 2.7138708910827614\n",
      "62 0.5461149280052116 5.461299413778763 12 84.10453591569888 77.01972040147243\n",
      "10 0.030563758008720576 1.0305637580087206 1 0.0 0.0\n",
      "31 -0.5821613728306136 4.417838627169386 5 0.0 0.0\n",
      "98 -0.224787108586197 2.775212891413803 3 0.0 0.0\n",
      "25 -0.18628086338818228 3.8137191366118177 4 0.0 0.0\n",
      "25 -0.29151924935500517 3.708480750644995 4 0.0 0.0\n",
      "64 3.1005081265041117 4.90875311765963 13 86.15080736133308 74.9590523524886\n",
      "92 2.3178800248676783 4.994172878416269 3 0.9243548939424393 0.6006477474910303\n",
      "62 0.634613007675318 5.30373812882535 12 91.43541079454884 84.10453591569888\n",
      "75 -2.6770987177921484 4.949499903371078 15 104.27524330426638 96.90184192542961\n",
      "98 0.030180010922751244 3.0301800109227512 3 0.0 0.0\n",
      "2 -0.8444547366563626 0.1555452633436374 1 0.0 0.0\n",
      "90 1.7320520640993617 4.355685646911205 3 0.3763664171881569 0.0\n",
      "17 2.043990067715357 4.638175195950159 4 6.663598877170771 5.257784005405573\n",
      "53 -0.4552790572551967 0.5447209427448033 1 0.0 0.0\n",
      "82 -4.186717438112806 4.862223009664895 10 13.11702955590448 12.165970003682181\n",
      "60 -3.1219465446629675 4.8004660594391 8 4.473432903715518 4.395845507817586\n",
      "31 0.12277800650079218 4.566430242883727 5 0.5563477636170653 0.0\n",
      "76 -0.2896508798348343 4.238590547334948 5 0.4717585728302174 0.0\n",
      "45 1.9466816209472135 5.143564526189975 3 1.9555458059079225 2.1524287111506837\n",
      "96 0.2674704089582258 4.267470408958226 4 0.0 0.0\n",
      "33 0.875486938345321 5.286678235686827 4 2.8599213524339167 3.2711126497754224\n",
      "77 0.17462898861475895 1.174628988614759 1 0.0 0.0\n",
      "10 -0.14728729277605346 0.8527127072239465 1 0.0 0.0\n"
     ]
    },
    {
     "data": {
      "image/png": "[encoded data removed]",
      "text/plain": [
       "<Figure size 432x288 with 2 Axes>"
      ]
     },
     "metadata": {},
     "output_type": "display_data"
    },
    {
     "data": {
      "image/png": "[encoded data removed]",
      "text/plain": [
       "<Figure size 432x288 with 2 Axes>"
      ]
     },
     "metadata": {},
     "output_type": "display_data"
    }
   ],
   "source": [
    "r.seed(121314)\n",
    "\n",
    "setup()\n",
    "\n",
    "cmv.actionList=[\"produceAll()\",\"payWagesAll()\",\"buyConsumptionGoodsAll()\",\\\n",
    "                \"makeBalanceSheetAll()\"]\n",
    "\n",
    "for cmv.cycle in range(cmv.ncycles):\n",
    "    for anAction in cmv.actionList:\n",
    "            exec(anAction)\n",
    "\n",
    "plot1()\n",
    "plot2()"
   ]
  },
  {
   "cell_type": "code",
   "execution_count": null,
   "id": "durable-display",
   "metadata": {},
   "outputs": [],
   "source": []
  },
  {
   "cell_type": "code",
   "execution_count": null,
   "id": "internal-background",
   "metadata": {},
   "outputs": [],
   "source": []
  },
  {
   "cell_type": "raw",
   "id": "passive-spine",
   "metadata": {},
   "source": [
    "cmv.totalProductionInfraVarSeries"
   ]
  },
  {
   "cell_type": "raw",
   "id": "brief-toronto",
   "metadata": {
    "scrolled": false
   },
   "source": [
    "list(anAgent.purchase for anAgent in cmv.agentList)"
   ]
  },
  {
   "cell_type": "code",
   "execution_count": 12,
   "id": "international-neighborhood",
   "metadata": {},
   "outputs": [],
   "source": [
    "p = np.zeros(shape=(cmv.employerNum,1))"
   ]
  },
  {
   "cell_type": "code",
   "execution_count": 13,
   "id": "medical-aluminum",
   "metadata": {},
   "outputs": [
    {
     "name": "stdout",
     "output_type": "stream",
     "text": [
      "25 -0.29151924935500517\n",
      "64 3.1005081265041117\n",
      "92 2.3178800248676783\n",
      "62 0.634613007675318\n",
      "75 -2.6770987177921484\n",
      "98 0.030180010922751244\n",
      "2 -0.8444547366563626\n",
      "90 1.7320520640993617\n",
      "17 2.043990067715357\n",
      "53 -0.4552790572551967\n",
      "82 -4.186717438112806\n",
      "60 -3.1219465446629675\n",
      "31 0.12277800650079218\n",
      "76 -0.2896508798348343\n",
      "45 1.9466816209472135\n",
      "96 0.2674704089582258\n",
      "33 0.875486938345321\n",
      "77 0.17462898861475895\n",
      "10 -0.14728729277605346\n"
     ]
    }
   ],
   "source": [
    "rr=0\n",
    "for anAgent in cmv.agentList:\n",
    "    if anAgent.employer: \n",
    "        p[rr,0]=anAgent.profit\n",
    "        print(anAgent.num, anAgent.profit)\n",
    "        rr+=1"
   ]
  },
  {
   "cell_type": "raw",
   "id": "overhead-albany",
   "metadata": {},
   "source": [
    "p"
   ]
  },
  {
   "cell_type": "code",
   "execution_count": 14,
   "id": "common-cattle",
   "metadata": {},
   "outputs": [
    {
     "data": {
      "text/plain": [
       "0.06485870256344821"
      ]
     },
     "execution_count": 14,
     "metadata": {},
     "output_type": "execute_result"
    }
   ],
   "source": [
    "p.mean()"
   ]
  },
  {
   "cell_type": "raw",
   "id": "overhead-composition",
   "metadata": {},
   "source": [
    "p.var()"
   ]
  },
  {
   "cell_type": "code",
   "execution_count": null,
   "id": "jewish-harbor",
   "metadata": {},
   "outputs": [],
   "source": []
  }
 ],
 "metadata": {
  "kernelspec": {
   "display_name": "Python 3",
   "language": "python",
   "name": "python3"
  },
  "language_info": {
   "codemirror_mode": {
    "name": "ipython",
    "version": 3
   },
   "file_extension": ".py",
   "mimetype": "text/x-python",
   "name": "python",
   "nbconvert_exporter": "python",
   "pygments_lexer": "ipython3",
   "version": "3.9.7"
  }
 },
 "nbformat": 4,
 "nbformat_minor": 5
}
