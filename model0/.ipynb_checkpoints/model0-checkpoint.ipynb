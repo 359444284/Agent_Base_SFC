{
 "cells": [
  {
   "cell_type": "markdown",
   "id": "naval-nomination",
   "metadata": {},
   "source": [
    "#### Dedicato a Jack e Marco: ecco in azione l'*Istituto Centrale di Statistica*"
   ]
  },
  {
   "cell_type": "code",
   "execution_count": 1,
   "id": "great-earthquake",
   "metadata": {},
   "outputs": [],
   "source": [
    "%matplotlib inline\n",
    "import random as r\n",
    "import matplotlib.pyplot as plt\n",
    "import commonVar as cmv"
   ]
  },
  {
   "cell_type": "markdown",
   "id": "prostate-shadow",
   "metadata": {},
   "source": [
    "### stock-flow *model0*, the real part\n",
    "\n",
    "- We are considering here uniquely the real part of the economy.\n",
    "\n",
    "- No loans, credits, debits, capital stock, interest rate\n",
    "\n",
    "- Enterpreneurs have unlimited funds that they put freely in their activities.\n",
    "\n",
    "- Saving is abstension from consuming."
   ]
  },
  {
   "cell_type": "markdown",
   "id": "comparable-matthew",
   "metadata": {},
   "source": [
    "### simbols\n",
    "\n",
    "[symbol table](https://www.caam.rice.edu/~heinken/latex/symbols.pdf) in $\\LaTeX$ \n",
    "\n",
    "$\\mathcal{N}$ - number of agents, `agentNum`\n",
    "\n",
    "$\\mathcal{E}$ - employer number, a uniformly distributed integer number in range $[\\mathcal{E}_{min},\\mathcal{E}_{max}]$, `employerNum`\n",
    "\n",
    "$p$ - price `price`\n",
    "\n",
    "$u$ - unemployment rate `unemploymentRate`\n",
    "\n",
    "$dimensional~etherogeneity$ is a $true/false$ chooser, forcing increasing firms to attract more workers. `dimensionalEtherogeneity`\n",
    "\n",
    "$\\pi_{i,t}$ - labor productivity, a uniformly distributed decimal number in range $[\\pi_{min},\\pi_{max}]$,`productivity`\n",
    "\n",
    "$\\Delta\\pi_{i,t}$ - uniperiodal additive productivity correction in range $[\\Delta\\pi_{min},\\Delta\\pi_{max}]$, `productivityDelta`\n",
    "\n",
    "$n_{i,t}$ - number of workers in a firm, set just in time\n",
    "\n",
    "$q_{i,t}$ - production in quantity, `production`\n",
    "\n",
    "$\\Pi_{i,t}$ - profit, `profit`\n",
    "\n",
    "$w$ - wage `wage`\n",
    "\n",
    "$r_{i,t}$ - revenues, `revenues`\n",
    "\n",
    "$s_{i,t}$ - sales, `sales`\n",
    "\n",
    "$w_{i,t}$ - inventories (final, initial), `initialInventories`, `finalInventories`\n",
    "\n",
    "$d_{i,t}$ - deperibility share, `deperibilityShare`\n",
    "\n",
    "$T$ - number of cycles `ncycles`\n",
    "\n",
    "$t$ - cycle `cycle`\n",
    "\n",
    "### model parameters"
   ]
  },
  {
   "cell_type": "code",
   "execution_count": 2,
   "id": "designing-participant",
   "metadata": {},
   "outputs": [],
   "source": [
    "cmv.agentNum=100\n",
    "employerMin=5\n",
    "employerMax=20\n",
    "\n",
    "cmv.price=1\n",
    "\n",
    "cmv.unemploymentRate=0\n",
    "cmv.dimensionalEtherogeneity=True\n",
    "\n",
    "cmv.productivityMin=0.8\n",
    "cmv.productivityMax=1.2\n",
    "cmv.productivityDeltaMin=cmv.productivityMin-1\n",
    "cmv.productivityDeltaMax=cmv.productivityMax-1\n",
    "\n",
    "cmv.maxDeperibilityShare=0.5\n",
    "\n",
    "cmv.wage=1\n",
    "\n",
    "cmv.ncycles=100\n",
    "cmv.cycle=0"
   ]
  },
  {
   "cell_type": "markdown",
   "id": "broke-marathon",
   "metadata": {},
   "source": [
    "### agent structure\n",
    "\n",
    "Here we have the structure of a generic agent: it can represent and employer, a worker, an unemployed person.\n",
    "\n",
    "When an agent is created, the **initialization process** defines:\n",
    "\n",
    "- its numerical id, `num`\n",
    "\n",
    "- its employer status, `employer`, set to $false$\n",
    "- the id of its employer, `myEmployer`, set to $0$\n",
    "- $r_{i,0}$ - `revenues`, initial value  $0$\n",
    "- $s_{i,0}$ - `sales`, , initial value  $0$\n",
    "- $w_{i,0}$ - inventories, `initialInventories`, set to $0$ \n",
    "\n",
    "\n",
    "\n",
    "each agent has a **produce** function, used only if is an employer, with:\n",
    "\n",
    "$\\pi_{i,t}=\\pi_{i,t-1}+\\Delta\\pi_{i,t}$\n",
    "\n",
    "$q_{i,t}=n_{i,t} \\pi_{i,t}$\n"
   ]
  },
  {
   "cell_type": "code",
   "execution_count": 3,
   "id": "found-bibliography",
   "metadata": {},
   "outputs": [],
   "source": [
    "class Agent():\n",
    "    def __init__(self, num):\n",
    "        self.num=num\n",
    "        self.employer=False\n",
    "        self.myEmployer=0\n",
    "        self.revenues=0 #sales*price\n",
    "        self.sales=0\n",
    "        self.initialInventories=0\n",
    "        self.deperibilityShare=r.uniform(0,cmv.maxDeperibilityShare)\n",
    "\n",
    "    def produce(self):\n",
    "        self.productivity+=r.uniform(cmv.productivityDeltaMin,cmv.productivityDeltaMax)\n",
    "        self.production=len(self.myWorkers)*self.productivity\n",
    "    \n",
    "    def makeBalanceSheet(self):\n",
    "        lostProduction=0\n",
    "        if self.production - self.sales > 0: \n",
    "            lostProduction=(self.production - self.sales)*self.deperibilityShare\n",
    "        self.finalInventories=self.initialInventories+self.production-\\\n",
    "                              self.sales-lostProduction\n",
    "        self.revenues=self.sales*cmv.price\n",
    "        self.profit=self.revenues - len(self.myWorkers)*cmv.wage + \\\n",
    "          (self.finalInventories-self.initialInventories)*cmv.price"
   ]
  },
  {
   "cell_type": "markdown",
   "id": "given-bangkok",
   "metadata": {},
   "source": [
    "### agent setup"
   ]
  },
  {
   "cell_type": "code",
   "execution_count": 4,
   "id": "timely-flesh",
   "metadata": {},
   "outputs": [],
   "source": [
    "def setup():\n",
    "    cmv.employerNum=r.randint(employerMin, employerMax)\n",
    "    cmv.agentList=[]\n",
    "    for n in range(cmv.agentNum):\n",
    "        anAgent=Agent(n+1)\n",
    "        cmv.agentList.append(anAgent)\n",
    "    \n",
    "\n",
    "    # creation of employer list\n",
    "    employerCandidates=cmv.agentList.copy()\n",
    "\n",
    "    for n in range(cmv.employerNum):\n",
    "        i=r.randint(0,len(employerCandidates))\n",
    "        employerCandidates[i].employer=True\n",
    "        employerCandidates[i].myEmployer=employerCandidates[i]\n",
    "        employerCandidates[i].myWorkers=[employerCandidates[i]]\n",
    "        employerCandidates[i].productivity=r.uniform(cmv.productivityMin,cmv.productivityMax)\n",
    "        employerCandidates.pop(i)\n",
    "      \n",
    "\n",
    "    # creation of workforce list\n",
    "    toBeEmployed=[]\n",
    "\n",
    "    for anAgent in cmv.agentList:\n",
    "        if not anAgent.employer: toBeEmployed.append(anAgent)\n",
    "    for k in range(round(cmv.unemploymentRate*cmv.agentNum)):\n",
    "        toBeEmployed.pop(r.randint(0,len(toBeEmployed)))\n",
    "    #len(toBeEmployed)\n",
    "\n",
    "\n",
    "    # assigning workforce to employers\n",
    "    tmpEmployerListWithDuplications=[]\n",
    "    for anAgent in cmv.agentList:\n",
    "        if anAgent.employer: tmpEmployerListWithDuplications.append(anAgent)\n",
    "    for anAgent in toBeEmployed:\n",
    "        choice=r.choice(tmpEmployerListWithDuplications)\n",
    "        anAgent.myEmployer=choice\n",
    "        choice.myWorkers.append(anAgent)\n",
    "        if cmv.dimensionalEtherogeneity: tmpEmployerListWithDuplications.append(choice)\n",
    "            \n",
    "    cmv.totalProductionSeries=[]\n",
    "    cmv.totalProductionInfraVarSeries=[]\n",
    "    cmv.totalProfitSeries=[]\n",
    "    cmv.totalProfitInfraVarSeries=[]\n"
   ]
  },
  {
   "cell_type": "raw",
   "id": "working-industry",
   "metadata": {},
   "source": [
    "for anAgent in cmv.agentList:\n",
    "    if anAgent.employer: \n",
    "        print(anAgent.num, anAgent.productivity,anAgent.production,\\\n",
    "              list(anAgent.myWorkers[i].num for i in range(len(anAgent.myWorkers))))"
   ]
  },
  {
   "cell_type": "raw",
   "id": "endless-product",
   "metadata": {},
   "source": [
    "list(toBeEmployed[i].myEmployer.num for i in range(len(toBeEmployed)))"
   ]
  },
  {
   "cell_type": "markdown",
   "id": "accompanied-defeat",
   "metadata": {},
   "source": [
    "### ------------------------------------------------------------------"
   ]
  },
  {
   "cell_type": "code",
   "execution_count": 5,
   "id": "artistic-barcelona",
   "metadata": {},
   "outputs": [],
   "source": [
    "def produceAll():\n",
    "    cmv.totalProductionSeries.append(0)\n",
    "    cmv.totalProductionInfraVarSeries.append(0)\n",
    "    for anAgent in cmv.agentList:\n",
    "        if anAgent.employer: \n",
    "            anAgent.produce()\n",
    "            cmv.totalProductionSeries[-1]+=anAgent.production\n",
    "            cmv.totalProductionInfraVarSeries[-1]+=anAgent.production**2\n",
    "    cmv.totalProductionInfraVarSeries[-1]=(cmv.totalProductionInfraVarSeries[-1] - \\\n",
    "                                          (cmv.totalProductionSeries[-1]/cmv.employerNum)**2)\\\n",
    "                                          /cmv.employerNum"
   ]
  },
  {
   "cell_type": "code",
   "execution_count": 6,
   "id": "exceptional-management",
   "metadata": {},
   "outputs": [],
   "source": [
    "def makeBalanceSheetAll():\n",
    "    cmv.totalProfitSeries.append(0)\n",
    "    cmv.totalProfitInfraVarSeries.append(0)\n",
    "    for anAgent in cmv.agentList:\n",
    "        if anAgent.employer:\n",
    "            anAgent.makeBalanceSheet()\n",
    "            cmv.totalProfitSeries[-1]+=anAgent.profit\n",
    "            cmv.totalProfitInfraVarSeries[-1]+=anAgent.profit**2\n",
    "    cmv.totalProfitInfraVarSeries[-1]=(cmv.totalProfitInfraVarSeries[-1] - \\\n",
    "                                          (cmv.totalProfitSeries[-1]/cmv.employerNum)**2)\\\n",
    "                                          /cmv.employerNum   "
   ]
  },
  {
   "cell_type": "code",
   "execution_count": 7,
   "id": "informative-ethics",
   "metadata": {},
   "outputs": [],
   "source": [
    "def plot1():\n",
    "    plt.figure()\n",
    "    plt.ylim(0,max(max(cmv.totalProductionInfraVarSeries),max(cmv.totalProductionSeries)))\n",
    "    plt.plot(cmv.totalProductionSeries, label=\"production\") \n",
    "    plt.plot(cmv.totalProductionInfraVarSeries, label=\"prodInVar\")\n",
    "    plt.legend()\n",
    "\n",
    "def plot2():\n",
    "    plt.figure()\n",
    "    plt.ylim(min(cmv.totalProfitSeries),max(max(cmv.totalProfitInfraVarSeries),\\\n",
    "                                            max(cmv.totalProfitSeries)))\n",
    "    plt.plot(cmv.totalProfitSeries, label=\"profit\") \n",
    "    plt.plot(cmv.totalProfitInfraVarSeries, label=\"profInVar\")\n",
    "    plt.plot([0,cmv.ncycles],[0,0])\n",
    "    plt.legend()"
   ]
  },
  {
   "cell_type": "markdown",
   "id": "neutral-cylinder",
   "metadata": {},
   "source": [
    "### model machine"
   ]
  },
  {
   "cell_type": "code",
   "execution_count": 8,
   "id": "sealed-valuation",
   "metadata": {},
   "outputs": [
    {
     "data": {
      "image/png": "[encoded data removed]",
      "text/plain": [
       "<Figure size 432x288 with 1 Axes>"
      ]
     },
     "metadata": {
      "needs_background": "light"
     },
     "output_type": "display_data"
    },
    {
     "data": {
      "image/png": "[encoded data removed]",
      "text/plain": [
       "<Figure size 432x288 with 1 Axes>"
      ]
     },
     "metadata": {
      "needs_background": "light"
     },
     "output_type": "display_data"
    }
   ],
   "source": [
    "r.seed(121314)\n",
    "\n",
    "setup()\n",
    "\n",
    "cmv.actionList=[\"produceAll()\",\"makeBalanceSheetAll()\"]\n",
    "\n",
    "for cmv.cycle in range(cmv.ncycles):\n",
    "    for anAction in cmv.actionList:\n",
    "            exec(anAction)\n",
    "\n",
    "plot1()\n",
    "plot2()"
   ]
  },
  {
   "cell_type": "code",
   "execution_count": 9,
   "id": "level-grade",
   "metadata": {},
   "outputs": [
    {
     "data": {
      "text/plain": [
       "[55.587750888619304,\n",
       " 58.11098212286132,\n",
       " 61.58578090103436,\n",
       " 70.82736358684238,\n",
       " 77.51925821390944,\n",
       " 81.04302555572006,\n",
       " 80.15476092588713,\n",
       " 81.81657647436589,\n",
       " 83.05935139297127,\n",
       " 97.92924675219652,\n",
       " 83.11129067636233,\n",
       " 75.4767991997577,\n",
       " 72.78704010853448,\n",
       " 80.47845313942157,\n",
       " 72.5775055475594,\n",
       " 82.54928423240338,\n",
       " 87.99758879809283,\n",
       " 79.19313354946122,\n",
       " 81.7422508564917,\n",
       " 85.39750905250507,\n",
       " 86.85046320104092,\n",
       " 94.20107746105126,\n",
       " 95.70078825203377,\n",
       " 102.02198238720084,\n",
       " 106.17132800615207,\n",
       " 130.92657060412066,\n",
       " 149.4813632018202,\n",
       " 134.53796006479175,\n",
       " 117.9683197496094,\n",
       " 131.64136531138075,\n",
       " 125.78014814872922,\n",
       " 125.79092997370029,\n",
       " 129.0920329761313,\n",
       " 120.41828018329618,\n",
       " 113.37180702834891,\n",
       " 114.32848209328128,\n",
       " 116.79959451449125,\n",
       " 110.71826419762682,\n",
       " 110.41667765433613,\n",
       " 100.19249761985057,\n",
       " 97.58242131059727,\n",
       " 97.2255768809673,\n",
       " 104.28317492399962,\n",
       " 110.3688914980088,\n",
       " 99.68584817799687,\n",
       " 102.3769542929302,\n",
       " 95.11794552160991,\n",
       " 101.55277584327366,\n",
       " 104.19800581153925,\n",
       " 113.77401656079492,\n",
       " 107.45161019970139,\n",
       " 117.49259087591817,\n",
       " 123.90067027986396,\n",
       " 123.36467237423074,\n",
       " 124.65737620850926,\n",
       " 127.55720564348255,\n",
       " 134.29910128502522,\n",
       " 126.04977503120797,\n",
       " 136.48300169328647,\n",
       " 140.32590179232986,\n",
       " 143.41881473409887,\n",
       " 165.54240511012458,\n",
       " 171.37935710255903,\n",
       " 154.08026999108054,\n",
       " 132.99069168445487,\n",
       " 130.55961937819606,\n",
       " 129.54729070382407,\n",
       " 132.59437504564676,\n",
       " 112.29254169566187,\n",
       " 120.82344848976639,\n",
       " 123.52575774029073,\n",
       " 126.06570516220494,\n",
       " 133.06532227331238,\n",
       " 127.1912739351365,\n",
       " 133.91946445736627,\n",
       " 151.2862378711662,\n",
       " 145.82808303001326,\n",
       " 153.96351528666452,\n",
       " 153.70128969370774,\n",
       " 160.87312006064204,\n",
       " 147.76609709849248,\n",
       " 142.05344304817538,\n",
       " 139.76762964139775,\n",
       " 152.87263796536823,\n",
       " 145.82053930795666,\n",
       " 146.31072906552737,\n",
       " 158.3427567950646,\n",
       " 160.72563220164477,\n",
       " 166.60534348412563,\n",
       " 161.53750026123706,\n",
       " 151.6677891740759,\n",
       " 139.0957901473551,\n",
       " 148.8064447195744,\n",
       " 153.81323361716073,\n",
       " 153.2176289075411,\n",
       " 157.0898620463564,\n",
       " 160.19539579889448,\n",
       " 151.70571138225196,\n",
       " 160.10910440974294,\n",
       " 182.53459101745014]"
      ]
     },
     "execution_count": 9,
     "metadata": {},
     "output_type": "execute_result"
    }
   ],
   "source": [
    "cmv.totalProductionInfraVarSeries"
   ]
  },
  {
   "cell_type": "code",
   "execution_count": null,
   "id": "designing-candy",
   "metadata": {},
   "outputs": [],
   "source": []
  }
 ],
 "metadata": {
  "kernelspec": {
   "display_name": "Python 3",
   "language": "python",
   "name": "python3"
  },
  "language_info": {
   "codemirror_mode": {
    "name": "ipython",
    "version": 3
   },
   "file_extension": ".py",
   "mimetype": "text/x-python",
   "name": "python",
   "nbconvert_exporter": "python",
   "pygments_lexer": "ipython3",
   "version": "3.9.7"
  }
 },
 "nbformat": 4,
 "nbformat_minor": 5
}
