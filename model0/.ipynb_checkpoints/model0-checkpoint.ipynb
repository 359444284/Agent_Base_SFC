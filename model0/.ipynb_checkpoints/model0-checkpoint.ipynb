{
 "cells": [
  {
   "cell_type": "markdown",
   "id": "naval-nomination",
   "metadata": {},
   "source": [
    "#### Dedicato a Jack e Marco: ecco in azione l'*Istituto Centrale di Statistica*"
   ]
  },
  {
   "cell_type": "code",
   "execution_count": 1,
   "id": "great-earthquake",
   "metadata": {},
   "outputs": [],
   "source": [
    "%matplotlib inline\n",
    "import random as r\n",
    "import matplotlib.pyplot as plt\n",
    "import commonVar as cmv"
   ]
  },
  {
   "cell_type": "markdown",
   "id": "prostate-shadow",
   "metadata": {},
   "source": [
    "### stock-flow *model0*, the real part\n",
    "\n",
    "- We are considering here uniquely the real part of the economy.\n",
    "\n",
    "- No loans, credits, debits, capital stock, interest rate\n",
    "\n",
    "- Enterpreneurs have unlimited funds that they put freely in their activities.\n",
    "\n",
    "- Saving is abstension from consuming."
   ]
  },
  {
   "cell_type": "markdown",
   "id": "comparable-matthew",
   "metadata": {},
   "source": [
    "### simbols\n",
    "\n",
    "[symbol table](https://www.caam.rice.edu/~heinken/latex/symbols.pdf) in $\\LaTeX$ \n",
    "\n",
    "$\\mathcal{N}$ - number of agents, `agentNum`\n",
    "\n",
    "$\\mathcal{E}$ - employer number, a uniformly distributed integer number in range $[\\mathcal{E}_{min},\\mathcal{E}_{max}]$, `employerNum`\n",
    "\n",
    "$p$ - price `price`\n",
    "\n",
    "$u$ - unemployment rate `unemploymentRate`\n",
    "\n",
    "$dimensional~etherogeneity$ is a $true/false$ chooser, forcing increasing firms to attract more workers. `dimensionalEtherogeneity`\n",
    "\n",
    "$\\pi_{i,t}$ - labor productivity, a uniformly distributed decimal number in range $[\\pi_{min},\\pi_{max}]$,`productivity`\n",
    "\n",
    "$\\Delta\\pi_{i,t}$ - uniperiodal additive productivity correction in range $[\\Delta\\pi_{min},\\Delta\\pi_{max}]$, `productivityDelta`\n",
    "\n",
    "$q_{i,t}$ - production in quantity, `production`\n",
    "\n",
    "$\\Pi_{i,t}$ - profit, `profit`\n",
    "\n",
    "$w$ - wage `wage`\n",
    "\n",
    "$r_{i,t}$ - revenues, `revenues`\n",
    "\n",
    "$s_{i,t}$ - sales, `sales`\n",
    "\n",
    "$T$ - number of cycles `ncycles`\n",
    "\n",
    "$t$ -cycle `cycle`\n",
    "\n",
    "### model parameters"
   ]
  },
  {
   "cell_type": "code",
   "execution_count": 2,
   "id": "designing-participant",
   "metadata": {},
   "outputs": [],
   "source": [
    "cmv.agentNum=100\n",
    "employerMin=5\n",
    "employerMax=20\n",
    "\n",
    "cmv.price=1\n",
    "\n",
    "cmv.unemploymentRate=0\n",
    "cmv.dimensionalEtherogeneity=True\n",
    "\n",
    "cmv.productivityMin=0.8\n",
    "cmv.productivityMax=1.2\n",
    "cmv.productivityDeltaMin=cmv.productivityMin-1\n",
    "cmv.productivityDeltaMax=cmv.productivityMax-1\n",
    "\n",
    "cmv.maxDeperibilityShare=0.5\n",
    "\n",
    "cmv.wage=1\n",
    "\n",
    "cmv.ncycles=100\n",
    "cmv.cycle=0"
   ]
  },
  {
   "cell_type": "markdown",
   "id": "broke-marathon",
   "metadata": {},
   "source": [
    "### agent structure"
   ]
  },
  {
   "cell_type": "code",
   "execution_count": 3,
   "id": "found-bibliography",
   "metadata": {},
   "outputs": [],
   "source": [
    "class Agent():\n",
    "    def __init__(self, num):\n",
    "        self.num=num\n",
    "        self.employer=False\n",
    "        self.myEmployer=0\n",
    "        self.revenues=0 #sales*price\n",
    "        self.sales=0\n",
    "        self.initialInventories=0\n",
    "        self.deperibilityShare=r.uniform(0,cmv.maxDeperibilityShare)\n",
    "\n",
    "    def produce(self):\n",
    "        self.productivity+=r.uniform(cmv.productivityDeltaMin,cmv.productivityDeltaMax)\n",
    "        self.production=len(self.myWorkers)*self.productivity\n",
    "    \n",
    "    def makeBalanceSheet(self):\n",
    "        lostProduction=0\n",
    "        if self.production - self.sales > 0: \n",
    "            lostProduction=(self.production - self.sales)*self.deperibilityShare\n",
    "        self.finalInventories=self.initialInventories+self.production-\\\n",
    "                              self.sales-lostProduction\n",
    "        self.revenues=self.sales*cmv.price\n",
    "        self.profit=self.revenues - len(self.myWorkers)*cmv.wage + \\\n",
    "          (self.finalInventories-self.initialInventories)*cmv.price"
   ]
  },
  {
   "cell_type": "markdown",
   "id": "given-bangkok",
   "metadata": {},
   "source": [
    "### agent setup"
   ]
  },
  {
   "cell_type": "code",
   "execution_count": 4,
   "id": "timely-flesh",
   "metadata": {},
   "outputs": [],
   "source": [
    "def setup():\n",
    "    cmv.employerNum=r.randint(employerMin, employerMax)\n",
    "    cmv.agentList=[]\n",
    "    for n in range(cmv.agentNum):\n",
    "        anAgent=Agent(n+1)\n",
    "        cmv.agentList.append(anAgent)\n",
    "    \n",
    "\n",
    "    # creation of employer list\n",
    "    employerCandidates=cmv.agentList.copy()\n",
    "\n",
    "    for n in range(cmv.employerNum):\n",
    "        i=r.randint(0,len(employerCandidates))\n",
    "        employerCandidates[i].employer=True\n",
    "        employerCandidates[i].myEmployer=employerCandidates[i]\n",
    "        employerCandidates[i].myWorkers=[employerCandidates[i]]\n",
    "        employerCandidates[i].productivity=r.uniform(cmv.productivityMin,cmv.productivityMax)\n",
    "        employerCandidates.pop(i)\n",
    "      \n",
    "\n",
    "    # creation of workforce list\n",
    "    toBeEmployed=[]\n",
    "\n",
    "    for anAgent in cmv.agentList:\n",
    "        if not anAgent.employer: toBeEmployed.append(anAgent)\n",
    "    for k in range(round(cmv.unemploymentRate*cmv.agentNum)):\n",
    "        toBeEmployed.pop(r.randint(0,len(toBeEmployed)))\n",
    "    #len(toBeEmployed)\n",
    "\n",
    "\n",
    "    # assigning workforce to employers\n",
    "    tmpEmployerListWithDuplications=[]\n",
    "    for anAgent in cmv.agentList:\n",
    "        if anAgent.employer: tmpEmployerListWithDuplications.append(anAgent)\n",
    "    for anAgent in toBeEmployed:\n",
    "        choice=r.choice(tmpEmployerListWithDuplications)\n",
    "        anAgent.myEmployer=choice\n",
    "        choice.myWorkers.append(anAgent)\n",
    "        if cmv.dimensionalEtherogeneity: tmpEmployerListWithDuplications.append(choice)\n",
    "            \n",
    "    cmv.totalProductionSeries=[]\n",
    "    cmv.totalProductionInfraVarSeries=[]\n",
    "    cmv.totalProfitSeries=[]\n",
    "    cmv.totalProfitInfraVarSeries=[]\n"
   ]
  },
  {
   "cell_type": "raw",
   "id": "working-industry",
   "metadata": {},
   "source": [
    "for anAgent in cmv.agentList:\n",
    "    if anAgent.employer: \n",
    "        print(anAgent.num, anAgent.productivity,anAgent.production,\\\n",
    "              list(anAgent.myWorkers[i].num for i in range(len(anAgent.myWorkers))))"
   ]
  },
  {
   "cell_type": "raw",
   "id": "endless-product",
   "metadata": {},
   "source": [
    "list(toBeEmployed[i].myEmployer.num for i in range(len(toBeEmployed)))"
   ]
  },
  {
   "cell_type": "markdown",
   "id": "accompanied-defeat",
   "metadata": {},
   "source": [
    "### ------------------------------------------------------------------"
   ]
  },
  {
   "cell_type": "code",
   "execution_count": 5,
   "id": "artistic-barcelona",
   "metadata": {},
   "outputs": [],
   "source": [
    "def produceAll():\n",
    "    cmv.totalProductionSeries.append(0)\n",
    "    cmv.totalProductionInfraVarSeries.append(0)\n",
    "    for anAgent in cmv.agentList:\n",
    "        if anAgent.employer: \n",
    "            anAgent.produce()\n",
    "            cmv.totalProductionSeries[-1]+=anAgent.production\n",
    "            cmv.totalProductionInfraVarSeries[-1]+=anAgent.production**2\n",
    "    cmv.totalProductionInfraVarSeries[-1]=(cmv.totalProductionInfraVarSeries[-1] - \\\n",
    "                                          (cmv.totalProductionSeries[-1]/cmv.employerNum)**2)\\\n",
    "                                          /cmv.employerNum"
   ]
  },
  {
   "cell_type": "code",
   "execution_count": 6,
   "id": "exceptional-management",
   "metadata": {},
   "outputs": [],
   "source": [
    "def makeBalanceSheetAll():\n",
    "    cmv.totalProfitSeries.append(0)\n",
    "    cmv.totalProfitInfraVarSeries.append(0)\n",
    "    for anAgent in cmv.agentList:\n",
    "        if anAgent.employer:\n",
    "            anAgent.makeBalanceSheet()\n",
    "            cmv.totalProfitSeries[-1]+=anAgent.profit\n",
    "            cmv.totalProfitInfraVarSeries[-1]+=anAgent.profit**2\n",
    "    cmv.totalProfitInfraVarSeries[-1]=(cmv.totalProfitInfraVarSeries[-1] - \\\n",
    "                                          (cmv.totalProfitSeries[-1]/cmv.employerNum)**2)\\\n",
    "                                          /cmv.employerNum   "
   ]
  },
  {
   "cell_type": "code",
   "execution_count": 7,
   "id": "informative-ethics",
   "metadata": {},
   "outputs": [],
   "source": [
    "def plot1():\n",
    "    plt.figure()\n",
    "    plt.ylim(0,max(max(cmv.totalProductionInfraVarSeries),max(cmv.totalProductionSeries)))\n",
    "    plt.plot(cmv.totalProductionSeries, label=\"production\") \n",
    "    plt.plot(cmv.totalProductionInfraVarSeries, label=\"prodInVar\")\n",
    "    plt.legend()\n",
    "\n",
    "def plot2():\n",
    "    plt.figure()\n",
    "    plt.ylim(min(cmv.totalProfitSeries),max(max(cmv.totalProfitInfraVarSeries),\\\n",
    "                                            max(cmv.totalProfitSeries)))\n",
    "    plt.plot(cmv.totalProfitSeries, label=\"profit\") \n",
    "    plt.plot(cmv.totalProfitInfraVarSeries, label=\"profInVar\")\n",
    "    plt.plot([0,cmv.ncycles],[0,0])\n",
    "    plt.legend()"
   ]
  },
  {
   "cell_type": "markdown",
   "id": "neutral-cylinder",
   "metadata": {},
   "source": [
    "### model machine"
   ]
  },
  {
   "cell_type": "code",
   "execution_count": 8,
   "id": "sealed-valuation",
   "metadata": {},
   "outputs": [
    {
     "data": {
      "image/png": "[encoded data removed]",
      "text/plain": [
       "<Figure size 432x288 with 1 Axes>"
      ]
     },
     "metadata": {
      "needs_background": "light"
     },
     "output_type": "display_data"
    },
    {
     "data": {
      "image/png": "[encoded data removed]",
      "text/plain": [
       "<Figure size 432x288 with 1 Axes>"
      ]
     },
     "metadata": {
      "needs_background": "light"
     },
     "output_type": "display_data"
    }
   ],
   "source": [
    "r.seed(121314)\n",
    "\n",
    "setup()\n",
    "\n",
    "cmv.actionList=[\"produceAll()\",\"makeBalanceSheetAll()\"]\n",
    "\n",
    "for cmv.cycle in range(cmv.ncycles):\n",
    "    for anAction in cmv.actionList:\n",
    "            exec(anAction)\n",
    "\n",
    "plot1()\n",
    "plot2()"
   ]
  },
  {
   "cell_type": "code",
   "execution_count": 9,
   "id": "level-grade",
   "metadata": {},
   "outputs": [
    {
     "data": {
      "text/plain": [
       "[49.40906094397582,\n",
       " 48.91340695879446,\n",
       " 40.78123035359354,\n",
       " 35.67574894086205,\n",
       " 36.028657841821314,\n",
       " 40.2004651980076,\n",
       " 39.09634572583026,\n",
       " 39.56948767616712,\n",
       " 37.252264972546286,\n",
       " 35.55749806466131,\n",
       " 30.702207577552205,\n",
       " 33.50416587691859,\n",
       " 31.530708574713145,\n",
       " 31.34360492083757,\n",
       " 30.961073967245692,\n",
       " 28.82757596871107,\n",
       " 29.288068471244603,\n",
       " 30.584889528626725,\n",
       " 25.525239389075942,\n",
       " 25.21819801502388,\n",
       " 27.00365401320468,\n",
       " 30.556475523513473,\n",
       " 29.553527614985484,\n",
       " 34.17511398798527,\n",
       " 37.940509166415744,\n",
       " 40.62174541629105,\n",
       " 38.82838996401104,\n",
       " 38.531382361343155,\n",
       " 35.56932150931878,\n",
       " 38.34698263328598,\n",
       " 37.869341645241896,\n",
       " 39.482367194378234,\n",
       " 39.038992212938815,\n",
       " 42.23271392818587,\n",
       " 41.59415937508147,\n",
       " 47.57110911021754,\n",
       " 49.53696796473482,\n",
       " 50.24025853911503,\n",
       " 55.15469276423913,\n",
       " 58.54135284369505,\n",
       " 54.97328131370252,\n",
       " 60.65259688238365,\n",
       " 66.19189340181455,\n",
       " 62.19782518090466,\n",
       " 67.6671761996802,\n",
       " 63.90082110755165,\n",
       " 70.2567637966132,\n",
       " 77.93628447318827,\n",
       " 87.00860453962673,\n",
       " 82.92592190179417,\n",
       " 80.38224259708745,\n",
       " 84.09278618592873,\n",
       " 89.15923414472807,\n",
       " 83.27167309382325,\n",
       " 86.52998721905408,\n",
       " 94.18717398315897,\n",
       " 87.50454410967681,\n",
       " 89.69906130391034,\n",
       " 83.99525767513866,\n",
       " 75.45905318411258,\n",
       " 82.4853311468507,\n",
       " 83.7609449696256,\n",
       " 84.46464545811587,\n",
       " 91.69195004818515,\n",
       " 99.73524394485128,\n",
       " 93.66271921804238,\n",
       " 97.87390760779569,\n",
       " 100.42600062814256,\n",
       " 101.5471838133014,\n",
       " 95.84552828965037,\n",
       " 94.66736337348367,\n",
       " 92.40843405599824,\n",
       " 90.42597782416541,\n",
       " 96.51960695724108,\n",
       " 86.56300948925843,\n",
       " 87.69590658237813,\n",
       " 85.99407140492215,\n",
       " 80.9266504473375,\n",
       " 80.87419287804536,\n",
       " 74.80093596942201,\n",
       " 69.8520566972274,\n",
       " 77.87970308435426,\n",
       " 73.93738968466076,\n",
       " 75.37147325084865,\n",
       " 80.73345949133602,\n",
       " 80.95051684231642,\n",
       " 82.1359827092344,\n",
       " 79.52580378780482,\n",
       " 74.37404853887577,\n",
       " 72.79118587848086,\n",
       " 65.75588476069389,\n",
       " 71.0811072659169,\n",
       " 75.9046360879108,\n",
       " 76.27910779892163,\n",
       " 70.24776737292613,\n",
       " 78.29883822112527,\n",
       " 73.7210554224474,\n",
       " 74.59716111120834,\n",
       " 74.69443002078408,\n",
       " 74.46641695349598]"
      ]
     },
     "execution_count": 9,
     "metadata": {},
     "output_type": "execute_result"
    }
   ],
   "source": [
    "cmv.totalProductionInfraVarSeries"
   ]
  },
  {
   "cell_type": "code",
   "execution_count": null,
   "id": "designing-candy",
   "metadata": {},
   "outputs": [],
   "source": []
  }
 ],
 "metadata": {
  "kernelspec": {
   "display_name": "Python 3",
   "language": "python",
   "name": "python3"
  },
  "language_info": {
   "codemirror_mode": {
    "name": "ipython",
    "version": 3
   },
   "file_extension": ".py",
   "mimetype": "text/x-python",
   "name": "python",
   "nbconvert_exporter": "python",
   "pygments_lexer": "ipython3",
   "version": "3.9.7"
  }
 },
 "nbformat": 4,
 "nbformat_minor": 5
}
