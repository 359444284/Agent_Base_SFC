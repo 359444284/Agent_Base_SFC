{
 "cells": [
  {
   "cell_type": "markdown",
   "id": "naval-nomination",
   "metadata": {},
   "source": [
    "#### Dedicato a Jack e Marco: ecco in azione l'*Istituto Centrale di Statistica*"
   ]
  },
  {
   "cell_type": "code",
   "execution_count": 1,
   "id": "latter-survey",
   "metadata": {},
   "outputs": [
    {
     "data": {
      "application/javascript": [
       "// to avoid scroll in windows\n",
       "IPython.OutputArea.prototype._should_scroll = function(lines) {\n",
       "    return false;\n",
       "}\n"
      ],
      "text/plain": [
       "<IPython.core.display.Javascript object>"
      ]
     },
     "metadata": {},
     "output_type": "display_data"
    }
   ],
   "source": [
    "%%javascript\n",
    "// to avoid scroll in windows\n",
    "IPython.OutputArea.prototype._should_scroll = function(lines) {\n",
    "    return false;\n",
    "}"
   ]
  },
  {
   "cell_type": "code",
   "execution_count": 2,
   "id": "great-earthquake",
   "metadata": {
    "scrolled": true
   },
   "outputs": [],
   "source": [
    "%matplotlib inline\n",
    "import random as r\n",
    "import matplotlib.pyplot as plt\n",
    "import commonVar as cmv"
   ]
  },
  {
   "cell_type": "markdown",
   "id": "prostate-shadow",
   "metadata": {},
   "source": [
    "### stock-flow *model0*, the real part\n",
    "\n",
    "- We are considering here uniquely the real part of the economy.\n",
    "\n",
    "- No loans, credits, debits, capital stock, interest rate\n",
    "\n",
    "- Enterpreneurs have unlimited funds that they put freely in their activities.\n",
    "\n",
    "- Saving is abstension from consuming."
   ]
  },
  {
   "cell_type": "markdown",
   "id": "comparable-matthew",
   "metadata": {},
   "source": [
    "### simbols\n",
    "\n",
    "[symbol table](https://www.caam.rice.edu/~heinken/latex/symbols.pdf) in $\\LaTeX$ \n",
    "\n",
    "$\\mathcal{N}$ - number of agents, `agentNum`\n",
    "\n",
    "$\\mathcal{E}$ - employer number, a uniformly distributed integer number in range $[\\mathcal{E}_{min},\\mathcal{E}_{max}]$, `employerNum`\n",
    "\n",
    "$p$ - price `price`\n",
    "\n",
    "$u$ - unemployment rate `unemploymentRate`\n",
    "\n",
    "$dimensional~etherogeneity$ is a $true/false$ chooser, forcing increasing firms to attract more workers. `dimensionalEtherogeneity`\n",
    "\n",
    "$\\pi_{i,t}$ - labor productivity, a uniformly distributed decimal number in range $[\\pi_{min},\\pi_{max}]$,`productivity`\n",
    "\n",
    "$\\Delta\\pi_{i,t}$ - uniperiodal additive productivity correction in range $[\\Delta\\pi_{min},\\Delta\\pi_{max}]$, `productivityDelta`\n",
    "\n",
    "$n_{i,t}$ - number of workers in a firm, set just in time\n",
    "\n",
    "$q_{i,t}$ - production in quantity, `production`\n",
    "\n",
    "$\\Pi_{i,t}$ - profit, `profit`\n",
    "\n",
    "$w$ - wage `wage`\n",
    "\n",
    "$r_{i,t}$ - revenues, `revenues`\n",
    "\n",
    "$s_{i,t}$ - sales, `sales`\n",
    "\n",
    "$w_{i,t}$ - inventories (final, initial), `initialInventories`, `finalInventories`\n",
    "\n",
    "$d_{i,t}$ - deperibility share, `deperibilityShare`\n",
    "\n",
    "$T$ - number of cycles `ncycles`\n",
    "\n",
    "$t$ - cycle `cycle`\n",
    "\n",
    "### model parameters"
   ]
  },
  {
   "cell_type": "code",
   "execution_count": 3,
   "id": "designing-participant",
   "metadata": {
    "scrolled": true
   },
   "outputs": [],
   "source": [
    "cmv.agentNum=100\n",
    "employerMin=5\n",
    "employerMax=20\n",
    "\n",
    "cmv.price=1\n",
    "\n",
    "cmv.unemploymentRate=0\n",
    "cmv.dimensionalEtherogeneity=True\n",
    "\n",
    "cmv.productivityMin=0.8\n",
    "cmv.productivityMax=1.2\n",
    "cmv.productivityDeltaMin=cmv.productivityMin-1\n",
    "cmv.productivityDeltaMax=cmv.productivityMax-1\n",
    "\n",
    "cmv.maxDeperibilityShare=0.5\n",
    "\n",
    "cmv.wage=1\n",
    "cmv.consumptionRateMin=0.5\n",
    "cmv.consumptionRateMax=1\n",
    "\n",
    "cmv.nOfConsumptionActions=20\n",
    "cmv.ncycles=100\n",
    "cmv.cycle=0"
   ]
  },
  {
   "cell_type": "markdown",
   "id": "broke-marathon",
   "metadata": {},
   "source": [
    "### agent structure\n",
    "\n",
    "Here we have the structure of a generic agent: it can represent and employer, a worker, an unemployed person.\n",
    "\n",
    "When an agent is created, the **initialization process** defines:\n",
    "\n",
    "- its numerical id, `num`\n",
    "\n",
    "- its employer status, `employer`, set to $false$\n",
    "- the id of its employer, `myEmployer`, set to $0$\n",
    "- $r_{i,0}$ - `revenues`, initial value  $0$\n",
    "- $s_{i,0}$ - `sales`, , initial value  $0$\n",
    "- $w_{i,0}$ - inventories, `initialInventories`, set to $0$ \n",
    "\n",
    "\n",
    "\n",
    "each agent has a **produce** function, used only if is an employer, with:\n",
    "\n",
    "$\\pi_{i,t}=\\pi_{i,t-1}+\\Delta\\pi_{i,t}$\n",
    "\n",
    "$q_{i,t}=n_{i,t} \\pi_{i,t}$\n"
   ]
  },
  {
   "cell_type": "code",
   "execution_count": 4,
   "id": "found-bibliography",
   "metadata": {
    "scrolled": true
   },
   "outputs": [],
   "source": [
    "class Agent():\n",
    "    def __init__(self, num):\n",
    "        self.num=num\n",
    "        self.employer=False\n",
    "        self.myEmployer=0\n",
    "        self.revenues=0 #sales*price\n",
    "        self.sales=0\n",
    "        self.initialInventories=0\n",
    "        self.deperibilityShare=r.uniform(0,cmv.maxDeperibilityShare)\n",
    "        self.wallet=0\n",
    "        self.consumptionRate=0\n",
    "        self.profit=0\n",
    "\n",
    "    def produce(self):\n",
    "        self.productivity+=r.uniform(cmv.productivityDeltaMin,cmv.productivityDeltaMax)\n",
    "        self.production=len(self.myWorkers)*self.productivity\n",
    "    \n",
    "    def payWages(self):\n",
    "        for anAgent in self.myWorkers:\n",
    "            anAgent.wallet+=cmv.wage\n",
    "            \n",
    "    def buyConsumptionGoods(self,k):\n",
    "        if k==0: \n",
    "            self.consumptionRate=r.uniform(cmv.consumptionRateMin,cmv.consumptionRateMax)\n",
    "            self.consumption=(cmv.wage+self.profit)*self.consumptionRate\n",
    "            if self.consumption < 0: self.consumption=0\n",
    "    \n",
    "    def makeBalanceSheet(self):\n",
    "        lostProduction=0\n",
    "        if self.production - self.sales > 0: \n",
    "            lostProduction=(self.production - self.sales)*self.deperibilityShare\n",
    "        self.finalInventories=self.initialInventories+self.production-\\\n",
    "                              self.sales-lostProduction\n",
    "        self.revenues=self.sales*cmv.price\n",
    "        self.profit=self.revenues - len(self.myWorkers)*cmv.wage + \\\n",
    "          (self.finalInventories-self.initialInventories)*cmv.price\n",
    "        self.wallet+=self.profit\n",
    "        \n"
   ]
  },
  {
   "cell_type": "markdown",
   "id": "given-bangkok",
   "metadata": {},
   "source": [
    "### agent setup"
   ]
  },
  {
   "cell_type": "code",
   "execution_count": 5,
   "id": "timely-flesh",
   "metadata": {
    "scrolled": true
   },
   "outputs": [],
   "source": [
    "def setup():\n",
    "    cmv.employerNum=r.randint(employerMin, employerMax)\n",
    "    cmv.agentList=[]\n",
    "    for n in range(cmv.agentNum):\n",
    "        anAgent=Agent(n+1)\n",
    "        cmv.agentList.append(anAgent)\n",
    "    \n",
    "\n",
    "    # creation of employer list\n",
    "    employerCandidates=cmv.agentList.copy()\n",
    "\n",
    "    for n in range(cmv.employerNum):\n",
    "        i=r.randint(0,len(employerCandidates))\n",
    "        employerCandidates[i].employer=True\n",
    "        employerCandidates[i].myEmployer=employerCandidates[i]\n",
    "        employerCandidates[i].myWorkers=[employerCandidates[i]]\n",
    "        employerCandidates[i].productivity=r.uniform(cmv.productivityMin,cmv.productivityMax)\n",
    "        employerCandidates.pop(i)\n",
    "      \n",
    "\n",
    "    # creation of workforce list\n",
    "    toBeEmployed=[]\n",
    "\n",
    "    for anAgent in cmv.agentList:\n",
    "        if not anAgent.employer: toBeEmployed.append(anAgent)\n",
    "    for k in range(round(cmv.unemploymentRate*cmv.agentNum)):\n",
    "        toBeEmployed.pop(r.randint(0,len(toBeEmployed)))\n",
    "    #len(toBeEmployed)\n",
    "\n",
    "\n",
    "    # assigning workforce to employers\n",
    "    tmpEmployerListWithDuplications=[]\n",
    "    for anAgent in cmv.agentList:\n",
    "        if anAgent.employer: tmpEmployerListWithDuplications.append(anAgent)\n",
    "    for anAgent in toBeEmployed:\n",
    "        choice=r.choice(tmpEmployerListWithDuplications)\n",
    "        anAgent.myEmployer=choice\n",
    "        choice.myWorkers.append(anAgent)\n",
    "        if cmv.dimensionalEtherogeneity: tmpEmployerListWithDuplications.append(choice)\n",
    "            \n",
    "    cmv.totalProductionSeries=[]\n",
    "    cmv.totalProductionInfraVarSeries=[]\n",
    "    cmv.totalProfitSeries=[]\n",
    "    cmv.totalProfitInfraVarSeries=[]\n"
   ]
  },
  {
   "cell_type": "raw",
   "id": "working-industry",
   "metadata": {},
   "source": [
    "for anAgent in cmv.agentList:\n",
    "    if anAgent.employer: \n",
    "        print(anAgent.num, anAgent.productivity,anAgent.production,\\\n",
    "              list(anAgent.myWorkers[i].num for i in range(len(anAgent.myWorkers))))"
   ]
  },
  {
   "cell_type": "raw",
   "id": "endless-product",
   "metadata": {},
   "source": [
    "list(toBeEmployed[i].myEmployer.num for i in range(len(toBeEmployed)))"
   ]
  },
  {
   "cell_type": "markdown",
   "id": "accompanied-defeat",
   "metadata": {},
   "source": [
    "### ------------------------------------------------------------------"
   ]
  },
  {
   "cell_type": "code",
   "execution_count": 6,
   "id": "artistic-barcelona",
   "metadata": {
    "scrolled": true
   },
   "outputs": [],
   "source": [
    "def produceAll():\n",
    "    cmv.totalProductionSeries.append(0)\n",
    "    cmv.totalProductionInfraVarSeries.append(0)\n",
    "    for anAgent in cmv.agentList:\n",
    "        if anAgent.employer: \n",
    "            anAgent.produce()\n",
    "            cmv.totalProductionSeries[-1]+=anAgent.production\n",
    "            cmv.totalProductionInfraVarSeries[-1]+=anAgent.production**2\n",
    "    cmv.totalProductionInfraVarSeries[-1]=(cmv.totalProductionInfraVarSeries[-1] - \\\n",
    "                                          (cmv.totalProductionSeries[-1]/cmv.employerNum)**2)\\\n",
    "                                          /cmv.employerNum"
   ]
  },
  {
   "cell_type": "code",
   "execution_count": 7,
   "id": "married-fabric",
   "metadata": {
    "scrolled": true
   },
   "outputs": [],
   "source": [
    "def payWagesAll():\n",
    "    for anAgent in cmv.agentList:\n",
    "        if anAgent.employer:\n",
    "            anAgent.payWages()\n"
   ]
  },
  {
   "cell_type": "code",
   "execution_count": 8,
   "id": "global-mercury",
   "metadata": {},
   "outputs": [],
   "source": [
    "def buyConsumptionGoodsAll():\n",
    "    for k in range(cmv.nOfConsumptionActions):\n",
    "        r.shuffle(cmv.agentList)\n",
    "        for anAgent in cmv.agentList:\n",
    "            anAgent.buyConsumptionGoods(k)"
   ]
  },
  {
   "cell_type": "code",
   "execution_count": 9,
   "id": "exceptional-management",
   "metadata": {
    "scrolled": true
   },
   "outputs": [],
   "source": [
    "def makeBalanceSheetAll():\n",
    "    cmv.totalProfitSeries.append(0)\n",
    "    cmv.totalProfitInfraVarSeries.append(0)\n",
    "    for anAgent in cmv.agentList:\n",
    "        if anAgent.employer:\n",
    "            anAgent.makeBalanceSheet()\n",
    "            cmv.totalProfitSeries[-1]+=anAgent.profit\n",
    "            cmv.totalProfitInfraVarSeries[-1]+=anAgent.profit**2\n",
    "    cmv.totalProfitInfraVarSeries[-1]=(cmv.totalProfitInfraVarSeries[-1] - \\\n",
    "                                          (cmv.totalProfitSeries[-1]/cmv.employerNum)**2)\\\n",
    "                                          /cmv.employerNum   "
   ]
  },
  {
   "cell_type": "code",
   "execution_count": 10,
   "id": "informative-ethics",
   "metadata": {
    "scrolled": true
   },
   "outputs": [],
   "source": [
    "def plot1():\n",
    "    plt.figure()\n",
    "    plt.ylim(0,max(max(cmv.totalProductionInfraVarSeries),max(cmv.totalProductionSeries)))\n",
    "    plt.plot(cmv.totalProductionSeries, label=\"production\") \n",
    "    plt.plot(cmv.totalProductionInfraVarSeries, label=\"prodInVar\")\n",
    "    plt.legend()\n",
    "\n",
    "def plot2():\n",
    "    plt.figure()\n",
    "    plt.ylim(min(cmv.totalProfitSeries),max(max(cmv.totalProfitInfraVarSeries),\\\n",
    "                                            max(cmv.totalProfitSeries)))\n",
    "    plt.plot(cmv.totalProfitSeries, label=\"profit\") \n",
    "    plt.plot(cmv.totalProfitInfraVarSeries, label=\"profInVar\")\n",
    "    plt.plot([0,cmv.ncycles],[0,0])\n",
    "    plt.legend()"
   ]
  },
  {
   "cell_type": "markdown",
   "id": "neutral-cylinder",
   "metadata": {},
   "source": [
    "### model machine"
   ]
  },
  {
   "cell_type": "code",
   "execution_count": 11,
   "id": "sealed-valuation",
   "metadata": {
    "scrolled": true
   },
   "outputs": [
    {
     "data": {
      "image/png": "[encoded data removed]",
      "text/plain": [
       "<Figure size 432x288 with 1 Axes>"
      ]
     },
     "metadata": {
      "needs_background": "light"
     },
     "output_type": "display_data"
    },
    {
     "data": {
      "image/png": "[encoded data removed]",
      "text/plain": [
       "<Figure size 432x288 with 1 Axes>"
      ]
     },
     "metadata": {
      "needs_background": "light"
     },
     "output_type": "display_data"
    }
   ],
   "source": [
    "r.seed(121314)\n",
    "\n",
    "setup()\n",
    "\n",
    "cmv.actionList=[\"produceAll()\",\"payWagesAll()\",\"buyConsumptionGoodsAll()\",\\\n",
    "                \"makeBalanceSheetAll()\"]\n",
    "\n",
    "for cmv.cycle in range(cmv.ncycles):\n",
    "    for anAction in cmv.actionList:\n",
    "            exec(anAction)\n",
    "\n",
    "plot1()\n",
    "plot2()"
   ]
  },
  {
   "cell_type": "raw",
   "id": "passive-spine",
   "metadata": {},
   "source": [
    "cmv.totalProductionInfraVarSeries"
   ]
  },
  {
   "cell_type": "code",
   "execution_count": 12,
   "id": "designing-candy",
   "metadata": {
    "scrolled": false
   },
   "outputs": [
    {
     "data": {
      "text/plain": [
       "[0.8359107986483789,\n",
       " 1.709236684897892,\n",
       " 0.7171869048095025,\n",
       " 0.8494487220289149,\n",
       " 0.5465768531348574,\n",
       " 0.6129980943016728,\n",
       " 0.9274977644294149,\n",
       " 0.27809235950547606,\n",
       " 0.7900417662917255,\n",
       " 5.552297957604725,\n",
       " 0.7961011234045069,\n",
       " 0.7492710194216152,\n",
       " 0.7419322805757678,\n",
       " 0.8179496697029339,\n",
       " 0.6554451218731623,\n",
       " 0.4032097519804957,\n",
       " 0.968879042588938,\n",
       " 0.7147605080717028,\n",
       " 0.8157041686674102,\n",
       " 0,\n",
       " 0.9966378494307757,\n",
       " 0.9650925786469603,\n",
       " 11.8799717732429,\n",
       " 0.9961920921740809,\n",
       " 10.32950849408796,\n",
       " 0.9363609505168737,\n",
       " 0.5296330423124649,\n",
       " 0.8586080783092276,\n",
       " 0.8137338629355904,\n",
       " 0.5771793931462631,\n",
       " 0.8736658181307143,\n",
       " 0.6440818955328995,\n",
       " 0.5902238214001543,\n",
       " 0.9836707044326678,\n",
       " 0.9988022736385056,\n",
       " 0.5892630193118944,\n",
       " 0.5897941922865912,\n",
       " 0.5964276844569043,\n",
       " 0.6522306733501394,\n",
       " 0.6486379482318597,\n",
       " 0.7694243666062066,\n",
       " 0.7508043483986121,\n",
       " 0.6163423268003043,\n",
       " 0.5504301948338635,\n",
       " 0.8900021677118282,\n",
       " 0.5843411893985468,\n",
       " 0,\n",
       " 0.5894417249397712,\n",
       " 0.9293758325928526,\n",
       " 0.6425179186402626,\n",
       " 0.582278297573324,\n",
       " 0.6839551143632434,\n",
       " 0,\n",
       " 0.6981228727344896,\n",
       " 0.6534620785722587,\n",
       " 0.5591344533575313,\n",
       " 0.9244879436358285,\n",
       " 0.565894849615916,\n",
       " 0.8813299687891176,\n",
       " 0.8334816214335727,\n",
       " 0.9144053816717611,\n",
       " 0.16306842042682454,\n",
       " 0.8020284315272019,\n",
       " 0.5402248442786042,\n",
       " 0.6377499755078562,\n",
       " 0.6182009731289126,\n",
       " 0.6883956613538079,\n",
       " 0.7530787575970401,\n",
       " 0,\n",
       " 0.762371854511146,\n",
       " 1.1862688767075382,\n",
       " 0.9235104131116921,\n",
       " 0.7755180801060045,\n",
       " 0.6915670889675289,\n",
       " 0.8058413928147461,\n",
       " 0,\n",
       " 0.6177598295908199,\n",
       " 0.5342487654684944,\n",
       " 0.8085722536348168,\n",
       " 0.6097074212964564,\n",
       " 0.6670566011872047,\n",
       " 0.948432978542219,\n",
       " 0.6645376437686872,\n",
       " 0.9339710111429892,\n",
       " 0.4851521919551266,\n",
       " 0.9655058591899128,\n",
       " 0.8276144092373054,\n",
       " 0,\n",
       " 0.8499870861130023,\n",
       " 0.5416205214526071,\n",
       " 0.6880362315582754,\n",
       " 0.7777912495080361,\n",
       " 0.9428605444971662,\n",
       " 0.9396666804363832,\n",
       " 0.5771411913622961,\n",
       " 0.7803352541019735,\n",
       " 2.054910571451435,\n",
       " 0.7915153045634691,\n",
       " 0.924662179056985,\n",
       " 0.7057015982513104]"
      ]
     },
     "execution_count": 12,
     "metadata": {},
     "output_type": "execute_result"
    }
   ],
   "source": [
    "list(anAgent.consumption for anAgent in cmv.agentList)"
   ]
  },
  {
   "cell_type": "code",
   "execution_count": null,
   "id": "dental-beijing",
   "metadata": {},
   "outputs": [],
   "source": []
  }
 ],
 "metadata": {
  "kernelspec": {
   "display_name": "Python 3",
   "language": "python",
   "name": "python3"
  },
  "language_info": {
   "codemirror_mode": {
    "name": "ipython",
    "version": 3
   },
   "file_extension": ".py",
   "mimetype": "text/x-python",
   "name": "python",
   "nbconvert_exporter": "python",
   "pygments_lexer": "ipython3",
   "version": "3.9.7"
  }
 },
 "nbformat": 4,
 "nbformat_minor": 5
}
