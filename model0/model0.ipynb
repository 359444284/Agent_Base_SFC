{
 "cells": [
  {
   "cell_type": "markdown",
   "id": "naval-nomination",
   "metadata": {},
   "source": [
    "#### Dedicato a Jack e Marco: ecco in azione l'*Istituto Centrale di Statistica*"
   ]
  },
  {
   "cell_type": "code",
   "execution_count": 1,
   "id": "latter-survey",
   "metadata": {},
   "outputs": [
    {
     "data": {
      "application/javascript": [
       "// to avoid scroll in windows\n",
       "IPython.OutputArea.prototype._should_scroll = function(lines) {\n",
       "    return false;\n",
       "}\n"
      ],
      "text/plain": [
       "<IPython.core.display.Javascript object>"
      ]
     },
     "metadata": {},
     "output_type": "display_data"
    }
   ],
   "source": [
    "%%javascript\n",
    "// to avoid scroll in windows\n",
    "IPython.OutputArea.prototype._should_scroll = function(lines) {\n",
    "    return false;\n",
    "}"
   ]
  },
  {
   "cell_type": "code",
   "execution_count": 2,
   "id": "great-earthquake",
   "metadata": {
    "scrolled": true
   },
   "outputs": [],
   "source": [
    "%matplotlib inline\n",
    "import random as r\n",
    "import matplotlib.pyplot as plt\n",
    "import commonVar as cmv\n",
    "import numpy as np"
   ]
  },
  {
   "cell_type": "markdown",
   "id": "prostate-shadow",
   "metadata": {},
   "source": [
    "### stock-flow *model0*, the real part\n",
    "\n",
    "- We are considering here uniquely the real part of the economy.\n",
    "\n",
    "- No loans, credits, debts, capital stock, interest rate\n",
    "\n",
    "- Enterpreneurs have unlimited funds that they put freely in their activities.\n",
    "\n",
    "- Saving is abstension from consuming.\n",
    "\n",
    "- Investments are uniquely ones, without technical progress\n"
   ]
  },
  {
   "cell_type": "markdown",
   "id": "comparable-matthew",
   "metadata": {},
   "source": [
    "### symbol table\n",
    "\n",
    "[symbol table](https://www.caam.rice.edu/~heinken/latex/symbols.pdf) in $\\LaTeX$ \n",
    "\n",
    "$\\mathcal{N}$ - number of agents, `agentNum`\n",
    "\n",
    "$\\mathcal{E}$ - employer number, a uniformly distributed integer number in range $[\\mathcal{E}_{min},\\mathcal{E}_{max}]$, `employerNum`\n",
    "\n",
    "$p$ - price `price`\n",
    "\n",
    "$u$ - unemployment rate `unemploymentRate`\n",
    "\n",
    "$dimensional~heterogeneity$ is a $true/false$ chooser, forcing increasing firms to attract more workers. `dimensionalHeterogeneity`\n",
    "\n",
    "$\\pi_{i,t}$ - labor productivity, a uniformly distributed decimal number in range $[\\pi_{min},\\pi_{max}]$,`productivity`\n",
    "\n",
    "&Delta;$\\pi_{i,t}$ - uniperiodal additive productivity correction in range $[$&Delta;$\\pi_{min},$ &Delta;$\\pi_{max}]$, `productivityDelta`\n",
    "\n",
    "$n_{i,t}$ - number of workers in a firm, set just in time\n",
    "\n",
    "$q_{i,t}$ - production in quantity, `production`\n",
    "\n",
    "$\\Pi_{i,t}$ - profit, `profit`\n",
    "\n",
    "$w$ - wage `wage`\n",
    "\n",
    "$r_{i,t}$ - revenues, `revenues`\n",
    "\n",
    "$s_{i,t}$ - sales, `sales`\n",
    "\n",
    "$v_{i,t}$ - in**v**entories (final, initial), `initialInventories`, `finalInventories`\n",
    "\n",
    "$d_{i}$ - deperibility share of the production, `deperibilityShare`, setting $d_{max}$\n",
    "\n",
    "$c_{i,t}$ - consumption rate, a uniformly distributed decimal number in range $[c_{min},c_{max}]$,`consumptionRate`\n",
    "\n",
    "$C_{i,t}$ - consumption of $i$ in $t$\n",
    "\n",
    "numero atti acquisto DA FARE\n",
    "\n",
    "$T$ - number of cycles `ncycles`\n",
    "\n",
    "$t$ - cycle `cycle`\n",
    "\n",
    "\n",
    "### model parameters"
   ]
  },
  {
   "cell_type": "code",
   "execution_count": 3,
   "id": "designing-participant",
   "metadata": {
    "scrolled": true
   },
   "outputs": [],
   "source": [
    "cmv.agentNum=100\n",
    "employerMin=5\n",
    "employerMax=20\n",
    "\n",
    "cmv.price=1\n",
    "\n",
    "cmv.unemploymentRate=0\n",
    "cmv.dimensionalEtherogeneity=True\n",
    "\n",
    "cmv.productivityMin=0.8\n",
    "cmv.productivityMax=1.2\n",
    "cmv.productivityDeltaMin=cmv.productivityMin-1\n",
    "cmv.productivityDeltaMax=cmv.productivityMax-1\n",
    "\n",
    "cmv.maxDeperibilityShare=0.5\n",
    "\n",
    "cmv.wage=1\n",
    "cmv.consumptionRateMin=0.5\n",
    "cmv.consumptionRateMax=1\n",
    "\n",
    "cmv.nOfConsumptionActions=30\n",
    "cmv.ncycles=100\n",
    "cmv.cycle=0"
   ]
  },
  {
   "cell_type": "markdown",
   "id": "broke-marathon",
   "metadata": {},
   "source": [
    "### agent structure\n",
    "\n",
    "The structure of a generic agent: it can represent and employer, a worker, an unemployed person.\n",
    "\n",
    "When an agent is created, the **initialization process** defines:\n",
    "\n",
    "- its numerical id, `num`\n",
    "\n",
    "- its employer status, `employer`, set to $false$\n",
    "- the id of its employer, `myEmployer`, set to $0$\n",
    "- $r_{i,0}$ - `revenues`, initial value  $0$\n",
    "- $s_{i,0}$ - `sales`, , initial value  $0$\n",
    "- $v_{i,0}$ - inventories, `initialInventories`, set to $0$ \n",
    "- $d_{i}$ - deperibility share, a uniformly distributed decimal number in range $[0,d_{max}]$,`deperibilityShare`\n",
    "- $w$ - `wage`, currently a fixed value\n",
    "\n",
    "\n",
    "\n",
    "each agent has the functions:\n",
    "\n",
    "- **produce** function, used only if is an employer, with:\n",
    "\n",
    "  $\\pi_{i,t}=\\pi_{i,t-1}+\\Delta\\pi_{i,t}$\n",
    "\n",
    "  $q_{i,t}=n_{i,t} \\pi_{i,t}$\n",
    "  \n",
    "\n",
    "- **payWages**\n",
    "\n",
    "  if employer, pays $w$ to each employee in each time $t$\n",
    "  \n",
    "\n",
    "- **buyConsumptionGoods** \n",
    "\n",
    "  $C_{i,t}=c_{i,t} (w+\\Pi_{i,t-1})$\n",
    "\n"
   ]
  },
  {
   "cell_type": "code",
   "execution_count": 4,
   "id": "found-bibliography",
   "metadata": {
    "scrolled": true
   },
   "outputs": [],
   "source": [
    "class Agent():\n",
    "    def __init__(self, num):\n",
    "        self.num=num\n",
    "        self.employer=False\n",
    "        self.myEmployer=0\n",
    "        self.revenues=0 #sales*price\n",
    "        self.sales=0\n",
    "        self.initialInventories=0\n",
    "        self.finalInventories=0\n",
    "        self.deperibilityShare=r.uniform(0,cmv.maxDeperibilityShare)\n",
    "        self.wallet=0\n",
    "        self.consumptionRate=0\n",
    "        self.profit=0\n",
    "\n",
    "    def produce(self):\n",
    "        self.initialInventories=self.finalInventories\n",
    "        self.productivity+=r.uniform(cmv.productivityDeltaMin,cmv.productivityDeltaMax)\n",
    "        self.production=len(self.myWorkers)*self.productivity\n",
    "        self.sales=0\n",
    "    \n",
    "    def payWages(self):\n",
    "        for anAgent in self.myWorkers:\n",
    "            anAgent.wallet+=cmv.wage\n",
    "            \n",
    "    def buyConsumptionGoods(self,k):\n",
    "        if k==0: \n",
    "            self.consumptionRate=r.uniform(cmv.consumptionRateMin,cmv.consumptionRateMax)\n",
    "            self.consumption=(cmv.wage+self.profit)*self.consumptionRate\n",
    "            if self.consumption < 0: self.consumption=0\n",
    "                \n",
    "        r.shuffle(cmv.employerList)\n",
    "        mySeller=cmv.employerList[0]\n",
    "        self.purchase=r.uniform(0,1/5)*self.consumption # mean value 0.10 (10 buy action could be sufficient)\n",
    "        self.purchase=min(self.purchase,mySeller.production+mySeller.initialInventories\\\n",
    "                          -mySeller.sales)\n",
    "        mySeller.sales+=self.purchase\n",
    "        self.consumption-=self.purchase\n",
    "    \n",
    "    def makeBalanceSheet(self):\n",
    "        lostProduction=0\n",
    "        if self.production - self.sales > 0: \n",
    "            lostProduction=(self.production - self.sales)*self.deperibilityShare\n",
    "        #print(self.num, lostProduction,self.productivity)\n",
    "        self.finalInventories=self.initialInventories+self.production-\\\n",
    "                              self.sales-lostProduction\n",
    "        self.revenues=self.sales*cmv.price\n",
    "        self.profit=self.revenues - len(self.myWorkers)*cmv.wage + \\\n",
    "          (self.finalInventories-self.initialInventories)*cmv.price\n",
    "        #print(self.num,self.profit,self.revenues,len(self.myWorkers)*cmv.wage,\\\n",
    "        #      self.finalInventories, self.initialInventories)\n",
    "        self.wallet+=self.profit\n",
    "        \n"
   ]
  },
  {
   "cell_type": "markdown",
   "id": "given-bangkok",
   "metadata": {},
   "source": [
    "### agent setup"
   ]
  },
  {
   "cell_type": "code",
   "execution_count": 5,
   "id": "timely-flesh",
   "metadata": {
    "scrolled": true
   },
   "outputs": [],
   "source": [
    "def setup():\n",
    "    cmv.employerNum=r.randint(employerMin, employerMax)\n",
    "    cmv.agentList=[]\n",
    "    for n in range(cmv.agentNum):\n",
    "        anAgent=Agent(n+1)\n",
    "        cmv.agentList.append(anAgent)\n",
    "    \n",
    "\n",
    "    # creation of employer list\n",
    "    cmv.employerList=[]\n",
    "    employerCandidates=cmv.agentList.copy()\n",
    "\n",
    "    for n in range(cmv.employerNum):\n",
    "        i=r.randint(0,len(employerCandidates))\n",
    "        employerCandidates[i].employer=True\n",
    "        employerCandidates[i].myEmployer=employerCandidates[i]\n",
    "        employerCandidates[i].myWorkers=[employerCandidates[i]]\n",
    "        employerCandidates[i].productivity=r.uniform(cmv.productivityMin,cmv.productivityMax)\n",
    "        cmv.employerList.append(employerCandidates.pop(i))\n",
    "      \n",
    "\n",
    "    # creation of workforce list\n",
    "    toBeEmployed=[]\n",
    "\n",
    "    for anAgent in cmv.agentList:\n",
    "        if not anAgent.employer: toBeEmployed.append(anAgent)\n",
    "    for k in range(round(cmv.unemploymentRate*cmv.agentNum)):\n",
    "        toBeEmployed.pop(r.randint(0,len(toBeEmployed)))\n",
    "    #len(toBeEmployed)\n",
    "\n",
    "\n",
    "    # assigning workforce to employers\n",
    "    tmpEmployerListWithDuplications=[]\n",
    "    for anAgent in cmv.agentList:\n",
    "        if anAgent.employer: tmpEmployerListWithDuplications.append(anAgent)\n",
    "    for anAgent in toBeEmployed:\n",
    "        choice=r.choice(tmpEmployerListWithDuplications)\n",
    "        anAgent.myEmployer=choice\n",
    "        choice.myWorkers.append(anAgent)\n",
    "        if cmv.dimensionalEtherogeneity: tmpEmployerListWithDuplications.append(choice)\n",
    "            \n",
    "    cmv.totalProductionSeries=[]\n",
    "    cmv.totalProductionInfraVarSeries=[]\n",
    "    cmv.totalProfitSeries=[]\n",
    "    cmv.totalProfitInfraVarSeries=[]\n"
   ]
  },
  {
   "cell_type": "raw",
   "id": "endless-product",
   "metadata": {},
   "source": [
    "list(toBeEmployed[i].myEmployer.num for i in range(len(toBeEmployed)))"
   ]
  },
  {
   "cell_type": "markdown",
   "id": "accompanied-defeat",
   "metadata": {},
   "source": [
    "### ------------------------------------------------------------------"
   ]
  },
  {
   "cell_type": "code",
   "execution_count": 6,
   "id": "artistic-barcelona",
   "metadata": {
    "scrolled": true
   },
   "outputs": [],
   "source": [
    "def produceAll():\n",
    "    cmv.totalProductionSeries.append(0)\n",
    "    cmv.totalProductionInfraVarSeries.append(0)\n",
    "    for anAgent in cmv.agentList:\n",
    "        if anAgent.employer: \n",
    "            anAgent.produce()\n",
    "            cmv.totalProductionSeries[-1]+=anAgent.production\n",
    "            cmv.totalProductionInfraVarSeries[-1]+=anAgent.production**2\n",
    "    cmv.totalProductionInfraVarSeries[-1]=\\\n",
    "                                  (cmv.totalProductionInfraVarSeries[-1]/cmv.employerNum - \\\n",
    "                                  (cmv.totalProductionSeries[-1]/cmv.employerNum)**2)\n",
    "                                          "
   ]
  },
  {
   "cell_type": "code",
   "execution_count": 7,
   "id": "married-fabric",
   "metadata": {
    "scrolled": true
   },
   "outputs": [],
   "source": [
    "def payWagesAll():\n",
    "    for anAgent in cmv.agentList:\n",
    "        if anAgent.employer:\n",
    "            anAgent.payWages()\n"
   ]
  },
  {
   "cell_type": "code",
   "execution_count": 8,
   "id": "global-mercury",
   "metadata": {},
   "outputs": [],
   "source": [
    "def buyConsumptionGoodsAll():\n",
    "    for k in range(cmv.nOfConsumptionActions):\n",
    "        r.shuffle(cmv.agentList)\n",
    "        for anAgent in cmv.agentList:\n",
    "            anAgent.buyConsumptionGoods(k)"
   ]
  },
  {
   "cell_type": "code",
   "execution_count": 9,
   "id": "exceptional-management",
   "metadata": {
    "scrolled": true
   },
   "outputs": [],
   "source": [
    "def makeBalanceSheetAll():\n",
    "    cmv.totalProfitSeries.append(0)\n",
    "    cmv.totalProfitInfraVarSeries.append(0)\n",
    "    for anAgent in cmv.agentList:\n",
    "        if anAgent.employer:\n",
    "            anAgent.makeBalanceSheet()\n",
    "            cmv.totalProfitSeries[-1]+=anAgent.profit\n",
    "            cmv.totalProfitInfraVarSeries[-1]+=anAgent.profit**2\n",
    "    cmv.totalProfitInfraVarSeries[-1]=(cmv.totalProfitInfraVarSeries[-1]/cmv.employerNum - \\\n",
    "                                          (cmv.totalProfitSeries[-1]/cmv.employerNum)**2)\n",
    "                                             "
   ]
  },
  {
   "cell_type": "code",
   "execution_count": 10,
   "id": "empirical-radio",
   "metadata": {},
   "outputs": [],
   "source": [
    "def plot1():\n",
    "    # https://matplotlib.org/3.5.1/gallery/subplots_axes_and_figures/two_scales.html\n",
    "    # https://matplotlib.org/3.5.1/tutorials/colors/colors.html\n",
    "    myColor1 = 'tab:orange'\n",
    "    myColor2 = 'tab:blue'\n",
    "    fig1, ax1a = plt.subplots()\n",
    "    ax1a.set_ylim([0, max(cmv.totalProductionSeries)])\n",
    "    t=range(1,cmv.ncycles+1)\n",
    "    ax1a.plot(t, cmv.totalProductionSeries, label=\"production\", color=myColor1)\n",
    "    ax1a.tick_params(axis='y', labelcolor=myColor1)\n",
    "    \n",
    "    ax2a = ax1a.twinx()  # instantiate a second axes that shares the same x-axis\n",
    "    ax2a.set_ylim([0, max(cmv.totalProductionInfraVarSeries)])\n",
    "    ax2a.plot(t, cmv.totalProductionInfraVarSeries, label=\"prodInVar\", color=myColor2)\n",
    "    ax2a.tick_params(axis='y', labelcolor=myColor2)\n",
    "    fig1.legend()\n",
    "\n",
    "def plot2():\n",
    "    # https://matplotlib.org/3.5.1/gallery/subplots_axes_and_figures/two_scales.html\n",
    "    # https://matplotlib.org/3.5.1/tutorials/colors/colors.html\n",
    "    myColor1 = 'tab:orange'\n",
    "    myColor2 = 'tab:blue'\n",
    "    fig2, ax1b = plt.subplots()\n",
    "    ax1b.set_ylim([min(cmv.totalProfitSeries), max(0,max(cmv.totalProfitSeries))])\n",
    "    t=range(1,cmv.ncycles+1)\n",
    "    ax1b.plot(t, cmv.totalProfitSeries, label=\"profit\", color=myColor1)\n",
    "    ax1b.tick_params(axis='y', labelcolor=myColor1)\n",
    "    ax1b.plot([0,cmv.ncycles],[0,0], label=\"zero line\", color=myColor1, linestyle='dashed')\n",
    "\n",
    "    ax2b = ax1b.twinx()  # instantiate a second axes that shares the same x-axis\n",
    "    ax2b.set_ylim([0, max(cmv.totalProfitInfraVarSeries)])\n",
    "    ax2b.plot(t, cmv.totalProfitInfraVarSeries, label=\"profInVar\", color=myColor2)\n",
    "    ax2b.tick_params(axis='y', labelcolor=myColor2)\n",
    "    fig2.legend()\n"
   ]
  },
  {
   "cell_type": "markdown",
   "id": "neutral-cylinder",
   "metadata": {},
   "source": [
    "### model machine"
   ]
  },
  {
   "cell_type": "code",
   "execution_count": 11,
   "id": "sealed-valuation",
   "metadata": {
    "scrolled": true
   },
   "outputs": [
    {
     "data": {
      "image/png": "[encoded data removed]",
      "text/plain": [
       "<Figure size 432x288 with 2 Axes>"
      ]
     },
     "metadata": {},
     "output_type": "display_data"
    },
    {
     "data": {
      "image/png": "[encoded data removed]",
      "text/plain": [
       "<Figure size 432x288 with 2 Axes>"
      ]
     },
     "metadata": {},
     "output_type": "display_data"
    }
   ],
   "source": [
    "r.seed(12131411)\n",
    "\n",
    "setup()\n",
    "\n",
    "cmv.actionList=[\"produceAll()\",\"payWagesAll()\",\"buyConsumptionGoodsAll()\",\\\n",
    "                \"makeBalanceSheetAll()\"]\n",
    "\n",
    "for cmv.cycle in range(cmv.ncycles):\n",
    "    for anAction in cmv.actionList:\n",
    "            exec(anAction)\n",
    "\n",
    "plot1()\n",
    "plot2()"
   ]
  },
  {
   "cell_type": "code",
   "execution_count": null,
   "id": "durable-display",
   "metadata": {},
   "outputs": [],
   "source": []
  },
  {
   "cell_type": "code",
   "execution_count": null,
   "id": "internal-background",
   "metadata": {},
   "outputs": [],
   "source": []
  },
  {
   "cell_type": "raw",
   "id": "passive-spine",
   "metadata": {},
   "source": [
    "cmv.totalProductionInfraVarSeries"
   ]
  },
  {
   "cell_type": "raw",
   "id": "brief-toronto",
   "metadata": {
    "scrolled": false
   },
   "source": [
    "list(anAgent.purchase for anAgent in cmv.agentList)"
   ]
  },
  {
   "cell_type": "raw",
   "id": "improved-university",
   "metadata": {},
   "source": [
    "p = np.zeros(shape=(cmv.employerNum,1))"
   ]
  },
  {
   "cell_type": "raw",
   "id": "second-wildlife",
   "metadata": {},
   "source": [
    "rr=0\n",
    "for anAgent in cmv.agentList:\n",
    "    if anAgent.employer: \n",
    "        p[rr,0]=anAgent.profit\n",
    "        print(anAgent.num, anAgent.profit)\n",
    "        rr+=1"
   ]
  },
  {
   "cell_type": "raw",
   "id": "overhead-albany",
   "metadata": {},
   "source": [
    "p"
   ]
  },
  {
   "cell_type": "raw",
   "id": "lasting-union",
   "metadata": {},
   "source": [
    "p.mean()"
   ]
  },
  {
   "cell_type": "raw",
   "id": "overhead-composition",
   "metadata": {},
   "source": [
    "p.var()"
   ]
  },
  {
   "cell_type": "code",
   "execution_count": null,
   "id": "jewish-harbor",
   "metadata": {},
   "outputs": [],
   "source": []
  }
 ],
 "metadata": {
  "kernelspec": {
   "display_name": "Python 3",
   "language": "python",
   "name": "python3"
  },
  "language_info": {
   "codemirror_mode": {
    "name": "ipython",
    "version": 3
   },
   "file_extension": ".py",
   "mimetype": "text/x-python",
   "name": "python",
   "nbconvert_exporter": "python",
   "pygments_lexer": "ipython3",
   "version": "3.9.7"
  }
 },
 "nbformat": 4,
 "nbformat_minor": 5
}
