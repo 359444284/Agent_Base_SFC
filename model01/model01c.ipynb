{
 "cells": [
  {
   "cell_type": "markdown",
   "id": "naval-nomination",
   "metadata": {},
   "source": [
    "#### Un altro passettino: ecco in azione l'*Istituto Centrale di Statistica* con a fianco la *Banca d'Italia*\n",
    "\n",
    "use it also in [Notebook viewer](https://nbviewer.org/github/terna/ejmmp/blob/main/model0/model0.ipynb)\n",
    "\n",
    "if the content is missing to update, follow once [Notebook viewer and flush cache](https://nbviewer.org/github/terna/ejmmp/blob/main/model0/model0.ipynb?flush_cache=true)\n",
    "\n",
    "[Wikipedia as a memo](https://en.wikipedia.org/wiki/Stock-flow_consistent_model#cite_note-42)"
   ]
  },
  {
   "cell_type": "code",
   "execution_count": 1,
   "id": "latter-survey",
   "metadata": {
    "scrolled": true
   },
   "outputs": [
    {
     "data": {
      "application/javascript": [
       "// to avoid scroll in windows\n",
       "IPython.OutputArea.prototype._should_scroll = function(lines) {\n",
       "    return false;\n",
       "}\n"
      ],
      "text/plain": [
       "<IPython.core.display.Javascript object>"
      ]
     },
     "metadata": {},
     "output_type": "display_data"
    }
   ],
   "source": [
    "%%javascript\n",
    "// to avoid scroll in windows\n",
    "IPython.OutputArea.prototype._should_scroll = function(lines) {\n",
    "    return false;\n",
    "}"
   ]
  },
  {
   "cell_type": "code",
   "execution_count": 2,
   "id": "great-earthquake",
   "metadata": {
    "scrolled": false
   },
   "outputs": [],
   "source": [
    "%matplotlib inline\n",
    "import random as r\n",
    "import matplotlib.pyplot as plt\n",
    "import commonVar as cmv\n",
    "import numpy as np\n",
    "from tools import *"
   ]
  },
  {
   "cell_type": "markdown",
   "id": "prostate-shadow",
   "metadata": {},
   "source": [
    "### Stock-flow *model1c*, with real and financial elements\n",
    "\n",
    "- Besides the real part of the economy, we introduce the initial element of the monetary side of the economy.\n",
    "\n",
    "  \n",
    "\n",
    "- We are introducing gradually loans, credits, debts, capital stock, interest rate.\n",
    "\n",
    "\n",
    "\n",
    "- Firms have unlimited funds that they put freely in their activities, balancing other agent negative cash, if any.\n",
    "\n",
    "  \n",
    "\n",
    "- Saving is abstension from consuming, increasing agent liquidity.\n",
    "\n",
    "\n",
    "\n",
    "- Investments are uniquely for replacement, without technical progress.\n",
    "\n",
    "  "
   ]
  },
  {
   "cell_type": "markdown",
   "id": "comparable-matthew",
   "metadata": {},
   "source": [
    "### symbol table\n",
    "\n",
    "[symbol table](https://oeis.org/wiki/List_of_LaTeX_mathematical_symbols) in $\\LaTeX$ \n",
    "\n",
    "$a_i$ -  with $a_i \\in \\mathbf{A}$; agent number $N=|\\mathbf{A}|$, `agentList` and`agentNum`\n",
    "\n",
    "$a^e_i$ -  with $a^e_i \\in \\mathbf{A^e}$ and $\\mathbf{A^e} \\subset \\mathbf{A}$; employer number $N^e=|\\mathbf{A^e}|$ in range $[N^e_{min},N^e_{max}]$, `employerList`\n",
    "\n",
    "$\\mathbf{F}$ - firms' set, with $f_j \\in \\mathbf{F}$ being $N^f = |\\mathbf{F}|$,  with $N^f = |\\mathbf{F}| = |\\mathbf{A^e}|$ , `firmList`\n",
    "\n",
    "$\\mathbf{A}^w$ - working agents' set, being $\\mathbf{A}^w \\subseteq \\mathbf{A}$, with $N^w_i=|\\mathbf{A}^w_i|$ number of working agents employed by employer $i$, also including self-employed employers, with $a_i \\in \\mathbf{A}^e$\n",
    "\n",
    "$\\mathbf{B}$ - banks' set, with $b_j \\in \\mathbf{B}$ being $N^b = |\\mathbf{B}|$, `bankList`\n",
    "\n",
    "$p$ - price `price`\n",
    "\n",
    "$u$ - unemployment rate `unemploymentRate`\n",
    "\n",
    "$dimensional~heterogeneity$ is a $true/false$ chooser, forcing increasing firms to attract more workers. `dimensionalHeterogeneity`\n",
    "\n",
    "$\\pi_{i,t}$ - labor productivity, a uniformly distributed decimal number in range $[\\pi_{min},\\pi_{max}]$,`productivity`\n",
    "\n",
    "&Delta;$\\pi_{i,t}$ - uniperiodal additive productivity correction in range $[$&Delta;$\\pi_{min},$ &Delta;$\\pi_{max}]$, `productivityDelta`\n",
    "\n",
    "$n_{i,t}$ - number of workers in a firm\n",
    "\n",
    "$q_{i,t}$ - production in quantity, `production`\n",
    "\n",
    "$\\Pi_{i,t}$ - profit, `profit`\n",
    "\n",
    "$\\rho$ - dividend distribution share, `rho`\n",
    "\n",
    "$W$ - wage `wage`\n",
    "\n",
    "$R_{i,t}$ - revenues, `revenues`\n",
    "\n",
    "$s_{i,t}$ - sales in quantity, `sales`\n",
    "\n",
    "$v_{i,t}$ - in**v**entories (final, initial), `initialInventories`, `finalInventories`\n",
    "\n",
    "$d_{i}$ - deperibility share of the production, `deperibilityShare`, setting $d_{max}$\n",
    "\n",
    "$c_{i,t}$ - consumption rate, a uniformly distributed decimal number in range $[c_{min},c_{max}]$,`consumptionRate`\n",
    "\n",
    "$C_{i,t}$ - consumption of $i$ in $t$\n",
    "\n",
    "$I_{i,t}$  - investment plan  of $i$ in $t$, a uniformly distributed realization in range $[I_{min},I_{max}]$,`investmentProgram`\n",
    "\n",
    "$H_{i,t}$  - high powered money (cash) held by individuals (also acting as employers), `cashMoney`\n",
    "\n",
    "$M1_{i,t}$ - checking account money deposits held by  $a_i$ at time $t$, `checkingAccount`\n",
    "\n",
    "$M1^f_{i,t}$ - firm's bank account (with positive or negative balance), `bankAccount`\n",
    "\n",
    "the investment and consumption actions are repeated in each cycle, looking around randomly for the sellers; currently `nOfConsumptionActions` $=30$ and `nOfInvestmentActions`$=10$; each consumption buy action is at maximum the 20% of the planned consumptions in that cycle; instead, each investment buy action can reach the whole amount of the investment program of the cycle; each buy action is limited by the residual capabilty of the seller\n",
    "\n",
    "**magically**, the same good can be a consumption item or an investment one\n",
    "\n",
    "$T$ - number of cycles `ncycles`\n",
    "\n",
    "$t$ - current cycle `cycle`\n"
   ]
  },
  {
   "cell_type": "markdown",
   "id": "broke-marathon",
   "metadata": {},
   "source": [
    "### agent structure\n",
    "\n",
    "The structure of a **generic agent**: it can represent an employer, a worker, an unemployed person.\n",
    "\n",
    "When an agent is created, the **initialization process** defines:\n",
    "\n",
    "- its numerical id, `num`\n",
    "- its entrepreneur status, `entrepreneur`, set to $false$\n",
    "- the id of its employer, `myEmployer`, set to $0$\n",
    "- if entrepreneur, the id of its firm, `myFirm`, set to $0$\n",
    "- $c_{i,0}$ - consumption rate, set to $0$\n",
    "- $H_{i,0}$ - cash money, set to $0$ \n",
    "- $M1_{i,0}$ - checking account money deposits, set to $0$\n",
    "\n",
    "\n",
    "\n",
    "## firm structure\n",
    "\n",
    "- $R_{i,0}$ - `revenues`, initial value  $0$\n",
    "- $s_{i,0}$ - `sales`, initial value  $0$\n",
    "- $v^i_{i,0}$ - in**v**entories, `initialInventories`, set to $0$ \n",
    "- $v^f_{i,0}$ - in**v**entories, `finalInventories`, set to $0$ \n",
    "- $d_{i}$ - deperibility share, a uniformly distributed decimal number in range $[0,d_{max}]$,`deperibilityShare`\n",
    "- $I_{i,0}$  - investment plan, set to $0$\n",
    "- $\\Pi_{i,0}$ - profit, set to $0$, being the related dividend $D_{i,0}$, set to $0$\n",
    "- $M1^f_{i,0}$ - firm's bank account, set to $0$\n",
    "- $\\pi_{i,t-1}$ is set after the initialization step, if an agent becomes an employer\n",
    "\n",
    "\n",
    "\n",
    "each **generic agent** has the **functions**:\n",
    "\n",
    "- **buyConsumptionGoods** \n",
    "\n",
    "  $C_{i,t}=c_{i,t} (W+D_{i,t-1})$; using $D_{i,t-1}$ we introduce a lag with a (possible) cyclical effect\n",
    "\n",
    "  being $bu$ the buyer and $se$ the seller (firm), for each fraction $C_{i,t}/k$ \n",
    "\n",
    "  ($k$ is the number of buying actions in each cycle)\n",
    "\n",
    "  &Delta;$M1^f_{se,t}=C_{bu,t}/k$\n",
    "\n",
    "  &Delta;$M1_{bu,t}=-C_{bu,t}/k$\n",
    "\n",
    "\n",
    "\n",
    "each **firm** has the **functions**:\n",
    "\n",
    "- **produce** function, with:\n",
    "\n",
    "  $\\pi_{i,t}=\\pi_{i,t-1}+$&Delta;$\\pi_{i,t}$\n",
    "\n",
    "  $q_{i,t}=n_{i,t} \\pi_{i,t}$\n",
    "\n",
    "  \n",
    "\n",
    "- **payWages**\n",
    "\n",
    "  paying $W$ to each worker in each time $t$\n",
    "\n",
    "  &Delta;$M1_{i,t}=W$ for  $a_i \\in \\mathbf{A}^w$ \n",
    "\n",
    "  &Delta;$M1^f_{i,t}=-W \\mathbf{N}^w_i$ for $a_i \\in \\mathbf{A}^e$ \n",
    "\n",
    "  \n",
    "\n",
    "- **buyInvestmentGoods**\n",
    "\n",
    "  $I_{j,t}$ for $f_j \\in \\mathbf{F}$  ($I_{j,t}$ is exogenously set)\n",
    "\n",
    "  being $bu$ the buyer (firm) and $se$ the seller (firm), for each fraction $I_{j,t}/k$\n",
    "\n",
    "  ($k$ is the number of investment actions in each cycle)\n",
    "\n",
    "  &Delta;$M1^f_{se,t}=I_{bu,t}/k$\n",
    "\n",
    "  &Delta;$M1^f_{bu,t}=-I_{bu,t}/k$\n",
    "\n",
    "  \n",
    "\n",
    "- **makeBalanceSheet**\n",
    "\n",
    "  $v^f_{i,t}=v^i_{i,t}+(q_{i,t}-s_{i,t}) (1 - d_{i})$\n",
    "\n",
    "  $R_{i,t}=p s_{i,t}$\n",
    "\n",
    "  $\\Pi_{i,t}=R_{i,t}-W n_{i,t}-p(v^f_{i,t}-v^i_{i,t})$\n",
    "\n",
    "\n",
    "\n",
    "Agent **bank** is a special subject operating on the financial side of the model  (to be continued)\n",
    "\n"
   ]
  },
  {
   "cell_type": "code",
   "execution_count": 3,
   "id": "found-bibliography",
   "metadata": {
    "scrolled": false
   },
   "outputs": [],
   "source": [
    "class Agent():\n",
    "    def __init__(self, num):\n",
    "        self.num=num\n",
    "        self.entrepreneur=False\n",
    "        self.myFirm=0\n",
    "        self.myEmployer=0\n",
    "        self.consumptionRate=0\n",
    "        self.cashMoney=0\n",
    "        self.checkingAccount=0\n",
    "        self.perceivedWage=0\n",
    "        self.perceivedDividend=0\n",
    "\n",
    "    def buyConsumptionGoods(self,k):\n",
    "        if k==0: \n",
    "            self.consumptionRate=r.uniform(cmv.consumptionRateMin,cmv.consumptionRateMax)\n",
    "            self.consumption=(self.perceivedWage+self.perceivedDividend)*self.consumptionRate\n",
    "            if self.consumption < 0: self.consumption=0 # impossible, being wage and\n",
    "                                                        # perceivedDividend >=0 but in case of\n",
    "                                                        # future modifications ...\n",
    "            self.perceivedWage=0\n",
    "            self.perceivedDividend=0\n",
    "            self.madeConsumption=0\n",
    "                \n",
    "        r.shuffle(cmv.firmList)\n",
    "        mySeller=cmv.firmList[0]\n",
    "        self.purchase=r.uniform(0,1/5)*self.consumption \n",
    "                            # mean value 0.10 (10 buy action could be sufficient)\n",
    "        self.purchase=min(self.purchase,self.consumption-self.madeConsumption)\n",
    "        self.purchase=min(self.purchase,cmv.price*(mySeller.production+\\\n",
    "                                        mySeller.initialInventories-mySeller.sales))\n",
    "        mySeller.sales+=self.purchase/cmv.price\n",
    "        mySeller.bankAccount+=self.purchase\n",
    "        #self.consumption-=self.purchase\n",
    "        self.checkingAccount-=self.purchase\n",
    "        self.madeConsumption+=self.purchase\n",
    "    \n"
   ]
  },
  {
   "cell_type": "code",
   "execution_count": 4,
   "id": "dirty-nevada",
   "metadata": {},
   "outputs": [],
   "source": [
    "class Firm():\n",
    "    def __init__(self, num):\n",
    "        self.num=num\n",
    "        self.myWorkers=[]\n",
    "        self.myEntrepreneur=0\n",
    "        self.productivity=0\n",
    "        self.initialInventories=0\n",
    "        self.finalInventories=0\n",
    "        self.bankAccount=0\n",
    "        self.revenues=0 #sales*price\n",
    "        self.sales=0\n",
    "        self.deperibilityShare=r.uniform(0,cmv.maxDeperibilityShare)\n",
    "        self.investmentProgram=0\n",
    "        self.profit=0\n",
    "        self.madeInvestment=0\n",
    "        \n",
    "    def produce(self):\n",
    "        self.initialInventories=self.finalInventories\n",
    "        self.productivity+=r.uniform(cmv.productivityDeltaMin,cmv.productivityDeltaMax)\n",
    "        self.productivity=max(self.productivity,0)\n",
    "        \n",
    "        self.production=len(self.myWorkers)*self.productivity\n",
    "        self.sales=0\n",
    "\n",
    "    def payWages(self):\n",
    "        for anAgent in self.myWorkers:\n",
    "            anAgent.perceivedWage=cmv.wage\n",
    "            anAgent.checkingAccount+=cmv.wage\n",
    "        self.bankAccount-=cmv.wage*len(self.myWorkers)\n",
    "            \n",
    "    def buyInvestmentGoods(self,k):\n",
    "        if k==0: \n",
    "            self.investmentProgram=r.uniform(cmv.investmentMin,cmv.investmentMax)\n",
    "            self.madeInvestment=0\n",
    "                       \n",
    "        r.shuffle(cmv.firmList)\n",
    "        mySeller=cmv.firmList[0]\n",
    "        self.myInvestment=min(self.investmentProgram,cmv.price*(mySeller.production+\\\n",
    "                              mySeller.initialInventories-mySeller.sales))\n",
    "        mySeller.sales+=self.myInvestment/cmv.price\n",
    "        mySeller.bankAccount+=self.myInvestment\n",
    "        \n",
    "        self.bankAccount-=self.myInvestment\n",
    "        self.investmentProgram-=self.myInvestment\n",
    "        self.madeInvestment+=self.myInvestment\n",
    "        \n",
    "    def makeBalanceSheet(self):\n",
    "        self.lostProduction=0\n",
    "        if self.production - self.sales > 0: \n",
    "            self.lostProduction=(self.production - self.sales)*self.deperibilityShare\n",
    "        #print(self.num, lostProduction,self.productivity)\n",
    "        self.finalInventories=self.initialInventories+self.production-\\\n",
    "                              self.sales-self.lostProduction\n",
    "        self.revenues=self.sales*cmv.price\n",
    "        self.profit=self.revenues - len(self.myWorkers)*cmv.wage + \\\n",
    "          (self.finalInventories-self.initialInventories)*cmv.price\n",
    "        #print(self.num,self.profit,self.revenues,len(self.myWorkers)*cmv.wage,\\\n",
    "        #      self.finalInventories, self.initialInventories)\n",
    "        \n",
    "    def distributeDividend(self):\n",
    "        if self.profit > 0:\n",
    "            dividend=cmv.rho*self.profit\n",
    "            self.bankAccount-=dividend\n",
    "            self.myEntrepreneur.checkingAccount+=dividend\n",
    "            self.myEntrepreneur.perceivedDividend=dividend        \n"
   ]
  },
  {
   "cell_type": "markdown",
   "id": "given-bangkok",
   "metadata": {},
   "source": [
    "### agent setup\n",
    "\n",
    "- agent basic creation\n",
    "\n",
    "  \n",
    "\n",
    "- creation of entrepreneur list\n",
    "\n",
    "  \n",
    "\n",
    "- selecting entrepreneurs and creating their firms\n",
    "\n",
    "  \n",
    "\n",
    "- with a given (heterogeneous) productivity\n",
    "\n",
    "  \n",
    "\n",
    "- linking the firm to its entrepreneur, considering the entrepreneur itself as a worker in its firm\n",
    "\n",
    "  \n",
    "\n",
    "- creation of a temporary workforce list of to-be-employed agent, escluding entrepreneurs (already self employed)\n",
    "\n",
    "  \n",
    "\n",
    "- applying the unmployement rate to exclude agents\n",
    "\n",
    "  \n",
    "\n",
    "- assigning workforce (to-be-employed agents) to firms, with a reinforcement mechanism, gradually giving more attraction/hiring capability to firms growing the most\n",
    "\n"
   ]
  },
  {
   "cell_type": "code",
   "execution_count": 5,
   "id": "weekly-jordan",
   "metadata": {},
   "outputs": [],
   "source": [
    "def setup():\n",
    "    cmv.agentList=[]\n",
    "    for n in range(cmv.agentNum):\n",
    "        anAgent=Agent(n+1)\n",
    "        cmv.agentList.append(anAgent)\n",
    "    \n",
    "\n",
    "    # creation of entrepreneur list\n",
    "    cmv.entrepreneurNum=r.randint(entrepreneurMin, entrepreneurMax)\n",
    "\n",
    "    cmv.entrepreneurList=[]\n",
    "    cmv.firmList=[]\n",
    "    entrepreneurCandidates=cmv.agentList.copy()\n",
    "\n",
    "    for n in range(cmv.entrepreneurNum):\n",
    "        i=r.randint(0,len(entrepreneurCandidates))\n",
    "        entrepreneurCandidates[i].entrepreneur=True\n",
    "        aFirm=Firm(entrepreneurCandidates[i].num)\n",
    "        entrepreneurCandidates[i].myFirm=aFirm\n",
    "        entrepreneurCandidates[i].myEmployer=aFirm\n",
    "        aFirm.myEntrepreneur=entrepreneurCandidates[i]\n",
    "        aFirm.myWorkers.append(entrepreneurCandidates[i])\n",
    "        aFirm.productivity=\\\n",
    "                r.uniform(cmv.productivityMin,cmv.productivityMax)\n",
    "        cmv.entrepreneurList.append(entrepreneurCandidates.pop(i))\n",
    "        cmv.firmList.append(aFirm)\n",
    "        \n",
    "    cmv.firmNum=len(cmv.firmList)\n",
    "    \n",
    "    # creation of workforce list\n",
    "    toBeEmployed=[]\n",
    "\n",
    "    for anAgent in cmv.agentList:\n",
    "        if not anAgent.entrepreneur: toBeEmployed.append(anAgent)\n",
    "    for k in range(round(cmv.unemploymentRate*cmv.agentNum)):\n",
    "        toBeEmployed.pop(r.randint(0,len(toBeEmployed)))\n",
    "    #len(toBeEmployed)\n",
    "\n",
    "\n",
    "    # assigning workforce to firms\n",
    "    tmpFirmListWithDuplications=cmv.firmList.copy()\n",
    "    for anAgent in toBeEmployed:\n",
    "        choice=r.choice(tmpFirmListWithDuplications)\n",
    "        anAgent.myEmployer=choice\n",
    "        choice.myWorkers.append(anAgent)\n",
    "        if cmv.dimensionalHeterogeneity: tmpFirmListWithDuplications.append(choice)\n",
    "            \n",
    "    cmv.totalProductionSeries=[]\n",
    "    cmv.totalProductionInfraVarSeries=[]\n",
    "    cmv.totalProfitSeries=[]\n",
    "    cmv.totalProfitInfraVarSeries=[]\n",
    "    cmv.totalInitialInventoriesSeries=[]\n",
    "    cmv.totalInitialInventoriesInfraVarSeries=[]\n",
    "    cmv.totalFinalInventoriesSeries=[]\n",
    "    cmv.totalFinalInventoriesInfraVarSeries=[]\n",
    "    cmv.totalConsumptionSeries=[]\n",
    "    cmv.totalEntrepreneurConsumptionSeries=[]\n",
    "    cmv.totalNonEntrepreneurConsumptionSeries=[]\n",
    "    cmv.totalConsumptionInfraVarSeries=[]\n",
    "    cmv.totalInvestmentSeries=[]\n",
    "    cmv.totalInvestmentInfraVarSeries=[]\n",
    "    cmv.totalCashMoneySeries=[]\n",
    "    cmv.totalCashMoneyInfraVarSeries=[]\n",
    "    cmv.totalCheckingAccountSeries=[]\n",
    "    cmv.totalCheckingAccountInfraVarSeries=[]\n",
    "    cmv.totalBankAccountSeries=[]\n",
    "    cmv.totalBankAccountInfraVarSeries=[]\n",
    "\n",
    "    cmv.totalLostProductionSeries=[]"
   ]
  },
  {
   "cell_type": "markdown",
   "id": "accompanied-defeat",
   "metadata": {},
   "source": [
    "### meta actions\n",
    "\n",
    "\n",
    "\n",
    "- *produceAll* orders to the firms to produce and to collects the results\n",
    "\n",
    "  \n",
    "\n",
    "- *payWagesAll* orders to the firms to pay wages, also to the entrepreneurs\n",
    "\n",
    "  \n",
    "\n",
    "- *buyConsumptionGoodsAll* orders to the agents to buy consumption goods\n",
    "\n",
    "  \n",
    "\n",
    "- *buyInvestmentGoodsAll* orders to the firms to buy investment goods\n",
    "\n",
    "\n",
    "\n",
    "- *makeBalanceSheetAll* with firm making accounts\n",
    "\n",
    "\n",
    "\n",
    "- *accountCashMoneyAll* summarizing eveyone cash money at the end of a cycle\n",
    "\n",
    "  \n",
    "\n",
    "- *accountCheckingAccountAll* summarizing eveyone checking accounts at the end of a cycle\n",
    "\n",
    "  \n",
    "\n",
    "- *accountBankingAccountAll* summarizing firm banking accounts at the end of a cycle\n",
    "\n"
   ]
  },
  {
   "cell_type": "code",
   "execution_count": 6,
   "id": "artistic-barcelona",
   "metadata": {
    "scrolled": false
   },
   "outputs": [],
   "source": [
    "def produceAll():\n",
    "    cmv.totalProductionSeries.append(0)\n",
    "    cmv.totalProductionInfraVarSeries.append(0)\n",
    "    cmv.totalInitialInventoriesSeries.append(0)\n",
    "    cmv.totalInitialInventoriesInfraVarSeries.append(0)\n",
    "\n",
    "    for aFirm in cmv.firmList:\n",
    "        aFirm.produce()\n",
    "        cmv.totalProductionSeries[-1]+=aFirm.production\n",
    "        cmv.totalProductionInfraVarSeries[-1]+=aFirm.production**2\n",
    "        cmv.totalInitialInventoriesSeries[-1]+=aFirm.initialInventories\n",
    "        cmv.totalInitialInventoriesInfraVarSeries[-1]+=aFirm.initialInventories**2\n",
    "\n",
    "    cmv.totalProductionInfraVarSeries[-1]=\\\n",
    "                            (cmv.totalProductionInfraVarSeries[-1]/cmv.firmNum - \\\n",
    "                            (cmv.totalProductionSeries[-1]/cmv.firmNum)**2)\n",
    "    cmv.totalInitialInventoriesInfraVarSeries[-1]=\\\n",
    "                            (cmv.totalInitialInventoriesInfraVarSeries[-1]/cmv.firmNum - \\\n",
    "                            (cmv.totalInitialInventoriesSeries[-1]/cmv.firmNum)**2)\n",
    "                                          "
   ]
  },
  {
   "cell_type": "code",
   "execution_count": 7,
   "id": "married-fabric",
   "metadata": {
    "scrolled": false
   },
   "outputs": [],
   "source": [
    "def payWagesAll():\n",
    "    for aFirm in cmv.firmList:\n",
    "        aFirm.payWages()\n"
   ]
  },
  {
   "cell_type": "code",
   "execution_count": 8,
   "id": "global-mercury",
   "metadata": {
    "scrolled": true
   },
   "outputs": [],
   "source": [
    "def buyConsumptionGoodsAll():\n",
    "    cmv.totalEntrepreneurConsumptionSeries.append(0) \n",
    "    cmv.totalNonEntrepreneurConsumptionSeries.append(0)\n",
    "    cmv.totalConsumptionSeries.append(0)\n",
    "    cmv.totalConsumptionInfraVarSeries.append(0)\n",
    "    for k in range(cmv.nOfConsumptionActions):\n",
    "        r.shuffle(cmv.agentList)\n",
    "        for anAgent in cmv.agentList:\n",
    "            anAgent.buyConsumptionGoods(k)\n",
    "            if k==cmv.nOfConsumptionActions-1:\n",
    "                if anAgent.entrepreneur:\n",
    "                    cmv.totalEntrepreneurConsumptionSeries[-1]+=anAgent.madeConsumption\n",
    "                if not anAgent.entrepreneur:\n",
    "                    cmv.totalNonEntrepreneurConsumptionSeries[-1]+=anAgent.madeConsumption\n",
    "                cmv.totalConsumptionSeries[-1]+=anAgent.madeConsumption\n",
    "                cmv.totalConsumptionInfraVarSeries[-1]+=anAgent.madeConsumption**2\n",
    "    cmv.totalConsumptionInfraVarSeries[-1]=\\\n",
    "                              (cmv.totalConsumptionInfraVarSeries[-1]/cmv.agentNum - \\\n",
    "                              (cmv.totalConsumptionSeries[-1]/cmv.agentNum)**2)\n",
    "                "
   ]
  },
  {
   "cell_type": "code",
   "execution_count": 9,
   "id": "incredible-strategy",
   "metadata": {
    "scrolled": true
   },
   "outputs": [],
   "source": [
    "def buyInvestmentGoodsAll():\n",
    "    cmv.totalInvestmentSeries.append(0)\n",
    "    cmv.totalInvestmentInfraVarSeries.append(0)\n",
    "    for k in range(cmv.nOfInvestmentActions):\n",
    "        firmSafeList=cmv.firmList.copy() # safe copy without the shuffles in \n",
    "                                         # buyInvestmentGoods\n",
    "        r.shuffle(firmSafeList)\n",
    "        for aFirm in firmSafeList:\n",
    "            aFirm.buyInvestmentGoods(k)\n",
    "            if k==cmv.nOfInvestmentActions-1:\n",
    "                cmv.totalInvestmentSeries[-1]+=aFirm.madeInvestment\n",
    "                cmv.totalInvestmentInfraVarSeries[-1]+=aFirm.madeInvestment**2\n",
    "    cmv.totalInvestmentInfraVarSeries[-1]=\\\n",
    "                              (cmv.totalInvestmentInfraVarSeries[-1]/cmv.firmNum - \\\n",
    "                              (cmv.totalInvestmentSeries[-1]/cmv.firmNum)**2)\n",
    "                "
   ]
  },
  {
   "cell_type": "code",
   "execution_count": 10,
   "id": "twelve-aerospace",
   "metadata": {
    "scrolled": true
   },
   "outputs": [],
   "source": [
    "def accountCashMoneyAll():\n",
    "    cmv.totalCashMoneySeries.append(0)\n",
    "    cmv.totalCashMoneyInfraVarSeries.append(0)\n",
    "    for anAgent in cmv.agentList:\n",
    "        cmv.totalCashMoneySeries[-1]+=anAgent.cashMoney\n",
    "        cmv.totalCashMoneyInfraVarSeries[-1]+=anAgent.cashMoney**2\n",
    "\n",
    "    cmv.totalCashMoneyInfraVarSeries[-1]=\\\n",
    "                              (cmv.totalCashMoneyInfraVarSeries[-1]/cmv.agentNum - \\\n",
    "                              (cmv.totalCashMoneySeries[-1]/cmv.agentNum)**2)\n",
    "    if abs(cmv.totalCashMoneySeries[-1])<0.00001: \\\n",
    "        cmv.totalCashMoneySeries[-1]=0\n"
   ]
  },
  {
   "cell_type": "code",
   "execution_count": 11,
   "id": "daily-hobby",
   "metadata": {},
   "outputs": [],
   "source": [
    "def accountCheckingAccountAll():\n",
    "    cmv.totalCheckingAccountSeries.append(0)\n",
    "    cmv.totalCheckingAccountInfraVarSeries.append(0)\n",
    "    for anAgent in cmv.agentList:\n",
    "        cmv.totalCheckingAccountSeries[-1]+=anAgent.checkingAccount\n",
    "        cmv.totalCheckingAccountInfraVarSeries[-1]+=anAgent.checkingAccount**2\n",
    "\n",
    "    cmv.totalCheckingAccountInfraVarSeries[-1]=\\\n",
    "                              (cmv.totalCheckingAccountInfraVarSeries[-1]/cmv.agentNum - \\\n",
    "                              (cmv.totalCheckingAccountSeries[-1]/cmv.agentNum)**2)\n",
    "    if abs(cmv.totalCheckingAccountSeries[-1])<0.00001: \\\n",
    "        cmv.totalCheckingAccountSeries[-1]=0\n"
   ]
  },
  {
   "cell_type": "code",
   "execution_count": 12,
   "id": "soviet-johnson",
   "metadata": {},
   "outputs": [],
   "source": [
    "def accountBankAccountAll(): #temporary - this is an attribute of firms\n",
    "    cmv.totalBankAccountSeries.append(0)\n",
    "    cmv.totalBankAccountInfraVarSeries.append(0)\n",
    "    for aFirm in cmv.firmList:\n",
    "        cmv.totalBankAccountSeries[-1]+=aFirm.bankAccount\n",
    "        cmv.totalBankAccountInfraVarSeries[-1]+=aFirm.bankAccount**2\n",
    "\n",
    "    cmv.totalBankAccountInfraVarSeries[-1]=\\\n",
    "                              (cmv.totalBankAccountInfraVarSeries[-1]/cmv.firmNum - \\\n",
    "                              (cmv.totalBankAccountSeries[-1]/cmv.firmNum)**2)\n",
    "    if abs(cmv.totalBankAccountSeries[-1])<0.00001: \\\n",
    "        cmv.totalBankAccountSeries[-1]=0\n"
   ]
  },
  {
   "cell_type": "code",
   "execution_count": 13,
   "id": "exceptional-management",
   "metadata": {
    "scrolled": false
   },
   "outputs": [],
   "source": [
    "def makeBalanceSheetAll():\n",
    "    cmv.totalProfitSeries.append(0)\n",
    "    cmv.totalProfitInfraVarSeries.append(0)\n",
    "    cmv.totalFinalInventoriesSeries.append(0)\n",
    "    cmv.totalFinalInventoriesInfraVarSeries.append(0)\n",
    "    cmv.totalLostProductionSeries.append(0)\n",
    "    for aFirm in cmv.firmList:\n",
    "        aFirm.makeBalanceSheet()\n",
    "        cmv.totalProfitSeries[-1]+=aFirm.profit\n",
    "        cmv.totalProfitInfraVarSeries[-1]+=aFirm.profit**2\n",
    "        cmv.totalFinalInventoriesSeries[-1]+=aFirm.finalInventories\n",
    "        cmv.totalFinalInventoriesInfraVarSeries[-1]+=aFirm.finalInventories**2\n",
    "        cmv.totalLostProductionSeries[-1]+=aFirm.lostProduction\n",
    "\n",
    "    cmv.totalProfitInfraVarSeries[-1]=(cmv.totalProfitInfraVarSeries[-1]/cmv.firmNum - \\\n",
    "                                          (cmv.totalProfitSeries[-1]/cmv.firmNum)**2)\n",
    "    cmv.totalFinalInventoriesInfraVarSeries[-1]=\\\n",
    "                            (cmv.totalFinalInventoriesInfraVarSeries[-1]/cmv.firmNum - \\\n",
    "                            (cmv.totalFinalInventoriesSeries[-1]/cmv.firmNum)**2)\n",
    "                                            "
   ]
  },
  {
   "cell_type": "code",
   "execution_count": 14,
   "id": "arctic-terminology",
   "metadata": {},
   "outputs": [],
   "source": [
    "def distributeDividendAll():\n",
    "    for aFirm in cmv.firmList:\n",
    "        aFirm.distributeDividend()"
   ]
  },
  {
   "cell_type": "markdown",
   "id": "dense-journey",
   "metadata": {},
   "source": [
    "\n",
    "### model parameters\n",
    "\n"
   ]
  },
  {
   "cell_type": "code",
   "execution_count": 15,
   "id": "designing-participant",
   "metadata": {
    "scrolled": false
   },
   "outputs": [],
   "source": [
    "cmv.agentNum=100\n",
    "entrepreneurMin=5\n",
    "entrepreneurMax=20\n",
    "\n",
    "cmv.price=1\n",
    "\n",
    "cmv.unemploymentRate=0\n",
    "cmv.dimensionalHeterogeneity=True\n",
    "\n",
    "cmv.productivityMin=0.8\n",
    "cmv.productivityMax=1.2\n",
    "cmv.productivityDeltaMin=cmv.productivityMin-1\n",
    "cmv.productivityDeltaMax=cmv.productivityMax-1\n",
    "\n",
    "cmv.maxDeperibilityShare=0.5\n",
    "\n",
    "cmv.wage=1\n",
    "cmv.rho=0.5 #1\n",
    "cmv.consumptionRateMin=0.5\n",
    "cmv.consumptionRateMax=1\n",
    "\n",
    "cmv.investmentMin=1\n",
    "cmv.investmentMax=10\n",
    "\n",
    "cmv.nOfConsumptionActions=30\n",
    "cmv.nOfInvestmentActions=10\n",
    "cmv.ncycles=100\n",
    "cmv.cycle=0"
   ]
  },
  {
   "cell_type": "markdown",
   "id": "neutral-cylinder",
   "metadata": {},
   "source": [
    "## <p style=\"color:red\">model machine</p>\n",
    "\n",
    "- a random seed determining the random number sequences\n",
    "\n",
    "\n",
    "\n",
    "- a list of actions (meta ones)\n",
    "\n",
    "\n",
    "\n",
    "- an engine excecuting the meta actions\n",
    "\n",
    "\n",
    "\n",
    "- display tools (their code is hidden into the file `tools.py`)\n",
    "\n",
    "\n"
   ]
  },
  {
   "cell_type": "code",
   "execution_count": 16,
   "id": "sealed-valuation",
   "metadata": {
    "scrolled": false
   },
   "outputs": [
    {
     "name": "stdout",
     "output_type": "stream",
     "text": [
      "-------------------------------------------\n",
      "entrepreneur number 19\n",
      "-------------------------------------------\n",
      "\n",
      "-------------------------------------------\n",
      "\"national\" accounts\n",
      "-------------------------------------------\n",
      "\n",
      "t\ttotal\tlost\tinitial\t\tconsum.\tinvest.\tfinal\n",
      "\tproduc.\tproduc.\tinvent.\t\t\t\tinvent.\n",
      "  1\t100.8\t0.0\t0.0\t    |\t71.2\t29.6\t0.0\n",
      "  2\t101.1\t0.0\t0.0\t    |\t70.9\t30.2\t0.0\n",
      "  3\t99.6\t0.0\t0.0\t    |\t71.9\t27.7\t0.0\n",
      "  4\t102.8\t0.0\t0.0\t    |\t73.7\t29.1\t0.0\n",
      "  5\t100.5\t0.0\t0.0\t    |\t70.4\t30.1\t0.0\n",
      "  6\t98.3\t0.0\t0.0\t    |\t74.2\t24.1\t0.0\n",
      "  7\t100.3\t0.0\t0.0\t    |\t71.8\t28.5\t0.0\n",
      "  8\t100.9\t0.0\t0.0\t    |\t73.4\t27.4\t0.0\n",
      "  9\t96.3\t0.0\t0.0\t    |\t72.7\t23.7\t0.0\n",
      " 10\t91.2\t0.0\t0.0\t    |\t72.0\t19.2\t0.0\n",
      " 11\t96.2\t0.0\t0.0\t    |\t73.9\t22.3\t0.0\n",
      " 12\t105.5\t0.0\t0.0\t    |\t77.4\t28.2\t0.0\n",
      " 13\t108.4\t0.0\t0.0\t    |\t77.7\t30.7\t0.0\n",
      " 14\t110.5\t0.0\t0.0\t    |\t74.1\t36.3\t0.0\n",
      " 15\t110.7\t0.0\t0.0\t    |\t79.0\t31.7\t0.0\n",
      " 16\t109.6\t0.0\t0.0\t    |\t76.9\t32.7\t0.0\n",
      " 17\t104.3\t0.0\t0.0\t    |\t72.1\t32.2\t0.0\n",
      " 18\t99.2\t0.0\t0.0\t    |\t73.0\t26.2\t0.0\n",
      " 19\t103.1\t0.0\t0.0\t    |\t74.2\t28.9\t0.0\n",
      " 20\t98.6\t0.0\t0.0\t    |\t71.9\t26.6\t0.0\n",
      " 21\t91.7\t0.0\t0.0\t    |\t73.3\t18.4\t0.0\n",
      " 22\t93.5\t0.0\t0.0\t    |\t70.8\t22.6\t0.0\n",
      " 23\t87.0\t0.0\t0.0\t    |\t69.0\t18.0\t0.0\n",
      " 24\t92.3\t0.0\t0.0\t    |\t71.8\t20.5\t0.0\n",
      " 25\t97.7\t0.0\t0.0\t    |\t68.0\t29.6\t0.0\n",
      " 26\t91.5\t0.0\t0.0\t    |\t68.5\t23.1\t0.0\n",
      " 27\t85.2\t0.0\t0.0\t    |\t65.1\t20.1\t0.0\n",
      " 28\t78.8\t0.0\t0.0\t    |\t64.8\t14.1\t0.0\n",
      " 29\t78.0\t0.0\t0.0\t    |\t65.7\t12.2\t0.0\n",
      " 30\t85.4\t0.0\t0.0\t    |\t69.4\t16.0\t0.0\n",
      " 31\t86.5\t0.0\t0.0\t    |\t71.6\t14.9\t0.0\n",
      " 32\t82.8\t0.0\t0.0\t    |\t71.9\t10.8\t0.0\n",
      " 33\t83.3\t0.0\t0.0\t    |\t69.7\t13.6\t0.0\n",
      " 34\t86.3\t0.0\t0.0\t    |\t68.4\t17.9\t0.0\n",
      " 35\t82.2\t0.0\t0.0\t    |\t71.5\t10.7\t0.0\n",
      " 36\t76.5\t0.0\t0.0\t    |\t67.9\t8.6\t0.0\n",
      " 37\t81.6\t0.0\t0.0\t    |\t69.8\t11.8\t0.0\n",
      " 38\t80.6\t0.0\t0.0\t    |\t69.3\t11.3\t0.0\n",
      " 39\t77.8\t0.0\t0.0\t    |\t68.5\t9.3\t0.0\n",
      " 40\t76.6\t0.0\t0.0\t    |\t68.4\t8.2\t0.0\n",
      " 41\t77.0\t0.0\t0.0\t    |\t68.9\t8.0\t0.0\n",
      " 42\t79.5\t0.0\t0.0\t    |\t68.4\t11.1\t0.0\n",
      " 43\t80.7\t0.0\t0.0\t    |\t68.8\t11.9\t0.0\n",
      " 44\t80.2\t0.0\t0.0\t    |\t64.3\t15.8\t0.0\n",
      " 45\t70.5\t0.0\t0.0\t    |\t61.3\t9.2\t0.0\n",
      " 46\t70.7\t0.0\t0.0\t    |\t61.2\t9.5\t0.0\n",
      " 47\t73.6\t0.0\t0.0\t    |\t63.4\t10.2\t0.0\n",
      " 48\t72.8\t0.0\t0.0\t    |\t64.8\t8.0\t0.0\n",
      " 49\t75.4\t0.0\t0.0\t    |\t60.8\t14.6\t0.0\n",
      " 50\t74.7\t0.0\t0.0\t    |\t63.8\t10.9\t0.0\n",
      " 51\t72.2\t0.0\t0.0\t    |\t60.5\t11.7\t0.0\n",
      " 52\t75.2\t0.0\t0.0\t    |\t63.3\t11.9\t0.0\n",
      " 53\t72.1\t0.0\t0.0\t    |\t59.8\t12.3\t0.0\n",
      " 54\t68.6\t0.0\t0.0\t    |\t55.7\t12.9\t0.0\n",
      " 55\t74.3\t0.0\t0.0\t    |\t60.5\t13.8\t0.0\n",
      " 56\t75.7\t0.0\t0.0\t    |\t57.5\t18.3\t0.0\n",
      " 57\t77.5\t0.0\t0.0\t    |\t56.1\t21.4\t0.0\n",
      " 58\t73.2\t0.0\t0.0\t    |\t57.5\t15.7\t0.0\n",
      " 59\t76.5\t0.0\t0.0\t    |\t56.8\t19.7\t0.0\n",
      " 60\t75.3\t0.0\t0.0\t    |\t57.4\t17.9\t0.0\n",
      " 61\t71.0\t0.0\t0.0\t    |\t57.4\t13.5\t0.0\n",
      " 62\t74.9\t0.0\t0.0\t    |\t60.7\t14.2\t0.0\n",
      " 63\t78.6\t0.0\t0.0\t    |\t62.4\t16.2\t0.0\n",
      " 64\t81.7\t0.0\t0.0\t    |\t61.7\t20.0\t0.0\n",
      " 65\t81.8\t0.0\t0.0\t    |\t58.4\t23.5\t0.0\n",
      " 66\t88.6\t0.0\t0.0\t    |\t66.9\t21.7\t0.0\n",
      " 67\t84.3\t0.0\t0.0\t    |\t63.1\t21.1\t0.0\n",
      " 68\t83.8\t0.0\t0.0\t    |\t59.4\t24.3\t0.0\n",
      " 69\t85.5\t0.0\t0.0\t    |\t68.0\t17.5\t0.0\n",
      " 70\t88.8\t0.0\t0.0\t    |\t64.4\t24.4\t0.0\n",
      " 71\t95.9\t0.0\t0.0\t    |\t64.3\t31.6\t0.0\n",
      " 72\t91.5\t0.0\t0.0\t    |\t65.9\t25.6\t0.0\n",
      " 73\t89.6\t0.0\t0.0\t    |\t73.3\t16.4\t0.0\n",
      " 74\t92.7\t0.0\t0.0\t    |\t68.2\t24.4\t0.0\n",
      " 75\t98.6\t0.0\t0.0\t    |\t72.7\t25.9\t0.0\n",
      " 76\t101.2\t0.0\t0.0\t    |\t72.6\t28.5\t0.0\n",
      " 77\t107.0\t0.0\t0.0\t    |\t75.8\t31.2\t0.0\n",
      " 78\t110.0\t0.0\t0.0\t    |\t76.2\t33.8\t0.0\n",
      " 79\t113.1\t0.0\t0.0\t    |\t80.8\t32.2\t0.0\n",
      " 80\t110.2\t0.0\t0.0\t    |\t79.2\t31.0\t0.0\n",
      " 81\t110.3\t0.0\t0.0\t    |\t77.7\t32.7\t0.0\n",
      " 82\t113.0\t0.0\t0.0\t    |\t78.7\t34.4\t0.0\n",
      " 83\t110.9\t0.0\t0.0\t    |\t77.4\t33.4\t0.0\n",
      " 84\t111.6\t0.0\t0.0\t    |\t77.6\t34.0\t0.0\n",
      " 85\t112.4\t0.0\t0.0\t    |\t73.8\t38.6\t0.0\n",
      " 86\t109.6\t0.0\t0.0\t    |\t74.7\t34.9\t0.0\n",
      " 87\t108.4\t0.0\t0.0\t    |\t71.6\t36.8\t0.0\n",
      " 88\t109.0\t-0.5\t0.0\t    |\t71.1\t33.5\t3.8\n",
      " 89\t108.0\t0.0\t3.8\t    |\t72.6\t39.3\t0.0\n",
      " 90\t108.4\t0.0\t0.0\t    |\t73.0\t35.4\t0.0\n",
      " 91\t108.2\t-1.0\t0.0\t    |\t75.8\t24.4\t7.0\n",
      " 92\t106.9\t0.0\t7.0\t    |\t67.0\t43.0\t3.8\n",
      " 93\t111.6\t-0.5\t3.8\t    |\t72.8\t34.5\t7.6\n",
      " 94\t118.8\t0.0\t7.6\t    |\t72.1\t48.1\t6.3\n",
      " 95\t116.5\t0.0\t6.3\t    |\t79.8\t43.0\t0.0\n",
      " 96\t120.1\t0.0\t0.0\t    |\t75.1\t44.9\t0.0\n",
      " 97\t124.4\t-1.6\t0.0\t    |\t74.7\t36.9\t11.3\n",
      " 98\t123.0\t0.0\t11.3\t    |\t78.4\t45.7\t10.2\n",
      " 99\t123.5\t-0.2\t10.2\t    |\t73.4\t48.2\t11.9\n",
      "100\t126.6\t0.0\t11.9\t    |\t75.6\t51.2\t11.7\n",
      "\n",
      "\n",
      "\n",
      "\n"
     ]
    },
    {
     "data": {
      "image/png": "[encoded data removed]",
      "text/plain": [
       "<Figure size 432x288 with 1 Axes>"
      ]
     },
     "metadata": {
      "needs_background": "light"
     },
     "output_type": "display_data"
    },
    {
     "data": {
      "image/png": "[encoded data removed]",
      "text/plain": [
       "<Figure size 432x288 with 2 Axes>"
      ]
     },
     "metadata": {},
     "output_type": "display_data"
    },
    {
     "data": {
      "image/png": "[encoded data removed]",
      "text/plain": [
       "<Figure size 432x288 with 2 Axes>"
      ]
     },
     "metadata": {},
     "output_type": "display_data"
    },
    {
     "data": {
      "image/png": "[encoded data removed]",
      "text/plain": [
       "<Figure size 432x288 with 2 Axes>"
      ]
     },
     "metadata": {},
     "output_type": "display_data"
    },
    {
     "data": {
      "image/png": "[encoded data removed]",
      "text/plain": [
       "<Figure size 432x288 with 2 Axes>"
      ]
     },
     "metadata": {},
     "output_type": "display_data"
    },
    {
     "data": {
      "image/png": "[encoded data removed]",
      "text/plain": [
       "<Figure size 432x288 with 2 Axes>"
      ]
     },
     "metadata": {},
     "output_type": "display_data"
    },
    {
     "data": {
      "image/png": "[encoded data removed]",
      "text/plain": [
       "<Figure size 432x288 with 2 Axes>"
      ]
     },
     "metadata": {},
     "output_type": "display_data"
    },
    {
     "data": {
      "image/png": "[encoded data removed]",
      "text/plain": [
       "<Figure size 432x288 with 2 Axes>"
      ]
     },
     "metadata": {},
     "output_type": "display_data"
    },
    {
     "data": {
      "image/png": "[encoded data removed]",
      "text/plain": [
       "<Figure size 432x288 with 2 Axes>"
      ]
     },
     "metadata": {},
     "output_type": "display_data"
    },
    {
     "data": {
      "image/png": "[encoded data removed]",
      "text/plain": [
       "<Figure size 432x288 with 2 Axes>"
      ]
     },
     "metadata": {},
     "output_type": "display_data"
    }
   ],
   "source": [
    "r.seed(121314)\n",
    "\n",
    "setup()\n",
    "\n",
    "cmv.actionList=[\"produceAll()\",\"payWagesAll()\",\"buyConsumptionGoodsAll()\",\\\n",
    "                \"buyInvestmentGoodsAll()\",\"makeBalanceSheetAll()\",\\\n",
    "                \"distributeDividendAll()\",\"accountCashMoneyAll()\",\\\n",
    "                \"accountCheckingAccountAll()\",\"accountBankAccountAll()\",\\\n",
    "                ]\n",
    "\n",
    "for cmv.cycle in range(cmv.ncycles):\n",
    "    for anAction in cmv.actionList:\n",
    "            exec(anAction)\n",
    "\n",
    "makeHist()   \n",
    "plot1()\n",
    "plot2()\n",
    "plot3()\n",
    "plot4()\n",
    "plot5()\n",
    "plot6()\n",
    "plot7()\n",
    "plot8()\n",
    "plot9()\n",
    "\n",
    "nationalAccounts()"
   ]
  },
  {
   "cell_type": "code",
   "execution_count": 17,
   "id": "typical-washer",
   "metadata": {},
   "outputs": [
    {
     "data": {
      "text/plain": [
       "[15, 34, 80, 31, 84, 12, 88, 62, 96, 25, 37, 24, 33, 40, 74, 61, 60, 16, 95]"
      ]
     },
     "execution_count": 17,
     "metadata": {},
     "output_type": "execute_result"
    }
   ],
   "source": [
    "list(cmv.firmList[i].num for i in range(cmv.firmNum))"
   ]
  },
  {
   "cell_type": "code",
   "execution_count": 18,
   "id": "sized-charge",
   "metadata": {},
   "outputs": [
    {
     "data": {
      "text/plain": [
       "[25, 62, 61, 12, 74, 80, 60, 33, 24, 16, 88, 84, 37, 31, 34, 95, 15, 96, 40]"
      ]
     },
     "execution_count": 18,
     "metadata": {},
     "output_type": "execute_result"
    }
   ],
   "source": [
    "list(cmv.entrepreneurList[i].num for i in range(cmv.firmNum))"
   ]
  },
  {
   "cell_type": "code",
   "execution_count": 19,
   "id": "sufficient-darkness",
   "metadata": {
    "scrolled": true
   },
   "outputs": [],
   "source": [
    "# last cycle\n",
    "tCashNe=0\n",
    "for anA in cmv.agentList:\n",
    "    if not anA.entrepreneur: tCashNe+=anA.cashMoney\n",
    "\n",
    "tCashE=0\n",
    "for anA in cmv.agentList:\n",
    "    if anA.entrepreneur: tCashE+=anA.cashMoney"
   ]
  },
  {
   "cell_type": "code",
   "execution_count": 20,
   "id": "vocal-transparency",
   "metadata": {
    "scrolled": true
   },
   "outputs": [
    {
     "data": {
      "text/plain": [
       "0"
      ]
     },
     "execution_count": 20,
     "metadata": {},
     "output_type": "execute_result"
    }
   ],
   "source": [
    "tCashNe"
   ]
  },
  {
   "cell_type": "code",
   "execution_count": 21,
   "id": "intelligent-powell",
   "metadata": {
    "scrolled": true
   },
   "outputs": [
    {
     "data": {
      "text/plain": [
       "0"
      ]
     },
     "execution_count": 21,
     "metadata": {},
     "output_type": "execute_result"
    }
   ],
   "source": [
    "tCashE"
   ]
  },
  {
   "cell_type": "code",
   "execution_count": 22,
   "id": "native-textbook",
   "metadata": {
    "scrolled": true
   },
   "outputs": [],
   "source": [
    "tC=0\n",
    "for i in range(cmv.ncycles):\n",
    "    tC+=cmv.totalConsumptionSeries[i]"
   ]
  },
  {
   "cell_type": "code",
   "execution_count": 23,
   "id": "smart-employment",
   "metadata": {
    "scrolled": true
   },
   "outputs": [
    {
     "data": {
      "text/plain": [
       "6930.921709078742"
      ]
     },
     "execution_count": 23,
     "metadata": {},
     "output_type": "execute_result"
    }
   ],
   "source": [
    "tC"
   ]
  },
  {
   "cell_type": "code",
   "execution_count": 24,
   "id": "distinguished-bacon",
   "metadata": {
    "scrolled": true
   },
   "outputs": [],
   "source": [
    "tCE=0\n",
    "for i in range(cmv.ncycles):\n",
    "    tCE+=cmv.totalEntrepreneurConsumptionSeries[i]"
   ]
  },
  {
   "cell_type": "code",
   "execution_count": 25,
   "id": "alive-electricity",
   "metadata": {
    "scrolled": true
   },
   "outputs": [
    {
     "data": {
      "text/plain": [
       "1787.9528289829764"
      ]
     },
     "execution_count": 25,
     "metadata": {},
     "output_type": "execute_result"
    }
   ],
   "source": [
    "tCE"
   ]
  },
  {
   "cell_type": "code",
   "execution_count": 26,
   "id": "sufficient-placement",
   "metadata": {
    "scrolled": true
   },
   "outputs": [],
   "source": [
    "tCNe=0\n",
    "for i in range(cmv.ncycles):\n",
    "    tCNe+=cmv.totalNonEntrepreneurConsumptionSeries[i]"
   ]
  },
  {
   "cell_type": "code",
   "execution_count": 27,
   "id": "regional-somerset",
   "metadata": {
    "scrolled": true
   },
   "outputs": [
    {
     "data": {
      "text/plain": [
       "5142.968880095766"
      ]
     },
     "execution_count": 27,
     "metadata": {},
     "output_type": "execute_result"
    }
   ],
   "source": [
    "tCNe"
   ]
  },
  {
   "cell_type": "code",
   "execution_count": 28,
   "id": "great-dublin",
   "metadata": {
    "scrolled": true
   },
   "outputs": [],
   "source": [
    "tI=0\n",
    "for i in range(cmv.ncycles):\n",
    "    tI+=cmv.totalInvestmentSeries[i]"
   ]
  },
  {
   "cell_type": "code",
   "execution_count": 29,
   "id": "responsible-appendix",
   "metadata": {
    "scrolled": true
   },
   "outputs": [
    {
     "data": {
      "text/plain": [
       "2392.247145888714"
      ]
     },
     "execution_count": 29,
     "metadata": {},
     "output_type": "execute_result"
    }
   ],
   "source": [
    "tI"
   ]
  },
  {
   "cell_type": "code",
   "execution_count": 30,
   "id": "fancy-geography",
   "metadata": {},
   "outputs": [
    {
     "data": {
      "text/plain": [
       "[30.887785528271404,\n",
       " 63.183175128613826,\n",
       " 95.28970008962523,\n",
       " 125.4848853405169,\n",
       " 158.57235197631553,\n",
       " 186.9812009953722,\n",
       " 219.30811814989934,\n",
       " 250.67340754469123,\n",
       " 282.5939610047113,\n",
       " 314.54073522251133,\n",
       " 347.28346747620486,\n",
       " 379.4337147263461,\n",
       " 412.52813836966743,\n",
       " 449.8144319804259,\n",
       " 481.56057578133704,\n",
       " 514.3195695278678,\n",
       " 549.9258850833879,\n",
       " 583.1444032425886,\n",
       " 615.5829408485802,\n",
       " 649.7929449870702,\n",
       " 681.0546480504026,\n",
       " 714.8109749268712,\n",
       " 750.4183588627611,\n",
       " 785.4947594516184,\n",
       " 827.0404121403756,\n",
       " 865.7167963648791,\n",
       " 907.3296681254968,\n",
       " 947.651776562706,\n",
       " 985.6590661506408,\n",
       " 1021.698918448744,\n",
       " 1055.5713239912825,\n",
       " 1087.8102421712542,\n",
       " 1122.4041035514078,\n",
       " 1158.4177711231985,\n",
       " 1190.8638894660426,\n",
       " 1226.9928113450558,\n",
       " 1261.5211232263534,\n",
       " 1296.2438528454184,\n",
       " 1332.5376884529767,\n",
       " 1368.5213095329261,\n",
       " 1403.6214180185116,\n",
       " 1439.127971882445,\n",
       " 1474.4580640859929,\n",
       " 1514.9744783960564,\n",
       " 1557.613850318218,\n",
       " 1599.9969216249976,\n",
       " 1640.7339769944315,\n",
       " 1679.4658607263439,\n",
       " 1722.0378842781809,\n",
       " 1762.1366252990567,\n",
       " 1805.915168297408,\n",
       " 1847.239688875366,\n",
       " 1891.3917302322739,\n",
       " 1939.047337983885,\n",
       " 1983.0861489292529,\n",
       " 2031.5477423721206,\n",
       " 2082.7643572208003,\n",
       " 2130.6338288694683,\n",
       " 2180.000850682163,\n",
       " 2229.247514198928,\n",
       " 2279.261535421377,\n",
       " 2324.970896554909,\n",
       " 2370.051819811376,\n",
       " 2417.356576643644,\n",
       " 2468.742505073225,\n",
       " 2512.688540808878,\n",
       " 2560.7216567483297,\n",
       " 2611.851139384104,\n",
       " 2655.0535342876387,\n",
       " 2702.4412788044006,\n",
       " 2751.6473452622026,\n",
       " 2797.8822132165806,\n",
       " 2834.581495912334,\n",
       " 2877.280308593557,\n",
       " 2916.46044631591,\n",
       " 2956.6234643584726,\n",
       " 2995.1236078459874,\n",
       " 3033.469651347853,\n",
       " 3068.3413140773805,\n",
       " 3102.553200832988,\n",
       " 3139.633224741703,\n",
       " 3175.8427152820764,\n",
       " 3214.3540880711134,\n",
       " 3251.9234103017116,\n",
       " 3295.261147548878,\n",
       " 3338.8512117242653,\n",
       " 3387.1889947735394,\n",
       " 3434.8246335040017,\n",
       " 3481.259721659899,\n",
       " 3527.598028704488,\n",
       " 3569.7353459198266,\n",
       " 3622.167409075324,\n",
       " 3670.6638998835397,\n",
       " 3723.0417841325398,\n",
       " 3766.793917346082,\n",
       " 3816.116927489302,\n",
       " 3866.948992468314,\n",
       " 3912.7137564695154,\n",
       " 3965.2614593366384,\n",
       " 4017.215340153704]"
      ]
     },
     "execution_count": 30,
     "metadata": {},
     "output_type": "execute_result"
    }
   ],
   "source": [
    "cmv.totalCheckingAccountSeries"
   ]
  },
  {
   "cell_type": "code",
   "execution_count": 31,
   "id": "thorough-thesaurus",
   "metadata": {},
   "outputs": [
    {
     "data": {
      "text/plain": [
       "[-30.887785528271383,\n",
       " -63.18317512861383,\n",
       " -95.28970008962524,\n",
       " -125.48488534051688,\n",
       " -158.5723519763156,\n",
       " -186.98120099537206,\n",
       " -219.30811814989931,\n",
       " -250.67340754469117,\n",
       " -282.5939610047112,\n",
       " -314.5407352225115,\n",
       " -347.28346747620503,\n",
       " -379.43371472634624,\n",
       " -412.5281383696676,\n",
       " -449.8144319804258,\n",
       " -481.5605757813372,\n",
       " -514.3195695278678,\n",
       " -549.9258850833882,\n",
       " -583.1444032425889,\n",
       " -615.5829408485802,\n",
       " -649.79294498707,\n",
       " -681.0546480504023,\n",
       " -714.8109749268713,\n",
       " -750.4183588627611,\n",
       " -785.4947594516184,\n",
       " -827.040412140376,\n",
       " -865.7167963648793,\n",
       " -907.3296681254974,\n",
       " -947.651776562707,\n",
       " -985.659066150641,\n",
       " -1021.6989184487447,\n",
       " -1055.5713239912825,\n",
       " -1087.8102421712542,\n",
       " -1122.4041035514078,\n",
       " -1158.417771123199,\n",
       " -1190.8638894660432,\n",
       " -1226.9928113450562,\n",
       " -1261.5211232263537,\n",
       " -1296.243852845419,\n",
       " -1332.537688452977,\n",
       " -1368.5213095329266,\n",
       " -1403.6214180185118,\n",
       " -1439.1279718824449,\n",
       " -1474.4580640859933,\n",
       " -1514.974478396057,\n",
       " -1557.6138503182187,\n",
       " -1599.9969216249983,\n",
       " -1640.7339769944315,\n",
       " -1679.4658607263448,\n",
       " -1722.0378842781806,\n",
       " -1762.136625299057,\n",
       " -1805.915168297408,\n",
       " -1847.2396888753663,\n",
       " -1891.3917302322743,\n",
       " -1939.047337983886,\n",
       " -1983.0861489292524,\n",
       " -2031.547742372121,\n",
       " -2082.764357220801,\n",
       " -2130.633828869469,\n",
       " -2180.0008506821637,\n",
       " -2229.2475141989294,\n",
       " -2279.261535421379,\n",
       " -2324.9708965549094,\n",
       " -2370.051819811378,\n",
       " -2417.356576643645,\n",
       " -2468.742505073225,\n",
       " -2512.6885408088797,\n",
       " -2560.721656748331,\n",
       " -2611.8511393841054,\n",
       " -2655.05353428764,\n",
       " -2702.4412788044015,\n",
       " -2751.6473452622035,\n",
       " -2797.8822132165833,\n",
       " -2834.581495912336,\n",
       " -2877.2803085935566,\n",
       " -2916.460446315913,\n",
       " -2956.623464358473,\n",
       " -2995.1236078459865,\n",
       " -3033.4696513478534,\n",
       " -3068.341314077379,\n",
       " -3102.553200832987,\n",
       " -3139.6332247417045,\n",
       " -3175.8427152820773,\n",
       " -3214.354088071114,\n",
       " -3251.923410301711,\n",
       " -3295.261147548879,\n",
       " -3338.8512117242662,\n",
       " -3387.18899477354,\n",
       " -3434.824633504002,\n",
       " -3481.2597216599,\n",
       " -3527.598028704491,\n",
       " -3569.7353459198275,\n",
       " -3622.167409075325,\n",
       " -3670.66389988354,\n",
       " -3723.041784132541,\n",
       " -3766.793917346085,\n",
       " -3816.1169274893045,\n",
       " -3866.9489924683166,\n",
       " -3912.713756469518,\n",
       " -3965.2614593366397,\n",
       " -4017.2153401537084]"
      ]
     },
     "execution_count": 31,
     "metadata": {},
     "output_type": "execute_result"
    }
   ],
   "source": [
    "cmv.totalBankAccountSeries"
   ]
  },
  {
   "cell_type": "code",
   "execution_count": 32,
   "id": "sonic-allowance",
   "metadata": {},
   "outputs": [
    {
     "name": "stdout",
     "output_type": "stream",
     "text": [
      "0 38.22027011779822\n",
      "0.4612656989888242 48.50209690779664\n",
      "0 34.528419516646274\n",
      "0.24856062595547812 41.82701451010452\n",
      "0 38.30373449334064\n",
      "0 40.431692344831134\n",
      "1.0672995448202167 58.41495401723135\n",
      "0.6045384686945536 54.61271576816235\n",
      "0.9424673391287905 43.90309436963802\n",
      "0 37.97962803788602\n",
      "13.903887461312609 160.79581831294084\n",
      "0.60641840614336 43.140144775983416\n",
      "1.2982578140608396 85.58677454694097\n",
      "0 35.28502290119019\n",
      "0 35.46260097653583\n",
      "0.41887840699518675 46.454059452166206\n",
      "6.415731744190062 110.50604810873875\n",
      "1.5542946495729764 68.95874672284255\n",
      "0.0683102730649785 37.27138436869717\n"
     ]
    }
   ],
   "source": [
    "for anA in cmv.agentList:\n",
    "    if anA.entrepreneur: print(anA.perceivedDividend,anA.checkingAccount)"
   ]
  },
  {
   "cell_type": "code",
   "execution_count": null,
   "id": "sudden-mainstream",
   "metadata": {},
   "outputs": [],
   "source": []
  }
 ],
 "metadata": {
  "kernelspec": {
   "display_name": "Python 3",
   "language": "python",
   "name": "python3"
  },
  "language_info": {
   "codemirror_mode": {
    "name": "ipython",
    "version": 3
   },
   "file_extension": ".py",
   "mimetype": "text/x-python",
   "name": "python",
   "nbconvert_exporter": "python",
   "pygments_lexer": "ipython3",
   "version": "3.9.7"
  }
 },
 "nbformat": 4,
 "nbformat_minor": 5
}
