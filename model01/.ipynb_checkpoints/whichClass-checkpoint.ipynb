{
 "cells": [
  {
   "cell_type": "markdown",
   "id": "loose-consolidation",
   "metadata": {},
   "source": [
    "From https://favtutor.com/blogs/class-name-python#:~:text=The%20first%20and%20easiest%20method,of%20the%20object%20or%20instance"
   ]
  },
  {
   "cell_type": "code",
   "execution_count": 1,
   "id": "regulated-numbers",
   "metadata": {},
   "outputs": [],
   "source": [
    "class fruit:\n",
    "    def __init__(self, fruit):\n",
    "        self.fruit = fruit\n",
    "a = fruit(\"orange\")"
   ]
  },
  {
   "cell_type": "code",
   "execution_count": 2,
   "id": "classified-manner",
   "metadata": {},
   "outputs": [
    {
     "name": "stdout",
     "output_type": "stream",
     "text": [
      "<class '__main__.fruit'>\n"
     ]
    }
   ],
   "source": [
    "print (a.__class__)"
   ]
  },
  {
   "cell_type": "code",
   "execution_count": 3,
   "id": "civilian-jefferson",
   "metadata": {},
   "outputs": [
    {
     "name": "stdout",
     "output_type": "stream",
     "text": [
      "fruit\n"
     ]
    }
   ],
   "source": [
    "print (a.__class__.__name__)"
   ]
  },
  {
   "cell_type": "code",
   "execution_count": 8,
   "id": "described-possible",
   "metadata": {},
   "outputs": [
    {
     "name": "stdout",
     "output_type": "stream",
     "text": [
      "OK\n"
     ]
    }
   ],
   "source": [
    "if a.__class__.__name__ ==\"fruit\": print('OK');"
   ]
  },
  {
   "cell_type": "code",
   "execution_count": null,
   "id": "young-produce",
   "metadata": {},
   "outputs": [],
   "source": []
  }
 ],
 "metadata": {
  "kernelspec": {
   "display_name": "Python 3",
   "language": "python",
   "name": "python3"
  },
  "language_info": {
   "codemirror_mode": {
    "name": "ipython",
    "version": 3
   },
   "file_extension": ".py",
   "mimetype": "text/x-python",
   "name": "python",
   "nbconvert_exporter": "python",
   "pygments_lexer": "ipython3",
   "version": "3.9.7"
  }
 },
 "nbformat": 4,
 "nbformat_minor": 5
}
