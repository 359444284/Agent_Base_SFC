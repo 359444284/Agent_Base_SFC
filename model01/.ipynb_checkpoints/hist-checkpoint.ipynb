{
 "cells": [
  {
   "cell_type": "markdown",
   "id": "composite-italic",
   "metadata": {},
   "source": [
    "[Hist tutorial](https://pythonspot.com/matplotlib-histogram/)"
   ]
  },
  {
   "cell_type": "code",
   "execution_count": 2,
   "id": "acquired-keeping",
   "metadata": {},
   "outputs": [],
   "source": [
    "%matplotlib inline\n",
    "import matplotlib.pyplot as plt"
   ]
  },
  {
   "cell_type": "code",
   "execution_count": 3,
   "id": "color-metabolism",
   "metadata": {},
   "outputs": [],
   "source": [
    "v=[1,2,33,4,55,2,2,2,5]"
   ]
  },
  {
   "cell_type": "code",
   "execution_count": 14,
   "id": "annoying-savannah",
   "metadata": {},
   "outputs": [
    {
     "data": {
      "text/plain": [
       "Text(0.5, 1.0, 'Distribution of the employers by number of employees')"
      ]
     },
     "execution_count": 14,
     "metadata": {},
     "output_type": "execute_result"
    },
    {
     "data": {
      "image/png": "[encoded data removed]",
      "text/plain": [
       "<Figure size 432x288 with 1 Axes>"
      ]
     },
     "metadata": {
      "needs_background": "light"
     },
     "output_type": "display_data"
    }
   ],
   "source": [
    "plt.hist(v,20,facecolor='orange')\n",
    "plt.xlabel(\"# of employees\")\n",
    "plt.ylabel(\"# of employeers\")\n",
    "plt.title(\"Distribution of the employers by number of employees\")"
   ]
  },
  {
   "cell_type": "code",
   "execution_count": null,
   "id": "after-humor",
   "metadata": {},
   "outputs": [],
   "source": []
  }
 ],
 "metadata": {
  "kernelspec": {
   "display_name": "Python 3",
   "language": "python",
   "name": "python3"
  },
  "language_info": {
   "codemirror_mode": {
    "name": "ipython",
    "version": 3
   },
   "file_extension": ".py",
   "mimetype": "text/x-python",
   "name": "python",
   "nbconvert_exporter": "python",
   "pygments_lexer": "ipython3",
   "version": "3.9.7"
  }
 },
 "nbformat": 4,
 "nbformat_minor": 5
}
