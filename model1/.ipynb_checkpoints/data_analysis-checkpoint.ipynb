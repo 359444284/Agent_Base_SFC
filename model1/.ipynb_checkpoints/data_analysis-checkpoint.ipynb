{
 "cells": [
  {
   "cell_type": "code",
   "execution_count": 1,
   "id": "54429256",
   "metadata": {},
   "outputs": [
    {
     "data": {
      "application/javascript": [
       "// to avoid scroll in windows\n",
       "IPython.OutputArea.prototype._should_scroll = function(lines) {\n",
       "    return false;\n",
       "}\n"
      ],
      "text/plain": [
       "<IPython.core.display.Javascript object>"
      ]
     },
     "metadata": {},
     "output_type": "display_data"
    }
   ],
   "source": [
    "%%javascript\n",
    "// to avoid scroll in windows\n",
    "IPython.OutputArea.prototype._should_scroll = function(lines) {\n",
    "    return false;\n",
    "}"
   ]
  },
  {
   "cell_type": "code",
   "execution_count": 2,
   "id": "5c899d08",
   "metadata": {},
   "outputs": [],
   "source": [
    "import pandas as pd\n",
    "import csv\n",
    "\n",
    "with open(\"plotInfo.csv\",\"r\") as data:\n",
    "    reader = csv.reader(data, delimiter = ',')\n",
    "    for row in reader:\n",
    "        fileNameRoot=row[0]\n",
    "        rankNum=int(row[1])"
   ]
  },
  {
   "cell_type": "code",
   "execution_count": 3,
   "id": "c4ec1b89",
   "metadata": {},
   "outputs": [],
   "source": [
    "names=[\"production\",\"cost of production\",\"total cost of unused factors\",\n",
    "              \"total lost production\"]"
   ]
  },
  {
   "cell_type": "code",
   "execution_count": 6,
   "id": "ca5de397",
   "metadata": {},
   "outputs": [
    {
     "data": {
      "text/plain": [
       "'production, rank 0'"
      ]
     },
     "metadata": {},
     "output_type": "display_data"
    },
    {
     "data": {
      "text/html": [
       "<div>\n",
       "<style scoped>\n",
       "    .dataframe tbody tr th:only-of-type {\n",
       "        vertical-align: middle;\n",
       "    }\n",
       "\n",
       "    .dataframe tbody tr th {\n",
       "        vertical-align: top;\n",
       "    }\n",
       "\n",
       "    .dataframe thead th {\n",
       "        text-align: right;\n",
       "    }\n",
       "</style>\n",
       "<table border=\"1\" class=\"dataframe\">\n",
       "  <thead>\n",
       "    <tr style=\"text-align: right;\">\n",
       "      <th></th>\n",
       "      <th>0</th>\n",
       "      <th>1</th>\n",
       "      <th>2</th>\n",
       "    </tr>\n",
       "  </thead>\n",
       "  <tbody>\n",
       "    <tr>\n",
       "      <th>0</th>\n",
       "      <td>7.168771</td>\n",
       "      <td>56.114199</td>\n",
       "      <td>42.069455</td>\n",
       "    </tr>\n",
       "    <tr>\n",
       "      <th>1</th>\n",
       "      <td>6.751271</td>\n",
       "      <td>47.690078</td>\n",
       "      <td>35.261766</td>\n",
       "    </tr>\n",
       "    <tr>\n",
       "      <th>2</th>\n",
       "      <td>6.813576</td>\n",
       "      <td>42.731354</td>\n",
       "      <td>35.118577</td>\n",
       "    </tr>\n",
       "    <tr>\n",
       "      <th>3</th>\n",
       "      <td>10.860057</td>\n",
       "      <td>51.938112</td>\n",
       "      <td>68.211487</td>\n",
       "    </tr>\n",
       "    <tr>\n",
       "      <th>4</th>\n",
       "      <td>6.660116</td>\n",
       "      <td>67.789267</td>\n",
       "      <td>50.675126</td>\n",
       "    </tr>\n",
       "    <tr>\n",
       "      <th>5</th>\n",
       "      <td>4.519503</td>\n",
       "      <td>43.515876</td>\n",
       "      <td>58.496444</td>\n",
       "    </tr>\n",
       "    <tr>\n",
       "      <th>6</th>\n",
       "      <td>6.627901</td>\n",
       "      <td>49.574935</td>\n",
       "      <td>62.478369</td>\n",
       "    </tr>\n",
       "    <tr>\n",
       "      <th>7</th>\n",
       "      <td>11.850634</td>\n",
       "      <td>55.623019</td>\n",
       "      <td>41.251698</td>\n",
       "    </tr>\n",
       "    <tr>\n",
       "      <th>8</th>\n",
       "      <td>6.479492</td>\n",
       "      <td>62.060394</td>\n",
       "      <td>57.029581</td>\n",
       "    </tr>\n",
       "    <tr>\n",
       "      <th>9</th>\n",
       "      <td>8.889344</td>\n",
       "      <td>44.486214</td>\n",
       "      <td>37.074014</td>\n",
       "    </tr>\n",
       "  </tbody>\n",
       "</table>\n",
       "</div>"
      ],
      "text/plain": [
       "           0          1          2\n",
       "0   7.168771  56.114199  42.069455\n",
       "1   6.751271  47.690078  35.261766\n",
       "2   6.813576  42.731354  35.118577\n",
       "3  10.860057  51.938112  68.211487\n",
       "4   6.660116  67.789267  50.675126\n",
       "5   4.519503  43.515876  58.496444\n",
       "6   6.627901  49.574935  62.478369\n",
       "7  11.850634  55.623019  41.251698\n",
       "8   6.479492  62.060394  57.029581\n",
       "9   8.889344  44.486214  37.074014"
      ]
     },
     "metadata": {},
     "output_type": "display_data"
    },
    {
     "data": {
      "text/plain": [
       "'____________________________________________________________'"
      ]
     },
     "metadata": {},
     "output_type": "display_data"
    },
    {
     "data": {
      "text/plain": [
       "'cost of production, rank 0'"
      ]
     },
     "metadata": {},
     "output_type": "display_data"
    },
    {
     "data": {
      "text/html": [
       "<div>\n",
       "<style scoped>\n",
       "    .dataframe tbody tr th:only-of-type {\n",
       "        vertical-align: middle;\n",
       "    }\n",
       "\n",
       "    .dataframe tbody tr th {\n",
       "        vertical-align: top;\n",
       "    }\n",
       "\n",
       "    .dataframe thead th {\n",
       "        text-align: right;\n",
       "    }\n",
       "</style>\n",
       "<table border=\"1\" class=\"dataframe\">\n",
       "  <thead>\n",
       "    <tr style=\"text-align: right;\">\n",
       "      <th></th>\n",
       "      <th>0</th>\n",
       "      <th>1</th>\n",
       "      <th>2</th>\n",
       "    </tr>\n",
       "  </thead>\n",
       "  <tbody>\n",
       "    <tr>\n",
       "      <th>0</th>\n",
       "      <td>9.140183</td>\n",
       "      <td>84.171298</td>\n",
       "      <td>84.138910</td>\n",
       "    </tr>\n",
       "    <tr>\n",
       "      <th>1</th>\n",
       "      <td>8.607871</td>\n",
       "      <td>71.535117</td>\n",
       "      <td>70.523531</td>\n",
       "    </tr>\n",
       "    <tr>\n",
       "      <th>2</th>\n",
       "      <td>8.687309</td>\n",
       "      <td>64.097031</td>\n",
       "      <td>70.237153</td>\n",
       "    </tr>\n",
       "    <tr>\n",
       "      <th>3</th>\n",
       "      <td>13.846572</td>\n",
       "      <td>77.907167</td>\n",
       "      <td>136.422973</td>\n",
       "    </tr>\n",
       "    <tr>\n",
       "      <th>4</th>\n",
       "      <td>8.491648</td>\n",
       "      <td>101.683900</td>\n",
       "      <td>101.350252</td>\n",
       "    </tr>\n",
       "    <tr>\n",
       "      <th>5</th>\n",
       "      <td>5.762367</td>\n",
       "      <td>65.273813</td>\n",
       "      <td>116.992887</td>\n",
       "    </tr>\n",
       "    <tr>\n",
       "      <th>6</th>\n",
       "      <td>8.450574</td>\n",
       "      <td>74.362403</td>\n",
       "      <td>124.956738</td>\n",
       "    </tr>\n",
       "    <tr>\n",
       "      <th>7</th>\n",
       "      <td>15.109559</td>\n",
       "      <td>83.434528</td>\n",
       "      <td>82.503396</td>\n",
       "    </tr>\n",
       "    <tr>\n",
       "      <th>8</th>\n",
       "      <td>8.261352</td>\n",
       "      <td>93.090591</td>\n",
       "      <td>114.059163</td>\n",
       "    </tr>\n",
       "    <tr>\n",
       "      <th>9</th>\n",
       "      <td>11.333914</td>\n",
       "      <td>66.729321</td>\n",
       "      <td>74.148028</td>\n",
       "    </tr>\n",
       "  </tbody>\n",
       "</table>\n",
       "</div>"
      ],
      "text/plain": [
       "           0           1           2\n",
       "0   9.140183   84.171298   84.138910\n",
       "1   8.607871   71.535117   70.523531\n",
       "2   8.687309   64.097031   70.237153\n",
       "3  13.846572   77.907167  136.422973\n",
       "4   8.491648  101.683900  101.350252\n",
       "5   5.762367   65.273813  116.992887\n",
       "6   8.450574   74.362403  124.956738\n",
       "7  15.109559   83.434528   82.503396\n",
       "8   8.261352   93.090591  114.059163\n",
       "9  11.333914   66.729321   74.148028"
      ]
     },
     "metadata": {},
     "output_type": "display_data"
    },
    {
     "data": {
      "text/plain": [
       "'____________________________________________________________'"
      ]
     },
     "metadata": {},
     "output_type": "display_data"
    },
    {
     "data": {
      "text/plain": [
       "'total cost of unused factors, rank 0'"
      ]
     },
     "metadata": {},
     "output_type": "display_data"
    },
    {
     "data": {
      "text/html": [
       "<div>\n",
       "<style scoped>\n",
       "    .dataframe tbody tr th:only-of-type {\n",
       "        vertical-align: middle;\n",
       "    }\n",
       "\n",
       "    .dataframe tbody tr th {\n",
       "        vertical-align: top;\n",
       "    }\n",
       "\n",
       "    .dataframe thead th {\n",
       "        text-align: right;\n",
       "    }\n",
       "</style>\n",
       "<table border=\"1\" class=\"dataframe\">\n",
       "  <thead>\n",
       "    <tr style=\"text-align: right;\">\n",
       "      <th></th>\n",
       "      <th>0</th>\n",
       "      <th>1</th>\n",
       "      <th>2</th>\n",
       "    </tr>\n",
       "  </thead>\n",
       "  <tbody>\n",
       "    <tr>\n",
       "      <th>0</th>\n",
       "      <td>2603.749135</td>\n",
       "      <td>2504.222706</td>\n",
       "      <td>668.946420</td>\n",
       "    </tr>\n",
       "    <tr>\n",
       "      <th>1</th>\n",
       "      <td>2604.281447</td>\n",
       "      <td>2516.858888</td>\n",
       "      <td>682.561799</td>\n",
       "    </tr>\n",
       "    <tr>\n",
       "      <th>2</th>\n",
       "      <td>2604.202008</td>\n",
       "      <td>2524.296973</td>\n",
       "      <td>682.848177</td>\n",
       "    </tr>\n",
       "    <tr>\n",
       "      <th>3</th>\n",
       "      <td>2599.042745</td>\n",
       "      <td>2510.486837</td>\n",
       "      <td>616.662357</td>\n",
       "    </tr>\n",
       "    <tr>\n",
       "      <th>4</th>\n",
       "      <td>2604.397669</td>\n",
       "      <td>2486.710104</td>\n",
       "      <td>651.735079</td>\n",
       "    </tr>\n",
       "    <tr>\n",
       "      <th>5</th>\n",
       "      <td>2607.126951</td>\n",
       "      <td>2523.120191</td>\n",
       "      <td>636.092443</td>\n",
       "    </tr>\n",
       "    <tr>\n",
       "      <th>6</th>\n",
       "      <td>2604.438743</td>\n",
       "      <td>2514.031602</td>\n",
       "      <td>628.128592</td>\n",
       "    </tr>\n",
       "    <tr>\n",
       "      <th>7</th>\n",
       "      <td>2597.779759</td>\n",
       "      <td>2504.959477</td>\n",
       "      <td>670.581934</td>\n",
       "    </tr>\n",
       "    <tr>\n",
       "      <th>8</th>\n",
       "      <td>2604.627965</td>\n",
       "      <td>2495.303413</td>\n",
       "      <td>639.026167</td>\n",
       "    </tr>\n",
       "    <tr>\n",
       "      <th>9</th>\n",
       "      <td>2601.555404</td>\n",
       "      <td>2521.664684</td>\n",
       "      <td>678.937302</td>\n",
       "    </tr>\n",
       "  </tbody>\n",
       "</table>\n",
       "</div>"
      ],
      "text/plain": [
       "             0            1           2\n",
       "0  2603.749135  2504.222706  668.946420\n",
       "1  2604.281447  2516.858888  682.561799\n",
       "2  2604.202008  2524.296973  682.848177\n",
       "3  2599.042745  2510.486837  616.662357\n",
       "4  2604.397669  2486.710104  651.735079\n",
       "5  2607.126951  2523.120191  636.092443\n",
       "6  2604.438743  2514.031602  628.128592\n",
       "7  2597.779759  2504.959477  670.581934\n",
       "8  2604.627965  2495.303413  639.026167\n",
       "9  2601.555404  2521.664684  678.937302"
      ]
     },
     "metadata": {},
     "output_type": "display_data"
    },
    {
     "data": {
      "text/plain": [
       "'____________________________________________________________'"
      ]
     },
     "metadata": {},
     "output_type": "display_data"
    },
    {
     "data": {
      "text/plain": [
       "'total lost production, rank 0'"
      ]
     },
     "metadata": {},
     "output_type": "display_data"
    },
    {
     "data": {
      "text/html": [
       "<div>\n",
       "<style scoped>\n",
       "    .dataframe tbody tr th:only-of-type {\n",
       "        vertical-align: middle;\n",
       "    }\n",
       "\n",
       "    .dataframe tbody tr th {\n",
       "        vertical-align: top;\n",
       "    }\n",
       "\n",
       "    .dataframe thead th {\n",
       "        text-align: right;\n",
       "    }\n",
       "</style>\n",
       "<table border=\"1\" class=\"dataframe\">\n",
       "  <thead>\n",
       "    <tr style=\"text-align: right;\">\n",
       "      <th></th>\n",
       "      <th>0</th>\n",
       "      <th>1</th>\n",
       "      <th>2</th>\n",
       "    </tr>\n",
       "  </thead>\n",
       "  <tbody>\n",
       "    <tr>\n",
       "      <th>0</th>\n",
       "      <td>0.000000</td>\n",
       "      <td>0.000000</td>\n",
       "      <td>10.664010</td>\n",
       "    </tr>\n",
       "    <tr>\n",
       "      <th>1</th>\n",
       "      <td>2.440421</td>\n",
       "      <td>9.397652</td>\n",
       "      <td>0.000000</td>\n",
       "    </tr>\n",
       "    <tr>\n",
       "      <th>2</th>\n",
       "      <td>0.000000</td>\n",
       "      <td>10.169301</td>\n",
       "      <td>41.588608</td>\n",
       "    </tr>\n",
       "    <tr>\n",
       "      <th>3</th>\n",
       "      <td>0.000000</td>\n",
       "      <td>21.269061</td>\n",
       "      <td>46.001359</td>\n",
       "    </tr>\n",
       "    <tr>\n",
       "      <th>4</th>\n",
       "      <td>0.000000</td>\n",
       "      <td>0.000000</td>\n",
       "      <td>7.163253</td>\n",
       "    </tr>\n",
       "    <tr>\n",
       "      <th>5</th>\n",
       "      <td>0.000000</td>\n",
       "      <td>8.291526</td>\n",
       "      <td>7.575990</td>\n",
       "    </tr>\n",
       "    <tr>\n",
       "      <th>6</th>\n",
       "      <td>0.000000</td>\n",
       "      <td>12.628291</td>\n",
       "      <td>0.000000</td>\n",
       "    </tr>\n",
       "    <tr>\n",
       "      <th>7</th>\n",
       "      <td>12.519397</td>\n",
       "      <td>0.000000</td>\n",
       "      <td>37.768289</td>\n",
       "    </tr>\n",
       "    <tr>\n",
       "      <th>8</th>\n",
       "      <td>8.820635</td>\n",
       "      <td>23.088668</td>\n",
       "      <td>0.000000</td>\n",
       "    </tr>\n",
       "    <tr>\n",
       "      <th>9</th>\n",
       "      <td>0.000000</td>\n",
       "      <td>34.639033</td>\n",
       "      <td>8.778726</td>\n",
       "    </tr>\n",
       "  </tbody>\n",
       "</table>\n",
       "</div>"
      ],
      "text/plain": [
       "           0          1          2\n",
       "0   0.000000   0.000000  10.664010\n",
       "1   2.440421   9.397652   0.000000\n",
       "2   0.000000  10.169301  41.588608\n",
       "3   0.000000  21.269061  46.001359\n",
       "4   0.000000   0.000000   7.163253\n",
       "5   0.000000   8.291526   7.575990\n",
       "6   0.000000  12.628291   0.000000\n",
       "7  12.519397   0.000000  37.768289\n",
       "8   8.820635  23.088668   0.000000\n",
       "9   0.000000  34.639033   8.778726"
      ]
     },
     "metadata": {},
     "output_type": "display_data"
    },
    {
     "data": {
      "text/plain": [
       "'____________________________________________________________'"
      ]
     },
     "metadata": {},
     "output_type": "display_data"
    },
    {
     "data": {
      "text/plain": [
       "'production, rank 1'"
      ]
     },
     "metadata": {},
     "output_type": "display_data"
    },
    {
     "data": {
      "text/html": [
       "<div>\n",
       "<style scoped>\n",
       "    .dataframe tbody tr th:only-of-type {\n",
       "        vertical-align: middle;\n",
       "    }\n",
       "\n",
       "    .dataframe tbody tr th {\n",
       "        vertical-align: top;\n",
       "    }\n",
       "\n",
       "    .dataframe thead th {\n",
       "        text-align: right;\n",
       "    }\n",
       "</style>\n",
       "<table border=\"1\" class=\"dataframe\">\n",
       "  <thead>\n",
       "    <tr style=\"text-align: right;\">\n",
       "      <th></th>\n",
       "      <th>0</th>\n",
       "      <th>1</th>\n",
       "      <th>2</th>\n",
       "    </tr>\n",
       "  </thead>\n",
       "  <tbody>\n",
       "    <tr>\n",
       "      <th>0</th>\n",
       "      <td>4.296119</td>\n",
       "      <td>70.269692</td>\n",
       "      <td>55.201971</td>\n",
       "    </tr>\n",
       "    <tr>\n",
       "      <th>1</th>\n",
       "      <td>4.598489</td>\n",
       "      <td>60.536805</td>\n",
       "      <td>31.278313</td>\n",
       "    </tr>\n",
       "    <tr>\n",
       "      <th>2</th>\n",
       "      <td>6.029261</td>\n",
       "      <td>68.320603</td>\n",
       "      <td>69.935171</td>\n",
       "    </tr>\n",
       "    <tr>\n",
       "      <th>3</th>\n",
       "      <td>6.861166</td>\n",
       "      <td>57.541351</td>\n",
       "      <td>71.063852</td>\n",
       "    </tr>\n",
       "    <tr>\n",
       "      <th>4</th>\n",
       "      <td>6.441477</td>\n",
       "      <td>66.634740</td>\n",
       "      <td>44.097838</td>\n",
       "    </tr>\n",
       "    <tr>\n",
       "      <th>5</th>\n",
       "      <td>8.049556</td>\n",
       "      <td>61.243601</td>\n",
       "      <td>69.025416</td>\n",
       "    </tr>\n",
       "    <tr>\n",
       "      <th>6</th>\n",
       "      <td>6.552942</td>\n",
       "      <td>60.908324</td>\n",
       "      <td>45.866921</td>\n",
       "    </tr>\n",
       "    <tr>\n",
       "      <th>7</th>\n",
       "      <td>5.301862</td>\n",
       "      <td>68.785207</td>\n",
       "      <td>53.342189</td>\n",
       "    </tr>\n",
       "    <tr>\n",
       "      <th>8</th>\n",
       "      <td>4.695896</td>\n",
       "      <td>49.224693</td>\n",
       "      <td>60.246238</td>\n",
       "    </tr>\n",
       "    <tr>\n",
       "      <th>9</th>\n",
       "      <td>7.223629</td>\n",
       "      <td>52.604464</td>\n",
       "      <td>48.134442</td>\n",
       "    </tr>\n",
       "  </tbody>\n",
       "</table>\n",
       "</div>"
      ],
      "text/plain": [
       "          0          1          2\n",
       "0  4.296119  70.269692  55.201971\n",
       "1  4.598489  60.536805  31.278313\n",
       "2  6.029261  68.320603  69.935171\n",
       "3  6.861166  57.541351  71.063852\n",
       "4  6.441477  66.634740  44.097838\n",
       "5  8.049556  61.243601  69.025416\n",
       "6  6.552942  60.908324  45.866921\n",
       "7  5.301862  68.785207  53.342189\n",
       "8  4.695896  49.224693  60.246238\n",
       "9  7.223629  52.604464  48.134442"
      ]
     },
     "metadata": {},
     "output_type": "display_data"
    },
    {
     "data": {
      "text/plain": [
       "'____________________________________________________________'"
      ]
     },
     "metadata": {},
     "output_type": "display_data"
    },
    {
     "data": {
      "text/plain": [
       "'cost of production, rank 1'"
      ]
     },
     "metadata": {},
     "output_type": "display_data"
    },
    {
     "data": {
      "text/html": [
       "<div>\n",
       "<style scoped>\n",
       "    .dataframe tbody tr th:only-of-type {\n",
       "        vertical-align: middle;\n",
       "    }\n",
       "\n",
       "    .dataframe tbody tr th {\n",
       "        vertical-align: top;\n",
       "    }\n",
       "\n",
       "    .dataframe thead th {\n",
       "        text-align: right;\n",
       "    }\n",
       "</style>\n",
       "<table border=\"1\" class=\"dataframe\">\n",
       "  <thead>\n",
       "    <tr style=\"text-align: right;\">\n",
       "      <th></th>\n",
       "      <th>0</th>\n",
       "      <th>1</th>\n",
       "      <th>2</th>\n",
       "    </tr>\n",
       "  </thead>\n",
       "  <tbody>\n",
       "    <tr>\n",
       "      <th>0</th>\n",
       "      <td>5.477552</td>\n",
       "      <td>105.404538</td>\n",
       "      <td>110.403942</td>\n",
       "    </tr>\n",
       "    <tr>\n",
       "      <th>1</th>\n",
       "      <td>5.863074</td>\n",
       "      <td>90.805208</td>\n",
       "      <td>62.556627</td>\n",
       "    </tr>\n",
       "    <tr>\n",
       "      <th>2</th>\n",
       "      <td>7.687308</td>\n",
       "      <td>102.480904</td>\n",
       "      <td>139.870342</td>\n",
       "    </tr>\n",
       "    <tr>\n",
       "      <th>3</th>\n",
       "      <td>8.747987</td>\n",
       "      <td>86.312027</td>\n",
       "      <td>142.127705</td>\n",
       "    </tr>\n",
       "    <tr>\n",
       "      <th>4</th>\n",
       "      <td>8.212883</td>\n",
       "      <td>99.952111</td>\n",
       "      <td>88.195676</td>\n",
       "    </tr>\n",
       "    <tr>\n",
       "      <th>5</th>\n",
       "      <td>10.263184</td>\n",
       "      <td>91.865401</td>\n",
       "      <td>138.050832</td>\n",
       "    </tr>\n",
       "    <tr>\n",
       "      <th>6</th>\n",
       "      <td>8.355001</td>\n",
       "      <td>91.362486</td>\n",
       "      <td>91.733842</td>\n",
       "    </tr>\n",
       "    <tr>\n",
       "      <th>7</th>\n",
       "      <td>6.759874</td>\n",
       "      <td>103.177811</td>\n",
       "      <td>106.684379</td>\n",
       "    </tr>\n",
       "    <tr>\n",
       "      <th>8</th>\n",
       "      <td>5.987268</td>\n",
       "      <td>73.837040</td>\n",
       "      <td>120.492475</td>\n",
       "    </tr>\n",
       "    <tr>\n",
       "      <th>9</th>\n",
       "      <td>9.210127</td>\n",
       "      <td>78.906696</td>\n",
       "      <td>96.268884</td>\n",
       "    </tr>\n",
       "  </tbody>\n",
       "</table>\n",
       "</div>"
      ],
      "text/plain": [
       "           0           1           2\n",
       "0   5.477552  105.404538  110.403942\n",
       "1   5.863074   90.805208   62.556627\n",
       "2   7.687308  102.480904  139.870342\n",
       "3   8.747987   86.312027  142.127705\n",
       "4   8.212883   99.952111   88.195676\n",
       "5  10.263184   91.865401  138.050832\n",
       "6   8.355001   91.362486   91.733842\n",
       "7   6.759874  103.177811  106.684379\n",
       "8   5.987268   73.837040  120.492475\n",
       "9   9.210127   78.906696   96.268884"
      ]
     },
     "metadata": {},
     "output_type": "display_data"
    },
    {
     "data": {
      "text/plain": [
       "'____________________________________________________________'"
      ]
     },
     "metadata": {},
     "output_type": "display_data"
    },
    {
     "data": {
      "text/plain": [
       "'total cost of unused factors, rank 1'"
      ]
     },
     "metadata": {},
     "output_type": "display_data"
    },
    {
     "data": {
      "text/html": [
       "<div>\n",
       "<style scoped>\n",
       "    .dataframe tbody tr th:only-of-type {\n",
       "        vertical-align: middle;\n",
       "    }\n",
       "\n",
       "    .dataframe tbody tr th {\n",
       "        vertical-align: top;\n",
       "    }\n",
       "\n",
       "    .dataframe thead th {\n",
       "        text-align: right;\n",
       "    }\n",
       "</style>\n",
       "<table border=\"1\" class=\"dataframe\">\n",
       "  <thead>\n",
       "    <tr style=\"text-align: right;\">\n",
       "      <th></th>\n",
       "      <th>0</th>\n",
       "      <th>1</th>\n",
       "      <th>2</th>\n",
       "    </tr>\n",
       "  </thead>\n",
       "  <tbody>\n",
       "    <tr>\n",
       "      <th>0</th>\n",
       "      <td>2045.584099</td>\n",
       "      <td>2780.737264</td>\n",
       "      <td>735.079165</td>\n",
       "    </tr>\n",
       "    <tr>\n",
       "      <th>1</th>\n",
       "      <td>2045.198577</td>\n",
       "      <td>2795.336594</td>\n",
       "      <td>782.926480</td>\n",
       "    </tr>\n",
       "    <tr>\n",
       "      <th>2</th>\n",
       "      <td>2043.374342</td>\n",
       "      <td>2783.660898</td>\n",
       "      <td>705.612765</td>\n",
       "    </tr>\n",
       "    <tr>\n",
       "      <th>3</th>\n",
       "      <td>2042.313663</td>\n",
       "      <td>2799.829774</td>\n",
       "      <td>703.355402</td>\n",
       "    </tr>\n",
       "    <tr>\n",
       "      <th>4</th>\n",
       "      <td>2042.848768</td>\n",
       "      <td>2786.189691</td>\n",
       "      <td>757.287431</td>\n",
       "    </tr>\n",
       "    <tr>\n",
       "      <th>5</th>\n",
       "      <td>2040.798467</td>\n",
       "      <td>2794.276401</td>\n",
       "      <td>707.432275</td>\n",
       "    </tr>\n",
       "    <tr>\n",
       "      <th>6</th>\n",
       "      <td>2042.706650</td>\n",
       "      <td>2794.779316</td>\n",
       "      <td>753.749265</td>\n",
       "    </tr>\n",
       "    <tr>\n",
       "      <th>7</th>\n",
       "      <td>2044.301776</td>\n",
       "      <td>2782.963991</td>\n",
       "      <td>738.798728</td>\n",
       "    </tr>\n",
       "    <tr>\n",
       "      <th>8</th>\n",
       "      <td>2045.074383</td>\n",
       "      <td>2812.304762</td>\n",
       "      <td>724.990632</td>\n",
       "    </tr>\n",
       "    <tr>\n",
       "      <th>9</th>\n",
       "      <td>2041.851523</td>\n",
       "      <td>2807.235105</td>\n",
       "      <td>749.214223</td>\n",
       "    </tr>\n",
       "  </tbody>\n",
       "</table>\n",
       "</div>"
      ],
      "text/plain": [
       "             0            1           2\n",
       "0  2045.584099  2780.737264  735.079165\n",
       "1  2045.198577  2795.336594  782.926480\n",
       "2  2043.374342  2783.660898  705.612765\n",
       "3  2042.313663  2799.829774  703.355402\n",
       "4  2042.848768  2786.189691  757.287431\n",
       "5  2040.798467  2794.276401  707.432275\n",
       "6  2042.706650  2794.779316  753.749265\n",
       "7  2044.301776  2782.963991  738.798728\n",
       "8  2045.074383  2812.304762  724.990632\n",
       "9  2041.851523  2807.235105  749.214223"
      ]
     },
     "metadata": {},
     "output_type": "display_data"
    },
    {
     "data": {
      "text/plain": [
       "'____________________________________________________________'"
      ]
     },
     "metadata": {},
     "output_type": "display_data"
    },
    {
     "data": {
      "text/plain": [
       "'total lost production, rank 1'"
      ]
     },
     "metadata": {},
     "output_type": "display_data"
    },
    {
     "data": {
      "text/html": [
       "<div>\n",
       "<style scoped>\n",
       "    .dataframe tbody tr th:only-of-type {\n",
       "        vertical-align: middle;\n",
       "    }\n",
       "\n",
       "    .dataframe tbody tr th {\n",
       "        vertical-align: top;\n",
       "    }\n",
       "\n",
       "    .dataframe thead th {\n",
       "        text-align: right;\n",
       "    }\n",
       "</style>\n",
       "<table border=\"1\" class=\"dataframe\">\n",
       "  <thead>\n",
       "    <tr style=\"text-align: right;\">\n",
       "      <th></th>\n",
       "      <th>0</th>\n",
       "      <th>1</th>\n",
       "      <th>2</th>\n",
       "    </tr>\n",
       "  </thead>\n",
       "  <tbody>\n",
       "    <tr>\n",
       "      <th>0</th>\n",
       "      <td>0.000000</td>\n",
       "      <td>0.000000</td>\n",
       "      <td>20.234074</td>\n",
       "    </tr>\n",
       "    <tr>\n",
       "      <th>1</th>\n",
       "      <td>0.000000</td>\n",
       "      <td>20.390612</td>\n",
       "      <td>8.360477</td>\n",
       "    </tr>\n",
       "    <tr>\n",
       "      <th>2</th>\n",
       "      <td>0.000000</td>\n",
       "      <td>0.000000</td>\n",
       "      <td>49.240098</td>\n",
       "    </tr>\n",
       "    <tr>\n",
       "      <th>3</th>\n",
       "      <td>0.000000</td>\n",
       "      <td>1.590627</td>\n",
       "      <td>52.293844</td>\n",
       "    </tr>\n",
       "    <tr>\n",
       "      <th>4</th>\n",
       "      <td>0.000000</td>\n",
       "      <td>0.000000</td>\n",
       "      <td>25.503022</td>\n",
       "    </tr>\n",
       "    <tr>\n",
       "      <th>5</th>\n",
       "      <td>0.000000</td>\n",
       "      <td>0.000000</td>\n",
       "      <td>2.280717</td>\n",
       "    </tr>\n",
       "    <tr>\n",
       "      <th>6</th>\n",
       "      <td>0.000000</td>\n",
       "      <td>0.000000</td>\n",
       "      <td>2.280717</td>\n",
       "    </tr>\n",
       "    <tr>\n",
       "      <th>7</th>\n",
       "      <td>0.000000</td>\n",
       "      <td>23.182017</td>\n",
       "      <td>48.064846</td>\n",
       "    </tr>\n",
       "    <tr>\n",
       "      <th>8</th>\n",
       "      <td>0.000000</td>\n",
       "      <td>0.000000</td>\n",
       "      <td>10.733231</td>\n",
       "    </tr>\n",
       "    <tr>\n",
       "      <th>9</th>\n",
       "      <td>16.034643</td>\n",
       "      <td>11.306605</td>\n",
       "      <td>6.244230</td>\n",
       "    </tr>\n",
       "  </tbody>\n",
       "</table>\n",
       "</div>"
      ],
      "text/plain": [
       "           0          1          2\n",
       "0   0.000000   0.000000  20.234074\n",
       "1   0.000000  20.390612   8.360477\n",
       "2   0.000000   0.000000  49.240098\n",
       "3   0.000000   1.590627  52.293844\n",
       "4   0.000000   0.000000  25.503022\n",
       "5   0.000000   0.000000   2.280717\n",
       "6   0.000000   0.000000   2.280717\n",
       "7   0.000000  23.182017  48.064846\n",
       "8   0.000000   0.000000  10.733231\n",
       "9  16.034643  11.306605   6.244230"
      ]
     },
     "metadata": {},
     "output_type": "display_data"
    },
    {
     "data": {
      "text/plain": [
       "'____________________________________________________________'"
      ]
     },
     "metadata": {},
     "output_type": "display_data"
    },
    {
     "data": {
      "image/png": "[encoded data removed]",
      "text/plain": [
       "<Figure size 432x288 with 1 Axes>"
      ]
     },
     "metadata": {
      "needs_background": "light"
     },
     "output_type": "display_data"
    },
    {
     "data": {
      "image/png": "[encoded data removed]",
      "text/plain": [
       "<Figure size 432x288 with 1 Axes>"
      ]
     },
     "metadata": {
      "needs_background": "light"
     },
     "output_type": "display_data"
    },
    {
     "data": {
      "image/png": "[encoded data removed]",
      "text/plain": [
       "<Figure size 432x288 with 1 Axes>"
      ]
     },
     "metadata": {
      "needs_background": "light"
     },
     "output_type": "display_data"
    },
    {
     "data": {
      "image/png": "[encoded data removed]",
      "text/plain": [
       "<Figure size 432x288 with 1 Axes>"
      ]
     },
     "metadata": {
      "needs_background": "light"
     },
     "output_type": "display_data"
    },
    {
     "data": {
      "image/png": "[encoded data removed]",
      "text/plain": [
       "<Figure size 432x288 with 1 Axes>"
      ]
     },
     "metadata": {
      "needs_background": "light"
     },
     "output_type": "display_data"
    },
    {
     "data": {
      "image/png": "[encoded data removed]",
      "text/plain": [
       "<Figure size 432x288 with 1 Axes>"
      ]
     },
     "metadata": {
      "needs_background": "light"
     },
     "output_type": "display_data"
    },
    {
     "data": {
      "image/png": "[encoded data removed]",
      "text/plain": [
       "<Figure size 432x288 with 1 Axes>"
      ]
     },
     "metadata": {
      "needs_background": "light"
     },
     "output_type": "display_data"
    },
    {
     "data": {
      "image/png": "[encoded data removed]",
      "text/plain": [
       "<Figure size 432x288 with 1 Axes>"
      ]
     },
     "metadata": {
      "needs_background": "light"
     },
     "output_type": "display_data"
    }
   ],
   "source": [
    "#production\n",
    "for k in range(rankNum):\n",
    "    for name in names:\n",
    "\n",
    "        data=pd.read_csv(fileNameRoot+\"_\"+name+\"_\"+str(k)+\".csv\", header=None)\n",
    "\n",
    "        display(name+\", rank \"+str(k))\n",
    "        display(data)\n",
    "        display(\"____________________________________________________________\")\n",
    "        g=str(list(range(len(data.columns))))\n",
    "        data.plot(title=\"rank \"+str(k)+\" groups \"+g,xlabel=\"time\",ylabel=name)"
   ]
  },
  {
   "cell_type": "code",
   "execution_count": null,
   "id": "128de7e4",
   "metadata": {},
   "outputs": [],
   "source": []
  }
 ],
 "metadata": {
  "kernelspec": {
   "display_name": "Python 3 (ipykernel)",
   "language": "python",
   "name": "python3"
  },
  "language_info": {
   "codemirror_mode": {
    "name": "ipython",
    "version": 3
   },
   "file_extension": ".py",
   "mimetype": "text/x-python",
   "name": "python",
   "nbconvert_exporter": "python",
   "pygments_lexer": "ipython3",
   "version": "3.9.7"
  }
 },
 "nbformat": 4,
 "nbformat_minor": 5
}
