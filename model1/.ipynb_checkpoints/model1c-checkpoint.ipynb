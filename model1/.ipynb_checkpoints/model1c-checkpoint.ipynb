{
 "cells": [
  {
   "cell_type": "markdown",
   "id": "naval-nomination",
   "metadata": {},
   "source": [
    "#### Un altro passettino: ecco in azione l'*Istituto Centrale di Statistica* con a fianco la *Banca d'Italia*\n",
    "\n",
    "use it also in [Notebook viewer](https://nbviewer.org/github/terna/ejmmp/blob/main/model0/model0.ipynb)\n",
    "\n",
    "if the content is missing to update, follow once [Notebook viewer and flush cache](https://nbviewer.org/github/terna/ejmmp/blob/main/model0/model0.ipynb?flush_cache=true)\n",
    "\n",
    "[Wikipedia as a memo](https://en.wikipedia.org/wiki/Stock-flow_consistent_model#cite_note-42)"
   ]
  },
  {
   "cell_type": "code",
   "execution_count": 1,
   "id": "latter-survey",
   "metadata": {
    "scrolled": true
   },
   "outputs": [
    {
     "data": {
      "application/javascript": [
       "// to avoid scroll in windows\n",
       "IPython.OutputArea.prototype._should_scroll = function(lines) {\n",
       "    return false;\n",
       "}\n"
      ],
      "text/plain": [
       "<IPython.core.display.Javascript object>"
      ]
     },
     "metadata": {},
     "output_type": "display_data"
    }
   ],
   "source": [
    "%%javascript\n",
    "// to avoid scroll in windows\n",
    "IPython.OutputArea.prototype._should_scroll = function(lines) {\n",
    "    return false;\n",
    "}"
   ]
  },
  {
   "cell_type": "code",
   "execution_count": 2,
   "id": "great-earthquake",
   "metadata": {
    "scrolled": false
   },
   "outputs": [],
   "source": [
    "%matplotlib inline\n",
    "import random as r\n",
    "import matplotlib.pyplot as plt\n",
    "import commonVar as cmv\n",
    "import numpy as np\n",
    "from tools import *"
   ]
  },
  {
   "cell_type": "markdown",
   "id": "prostate-shadow",
   "metadata": {},
   "source": [
    "### Stock-flow *model1c*, with real and financial elements\n",
    "\n",
    "- Besides the real part of the economy, we introduce the initial element of the monetary side of the economy.\n",
    "\n",
    "  \n",
    "\n",
    "- We are introducing gradually loans, credits, debts, capital stock, interest rate.\n",
    "\n",
    "\n",
    "\n",
    "- Firms have unlimited funds that they put freely in their activities, balancing other agent negative cash, if any.\n",
    "\n",
    "  \n",
    "\n",
    "- Saving is abstension from consuming, increasing agent liquidity.\n",
    "\n",
    "\n",
    "\n",
    "- Investments are uniquely for replacement, without technical progress.\n",
    "\n",
    "  "
   ]
  },
  {
   "cell_type": "markdown",
   "id": "comparable-matthew",
   "metadata": {},
   "source": [
    "### symbol table\n",
    "\n",
    "[symbol table](https://oeis.org/wiki/List_of_LaTeX_mathematical_symbols) in $\\LaTeX$ \n",
    "\n",
    "$a_i$ -  with $a_i \\in \\mathbf{A}$; agent number $N=|\\mathbf{A}|$, `agentList` and`agentNum`\n",
    "\n",
    "$a^e_i$ -  with $a^e_i \\in \\mathbf{A^e}$ and $\\mathbf{A^e} \\subset \\mathbf{A}$; employer number $N^e=|\\mathbf{A^e}|$ in range $[N^e_{min},N^e_{max}]$, `employerList`\n",
    "\n",
    "$\\mathbf{F}$ - firms' set, with $f_j \\in \\mathbf{F}$ being $N^f = |\\mathbf{F}|$,  with $N^f = |\\mathbf{F}| = |\\mathbf{A^e}|$ , `firmList`\n",
    "\n",
    "$\\mathbf{A}^w$ - working agents' set, being $\\mathbf{A}^w \\subseteq \\mathbf{A}$, with $N^w_i=|\\mathbf{A}^w_i|$ number of working agents employed by employer $i$, also including self-employed employers, with $a_i \\in \\mathbf{A}^e$\n",
    "\n",
    "$\\mathbf{B}$ - banks' set, with $b_j \\in \\mathbf{B}$ being $N^b = |\\mathbf{B}|$, `bankList`\n",
    "\n",
    "$p$ - price `price`\n",
    "\n",
    "$u$ - unemployment rate `unemploymentRate`\n",
    "\n",
    "$dimensional~heterogeneity$ is a $true/false$ chooser, forcing increasing firms to attract more workers. `dimensionalHeterogeneity`\n",
    "\n",
    "$\\pi_{i,t}$ - labor productivity, a uniformly distributed decimal number in range $[\\pi_{min},\\pi_{max}]$,`productivity`\n",
    "\n",
    "&Delta;$\\pi_{i,t}$ - uniperiodal additive productivity correction in range $[$&Delta;$\\pi_{min},$ &Delta;$\\pi_{max}]$, `productivityDelta`\n",
    "\n",
    "$n_{i,t}$ - number of workers in a firm\n",
    "\n",
    "$q_{i,t}$ - production in quantity, `production`\n",
    "\n",
    "$\\Pi_{i,t}$ - profit, `profit`\n",
    "\n",
    "$\\rho$ - dividend distribution share, `rho`\n",
    "\n",
    "$W$ - wage `wage`\n",
    "\n",
    "$R_{i,t}$ - revenues, `revenues`\n",
    "\n",
    "$s_{i,t}$ - sales in quantity, `sales`\n",
    "\n",
    "$v_{i,t}$ - in**v**entories (final, initial), `initialInventories`, `finalInventories`\n",
    "\n",
    "$d_{i}$ - deperibility share of the production, `deperibilityShare`, setting $d_{max}$\n",
    "\n",
    "$c_{i,t}$ - consumption rate, a uniformly distributed decimal number in range $[c_{min},c_{max}]$,`consumptionRate`\n",
    "\n",
    "$C_{i,t}$ - consumption of $i$ in $t$\n",
    "\n",
    "$I_{i,t}$  - investment plan  of $i$ in $t$, a uniformly distributed realization in range $[I_{min},I_{max}]$,`investmentProgram`\n",
    "\n",
    "$H_{i,t}$  - high powered money (cash) held by individuals (also acting as employers), `cashMoney`\n",
    "\n",
    "$M1_{i,t}$ - checking account money deposits held by  $a_i$ at time $t$, `checkingAccount`\n",
    "\n",
    "$M1^f_{i,t}$ - firm's bank account (with positive or negative balance), `bankAccount`\n",
    "\n",
    "the investment and consumption actions are repeated in each cycle, looking around randomly for the sellers; currently `nOfConsumptionActions` $=30$ and `nOfInvestmentActions`$=10$; each consumption buy action is at maximum the 20% of the planned consumptions in that cycle; instead, each investment buy action can reach the whole amount of the investment program of the cycle; each buy action is limited by the residual capabilty of the seller\n",
    "\n",
    "**magically**, the same good can be a consumption item or an investment one\n",
    "\n",
    "$T$ - number of cycles `ncycles`\n",
    "\n",
    "$t$ - current cycle `cycle`\n"
   ]
  },
  {
   "cell_type": "markdown",
   "id": "broke-marathon",
   "metadata": {},
   "source": [
    "### agent structure\n",
    "\n",
    "The structure of a **generic agent**: it can represent an employer, a worker, an unemployed person.\n",
    "\n",
    "When an agent is created, the **initialization process** defines:\n",
    "\n",
    "- its numerical id, `num`\n",
    "- its entrepreneur status, `entrepreneur`, set to $false$\n",
    "- the id of its employer, `myEmployer`, set to $0$\n",
    "- if entrepreneur, the id of its firm, `myFirm`, set to $0$\n",
    "- $c_{i,0}$ - consumption rate, set to $0$\n",
    "- $H_{i,0}$ - cash money, set to $0$ \n",
    "- $M1_{i,0}$ - checking account money deposits, set to $0$\n",
    "\n",
    "\n",
    "\n",
    "## firm structure\n",
    "\n",
    "- $R_{i,0}$ - `revenues`, initial value  $0$\n",
    "- $s_{i,0}$ - `sales`, initial value  $0$\n",
    "- $v^i_{i,0}$ - in**v**entories, `initialInventories`, set to $0$ \n",
    "- $v^f_{i,0}$ - in**v**entories, `finalInventories`, set to $0$ \n",
    "- $d_{i}$ - deperibility share, a uniformly distributed decimal number in range $[0,d_{max}]$,`deperibilityShare`\n",
    "- $I_{i,0}$  - investment plan, set to $0$\n",
    "- $\\Pi_{i,0}$ - profit, set to $0$, being the related dividend $D_{i,0}$, set to $0$\n",
    "- $M1^f_{i,0}$ - firm's bank account, set to $0$\n",
    "- $\\pi_{i,t-1}$ is set after the initialization step, if an agent becomes an employer\n",
    "\n",
    "\n",
    "\n",
    "each **generic agent** has the **functions**:\n",
    "\n",
    "- **buyConsumptionGoods** \n",
    "\n",
    "  $C_{i,t}=c_{i,t} (W+D_{i,t-1})$; using $D_{i,t-1}$ we introduce a lag with a (possible) cyclical effect\n",
    "\n",
    "  being $bu$ the buyer and $se$ the seller (firm), for each fraction $C_{i,t}/k$ \n",
    "\n",
    "  ($k$ is the number of buying actions in each cycle)\n",
    "\n",
    "  &Delta;$M1^f_{se,t}=C_{bu,t}/k$\n",
    "\n",
    "  &Delta;$M1_{bu,t}=-C_{bu,t}/k$\n",
    "\n",
    "\n",
    "\n",
    "each **firm** has the **functions**:\n",
    "\n",
    "- **produce** function, with:\n",
    "\n",
    "  $\\pi_{i,t}=\\pi_{i,t-1}+$&Delta;$\\pi_{i,t}$\n",
    "\n",
    "  $q_{i,t}=n_{i,t} \\pi_{i,t}$\n",
    "\n",
    "  \n",
    "\n",
    "- **payWages**\n",
    "\n",
    "  paying $W$ to each worker in each time $t$\n",
    "\n",
    "  &Delta;$M1_{i,t}=W$ for  $a_i \\in \\mathbf{A}^w$ \n",
    "\n",
    "  &Delta;$M1^f_{i,t}=-W \\mathbf{N}^w_i$ for $a_i \\in \\mathbf{A}^e$ \n",
    "\n",
    "  \n",
    "\n",
    "- **buyInvestmentGoods**\n",
    "\n",
    "  $I_{j,t}$ for $f_j \\in \\mathbf{F}$  ($I_{j,t}$ is exogenously set)\n",
    "\n",
    "  being $bu$ the buyer (firm) and $se$ the seller (firm), for each fraction $I_{j,t}/k$\n",
    "\n",
    "  ($k$ is the number of investment actions in each cycle)\n",
    "\n",
    "  &Delta;$M1^f_{se,t}=I_{bu,t}/k$\n",
    "\n",
    "  &Delta;$M1^f_{bu,t}=-I_{bu,t}/k$\n",
    "\n",
    "  \n",
    "\n",
    "- **makeBalanceSheet**\n",
    "\n",
    "  $v^f_{i,t}=v^i_{i,t}+(q_{i,t}-s_{i,t}) (1 - d_{i})$\n",
    "\n",
    "  $R_{i,t}=p s_{i,t}$\n",
    "\n",
    "  $\\Pi_{i,t}=R_{i,t}-W n_{i,t}-p(v^f_{i,t}-v^i_{i,t})$\n",
    "\n",
    "\n",
    "\n",
    "Agent **bank** is a special subject operating on the financial side of the model  (to be continued)\n",
    "\n"
   ]
  },
  {
   "cell_type": "code",
   "execution_count": 3,
   "id": "found-bibliography",
   "metadata": {
    "scrolled": false
   },
   "outputs": [],
   "source": [
    "class Agent():\n",
    "    def __init__(self, num):\n",
    "        self.num=num\n",
    "        self.entrepreneur=False\n",
    "        self.myFirm=0\n",
    "        self.myEmployer=0\n",
    "        self.consumptionRate=0\n",
    "        self.cashMoney=0\n",
    "        self.checkingAccount=0\n",
    "        self.perceivedDividend=0\n",
    "\n",
    "    def buyConsumptionGoods(self,k):\n",
    "        if k==0: \n",
    "            self.consumptionRate=r.uniform(cmv.consumptionRateMin,cmv.consumptionRateMax)\n",
    "            self.consumption=(cmv.wage+self.perceivedDividend)*self.consumptionRate\n",
    "            if self.consumption < 0: self.consumption=0\n",
    "            self.madeConsumption=0\n",
    "                \n",
    "        r.shuffle(cmv.firmList)\n",
    "        mySeller=cmv.firmList[0]\n",
    "        self.purchase=r.uniform(0,1/5)*self.consumption \n",
    "                            # mean value 0.10 (10 buy action could be sufficient)\n",
    "        self.purchase=min(self.purchase,mySeller.production+mySeller.initialInventories\\\n",
    "                          -mySeller.sales)\n",
    "        mySeller.sales+=self.purchase/cmv.price\n",
    "        mySeller.bankAccount+=self.purchase\n",
    "        self.consumption-=self.purchase\n",
    "        self.checkingAccount-=self.purchase\n",
    "        self.madeConsumption+=self.purchase\n",
    "    \n"
   ]
  },
  {
   "cell_type": "code",
   "execution_count": 4,
   "id": "dirty-nevada",
   "metadata": {},
   "outputs": [],
   "source": [
    "class Firm():\n",
    "    def __init__(self, num):\n",
    "        self.num=num\n",
    "        self.myWorkers=[]\n",
    "        self.myEntrepreneur=0\n",
    "        self.productivity=0\n",
    "        self.initialInventories=0\n",
    "        self.finalInventories=0\n",
    "        self.bankAccount=0\n",
    "        self.revenues=0 #sales*price\n",
    "        self.sales=0\n",
    "        self.deperibilityShare=r.uniform(0,cmv.maxDeperibilityShare)\n",
    "        self.investmentProgram=0\n",
    "        self.profit=0\n",
    "        self.madeInvestment=0\n",
    "        \n",
    "    def produce(self):\n",
    "        self.initialInventories=self.finalInventories\n",
    "        self.productivity+=r.uniform(cmv.productivityDeltaMin,cmv.productivityDeltaMax)\n",
    "        self.productivity=max(self.productivity,0)\n",
    "        \n",
    "        self.production=len(self.myWorkers)*self.productivity\n",
    "        self.sales=0\n",
    "\n",
    "    def payWages(self):\n",
    "        for anAgent in self.myWorkers:\n",
    "            anAgent.checkingAccount+=cmv.wage\n",
    "        self.bankAccount-=cmv.wage*len(self.myWorkers)\n",
    "            \n",
    "    def buyInvestmentGoods(self,k):\n",
    "        if k==0: \n",
    "            self.investmentProgram=r.uniform(cmv.investmentMin,cmv.investmentMax)\n",
    "            self.madeInvestment=0\n",
    "                       \n",
    "        r.shuffle(cmv.firmList)\n",
    "        mySeller=cmv.firmList[0]\n",
    "        self.myInvestment=min(self.investmentProgram,mySeller.production+\\\n",
    "                              mySeller.initialInventories-mySeller.sales)\n",
    "        mySeller.sales+=self.myInvestment/cmv.price\n",
    "        mySeller.bankAccount+=self.myInvestment\n",
    "        \n",
    "        self.bankAccount-=self.myInvestment\n",
    "        self.investmentProgram-=self.myInvestment\n",
    "        self.madeInvestment+=self.myInvestment\n",
    "        \n",
    "    def makeBalanceSheet(self):\n",
    "        self.lostProduction=0\n",
    "        if self.production - self.sales > 0: \n",
    "            self.lostProduction=(self.production - self.sales)*self.deperibilityShare\n",
    "        #print(self.num, lostProduction,self.productivity)\n",
    "        self.finalInventories=self.initialInventories+self.production-\\\n",
    "                              self.sales-self.lostProduction\n",
    "        self.revenues=self.sales*cmv.price\n",
    "        self.profit=self.revenues - len(self.myWorkers)*cmv.wage + \\\n",
    "          (self.finalInventories-self.initialInventories)*cmv.price\n",
    "        #print(self.num,self.profit,self.revenues,len(self.myWorkers)*cmv.wage,\\\n",
    "        #      self.finalInventories, self.initialInventories)\n",
    "        \n",
    "    def distributeDividend(self):\n",
    "        if self.profit > 0:\n",
    "            dividend=cmv.rho*self.profit\n",
    "            self.bankAccount-=dividend\n",
    "            self.myEntrepreneur.checkingAccount+=dividend\n",
    "            self.myEntrepreneur.perceivedDividend=dividend\n",
    "        else:\n",
    "            self.myEntrepreneur.perceivedDividend=0\n",
    "        \n"
   ]
  },
  {
   "cell_type": "markdown",
   "id": "given-bangkok",
   "metadata": {},
   "source": [
    "### agent setup\n",
    "\n",
    "- agent basic creation\n",
    "\n",
    "  \n",
    "\n",
    "- creation of entrepreneur list\n",
    "\n",
    "  \n",
    "\n",
    "- selecting entrepreneurs and creating their firms\n",
    "\n",
    "  \n",
    "\n",
    "- with a given (heterogeneous) productivity\n",
    "\n",
    "  \n",
    "\n",
    "- linking the firm to its entrepreneur, considering the entrepreneur itself as a worker in its firm\n",
    "\n",
    "  \n",
    "\n",
    "- creation of a temporary workforce list of to-be-employed agent, escluding entrepreneurs (already self employed)\n",
    "\n",
    "  \n",
    "\n",
    "- applying the unmployement rate to exclude agents\n",
    "\n",
    "  \n",
    "\n",
    "- assigning workforce (to-be-employed agents) to firms, with a reinforcement mechanism, gradually giving more attraction/hiring capability to firms growing the most\n",
    "\n"
   ]
  },
  {
   "cell_type": "code",
   "execution_count": 5,
   "id": "weekly-jordan",
   "metadata": {},
   "outputs": [],
   "source": [
    "def setup():\n",
    "    cmv.agentList=[]\n",
    "    for n in range(cmv.agentNum):\n",
    "        anAgent=Agent(n+1)\n",
    "        cmv.agentList.append(anAgent)\n",
    "    \n",
    "\n",
    "    # creation of entrepreneur list\n",
    "    cmv.entrepreneurNum=r.randint(entrepreneurMin, entrepreneurMax)\n",
    "\n",
    "    cmv.entrepreneurList=[]\n",
    "    cmv.firmList=[]\n",
    "    entrepreneurCandidates=cmv.agentList.copy()\n",
    "\n",
    "    for n in range(cmv.entrepreneurNum):\n",
    "        i=r.randint(0,len(entrepreneurCandidates))\n",
    "        entrepreneurCandidates[i].entrepreneur=True\n",
    "        aFirm=Firm(entrepreneurCandidates[i].num)\n",
    "        entrepreneurCandidates[i].myFirm=aFirm\n",
    "        entrepreneurCandidates[i].myEmployer=aFirm\n",
    "        aFirm.myEntrepreneur=entrepreneurCandidates[i]\n",
    "        aFirm.myWorkers.append(entrepreneurCandidates[i])\n",
    "        aFirm.productivity=\\\n",
    "                r.uniform(cmv.productivityMin,cmv.productivityMax)\n",
    "        cmv.entrepreneurList.append(entrepreneurCandidates.pop(i))\n",
    "        cmv.firmList.append(aFirm)\n",
    "        \n",
    "    cmv.firmNum=len(cmv.firmList)\n",
    "    \n",
    "    # creation of workforce list\n",
    "    toBeEmployed=[]\n",
    "\n",
    "    for anAgent in cmv.agentList:\n",
    "        if not anAgent.entrepreneur: toBeEmployed.append(anAgent)\n",
    "    for k in range(round(cmv.unemploymentRate*cmv.agentNum)):\n",
    "        toBeEmployed.pop(r.randint(0,len(toBeEmployed)))\n",
    "    #len(toBeEmployed)\n",
    "\n",
    "\n",
    "    # assigning workforce to firms\n",
    "    tmpFirmListWithDuplications=cmv.firmList.copy()\n",
    "    for anAgent in toBeEmployed:\n",
    "        choice=r.choice(tmpFirmListWithDuplications)\n",
    "        anAgent.myEmployer=choice\n",
    "        choice.myWorkers.append(anAgent)\n",
    "        if cmv.dimensionalHeterogeneity: tmpFirmListWithDuplications.append(choice)\n",
    "            \n",
    "    cmv.totalProductionSeries=[]\n",
    "    cmv.totalProductionInfraVarSeries=[]\n",
    "    cmv.totalProfitSeries=[]\n",
    "    cmv.totalProfitInfraVarSeries=[]\n",
    "    cmv.totalInitialInventoriesSeries=[]\n",
    "    cmv.totalInitialInventoriesInfraVarSeries=[]\n",
    "    cmv.totalFinalInventoriesSeries=[]\n",
    "    cmv.totalFinalInventoriesInfraVarSeries=[]\n",
    "    cmv.totalConsumptionSeries=[]\n",
    "    cmv.totalEntrepreneurConsumptionSeries=[]\n",
    "    cmv.totalNonEntrepreneurConsumptionSeries=[]\n",
    "    cmv.totalConsumptionInfraVarSeries=[]\n",
    "    cmv.totalInvestmentSeries=[]\n",
    "    cmv.totalInvestmentInfraVarSeries=[]\n",
    "    cmv.totalCashMoneySeries=[]\n",
    "    cmv.totalCashMoneyInfraVarSeries=[]\n",
    "    cmv.totalCheckingAccountSeries=[]\n",
    "    cmv.totalCheckingAccountInfraVarSeries=[]\n",
    "    cmv.totalBankAccountSeries=[]\n",
    "    cmv.totalBankAccountInfraVarSeries=[]\n",
    "\n",
    "    cmv.totalLostProductionSeries=[]"
   ]
  },
  {
   "cell_type": "markdown",
   "id": "accompanied-defeat",
   "metadata": {},
   "source": [
    "### meta actions\n",
    "\n",
    "\n",
    "\n",
    "- *produceAll* orders to the firms to produce and to collects the results\n",
    "\n",
    "  \n",
    "\n",
    "- *payWagesAll* orders to the firms to pay wages, also to the entrepreneurs\n",
    "\n",
    "  \n",
    "\n",
    "- *buyConsumptionGoodsAll* orders to the agents to buy consumption goods\n",
    "\n",
    "  \n",
    "\n",
    "- *buyInvestmentGoodsAll* orders to the firms to buy investment goods\n",
    "\n",
    "\n",
    "\n",
    "- *makeBalanceSheetAll* with firm making accounts\n",
    "\n",
    "\n",
    "\n",
    "- *accountCashMoneyAll* summarizing eveyone cash money at the end of a cycle\n",
    "\n",
    "  \n",
    "\n",
    "- *accountCheckingAccountAll* summarizing eveyone checking accounts at the end of a cycle\n",
    "\n",
    "  \n",
    "\n",
    "- *accountBankingAccountAll* summarizing firm banking accounts at the end of a cycle\n",
    "\n"
   ]
  },
  {
   "cell_type": "code",
   "execution_count": 6,
   "id": "artistic-barcelona",
   "metadata": {
    "scrolled": false
   },
   "outputs": [],
   "source": [
    "def produceAll():\n",
    "    cmv.totalProductionSeries.append(0)\n",
    "    cmv.totalProductionInfraVarSeries.append(0)\n",
    "    cmv.totalInitialInventoriesSeries.append(0)\n",
    "    cmv.totalInitialInventoriesInfraVarSeries.append(0)\n",
    "\n",
    "    for aFirm in cmv.firmList:\n",
    "        aFirm.produce()\n",
    "        cmv.totalProductionSeries[-1]+=aFirm.production\n",
    "        cmv.totalProductionInfraVarSeries[-1]+=aFirm.production**2\n",
    "        cmv.totalInitialInventoriesSeries[-1]+=aFirm.initialInventories\n",
    "        cmv.totalInitialInventoriesInfraVarSeries[-1]+=aFirm.initialInventories**2\n",
    "\n",
    "    cmv.totalProductionInfraVarSeries[-1]=\\\n",
    "                            (cmv.totalProductionInfraVarSeries[-1]/cmv.firmNum - \\\n",
    "                            (cmv.totalProductionSeries[-1]/cmv.firmNum)**2)\n",
    "    cmv.totalInitialInventoriesInfraVarSeries[-1]=\\\n",
    "                            (cmv.totalInitialInventoriesInfraVarSeries[-1]/cmv.firmNum - \\\n",
    "                            (cmv.totalInitialInventoriesSeries[-1]/cmv.firmNum)**2)\n",
    "                                          "
   ]
  },
  {
   "cell_type": "code",
   "execution_count": 7,
   "id": "married-fabric",
   "metadata": {
    "scrolled": false
   },
   "outputs": [],
   "source": [
    "def payWagesAll():\n",
    "    for aFirm in cmv.firmList:\n",
    "        aFirm.payWages()\n"
   ]
  },
  {
   "cell_type": "code",
   "execution_count": 8,
   "id": "global-mercury",
   "metadata": {
    "scrolled": true
   },
   "outputs": [],
   "source": [
    "def buyConsumptionGoodsAll():\n",
    "    cmv.totalEntrepreneurConsumptionSeries.append(0) \n",
    "    cmv.totalNonEntrepreneurConsumptionSeries.append(0)\n",
    "    cmv.totalConsumptionSeries.append(0)\n",
    "    cmv.totalConsumptionInfraVarSeries.append(0)\n",
    "    for k in range(cmv.nOfConsumptionActions):\n",
    "        r.shuffle(cmv.agentList)\n",
    "        for anAgent in cmv.agentList:\n",
    "            anAgent.buyConsumptionGoods(k)\n",
    "            if k==cmv.nOfConsumptionActions-1:\n",
    "                if anAgent.entrepreneur:\n",
    "                    cmv.totalEntrepreneurConsumptionSeries[-1]+=anAgent.madeConsumption\n",
    "                if not anAgent.entrepreneur:\n",
    "                    cmv.totalNonEntrepreneurConsumptionSeries[-1]+=anAgent.madeConsumption\n",
    "                cmv.totalConsumptionSeries[-1]+=anAgent.madeConsumption\n",
    "                cmv.totalConsumptionInfraVarSeries[-1]+=anAgent.madeConsumption**2\n",
    "    cmv.totalConsumptionInfraVarSeries[-1]=\\\n",
    "                              (cmv.totalConsumptionInfraVarSeries[-1]/cmv.agentNum - \\\n",
    "                              (cmv.totalConsumptionSeries[-1]/cmv.agentNum)**2)\n",
    "                "
   ]
  },
  {
   "cell_type": "code",
   "execution_count": 9,
   "id": "incredible-strategy",
   "metadata": {
    "scrolled": true
   },
   "outputs": [],
   "source": [
    "def buyInvestmentGoodsAll():\n",
    "    cmv.totalInvestmentSeries.append(0)\n",
    "    cmv.totalInvestmentInfraVarSeries.append(0)\n",
    "    for k in range(cmv.nOfInvestmentActions):\n",
    "        for aFirm in cmv.firmList:\n",
    "            aFirm.buyInvestmentGoods(k)\n",
    "            if k==cmv.nOfInvestmentActions-1:\n",
    "                cmv.totalInvestmentSeries[-1]+=aFirm.madeInvestment\n",
    "                cmv.totalInvestmentInfraVarSeries[-1]+=aFirm.madeInvestment**2\n",
    "    cmv.totalInvestmentInfraVarSeries[-1]=\\\n",
    "                              (cmv.totalInvestmentInfraVarSeries[-1]/cmv.firmNum - \\\n",
    "                              (cmv.totalInvestmentSeries[-1]/cmv.firmNum)**2)\n",
    "                "
   ]
  },
  {
   "cell_type": "code",
   "execution_count": 10,
   "id": "twelve-aerospace",
   "metadata": {
    "scrolled": true
   },
   "outputs": [],
   "source": [
    "def accountCashMoneyAll():\n",
    "    cmv.totalCashMoneySeries.append(0)\n",
    "    cmv.totalCashMoneyInfraVarSeries.append(0)\n",
    "    for anAgent in cmv.agentList:\n",
    "        cmv.totalCashMoneySeries[-1]+=anAgent.cashMoney\n",
    "        cmv.totalCashMoneyInfraVarSeries[-1]+=anAgent.cashMoney**2\n",
    "\n",
    "    cmv.totalCashMoneyInfraVarSeries[-1]=\\\n",
    "                              (cmv.totalCashMoneyInfraVarSeries[-1]/cmv.agentNum - \\\n",
    "                              (cmv.totalCashMoneySeries[-1]/cmv.agentNum)**2)\n",
    "    if abs(cmv.totalCashMoneySeries[-1])<0.00001: \\\n",
    "        cmv.totalCashMoneySeries[-1]=0\n"
   ]
  },
  {
   "cell_type": "code",
   "execution_count": 11,
   "id": "daily-hobby",
   "metadata": {},
   "outputs": [],
   "source": [
    "def accountCheckingAccountAll():\n",
    "    cmv.totalCheckingAccountSeries.append(0)\n",
    "    cmv.totalCheckingAccountInfraVarSeries.append(0)\n",
    "    for anAgent in cmv.agentList:\n",
    "        cmv.totalCheckingAccountSeries[-1]+=anAgent.checkingAccount\n",
    "        cmv.totalCheckingAccountInfraVarSeries[-1]+=anAgent.checkingAccount**2\n",
    "\n",
    "    cmv.totalCheckingAccountInfraVarSeries[-1]=\\\n",
    "                              (cmv.totalCheckingAccountInfraVarSeries[-1]/cmv.agentNum - \\\n",
    "                              (cmv.totalCheckingAccountSeries[-1]/cmv.agentNum)**2)\n",
    "    if abs(cmv.totalCheckingAccountSeries[-1])<0.00001: \\\n",
    "        cmv.totalCheckingAccountSeries[-1]=0\n"
   ]
  },
  {
   "cell_type": "code",
   "execution_count": 12,
   "id": "soviet-johnson",
   "metadata": {},
   "outputs": [],
   "source": [
    "def accountBankAccountAll(): #temporary - this is an attribute of firms\n",
    "    cmv.totalBankAccountSeries.append(0)\n",
    "    cmv.totalBankAccountInfraVarSeries.append(0)\n",
    "    for aFirm in cmv.firmList:\n",
    "        cmv.totalBankAccountSeries[-1]+=aFirm.bankAccount\n",
    "        cmv.totalBankAccountInfraVarSeries[-1]+=aFirm.bankAccount**2\n",
    "\n",
    "    cmv.totalBankAccountInfraVarSeries[-1]=\\\n",
    "                              (cmv.totalBankAccountInfraVarSeries[-1]/cmv.firmNum - \\\n",
    "                              (cmv.totalBankAccountSeries[-1]/cmv.firmNum)**2)\n",
    "    if abs(cmv.totalBankAccountSeries[-1])<0.00001: \\\n",
    "        cmv.totalBankAccountSeries[-1]=0\n"
   ]
  },
  {
   "cell_type": "code",
   "execution_count": 13,
   "id": "exceptional-management",
   "metadata": {
    "scrolled": false
   },
   "outputs": [],
   "source": [
    "def makeBalanceSheetAll():\n",
    "    cmv.totalProfitSeries.append(0)\n",
    "    cmv.totalProfitInfraVarSeries.append(0)\n",
    "    cmv.totalFinalInventoriesSeries.append(0)\n",
    "    cmv.totalFinalInventoriesInfraVarSeries.append(0)\n",
    "    cmv.totalLostProductionSeries.append(0)\n",
    "    for aFirm in cmv.firmList:\n",
    "        aFirm.makeBalanceSheet()\n",
    "        cmv.totalProfitSeries[-1]+=aFirm.profit\n",
    "        cmv.totalProfitInfraVarSeries[-1]+=aFirm.profit**2\n",
    "        cmv.totalFinalInventoriesSeries[-1]+=aFirm.finalInventories\n",
    "        cmv.totalFinalInventoriesInfraVarSeries[-1]+=aFirm.finalInventories**2\n",
    "        cmv.totalLostProductionSeries[-1]+=aFirm.lostProduction\n",
    "\n",
    "    cmv.totalProfitInfraVarSeries[-1]=(cmv.totalProfitInfraVarSeries[-1]/cmv.firmNum - \\\n",
    "                                          (cmv.totalProfitSeries[-1]/cmv.firmNum)**2)\n",
    "    cmv.totalFinalInventoriesInfraVarSeries[-1]=\\\n",
    "                            (cmv.totalFinalInventoriesInfraVarSeries[-1]/cmv.firmNum - \\\n",
    "                            (cmv.totalFinalInventoriesSeries[-1]/cmv.firmNum)**2)\n",
    "                                            "
   ]
  },
  {
   "cell_type": "code",
   "execution_count": 14,
   "id": "arctic-terminology",
   "metadata": {},
   "outputs": [],
   "source": [
    "def distributeDividendAll():\n",
    "    for aFirm in cmv.firmList:\n",
    "        aFirm.distributeDividend()"
   ]
  },
  {
   "cell_type": "markdown",
   "id": "dense-journey",
   "metadata": {},
   "source": [
    "\n",
    "### model parameters\n",
    "\n"
   ]
  },
  {
   "cell_type": "code",
   "execution_count": 15,
   "id": "designing-participant",
   "metadata": {
    "scrolled": false
   },
   "outputs": [],
   "source": [
    "cmv.agentNum=100\n",
    "entrepreneurMin=5\n",
    "entrepreneurMax=20\n",
    "\n",
    "cmv.price=1\n",
    "\n",
    "cmv.unemploymentRate=0\n",
    "cmv.dimensionalHeterogeneity=True\n",
    "\n",
    "cmv.productivityMin=0.8\n",
    "cmv.productivityMax=1.2\n",
    "cmv.productivityDeltaMin=cmv.productivityMin-1\n",
    "cmv.productivityDeltaMax=cmv.productivityMax-1\n",
    "\n",
    "cmv.maxDeperibilityShare=0.5\n",
    "\n",
    "cmv.wage=1\n",
    "cmv.rho=1\n",
    "cmv.consumptionRateMin=0.5\n",
    "cmv.consumptionRateMax=1\n",
    "\n",
    "cmv.investmentMin=1\n",
    "cmv.investmentMax=10\n",
    "\n",
    "cmv.nOfConsumptionActions=30\n",
    "cmv.nOfInvestmentActions=10\n",
    "cmv.ncycles=100\n",
    "cmv.cycle=0"
   ]
  },
  {
   "cell_type": "markdown",
   "id": "neutral-cylinder",
   "metadata": {},
   "source": [
    "## <p style=\"color:red\">model machine</p>\n",
    "\n",
    "- a random seed determining the random number sequences\n",
    "\n",
    "\n",
    "\n",
    "- a list of actions (meta ones)\n",
    "\n",
    "\n",
    "\n",
    "- an engine excecuting the meta actions\n",
    "\n",
    "\n",
    "\n",
    "- display tools (their code is hidden into the file `tools.py`)\n",
    "\n",
    "\n"
   ]
  },
  {
   "cell_type": "code",
   "execution_count": 16,
   "id": "sealed-valuation",
   "metadata": {
    "scrolled": false
   },
   "outputs": [
    {
     "name": "stdout",
     "output_type": "stream",
     "text": [
      "-------------------------------------------\n",
      "entrepreneur number 19\n",
      "-------------------------------------------\n",
      "\n",
      "-------------------------------------------\n",
      "\"national\" accounts\n",
      "-------------------------------------------\n",
      "\n",
      "t\ttotal\tlost\tinitial\t\tconsum.\tinvest.\tfinal\n",
      "\tproduc.\tproduc.\tinvent.\t\t\t\tinvent.\n",
      "  1\t100.8\t0.0\t0.0\t    |\t57.7\t53.1\t0.0\n",
      "  2\t101.8\t0.0\t0.0\t    |\t57.1\t63.9\t0.0\n",
      "  3\t105.1\t-0.5\t0.0\t    |\t60.4\t58.1\t3.6\n",
      "  4\t108.3\t0.0\t3.6\t    |\t63.7\t31.2\t0.0\n",
      "  5\t107.9\t0.0\t0.0\t    |\t63.0\t70.8\t0.0\n",
      "  6\t103.9\t0.0\t0.0\t    |\t63.3\t39.1\t0.0\n",
      "  7\t104.0\t0.0\t0.0\t    |\t64.7\t51.6\t0.0\n",
      "  8\t107.1\t0.0\t0.0\t    |\t64.5\t80.2\t0.0\n",
      "  9\t110.4\t0.0\t0.0\t    |\t68.0\t51.5\t0.0\n",
      " 10\t104.6\t0.0\t0.0\t    |\t62.0\t48.2\t0.0\n",
      " 11\t106.6\t0.0\t0.0\t    |\t65.6\t67.1\t0.0\n",
      " 12\t106.2\t0.0\t0.0\t    |\t66.2\t31.7\t0.0\n",
      " 13\t100.0\t0.0\t0.0\t    |\t65.5\t38.6\t0.0\n",
      " 14\t102.5\t0.0\t0.0\t    |\t61.0\t38.7\t0.0\n",
      " 15\t100.5\t0.0\t0.0\t    |\t69.2\t50.1\t0.0\n",
      " 16\t108.9\t0.0\t0.0\t    |\t69.6\t65.4\t0.0\n",
      " 17\t107.7\t0.0\t0.0\t    |\t66.2\t59.0\t0.0\n",
      " 18\t109.5\t0.0\t0.0\t    |\t66.6\t36.0\t0.0\n",
      " 19\t108.9\t0.0\t0.0\t    |\t68.8\t44.4\t0.0\n",
      " 20\t111.9\t-0.1\t0.0\t    |\t67.1\t52.8\t2.1\n",
      " 21\t113.7\t0.0\t2.1\t    |\t71.3\t51.4\t0.0\n",
      " 22\t112.6\t-0.2\t0.0\t    |\t69.0\t99.2\t3.9\n",
      " 23\t106.7\t0.0\t3.9\t    |\t68.6\t61.1\t0.0\n",
      " 24\t109.1\t0.0\t0.0\t    |\t73.8\t50.5\t0.0\n",
      " 25\t111.5\t0.0\t0.0\t    |\t75.5\t38.7\t0.0\n",
      " 26\t114.7\t0.0\t0.0\t    |\t70.3\t66.8\t0.0\n",
      " 27\t113.9\t0.0\t0.0\t    |\t71.8\t65.0\t0.0\n",
      " 28\t114.9\t0.0\t0.0\t    |\t73.4\t57.0\t0.0\n",
      " 29\t120.6\t-0.3\t0.0\t    |\t77.5\t45.1\t4.5\n",
      " 30\t120.9\t0.0\t4.5\t    |\t74.6\t56.9\t0.0\n",
      " 31\t117.9\t0.0\t0.0\t    |\t74.2\t18.4\t0.0\n",
      " 32\t110.1\t0.0\t0.0\t    |\t66.6\t17.0\t0.0\n",
      " 33\t107.6\t0.0\t0.0\t    |\t75.3\t26.9\t0.0\n",
      " 34\t109.3\t0.0\t0.0\t    |\t71.5\t85.9\t0.0\n",
      " 35\t103.9\t0.0\t0.0\t    |\t68.1\t66.6\t0.0\n",
      " 36\t103.6\t0.0\t0.0\t    |\t66.8\t46.7\t0.0\n",
      " 37\t108.1\t0.0\t0.0\t    |\t70.9\t30.9\t0.0\n",
      " 38\t102.8\t0.0\t0.0\t    |\t68.1\t26.6\t0.0\n",
      " 39\t104.2\t0.0\t0.0\t    |\t67.4\t32.0\t0.0\n",
      " 40\t106.9\t0.0\t0.0\t    |\t72.0\t28.7\t0.0\n",
      " 41\t104.1\t0.0\t0.0\t    |\t74.4\t41.1\t0.0\n",
      " 42\t99.6\t0.0\t0.0\t    |\t72.4\t6.3\t0.0\n",
      " 43\t99.4\t0.0\t0.0\t    |\t67.8\t25.0\t0.0\n",
      " 44\t99.4\t0.0\t0.0\t    |\t65.4\t43.0\t0.0\n",
      " 45\t101.6\t0.0\t0.0\t    |\t71.1\t37.2\t0.0\n",
      " 46\t101.2\t0.0\t0.0\t    |\t69.0\t48.8\t0.0\n",
      " 47\t101.9\t0.0\t0.0\t    |\t69.3\t36.0\t0.0\n",
      " 48\t102.5\t0.0\t0.0\t    |\t69.2\t41.4\t0.0\n",
      " 49\t108.3\t-0.1\t0.0\t    |\t74.3\t45.6\t1.6\n",
      " 50\t108.3\t0.0\t1.6\t    |\t73.9\t65.9\t0.0\n",
      " 51\t115.6\t0.0\t0.0\t    |\t80.3\t25.6\t0.0\n",
      " 52\t117.4\t0.0\t0.0\t    |\t77.9\t43.5\t0.0\n",
      " 53\t122.1\t0.0\t0.0\t    |\t82.4\t30.2\t0.0\n",
      " 54\t118.5\t0.0\t0.0\t    |\t77.8\t61.1\t0.0\n",
      " 55\t114.5\t0.0\t0.0\t    |\t79.4\t91.1\t0.0\n",
      " 56\t108.2\t0.0\t0.0\t    |\t73.3\t55.9\t0.0\n",
      " 57\t106.9\t0.0\t0.0\t    |\t72.1\t70.6\t0.0\n",
      " 58\t111.6\t-1.1\t0.0\t    |\t76.7\t31.9\t5.2\n",
      " 59\t110.5\t0.0\t5.2\t    |\t78.2\t56.8\t0.0\n",
      " 60\t103.2\t0.0\t0.0\t    |\t76.3\t14.5\t0.0\n",
      " 61\t99.3\t-0.2\t0.0\t    |\t73.9\t46.4\t3.5\n",
      " 62\t98.3\t0.0\t3.5\t    |\t74.7\t22.6\t0.0\n",
      " 63\t96.2\t0.0\t0.0\t    |\t67.2\t32.6\t0.0\n",
      " 64\t92.3\t0.0\t0.0\t    |\t68.3\t57.3\t0.0\n",
      " 65\t90.3\t0.0\t0.0\t    |\t68.3\t33.9\t0.0\n",
      " 66\t88.4\t0.0\t0.0\t    |\t68.0\t33.6\t0.0\n",
      " 67\t95.5\t0.0\t0.0\t    |\t69.7\t24.6\t0.0\n",
      " 68\t94.5\t0.0\t0.0\t    |\t71.9\t27.7\t0.0\n",
      " 69\t97.2\t0.0\t0.0\t    |\t69.0\t40.3\t0.0\n",
      " 70\t104.9\t0.0\t0.0\t    |\t75.6\t26.2\t0.0\n",
      " 71\t107.6\t0.0\t0.0\t    |\t76.1\t33.7\t0.0\n",
      " 72\t112.1\t0.0\t0.0\t    |\t77.7\t55.2\t0.0\n",
      " 73\t106.9\t0.0\t0.0\t    |\t70.8\t42.3\t0.0\n",
      " 74\t105.4\t0.0\t0.0\t    |\t74.6\t17.8\t0.0\n",
      " 75\t111.0\t0.0\t0.0\t    |\t73.7\t11.9\t0.0\n",
      " 76\t112.5\t0.0\t0.0\t    |\t79.7\t42.4\t0.0\n",
      " 77\t112.4\t0.0\t0.0\t    |\t77.8\t57.0\t0.0\n",
      " 78\t111.6\t0.0\t0.0\t    |\t77.4\t43.5\t0.0\n",
      " 79\t105.6\t0.0\t0.0\t    |\t81.5\t12.9\t0.0\n",
      " 80\t97.4\t0.0\t0.0\t    |\t73.7\t28.7\t0.0\n",
      " 81\t97.5\t0.0\t0.0\t    |\t71.7\t32.5\t0.0\n",
      " 82\t98.1\t0.0\t0.0\t    |\t70.4\t37.0\t0.0\n",
      " 83\t98.3\t0.0\t0.0\t    |\t76.8\t23.4\t0.0\n",
      " 84\t101.4\t0.0\t0.0\t    |\t75.2\t15.6\t0.0\n",
      " 85\t101.5\t0.0\t0.0\t    |\t72.3\t28.9\t0.0\n",
      " 86\t98.9\t0.0\t0.0\t    |\t76.6\t25.9\t0.0\n",
      " 87\t103.0\t0.0\t0.0\t    |\t80.9\t27.9\t0.0\n",
      " 88\t104.9\t0.0\t0.0\t    |\t78.1\t28.1\t0.0\n",
      " 89\t103.2\t0.0\t0.0\t    |\t80.9\t35.4\t0.0\n",
      " 90\t105.7\t0.0\t0.0\t    |\t75.5\t47.1\t0.0\n",
      " 91\t107.9\t0.0\t0.0\t    |\t78.6\t25.1\t0.0\n",
      " 92\t103.2\t0.0\t0.0\t    |\t75.6\t33.5\t0.0\n",
      " 93\t103.1\t0.0\t0.0\t    |\t76.6\t41.5\t0.0\n",
      " 94\t99.9\t-0.2\t0.0\t    |\t76.0\t55.7\t0.3\n",
      " 95\t102.9\t0.0\t0.3\t    |\t77.3\t32.6\t0.0\n",
      " 96\t107.8\t0.0\t0.0\t    |\t80.0\t80.8\t0.0\n",
      " 97\t107.7\t0.0\t0.0\t    |\t77.7\t70.8\t0.0\n",
      " 98\t108.4\t0.0\t0.0\t    |\t77.9\t60.7\t0.0\n",
      " 99\t102.5\t0.0\t0.0\t    |\t76.5\t25.2\t0.0\n",
      "100\t97.8\t0.0\t0.0\t    |\t76.9\t41.1\t0.0\n",
      "\n",
      "\n",
      "\n",
      "\n"
     ]
    },
    {
     "data": {
      "image/png": "[encoded data removed]",
      "text/plain": [
       "<Figure size 432x288 with 1 Axes>"
      ]
     },
     "metadata": {
      "needs_background": "light"
     },
     "output_type": "display_data"
    },
    {
     "data": {
      "image/png": "[encoded data removed]",
      "text/plain": [
       "<Figure size 432x288 with 2 Axes>"
      ]
     },
     "metadata": {},
     "output_type": "display_data"
    },
    {
     "data": {
      "image/png": "[encoded data removed]",
      "text/plain": [
       "<Figure size 432x288 with 2 Axes>"
      ]
     },
     "metadata": {},
     "output_type": "display_data"
    },
    {
     "data": {
      "image/png": "[encoded data removed]",
      "text/plain": [
       "<Figure size 432x288 with 2 Axes>"
      ]
     },
     "metadata": {},
     "output_type": "display_data"
    },
    {
     "data": {
      "image/png": "[encoded data removed]",
      "text/plain": [
       "<Figure size 432x288 with 2 Axes>"
      ]
     },
     "metadata": {},
     "output_type": "display_data"
    },
    {
     "data": {
      "image/png": "[encoded data removed]",
      "text/plain": [
       "<Figure size 432x288 with 2 Axes>"
      ]
     },
     "metadata": {},
     "output_type": "display_data"
    },
    {
     "data": {
      "image/png": "[encoded data removed]",
      "text/plain": [
       "<Figure size 432x288 with 2 Axes>"
      ]
     },
     "metadata": {},
     "output_type": "display_data"
    },
    {
     "data": {
      "image/png": "[encoded data removed]",
      "text/plain": [
       "<Figure size 432x288 with 2 Axes>"
      ]
     },
     "metadata": {},
     "output_type": "display_data"
    },
    {
     "data": {
      "image/png": "[encoded data removed]",
      "text/plain": [
       "<Figure size 432x288 with 2 Axes>"
      ]
     },
     "metadata": {},
     "output_type": "display_data"
    },
    {
     "data": {
      "image/png": "[encoded data removed]",
      "text/plain": [
       "<Figure size 432x288 with 2 Axes>"
      ]
     },
     "metadata": {},
     "output_type": "display_data"
    }
   ],
   "source": [
    "r.seed(121314)\n",
    "\n",
    "setup()\n",
    "\n",
    "cmv.actionList=[\"produceAll()\",\"payWagesAll()\",\"buyConsumptionGoodsAll()\",\\\n",
    "                \"buyInvestmentGoodsAll()\",\"makeBalanceSheetAll()\",\\\n",
    "                \"distributeDividendAll()\",\"accountCashMoneyAll()\",\\\n",
    "                \"accountCheckingAccountAll()\",\"accountBankAccountAll()\",\\\n",
    "                ]\n",
    "\n",
    "for cmv.cycle in range(cmv.ncycles):\n",
    "    for anAction in cmv.actionList:\n",
    "            exec(anAction)\n",
    "\n",
    "makeHist()   \n",
    "plot1()\n",
    "plot2()\n",
    "plot3()\n",
    "plot4()\n",
    "plot5()\n",
    "plot6()\n",
    "plot7()\n",
    "plot8()\n",
    "plot9()\n",
    "\n",
    "nationalAccounts()"
   ]
  },
  {
   "cell_type": "code",
   "execution_count": 17,
   "id": "honest-photograph",
   "metadata": {},
   "outputs": [
    {
     "data": {
      "text/plain": [
       "[<__main__.Agent at 0x7fb4e7918820>,\n",
       " <__main__.Agent at 0x7fb4e79183a0>,\n",
       " <__main__.Agent at 0x7fb4e7918eb0>]"
      ]
     },
     "execution_count": 17,
     "metadata": {},
     "output_type": "execute_result"
    }
   ],
   "source": [
    "list(cmv.entrepreneurList[1].myFirm.myWorkers)"
   ]
  },
  {
   "cell_type": "code",
   "execution_count": 18,
   "id": "qualified-estate",
   "metadata": {},
   "outputs": [
    {
     "data": {
      "text/plain": [
       "62"
      ]
     },
     "execution_count": 18,
     "metadata": {},
     "output_type": "execute_result"
    }
   ],
   "source": [
    "cmv.entrepreneurList[1].myFirm.num"
   ]
  },
  {
   "cell_type": "code",
   "execution_count": 19,
   "id": "ignored-spell",
   "metadata": {},
   "outputs": [
    {
     "data": {
      "text/plain": [
       "62"
      ]
     },
     "execution_count": 19,
     "metadata": {},
     "output_type": "execute_result"
    }
   ],
   "source": [
    "cmv.entrepreneurList[1].myFirm.num"
   ]
  },
  {
   "cell_type": "code",
   "execution_count": 20,
   "id": "typical-washer",
   "metadata": {},
   "outputs": [
    {
     "data": {
      "text/plain": [
       "[12, 96, 31, 80, 16, 40, 25, 34, 84, 37, 60, 24, 62, 33, 15, 74, 61, 95, 88]"
      ]
     },
     "execution_count": 20,
     "metadata": {},
     "output_type": "execute_result"
    }
   ],
   "source": [
    "list(cmv.firmList[i].num for i in range(cmv.firmNum))"
   ]
  },
  {
   "cell_type": "code",
   "execution_count": 21,
   "id": "sized-charge",
   "metadata": {},
   "outputs": [
    {
     "data": {
      "text/plain": [
       "[25, 62, 61, 12, 74, 80, 60, 33, 24, 16, 88, 84, 37, 31, 34, 95, 15, 96, 40]"
      ]
     },
     "execution_count": 21,
     "metadata": {},
     "output_type": "execute_result"
    }
   ],
   "source": [
    "list(cmv.entrepreneurList[i].num for i in range(cmv.firmNum))"
   ]
  },
  {
   "cell_type": "code",
   "execution_count": 22,
   "id": "sufficient-darkness",
   "metadata": {
    "scrolled": true
   },
   "outputs": [],
   "source": [
    "# last cycle\n",
    "tCashNe=0\n",
    "for anA in cmv.agentList:\n",
    "    if not anA.entrepreneur: tCashNe+=anA.cashMoney\n",
    "\n",
    "tCashE=0\n",
    "for anA in cmv.agentList:\n",
    "    if anA.entrepreneur: tCashE+=anA.cashMoney"
   ]
  },
  {
   "cell_type": "code",
   "execution_count": 23,
   "id": "vocal-transparency",
   "metadata": {
    "scrolled": true
   },
   "outputs": [
    {
     "data": {
      "text/plain": [
       "0"
      ]
     },
     "execution_count": 23,
     "metadata": {},
     "output_type": "execute_result"
    }
   ],
   "source": [
    "tCashNe"
   ]
  },
  {
   "cell_type": "code",
   "execution_count": 24,
   "id": "intelligent-powell",
   "metadata": {
    "scrolled": true
   },
   "outputs": [
    {
     "data": {
      "text/plain": [
       "0"
      ]
     },
     "execution_count": 24,
     "metadata": {},
     "output_type": "execute_result"
    }
   ],
   "source": [
    "tCashE"
   ]
  },
  {
   "cell_type": "code",
   "execution_count": 25,
   "id": "native-textbook",
   "metadata": {
    "scrolled": true
   },
   "outputs": [],
   "source": [
    "tC=0\n",
    "for i in range(cmv.ncycles):\n",
    "    tC+=cmv.totalConsumptionSeries[i]"
   ]
  },
  {
   "cell_type": "code",
   "execution_count": 26,
   "id": "smart-employment",
   "metadata": {
    "scrolled": true
   },
   "outputs": [
    {
     "data": {
      "text/plain": [
       "7198.821721127787"
      ]
     },
     "execution_count": 26,
     "metadata": {},
     "output_type": "execute_result"
    }
   ],
   "source": [
    "tC"
   ]
  },
  {
   "cell_type": "code",
   "execution_count": 27,
   "id": "distinguished-bacon",
   "metadata": {
    "scrolled": true
   },
   "outputs": [],
   "source": [
    "tCE=0\n",
    "for i in range(cmv.ncycles):\n",
    "    tCE+=cmv.totalEntrepreneurConsumptionSeries[i]"
   ]
  },
  {
   "cell_type": "code",
   "execution_count": 28,
   "id": "alive-electricity",
   "metadata": {
    "scrolled": true
   },
   "outputs": [
    {
     "data": {
      "text/plain": [
       "2839.416225821476"
      ]
     },
     "execution_count": 28,
     "metadata": {},
     "output_type": "execute_result"
    }
   ],
   "source": [
    "tCE"
   ]
  },
  {
   "cell_type": "code",
   "execution_count": 29,
   "id": "sufficient-placement",
   "metadata": {
    "scrolled": true
   },
   "outputs": [],
   "source": [
    "tCNe=0\n",
    "for i in range(cmv.ncycles):\n",
    "    tCNe+=cmv.totalNonEntrepreneurConsumptionSeries[i]"
   ]
  },
  {
   "cell_type": "code",
   "execution_count": 30,
   "id": "regional-somerset",
   "metadata": {
    "scrolled": true
   },
   "outputs": [
    {
     "data": {
      "text/plain": [
       "4359.405495306309"
      ]
     },
     "execution_count": 30,
     "metadata": {},
     "output_type": "execute_result"
    }
   ],
   "source": [
    "tCNe"
   ]
  },
  {
   "cell_type": "code",
   "execution_count": 31,
   "id": "great-dublin",
   "metadata": {
    "scrolled": true
   },
   "outputs": [],
   "source": [
    "tI=0\n",
    "for i in range(cmv.ncycles):\n",
    "    tI+=cmv.totalInvestmentSeries[i]"
   ]
  },
  {
   "cell_type": "code",
   "execution_count": 32,
   "id": "responsible-appendix",
   "metadata": {
    "scrolled": true
   },
   "outputs": [
    {
     "data": {
      "text/plain": [
       "4333.521900200619"
      ]
     },
     "execution_count": 32,
     "metadata": {},
     "output_type": "execute_result"
    }
   ],
   "source": [
    "tI"
   ]
  },
  {
   "cell_type": "code",
   "execution_count": 33,
   "id": "fancy-geography",
   "metadata": {},
   "outputs": [
    {
     "data": {
      "text/plain": [
       "[46.47787584672385,\n",
       " 97.72162338279661,\n",
       " 147.81408783549588,\n",
       " 199.19547101163596,\n",
       " 249.96418656369855,\n",
       " 302.2080096685745,\n",
       " 354.23697182194763,\n",
       " 410.68538927433497,\n",
       " 465.75565487178574,\n",
       " 524.0603052445042,\n",
       " 582.1758776453678,\n",
       " 640.2980927603152,\n",
       " 698.6485793849891,\n",
       " 763.5372768858667,\n",
       " 817.7051944319161,\n",
       " 874.4254571434121,\n",
       " 936.9093365413139,\n",
       " 1002.9668516527737,\n",
       " 1065.914931171821,\n",
       " 1130.9410749333272,\n",
       " 1194.0251190722886,\n",
       " 1261.4928128880233,\n",
       " 1327.075510856316,\n",
       " 1390.3208682801483,\n",
       " 1453.258563873224,\n",
       " 1519.7889126796385,\n",
       " 1583.5363823179118,\n",
       " 1644.9136063805677,\n",
       " 1705.4645621862473,\n",
       " 1770.5669022711786,\n",
       " 1835.6624122677358,\n",
       " 1909.1712050815331,\n",
       " 1973.3707220407182,\n",
       " 2041.2308945425798,\n",
       " 2109.2395183259555,\n",
       " 2179.777072689928,\n",
       " 2250.9037900365497,\n",
       " 2323.834729988785,\n",
       " 2397.858884036928,\n",
       " 2469.6987185714756,\n",
       " 2536.043667146977,\n",
       " 2601.2482805346253,\n",
       " 2669.052192719659,\n",
       " 2742.6277076566494,\n",
       " 2810.082393871941,\n",
       " 2882.7348879960696,\n",
       " 2956.818472958974,\n",
       " 3033.301093460619,\n",
       " 3106.041414869732,\n",
       " 3177.092798127162,\n",
       " 3243.3914407090565,\n",
       " 3313.2759593880246,\n",
       " 3378.1256861207635,\n",
       " 3448.1154818457853,\n",
       " 3517.0757211327996,\n",
       " 3591.5705723349574,\n",
       " 3667.941802254985,\n",
       " 3737.3820417355564,\n",
       " 3804.0756705615645,\n",
       " 3869.3698148332505,\n",
       " 3937.455681444799,\n",
       " 4003.9990458648804,\n",
       " 4076.6323073827652,\n",
       " 4144.991179419907,\n",
       " 4211.061939984742,\n",
       " 4276.052876361967,\n",
       " 4342.683828447697,\n",
       " 4406.424209939475,\n",
       " 4474.821587046259,\n",
       " 4539.422405138764,\n",
       " 4602.774354872068,\n",
       " 4666.552032026415,\n",
       " 4734.895263816732,\n",
       " 4797.010104684897,\n",
       " 4863.885701888174,\n",
       " 4923.068338042217,\n",
       " 4982.2856006470165,\n",
       " 5043.078499692793,\n",
       " 5099.013303641664,\n",
       " 5159.655975147389,\n",
       " 5221.006050024253,\n",
       " 5285.703500645672,\n",
       " 5345.30771811025,\n",
       " 5407.614132823882,\n",
       " 5473.103441206822,\n",
       " 5532.800663724298,\n",
       " 5591.717372945078,\n",
       " 5652.871411997863,\n",
       " 5706.7575786279995,\n",
       " 5765.883850049455,\n",
       " 5819.4680499105925,\n",
       " 5876.797669136593,\n",
       " 5935.39077747366,\n",
       " 5994.8117346336385,\n",
       " 6056.230715425727,\n",
       " 6115.9050893441545,\n",
       " 6178.097140618792,\n",
       " 6239.424708249205,\n",
       " 6300.9815458744,\n",
       " 6359.917632111799]"
      ]
     },
     "execution_count": 33,
     "metadata": {},
     "output_type": "execute_result"
    }
   ],
   "source": [
    "cmv.totalCheckingAccountSeries"
   ]
  },
  {
   "cell_type": "code",
   "execution_count": 34,
   "id": "thorough-thesaurus",
   "metadata": {},
   "outputs": [
    {
     "data": {
      "text/plain": [
       "[-46.477875846723826,\n",
       " -97.72162338279657,\n",
       " -147.81408783549568,\n",
       " -199.19547101163596,\n",
       " -249.96418656369846,\n",
       " -302.2080096685745,\n",
       " -354.23697182194735,\n",
       " -410.68538927433485,\n",
       " -465.75565487178557,\n",
       " -524.0603052445043,\n",
       " -582.1758776453679,\n",
       " -640.2980927603147,\n",
       " -698.6485793849888,\n",
       " -763.5372768858662,\n",
       " -817.7051944319157,\n",
       " -874.4254571434121,\n",
       " -936.9093365413135,\n",
       " -1002.9668516527734,\n",
       " -1065.9149311718206,\n",
       " -1130.9410749333267,\n",
       " -1194.025119072288,\n",
       " -1261.4928128880229,\n",
       " -1327.0755108563146,\n",
       " -1390.320868280147,\n",
       " -1453.2585638732223,\n",
       " -1519.788912679638,\n",
       " -1583.5363823179105,\n",
       " -1644.9136063805668,\n",
       " -1705.4645621862471,\n",
       " -1770.5669022711788,\n",
       " -1835.6624122677351,\n",
       " -1909.171205081532,\n",
       " -1973.3707220407166,\n",
       " -2041.2308945425793,\n",
       " -2109.239518325954,\n",
       " -2179.777072689927,\n",
       " -2250.903790036547,\n",
       " -2323.8347299887832,\n",
       " -2397.858884036926,\n",
       " -2469.6987185714725,\n",
       " -2536.0436671469743,\n",
       " -2601.248280534625,\n",
       " -2669.052192719658,\n",
       " -2742.6277076566475,\n",
       " -2810.0823938719395,\n",
       " -2882.7348879960673,\n",
       " -2956.8184729589716,\n",
       " -3033.3010934606214,\n",
       " -3106.0414148697305,\n",
       " -3177.0927981271598,\n",
       " -3243.391440709055,\n",
       " -3313.2759593880223,\n",
       " -3378.125686120761,\n",
       " -3448.1154818457835,\n",
       " -3517.075721132798,\n",
       " -3591.5705723349556,\n",
       " -3667.941802254982,\n",
       " -3737.382041735554,\n",
       " -3804.075670561564,\n",
       " -3869.3698148332483,\n",
       " -3937.4556814447974,\n",
       " -4003.99904586488,\n",
       " -4076.6323073827643,\n",
       " -4144.991179419904,\n",
       " -4211.061939984741,\n",
       " -4276.052876361968,\n",
       " -4342.683828447695,\n",
       " -4406.424209939473,\n",
       " -4474.821587046259,\n",
       " -4539.422405138764,\n",
       " -4602.774354872068,\n",
       " -4666.552032026411,\n",
       " -4734.89526381673,\n",
       " -4797.010104684895,\n",
       " -4863.885701888172,\n",
       " -4923.068338042216,\n",
       " -4982.285600647017,\n",
       " -5043.078499692794,\n",
       " -5099.013303641664,\n",
       " -5159.655975147387,\n",
       " -5221.006050024252,\n",
       " -5285.703500645674,\n",
       " -5345.307718110253,\n",
       " -5407.614132823885,\n",
       " -5473.103441206825,\n",
       " -5532.800663724298,\n",
       " -5591.717372945081,\n",
       " -5652.871411997864,\n",
       " -5706.757578628005,\n",
       " -5765.883850049459,\n",
       " -5819.468049910595,\n",
       " -5876.797669136595,\n",
       " -5935.3907774736645,\n",
       " -5994.811734633645,\n",
       " -6056.230715425732,\n",
       " -6115.905089344161,\n",
       " -6178.097140618798,\n",
       " -6239.42470824921,\n",
       " -6300.981545874403,\n",
       " -6359.917632111803]"
      ]
     },
     "execution_count": 34,
     "metadata": {},
     "output_type": "execute_result"
    }
   ],
   "source": [
    "cmv.totalBankAccountSeries"
   ]
  },
  {
   "cell_type": "code",
   "execution_count": 35,
   "id": "particular-climate",
   "metadata": {},
   "outputs": [
    {
     "data": {
      "text/plain": [
       "[0.34022502475385896,\n",
       " 2.4328694296312565,\n",
       " 0,\n",
       " 1.4434943107256166,\n",
       " 0.24874180894334263,\n",
       " 2.0136411321856724,\n",
       " 2.167793436095419,\n",
       " 1.6856168405602836,\n",
       " 0.8620595700736146,\n",
       " 2.1471271393526483,\n",
       " 0.9552097425970478,\n",
       " 1.4153198457351597,\n",
       " 2.328234108494451,\n",
       " 1.7855826791240166,\n",
       " 2.4165419210251695,\n",
       " 2.4140794898545694,\n",
       " 0.7523061413230266,\n",
       " 1.1276499982445258,\n",
       " 1.7342485925663358]"
      ]
     },
     "execution_count": 35,
     "metadata": {},
     "output_type": "execute_result"
    }
   ],
   "source": [
    "list(cmv.firmList[i].productivity for i in range(cmv.firmNum))"
   ]
  },
  {
   "cell_type": "code",
   "execution_count": 36,
   "id": "compatible-craft",
   "metadata": {},
   "outputs": [
    {
     "data": {
      "text/plain": [
       "[0.6804500495077179,\n",
       " 2.4328694296312565,\n",
       " 0,\n",
       " 10.104460175079316,\n",
       " 5.472319796753538,\n",
       " 8.05456452874269,\n",
       " 2.167793436095419,\n",
       " 6.742467362241134,\n",
       " 1.7241191401472291,\n",
       " 19.324144254173834,\n",
       " 1.9104194851940957,\n",
       " 2.8306396914703194,\n",
       " 6.984702325483353,\n",
       " 1.7855826791240166,\n",
       " 2.4165419210251695,\n",
       " 4.828158979709139,\n",
       " 2.25691842396908,\n",
       " 14.659449977178836,\n",
       " 3.4684971851326716]"
      ]
     },
     "execution_count": 36,
     "metadata": {},
     "output_type": "execute_result"
    }
   ],
   "source": [
    "list(cmv.firmList[i].production for i in range(cmv.firmNum))"
   ]
  },
  {
   "cell_type": "code",
   "execution_count": 37,
   "id": "authorized-lover",
   "metadata": {},
   "outputs": [
    {
     "data": {
      "text/plain": [
       "[-223.80287348741822,\n",
       " -130.53704256107795,\n",
       " -1396.068139571903,\n",
       " -195.5633724863619,\n",
       " -1538.236327015273,\n",
       " -182.72467593887387,\n",
       " -147.4067812127734,\n",
       " -198.86553809004397,\n",
       " -220.51980477474052,\n",
       " -190.0016519028675,\n",
       " -267.65874737614115,\n",
       " -244.59642956183458,\n",
       " -190.3847650294868,\n",
       " -170.54678980605624,\n",
       " -191.7036617934827,\n",
       " -204.63306772964378,\n",
       " -251.3023181810973,\n",
       " -212.27902521101686,\n",
       " -203.08662038170996]"
      ]
     },
     "execution_count": 37,
     "metadata": {},
     "output_type": "execute_result"
    }
   ],
   "source": [
    "list(cmv.firmList[i].bankAccount for i in range(cmv.firmNum))"
   ]
  },
  {
   "cell_type": "code",
   "execution_count": null,
   "id": "attached-wrong",
   "metadata": {},
   "outputs": [],
   "source": []
  }
 ],
 "metadata": {
  "kernelspec": {
   "display_name": "Python 3",
   "language": "python",
   "name": "python3"
  },
  "language_info": {
   "codemirror_mode": {
    "name": "ipython",
    "version": 3
   },
   "file_extension": ".py",
   "mimetype": "text/x-python",
   "name": "python",
   "nbconvert_exporter": "python",
   "pygments_lexer": "ipython3",
   "version": "3.9.7"
  }
 },
 "nbformat": 4,
 "nbformat_minor": 5
}
