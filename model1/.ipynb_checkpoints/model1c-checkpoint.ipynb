{
 "cells": [
  {
   "cell_type": "markdown",
   "id": "naval-nomination",
   "metadata": {},
   "source": [
    "#### Un altro passettino: ecco in azione l'*Istituto Centrale di Statistica* con a fianco la *Banca d'Italia*\n",
    "\n",
    "use it also in [Notebook viewer](https://nbviewer.org/github/terna/ejmmp/blob/main/model0/model0.ipynb)\n",
    "\n",
    "if the content is missing to update, follow once [Notebook viewer and flush cache](https://nbviewer.org/github/terna/ejmmp/blob/main/model0/model0.ipynb?flush_cache=true)\n",
    "\n",
    "[Wikipedia as a memo](https://en.wikipedia.org/wiki/Stock-flow_consistent_model#cite_note-42)"
   ]
  },
  {
   "cell_type": "code",
   "execution_count": 1,
   "id": "latter-survey",
   "metadata": {
    "scrolled": true
   },
   "outputs": [
    {
     "data": {
      "application/javascript": [
       "// to avoid scroll in windows\n",
       "IPython.OutputArea.prototype._should_scroll = function(lines) {\n",
       "    return false;\n",
       "}\n"
      ],
      "text/plain": [
       "<IPython.core.display.Javascript object>"
      ]
     },
     "metadata": {},
     "output_type": "display_data"
    }
   ],
   "source": [
    "%%javascript\n",
    "// to avoid scroll in windows\n",
    "IPython.OutputArea.prototype._should_scroll = function(lines) {\n",
    "    return false;\n",
    "}"
   ]
  },
  {
   "cell_type": "code",
   "execution_count": 2,
   "id": "great-earthquake",
   "metadata": {
    "scrolled": false
   },
   "outputs": [],
   "source": [
    "%matplotlib inline\n",
    "import random as r\n",
    "import matplotlib.pyplot as plt\n",
    "import commonVar as cmv\n",
    "import numpy as np\n",
    "from tools import *"
   ]
  },
  {
   "cell_type": "markdown",
   "id": "prostate-shadow",
   "metadata": {},
   "source": [
    "### Stock-flow *model1c*, with real and financial elements\n",
    "\n",
    "- Besides the real part of the economy, we introduce the initial element of the monetary side of the economy.\n",
    "\n",
    "  \n",
    "\n",
    "- We are introducing gradually loans, credits, debts, capital stock, interest rate.\n",
    "\n",
    "\n",
    "\n",
    "- Firms have unlimited funds that they put freely in their activities, balancing other agent negative cash, if any.\n",
    "\n",
    "  \n",
    "\n",
    "- Saving is abstension from consuming, increasing agent liquidity.\n",
    "\n",
    "\n",
    "\n",
    "- Investments are uniquely for replacement, without technical progress.\n",
    "\n",
    "  "
   ]
  },
  {
   "cell_type": "markdown",
   "id": "comparable-matthew",
   "metadata": {},
   "source": [
    "### symbol table\n",
    "\n",
    "[symbol table](https://oeis.org/wiki/List_of_LaTeX_mathematical_symbols) in $\\LaTeX$ \n",
    "\n",
    "$a_i$ -  with $a_i \\in \\mathbf{A}$; agent number $N=|\\mathbf{A}|$, `agentList` and`agentNum`\n",
    "\n",
    "$a^e_i$ -  with $a^e_i \\in \\mathbf{A^e}$ and $\\mathbf{A^e} \\subset \\mathbf{A}$; employer number $N^e=|\\mathbf{A^e}|$ in range $[N^e_{min},N^e_{max}]$, `employerList`\n",
    "\n",
    "$\\mathbf{F}$ - firms' set, with $f_j \\in \\mathbf{F}$ being $N^f = |\\mathbf{F}|$,  with $N^f = |\\mathbf{F}| = |\\mathbf{A^e}|$ , `firmList`\n",
    "\n",
    "$\\mathbf{A}^w$ - working agents' set, being $\\mathbf{A}^w \\subseteq \\mathbf{A}$, with $N^w_i=|\\mathbf{A}^w_i|$ number of working agents employed by employer $i$, also including self-employed employers, with $a_i \\in \\mathbf{A}^e$\n",
    "\n",
    "$\\mathbf{B}$ - banks' set, with $b_j \\in \\mathbf{B}$ being $N^b = |\\mathbf{B}|$, `bankList`\n",
    "\n",
    "$p$ - price `price`\n",
    "\n",
    "$u$ - unemployment rate `unemploymentRate`\n",
    "\n",
    "$dimensional~heterogeneity$ is a $true/false$ chooser, forcing increasing firms to attract more workers. `dimensionalHeterogeneity`\n",
    "\n",
    "$\\pi_{i,t}$ - labor productivity, a uniformly distributed decimal number in range $[\\pi_{min},\\pi_{max}]$,`productivity`\n",
    "\n",
    "&Delta;$\\pi_{i,t}$ - uniperiodal additive productivity correction in range $[$&Delta;$\\pi_{min},$ &Delta;$\\pi_{max}]$, `productivityDelta`\n",
    "\n",
    "$n_{i,t}$ - number of workers in a firm\n",
    "\n",
    "$q_{i,t}$ - production in quantity, `production`\n",
    "\n",
    "$\\Pi_{i,t}$ - profit, `profit`\n",
    "\n",
    "$\\rho$ - dividend distribution share, `rho`\n",
    "\n",
    "$W$ - wage `wage`\n",
    "\n",
    "$R_{i,t}$ - revenues, `revenues`\n",
    "\n",
    "$s_{i,t}$ - sales in quantity, `sales`\n",
    "\n",
    "$v_{i,t}$ - in**v**entories (final, initial), `initialInventories`, `finalInventories`\n",
    "\n",
    "$d_{i}$ - deperibility share of the production, `deperibilityShare`, setting $d_{max}$\n",
    "\n",
    "$c_{i,t}$ - consumption rate, a uniformly distributed decimal number in range $[c_{min},c_{max}]$,`consumptionRate`\n",
    "\n",
    "$C_{i,t}$ - consumption of $i$ in $t$\n",
    "\n",
    "$I_{i,t}$  - investment plan  of $i$ in $t$, a uniformly distributed realization in range $[I_{min},I_{max}]$,`investmentProgram`\n",
    "\n",
    "$H_{i,t}$  - high powered money (cash) held by individuals (also acting as employers), `cashMoney`\n",
    "\n",
    "$M1_{i,t}$ - checking account money deposits held by  $a_i$ at time $t$, `checkingAccount`\n",
    "\n",
    "$M1^f_{i,t}$ - firm's bank account (with positive or negative balance), `bankAccount`\n",
    "\n",
    "the investment and consumption actions are repeated in each cycle, looking around randomly for the sellers; currently `nOfConsumptionActions` $=30$ and `nOfInvestmentActions`$=10$; each consumption buy action is at maximum the 20% of the planned consumptions in that cycle; instead, each investment buy action can reach the whole amount of the investment program of the cycle; each buy action is limited by the residual capabilty of the seller\n",
    "\n",
    "**magically**, the same good can be a consumption item or an investment one\n",
    "\n",
    "$T$ - number of cycles `ncycles`\n",
    "\n",
    "$t$ - current cycle `cycle`\n"
   ]
  },
  {
   "cell_type": "markdown",
   "id": "broke-marathon",
   "metadata": {},
   "source": [
    "### agent structure\n",
    "\n",
    "The structure of a **generic agent**: it can represent an employer, a worker, an unemployed person.\n",
    "\n",
    "When an agent is created, the **initialization process** defines:\n",
    "\n",
    "- its numerical id, `num`\n",
    "- its entrepreneur status, `entrepreneur`, set to $false$\n",
    "- the id of its employer, `myEmployer`, set to $0$\n",
    "- if entrepreneur, the id of its firm, `myFirm`, set to $0$\n",
    "- $c_{i,0}$ - consumption rate, set to $0$\n",
    "- $H_{i,0}$ - cash money, set to $0$ \n",
    "- $M1_{i,0}$ - checking account money deposits, set to $0$\n",
    "\n",
    "\n",
    "\n",
    "## firm structure\n",
    "\n",
    "- $R_{i,0}$ - `revenues`, initial value  $0$\n",
    "- $s_{i,0}$ - `sales`, initial value  $0$\n",
    "- $v^i_{i,0}$ - in**v**entories, `initialInventories`, set to $0$ \n",
    "- $v^f_{i,0}$ - in**v**entories, `finalInventories`, set to $0$ \n",
    "- $d_{i}$ - deperibility share, a uniformly distributed decimal number in range $[0,d_{max}]$,`deperibilityShare`\n",
    "- $I_{i,0}$  - investment plan, set to $0$\n",
    "- $\\Pi_{i,0}$ - profit, set to $0$, being the related dividend $D_{i,0}$, set to $0$\n",
    "- $M1^f_{i,0}$ - firm's bank account, set to $0$\n",
    "- $\\pi_{i,t-1}$ is set after the initialization step, if an agent becomes an employer\n",
    "\n",
    "\n",
    "\n",
    "each **generic agent** has the **functions**:\n",
    "\n",
    "- **buyConsumptionGoods** \n",
    "\n",
    "  $C_{i,t}=c_{i,t} (W+D_{i,t-1})$; using $D_{i,t-1}$ we introduce a lag with a (possible) cyclical effect\n",
    "\n",
    "  being $bu$ the buyer and $se$ the seller (firm), for each fraction $C_{i,t}/k$ \n",
    "\n",
    "  ($k$ is the number of buying actions in each cycle)\n",
    "\n",
    "  &Delta;$M1^f_{se,t}=C_{bu,t}/k$\n",
    "\n",
    "  &Delta;$M1_{bu,t}=-C_{bu,t}/k$\n",
    "\n",
    "\n",
    "\n",
    "each **firm** has the **functions**:\n",
    "\n",
    "- **produce** function, with:\n",
    "\n",
    "  $\\pi_{i,t}=\\pi_{i,t-1}+$&Delta;$\\pi_{i,t}$\n",
    "\n",
    "  $q_{i,t}=n_{i,t} \\pi_{i,t}$\n",
    "\n",
    "  \n",
    "\n",
    "- **payWages**\n",
    "\n",
    "  paying $W$ to each worker in each time $t$\n",
    "\n",
    "  &Delta;$M1_{i,t}=W$ for  $a_i \\in \\mathbf{A}^w$ \n",
    "\n",
    "  &Delta;$M1^f_{i,t}=-W \\mathbf{N}^w_i$ for $a_i \\in \\mathbf{A}^e$ \n",
    "\n",
    "  \n",
    "\n",
    "- **buyInvestmentGoods**\n",
    "\n",
    "  $I_{j,t}$ for $f_j \\in \\mathbf{F}$  ($I_{j,t}$ is exogenously set)\n",
    "\n",
    "  being $bu$ the buyer (firm) and $se$ the seller (firm), for each fraction $I_{j,t}/k$\n",
    "\n",
    "  ($k$ is the number of investment actions in each cycle)\n",
    "\n",
    "  &Delta;$M1^f_{se,t}=I_{bu,t}/k$\n",
    "\n",
    "  &Delta;$M1^f_{bu,t}=-I_{bu,t}/k$\n",
    "\n",
    "  \n",
    "\n",
    "- **makeBalanceSheet**\n",
    "\n",
    "  $v^f_{i,t}=v^i_{i,t}+(q_{i,t}-s_{i,t}) (1 - d_{i})$\n",
    "\n",
    "  $R_{i,t}=p s_{i,t}$\n",
    "\n",
    "  $\\Pi_{i,t}=R_{i,t}-W n_{i,t}-p(v^f_{i,t}-v^i_{i,t})$\n",
    "\n",
    "\n",
    "\n",
    "Agent **bank** is a special subject operating on the financial side of the model  (to be continued)\n",
    "\n"
   ]
  },
  {
   "cell_type": "code",
   "execution_count": 3,
   "id": "found-bibliography",
   "metadata": {
    "scrolled": false
   },
   "outputs": [],
   "source": [
    "class Agent():\n",
    "    def __init__(self, num):\n",
    "        self.num=num\n",
    "        self.entrepreneur=False\n",
    "        self.myFirm=0\n",
    "        self.myEmployer=0\n",
    "        self.consumptionRate=0\n",
    "        self.cashMoney=0\n",
    "        self.checkingAccount=0\n",
    "        self.perceivedDividend=0\n",
    "\n",
    "    def buyConsumptionGoods(self,k):\n",
    "        if k==0: \n",
    "            self.consumptionRate=r.uniform(cmv.consumptionRateMin,cmv.consumptionRateMax)\n",
    "            self.consumption=(cmv.wage+self.perceivedDividend)*self.consumptionRate\n",
    "            if self.consumption < 0: self.consumption=0\n",
    "            self.madeConsumption=0\n",
    "                \n",
    "        r.shuffle(cmv.firmList)\n",
    "        mySeller=cmv.firmList[0]\n",
    "        self.purchase=r.uniform(0,1/5)*self.consumption \n",
    "                            # mean value 0.10 (10 buy action could be sufficient)\n",
    "        self.purchase=min(self.purchase,mySeller.production+mySeller.initialInventories\\\n",
    "                          -mySeller.sales)\n",
    "        mySeller.sales+=self.purchase/cmv.price\n",
    "        mySeller.bankAccount+=self.purchase\n",
    "        self.consumption-=self.purchase\n",
    "        self.checkingAccount-=self.purchase\n",
    "        self.madeConsumption+=self.purchase\n",
    "    \n"
   ]
  },
  {
   "cell_type": "code",
   "execution_count": 4,
   "id": "dirty-nevada",
   "metadata": {},
   "outputs": [],
   "source": [
    "class Firm():\n",
    "    def __init__(self, num):\n",
    "        self.num=num\n",
    "        self.myWorkers=[]\n",
    "        self.myEntrepreneur=0\n",
    "        self.productivity=0\n",
    "        self.initialInventories=0\n",
    "        self.finalInventories=0\n",
    "        self.bankAccount=0\n",
    "        self.revenues=0 #sales*price\n",
    "        self.sales=0\n",
    "        self.deperibilityShare=r.uniform(0,cmv.maxDeperibilityShare)\n",
    "        self.investmentProgram=0\n",
    "        self.profit=0\n",
    "        self.madeInvestment=0\n",
    "        \n",
    "    def produce(self):\n",
    "        self.initialInventories=self.finalInventories\n",
    "        self.productivity+=r.uniform(cmv.productivityDeltaMin,cmv.productivityDeltaMax)\n",
    "        self.productivity=max(self.productivity,0)\n",
    "        \n",
    "        self.production=len(self.myWorkers)*self.productivity\n",
    "        self.sales=0\n",
    "\n",
    "    def payWages(self):\n",
    "        for anAgent in self.myWorkers:\n",
    "            anAgent.checkingAccount+=cmv.wage\n",
    "        self.bankAccount-=cmv.wage*len(self.myWorkers)\n",
    "            \n",
    "    def buyInvestmentGoods(self,k):\n",
    "        if k==0: \n",
    "            self.investmentProgram=r.uniform(cmv.investmentMin,cmv.investmentMax)\n",
    "            self.madeInvestment=0\n",
    "                       \n",
    "        r.shuffle(cmv.firmList)\n",
    "        mySeller=cmv.firmList[0]\n",
    "        self.myInvestment=min(self.investmentProgram,mySeller.production+\\\n",
    "                              mySeller.initialInventories-mySeller.sales)\n",
    "        mySeller.sales+=self.myInvestment/cmv.price\n",
    "        mySeller.bankAccount+=self.myInvestment\n",
    "        \n",
    "        self.bankAccount-=self.myInvestment\n",
    "        self.investmentProgram-=self.myInvestment\n",
    "        self.madeInvestment+=self.myInvestment\n",
    "        \n",
    "    def makeBalanceSheet(self):\n",
    "        self.lostProduction=0\n",
    "        if self.production - self.sales > 0: \n",
    "            self.lostProduction=(self.production - self.sales)*self.deperibilityShare\n",
    "        #print(self.num, lostProduction,self.productivity)\n",
    "        self.finalInventories=self.initialInventories+self.production-\\\n",
    "                              self.sales-self.lostProduction\n",
    "        self.revenues=self.sales*cmv.price\n",
    "        self.profit=self.revenues - len(self.myWorkers)*cmv.wage + \\\n",
    "          (self.finalInventories-self.initialInventories)*cmv.price\n",
    "        #print(self.num,self.profit,self.revenues,len(self.myWorkers)*cmv.wage,\\\n",
    "        #      self.finalInventories, self.initialInventories)\n",
    "        \n",
    "    def distributeDividend(self):\n",
    "        if self.profit > 0:\n",
    "            dividend=cmv.rho*self.profit\n",
    "            self.bankAccount-=dividend\n",
    "            self.myEntrepreneur.checkingAccount+=dividend\n",
    "            self.myEntrepreneur.perceivedDividend+=dividend\n",
    "        \n"
   ]
  },
  {
   "cell_type": "markdown",
   "id": "given-bangkok",
   "metadata": {},
   "source": [
    "### agent setup\n",
    "\n",
    "- agent basic creation\n",
    "\n",
    "  \n",
    "\n",
    "- creation of entrepreneur list\n",
    "\n",
    "  \n",
    "\n",
    "- selecting entrepreneurs and creating their firms\n",
    "\n",
    "  \n",
    "\n",
    "- with a given (heterogeneous) productivity\n",
    "\n",
    "  \n",
    "\n",
    "- linking the firm to its entrepreneur, considering the entrepreneur itself as a worker in its firm\n",
    "\n",
    "  \n",
    "\n",
    "- creation of a temporary workforce list of to-be-employed agent, escluding entrepreneurs (already self employed)\n",
    "\n",
    "  \n",
    "\n",
    "- applying the unmployement rate to exclude agents\n",
    "\n",
    "  \n",
    "\n",
    "- assigning workforce (to-be-employed agents) to firms, with a reinforcement mechanism, gradually giving more attraction/hiring capability to firms growing the most\n",
    "\n"
   ]
  },
  {
   "cell_type": "code",
   "execution_count": 5,
   "id": "weekly-jordan",
   "metadata": {},
   "outputs": [],
   "source": [
    "def setup():\n",
    "    cmv.agentList=[]\n",
    "    for n in range(cmv.agentNum):\n",
    "        anAgent=Agent(n+1)\n",
    "        cmv.agentList.append(anAgent)\n",
    "    \n",
    "\n",
    "    # creation of entrepreneur list\n",
    "    cmv.entrepreneurNum=r.randint(entrepreneurMin, entrepreneurMax)\n",
    "\n",
    "    cmv.entrepreneurList=[]\n",
    "    cmv.firmList=[]\n",
    "    entrepreneurCandidates=cmv.agentList.copy()\n",
    "\n",
    "    for n in range(cmv.entrepreneurNum):\n",
    "        i=r.randint(0,len(entrepreneurCandidates))\n",
    "        entrepreneurCandidates[i].entrepreneur=True\n",
    "        aFirm=Firm(entrepreneurCandidates[i].num)\n",
    "        entrepreneurCandidates[i].myFirm=aFirm\n",
    "        entrepreneurCandidates[i].myEmployer=aFirm\n",
    "        aFirm.myEntrepreneur=entrepreneurCandidates[i]\n",
    "        aFirm.myWorkers.append(entrepreneurCandidates[i])\n",
    "        aFirm.productivity=\\\n",
    "                r.uniform(cmv.productivityMin,cmv.productivityMax)\n",
    "        cmv.entrepreneurList.append(entrepreneurCandidates.pop(i))\n",
    "        cmv.firmList.append(aFirm)\n",
    "        \n",
    "    cmv.firmNum=len(cmv.firmList)\n",
    "    \n",
    "    # creation of workforce list\n",
    "    toBeEmployed=[]\n",
    "\n",
    "    for anAgent in cmv.agentList:\n",
    "        if not anAgent.entrepreneur: toBeEmployed.append(anAgent)\n",
    "    for k in range(round(cmv.unemploymentRate*cmv.agentNum)):\n",
    "        toBeEmployed.pop(r.randint(0,len(toBeEmployed)))\n",
    "    #len(toBeEmployed)\n",
    "\n",
    "\n",
    "    # assigning workforce to firms\n",
    "    tmpFirmListWithDuplications=cmv.firmList.copy()\n",
    "    for anAgent in toBeEmployed:\n",
    "        choice=r.choice(tmpFirmListWithDuplications)\n",
    "        anAgent.myEmployer=choice\n",
    "        choice.myWorkers.append(anAgent)\n",
    "        if cmv.dimensionalHeterogeneity: tmpFirmListWithDuplications.append(choice)\n",
    "            \n",
    "    cmv.totalProductionSeries=[]\n",
    "    cmv.totalProductionInfraVarSeries=[]\n",
    "    cmv.totalProfitSeries=[]\n",
    "    cmv.totalProfitInfraVarSeries=[]\n",
    "    cmv.totalInitialInventoriesSeries=[]\n",
    "    cmv.totalInitialInventoriesInfraVarSeries=[]\n",
    "    cmv.totalFinalInventoriesSeries=[]\n",
    "    cmv.totalFinalInventoriesInfraVarSeries=[]\n",
    "    cmv.totalConsumptionSeries=[]\n",
    "    cmv.totalEntrepreneurConsumptionSeries=[]\n",
    "    cmv.totalNonEntrepreneurConsumptionSeries=[]\n",
    "    cmv.totalConsumptionInfraVarSeries=[]\n",
    "    cmv.totalInvestmentSeries=[]\n",
    "    cmv.totalInvestmentInfraVarSeries=[]\n",
    "    cmv.totalCashMoneySeries=[]\n",
    "    cmv.totalCashMoneyInfraVarSeries=[]\n",
    "    cmv.totalCheckingAccountSeries=[]\n",
    "    cmv.totalCheckingAccountInfraVarSeries=[]\n",
    "    cmv.totalBankAccountSeries=[]\n",
    "    cmv.totalBankAccountInfraVarSeries=[]\n",
    "\n",
    "    cmv.totalLostProductionSeries=[]"
   ]
  },
  {
   "cell_type": "markdown",
   "id": "accompanied-defeat",
   "metadata": {},
   "source": [
    "### meta actions\n",
    "\n",
    "\n",
    "\n",
    "- *produceAll* orders to the firms to produce and to collects the results\n",
    "\n",
    "  \n",
    "\n",
    "- *payWagesAll* orders to the firms to pay wages, also to the entrepreneurs\n",
    "\n",
    "  \n",
    "\n",
    "- *buyConsumptionGoodsAll* orders to the agents to buy consumption goods\n",
    "\n",
    "  \n",
    "\n",
    "- *buyInvestmentGoodsAll* orders to the firms to buy investment goods\n",
    "\n",
    "\n",
    "\n",
    "- *makeBalanceSheetAll* with firm making accounts\n",
    "\n",
    "\n",
    "\n",
    "- *accountCashMoneyAll* summarizing eveyone cash money at the end of a cycle\n",
    "\n",
    "  \n",
    "\n",
    "- *accountCheckingAccountAll* summarizing eveyone checking accounts at the end of a cycle\n",
    "\n",
    "  \n",
    "\n",
    "- *accountBankingAccountAll* summarizing firm banking accounts at the end of a cycle\n",
    "\n"
   ]
  },
  {
   "cell_type": "code",
   "execution_count": 6,
   "id": "artistic-barcelona",
   "metadata": {
    "scrolled": false
   },
   "outputs": [],
   "source": [
    "def produceAll():\n",
    "    cmv.totalProductionSeries.append(0)\n",
    "    cmv.totalProductionInfraVarSeries.append(0)\n",
    "    cmv.totalInitialInventoriesSeries.append(0)\n",
    "    cmv.totalInitialInventoriesInfraVarSeries.append(0)\n",
    "\n",
    "    for aFirm in cmv.firmList:\n",
    "        aFirm.produce()\n",
    "        cmv.totalProductionSeries[-1]+=aFirm.production\n",
    "        cmv.totalProductionInfraVarSeries[-1]+=aFirm.production**2\n",
    "        cmv.totalInitialInventoriesSeries[-1]+=aFirm.initialInventories\n",
    "        cmv.totalInitialInventoriesInfraVarSeries[-1]+=aFirm.initialInventories**2\n",
    "\n",
    "    cmv.totalProductionInfraVarSeries[-1]=\\\n",
    "                            (cmv.totalProductionInfraVarSeries[-1]/cmv.firmNum - \\\n",
    "                            (cmv.totalProductionSeries[-1]/cmv.firmNum)**2)\n",
    "    cmv.totalInitialInventoriesInfraVarSeries[-1]=\\\n",
    "                            (cmv.totalInitialInventoriesInfraVarSeries[-1]/cmv.firmNum - \\\n",
    "                            (cmv.totalInitialInventoriesSeries[-1]/cmv.firmNum)**2)\n",
    "                                          "
   ]
  },
  {
   "cell_type": "code",
   "execution_count": 7,
   "id": "married-fabric",
   "metadata": {
    "scrolled": false
   },
   "outputs": [],
   "source": [
    "def payWagesAll():\n",
    "    for aFirm in cmv.firmList:\n",
    "        aFirm.payWages()\n"
   ]
  },
  {
   "cell_type": "code",
   "execution_count": 8,
   "id": "global-mercury",
   "metadata": {
    "scrolled": true
   },
   "outputs": [],
   "source": [
    "def buyConsumptionGoodsAll():\n",
    "    cmv.totalEntrepreneurConsumptionSeries.append(0) \n",
    "    cmv.totalNonEntrepreneurConsumptionSeries.append(0)\n",
    "    cmv.totalConsumptionSeries.append(0)\n",
    "    cmv.totalConsumptionInfraVarSeries.append(0)\n",
    "    for k in range(cmv.nOfConsumptionActions):\n",
    "        r.shuffle(cmv.agentList)\n",
    "        for anAgent in cmv.agentList:\n",
    "            anAgent.buyConsumptionGoods(k)\n",
    "            if k==cmv.nOfConsumptionActions-1:\n",
    "                if anAgent.entrepreneur:\n",
    "                    cmv.totalEntrepreneurConsumptionSeries[-1]+=anAgent.madeConsumption\n",
    "                if not anAgent.entrepreneur:\n",
    "                    cmv.totalNonEntrepreneurConsumptionSeries[-1]+=anAgent.madeConsumption\n",
    "                cmv.totalConsumptionSeries[-1]+=anAgent.madeConsumption\n",
    "                cmv.totalConsumptionInfraVarSeries[-1]+=anAgent.madeConsumption**2\n",
    "    cmv.totalConsumptionInfraVarSeries[-1]=\\\n",
    "                              (cmv.totalConsumptionInfraVarSeries[-1]/cmv.agentNum - \\\n",
    "                              (cmv.totalConsumptionSeries[-1]/cmv.agentNum)**2)\n",
    "                "
   ]
  },
  {
   "cell_type": "code",
   "execution_count": 9,
   "id": "incredible-strategy",
   "metadata": {
    "scrolled": true
   },
   "outputs": [],
   "source": [
    "def buyInvestmentGoodsAll():\n",
    "    cmv.totalInvestmentSeries.append(0)\n",
    "    cmv.totalInvestmentInfraVarSeries.append(0)\n",
    "    for k in range(cmv.nOfInvestmentActions):\n",
    "        for aFirm in cmv.firmList:\n",
    "            aFirm.buyInvestmentGoods(k)\n",
    "            if k==cmv.nOfInvestmentActions-1:\n",
    "                cmv.totalInvestmentSeries[-1]+=aFirm.madeInvestment\n",
    "                cmv.totalInvestmentInfraVarSeries[-1]+=aFirm.madeInvestment**2\n",
    "    cmv.totalInvestmentInfraVarSeries[-1]=\\\n",
    "                              (cmv.totalInvestmentInfraVarSeries[-1]/cmv.firmNum - \\\n",
    "                              (cmv.totalInvestmentSeries[-1]/cmv.firmNum)**2)\n",
    "                "
   ]
  },
  {
   "cell_type": "code",
   "execution_count": 10,
   "id": "twelve-aerospace",
   "metadata": {
    "scrolled": true
   },
   "outputs": [],
   "source": [
    "def accountCashMoneyAll():\n",
    "    cmv.totalCashMoneySeries.append(0)\n",
    "    cmv.totalCashMoneyInfraVarSeries.append(0)\n",
    "    for anAgent in cmv.agentList:\n",
    "        cmv.totalCashMoneySeries[-1]+=anAgent.cashMoney\n",
    "        cmv.totalCashMoneyInfraVarSeries[-1]+=anAgent.cashMoney**2\n",
    "\n",
    "    cmv.totalCashMoneyInfraVarSeries[-1]=\\\n",
    "                              (cmv.totalCashMoneyInfraVarSeries[-1]/cmv.agentNum - \\\n",
    "                              (cmv.totalCashMoneySeries[-1]/cmv.agentNum)**2)\n",
    "    if abs(cmv.totalCashMoneySeries[-1])<0.00001: \\\n",
    "        cmv.totalCashMoneySeries[-1]=0\n"
   ]
  },
  {
   "cell_type": "code",
   "execution_count": 11,
   "id": "daily-hobby",
   "metadata": {},
   "outputs": [],
   "source": [
    "def accountCheckingAccountAll():\n",
    "    cmv.totalCheckingAccountSeries.append(0)\n",
    "    cmv.totalCheckingAccountInfraVarSeries.append(0)\n",
    "    for anAgent in cmv.agentList:\n",
    "        cmv.totalCheckingAccountSeries[-1]+=anAgent.checkingAccount\n",
    "        cmv.totalCheckingAccountInfraVarSeries[-1]+=anAgent.checkingAccount**2\n",
    "\n",
    "    cmv.totalCheckingAccountInfraVarSeries[-1]=\\\n",
    "                              (cmv.totalCheckingAccountInfraVarSeries[-1]/cmv.agentNum - \\\n",
    "                              (cmv.totalCheckingAccountSeries[-1]/cmv.agentNum)**2)\n",
    "    if abs(cmv.totalCheckingAccountSeries[-1])<0.00001: \\\n",
    "        cmv.totalCheckingAccountSeries[-1]=0\n"
   ]
  },
  {
   "cell_type": "code",
   "execution_count": 12,
   "id": "soviet-johnson",
   "metadata": {},
   "outputs": [],
   "source": [
    "def accountBankAccountAll(): #temporary - this is an attribute of firms\n",
    "    cmv.totalBankAccountSeries.append(0)\n",
    "    cmv.totalBankAccountInfraVarSeries.append(0)\n",
    "    for aFirm in cmv.firmList:\n",
    "        cmv.totalBankAccountSeries[-1]+=aFirm.bankAccount\n",
    "        cmv.totalBankAccountInfraVarSeries[-1]+=aFirm.bankAccount**2\n",
    "\n",
    "    cmv.totalBankAccountInfraVarSeries[-1]=\\\n",
    "                              (cmv.totalBankAccountInfraVarSeries[-1]/cmv.firmNum - \\\n",
    "                              (cmv.totalBankAccountSeries[-1]/cmv.firmNum)**2)\n",
    "    if abs(cmv.totalBankAccountSeries[-1])<0.00001: \\\n",
    "        cmv.totalBankAccountSeries[-1]=0\n"
   ]
  },
  {
   "cell_type": "code",
   "execution_count": 13,
   "id": "exceptional-management",
   "metadata": {
    "scrolled": false
   },
   "outputs": [],
   "source": [
    "def makeBalanceSheetAll():\n",
    "    cmv.totalProfitSeries.append(0)\n",
    "    cmv.totalProfitInfraVarSeries.append(0)\n",
    "    cmv.totalFinalInventoriesSeries.append(0)\n",
    "    cmv.totalFinalInventoriesInfraVarSeries.append(0)\n",
    "    cmv.totalLostProductionSeries.append(0)\n",
    "    for aFirm in cmv.firmList:\n",
    "        aFirm.makeBalanceSheet()\n",
    "        cmv.totalProfitSeries[-1]+=aFirm.profit\n",
    "        cmv.totalProfitInfraVarSeries[-1]+=aFirm.profit**2\n",
    "        cmv.totalFinalInventoriesSeries[-1]+=aFirm.finalInventories\n",
    "        cmv.totalFinalInventoriesInfraVarSeries[-1]+=aFirm.finalInventories**2\n",
    "        cmv.totalLostProductionSeries[-1]+=aFirm.lostProduction\n",
    "\n",
    "    cmv.totalProfitInfraVarSeries[-1]=(cmv.totalProfitInfraVarSeries[-1]/cmv.firmNum - \\\n",
    "                                          (cmv.totalProfitSeries[-1]/cmv.firmNum)**2)\n",
    "    cmv.totalFinalInventoriesInfraVarSeries[-1]=\\\n",
    "                            (cmv.totalFinalInventoriesInfraVarSeries[-1]/cmv.firmNum - \\\n",
    "                            (cmv.totalFinalInventoriesSeries[-1]/cmv.firmNum)**2)\n",
    "                                            "
   ]
  },
  {
   "cell_type": "code",
   "execution_count": 14,
   "id": "arctic-terminology",
   "metadata": {},
   "outputs": [],
   "source": [
    "def distributeDividendAll():\n",
    "    for aFirm in cmv.firmList:\n",
    "        aFirm.distributeDividend()"
   ]
  },
  {
   "cell_type": "markdown",
   "id": "dense-journey",
   "metadata": {},
   "source": [
    "\n",
    "### model parameters\n",
    "\n"
   ]
  },
  {
   "cell_type": "code",
   "execution_count": 15,
   "id": "designing-participant",
   "metadata": {
    "scrolled": false
   },
   "outputs": [],
   "source": [
    "cmv.agentNum=100\n",
    "entrepreneurMin=5\n",
    "entrepreneurMax=20\n",
    "\n",
    "cmv.price=1\n",
    "\n",
    "cmv.unemploymentRate=0\n",
    "cmv.dimensionalHeterogeneity=True\n",
    "\n",
    "cmv.productivityMin=0.8\n",
    "cmv.productivityMax=1.2\n",
    "cmv.productivityDeltaMin=cmv.productivityMin-1\n",
    "cmv.productivityDeltaMax=cmv.productivityMax-1\n",
    "\n",
    "cmv.maxDeperibilityShare=0.5\n",
    "\n",
    "cmv.wage=1\n",
    "cmv.rho=1\n",
    "cmv.consumptionRateMin=0.5\n",
    "cmv.consumptionRateMax=1\n",
    "\n",
    "cmv.investmentMin=1\n",
    "cmv.investmentMax=10\n",
    "\n",
    "cmv.nOfConsumptionActions=30\n",
    "cmv.nOfInvestmentActions=10\n",
    "cmv.ncycles=100\n",
    "cmv.cycle=0"
   ]
  },
  {
   "cell_type": "markdown",
   "id": "neutral-cylinder",
   "metadata": {},
   "source": [
    "## <p style=\"color:red\">model machine</p>\n",
    "\n",
    "- a random seed determining the random number sequences\n",
    "\n",
    "\n",
    "\n",
    "- a list of actions (meta ones)\n",
    "\n",
    "\n",
    "\n",
    "- an engine excecuting the meta actions\n",
    "\n",
    "\n",
    "\n",
    "- display tools (their code is hidden into the file `tools.py`)\n",
    "\n",
    "\n"
   ]
  },
  {
   "cell_type": "code",
   "execution_count": 16,
   "id": "sealed-valuation",
   "metadata": {
    "scrolled": false
   },
   "outputs": [
    {
     "name": "stdout",
     "output_type": "stream",
     "text": [
      "-------------------------------------------\n",
      "entrepreneur number 19\n",
      "-------------------------------------------\n",
      "\n",
      "-------------------------------------------\n",
      "\"national\" accounts\n",
      "-------------------------------------------\n",
      "\n",
      "t\ttotal\tlost\tinitial\t\tconsum.\tinvest.\tfinal\n",
      "\tproduc.\tproduc.\tinvent.\t\t\t\tinvent.\n",
      "  1\t100.8\t0.0\t0.0\t    |\t57.7\t53.1\t0.0\n",
      "  2\t101.8\t0.0\t0.0\t    |\t57.1\t63.9\t0.0\n",
      "  3\t105.1\t-0.4\t0.0\t    |\t62.2\t57.0\t3.2\n",
      "  4\t108.3\t0.0\t3.2\t    |\t70.7\t28.7\t0.0\n",
      "  5\t107.9\t0.0\t0.0\t    |\t73.7\t59.6\t0.0\n",
      "  6\t103.9\t0.0\t0.0\t    |\t77.2\t27.8\t0.0\n",
      "  7\t104.0\t0.0\t0.0\t    |\t82.6\t27.8\t0.0\n",
      "  8\t107.1\t0.0\t0.0\t    |\t87.6\t19.0\t0.0\n",
      "  9\t110.4\t0.0\t0.0\t    |\t96.2\t11.3\t0.0\n",
      " 10\t104.6\t0.0\t0.0\t    |\t85.4\t25.5\t0.0\n",
      " 11\t106.6\t0.0\t0.0\t    |\t104.2\t19.3\t0.0\n",
      " 12\t106.2\t0.0\t0.0\t    |\t103.5\t0.0\t0.0\n",
      " 13\t100.0\t0.0\t0.0\t    |\t98.9\t1.1\t0.0\n",
      " 14\t102.5\t0.0\t0.0\t    |\t93.7\t8.7\t0.0\n",
      " 15\t100.5\t0.0\t0.0\t    |\t100.5\t6.8\t0.0\n",
      " 16\t108.9\t0.0\t0.0\t    |\t108.9\t3.4\t0.0\n",
      " 17\t107.7\t0.0\t0.0\t    |\t107.7\t3.4\t0.0\n",
      " 18\t109.5\t0.0\t0.0\t    |\t96.5\t20.9\t0.0\n",
      " 19\t108.9\t0.0\t0.0\t    |\t108.9\t4.8\t0.0\n",
      " 20\t111.9\t0.0\t0.0\t    |\t111.9\t9.7\t0.0\n",
      " 21\t113.7\t0.0\t0.0\t    |\t113.7\t0.0\t0.0\n",
      " 22\t112.6\t0.0\t0.0\t    |\t112.6\t0.0\t0.0\n",
      " 23\t106.7\t0.0\t0.0\t    |\t106.7\t0.0\t0.0\n",
      " 24\t109.1\t0.0\t0.0\t    |\t109.1\t0.0\t0.0\n",
      " 25\t111.5\t0.0\t0.0\t    |\t111.5\t0.0\t0.0\n",
      " 26\t114.7\t0.0\t0.0\t    |\t114.7\t0.0\t0.0\n",
      " 27\t113.9\t0.0\t0.0\t    |\t113.9\t0.0\t0.0\n",
      " 28\t114.9\t0.0\t0.0\t    |\t114.9\t0.0\t0.0\n",
      " 29\t120.6\t0.0\t0.0\t    |\t120.6\t0.0\t0.0\n",
      " 30\t120.9\t0.0\t0.0\t    |\t120.9\t0.0\t0.0\n",
      " 31\t117.9\t0.0\t0.0\t    |\t117.9\t0.0\t0.0\n",
      " 32\t110.1\t0.0\t0.0\t    |\t110.1\t0.0\t0.0\n",
      " 33\t107.6\t0.0\t0.0\t    |\t107.6\t0.0\t0.0\n",
      " 34\t109.3\t0.0\t0.0\t    |\t109.3\t0.0\t0.0\n",
      " 35\t103.9\t0.0\t0.0\t    |\t103.9\t0.0\t0.0\n",
      " 36\t103.6\t0.0\t0.0\t    |\t103.6\t0.0\t0.0\n",
      " 37\t108.1\t0.0\t0.0\t    |\t108.1\t0.0\t0.0\n",
      " 38\t102.8\t0.0\t0.0\t    |\t102.8\t0.0\t0.0\n",
      " 39\t104.2\t0.0\t0.0\t    |\t104.2\t0.0\t0.0\n",
      " 40\t106.9\t0.0\t0.0\t    |\t106.9\t0.0\t0.0\n",
      " 41\t104.1\t0.0\t0.0\t    |\t104.1\t0.0\t0.0\n",
      " 42\t99.6\t0.0\t0.0\t    |\t99.6\t0.0\t0.0\n",
      " 43\t99.4\t0.0\t0.0\t    |\t99.4\t0.0\t0.0\n",
      " 44\t99.4\t0.0\t0.0\t    |\t99.4\t0.0\t0.0\n",
      " 45\t101.6\t0.0\t0.0\t    |\t101.6\t0.0\t0.0\n",
      " 46\t101.2\t0.0\t0.0\t    |\t101.2\t0.0\t0.0\n",
      " 47\t101.9\t0.0\t0.0\t    |\t101.9\t0.0\t0.0\n",
      " 48\t102.5\t0.0\t0.0\t    |\t102.5\t0.0\t0.0\n",
      " 49\t108.3\t0.0\t0.0\t    |\t108.3\t0.0\t0.0\n",
      " 50\t108.3\t0.0\t0.0\t    |\t108.3\t0.0\t0.0\n",
      " 51\t115.6\t0.0\t0.0\t    |\t115.6\t0.0\t0.0\n",
      " 52\t117.4\t0.0\t0.0\t    |\t117.4\t0.0\t0.0\n",
      " 53\t122.1\t0.0\t0.0\t    |\t122.1\t0.0\t0.0\n",
      " 54\t118.5\t0.0\t0.0\t    |\t118.5\t0.0\t0.0\n",
      " 55\t114.5\t0.0\t0.0\t    |\t114.5\t0.0\t0.0\n",
      " 56\t108.2\t0.0\t0.0\t    |\t108.2\t0.0\t0.0\n",
      " 57\t106.9\t0.0\t0.0\t    |\t106.9\t0.0\t0.0\n",
      " 58\t111.6\t0.0\t0.0\t    |\t111.6\t0.0\t0.0\n",
      " 59\t110.5\t0.0\t0.0\t    |\t110.5\t0.0\t0.0\n",
      " 60\t103.2\t0.0\t0.0\t    |\t103.2\t0.0\t0.0\n",
      " 61\t99.3\t0.0\t0.0\t    |\t99.3\t0.0\t0.0\n",
      " 62\t98.3\t0.0\t0.0\t    |\t98.3\t0.0\t0.0\n",
      " 63\t96.2\t0.0\t0.0\t    |\t96.2\t0.0\t0.0\n",
      " 64\t92.3\t0.0\t0.0\t    |\t92.3\t0.0\t0.0\n",
      " 65\t90.3\t0.0\t0.0\t    |\t90.3\t0.0\t0.0\n",
      " 66\t88.4\t0.0\t0.0\t    |\t88.4\t0.0\t0.0\n",
      " 67\t95.5\t0.0\t0.0\t    |\t95.5\t0.0\t0.0\n",
      " 68\t94.5\t0.0\t0.0\t    |\t94.5\t0.0\t0.0\n",
      " 69\t97.2\t0.0\t0.0\t    |\t97.2\t0.0\t0.0\n",
      " 70\t104.9\t0.0\t0.0\t    |\t104.9\t0.0\t0.0\n",
      " 71\t107.6\t0.0\t0.0\t    |\t107.6\t0.0\t0.0\n",
      " 72\t112.1\t0.0\t0.0\t    |\t112.1\t0.0\t0.0\n",
      " 73\t106.9\t0.0\t0.0\t    |\t106.9\t0.0\t0.0\n",
      " 74\t105.4\t0.0\t0.0\t    |\t105.4\t0.0\t0.0\n",
      " 75\t111.0\t0.0\t0.0\t    |\t111.0\t0.0\t0.0\n",
      " 76\t112.5\t0.0\t0.0\t    |\t112.5\t0.0\t0.0\n",
      " 77\t112.4\t0.0\t0.0\t    |\t112.4\t0.0\t0.0\n",
      " 78\t111.6\t0.0\t0.0\t    |\t111.6\t0.0\t0.0\n",
      " 79\t105.6\t0.0\t0.0\t    |\t105.6\t0.0\t0.0\n",
      " 80\t97.4\t0.0\t0.0\t    |\t97.4\t0.0\t0.0\n",
      " 81\t97.5\t0.0\t0.0\t    |\t97.5\t0.0\t0.0\n",
      " 82\t98.1\t0.0\t0.0\t    |\t98.1\t0.0\t0.0\n",
      " 83\t98.3\t0.0\t0.0\t    |\t98.3\t0.0\t0.0\n",
      " 84\t101.4\t0.0\t0.0\t    |\t101.4\t0.0\t0.0\n",
      " 85\t101.5\t0.0\t0.0\t    |\t101.5\t0.0\t0.0\n",
      " 86\t98.9\t0.0\t0.0\t    |\t98.9\t0.0\t0.0\n",
      " 87\t103.0\t0.0\t0.0\t    |\t103.0\t0.0\t0.0\n",
      " 88\t104.9\t0.0\t0.0\t    |\t104.9\t0.0\t0.0\n",
      " 89\t103.2\t0.0\t0.0\t    |\t103.2\t0.0\t0.0\n",
      " 90\t105.7\t0.0\t0.0\t    |\t105.7\t0.0\t0.0\n",
      " 91\t107.9\t0.0\t0.0\t    |\t107.9\t0.0\t0.0\n",
      " 92\t103.2\t0.0\t0.0\t    |\t103.2\t0.0\t0.0\n",
      " 93\t103.1\t0.0\t0.0\t    |\t103.1\t0.0\t0.0\n",
      " 94\t99.9\t0.0\t0.0\t    |\t99.9\t0.0\t0.0\n",
      " 95\t102.9\t0.0\t0.0\t    |\t102.9\t0.0\t0.0\n",
      " 96\t107.8\t0.0\t0.0\t    |\t107.8\t0.0\t0.0\n",
      " 97\t107.7\t0.0\t0.0\t    |\t107.7\t0.0\t0.0\n",
      " 98\t108.4\t0.0\t0.0\t    |\t108.4\t0.0\t0.0\n",
      " 99\t102.5\t0.0\t0.0\t    |\t102.5\t0.0\t0.0\n",
      "100\t97.8\t0.0\t0.0\t    |\t97.8\t0.0\t0.0\n",
      "\n",
      "\n",
      "\n",
      "\n"
     ]
    },
    {
     "data": {
      "image/png": "[encoded data removed]",
      "text/plain": [
       "<Figure size 432x288 with 1 Axes>"
      ]
     },
     "metadata": {
      "needs_background": "light"
     },
     "output_type": "display_data"
    },
    {
     "data": {
      "image/png": "[encoded data removed]",
      "text/plain": [
       "<Figure size 432x288 with 2 Axes>"
      ]
     },
     "metadata": {},
     "output_type": "display_data"
    },
    {
     "data": {
      "image/png": "[encoded data removed]",
      "text/plain": [
       "<Figure size 432x288 with 2 Axes>"
      ]
     },
     "metadata": {},
     "output_type": "display_data"
    },
    {
     "data": {
      "image/png": "[encoded data removed]",
      "text/plain": [
       "<Figure size 432x288 with 2 Axes>"
      ]
     },
     "metadata": {},
     "output_type": "display_data"
    },
    {
     "data": {
      "image/png": "[encoded data removed]",
      "text/plain": [
       "<Figure size 432x288 with 2 Axes>"
      ]
     },
     "metadata": {},
     "output_type": "display_data"
    },
    {
     "data": {
      "image/png": "[encoded data removed]",
      "text/plain": [
       "<Figure size 432x288 with 2 Axes>"
      ]
     },
     "metadata": {},
     "output_type": "display_data"
    },
    {
     "data": {
      "image/png": "[encoded data removed]",
      "text/plain": [
       "<Figure size 432x288 with 2 Axes>"
      ]
     },
     "metadata": {},
     "output_type": "display_data"
    },
    {
     "data": {
      "image/png": "[encoded data removed]",
      "text/plain": [
       "<Figure size 432x288 with 2 Axes>"
      ]
     },
     "metadata": {},
     "output_type": "display_data"
    },
    {
     "data": {
      "image/png": "[encoded data removed]",
      "text/plain": [
       "<Figure size 432x288 with 2 Axes>"
      ]
     },
     "metadata": {},
     "output_type": "display_data"
    },
    {
     "data": {
      "image/png": "[encoded data removed]",
      "text/plain": [
       "<Figure size 432x288 with 2 Axes>"
      ]
     },
     "metadata": {},
     "output_type": "display_data"
    }
   ],
   "source": [
    "r.seed(121314)\n",
    "\n",
    "setup()\n",
    "\n",
    "cmv.actionList=[\"produceAll()\",\"payWagesAll()\",\"buyConsumptionGoodsAll()\",\\\n",
    "                \"buyInvestmentGoodsAll()\",\"makeBalanceSheetAll()\",\\\n",
    "                \"distributeDividendAll()\",\"accountCashMoneyAll()\",\\\n",
    "                \"accountCheckingAccountAll()\",\"accountBankAccountAll()\",\\\n",
    "                ]\n",
    "\n",
    "for cmv.cycle in range(cmv.ncycles):\n",
    "    for anAction in cmv.actionList:\n",
    "            exec(anAction)\n",
    "\n",
    "makeHist()   \n",
    "plot1()\n",
    "plot2()\n",
    "plot3()\n",
    "plot4()\n",
    "plot5()\n",
    "plot6()\n",
    "plot7()\n",
    "plot8()\n",
    "plot9()\n",
    "\n",
    "nationalAccounts()"
   ]
  },
  {
   "cell_type": "code",
   "execution_count": 17,
   "id": "honest-photograph",
   "metadata": {},
   "outputs": [
    {
     "data": {
      "text/plain": [
       "[<__main__.Agent at 0x7fb92390ed60>,\n",
       " <__main__.Agent at 0x7fb92392ffd0>,\n",
       " <__main__.Agent at 0x7fb92391b370>]"
      ]
     },
     "execution_count": 17,
     "metadata": {},
     "output_type": "execute_result"
    }
   ],
   "source": [
    "list(cmv.entrepreneurList[1].myFirm.myWorkers)"
   ]
  },
  {
   "cell_type": "code",
   "execution_count": 18,
   "id": "qualified-estate",
   "metadata": {},
   "outputs": [
    {
     "data": {
      "text/plain": [
       "62"
      ]
     },
     "execution_count": 18,
     "metadata": {},
     "output_type": "execute_result"
    }
   ],
   "source": [
    "cmv.entrepreneurList[1].myFirm.num"
   ]
  },
  {
   "cell_type": "code",
   "execution_count": 19,
   "id": "ignored-spell",
   "metadata": {},
   "outputs": [
    {
     "data": {
      "text/plain": [
       "62"
      ]
     },
     "execution_count": 19,
     "metadata": {},
     "output_type": "execute_result"
    }
   ],
   "source": [
    "cmv.entrepreneurList[1].myFirm.num"
   ]
  },
  {
   "cell_type": "code",
   "execution_count": 20,
   "id": "typical-washer",
   "metadata": {},
   "outputs": [
    {
     "data": {
      "text/plain": [
       "[12, 96, 31, 80, 16, 40, 25, 34, 84, 37, 60, 24, 62, 33, 15, 74, 61, 95, 88]"
      ]
     },
     "execution_count": 20,
     "metadata": {},
     "output_type": "execute_result"
    }
   ],
   "source": [
    "list(cmv.firmList[i].num for i in range(cmv.firmNum))"
   ]
  },
  {
   "cell_type": "code",
   "execution_count": 21,
   "id": "sized-charge",
   "metadata": {},
   "outputs": [
    {
     "data": {
      "text/plain": [
       "[25, 62, 61, 12, 74, 80, 60, 33, 24, 16, 88, 84, 37, 31, 34, 95, 15, 96, 40]"
      ]
     },
     "execution_count": 21,
     "metadata": {},
     "output_type": "execute_result"
    }
   ],
   "source": [
    "list(cmv.entrepreneurList[i].num for i in range(cmv.firmNum))"
   ]
  },
  {
   "cell_type": "code",
   "execution_count": 22,
   "id": "sufficient-darkness",
   "metadata": {
    "scrolled": true
   },
   "outputs": [],
   "source": [
    "# last cycle\n",
    "tCashNe=0\n",
    "for anA in cmv.agentList:\n",
    "    if not anA.entrepreneur: tCashNe+=anA.cashMoney\n",
    "\n",
    "tCashE=0\n",
    "for anA in cmv.agentList:\n",
    "    if anA.entrepreneur: tCashE+=anA.cashMoney"
   ]
  },
  {
   "cell_type": "code",
   "execution_count": 23,
   "id": "vocal-transparency",
   "metadata": {
    "scrolled": true
   },
   "outputs": [
    {
     "data": {
      "text/plain": [
       "0"
      ]
     },
     "execution_count": 23,
     "metadata": {},
     "output_type": "execute_result"
    }
   ],
   "source": [
    "tCashNe"
   ]
  },
  {
   "cell_type": "code",
   "execution_count": 24,
   "id": "intelligent-powell",
   "metadata": {
    "scrolled": true
   },
   "outputs": [
    {
     "data": {
      "text/plain": [
       "0"
      ]
     },
     "execution_count": 24,
     "metadata": {},
     "output_type": "execute_result"
    }
   ],
   "source": [
    "tCashE"
   ]
  },
  {
   "cell_type": "code",
   "execution_count": 25,
   "id": "native-textbook",
   "metadata": {
    "scrolled": true
   },
   "outputs": [],
   "source": [
    "tC=0\n",
    "for i in range(cmv.ncycles):\n",
    "    tC+=cmv.totalConsumptionSeries[i]"
   ]
  },
  {
   "cell_type": "code",
   "execution_count": 26,
   "id": "smart-employment",
   "metadata": {
    "scrolled": true
   },
   "outputs": [
    {
     "data": {
      "text/plain": [
       "10245.851067733583"
      ]
     },
     "execution_count": 26,
     "metadata": {},
     "output_type": "execute_result"
    }
   ],
   "source": [
    "tC"
   ]
  },
  {
   "cell_type": "code",
   "execution_count": 27,
   "id": "distinguished-bacon",
   "metadata": {
    "scrolled": true
   },
   "outputs": [],
   "source": [
    "tCE=0\n",
    "for i in range(cmv.ncycles):\n",
    "    tCE+=cmv.totalEntrepreneurConsumptionSeries[i]"
   ]
  },
  {
   "cell_type": "code",
   "execution_count": 28,
   "id": "alive-electricity",
   "metadata": {
    "scrolled": true
   },
   "outputs": [
    {
     "data": {
      "text/plain": [
       "8400.1157173753"
      ]
     },
     "execution_count": 28,
     "metadata": {},
     "output_type": "execute_result"
    }
   ],
   "source": [
    "tCE"
   ]
  },
  {
   "cell_type": "code",
   "execution_count": 29,
   "id": "sufficient-placement",
   "metadata": {
    "scrolled": true
   },
   "outputs": [],
   "source": [
    "tCNe=0\n",
    "for i in range(cmv.ncycles):\n",
    "    tCNe+=cmv.totalNonEntrepreneurConsumptionSeries[i]"
   ]
  },
  {
   "cell_type": "code",
   "execution_count": 30,
   "id": "regional-somerset",
   "metadata": {
    "scrolled": true
   },
   "outputs": [
    {
     "data": {
      "text/plain": [
       "1845.735350358281"
      ]
     },
     "execution_count": 30,
     "metadata": {},
     "output_type": "execute_result"
    }
   ],
   "source": [
    "tCNe"
   ]
  },
  {
   "cell_type": "code",
   "execution_count": 31,
   "id": "great-dublin",
   "metadata": {
    "scrolled": true
   },
   "outputs": [],
   "source": [
    "tI=0\n",
    "for i in range(cmv.ncycles):\n",
    "    tI+=cmv.totalInvestmentSeries[i]"
   ]
  },
  {
   "cell_type": "code",
   "execution_count": 32,
   "id": "responsible-appendix",
   "metadata": {
    "scrolled": true
   },
   "outputs": [
    {
     "data": {
      "text/plain": [
       "451.794872180907"
      ]
     },
     "execution_count": 32,
     "metadata": {},
     "output_type": "execute_result"
    }
   ],
   "source": [
    "tI"
   ]
  },
  {
   "cell_type": "code",
   "execution_count": 33,
   "id": "fancy-geography",
   "metadata": {},
   "outputs": [
    {
     "data": {
      "text/plain": [
       "[46.47787584672385,\n",
       " 97.72162338279661,\n",
       " 146.01897608585384,\n",
       " 190.3849581326352,\n",
       " 230.51849518867536,\n",
       " 268.92336130520624,\n",
       " 303.0793481682827,\n",
       " 336.3473862225202,\n",
       " 363.14552064683454,\n",
       " 398.0930201409866,\n",
       " 417.6020106242321,\n",
       " 438.39321856427824,\n",
       " 463.32731753967425,\n",
       " 495.4342527056438,\n",
       " 518.3332069028418,\n",
       " 535.7265450696696,\n",
       " 556.7557252543152,\n",
       " 592.9177593724031,\n",
       " 615.7998353032273,\n",
       " 636.0792620854112,\n",
       " 656.7844728661756,\n",
       " 680.8510703796377,\n",
       " 708.3636955833955,\n",
       " 736.3109854480689,\n",
       " 763.2834827714676,\n",
       " 785.379651295924,\n",
       " 807.0267395396845,\n",
       " 826.9691141255577,\n",
       " 844.7196402974997,\n",
       " 863.4459874052638,\n",
       " 884.88992840161,\n",
       " 914.8714963160605,\n",
       " 946.8009397406269,\n",
       " 976.8183076699834,\n",
       " 1009.0394158166786,\n",
       " 1042.735366631686,\n",
       " 1076.71141454557,\n",
       " 1114.945652216228,\n",
       " 1152.1584720398753,\n",
       " 1189.0662156488168,\n",
       " 1225.688039343725,\n",
       " 1263.6579855007978,\n",
       " 1299.8806493645839,\n",
       " 1339.4416649037232,\n",
       " 1376.4007470895972,\n",
       " 1416.8654682746153,\n",
       " 1458.354209223156,\n",
       " 1501.4795925344613,\n",
       " 1540.3561314827602,\n",
       " 1577.040517408944,\n",
       " 1608.078701216671,\n",
       " 1638.4084272516034,\n",
       " 1663.5561023879286,\n",
       " 1692.899614874657,\n",
       " 1726.830378500336,\n",
       " 1766.4137656666514,\n",
       " 1808.044610404824,\n",
       " 1843.6877592479882,\n",
       " 1878.1215527550585,\n",
       " 1916.483733687401,\n",
       " 1959.2834984053552,\n",
       " 2002.201797191501,\n",
       " 2045.8015594310104,\n",
       " 2090.180334346918,\n",
       " 2134.2328467927728,\n",
       " 2178.7725827813797,\n",
       " 2219.6144828332353,\n",
       " 2260.756071208197,\n",
       " 2300.986058447032,\n",
       " 2336.29360726773,\n",
       " 2368.146468438585,\n",
       " 2397.621571493265,\n",
       " 2429.889080662498,\n",
       " 2461.1505030322323,\n",
       " 2490.673243583528,\n",
       " 2517.085345351767,\n",
       " 2541.676488536417,\n",
       " 2568.2915382917467,\n",
       " 2600.109552761623,\n",
       " 2637.027443822933,\n",
       " 2672.5757562153276,\n",
       " 2709.568519271004,\n",
       " 2747.692449375095,\n",
       " 2783.83420959683,\n",
       " 2820.115920492525,\n",
       " 2857.494741396218,\n",
       " 2894.272139667515,\n",
       " 2928.65329368341,\n",
       " 2960.173687919346,\n",
       " 2989.0668681135803,\n",
       " 3013.427436812749,\n",
       " 3043.172297373653,\n",
       " 3075.267783463768,\n",
       " 3110.958120564507,\n",
       " 3146.7272588825417,\n",
       " 3178.5635570456643,\n",
       " 3210.740506224715,\n",
       " 3241.583145641319,\n",
       " 3277.1351112577277,\n",
       " 3315.0908843621564]"
      ]
     },
     "execution_count": 33,
     "metadata": {},
     "output_type": "execute_result"
    }
   ],
   "source": [
    "cmv.totalCheckingAccountSeries"
   ]
  },
  {
   "cell_type": "code",
   "execution_count": 34,
   "id": "thorough-thesaurus",
   "metadata": {},
   "outputs": [
    {
     "data": {
      "text/plain": [
       "[-46.477875846723826,\n",
       " -97.72162338279657,\n",
       " -146.01897608585375,\n",
       " -190.384958132635,\n",
       " -230.51849518867533,\n",
       " -268.9233613052062,\n",
       " -303.07934816828254,\n",
       " -336.3473862225202,\n",
       " -363.1455206468344,\n",
       " -398.09302014098665,\n",
       " -417.602010624232,\n",
       " -438.39321856427813,\n",
       " -463.327317539674,\n",
       " -495.4342527056436,\n",
       " -518.3332069028418,\n",
       " -535.7265450696696,\n",
       " -556.755725254315,\n",
       " -592.9177593724031,\n",
       " -615.799835303227,\n",
       " -636.0792620854111,\n",
       " -656.7844728661753,\n",
       " -680.8510703796369,\n",
       " -708.3636955833952,\n",
       " -736.3109854480682,\n",
       " -763.283482771467,\n",
       " -785.3796512959229,\n",
       " -807.0267395396834,\n",
       " -826.9691141255565,\n",
       " -844.7196402974988,\n",
       " -863.4459874052629,\n",
       " -884.8899284016094,\n",
       " -914.8714963160597,\n",
       " -946.8009397406253,\n",
       " -976.8183076699821,\n",
       " -1009.0394158166773,\n",
       " -1042.735366631685,\n",
       " -1076.711414545569,\n",
       " -1114.945652216226,\n",
       " -1152.1584720398741,\n",
       " -1189.0662156488152,\n",
       " -1225.6880393437236,\n",
       " -1263.6579855007967,\n",
       " -1299.880649364582,\n",
       " -1339.4416649037214,\n",
       " -1376.4007470895958,\n",
       " -1416.8654682746132,\n",
       " -1458.3542092231546,\n",
       " -1501.4795925344602,\n",
       " -1540.3561314827589,\n",
       " -1577.0405174089422,\n",
       " -1608.0787012166702,\n",
       " -1638.4084272516027,\n",
       " -1663.5561023879284,\n",
       " -1692.899614874656,\n",
       " -1726.830378500335,\n",
       " -1766.413765666651,\n",
       " -1808.0446104048226,\n",
       " -1843.6877592479868,\n",
       " -1878.121552755058,\n",
       " -1916.4837336874004,\n",
       " -1959.2834984053538,\n",
       " -2002.2017971914997,\n",
       " -2045.8015594310093,\n",
       " -2090.180334346916,\n",
       " -2134.2328467927705,\n",
       " -2178.7725827813774,\n",
       " -2219.6144828332335,\n",
       " -2260.756071208194,\n",
       " -2300.986058447031,\n",
       " -2336.2936072677285,\n",
       " -2368.146468438583,\n",
       " -2397.6215714932628,\n",
       " -2429.8890806624972,\n",
       " -2461.1505030322305,\n",
       " -2490.673243583525,\n",
       " -2517.0853453517657,\n",
       " -2541.676488536415,\n",
       " -2568.2915382917445,\n",
       " -2600.1095527616203,\n",
       " -2637.0274438229303,\n",
       " -2672.575756215325,\n",
       " -2709.568519271001,\n",
       " -2747.6924493750917,\n",
       " -2783.834209596829,\n",
       " -2820.1159204925225,\n",
       " -2857.4947413962154,\n",
       " -2894.272139667514,\n",
       " -2928.6532936834087,\n",
       " -2960.173687919344,\n",
       " -2989.066868113579,\n",
       " -3013.4274368127467,\n",
       " -3043.172297373651,\n",
       " -3075.2677834637666,\n",
       " -3110.9581205645054,\n",
       " -3146.7272588825413,\n",
       " -3178.563557045662,\n",
       " -3210.740506224713,\n",
       " -3241.5831456413175,\n",
       " -3277.1351112577267,\n",
       " -3315.0908843621546]"
      ]
     },
     "execution_count": 34,
     "metadata": {},
     "output_type": "execute_result"
    }
   ],
   "source": [
    "cmv.totalBankAccountSeries"
   ]
  },
  {
   "cell_type": "code",
   "execution_count": 35,
   "id": "particular-climate",
   "metadata": {},
   "outputs": [
    {
     "data": {
      "text/plain": [
       "[0.34022502475385896,\n",
       " 2.4328694296312565,\n",
       " 0,\n",
       " 1.4434943107256166,\n",
       " 0.24874180894334263,\n",
       " 2.0136411321856724,\n",
       " 2.167793436095419,\n",
       " 1.6856168405602836,\n",
       " 0.8620595700736146,\n",
       " 2.1471271393526483,\n",
       " 0.9552097425970478,\n",
       " 1.4153198457351597,\n",
       " 2.328234108494451,\n",
       " 1.7855826791240166,\n",
       " 2.4165419210251695,\n",
       " 2.4140794898545694,\n",
       " 0.7523061413230266,\n",
       " 1.1276499982445258,\n",
       " 1.7342485925663358]"
      ]
     },
     "execution_count": 35,
     "metadata": {},
     "output_type": "execute_result"
    }
   ],
   "source": [
    "list(cmv.firmList[i].productivity for i in range(cmv.firmNum))"
   ]
  },
  {
   "cell_type": "code",
   "execution_count": 36,
   "id": "compatible-craft",
   "metadata": {},
   "outputs": [
    {
     "data": {
      "text/plain": [
       "[0.6804500495077179,\n",
       " 2.4328694296312565,\n",
       " 0,\n",
       " 10.104460175079316,\n",
       " 5.472319796753538,\n",
       " 8.05456452874269,\n",
       " 2.167793436095419,\n",
       " 6.742467362241134,\n",
       " 1.7241191401472291,\n",
       " 19.324144254173834,\n",
       " 1.9104194851940957,\n",
       " 2.8306396914703194,\n",
       " 6.984702325483353,\n",
       " 1.7855826791240166,\n",
       " 2.4165419210251695,\n",
       " 4.828158979709139,\n",
       " 2.25691842396908,\n",
       " 14.659449977178836,\n",
       " 3.4684971851326716]"
      ]
     },
     "execution_count": 36,
     "metadata": {},
     "output_type": "execute_result"
    }
   ],
   "source": [
    "list(cmv.firmList[i].production for i in range(cmv.firmNum))"
   ]
  },
  {
   "cell_type": "code",
   "execution_count": 37,
   "id": "authorized-lover",
   "metadata": {},
   "outputs": [
    {
     "data": {
      "text/plain": [
       "[-65.85702100057969,\n",
       " -17.78197481516105,\n",
       " -1247.8038665897943,\n",
       " -10.60632477643691,\n",
       " -1404.2902329645735,\n",
       " -32.423973523105715,\n",
       " -31.823757656085373,\n",
       " -26.654529420288632,\n",
       " -53.43060995729842,\n",
       " -6.554096756609997,\n",
       " -119.74481341551149,\n",
       " -51.89402371431416,\n",
       " -29.750901452966744,\n",
       " -23.68940257935551,\n",
       " -6.510594944373569,\n",
       " -18.890460345846265,\n",
       " -85.91360734984387,\n",
       " -52.69009757943003,\n",
       " -28.780595520578856]"
      ]
     },
     "execution_count": 37,
     "metadata": {},
     "output_type": "execute_result"
    }
   ],
   "source": [
    "list(cmv.firmList[i].bankAccount for i in range(cmv.firmNum))"
   ]
  },
  {
   "cell_type": "code",
   "execution_count": null,
   "id": "attached-wrong",
   "metadata": {},
   "outputs": [],
   "source": []
  }
 ],
 "metadata": {
  "kernelspec": {
   "display_name": "Python 3",
   "language": "python",
   "name": "python3"
  },
  "language_info": {
   "codemirror_mode": {
    "name": "ipython",
    "version": 3
   },
   "file_extension": ".py",
   "mimetype": "text/x-python",
   "name": "python",
   "nbconvert_exporter": "python",
   "pygments_lexer": "ipython3",
   "version": "3.9.7"
  }
 },
 "nbformat": 4,
 "nbformat_minor": 5
}
