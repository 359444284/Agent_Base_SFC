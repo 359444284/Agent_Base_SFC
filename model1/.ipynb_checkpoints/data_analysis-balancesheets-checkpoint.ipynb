{
 "cells": [
  {
   "cell_type": "code",
   "execution_count": null,
   "id": "54429256",
   "metadata": {},
   "outputs": [],
   "source": [
    "%%javascript\n",
    "// to avoid scroll in windows\n",
    "IPython.OutputArea.prototype._should_scroll = function(lines) {\n",
    "    return false;\n",
    "}"
   ]
  },
  {
   "cell_type": "code",
   "execution_count": 1,
   "id": "1d979a83",
   "metadata": {},
   "outputs": [],
   "source": [
    "import matplotlib.pyplot as plt #used to avoid a warning message"
   ]
  },
  {
   "cell_type": "code",
   "execution_count": 2,
   "id": "afd21e97-4076-4faf-b2f7-f113972e496a",
   "metadata": {},
   "outputs": [
    {
     "name": "stdin",
     "output_type": "stream",
     "text": [
      "The name of your input folder without extension:  prova3ranks\n"
     ]
    },
    {
     "name": "stdout",
     "output_type": "stream",
     "text": [
      "Current folders are:\n",
      "prova3ranks.0\n",
      "prova3ranks.1\n",
      "prova3ranks.2\n"
     ]
    }
   ],
   "source": [
    "import pandas as pd\n",
    "import numpy as np\n",
    "import csv\n",
    "import os\n",
    "\n",
    "listDir=os.listdir()\n",
    "folder=input(\"The name of your input folder without extension: \")\n",
    "while not folder+\".0\" in listDir: #extension 0 certainly exists, as we have at least one rank\n",
    "    print(folder+\": wrong name\")\n",
    "    folder=input(\"The name of your input folder, without extension: \")\n",
    "\n",
    "os.chdir(\"./\"+folder+\".0\") #extension 0 certainly exists, as we have at least one rank\n",
    "\n",
    "with open(\"plotInfo.csv\",\"r\") as data:\n",
    "    reader = csv.reader(data, delimiter = ',')\n",
    "    for row in reader:\n",
    "        fileNameRoot=row[0] #the names of the files contating the data start with...\n",
    "        rankNum=int(row[1]) #we have file from different ranks, reported in different folders with name, for a specific\n",
    "                            #rank: fileNameRoot+\".\"+str(rank)\n",
    "        ag0num=int(row[2])  #how many agents with type==0\n",
    "\n",
    "#current folders\n",
    "print(\"Current folders are:\")\n",
    "for k in range(rankNum):\n",
    "    print(folder+\".\"+str(k))"
   ]
  },
  {
   "cell_type": "code",
   "execution_count": 3,
   "id": "c4ec1b89",
   "metadata": {},
   "outputs": [],
   "source": [
    "#each firm will have its dataframe\n",
    "#containing the data of colNames for all the time units (rows)\n",
    "colNames=[\"dimensional class\", \"initial inventories\",\"total costs\", \"final inventories\",\"profits\", \"added value\",\\\n",
    "          \"total production\", \"cost of production\", \"cost of unused factors\",\\\n",
    "          \"total lost production\", \"total cost of lost production\", \"cost of labor\", \"cost of capital\"]\n",
    "\n",
    "#fileNameArray is the array that will contain the names of the file of the balance sheets (one file for each firm), \n",
    "#subdivided by ranks in the columns of the array; 'temsize=len(fileNameRoot)+30' is supposed to be sufficient to \n",
    "#record the nanes of the file;\n",
    "fileNameArray=np.chararray((ag0num, rankNum), itemsize=len(fileNameRoot)+30, unicode=True)"
   ]
  },
  {
   "cell_type": "code",
   "execution_count": 4,
   "id": "232ef22a",
   "metadata": {},
   "outputs": [],
   "source": [
    "#operates by folders\n",
    "for k in range(rankNum):\n",
    "    #which folder\n",
    "    os.chdir(\"../\"+folder+\".\"+str(k))\n",
    "    with open(fileNameRoot+\"_balancesheetList_\"+str(k)+\".csv\",\"r\") as fileList:\n",
    "        reader = csv.reader(fileList, delimiter = ',')\n",
    "        #read the name of the files, containing _balancesheetList_, present in the current set of folders\n",
    "        for row in reader:\n",
    "            for i in range(len(row)):\n",
    "                fileNameArray[i,k]=row[i]"
   ]
  },
  {
   "cell_type": "code",
   "execution_count": 5,
   "id": "3e5a4f3e-216b-4f11-a845-cb364d8de53a",
   "metadata": {},
   "outputs": [],
   "source": [
    "#creating a dictionary of database\n",
    "data={}\n",
    "for k in range(rankNum):\n",
    "    #in the folder with name extension == k\n",
    "    os.chdir(\"../\"+folder+\".\"+str(k))\n",
    "    #repeating for the number of agent type 0 in each folder\n",
    "    for i in range(ag0num):\n",
    "        #extracting the agent uid from the name of the file\n",
    "        p1=fileNameArray[i,k].find('(')\n",
    "        p2=fileNameArray[i,k].find(')')+1\n",
    "        uid=fileNameArray[i,k][p1:p2]\n",
    "        #filling the dictionary with uids as keys and the balancesheetLists of the related firm as values\n",
    "        data[uid]=pd.read_csv(fileNameArray[i,k], header=None)\n",
    "\n",
    "#naming the dataframe columns, firm by firm, by scrolling the keys of the dictionary\n",
    "for aFirm in data.keys():\n",
    "    data[aFirm].columns=colNames"
   ]
  },
  {
   "cell_type": "markdown",
   "id": "b4e0c3f0-d894-431f-ac1c-588b535fedf5",
   "metadata": {},
   "source": [
    "To retrieve the balancesheet list of a specific uid, use the firmBalancesheet **function** with the ID number and rank as argments.\n",
    "\n",
    "Or directly write data['(ID, 0, rank)'] as in data['(29, 0, 2)'], paying attention to spaces after commas."
   ]
  },
  {
   "cell_type": "code",
   "execution_count": null,
   "id": "3c01e15c-460c-4abb-913b-e3b22d87eac9",
   "metadata": {},
   "outputs": [],
   "source": [
    "def firmBalancesheet(id,r):\n",
    "    return data['('+str(id)+', 0, '+str(r)+')']"
   ]
  },
  {
   "cell_type": "raw",
   "id": "296d8c85-27e8-4db0-b7a4-8b4317485dcd",
   "metadata": {},
   "source": [
    "firmBalancesheet(29,2)"
   ]
  },
  {
   "cell_type": "raw",
   "id": "7b6c61bb-2afd-44f7-a705-b81a8ca8ee9d",
   "metadata": {},
   "source": [
    "data['(29, 0, 2)']"
   ]
  },
  {
   "cell_type": "code",
   "execution_count": null,
   "id": "788b3fdb-b2a2-4492-8f1c-80962ad5f90d",
   "metadata": {},
   "outputs": [],
   "source": [
    "# output by ranks\n",
    "with plt.rc_context(rc={'figure.max_open_warning': 0}): #to avoid a worning about open plots\n",
    "    \n",
    "    data['allFirms']=data[list(data.keys())[0]].copy() # copy of first firm\n",
    "    for aFirmUid in list(data.keys())[1:-1]:\n",
    "        #if data[aFirmUid]['dimensional class'].loc[0] == 1.0: #to filter firms according to dim class\n",
    "        data['allFirms']=data['allFirms'].add(data[aFirmUid])"
   ]
  },
  {
   "cell_type": "code",
   "execution_count": null,
   "id": "33a0f12d",
   "metadata": {},
   "outputs": [],
   "source": [
    "data['allFirms'].drop(['dimensional class'], axis=1)"
   ]
  },
  {
   "cell_type": "code",
   "execution_count": null,
   "id": "b5f54910",
   "metadata": {},
   "outputs": [],
   "source": [
    "data['allFirms'].drop(['dimensional class'], axis=1).plot()\n",
    "plt.legend(loc='center left', bbox_to_anchor=(1, 0.5))"
   ]
  },
  {
   "cell_type": "code",
   "execution_count": null,
   "id": "37ef8864",
   "metadata": {},
   "outputs": [],
   "source": [
    "data['(0, 0, 0)'].drop(['dimensional class'], axis=1).plot()\n",
    "plt.legend(loc='center left', bbox_to_anchor=(1, 0.5))"
   ]
  },
  {
   "cell_type": "code",
   "execution_count": null,
   "id": "e83e5a8d",
   "metadata": {},
   "outputs": [],
   "source": [
    "data['allFirms'][[ 'cost of capital','cost of labor']].plot()"
   ]
  },
  {
   "cell_type": "code",
   "execution_count": null,
   "id": "3222dbeb",
   "metadata": {},
   "outputs": [],
   "source": [
    "data['(0, 0, 0)'][['cost of capital', 'cost of labor']].plot()"
   ]
  },
  {
   "cell_type": "markdown",
   "id": "3882ff59",
   "metadata": {},
   "source": [
    "# The National Economic Balance Table"
   ]
  },
  {
   "cell_type": "code",
   "execution_count": null,
   "id": "cb2153f3",
   "metadata": {},
   "outputs": [],
   "source": [
    "data['allFirms'][['initial inventories', 'added value', 'final inventories']]"
   ]
  }
 ],
 "metadata": {
  "kernelspec": {
   "display_name": "Python 3 (ipykernel)",
   "language": "python",
   "name": "python3"
  },
  "language_info": {
   "codemirror_mode": {
    "name": "ipython",
    "version": 3
   },
   "file_extension": ".py",
   "mimetype": "text/x-python",
   "name": "python",
   "nbconvert_exporter": "python",
   "pygments_lexer": "ipython3",
   "version": "3.11.4"
  }
 },
 "nbformat": 4,
 "nbformat_minor": 5
}
