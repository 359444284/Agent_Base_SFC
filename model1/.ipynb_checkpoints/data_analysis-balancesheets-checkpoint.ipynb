{
 "cells": [
  {
   "cell_type": "raw",
   "id": "9a1083d5-0acc-466b-a3da-b262ef561de8",
   "metadata": {},
   "source": [
    "%%javascript\n",
    "// to avoid scroll in windows\n",
    "IPython.OutputArea.prototype._should_scroll = function(lines) {\n",
    "    return false;\n",
    "}"
   ]
  },
  {
   "cell_type": "code",
   "execution_count": 1,
   "id": "afd21e97-4076-4faf-b2f7-f113972e496a",
   "metadata": {},
   "outputs": [
    {
     "name": "stdout",
     "output_type": "stream",
     "text": [
      "The name of your input folder without extension: prova\n",
      "Current folders are:\n",
      "prova.0\n"
     ]
    }
   ],
   "source": [
    "import pandas as pd\n",
    "import numpy as np\n",
    "import csv\n",
    "import os\n",
    "import matplotlib.pyplot as plt #used to generate the legends\n",
    "from typing import List\n",
    "\n",
    "myListDir=os.listdir()\n",
    "folder=input(\"The name of your input folder without extension: \")\n",
    "while not folder+\".0\" in myListDir: #extension 0 certainly exists, as we have at least one rank\n",
    "    print(folder+\": wrong name\")\n",
    "    folder=input(\"The name of your input folder, without extension: \")\n",
    "\n",
    "os.chdir(\"./\"+folder+\".0\") #extension 0 certainly exists, as we have at least one rank\n",
    "\n",
    "with open(\"plotInfo.csv\",\"r\") as data:\n",
    "    reader = csv.reader(data, delimiter = ',')\n",
    "    for row in reader:\n",
    "        fileNameRoot=row[0] #the names of the files contating the data start with...\n",
    "        rankNum=int(row[1]) #we have file from different ranks, reported in different folders with name, for a specific\n",
    "                            #rank: fileNameRoot+\".\"+str(rank)\n",
    "        ag0num=int(row[2])  #how many agents in each rank, with type==0\n",
    "\n",
    "#current folders\n",
    "print(\"Current folders are:\")\n",
    "for k in range(rankNum):\n",
    "    print(folder+\".\"+str(k))"
   ]
  },
  {
   "cell_type": "markdown",
   "id": "1fa6df43-0a81-4b3c-a667-a68222384557",
   "metadata": {},
   "source": [
    "### uncomment to show all the rows in tables"
   ]
  },
  {
   "cell_type": "code",
   "execution_count": 2,
   "id": "f8066dfc-95cb-4a40-8789-464a9a71c032",
   "metadata": {},
   "outputs": [],
   "source": [
    "#display all the rows of the dataframe  \n",
    "#pd.set_option('display.max_rows', None)"
   ]
  },
  {
   "cell_type": "markdown",
   "id": "da865b49-bab1-4373-931b-d08288fdfbba",
   "metadata": {},
   "source": [
    "# creation of firm dataframes"
   ]
  },
  {
   "cell_type": "code",
   "execution_count": 3,
   "id": "c4ec1b89",
   "metadata": {},
   "outputs": [],
   "source": [
    "#each firm will have its dataframe\n",
    "#containing the values of the names of the columns for all the time units (rows)\n",
    "colNames=[\"firm class type\", \"initial inventories\",\"total costs\", \"final inventories\",\"profits\", \"added value\",\\\n",
    "          \"total production\", \"cost of production\", \"cost of unused factors\",\"total lost production\", \\\n",
    "          \"total cost of lost production\", \"cost of labor\", \"cost of capital\", \"cost of substitution\"]\n",
    "\n",
    "#fileNameArray is the array that will contain the names of the file of the balance sheets (one file for each firm), \n",
    "#subdivided by ranks in the columns of the array; 'itemsize=len(fileNameRoot)+30' is supposed to be sufficient to \n",
    "#report the names of the file;\n",
    "fileNameArray=np.chararray((ag0num, rankNum), itemsize=len(fileNameRoot)+30, unicode=True)"
   ]
  },
  {
   "cell_type": "code",
   "execution_count": 4,
   "id": "232ef22a",
   "metadata": {},
   "outputs": [],
   "source": [
    "#operating by folders to load the names of the files reported in the balancesheetList files\n",
    "for k in range(rankNum):\n",
    "    #which folder\n",
    "    os.chdir(\"../\"+folder+\".\"+str(k))\n",
    "    with open(fileNameRoot+\"_balancesheetList_\"+str(k)+\".csv\",\"r\") as fileList:\n",
    "        reader = csv.reader(fileList, delimiter = ',')\n",
    "        #read the name of the files, containing _balancesheetList_, present in the current set of folders\n",
    "        for row in reader:\n",
    "            for i in range(len(row)):\n",
    "                fileNameArray[i,k]=row[i]"
   ]
  },
  {
   "cell_type": "code",
   "execution_count": 5,
   "id": "3e5a4f3e-216b-4f11-a845-cb364d8de53a",
   "metadata": {},
   "outputs": [],
   "source": [
    "#creating a dictionary of firm dataframes\n",
    "firmData={}\n",
    "for k in range(rankNum):\n",
    "    #in the folder with name extension == k\n",
    "    os.chdir(\"../\"+folder+\".\"+str(k))\n",
    "    #repeating for the number of agent type 0 in each folder\n",
    "    for i in range(ag0num):\n",
    "        #extracting the agent uid from the name of the file\n",
    "        p1=fileNameArray[i,k].find('(')\n",
    "        p2=fileNameArray[i,k].find(')')+1\n",
    "        uid=fileNameArray[i,k][p1:p2]\n",
    "        #filling the dictionary with uids as keys and the balancesheetLists of the related firm as values\n",
    "        firmData[uid]=pd.read_csv(fileNameArray[i,k], header=None)\n",
    "\n",
    "#naming the firm dataframe columns, firm by firm, by scrolling the keys of the dictionary\n",
    "for aFirm in firmData.keys():\n",
    "    firmData[aFirm].columns=colNames"
   ]
  },
  {
   "cell_type": "markdown",
   "id": "9cbfa254-8156-4af2-a30f-3a5bf4da195b",
   "metadata": {},
   "source": [
    "# Retrieve a firm"
   ]
  },
  {
   "cell_type": "code",
   "execution_count": 6,
   "id": "3c01e15c-460c-4abb-913b-e3b22d87eac9",
   "metadata": {},
   "outputs": [],
   "source": [
    "#retrieve a firm with id and rank\n",
    "def retrieveFirmBalancesheet(id,r):\n",
    "    return firmData['('+str(id)+', 0, '+str(r)+')']"
   ]
  },
  {
   "cell_type": "code",
   "execution_count": 7,
   "id": "7e02eb6c-433b-491f-bf34-a06c7a922837",
   "metadata": {},
   "outputs": [],
   "source": [
    "#example\n",
    "#retrieveFirmBalancesheet(29,2)"
   ]
  },
  {
   "cell_type": "raw",
   "id": "f8a769c2-12b1-4966-8f8f-6ffab48358fc",
   "metadata": {},
   "source": [
    "#also working, by paying attention to spaces\n",
    "firmData['(29, 0, 2)']"
   ]
  },
  {
   "cell_type": "markdown",
   "id": "871e0e7b-704d-4dae-afb8-bb3cf02f8d08",
   "metadata": {},
   "source": [
    "# The allFirmData dataframe"
   ]
  },
  {
   "cell_type": "code",
   "execution_count": 8,
   "id": "ab9044c4-4d78-48ef-becc-9147da8cdb67",
   "metadata": {},
   "outputs": [],
   "source": [
    "#create a dataframe summing up all the firm dataframes\n",
    "allFirmData=firmData[list(firmData.keys())[0]].copy() #copy the dataframe of first firm; use .copy to create an\n",
    "                                                      #independent copy with a new name\n",
    "\n",
    "for aFirmUid in list(firmData.keys())[1:]: #from the second to the last\n",
    "    allFirmData=allFirmData.add(firmData[aFirmUid])\n",
    "\n",
    "allFirmData.__description__=\"all firms\""
   ]
  },
  {
   "cell_type": "code",
   "execution_count": 9,
   "id": "7b151313-4655-4e7a-b8f8-3c216674ccc3",
   "metadata": {},
   "outputs": [
    {
     "data": {
      "text/html": [
       "<div>\n",
       "<style scoped>\n",
       "    .dataframe tbody tr th:only-of-type {\n",
       "        vertical-align: middle;\n",
       "    }\n",
       "\n",
       "    .dataframe tbody tr th {\n",
       "        vertical-align: top;\n",
       "    }\n",
       "\n",
       "    .dataframe thead th {\n",
       "        text-align: right;\n",
       "    }\n",
       "</style>\n",
       "<table border=\"1\" class=\"dataframe\">\n",
       "  <thead>\n",
       "    <tr style=\"text-align: right;\">\n",
       "      <th></th>\n",
       "      <th>firm class type</th>\n",
       "      <th>initial inventories</th>\n",
       "      <th>total costs</th>\n",
       "      <th>final inventories</th>\n",
       "      <th>profits</th>\n",
       "      <th>added value</th>\n",
       "      <th>total production</th>\n",
       "      <th>cost of production</th>\n",
       "      <th>cost of unused factors</th>\n",
       "      <th>total lost production</th>\n",
       "      <th>total cost of lost production</th>\n",
       "      <th>cost of labor</th>\n",
       "      <th>cost of capital</th>\n",
       "      <th>cost of substitution</th>\n",
       "    </tr>\n",
       "  </thead>\n",
       "  <tbody>\n",
       "    <tr>\n",
       "      <th>0</th>\n",
       "      <td>20.0</td>\n",
       "      <td>0.0</td>\n",
       "      <td>34176.450666</td>\n",
       "      <td>312.2</td>\n",
       "      <td>-33864.250666</td>\n",
       "      <td>312.2</td>\n",
       "      <td>16.939739</td>\n",
       "      <td>254.0</td>\n",
       "      <td>33922.450666</td>\n",
       "      <td>0.000000</td>\n",
       "      <td>0.0</td>\n",
       "      <td>207.0</td>\n",
       "      <td>4796.157142</td>\n",
       "      <td>308.062500</td>\n",
       "    </tr>\n",
       "    <tr>\n",
       "      <th>1</th>\n",
       "      <td>20.0</td>\n",
       "      <td>312.2</td>\n",
       "      <td>95923.142847</td>\n",
       "      <td>727.1</td>\n",
       "      <td>-95508.242847</td>\n",
       "      <td>414.9</td>\n",
       "      <td>21.806644</td>\n",
       "      <td>351.0</td>\n",
       "      <td>95572.142847</td>\n",
       "      <td>1.225914</td>\n",
       "      <td>18.0</td>\n",
       "      <td>207.0</td>\n",
       "      <td>5949.136531</td>\n",
       "      <td>174.416667</td>\n",
       "    </tr>\n",
       "    <tr>\n",
       "      <th>2</th>\n",
       "      <td>20.0</td>\n",
       "      <td>727.1</td>\n",
       "      <td>118982.730616</td>\n",
       "      <td>1839.6</td>\n",
       "      <td>-117870.230616</td>\n",
       "      <td>1112.5</td>\n",
       "      <td>57.430833</td>\n",
       "      <td>880.0</td>\n",
       "      <td>118102.730616</td>\n",
       "      <td>0.000000</td>\n",
       "      <td>0.0</td>\n",
       "      <td>207.0</td>\n",
       "      <td>8009.172531</td>\n",
       "      <td>487.187867</td>\n",
       "    </tr>\n",
       "    <tr>\n",
       "      <th>3</th>\n",
       "      <td>20.0</td>\n",
       "      <td>1839.6</td>\n",
       "      <td>160183.450620</td>\n",
       "      <td>3293.3</td>\n",
       "      <td>-158729.750620</td>\n",
       "      <td>1453.7</td>\n",
       "      <td>75.583086</td>\n",
       "      <td>1154.0</td>\n",
       "      <td>159029.450620</td>\n",
       "      <td>0.000000</td>\n",
       "      <td>0.0</td>\n",
       "      <td>207.0</td>\n",
       "      <td>9366.041472</td>\n",
       "      <td>572.652778</td>\n",
       "    </tr>\n",
       "    <tr>\n",
       "      <th>4</th>\n",
       "      <td>20.0</td>\n",
       "      <td>3293.3</td>\n",
       "      <td>187320.829435</td>\n",
       "      <td>4670.9</td>\n",
       "      <td>-185943.229435</td>\n",
       "      <td>1377.6</td>\n",
       "      <td>77.685873</td>\n",
       "      <td>1205.0</td>\n",
       "      <td>186115.829435</td>\n",
       "      <td>4.623093</td>\n",
       "      <td>110.0</td>\n",
       "      <td>207.0</td>\n",
       "      <td>9365.405274</td>\n",
       "      <td>641.237011</td>\n",
       "    </tr>\n",
       "    <tr>\n",
       "      <th>...</th>\n",
       "      <td>...</td>\n",
       "      <td>...</td>\n",
       "      <td>...</td>\n",
       "      <td>...</td>\n",
       "      <td>...</td>\n",
       "      <td>...</td>\n",
       "      <td>...</td>\n",
       "      <td>...</td>\n",
       "      <td>...</td>\n",
       "      <td>...</td>\n",
       "      <td>...</td>\n",
       "      <td>...</td>\n",
       "      <td>...</td>\n",
       "      <td>...</td>\n",
       "    </tr>\n",
       "    <tr>\n",
       "      <th>95</th>\n",
       "      <td>20.0</td>\n",
       "      <td>198887.9</td>\n",
       "      <td>258752.278719</td>\n",
       "      <td>201683.8</td>\n",
       "      <td>-255956.378719</td>\n",
       "      <td>2795.9</td>\n",
       "      <td>147.419269</td>\n",
       "      <td>2201.0</td>\n",
       "      <td>256551.278719</td>\n",
       "      <td>0.000000</td>\n",
       "      <td>0.0</td>\n",
       "      <td>1180.0</td>\n",
       "      <td>13015.604431</td>\n",
       "      <td>838.225363</td>\n",
       "    </tr>\n",
       "    <tr>\n",
       "      <th>96</th>\n",
       "      <td>20.0</td>\n",
       "      <td>201683.8</td>\n",
       "      <td>260312.088620</td>\n",
       "      <td>203555.6</td>\n",
       "      <td>-258440.288620</td>\n",
       "      <td>1871.8</td>\n",
       "      <td>178.234232</td>\n",
       "      <td>2787.0</td>\n",
       "      <td>257525.088620</td>\n",
       "      <td>89.373345</td>\n",
       "      <td>1265.0</td>\n",
       "      <td>1180.0</td>\n",
       "      <td>13064.120642</td>\n",
       "      <td>838.870749</td>\n",
       "    </tr>\n",
       "    <tr>\n",
       "      <th>97</th>\n",
       "      <td>20.0</td>\n",
       "      <td>203555.6</td>\n",
       "      <td>261282.412835</td>\n",
       "      <td>206184.5</td>\n",
       "      <td>-258653.512835</td>\n",
       "      <td>2628.9</td>\n",
       "      <td>161.070613</td>\n",
       "      <td>2425.0</td>\n",
       "      <td>258857.412835</td>\n",
       "      <td>17.785901</td>\n",
       "      <td>325.0</td>\n",
       "      <td>1180.0</td>\n",
       "      <td>13059.150917</td>\n",
       "      <td>839.000350</td>\n",
       "    </tr>\n",
       "    <tr>\n",
       "      <th>98</th>\n",
       "      <td>20.0</td>\n",
       "      <td>206184.5</td>\n",
       "      <td>261183.018336</td>\n",
       "      <td>208029.1</td>\n",
       "      <td>-259338.418336</td>\n",
       "      <td>1844.6</td>\n",
       "      <td>106.986916</td>\n",
       "      <td>1748.0</td>\n",
       "      <td>259435.018336</td>\n",
       "      <td>20.929546</td>\n",
       "      <td>297.0</td>\n",
       "      <td>1181.0</td>\n",
       "      <td>13053.481668</td>\n",
       "      <td>839.078077</td>\n",
       "    </tr>\n",
       "    <tr>\n",
       "      <th>99</th>\n",
       "      <td>20.0</td>\n",
       "      <td>208029.1</td>\n",
       "      <td>261069.633355</td>\n",
       "      <td>206413.0</td>\n",
       "      <td>-262685.733355</td>\n",
       "      <td>-1616.1</td>\n",
       "      <td>85.154012</td>\n",
       "      <td>1933.0</td>\n",
       "      <td>259136.633355</td>\n",
       "      <td>213.031658</td>\n",
       "      <td>3142.0</td>\n",
       "      <td>1182.0</td>\n",
       "      <td>13046.740297</td>\n",
       "      <td>839.078077</td>\n",
       "    </tr>\n",
       "  </tbody>\n",
       "</table>\n",
       "<p>100 rows × 14 columns</p>\n",
       "</div>"
      ],
      "text/plain": [
       "    firm class type  initial inventories    total costs  final inventories   \n",
       "0              20.0                  0.0   34176.450666              312.2  \\\n",
       "1              20.0                312.2   95923.142847              727.1   \n",
       "2              20.0                727.1  118982.730616             1839.6   \n",
       "3              20.0               1839.6  160183.450620             3293.3   \n",
       "4              20.0               3293.3  187320.829435             4670.9   \n",
       "..              ...                  ...            ...                ...   \n",
       "95             20.0             198887.9  258752.278719           201683.8   \n",
       "96             20.0             201683.8  260312.088620           203555.6   \n",
       "97             20.0             203555.6  261282.412835           206184.5   \n",
       "98             20.0             206184.5  261183.018336           208029.1   \n",
       "99             20.0             208029.1  261069.633355           206413.0   \n",
       "\n",
       "          profits  added value  total production  cost of production   \n",
       "0   -33864.250666        312.2         16.939739               254.0  \\\n",
       "1   -95508.242847        414.9         21.806644               351.0   \n",
       "2  -117870.230616       1112.5         57.430833               880.0   \n",
       "3  -158729.750620       1453.7         75.583086              1154.0   \n",
       "4  -185943.229435       1377.6         77.685873              1205.0   \n",
       "..            ...          ...               ...                 ...   \n",
       "95 -255956.378719       2795.9        147.419269              2201.0   \n",
       "96 -258440.288620       1871.8        178.234232              2787.0   \n",
       "97 -258653.512835       2628.9        161.070613              2425.0   \n",
       "98 -259338.418336       1844.6        106.986916              1748.0   \n",
       "99 -262685.733355      -1616.1         85.154012              1933.0   \n",
       "\n",
       "    cost of unused factors  total lost production   \n",
       "0             33922.450666               0.000000  \\\n",
       "1             95572.142847               1.225914   \n",
       "2            118102.730616               0.000000   \n",
       "3            159029.450620               0.000000   \n",
       "4            186115.829435               4.623093   \n",
       "..                     ...                    ...   \n",
       "95           256551.278719               0.000000   \n",
       "96           257525.088620              89.373345   \n",
       "97           258857.412835              17.785901   \n",
       "98           259435.018336              20.929546   \n",
       "99           259136.633355             213.031658   \n",
       "\n",
       "    total cost of lost production  cost of labor  cost of capital   \n",
       "0                             0.0          207.0      4796.157142  \\\n",
       "1                            18.0          207.0      5949.136531   \n",
       "2                             0.0          207.0      8009.172531   \n",
       "3                             0.0          207.0      9366.041472   \n",
       "4                           110.0          207.0      9365.405274   \n",
       "..                            ...            ...              ...   \n",
       "95                            0.0         1180.0     13015.604431   \n",
       "96                         1265.0         1180.0     13064.120642   \n",
       "97                          325.0         1180.0     13059.150917   \n",
       "98                          297.0         1181.0     13053.481668   \n",
       "99                         3142.0         1182.0     13046.740297   \n",
       "\n",
       "    cost of substitution  \n",
       "0             308.062500  \n",
       "1             174.416667  \n",
       "2             487.187867  \n",
       "3             572.652778  \n",
       "4             641.237011  \n",
       "..                   ...  \n",
       "95            838.225363  \n",
       "96            838.870749  \n",
       "97            839.000350  \n",
       "98            839.078077  \n",
       "99            839.078077  \n",
       "\n",
       "[100 rows x 14 columns]"
      ]
     },
     "execution_count": 9,
     "metadata": {},
     "output_type": "execute_result"
    }
   ],
   "source": [
    "allFirmData"
   ]
  },
  {
   "cell_type": "code",
   "execution_count": 10,
   "id": "1d90c283-1bc6-4bb8-a9d4-52d3fd8d62df",
   "metadata": {},
   "outputs": [
    {
     "data": {
      "text/plain": [
       "'all firms'"
      ]
     },
     "execution_count": 10,
     "metadata": {},
     "output_type": "execute_result"
    }
   ],
   "source": [
    "allFirmData.__description__"
   ]
  },
  {
   "cell_type": "code",
   "execution_count": 11,
   "id": "b5f54910",
   "metadata": {},
   "outputs": [
    {
     "data": {
      "text/plain": [
       "<matplotlib.legend.Legend at 0x7f3a412fcbe0>"
      ]
     },
     "execution_count": 11,
     "metadata": {},
     "output_type": "execute_result"
    },
    {
     "data": {
      "image/png": "[encoded data removed]",
      "text/plain": [
       "<Figure size 432x288 with 1 Axes>"
      ]
     },
     "metadata": {
      "needs_background": "light"
     },
     "output_type": "display_data"
    }
   ],
   "source": [
    "allFirmData.drop(['firm class type'], axis=1).plot()\n",
    "plt.legend(loc='center left', bbox_to_anchor=(1, 0.5))"
   ]
  },
  {
   "cell_type": "code",
   "execution_count": 12,
   "id": "8505b722",
   "metadata": {},
   "outputs": [
    {
     "data": {
      "text/plain": [
       "<AxesSubplot: >"
      ]
     },
     "execution_count": 12,
     "metadata": {},
     "output_type": "execute_result"
    },
    {
     "data": {
      "image/png": "[encoded data removed]",
      "text/plain": [
       "<Figure size 432x288 with 1 Axes>"
      ]
     },
     "metadata": {
      "needs_background": "light"
     },
     "output_type": "display_data"
    }
   ],
   "source": [
    "allFirmData[['cost of substitution']].plot()"
   ]
  },
  {
   "cell_type": "code",
   "execution_count": 13,
   "id": "e83e5a8d",
   "metadata": {},
   "outputs": [
    {
     "data": {
      "text/plain": [
       "<AxesSubplot: >"
      ]
     },
     "execution_count": 13,
     "metadata": {},
     "output_type": "execute_result"
    },
    {
     "data": {
      "image/png": "[encoded data removed]",
      "text/plain": [
       "<Figure size 432x288 with 1 Axes>"
      ]
     },
     "metadata": {
      "needs_background": "light"
     },
     "output_type": "display_data"
    }
   ],
   "source": [
    "allFirmData[['cost of capital','cost of labor']].plot()"
   ]
  },
  {
   "cell_type": "markdown",
   "id": "2b389689-fcef-4768-8684-8d4bf2e7e910",
   "metadata": {},
   "source": [
    "# Considering groups of firms"
   ]
  },
  {
   "cell_type": "code",
   "execution_count": 14,
   "id": "2a420339-cbb8-42ef-b2ca-cb414ecd47de",
   "metadata": {},
   "outputs": [],
   "source": [
    "#summarize a subset of balancesheets of firm with 'dimensional class' in a given list\n",
    "def sumBalancesheetsWithAGivenDimensionalClass(dimClassList: List):\n",
    "    tmpDict={}\n",
    "    for aFirmUid in list(firmData.keys())[:]:\n",
    "        if firmData[aFirmUid]['firm class type'].loc[0] in dimClassList:\n",
    "            tmpDict[aFirmUid]=firmData[aFirmUid]\n",
    "    print(\"found\",len(tmpDict), \"firms\")\n",
    "    \n",
    "    if tmpDict=={}: return 0 #firms with the required dimensional class: not found\n",
    "        \n",
    "    allLocalFirmData=tmpDict[list(tmpDict.keys())[0]].copy() #copy the dataframe of first firm; use .copy to create an\n",
    "                                                              #independent copy with a new name\n",
    "\n",
    "    for aFirmUid in list(tmpDict.keys())[1:]: #from the second to the last\n",
    "        allLocalFirmData=allLocalFirmData.add(tmpDict[aFirmUid])\n",
    "\n",
    "    memo=\"firms of groups\"\n",
    "    for g in dimClassList: memo = memo +\" \"+str(g)\n",
    "    allLocalFirmData.__description__= memo\n",
    "    \n",
    "    return allLocalFirmData\n"
   ]
  },
  {
   "cell_type": "code",
   "execution_count": 15,
   "id": "faca6fd2-be4a-4f26-9cb9-53e82db50861",
   "metadata": {},
   "outputs": [
    {
     "name": "stdout",
     "output_type": "stream",
     "text": [
      "found 1 firms\n"
     ]
    }
   ],
   "source": [
    "#example with dimensional class 0\n",
    "sumOfBalanceSheetSubset = sumBalancesheetsWithAGivenDimensionalClass([0])"
   ]
  },
  {
   "cell_type": "code",
   "execution_count": 16,
   "id": "635eec37-2d82-45bc-96c1-a4e4ace95530",
   "metadata": {},
   "outputs": [
    {
     "data": {
      "text/plain": [
       "'firms of groups 0'"
      ]
     },
     "execution_count": 16,
     "metadata": {},
     "output_type": "execute_result"
    }
   ],
   "source": [
    "sumOfBalanceSheetSubset.__description__"
   ]
  },
  {
   "cell_type": "code",
   "execution_count": 17,
   "id": "6118a53d-7efc-4b4e-83fd-ae424c07e1e8",
   "metadata": {},
   "outputs": [
    {
     "data": {
      "text/html": [
       "<div>\n",
       "<style scoped>\n",
       "    .dataframe tbody tr th:only-of-type {\n",
       "        vertical-align: middle;\n",
       "    }\n",
       "\n",
       "    .dataframe tbody tr th {\n",
       "        vertical-align: top;\n",
       "    }\n",
       "\n",
       "    .dataframe thead th {\n",
       "        text-align: right;\n",
       "    }\n",
       "</style>\n",
       "<table border=\"1\" class=\"dataframe\">\n",
       "  <thead>\n",
       "    <tr style=\"text-align: right;\">\n",
       "      <th></th>\n",
       "      <th>firm class type</th>\n",
       "      <th>initial inventories</th>\n",
       "      <th>total costs</th>\n",
       "      <th>final inventories</th>\n",
       "      <th>profits</th>\n",
       "      <th>added value</th>\n",
       "      <th>total production</th>\n",
       "      <th>cost of production</th>\n",
       "      <th>cost of unused factors</th>\n",
       "      <th>total lost production</th>\n",
       "      <th>total cost of lost production</th>\n",
       "      <th>cost of labor</th>\n",
       "      <th>cost of capital</th>\n",
       "      <th>cost of substitution</th>\n",
       "    </tr>\n",
       "  </thead>\n",
       "  <tbody>\n",
       "    <tr>\n",
       "      <th>0</th>\n",
       "      <td>0.0</td>\n",
       "      <td>0.0</td>\n",
       "      <td>16850.515755</td>\n",
       "      <td>67.6</td>\n",
       "      <td>-16782.915755</td>\n",
       "      <td>67.6</td>\n",
       "      <td>2.477468</td>\n",
       "      <td>52.0</td>\n",
       "      <td>16798.515755</td>\n",
       "      <td>0.000000</td>\n",
       "      <td>0.0</td>\n",
       "      <td>80.0</td>\n",
       "      <td>3381.800000</td>\n",
       "      <td>234.847222</td>\n",
       "    </tr>\n",
       "    <tr>\n",
       "      <th>1</th>\n",
       "      <td>0.0</td>\n",
       "      <td>67.6</td>\n",
       "      <td>67636.000000</td>\n",
       "      <td>152.1</td>\n",
       "      <td>-67551.500000</td>\n",
       "      <td>84.5</td>\n",
       "      <td>2.613645</td>\n",
       "      <td>65.0</td>\n",
       "      <td>67571.000000</td>\n",
       "      <td>0.000000</td>\n",
       "      <td>0.0</td>\n",
       "      <td>80.0</td>\n",
       "      <td>3358.315278</td>\n",
       "      <td>0.000000</td>\n",
       "    </tr>\n",
       "    <tr>\n",
       "      <th>2</th>\n",
       "      <td>0.0</td>\n",
       "      <td>152.1</td>\n",
       "      <td>67166.305556</td>\n",
       "      <td>557.7</td>\n",
       "      <td>-66760.705556</td>\n",
       "      <td>405.6</td>\n",
       "      <td>17.339046</td>\n",
       "      <td>312.0</td>\n",
       "      <td>66854.305556</td>\n",
       "      <td>0.000000</td>\n",
       "      <td>0.0</td>\n",
       "      <td>80.0</td>\n",
       "      <td>3807.200000</td>\n",
       "      <td>264.388889</td>\n",
       "    </tr>\n",
       "    <tr>\n",
       "      <th>3</th>\n",
       "      <td>0.0</td>\n",
       "      <td>557.7</td>\n",
       "      <td>76144.000000</td>\n",
       "      <td>1149.2</td>\n",
       "      <td>-75552.500000</td>\n",
       "      <td>591.5</td>\n",
       "      <td>25.367106</td>\n",
       "      <td>455.0</td>\n",
       "      <td>75689.000000</td>\n",
       "      <td>0.000000</td>\n",
       "      <td>0.0</td>\n",
       "      <td>80.0</td>\n",
       "      <td>4920.000000</td>\n",
       "      <td>341.666667</td>\n",
       "    </tr>\n",
       "    <tr>\n",
       "      <th>4</th>\n",
       "      <td>0.0</td>\n",
       "      <td>1149.2</td>\n",
       "      <td>98400.000000</td>\n",
       "      <td>1774.5</td>\n",
       "      <td>-97774.700000</td>\n",
       "      <td>625.3</td>\n",
       "      <td>26.279208</td>\n",
       "      <td>481.0</td>\n",
       "      <td>97919.000000</td>\n",
       "      <td>0.000000</td>\n",
       "      <td>0.0</td>\n",
       "      <td>80.0</td>\n",
       "      <td>4920.000000</td>\n",
       "      <td>341.666667</td>\n",
       "    </tr>\n",
       "    <tr>\n",
       "      <th>...</th>\n",
       "      <td>...</td>\n",
       "      <td>...</td>\n",
       "      <td>...</td>\n",
       "      <td>...</td>\n",
       "      <td>...</td>\n",
       "      <td>...</td>\n",
       "      <td>...</td>\n",
       "      <td>...</td>\n",
       "      <td>...</td>\n",
       "      <td>...</td>\n",
       "      <td>...</td>\n",
       "      <td>...</td>\n",
       "      <td>...</td>\n",
       "      <td>...</td>\n",
       "    </tr>\n",
       "    <tr>\n",
       "      <th>95</th>\n",
       "      <td>0.0</td>\n",
       "      <td>68107.0</td>\n",
       "      <td>120872.000000</td>\n",
       "      <td>69256.2</td>\n",
       "      <td>-119722.800000</td>\n",
       "      <td>1149.2</td>\n",
       "      <td>51.167432</td>\n",
       "      <td>884.0</td>\n",
       "      <td>119988.000000</td>\n",
       "      <td>0.000000</td>\n",
       "      <td>0.0</td>\n",
       "      <td>504.0</td>\n",
       "      <td>6043.600000</td>\n",
       "      <td>419.694444</td>\n",
       "    </tr>\n",
       "    <tr>\n",
       "      <th>96</th>\n",
       "      <td>0.0</td>\n",
       "      <td>69256.2</td>\n",
       "      <td>120872.000000</td>\n",
       "      <td>70523.7</td>\n",
       "      <td>-119604.500000</td>\n",
       "      <td>1267.5</td>\n",
       "      <td>56.830153</td>\n",
       "      <td>975.0</td>\n",
       "      <td>119897.000000</td>\n",
       "      <td>0.000000</td>\n",
       "      <td>0.0</td>\n",
       "      <td>504.0</td>\n",
       "      <td>6043.600000</td>\n",
       "      <td>419.694444</td>\n",
       "    </tr>\n",
       "    <tr>\n",
       "      <th>97</th>\n",
       "      <td>0.0</td>\n",
       "      <td>70523.7</td>\n",
       "      <td>120872.000000</td>\n",
       "      <td>71368.7</td>\n",
       "      <td>-120027.000000</td>\n",
       "      <td>845.0</td>\n",
       "      <td>53.274233</td>\n",
       "      <td>975.0</td>\n",
       "      <td>119897.000000</td>\n",
       "      <td>17.785901</td>\n",
       "      <td>325.0</td>\n",
       "      <td>504.0</td>\n",
       "      <td>6043.600000</td>\n",
       "      <td>419.694444</td>\n",
       "    </tr>\n",
       "    <tr>\n",
       "      <th>98</th>\n",
       "      <td>0.0</td>\n",
       "      <td>71368.7</td>\n",
       "      <td>120872.000000</td>\n",
       "      <td>72433.4</td>\n",
       "      <td>-119807.300000</td>\n",
       "      <td>1064.7</td>\n",
       "      <td>47.959397</td>\n",
       "      <td>819.0</td>\n",
       "      <td>120053.000000</td>\n",
       "      <td>0.000000</td>\n",
       "      <td>0.0</td>\n",
       "      <td>504.0</td>\n",
       "      <td>6043.600000</td>\n",
       "      <td>419.694444</td>\n",
       "    </tr>\n",
       "    <tr>\n",
       "      <th>99</th>\n",
       "      <td>0.0</td>\n",
       "      <td>72433.4</td>\n",
       "      <td>120872.000000</td>\n",
       "      <td>72484.1</td>\n",
       "      <td>-120821.300000</td>\n",
       "      <td>50.7</td>\n",
       "      <td>41.429819</td>\n",
       "      <td>884.0</td>\n",
       "      <td>119988.000000</td>\n",
       "      <td>51.174125</td>\n",
       "      <td>845.0</td>\n",
       "      <td>504.0</td>\n",
       "      <td>6043.600000</td>\n",
       "      <td>419.694444</td>\n",
       "    </tr>\n",
       "  </tbody>\n",
       "</table>\n",
       "<p>100 rows × 14 columns</p>\n",
       "</div>"
      ],
      "text/plain": [
       "    firm class type  initial inventories    total costs  final inventories   \n",
       "0               0.0                  0.0   16850.515755               67.6  \\\n",
       "1               0.0                 67.6   67636.000000              152.1   \n",
       "2               0.0                152.1   67166.305556              557.7   \n",
       "3               0.0                557.7   76144.000000             1149.2   \n",
       "4               0.0               1149.2   98400.000000             1774.5   \n",
       "..              ...                  ...            ...                ...   \n",
       "95              0.0              68107.0  120872.000000            69256.2   \n",
       "96              0.0              69256.2  120872.000000            70523.7   \n",
       "97              0.0              70523.7  120872.000000            71368.7   \n",
       "98              0.0              71368.7  120872.000000            72433.4   \n",
       "99              0.0              72433.4  120872.000000            72484.1   \n",
       "\n",
       "          profits  added value  total production  cost of production   \n",
       "0   -16782.915755         67.6          2.477468                52.0  \\\n",
       "1   -67551.500000         84.5          2.613645                65.0   \n",
       "2   -66760.705556        405.6         17.339046               312.0   \n",
       "3   -75552.500000        591.5         25.367106               455.0   \n",
       "4   -97774.700000        625.3         26.279208               481.0   \n",
       "..            ...          ...               ...                 ...   \n",
       "95 -119722.800000       1149.2         51.167432               884.0   \n",
       "96 -119604.500000       1267.5         56.830153               975.0   \n",
       "97 -120027.000000        845.0         53.274233               975.0   \n",
       "98 -119807.300000       1064.7         47.959397               819.0   \n",
       "99 -120821.300000         50.7         41.429819               884.0   \n",
       "\n",
       "    cost of unused factors  total lost production   \n",
       "0             16798.515755               0.000000  \\\n",
       "1             67571.000000               0.000000   \n",
       "2             66854.305556               0.000000   \n",
       "3             75689.000000               0.000000   \n",
       "4             97919.000000               0.000000   \n",
       "..                     ...                    ...   \n",
       "95           119988.000000               0.000000   \n",
       "96           119897.000000               0.000000   \n",
       "97           119897.000000              17.785901   \n",
       "98           120053.000000               0.000000   \n",
       "99           119988.000000              51.174125   \n",
       "\n",
       "    total cost of lost production  cost of labor  cost of capital   \n",
       "0                             0.0           80.0      3381.800000  \\\n",
       "1                             0.0           80.0      3358.315278   \n",
       "2                             0.0           80.0      3807.200000   \n",
       "3                             0.0           80.0      4920.000000   \n",
       "4                             0.0           80.0      4920.000000   \n",
       "..                            ...            ...              ...   \n",
       "95                            0.0          504.0      6043.600000   \n",
       "96                            0.0          504.0      6043.600000   \n",
       "97                          325.0          504.0      6043.600000   \n",
       "98                            0.0          504.0      6043.600000   \n",
       "99                          845.0          504.0      6043.600000   \n",
       "\n",
       "    cost of substitution  \n",
       "0             234.847222  \n",
       "1               0.000000  \n",
       "2             264.388889  \n",
       "3             341.666667  \n",
       "4             341.666667  \n",
       "..                   ...  \n",
       "95            419.694444  \n",
       "96            419.694444  \n",
       "97            419.694444  \n",
       "98            419.694444  \n",
       "99            419.694444  \n",
       "\n",
       "[100 rows x 14 columns]"
      ]
     },
     "execution_count": 17,
     "metadata": {},
     "output_type": "execute_result"
    }
   ],
   "source": [
    "sumOfBalanceSheetSubset"
   ]
  },
  {
   "cell_type": "code",
   "execution_count": 18,
   "id": "37ef8864",
   "metadata": {},
   "outputs": [
    {
     "data": {
      "text/plain": [
       "<matplotlib.legend.Legend at 0x7f3a3ed98ee0>"
      ]
     },
     "execution_count": 18,
     "metadata": {},
     "output_type": "execute_result"
    },
    {
     "data": {
      "image/png": "[encoded data removed]",
      "text/plain": [
       "<Figure size 432x288 with 1 Axes>"
      ]
     },
     "metadata": {
      "needs_background": "light"
     },
     "output_type": "display_data"
    }
   ],
   "source": [
    "sumOfBalanceSheetSubset.drop(['firm class type'], axis=1).plot()\n",
    "plt.legend(loc='center left', bbox_to_anchor=(1, 0.5))"
   ]
  },
  {
   "cell_type": "code",
   "execution_count": 19,
   "id": "1a5e8a37-af70-4f4e-ba48-ea973c5bebc4",
   "metadata": {},
   "outputs": [
    {
     "data": {
      "text/plain": [
       "<AxesSubplot: >"
      ]
     },
     "execution_count": 19,
     "metadata": {},
     "output_type": "execute_result"
    },
    {
     "data": {
      "image/png": "[encoded data removed]",
      "text/plain": [
       "<Figure size 432x288 with 1 Axes>"
      ]
     },
     "metadata": {
      "needs_background": "light"
     },
     "output_type": "display_data"
    }
   ],
   "source": [
    "sumOfBalanceSheetSubset[['total production']].plot()"
   ]
  },
  {
   "cell_type": "code",
   "execution_count": 20,
   "id": "3222dbeb",
   "metadata": {},
   "outputs": [
    {
     "data": {
      "text/plain": [
       "<AxesSubplot: >"
      ]
     },
     "execution_count": 20,
     "metadata": {},
     "output_type": "execute_result"
    },
    {
     "data": {
      "image/png": "[encoded data removed]",
      "text/plain": [
       "<Figure size 432x288 with 1 Axes>"
      ]
     },
     "metadata": {
      "needs_background": "light"
     },
     "output_type": "display_data"
    }
   ],
   "source": [
    "sumOfBalanceSheetSubset[['cost of capital', 'cost of labor']].plot()"
   ]
  },
  {
   "cell_type": "markdown",
   "id": "3882ff59",
   "metadata": {},
   "source": [
    "# The National Economic Balance Table"
   ]
  },
  {
   "cell_type": "code",
   "execution_count": 21,
   "id": "cb2153f3",
   "metadata": {},
   "outputs": [
    {
     "data": {
      "text/html": [
       "<div>\n",
       "<style scoped>\n",
       "    .dataframe tbody tr th:only-of-type {\n",
       "        vertical-align: middle;\n",
       "    }\n",
       "\n",
       "    .dataframe tbody tr th {\n",
       "        vertical-align: top;\n",
       "    }\n",
       "\n",
       "    .dataframe thead th {\n",
       "        text-align: right;\n",
       "    }\n",
       "</style>\n",
       "<table border=\"1\" class=\"dataframe\">\n",
       "  <thead>\n",
       "    <tr style=\"text-align: right;\">\n",
       "      <th></th>\n",
       "      <th>initial inventories</th>\n",
       "      <th>added value</th>\n",
       "      <th>final inventories</th>\n",
       "    </tr>\n",
       "  </thead>\n",
       "  <tbody>\n",
       "    <tr>\n",
       "      <th>0</th>\n",
       "      <td>0.0</td>\n",
       "      <td>312.2</td>\n",
       "      <td>312.2</td>\n",
       "    </tr>\n",
       "    <tr>\n",
       "      <th>1</th>\n",
       "      <td>312.2</td>\n",
       "      <td>414.9</td>\n",
       "      <td>727.1</td>\n",
       "    </tr>\n",
       "    <tr>\n",
       "      <th>2</th>\n",
       "      <td>727.1</td>\n",
       "      <td>1112.5</td>\n",
       "      <td>1839.6</td>\n",
       "    </tr>\n",
       "    <tr>\n",
       "      <th>3</th>\n",
       "      <td>1839.6</td>\n",
       "      <td>1453.7</td>\n",
       "      <td>3293.3</td>\n",
       "    </tr>\n",
       "    <tr>\n",
       "      <th>4</th>\n",
       "      <td>3293.3</td>\n",
       "      <td>1377.6</td>\n",
       "      <td>4670.9</td>\n",
       "    </tr>\n",
       "    <tr>\n",
       "      <th>...</th>\n",
       "      <td>...</td>\n",
       "      <td>...</td>\n",
       "      <td>...</td>\n",
       "    </tr>\n",
       "    <tr>\n",
       "      <th>95</th>\n",
       "      <td>198887.9</td>\n",
       "      <td>2795.9</td>\n",
       "      <td>201683.8</td>\n",
       "    </tr>\n",
       "    <tr>\n",
       "      <th>96</th>\n",
       "      <td>201683.8</td>\n",
       "      <td>1871.8</td>\n",
       "      <td>203555.6</td>\n",
       "    </tr>\n",
       "    <tr>\n",
       "      <th>97</th>\n",
       "      <td>203555.6</td>\n",
       "      <td>2628.9</td>\n",
       "      <td>206184.5</td>\n",
       "    </tr>\n",
       "    <tr>\n",
       "      <th>98</th>\n",
       "      <td>206184.5</td>\n",
       "      <td>1844.6</td>\n",
       "      <td>208029.1</td>\n",
       "    </tr>\n",
       "    <tr>\n",
       "      <th>99</th>\n",
       "      <td>208029.1</td>\n",
       "      <td>-1616.1</td>\n",
       "      <td>206413.0</td>\n",
       "    </tr>\n",
       "  </tbody>\n",
       "</table>\n",
       "<p>100 rows × 3 columns</p>\n",
       "</div>"
      ],
      "text/plain": [
       "    initial inventories  added value  final inventories\n",
       "0                   0.0        312.2              312.2\n",
       "1                 312.2        414.9              727.1\n",
       "2                 727.1       1112.5             1839.6\n",
       "3                1839.6       1453.7             3293.3\n",
       "4                3293.3       1377.6             4670.9\n",
       "..                  ...          ...                ...\n",
       "95             198887.9       2795.9           201683.8\n",
       "96             201683.8       1871.8           203555.6\n",
       "97             203555.6       2628.9           206184.5\n",
       "98             206184.5       1844.6           208029.1\n",
       "99             208029.1      -1616.1           206413.0\n",
       "\n",
       "[100 rows x 3 columns]"
      ]
     },
     "execution_count": 21,
     "metadata": {},
     "output_type": "execute_result"
    }
   ],
   "source": [
    "allFirmData[['initial inventories', 'added value', 'final inventories']]"
   ]
  },
  {
   "cell_type": "code",
   "execution_count": null,
   "id": "06ec8488-5846-4fa4-873e-a74018e06c12",
   "metadata": {},
   "outputs": [],
   "source": []
  }
 ],
 "metadata": {
  "kernelspec": {
   "display_name": "Python 3 (ipykernel)",
   "language": "python",
   "name": "python3"
  },
  "language_info": {
   "codemirror_mode": {
    "name": "ipython",
    "version": 3
   },
   "file_extension": ".py",
   "mimetype": "text/x-python",
   "name": "python",
   "nbconvert_exporter": "python",
   "pygments_lexer": "ipython3",
   "version": "3.8.10"
  }
 },
 "nbformat": 4,
 "nbformat_minor": 5
}
