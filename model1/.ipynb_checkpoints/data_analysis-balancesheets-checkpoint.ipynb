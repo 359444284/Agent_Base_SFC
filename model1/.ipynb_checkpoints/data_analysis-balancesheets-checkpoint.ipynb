{
 "cells": [
  {
   "cell_type": "code",
   "execution_count": 1,
   "id": "54429256",
   "metadata": {},
   "outputs": [
    {
     "data": {
      "application/javascript": [
       "// to avoid scroll in windows\n",
       "IPython.OutputArea.prototype._should_scroll = function(lines) {\n",
       "    return false;\n",
       "}\n"
      ],
      "text/plain": [
       "<IPython.core.display.Javascript object>"
      ]
     },
     "metadata": {},
     "output_type": "display_data"
    }
   ],
   "source": [
    "%%javascript\n",
    "// to avoid scroll in windows\n",
    "IPython.OutputArea.prototype._should_scroll = function(lines) {\n",
    "    return false;\n",
    "}"
   ]
  },
  {
   "cell_type": "code",
   "execution_count": 2,
   "id": "1d979a83",
   "metadata": {},
   "outputs": [],
   "source": [
    "import matplotlib.pyplot as plt #used to avoid a warning message"
   ]
  },
  {
   "cell_type": "code",
   "execution_count": 3,
   "id": "5c899d08",
   "metadata": {},
   "outputs": [
    {
     "name": "stdout",
     "output_type": "stream",
     "text": [
      "Which is your input folder? prova\n"
     ]
    }
   ],
   "source": [
    "import pandas as pd\n",
    "import numpy as np\n",
    "import csv\n",
    "import os\n",
    "#from repast4py import parameters\n",
    "#params = parameters.init_params(\"model1.yaml\", \"\")\n",
    "\n",
    "folder=input(\"Which is your input folder? \")\n",
    "os.chdir(\"./\"+folder)\n",
    "\n",
    "\n",
    "with open(\"plotInfo.csv\",\"r\") as data:\n",
    "    reader = csv.reader(data, delimiter = ',')\n",
    "    for row in reader:\n",
    "        fileNameRoot=row[0]\n",
    "        rankNum=int(row[1])\n",
    "        ag0num=int(row[2])"
   ]
  },
  {
   "cell_type": "code",
   "execution_count": 5,
   "id": "c4ec1b89",
   "metadata": {},
   "outputs": [],
   "source": [
    "colNames=[\"dimensional class\", \"initial inventories\",\"total costs\", \"final inventories\",\"profits\", \"added value\",\\\n",
    "          \"total production\", \"cost of production\", \"cost of unused factors\",\\\n",
    "          \"total lost production\", \"total cost of lost production\", \"cost of labor\", \"cost of capital\"]\n",
    "fileNameArray=np.chararray((ag0num, rankNum), itemsize=len(fileNameRoot)+30, unicode=True)"
   ]
  },
  {
   "cell_type": "code",
   "execution_count": 6,
   "id": "232ef22a",
   "metadata": {},
   "outputs": [],
   "source": [
    "for k in range(rankNum):\n",
    "    with open(fileNameRoot+\"_balancesheetList_\"+str(k)+\".csv\",\"r\") as fileList:\n",
    "        reader = csv.reader(fileList, delimiter = ',')\n",
    "  \n",
    "        for row in reader:\n",
    "            for i in range(len(row)):\n",
    "                fileNameArray[i,k]=row[i]"
   ]
  },
  {
   "cell_type": "code",
   "execution_count": 7,
   "id": "50aa5f44",
   "metadata": {},
   "outputs": [],
   "source": [
    "# database\n",
    "data={}\n",
    "for k in range(rankNum):\n",
    "    for i in range(ag0num):\n",
    "        p1=fileNameArray[i,k].find('(')\n",
    "        p2=fileNameArray[i,k].find(')')+1\n",
    "        data[fileNameArray[i,k][p1:p2]]=pd.read_csv(fileNameArray[i,k], header=None)\n",
    "\n",
    "for aFirm in data.keys():\n",
    "    data[aFirm].columns=colNames"
   ]
  },
  {
   "cell_type": "code",
   "execution_count": 8,
   "id": "419bacd5",
   "metadata": {},
   "outputs": [],
   "source": [
    "# output by ranks\n",
    "with plt.rc_context(rc={'figure.max_open_warning': 0}): #to avoid a worning about open plots\n",
    "    \n",
    "    data['allFirms']=data[list(data.keys())[0]].copy() # copy of first firm\n",
    "    for aFirmUid in list(data.keys())[1:-1]:\n",
    "        #if data[aFirmUid]['dimensional class'].loc[0] == 1.0: #to filter firms according to dim class\n",
    "        data['allFirms']=data['allFirms'].add(data[aFirmUid])\n"
   ]
  },
  {
   "cell_type": "code",
   "execution_count": 9,
   "id": "33a0f12d",
   "metadata": {},
   "outputs": [
    {
     "data": {
      "text/html": [
       "<div>\n",
       "<style scoped>\n",
       "    .dataframe tbody tr th:only-of-type {\n",
       "        vertical-align: middle;\n",
       "    }\n",
       "\n",
       "    .dataframe tbody tr th {\n",
       "        vertical-align: top;\n",
       "    }\n",
       "\n",
       "    .dataframe thead th {\n",
       "        text-align: right;\n",
       "    }\n",
       "</style>\n",
       "<table border=\"1\" class=\"dataframe\">\n",
       "  <thead>\n",
       "    <tr style=\"text-align: right;\">\n",
       "      <th></th>\n",
       "      <th>initial inventories</th>\n",
       "      <th>total costs</th>\n",
       "      <th>final inventories</th>\n",
       "      <th>profits</th>\n",
       "      <th>added value</th>\n",
       "      <th>total production</th>\n",
       "      <th>cost of production</th>\n",
       "      <th>cost of unused factors</th>\n",
       "      <th>total lost production</th>\n",
       "      <th>total cost of lost production</th>\n",
       "      <th>cost of labor</th>\n",
       "      <th>cost of capital</th>\n",
       "    </tr>\n",
       "  </thead>\n",
       "  <tbody>\n",
       "    <tr>\n",
       "      <th>0</th>\n",
       "      <td>0.000</td>\n",
       "      <td>371.5833</td>\n",
       "      <td>106.965</td>\n",
       "      <td>-264.6183</td>\n",
       "      <td>106.965</td>\n",
       "      <td>46.499992</td>\n",
       "      <td>93.45</td>\n",
       "      <td>278.1333</td>\n",
       "      <td>3.317398</td>\n",
       "      <td>6.30</td>\n",
       "      <td>239.0</td>\n",
       "      <td>132.583300</td>\n",
       "    </tr>\n",
       "    <tr>\n",
       "      <th>1</th>\n",
       "      <td>106.965</td>\n",
       "      <td>371.5833</td>\n",
       "      <td>270.405</td>\n",
       "      <td>-208.1433</td>\n",
       "      <td>163.440</td>\n",
       "      <td>69.407278</td>\n",
       "      <td>130.80</td>\n",
       "      <td>240.7833</td>\n",
       "      <td>0.000000</td>\n",
       "      <td>0.00</td>\n",
       "      <td>186.0</td>\n",
       "      <td>132.370827</td>\n",
       "    </tr>\n",
       "    <tr>\n",
       "      <th>2</th>\n",
       "      <td>270.405</td>\n",
       "      <td>371.5833</td>\n",
       "      <td>493.485</td>\n",
       "      <td>-148.5033</td>\n",
       "      <td>223.080</td>\n",
       "      <td>93.976637</td>\n",
       "      <td>178.20</td>\n",
       "      <td>193.3833</td>\n",
       "      <td>0.000000</td>\n",
       "      <td>0.00</td>\n",
       "      <td>186.0</td>\n",
       "      <td>132.169266</td>\n",
       "    </tr>\n",
       "    <tr>\n",
       "      <th>3</th>\n",
       "      <td>493.485</td>\n",
       "      <td>371.5833</td>\n",
       "      <td>761.940</td>\n",
       "      <td>-103.1283</td>\n",
       "      <td>268.455</td>\n",
       "      <td>113.414806</td>\n",
       "      <td>214.05</td>\n",
       "      <td>157.5333</td>\n",
       "      <td>0.000000</td>\n",
       "      <td>0.00</td>\n",
       "      <td>186.0</td>\n",
       "      <td>131.947958</td>\n",
       "    </tr>\n",
       "    <tr>\n",
       "      <th>4</th>\n",
       "      <td>761.940</td>\n",
       "      <td>371.5833</td>\n",
       "      <td>1040.475</td>\n",
       "      <td>-93.0483</td>\n",
       "      <td>278.535</td>\n",
       "      <td>117.814531</td>\n",
       "      <td>224.55</td>\n",
       "      <td>147.0333</td>\n",
       "      <td>0.728623</td>\n",
       "      <td>2.10</td>\n",
       "      <td>186.0</td>\n",
       "      <td>131.736503</td>\n",
       "    </tr>\n",
       "    <tr>\n",
       "      <th>...</th>\n",
       "      <td>...</td>\n",
       "      <td>...</td>\n",
       "      <td>...</td>\n",
       "      <td>...</td>\n",
       "      <td>...</td>\n",
       "      <td>...</td>\n",
       "      <td>...</td>\n",
       "      <td>...</td>\n",
       "      <td>...</td>\n",
       "      <td>...</td>\n",
       "      <td>...</td>\n",
       "      <td>...</td>\n",
       "    </tr>\n",
       "    <tr>\n",
       "      <th>95</th>\n",
       "      <td>18874.650</td>\n",
       "      <td>371.5833</td>\n",
       "      <td>19080.270</td>\n",
       "      <td>-165.9633</td>\n",
       "      <td>205.620</td>\n",
       "      <td>84.887515</td>\n",
       "      <td>164.40</td>\n",
       "      <td>207.1833</td>\n",
       "      <td>0.000000</td>\n",
       "      <td>0.00</td>\n",
       "      <td>135.0</td>\n",
       "      <td>113.880518</td>\n",
       "    </tr>\n",
       "    <tr>\n",
       "      <th>96</th>\n",
       "      <td>19080.270</td>\n",
       "      <td>371.5833</td>\n",
       "      <td>19257.555</td>\n",
       "      <td>-194.2983</td>\n",
       "      <td>177.285</td>\n",
       "      <td>81.900465</td>\n",
       "      <td>175.95</td>\n",
       "      <td>195.6333</td>\n",
       "      <td>20.569214</td>\n",
       "      <td>36.00</td>\n",
       "      <td>135.0</td>\n",
       "      <td>113.698983</td>\n",
       "    </tr>\n",
       "    <tr>\n",
       "      <th>97</th>\n",
       "      <td>19257.555</td>\n",
       "      <td>371.5833</td>\n",
       "      <td>19448.955</td>\n",
       "      <td>-180.1833</td>\n",
       "      <td>191.400</td>\n",
       "      <td>93.670817</td>\n",
       "      <td>190.20</td>\n",
       "      <td>181.3833</td>\n",
       "      <td>20.275691</td>\n",
       "      <td>38.40</td>\n",
       "      <td>135.0</td>\n",
       "      <td>113.508230</td>\n",
       "    </tr>\n",
       "    <tr>\n",
       "      <th>98</th>\n",
       "      <td>19448.955</td>\n",
       "      <td>371.5833</td>\n",
       "      <td>19700.520</td>\n",
       "      <td>-120.0183</td>\n",
       "      <td>251.565</td>\n",
       "      <td>104.843038</td>\n",
       "      <td>201.75</td>\n",
       "      <td>169.8333</td>\n",
       "      <td>0.000000</td>\n",
       "      <td>0.00</td>\n",
       "      <td>135.0</td>\n",
       "      <td>113.326325</td>\n",
       "    </tr>\n",
       "    <tr>\n",
       "      <th>99</th>\n",
       "      <td>19700.520</td>\n",
       "      <td>371.5833</td>\n",
       "      <td>19948.320</td>\n",
       "      <td>-123.7833</td>\n",
       "      <td>247.800</td>\n",
       "      <td>112.613945</td>\n",
       "      <td>233.85</td>\n",
       "      <td>137.7333</td>\n",
       "      <td>20.115589</td>\n",
       "      <td>36.45</td>\n",
       "      <td>136.0</td>\n",
       "      <td>113.154192</td>\n",
       "    </tr>\n",
       "  </tbody>\n",
       "</table>\n",
       "<p>100 rows × 12 columns</p>\n",
       "</div>"
      ],
      "text/plain": [
       "    initial inventories  total costs  final inventories   profits   \n",
       "0                 0.000     371.5833            106.965 -264.6183  \\\n",
       "1               106.965     371.5833            270.405 -208.1433   \n",
       "2               270.405     371.5833            493.485 -148.5033   \n",
       "3               493.485     371.5833            761.940 -103.1283   \n",
       "4               761.940     371.5833           1040.475  -93.0483   \n",
       "..                  ...          ...                ...       ...   \n",
       "95            18874.650     371.5833          19080.270 -165.9633   \n",
       "96            19080.270     371.5833          19257.555 -194.2983   \n",
       "97            19257.555     371.5833          19448.955 -180.1833   \n",
       "98            19448.955     371.5833          19700.520 -120.0183   \n",
       "99            19700.520     371.5833          19948.320 -123.7833   \n",
       "\n",
       "    added value  total production  cost of production  cost of unused factors   \n",
       "0       106.965         46.499992               93.45                278.1333  \\\n",
       "1       163.440         69.407278              130.80                240.7833   \n",
       "2       223.080         93.976637              178.20                193.3833   \n",
       "3       268.455        113.414806              214.05                157.5333   \n",
       "4       278.535        117.814531              224.55                147.0333   \n",
       "..          ...               ...                 ...                     ...   \n",
       "95      205.620         84.887515              164.40                207.1833   \n",
       "96      177.285         81.900465              175.95                195.6333   \n",
       "97      191.400         93.670817              190.20                181.3833   \n",
       "98      251.565        104.843038              201.75                169.8333   \n",
       "99      247.800        112.613945              233.85                137.7333   \n",
       "\n",
       "    total lost production  total cost of lost production  cost of labor   \n",
       "0                3.317398                           6.30          239.0  \\\n",
       "1                0.000000                           0.00          186.0   \n",
       "2                0.000000                           0.00          186.0   \n",
       "3                0.000000                           0.00          186.0   \n",
       "4                0.728623                           2.10          186.0   \n",
       "..                    ...                            ...            ...   \n",
       "95               0.000000                           0.00          135.0   \n",
       "96              20.569214                          36.00          135.0   \n",
       "97              20.275691                          38.40          135.0   \n",
       "98               0.000000                           0.00          135.0   \n",
       "99              20.115589                          36.45          136.0   \n",
       "\n",
       "    cost of capital  \n",
       "0        132.583300  \n",
       "1        132.370827  \n",
       "2        132.169266  \n",
       "3        131.947958  \n",
       "4        131.736503  \n",
       "..              ...  \n",
       "95       113.880518  \n",
       "96       113.698983  \n",
       "97       113.508230  \n",
       "98       113.326325  \n",
       "99       113.154192  \n",
       "\n",
       "[100 rows x 12 columns]"
      ]
     },
     "execution_count": 9,
     "metadata": {},
     "output_type": "execute_result"
    }
   ],
   "source": [
    "data['allFirms'].drop(['dimensional class'], axis=1)"
   ]
  },
  {
   "cell_type": "code",
   "execution_count": 10,
   "id": "b5f54910",
   "metadata": {},
   "outputs": [
    {
     "data": {
      "text/plain": [
       "<matplotlib.legend.Legend at 0x7f51dfaca550>"
      ]
     },
     "execution_count": 10,
     "metadata": {},
     "output_type": "execute_result"
    },
    {
     "data": {
      "image/png": "[encoded data removed]",
      "text/plain": [
       "<Figure size 432x288 with 1 Axes>"
      ]
     },
     "metadata": {
      "needs_background": "light"
     },
     "output_type": "display_data"
    }
   ],
   "source": [
    "data['allFirms'].drop(['dimensional class'], axis=1).plot()\n",
    "plt.legend(loc='center left', bbox_to_anchor=(1, 0.5))"
   ]
  },
  {
   "cell_type": "code",
   "execution_count": 11,
   "id": "37ef8864",
   "metadata": {},
   "outputs": [
    {
     "data": {
      "text/plain": [
       "<matplotlib.legend.Legend at 0x7f51db5f6310>"
      ]
     },
     "execution_count": 11,
     "metadata": {},
     "output_type": "execute_result"
    },
    {
     "data": {
      "image/png": "[encoded data removed]",
      "text/plain": [
       "<Figure size 432x288 with 1 Axes>"
      ]
     },
     "metadata": {
      "needs_background": "light"
     },
     "output_type": "display_data"
    }
   ],
   "source": [
    "data['(0, 0, 0)'].drop(['dimensional class'], axis=1).plot()\n",
    "plt.legend(loc='center left', bbox_to_anchor=(1, 0.5))"
   ]
  },
  {
   "cell_type": "code",
   "execution_count": 12,
   "id": "e83e5a8d",
   "metadata": {},
   "outputs": [
    {
     "data": {
      "text/plain": [
       "<AxesSubplot: >"
      ]
     },
     "execution_count": 12,
     "metadata": {},
     "output_type": "execute_result"
    },
    {
     "data": {
      "image/png": "[encoded data removed]",
      "text/plain": [
       "<Figure size 432x288 with 1 Axes>"
      ]
     },
     "metadata": {
      "needs_background": "light"
     },
     "output_type": "display_data"
    }
   ],
   "source": [
    "data['allFirms'][[ 'cost of capital','cost of labor']].plot()"
   ]
  },
  {
   "cell_type": "code",
   "execution_count": 13,
   "id": "3222dbeb",
   "metadata": {},
   "outputs": [
    {
     "data": {
      "text/plain": [
       "<AxesSubplot: >"
      ]
     },
     "execution_count": 13,
     "metadata": {},
     "output_type": "execute_result"
    },
    {
     "data": {
      "image/png": "[encoded data removed]",
      "text/plain": [
       "<Figure size 432x288 with 1 Axes>"
      ]
     },
     "metadata": {
      "needs_background": "light"
     },
     "output_type": "display_data"
    }
   ],
   "source": [
    "data['(0, 0, 0)'][['cost of capital', 'cost of labor']].plot()"
   ]
  },
  {
   "cell_type": "markdown",
   "id": "3882ff59",
   "metadata": {},
   "source": [
    "# The National Economic Balance Table"
   ]
  },
  {
   "cell_type": "code",
   "execution_count": 14,
   "id": "cb2153f3",
   "metadata": {},
   "outputs": [
    {
     "data": {
      "text/html": [
       "<div>\n",
       "<style scoped>\n",
       "    .dataframe tbody tr th:only-of-type {\n",
       "        vertical-align: middle;\n",
       "    }\n",
       "\n",
       "    .dataframe tbody tr th {\n",
       "        vertical-align: top;\n",
       "    }\n",
       "\n",
       "    .dataframe thead th {\n",
       "        text-align: right;\n",
       "    }\n",
       "</style>\n",
       "<table border=\"1\" class=\"dataframe\">\n",
       "  <thead>\n",
       "    <tr style=\"text-align: right;\">\n",
       "      <th></th>\n",
       "      <th>initial inventories</th>\n",
       "      <th>added value</th>\n",
       "      <th>final inventories</th>\n",
       "    </tr>\n",
       "  </thead>\n",
       "  <tbody>\n",
       "    <tr>\n",
       "      <th>0</th>\n",
       "      <td>0.000</td>\n",
       "      <td>106.965</td>\n",
       "      <td>106.965</td>\n",
       "    </tr>\n",
       "    <tr>\n",
       "      <th>1</th>\n",
       "      <td>106.965</td>\n",
       "      <td>163.440</td>\n",
       "      <td>270.405</td>\n",
       "    </tr>\n",
       "    <tr>\n",
       "      <th>2</th>\n",
       "      <td>270.405</td>\n",
       "      <td>223.080</td>\n",
       "      <td>493.485</td>\n",
       "    </tr>\n",
       "    <tr>\n",
       "      <th>3</th>\n",
       "      <td>493.485</td>\n",
       "      <td>268.455</td>\n",
       "      <td>761.940</td>\n",
       "    </tr>\n",
       "    <tr>\n",
       "      <th>4</th>\n",
       "      <td>761.940</td>\n",
       "      <td>278.535</td>\n",
       "      <td>1040.475</td>\n",
       "    </tr>\n",
       "    <tr>\n",
       "      <th>...</th>\n",
       "      <td>...</td>\n",
       "      <td>...</td>\n",
       "      <td>...</td>\n",
       "    </tr>\n",
       "    <tr>\n",
       "      <th>95</th>\n",
       "      <td>18874.650</td>\n",
       "      <td>205.620</td>\n",
       "      <td>19080.270</td>\n",
       "    </tr>\n",
       "    <tr>\n",
       "      <th>96</th>\n",
       "      <td>19080.270</td>\n",
       "      <td>177.285</td>\n",
       "      <td>19257.555</td>\n",
       "    </tr>\n",
       "    <tr>\n",
       "      <th>97</th>\n",
       "      <td>19257.555</td>\n",
       "      <td>191.400</td>\n",
       "      <td>19448.955</td>\n",
       "    </tr>\n",
       "    <tr>\n",
       "      <th>98</th>\n",
       "      <td>19448.955</td>\n",
       "      <td>251.565</td>\n",
       "      <td>19700.520</td>\n",
       "    </tr>\n",
       "    <tr>\n",
       "      <th>99</th>\n",
       "      <td>19700.520</td>\n",
       "      <td>247.800</td>\n",
       "      <td>19948.320</td>\n",
       "    </tr>\n",
       "  </tbody>\n",
       "</table>\n",
       "<p>100 rows × 3 columns</p>\n",
       "</div>"
      ],
      "text/plain": [
       "    initial inventories  added value  final inventories\n",
       "0                 0.000      106.965            106.965\n",
       "1               106.965      163.440            270.405\n",
       "2               270.405      223.080            493.485\n",
       "3               493.485      268.455            761.940\n",
       "4               761.940      278.535           1040.475\n",
       "..                  ...          ...                ...\n",
       "95            18874.650      205.620          19080.270\n",
       "96            19080.270      177.285          19257.555\n",
       "97            19257.555      191.400          19448.955\n",
       "98            19448.955      251.565          19700.520\n",
       "99            19700.520      247.800          19948.320\n",
       "\n",
       "[100 rows x 3 columns]"
      ]
     },
     "execution_count": 14,
     "metadata": {},
     "output_type": "execute_result"
    }
   ],
   "source": [
    "data['allFirms'][['initial inventories', 'added value', 'final inventories']]"
   ]
  }
 ],
 "metadata": {
  "kernelspec": {
   "display_name": "Python 3 (ipykernel)",
   "language": "python",
   "name": "python3"
  },
  "language_info": {
   "codemirror_mode": {
    "name": "ipython",
    "version": 3
   },
   "file_extension": ".py",
   "mimetype": "text/x-python",
   "name": "python",
   "nbconvert_exporter": "python",
   "pygments_lexer": "ipython3",
   "version": "3.8.10"
  }
 },
 "nbformat": 4,
 "nbformat_minor": 5
}
