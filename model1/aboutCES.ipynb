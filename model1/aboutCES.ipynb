{
 "cells": [
  {
   "cell_type": "markdown",
   "id": "9f1bbe69",
   "metadata": {},
   "source": [
    "Mathematica (text)\n",
    "\n",
    "Y=C (π K^((σ-1)/σ) + (1-π) L^((σ-1)/σ))^(σ/(σ-1))\n",
    "\n",
    "to LaTeX\n",
    "\n",
    "$C \\left(\\pi  K^{\\frac{\\sigma -1}{\\sigma}}+(1-\\pi ) L^{\\frac{\\sigma -1}{\\sigma}}\\right)^{\\frac{\\sigma }{\\sigma -1}}$\n",
    "\n",
    "better\n",
    "\n",
    "$Y = C \\left(\\pi  K^{\\frac{\\sigma -1}{\\sigma}}+(1-\\pi ) L^{\\frac{\\sigma -1}{\\sigma}}\\right)^{\\frac{\\sigma }{\\sigma -1}}$ (1)"
   ]
  },
  {
   "cell_type": "markdown",
   "id": "8290c44c",
   "metadata": {},
   "source": [
    "in [THE NORMALIZED CES PRODUCTION FUNCTION THEORY AND EMPIRICS](https://www.ecb.europa.eu/pub/pdf/scpwps/ecbwp1294.pdf?9fcd5fddf87498417164716f2bbee9fd), (EUROPEAN CENTRAL BANK, WORKING PAPER SERIES NO 1294 / FEBRUARY 2011) p.12, we read:\n",
    "\n",
    "$\\pi$ reflects capital intensity in production;\n",
    "\n",
    "if $\\sigma$, the elasticity of substitution between capital, $K$, and labor, $L$, \n",
    "\n",
    "$\\to 1$, eq. (1) becomes a Cobb-Douglas:\n",
    "\n",
    "LaTeX \\\n",
    "$\\lim_{\\sigma \\to 1} C \\left(\\pi  K^{\\frac{\\sigma -1}{\\sigma}}+(1-\\pi ) L^{\\frac{\\sigma -1}{\\sigma}}\\right)^{\\frac{\\sigma }{\\sigma -1}}$\n",
    "\n",
    "giving \n",
    "\n",
    "LaTeX \\\n",
    "$C K^{\\pi } L^{1-\\pi }$\n",
    "\n",
    "very interesting to understand the distribution parameter or share factor $\\pi$.\n"
   ]
  },
  {
   "cell_type": "markdown",
   "id": "db2e98cf",
   "metadata": {},
   "source": [
    "$\\to \\infty$, eq. (1) becomes a a linear production function with perfect factor substitution:\n",
    "\n",
    "LaTeX \\\n",
    "$\\lim_{\\sigma \\to \\infty} C \\left(\\pi  K^{\\frac{\\sigma -1}{\\sigma}}+(1-\\pi ) L^{\\frac{\\sigma -1}{\\sigma}}\\right)^{\\frac{\\sigma }{\\sigma -1}}$\n",
    "\n",
    "giving \n",
    "\n",
    "LaTeX \\\n",
    "$C (\\pi  K+L-\\pi  L)$\n"
   ]
  },
  {
   "cell_type": "markdown",
   "id": "93da4fc2",
   "metadata": {},
   "source": [
    "$\\to 0$, eq. (1) should become a Leontief function with fixed factor proportions, but Mathematica **does not solve the limit** \\\n",
    "Limit[C (\\[Pi] K^((\\[Sigma] - \n",
    "           1)/\\[Sigma]) + (1 - \\[Pi]) L^((\\[Sigma] - \n",
    "           1)/\\[Sigma]))^(\\[Sigma]/(\\[Sigma] - 1)), \\[Sigma] -> \n",
    "  0]\n",
    "  \n",
    " or\n",
    " \n",
    " LaTeX \\\n",
    "$\\lim_{\\sigma \\to 0} C \\left(\\pi  K^{\\frac{\\sigma -1}{\\sigma}}+(1-\\pi ) L^{\\frac{\\sigma -1}{\\sigma}}\\right)^{\\frac{\\sigma }{\\sigma -1}}$"
   ]
  },
  {
   "cell_type": "markdown",
   "id": "3d6fd710",
   "metadata": {},
   "source": [
    "#### going around\n",
    "\n",
    "considering [Wikipedia Constant elasticity of substitution](https://en.wikipedia.org/wiki/Constant_elasticity_of_substitution) \\\n",
    "with $a$ as $\\alpha$ and $r$ as $\\rho$, having $\\rho=\\frac{\\sigma - 1}{\\sigma}$, \\\n",
    "the input in natural language in WolframAlpha is\\\n",
    "\n",
    "Limit[F (a K^r + (1 - a) L^r)^(1/r),r->∞]\n",
    "\n",
    "obtaining\n",
    "\n",
    "![output da WolframAlpha](f.png \"limite\")"
   ]
  },
  {
   "cell_type": "code",
   "execution_count": null,
   "id": "30a5e9dc",
   "metadata": {},
   "outputs": [],
   "source": []
  }
 ],
 "metadata": {
  "kernelspec": {
   "display_name": "Python 3 (ipykernel)",
   "language": "python",
   "name": "python3"
  },
  "language_info": {
   "codemirror_mode": {
    "name": "ipython",
    "version": 3
   },
   "file_extension": ".py",
   "mimetype": "text/x-python",
   "name": "python",
   "nbconvert_exporter": "python",
   "pygments_lexer": "ipython3",
   "version": "3.8.10"
  }
 },
 "nbformat": 4,
 "nbformat_minor": 5
}
