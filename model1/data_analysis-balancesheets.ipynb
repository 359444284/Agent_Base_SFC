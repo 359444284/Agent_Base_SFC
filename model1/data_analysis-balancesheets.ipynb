{
 "cells": [
  {
   "cell_type": "code",
   "execution_count": 1,
   "id": "54429256",
   "metadata": {},
   "outputs": [
    {
     "data": {
      "application/javascript": [
       "// to avoid scroll in windows\n",
       "IPython.OutputArea.prototype._should_scroll = function(lines) {\n",
       "    return false;\n",
       "}\n"
      ],
      "text/plain": [
       "<IPython.core.display.Javascript object>"
      ]
     },
     "metadata": {},
     "output_type": "display_data"
    }
   ],
   "source": [
    "%%javascript\n",
    "// to avoid scroll in windows\n",
    "IPython.OutputArea.prototype._should_scroll = function(lines) {\n",
    "    return false;\n",
    "}"
   ]
  },
  {
   "cell_type": "code",
   "execution_count": 2,
   "id": "1d979a83",
   "metadata": {},
   "outputs": [],
   "source": [
    "import matplotlib.pyplot as plt #used to avoid a warning message"
   ]
  },
  {
   "cell_type": "code",
   "execution_count": 3,
   "id": "5c899d08",
   "metadata": {},
   "outputs": [],
   "source": [
    "import pandas as pd\n",
    "import numpy as np\n",
    "import csv\n",
    "#from repast4py import parameters\n",
    "#params = parameters.init_params(\"model1.yaml\", \"\")\n",
    "\n",
    "with open(\"plotInfo.csv\",\"r\") as data:\n",
    "    reader = csv.reader(data, delimiter = ',')\n",
    "    for row in reader:\n",
    "        fileNameRoot=row[0]\n",
    "        rankNum=int(row[1])\n",
    "        ag0num=int(row[2])"
   ]
  },
  {
   "cell_type": "code",
   "execution_count": 4,
   "id": "c4ec1b89",
   "metadata": {},
   "outputs": [],
   "source": [
    "colNames=[\"dimensional class\", \"initial inventories\",\"total costs\", \"final inventories\",\"profits\", \"added value\",\\\n",
    "          \"total production\", \"cost of production\", \"cost of unused factors\",\\\n",
    "          \"total lost production\", \"total cost of lost production\", \"cost of labor\", \"cost of capital\"]\n",
    "fileNameArray=np.chararray((ag0num, rankNum), itemsize=len(fileNameRoot)+30, unicode=True)"
   ]
  },
  {
   "cell_type": "code",
   "execution_count": 5,
   "id": "232ef22a",
   "metadata": {},
   "outputs": [],
   "source": [
    "for k in range(rankNum):\n",
    "    with open(fileNameRoot+\"_balancesheetList_\"+str(k)+\".csv\",\"r\") as fileList:\n",
    "        reader = csv.reader(fileList, delimiter = ',')\n",
    "  \n",
    "        for row in reader:\n",
    "            for i in range(len(row)):\n",
    "                fileNameArray[i,k]=row[i]"
   ]
  },
  {
   "cell_type": "code",
   "execution_count": 6,
   "id": "50aa5f44",
   "metadata": {},
   "outputs": [],
   "source": [
    "# database\n",
    "data={}\n",
    "for k in range(rankNum):\n",
    "    for i in range(ag0num):\n",
    "        p1=fileNameArray[i,k].find('(')\n",
    "        p2=fileNameArray[i,k].find(')')+1\n",
    "        data[fileNameArray[i,k][p1:p2]]=pd.read_csv(fileNameArray[i,k], header=None)\n",
    "\n",
    "for aFirm in data.keys():\n",
    "    data[aFirm].columns=colNames"
   ]
  },
  {
   "cell_type": "code",
   "execution_count": 7,
   "id": "419bacd5",
   "metadata": {},
   "outputs": [],
   "source": [
    "# output by ranks\n",
    "with plt.rc_context(rc={'figure.max_open_warning': 0}): #to avoid a worning about open plots\n",
    "    \n",
    "    data['allFirms']=data[list(data.keys())[0]].copy() # copy of first firm\n",
    "    for aFirmUid in list(data.keys())[1:-1]:\n",
    "        #if data[aFirmUid]['dimensional class'].loc[0] == 1.0: #to filter firms according to dim class\n",
    "        data['allFirms']=data['allFirms'].add(data[aFirmUid])\n"
   ]
  },
  {
   "cell_type": "code",
   "execution_count": 8,
   "id": "33a0f12d",
   "metadata": {},
   "outputs": [
    {
     "data": {
      "text/html": [
       "<div>\n",
       "<style scoped>\n",
       "    .dataframe tbody tr th:only-of-type {\n",
       "        vertical-align: middle;\n",
       "    }\n",
       "\n",
       "    .dataframe tbody tr th {\n",
       "        vertical-align: top;\n",
       "    }\n",
       "\n",
       "    .dataframe thead th {\n",
       "        text-align: right;\n",
       "    }\n",
       "</style>\n",
       "<table border=\"1\" class=\"dataframe\">\n",
       "  <thead>\n",
       "    <tr style=\"text-align: right;\">\n",
       "      <th></th>\n",
       "      <th>initial inventories</th>\n",
       "      <th>total costs</th>\n",
       "      <th>final inventories</th>\n",
       "      <th>profits</th>\n",
       "      <th>added value</th>\n",
       "      <th>total production</th>\n",
       "      <th>cost of production</th>\n",
       "      <th>cost of unused factors</th>\n",
       "      <th>total lost production</th>\n",
       "      <th>total cost of lost production</th>\n",
       "      <th>cost of labor</th>\n",
       "      <th>cost of capital</th>\n",
       "    </tr>\n",
       "  </thead>\n",
       "  <tbody>\n",
       "    <tr>\n",
       "      <th>0</th>\n",
       "      <td>0.000</td>\n",
       "      <td>358.736699</td>\n",
       "      <td>104.835</td>\n",
       "      <td>-253.901699</td>\n",
       "      <td>1.048350e+02</td>\n",
       "      <td>46.273350</td>\n",
       "      <td>97.05</td>\n",
       "      <td>261.686699</td>\n",
       "      <td>6.678746</td>\n",
       "      <td>12.00</td>\n",
       "      <td>276.0</td>\n",
       "      <td>82.736699</td>\n",
       "    </tr>\n",
       "    <tr>\n",
       "      <th>1</th>\n",
       "      <td>104.835</td>\n",
       "      <td>358.736699</td>\n",
       "      <td>183.780</td>\n",
       "      <td>-279.791699</td>\n",
       "      <td>7.894500e+01</td>\n",
       "      <td>55.326879</td>\n",
       "      <td>137.70</td>\n",
       "      <td>221.036699</td>\n",
       "      <td>36.071986</td>\n",
       "      <td>69.15</td>\n",
       "      <td>251.0</td>\n",
       "      <td>75.982351</td>\n",
       "    </tr>\n",
       "    <tr>\n",
       "      <th>2</th>\n",
       "      <td>183.780</td>\n",
       "      <td>358.736699</td>\n",
       "      <td>388.185</td>\n",
       "      <td>-154.331699</td>\n",
       "      <td>2.044050e+02</td>\n",
       "      <td>90.589554</td>\n",
       "      <td>166.95</td>\n",
       "      <td>191.786699</td>\n",
       "      <td>0.000000</td>\n",
       "      <td>0.00</td>\n",
       "      <td>227.0</td>\n",
       "      <td>69.714147</td>\n",
       "    </tr>\n",
       "    <tr>\n",
       "      <th>3</th>\n",
       "      <td>388.185</td>\n",
       "      <td>358.736699</td>\n",
       "      <td>612.480</td>\n",
       "      <td>-134.441699</td>\n",
       "      <td>2.242950e+02</td>\n",
       "      <td>97.757792</td>\n",
       "      <td>182.25</td>\n",
       "      <td>176.486699</td>\n",
       "      <td>0.000000</td>\n",
       "      <td>0.00</td>\n",
       "      <td>209.0</td>\n",
       "      <td>64.038605</td>\n",
       "    </tr>\n",
       "    <tr>\n",
       "      <th>4</th>\n",
       "      <td>612.480</td>\n",
       "      <td>358.736699</td>\n",
       "      <td>863.925</td>\n",
       "      <td>-107.291699</td>\n",
       "      <td>2.514450e+02</td>\n",
       "      <td>106.612659</td>\n",
       "      <td>216.15</td>\n",
       "      <td>142.586699</td>\n",
       "      <td>8.149836</td>\n",
       "      <td>14.40</td>\n",
       "      <td>189.0</td>\n",
       "      <td>58.846504</td>\n",
       "    </tr>\n",
       "    <tr>\n",
       "      <th>...</th>\n",
       "      <td>...</td>\n",
       "      <td>...</td>\n",
       "      <td>...</td>\n",
       "      <td>...</td>\n",
       "      <td>...</td>\n",
       "      <td>...</td>\n",
       "      <td>...</td>\n",
       "      <td>...</td>\n",
       "      <td>...</td>\n",
       "      <td>...</td>\n",
       "      <td>...</td>\n",
       "      <td>...</td>\n",
       "    </tr>\n",
       "    <tr>\n",
       "      <th>95</th>\n",
       "      <td>3705.720</td>\n",
       "      <td>358.736699</td>\n",
       "      <td>3706.875</td>\n",
       "      <td>-357.581699</td>\n",
       "      <td>1.155000e+00</td>\n",
       "      <td>0.281661</td>\n",
       "      <td>1.05</td>\n",
       "      <td>357.686699</td>\n",
       "      <td>0.000000</td>\n",
       "      <td>0.00</td>\n",
       "      <td>12.0</td>\n",
       "      <td>3.583108</td>\n",
       "    </tr>\n",
       "    <tr>\n",
       "      <th>96</th>\n",
       "      <td>3706.875</td>\n",
       "      <td>358.736699</td>\n",
       "      <td>3706.875</td>\n",
       "      <td>-358.736699</td>\n",
       "      <td>7.371881e-14</td>\n",
       "      <td>0.000000</td>\n",
       "      <td>0.00</td>\n",
       "      <td>358.736699</td>\n",
       "      <td>0.000000</td>\n",
       "      <td>0.00</td>\n",
       "      <td>12.0</td>\n",
       "      <td>3.571598</td>\n",
       "    </tr>\n",
       "    <tr>\n",
       "      <th>97</th>\n",
       "      <td>3706.875</td>\n",
       "      <td>358.736699</td>\n",
       "      <td>3706.875</td>\n",
       "      <td>-358.736699</td>\n",
       "      <td>7.371881e-14</td>\n",
       "      <td>0.000000</td>\n",
       "      <td>0.00</td>\n",
       "      <td>358.736699</td>\n",
       "      <td>0.000000</td>\n",
       "      <td>0.00</td>\n",
       "      <td>12.0</td>\n",
       "      <td>3.571598</td>\n",
       "    </tr>\n",
       "    <tr>\n",
       "      <th>98</th>\n",
       "      <td>3706.875</td>\n",
       "      <td>358.736699</td>\n",
       "      <td>3706.875</td>\n",
       "      <td>-358.736699</td>\n",
       "      <td>7.371881e-14</td>\n",
       "      <td>0.000000</td>\n",
       "      <td>0.00</td>\n",
       "      <td>358.736699</td>\n",
       "      <td>0.000000</td>\n",
       "      <td>0.00</td>\n",
       "      <td>12.0</td>\n",
       "      <td>3.571598</td>\n",
       "    </tr>\n",
       "    <tr>\n",
       "      <th>99</th>\n",
       "      <td>3706.875</td>\n",
       "      <td>358.736699</td>\n",
       "      <td>3706.875</td>\n",
       "      <td>-358.736699</td>\n",
       "      <td>7.371881e-14</td>\n",
       "      <td>0.000000</td>\n",
       "      <td>0.00</td>\n",
       "      <td>358.736699</td>\n",
       "      <td>0.000000</td>\n",
       "      <td>0.00</td>\n",
       "      <td>12.0</td>\n",
       "      <td>3.571598</td>\n",
       "    </tr>\n",
       "  </tbody>\n",
       "</table>\n",
       "<p>100 rows × 12 columns</p>\n",
       "</div>"
      ],
      "text/plain": [
       "    initial inventories  total costs  final inventories     profits   \n",
       "0                 0.000   358.736699            104.835 -253.901699  \\\n",
       "1               104.835   358.736699            183.780 -279.791699   \n",
       "2               183.780   358.736699            388.185 -154.331699   \n",
       "3               388.185   358.736699            612.480 -134.441699   \n",
       "4               612.480   358.736699            863.925 -107.291699   \n",
       "..                  ...          ...                ...         ...   \n",
       "95             3705.720   358.736699           3706.875 -357.581699   \n",
       "96             3706.875   358.736699           3706.875 -358.736699   \n",
       "97             3706.875   358.736699           3706.875 -358.736699   \n",
       "98             3706.875   358.736699           3706.875 -358.736699   \n",
       "99             3706.875   358.736699           3706.875 -358.736699   \n",
       "\n",
       "     added value  total production  cost of production   \n",
       "0   1.048350e+02         46.273350               97.05  \\\n",
       "1   7.894500e+01         55.326879              137.70   \n",
       "2   2.044050e+02         90.589554              166.95   \n",
       "3   2.242950e+02         97.757792              182.25   \n",
       "4   2.514450e+02        106.612659              216.15   \n",
       "..           ...               ...                 ...   \n",
       "95  1.155000e+00          0.281661                1.05   \n",
       "96  7.371881e-14          0.000000                0.00   \n",
       "97  7.371881e-14          0.000000                0.00   \n",
       "98  7.371881e-14          0.000000                0.00   \n",
       "99  7.371881e-14          0.000000                0.00   \n",
       "\n",
       "    cost of unused factors  total lost production   \n",
       "0               261.686699               6.678746  \\\n",
       "1               221.036699              36.071986   \n",
       "2               191.786699               0.000000   \n",
       "3               176.486699               0.000000   \n",
       "4               142.586699               8.149836   \n",
       "..                     ...                    ...   \n",
       "95              357.686699               0.000000   \n",
       "96              358.736699               0.000000   \n",
       "97              358.736699               0.000000   \n",
       "98              358.736699               0.000000   \n",
       "99              358.736699               0.000000   \n",
       "\n",
       "    total cost of lost production  cost of labor  cost of capital  \n",
       "0                           12.00          276.0        82.736699  \n",
       "1                           69.15          251.0        75.982351  \n",
       "2                            0.00          227.0        69.714147  \n",
       "3                            0.00          209.0        64.038605  \n",
       "4                           14.40          189.0        58.846504  \n",
       "..                            ...            ...              ...  \n",
       "95                           0.00           12.0         3.583108  \n",
       "96                           0.00           12.0         3.571598  \n",
       "97                           0.00           12.0         3.571598  \n",
       "98                           0.00           12.0         3.571598  \n",
       "99                           0.00           12.0         3.571598  \n",
       "\n",
       "[100 rows x 12 columns]"
      ]
     },
     "execution_count": 8,
     "metadata": {},
     "output_type": "execute_result"
    }
   ],
   "source": [
    "data['allFirms'].drop(['dimensional class'], axis=1)"
   ]
  },
  {
   "cell_type": "code",
   "execution_count": 9,
   "id": "b5f54910",
   "metadata": {},
   "outputs": [
    {
     "data": {
      "text/plain": [
       "<matplotlib.legend.Legend at 0x7f266467ba30>"
      ]
     },
     "execution_count": 9,
     "metadata": {},
     "output_type": "execute_result"
    },
    {
     "data": {
      "image/png": "[encoded data removed]",
      "text/plain": [
       "<Figure size 432x288 with 1 Axes>"
      ]
     },
     "metadata": {
      "needs_background": "light"
     },
     "output_type": "display_data"
    }
   ],
   "source": [
    "data['allFirms'].drop(['dimensional class'], axis=1).plot()\n",
    "plt.legend(loc='center left', bbox_to_anchor=(1, 0.5))"
   ]
  },
  {
   "cell_type": "code",
   "execution_count": 10,
   "id": "37ef8864",
   "metadata": {},
   "outputs": [
    {
     "data": {
      "text/plain": [
       "<matplotlib.legend.Legend at 0x7f261ff4cfd0>"
      ]
     },
     "execution_count": 10,
     "metadata": {},
     "output_type": "execute_result"
    },
    {
     "data": {
      "image/png": "[encoded data removed]",
      "text/plain": [
       "<Figure size 432x288 with 1 Axes>"
      ]
     },
     "metadata": {
      "needs_background": "light"
     },
     "output_type": "display_data"
    }
   ],
   "source": [
    "data['(0, 0, 0)'].drop(['dimensional class'], axis=1).plot()\n",
    "plt.legend(loc='center left', bbox_to_anchor=(1, 0.5))"
   ]
  },
  {
   "cell_type": "code",
   "execution_count": 11,
   "id": "e83e5a8d",
   "metadata": {},
   "outputs": [
    {
     "data": {
      "text/plain": [
       "<AxesSubplot: >"
      ]
     },
     "execution_count": 11,
     "metadata": {},
     "output_type": "execute_result"
    },
    {
     "data": {
      "image/png": "[encoded data removed]",
      "text/plain": [
       "<Figure size 432x288 with 1 Axes>"
      ]
     },
     "metadata": {
      "needs_background": "light"
     },
     "output_type": "display_data"
    }
   ],
   "source": [
    "data['allFirms'][[ 'cost of capital','cost of labor']].plot()"
   ]
  },
  {
   "cell_type": "code",
   "execution_count": 12,
   "id": "3222dbeb",
   "metadata": {},
   "outputs": [
    {
     "data": {
      "text/plain": [
       "<AxesSubplot: >"
      ]
     },
     "execution_count": 12,
     "metadata": {},
     "output_type": "execute_result"
    },
    {
     "data": {
      "image/png": "[encoded data removed]",
      "text/plain": [
       "<Figure size 432x288 with 1 Axes>"
      ]
     },
     "metadata": {
      "needs_background": "light"
     },
     "output_type": "display_data"
    }
   ],
   "source": [
    "data['(0, 0, 0)'][['cost of capital', 'cost of labor']].plot()"
   ]
  },
  {
   "cell_type": "markdown",
   "id": "3882ff59",
   "metadata": {},
   "source": [
    "# The National Economic Balance Table"
   ]
  },
  {
   "cell_type": "code",
   "execution_count": 13,
   "id": "cb2153f3",
   "metadata": {},
   "outputs": [
    {
     "data": {
      "text/html": [
       "<div>\n",
       "<style scoped>\n",
       "    .dataframe tbody tr th:only-of-type {\n",
       "        vertical-align: middle;\n",
       "    }\n",
       "\n",
       "    .dataframe tbody tr th {\n",
       "        vertical-align: top;\n",
       "    }\n",
       "\n",
       "    .dataframe thead th {\n",
       "        text-align: right;\n",
       "    }\n",
       "</style>\n",
       "<table border=\"1\" class=\"dataframe\">\n",
       "  <thead>\n",
       "    <tr style=\"text-align: right;\">\n",
       "      <th></th>\n",
       "      <th>initial inventories</th>\n",
       "      <th>added value</th>\n",
       "      <th>final inventories</th>\n",
       "    </tr>\n",
       "  </thead>\n",
       "  <tbody>\n",
       "    <tr>\n",
       "      <th>0</th>\n",
       "      <td>0.000</td>\n",
       "      <td>1.048350e+02</td>\n",
       "      <td>104.835</td>\n",
       "    </tr>\n",
       "    <tr>\n",
       "      <th>1</th>\n",
       "      <td>104.835</td>\n",
       "      <td>7.894500e+01</td>\n",
       "      <td>183.780</td>\n",
       "    </tr>\n",
       "    <tr>\n",
       "      <th>2</th>\n",
       "      <td>183.780</td>\n",
       "      <td>2.044050e+02</td>\n",
       "      <td>388.185</td>\n",
       "    </tr>\n",
       "    <tr>\n",
       "      <th>3</th>\n",
       "      <td>388.185</td>\n",
       "      <td>2.242950e+02</td>\n",
       "      <td>612.480</td>\n",
       "    </tr>\n",
       "    <tr>\n",
       "      <th>4</th>\n",
       "      <td>612.480</td>\n",
       "      <td>2.514450e+02</td>\n",
       "      <td>863.925</td>\n",
       "    </tr>\n",
       "    <tr>\n",
       "      <th>...</th>\n",
       "      <td>...</td>\n",
       "      <td>...</td>\n",
       "      <td>...</td>\n",
       "    </tr>\n",
       "    <tr>\n",
       "      <th>95</th>\n",
       "      <td>3705.720</td>\n",
       "      <td>1.155000e+00</td>\n",
       "      <td>3706.875</td>\n",
       "    </tr>\n",
       "    <tr>\n",
       "      <th>96</th>\n",
       "      <td>3706.875</td>\n",
       "      <td>7.371881e-14</td>\n",
       "      <td>3706.875</td>\n",
       "    </tr>\n",
       "    <tr>\n",
       "      <th>97</th>\n",
       "      <td>3706.875</td>\n",
       "      <td>7.371881e-14</td>\n",
       "      <td>3706.875</td>\n",
       "    </tr>\n",
       "    <tr>\n",
       "      <th>98</th>\n",
       "      <td>3706.875</td>\n",
       "      <td>7.371881e-14</td>\n",
       "      <td>3706.875</td>\n",
       "    </tr>\n",
       "    <tr>\n",
       "      <th>99</th>\n",
       "      <td>3706.875</td>\n",
       "      <td>7.371881e-14</td>\n",
       "      <td>3706.875</td>\n",
       "    </tr>\n",
       "  </tbody>\n",
       "</table>\n",
       "<p>100 rows × 3 columns</p>\n",
       "</div>"
      ],
      "text/plain": [
       "    initial inventories   added value  final inventories\n",
       "0                 0.000  1.048350e+02            104.835\n",
       "1               104.835  7.894500e+01            183.780\n",
       "2               183.780  2.044050e+02            388.185\n",
       "3               388.185  2.242950e+02            612.480\n",
       "4               612.480  2.514450e+02            863.925\n",
       "..                  ...           ...                ...\n",
       "95             3705.720  1.155000e+00           3706.875\n",
       "96             3706.875  7.371881e-14           3706.875\n",
       "97             3706.875  7.371881e-14           3706.875\n",
       "98             3706.875  7.371881e-14           3706.875\n",
       "99             3706.875  7.371881e-14           3706.875\n",
       "\n",
       "[100 rows x 3 columns]"
      ]
     },
     "execution_count": 13,
     "metadata": {},
     "output_type": "execute_result"
    }
   ],
   "source": [
    "data['allFirms'][['initial inventories', 'added value', 'final inventories']]"
   ]
  }
 ],
 "metadata": {
  "kernelspec": {
   "display_name": "Python 3 (ipykernel)",
   "language": "python",
   "name": "python3"
  },
  "language_info": {
   "codemirror_mode": {
    "name": "ipython",
    "version": 3
   },
   "file_extension": ".py",
   "mimetype": "text/x-python",
   "name": "python",
   "nbconvert_exporter": "python",
   "pygments_lexer": "ipython3",
   "version": "3.8.10"
  }
 },
 "nbformat": 4,
 "nbformat_minor": 5
}
