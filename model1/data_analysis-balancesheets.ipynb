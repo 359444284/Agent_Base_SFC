{
 "cells": [
  {
   "cell_type": "raw",
   "id": "9a1083d5-0acc-466b-a3da-b262ef561de8",
   "metadata": {},
   "source": [
    "%%javascript\n",
    "// to avoid scroll in windows\n",
    "IPython.OutputArea.prototype._should_scroll = function(lines) {\n",
    "    return false;\n",
    "}"
   ]
  },
  {
   "cell_type": "code",
   "execution_count": 1,
   "id": "afd21e97-4076-4faf-b2f7-f113972e496a",
   "metadata": {},
   "outputs": [
    {
     "name": "stdout",
     "output_type": "stream",
     "text": [
      "The name of your input folder without extension: prova\n",
      "Current folders are:\n",
      "prova.0\n"
     ]
    }
   ],
   "source": [
    "import pandas as pd\n",
    "import numpy as np\n",
    "import csv\n",
    "import os\n",
    "import matplotlib.pyplot as plt #used to generate the legends\n",
    "from typing import List\n",
    "\n",
    "myListDir=os.listdir()\n",
    "folder=input(\"The name of your input folder without extension: \")\n",
    "while not folder+\".0\" in myListDir: #extension 0 certainly exists, as we have at least one rank\n",
    "    print(folder+\": wrong name\")\n",
    "    folder=input(\"The name of your input folder, without extension: \")\n",
    "\n",
    "os.chdir(\"./\"+folder+\".0\") #extension 0 certainly exists, as we have at least one rank\n",
    "\n",
    "with open(\"plotInfo.csv\",\"r\") as data:\n",
    "    reader = csv.reader(data, delimiter = ',')\n",
    "    for row in reader:\n",
    "        fileNameRoot=row[0] #the names of the files contating the data start with...\n",
    "        rankNum=int(row[1]) #we have file from different ranks, reported in different folders with name, for a specific\n",
    "                            #rank: fileNameRoot+\".\"+str(rank)\n",
    "        ag0num=int(row[2])  #how many agents in each rank, with type==0\n",
    "\n",
    "#current folders\n",
    "print(\"Current folders are:\")\n",
    "for k in range(rankNum):\n",
    "    print(folder+\".\"+str(k))"
   ]
  },
  {
   "cell_type": "markdown",
   "id": "1fa6df43-0a81-4b3c-a667-a68222384557",
   "metadata": {},
   "source": [
    "### uncomment to show all the rows in tables"
   ]
  },
  {
   "cell_type": "code",
   "execution_count": 2,
   "id": "f8066dfc-95cb-4a40-8789-464a9a71c032",
   "metadata": {},
   "outputs": [],
   "source": [
    "#display all the rows of the dataframe  \n",
    "#pd.set_option('display.max_rows', None)"
   ]
  },
  {
   "cell_type": "markdown",
   "id": "da865b49-bab1-4373-931b-d08288fdfbba",
   "metadata": {},
   "source": [
    "# creation of firm dataframes"
   ]
  },
  {
   "cell_type": "code",
   "execution_count": 3,
   "id": "c4ec1b89",
   "metadata": {},
   "outputs": [],
   "source": [
    "#each firm will have its dataframe\n",
    "#containing the values of the names of the columns for all the time units (rows)\n",
    "colNames=[\"firm class type\", \"initial inventories\",\"total costs\", \"final inventories\",\"profits\", \"added value\",\\\n",
    "          \"total production\", \"cost of production\", \"cost of unused factors\",\"total lost production\", \\\n",
    "          \"total cost of lost production\", \"cost of labor\", \"cost of capital\", \"cost of substitution\", \"production type\"]\n",
    "\n",
    "#fileNameArray is the array that will contain the names of the file of the balance sheets (one file for each firm), \n",
    "#subdivided by ranks in the columns of the array; 'itemsize=len(fileNameRoot)+30' is supposed to be sufficient to \n",
    "#report the names of the file;\n",
    "fileNameArray=np.chararray((ag0num, rankNum), itemsize=len(fileNameRoot)+30, unicode=True)"
   ]
  },
  {
   "cell_type": "code",
   "execution_count": 4,
   "id": "232ef22a",
   "metadata": {},
   "outputs": [],
   "source": [
    "#operating by folders to load the names of the files reported in the balancesheetList files\n",
    "for k in range(rankNum):\n",
    "    #which folder\n",
    "    os.chdir(\"../\"+folder+\".\"+str(k))\n",
    "    with open(fileNameRoot+\"_balancesheetList_\"+str(k)+\".csv\",\"r\") as fileList:\n",
    "        reader = csv.reader(fileList, delimiter = ',')\n",
    "        #read the name of the files, containing _balancesheetList_, present in the current set of folders\n",
    "        for row in reader:\n",
    "            for i in range(len(row)):\n",
    "                fileNameArray[i,k]=row[i]"
   ]
  },
  {
   "cell_type": "code",
   "execution_count": 5,
   "id": "3e5a4f3e-216b-4f11-a845-cb364d8de53a",
   "metadata": {},
   "outputs": [
    {
     "ename": "ValueError",
     "evalue": "Length mismatch: Expected axis has 14 elements, new values have 15 elements",
     "output_type": "error",
     "traceback": [
      "\u001b[0;31m---------------------------------------------------------------------------\u001b[0m",
      "\u001b[0;31mValueError\u001b[0m                                Traceback (most recent call last)",
      "Input \u001b[0;32mIn [5]\u001b[0m, in \u001b[0;36m<cell line: 16>\u001b[0;34m()\u001b[0m\n\u001b[1;32m     15\u001b[0m \u001b[38;5;66;03m#naming the firm dataframe columns, firm by firm, by scrolling the keys of the dictionary\u001b[39;00m\n\u001b[1;32m     16\u001b[0m \u001b[38;5;28;01mfor\u001b[39;00m aFirm \u001b[38;5;129;01min\u001b[39;00m firmData\u001b[38;5;241m.\u001b[39mkeys():\n\u001b[0;32m---> 17\u001b[0m     firmData[aFirm]\u001b[38;5;241m.\u001b[39mcolumns\u001b[38;5;241m=\u001b[39mcolNames\n",
      "File \u001b[0;32m~/.local/lib/python3.8/site-packages/pandas/core/generic.py:6002\u001b[0m, in \u001b[0;36mNDFrame.__setattr__\u001b[0;34m(self, name, value)\u001b[0m\n\u001b[1;32m   6000\u001b[0m \u001b[38;5;28;01mtry\u001b[39;00m:\n\u001b[1;32m   6001\u001b[0m     \u001b[38;5;28mobject\u001b[39m\u001b[38;5;241m.\u001b[39m\u001b[38;5;21m__getattribute__\u001b[39m(\u001b[38;5;28mself\u001b[39m, name)\n\u001b[0;32m-> 6002\u001b[0m     \u001b[38;5;28;01mreturn\u001b[39;00m \u001b[38;5;28;43mobject\u001b[39;49m\u001b[38;5;241;43m.\u001b[39;49m\u001b[38;5;21;43m__setattr__\u001b[39;49m\u001b[43m(\u001b[49m\u001b[38;5;28;43mself\u001b[39;49m\u001b[43m,\u001b[49m\u001b[43m \u001b[49m\u001b[43mname\u001b[49m\u001b[43m,\u001b[49m\u001b[43m \u001b[49m\u001b[43mvalue\u001b[49m\u001b[43m)\u001b[49m\n\u001b[1;32m   6003\u001b[0m \u001b[38;5;28;01mexcept\u001b[39;00m \u001b[38;5;167;01mAttributeError\u001b[39;00m:\n\u001b[1;32m   6004\u001b[0m     \u001b[38;5;28;01mpass\u001b[39;00m\n",
      "File \u001b[0;32m~/.local/lib/python3.8/site-packages/pandas/_libs/properties.pyx:69\u001b[0m, in \u001b[0;36mpandas._libs.properties.AxisProperty.__set__\u001b[0;34m()\u001b[0m\n",
      "File \u001b[0;32m~/.local/lib/python3.8/site-packages/pandas/core/generic.py:730\u001b[0m, in \u001b[0;36mNDFrame._set_axis\u001b[0;34m(self, axis, labels)\u001b[0m\n\u001b[1;32m    725\u001b[0m \u001b[38;5;124;03m\"\"\"\u001b[39;00m\n\u001b[1;32m    726\u001b[0m \u001b[38;5;124;03mThis is called from the cython code when we set the `index` attribute\u001b[39;00m\n\u001b[1;32m    727\u001b[0m \u001b[38;5;124;03mdirectly, e.g. `series.index = [1, 2, 3]`.\u001b[39;00m\n\u001b[1;32m    728\u001b[0m \u001b[38;5;124;03m\"\"\"\u001b[39;00m\n\u001b[1;32m    729\u001b[0m labels \u001b[38;5;241m=\u001b[39m ensure_index(labels)\n\u001b[0;32m--> 730\u001b[0m \u001b[38;5;28;43mself\u001b[39;49m\u001b[38;5;241;43m.\u001b[39;49m\u001b[43m_mgr\u001b[49m\u001b[38;5;241;43m.\u001b[39;49m\u001b[43mset_axis\u001b[49m\u001b[43m(\u001b[49m\u001b[43maxis\u001b[49m\u001b[43m,\u001b[49m\u001b[43m \u001b[49m\u001b[43mlabels\u001b[49m\u001b[43m)\u001b[49m\n\u001b[1;32m    731\u001b[0m \u001b[38;5;28mself\u001b[39m\u001b[38;5;241m.\u001b[39m_clear_item_cache()\n",
      "File \u001b[0;32m~/.local/lib/python3.8/site-packages/pandas/core/internals/managers.py:225\u001b[0m, in \u001b[0;36mBaseBlockManager.set_axis\u001b[0;34m(self, axis, new_labels)\u001b[0m\n\u001b[1;32m    223\u001b[0m \u001b[38;5;28;01mdef\u001b[39;00m \u001b[38;5;21mset_axis\u001b[39m(\u001b[38;5;28mself\u001b[39m, axis: AxisInt, new_labels: Index) \u001b[38;5;241m-\u001b[39m\u001b[38;5;241m>\u001b[39m \u001b[38;5;28;01mNone\u001b[39;00m:\n\u001b[1;32m    224\u001b[0m     \u001b[38;5;66;03m# Caller is responsible for ensuring we have an Index object.\u001b[39;00m\n\u001b[0;32m--> 225\u001b[0m     \u001b[38;5;28;43mself\u001b[39;49m\u001b[38;5;241;43m.\u001b[39;49m\u001b[43m_validate_set_axis\u001b[49m\u001b[43m(\u001b[49m\u001b[43maxis\u001b[49m\u001b[43m,\u001b[49m\u001b[43m \u001b[49m\u001b[43mnew_labels\u001b[49m\u001b[43m)\u001b[49m\n\u001b[1;32m    226\u001b[0m     \u001b[38;5;28mself\u001b[39m\u001b[38;5;241m.\u001b[39maxes[axis] \u001b[38;5;241m=\u001b[39m new_labels\n",
      "File \u001b[0;32m~/.local/lib/python3.8/site-packages/pandas/core/internals/base.py:70\u001b[0m, in \u001b[0;36mDataManager._validate_set_axis\u001b[0;34m(self, axis, new_labels)\u001b[0m\n\u001b[1;32m     67\u001b[0m     \u001b[38;5;28;01mpass\u001b[39;00m\n\u001b[1;32m     69\u001b[0m \u001b[38;5;28;01melif\u001b[39;00m new_len \u001b[38;5;241m!=\u001b[39m old_len:\n\u001b[0;32m---> 70\u001b[0m     \u001b[38;5;28;01mraise\u001b[39;00m \u001b[38;5;167;01mValueError\u001b[39;00m(\n\u001b[1;32m     71\u001b[0m         \u001b[38;5;124mf\u001b[39m\u001b[38;5;124m\"\u001b[39m\u001b[38;5;124mLength mismatch: Expected axis has \u001b[39m\u001b[38;5;132;01m{\u001b[39;00mold_len\u001b[38;5;132;01m}\u001b[39;00m\u001b[38;5;124m elements, new \u001b[39m\u001b[38;5;124m\"\u001b[39m\n\u001b[1;32m     72\u001b[0m         \u001b[38;5;124mf\u001b[39m\u001b[38;5;124m\"\u001b[39m\u001b[38;5;124mvalues have \u001b[39m\u001b[38;5;132;01m{\u001b[39;00mnew_len\u001b[38;5;132;01m}\u001b[39;00m\u001b[38;5;124m elements\u001b[39m\u001b[38;5;124m\"\u001b[39m\n\u001b[1;32m     73\u001b[0m     )\n",
      "\u001b[0;31mValueError\u001b[0m: Length mismatch: Expected axis has 14 elements, new values have 15 elements"
     ]
    }
   ],
   "source": [
    "#creating a dictionary of firm dataframes\n",
    "firmData={}\n",
    "for k in range(rankNum):\n",
    "    #in the folder with name extension == k\n",
    "    os.chdir(\"../\"+folder+\".\"+str(k))\n",
    "    #repeating for the number of agent type 0 in each folder\n",
    "    for i in range(ag0num):\n",
    "        #extracting the agent uid from the name of the file\n",
    "        p1=fileNameArray[i,k].find('(')\n",
    "        p2=fileNameArray[i,k].find(')')+1\n",
    "        uid=fileNameArray[i,k][p1:p2]\n",
    "        #filling the dictionary with uids as keys and the balancesheetLists of the related firm as values\n",
    "        firmData[uid]=pd.read_csv(fileNameArray[i,k], header=None)\n",
    "\n",
    "#naming the firm dataframe columns, firm by firm, by scrolling the keys of the dictionary\n",
    "for aFirm in firmData.keys():\n",
    "    firmData[aFirm].columns=colNames"
   ]
  },
  {
   "cell_type": "markdown",
   "id": "9cbfa254-8156-4af2-a30f-3a5bf4da195b",
   "metadata": {},
   "source": [
    "# Retrieve a firm"
   ]
  },
  {
   "cell_type": "code",
   "execution_count": null,
   "id": "3c01e15c-460c-4abb-913b-e3b22d87eac9",
   "metadata": {},
   "outputs": [],
   "source": [
    "#retrieve a firm with id and rank\n",
    "def retrieveFirmBalancesheet(id,r):\n",
    "    return firmData['('+str(id)+', 0, '+str(r)+')']"
   ]
  },
  {
   "cell_type": "code",
   "execution_count": null,
   "id": "7e02eb6c-433b-491f-bf34-a06c7a922837",
   "metadata": {},
   "outputs": [],
   "source": [
    "#example\n",
    "#retrieveFirmBalancesheet(29,2)"
   ]
  },
  {
   "cell_type": "raw",
   "id": "f8a769c2-12b1-4966-8f8f-6ffab48358fc",
   "metadata": {},
   "source": [
    "#also working, by paying attention to spaces\n",
    "firmData['(29, 0, 2)']"
   ]
  },
  {
   "cell_type": "markdown",
   "id": "871e0e7b-704d-4dae-afb8-bb3cf02f8d08",
   "metadata": {},
   "source": [
    "# The allFirmData dataframe"
   ]
  },
  {
   "cell_type": "code",
   "execution_count": null,
   "id": "ab9044c4-4d78-48ef-becc-9147da8cdb67",
   "metadata": {},
   "outputs": [],
   "source": [
    "#create a dataframe summing up all the firm dataframes\n",
    "allFirmData=firmData[list(firmData.keys())[0]].copy() #copy the dataframe of first firm; use .copy to create an\n",
    "                                                      #independent copy with a new name\n",
    "\n",
    "for aFirmUid in list(firmData.keys())[1:]: #from the second to the last\n",
    "    allFirmData=allFirmData.add(firmData[aFirmUid])\n",
    "\n",
    "allFirmData.__description__=\"all firms\""
   ]
  },
  {
   "cell_type": "code",
   "execution_count": null,
   "id": "7b151313-4655-4e7a-b8f8-3c216674ccc3",
   "metadata": {},
   "outputs": [],
   "source": [
    "allFirmData"
   ]
  },
  {
   "cell_type": "code",
   "execution_count": null,
   "id": "1d90c283-1bc6-4bb8-a9d4-52d3fd8d62df",
   "metadata": {},
   "outputs": [],
   "source": [
    "allFirmData.__description__"
   ]
  },
  {
   "cell_type": "code",
   "execution_count": null,
   "id": "b5f54910",
   "metadata": {},
   "outputs": [],
   "source": [
    "allFirmData.drop(['firm class type'], axis=1).plot()\n",
    "plt.legend(loc='center left', bbox_to_anchor=(1, 0.5))"
   ]
  },
  {
   "cell_type": "code",
   "execution_count": null,
   "id": "8505b722",
   "metadata": {},
   "outputs": [],
   "source": [
    "allFirmData[['cost of substitution']].plot()"
   ]
  },
  {
   "cell_type": "code",
   "execution_count": null,
   "id": "e83e5a8d",
   "metadata": {},
   "outputs": [],
   "source": [
    "allFirmData[['cost of capital','cost of labor']].plot()"
   ]
  },
  {
   "cell_type": "markdown",
   "id": "2b389689-fcef-4768-8684-8d4bf2e7e910",
   "metadata": {},
   "source": [
    "# Considering groups of firms"
   ]
  },
  {
   "cell_type": "code",
   "execution_count": null,
   "id": "2a420339-cbb8-42ef-b2ca-cb414ecd47de",
   "metadata": {},
   "outputs": [],
   "source": [
    "#summarize a subset of balancesheets of firm with 'dimensional class' in a given list\n",
    "def sumBalancesheetsWithAGivenDimensionalClass(dimClassList: List):\n",
    "    tmpDict={}\n",
    "    for aFirmUid in list(firmData.keys())[:]:\n",
    "        if firmData[aFirmUid]['firm class type'].loc[0] in dimClassList:\n",
    "            tmpDict[aFirmUid]=firmData[aFirmUid]\n",
    "    print(\"found\",len(tmpDict), \"firms\")\n",
    "    \n",
    "    if tmpDict=={}: return 0 #firms with the required dimensional class: not found\n",
    "        \n",
    "    allLocalFirmData=tmpDict[list(tmpDict.keys())[0]].copy() #copy the dataframe of first firm; use .copy to create an\n",
    "                                                              #independent copy with a new name\n",
    "\n",
    "    for aFirmUid in list(tmpDict.keys())[1:]: #from the second to the last\n",
    "        allLocalFirmData=allLocalFirmData.add(tmpDict[aFirmUid])\n",
    "\n",
    "    memo=\"firms of groups\"\n",
    "    for g in dimClassList: memo = memo +\" \"+str(g)\n",
    "    allLocalFirmData.__description__= memo\n",
    "    \n",
    "    return allLocalFirmData\n"
   ]
  },
  {
   "cell_type": "code",
   "execution_count": null,
   "id": "faca6fd2-be4a-4f26-9cb9-53e82db50861",
   "metadata": {},
   "outputs": [],
   "source": [
    "#example with dimensional class 0\n",
    "sumOfBalanceSheetSubset = sumBalancesheetsWithAGivenDimensionalClass([0])"
   ]
  },
  {
   "cell_type": "code",
   "execution_count": null,
   "id": "635eec37-2d82-45bc-96c1-a4e4ace95530",
   "metadata": {},
   "outputs": [],
   "source": [
    "sumOfBalanceSheetSubset.__description__"
   ]
  },
  {
   "cell_type": "code",
   "execution_count": null,
   "id": "6118a53d-7efc-4b4e-83fd-ae424c07e1e8",
   "metadata": {},
   "outputs": [],
   "source": [
    "sumOfBalanceSheetSubset"
   ]
  },
  {
   "cell_type": "code",
   "execution_count": null,
   "id": "37ef8864",
   "metadata": {},
   "outputs": [],
   "source": [
    "sumOfBalanceSheetSubset.drop(['firm class type'], axis=1).plot()\n",
    "plt.legend(loc='center left', bbox_to_anchor=(1, 0.5))"
   ]
  },
  {
   "cell_type": "code",
   "execution_count": null,
   "id": "1a5e8a37-af70-4f4e-ba48-ea973c5bebc4",
   "metadata": {},
   "outputs": [],
   "source": [
    "sumOfBalanceSheetSubset[['total production']].plot()"
   ]
  },
  {
   "cell_type": "code",
   "execution_count": null,
   "id": "3222dbeb",
   "metadata": {},
   "outputs": [],
   "source": [
    "sumOfBalanceSheetSubset[['cost of capital', 'cost of labor']].plot()"
   ]
  },
  {
   "cell_type": "markdown",
   "id": "3882ff59",
   "metadata": {},
   "source": [
    "# The National Economic Balance Table"
   ]
  },
  {
   "cell_type": "code",
   "execution_count": null,
   "id": "cb2153f3",
   "metadata": {},
   "outputs": [],
   "source": [
    "allFirmData[['initial inventories', 'added value', 'final inventories']]"
   ]
  },
  {
   "cell_type": "code",
   "execution_count": null,
   "id": "06ec8488-5846-4fa4-873e-a74018e06c12",
   "metadata": {},
   "outputs": [],
   "source": []
  }
 ],
 "metadata": {
  "kernelspec": {
   "display_name": "Python 3 (ipykernel)",
   "language": "python",
   "name": "python3"
  },
  "language_info": {
   "codemirror_mode": {
    "name": "ipython",
    "version": 3
   },
   "file_extension": ".py",
   "mimetype": "text/x-python",
   "name": "python",
   "nbconvert_exporter": "python",
   "pygments_lexer": "ipython3",
   "version": "3.8.10"
  }
 },
 "nbformat": 4,
 "nbformat_minor": 5
}
