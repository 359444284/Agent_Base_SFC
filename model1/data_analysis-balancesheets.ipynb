{
 "cells": [
  {
   "cell_type": "code",
   "execution_count": 1,
   "id": "54429256",
   "metadata": {},
   "outputs": [
    {
     "data": {
      "application/javascript": [
       "// to avoid scroll in windows\n",
       "IPython.OutputArea.prototype._should_scroll = function(lines) {\n",
       "    return false;\n",
       "}\n"
      ],
      "text/plain": [
       "<IPython.core.display.Javascript object>"
      ]
     },
     "metadata": {},
     "output_type": "display_data"
    }
   ],
   "source": [
    "%%javascript\n",
    "// to avoid scroll in windows\n",
    "IPython.OutputArea.prototype._should_scroll = function(lines) {\n",
    "    return false;\n",
    "}"
   ]
  },
  {
   "cell_type": "code",
   "execution_count": 2,
   "id": "1d979a83",
   "metadata": {},
   "outputs": [],
   "source": [
    "import matplotlib.pyplot as plt #used to avoid a warning message"
   ]
  },
  {
   "cell_type": "code",
   "execution_count": 3,
   "id": "5c899d08",
   "metadata": {},
   "outputs": [],
   "source": [
    "import pandas as pd\n",
    "import numpy as np\n",
    "import csv\n",
    "#from repast4py import parameters\n",
    "#params = parameters.init_params(\"model1.yaml\", \"\")\n",
    "\n",
    "with open(\"plotInfo.csv\",\"r\") as data:\n",
    "    reader = csv.reader(data, delimiter = ',')\n",
    "    for row in reader:\n",
    "        fileNameRoot=row[0]\n",
    "        rankNum=int(row[1])\n",
    "        ag0num=int(row[2])"
   ]
  },
  {
   "cell_type": "code",
   "execution_count": 4,
   "id": "c4ec1b89",
   "metadata": {},
   "outputs": [],
   "source": [
    "colNames=[\"dimensional class\", \"initial inventories\",\"total costs\", \"final inventories\",\"profits\", \"added value\",\\\n",
    "          \"total production\", \"cost of production\", \"cost of unused factors\",\\\n",
    "          \"total lost production\", \"total cost of lost production\", \"cost of labor\", \"cost of capital\"]\n",
    "fileNameArray=np.chararray((ag0num, rankNum), itemsize=len(fileNameRoot)+30, unicode=True)"
   ]
  },
  {
   "cell_type": "code",
   "execution_count": 5,
   "id": "232ef22a",
   "metadata": {},
   "outputs": [],
   "source": [
    "for k in range(rankNum):\n",
    "    with open(fileNameRoot+\"_balancesheetList_\"+str(k)+\".csv\",\"r\") as fileList:\n",
    "        reader = csv.reader(fileList, delimiter = ',')\n",
    "  \n",
    "        for row in reader:\n",
    "            for i in range(len(row)):\n",
    "                fileNameArray[i,k]=row[i]"
   ]
  },
  {
   "cell_type": "code",
   "execution_count": 6,
   "id": "50aa5f44",
   "metadata": {},
   "outputs": [],
   "source": [
    "# database\n",
    "data={}\n",
    "for k in range(rankNum):\n",
    "    for i in range(ag0num):\n",
    "        p1=fileNameArray[i,k].find('(')\n",
    "        p2=fileNameArray[i,k].find(')')+1\n",
    "        data[fileNameArray[i,k][p1:p2]]=pd.read_csv(fileNameArray[i,k], header=None)\n",
    "\n",
    "for aFirm in data.keys():\n",
    "    data[aFirm].columns=colNames"
   ]
  },
  {
   "cell_type": "code",
   "execution_count": 7,
   "id": "419bacd5",
   "metadata": {},
   "outputs": [],
   "source": [
    "# output by ranks\n",
    "with plt.rc_context(rc={'figure.max_open_warning': 0}): #to avoid a worning about open plots\n",
    "    \n",
    "    data['allFirms']=data[list(data.keys())[0]].copy() # copy of first firm\n",
    "    for aFirmUid in list(data.keys())[1:-1]:\n",
    "        #if data[aFirmUid]['dimensional class'].loc[0] == 1.0: #to filter firms according to dim class\n",
    "        data['allFirms']=data['allFirms'].add(data[aFirmUid])\n"
   ]
  },
  {
   "cell_type": "code",
   "execution_count": 8,
   "id": "33a0f12d",
   "metadata": {},
   "outputs": [
    {
     "data": {
      "text/html": [
       "<div>\n",
       "<style scoped>\n",
       "    .dataframe tbody tr th:only-of-type {\n",
       "        vertical-align: middle;\n",
       "    }\n",
       "\n",
       "    .dataframe tbody tr th {\n",
       "        vertical-align: top;\n",
       "    }\n",
       "\n",
       "    .dataframe thead th {\n",
       "        text-align: right;\n",
       "    }\n",
       "</style>\n",
       "<table border=\"1\" class=\"dataframe\">\n",
       "  <thead>\n",
       "    <tr style=\"text-align: right;\">\n",
       "      <th></th>\n",
       "      <th>initial inventories</th>\n",
       "      <th>total costs</th>\n",
       "      <th>final inventories</th>\n",
       "      <th>profits</th>\n",
       "      <th>added value</th>\n",
       "      <th>total production</th>\n",
       "      <th>cost of production</th>\n",
       "      <th>cost of unused factors</th>\n",
       "      <th>total lost production</th>\n",
       "      <th>total cost of lost production</th>\n",
       "      <th>cost of labor</th>\n",
       "      <th>cost of capital</th>\n",
       "    </tr>\n",
       "  </thead>\n",
       "  <tbody>\n",
       "    <tr>\n",
       "      <th>0</th>\n",
       "      <td>0.00</td>\n",
       "      <td>191.329231</td>\n",
       "      <td>61.95</td>\n",
       "      <td>-129.379231</td>\n",
       "      <td>61.95</td>\n",
       "      <td>34.739118</td>\n",
       "      <td>76.65</td>\n",
       "      <td>114.679231</td>\n",
       "      <td>8.351771</td>\n",
       "      <td>14.7</td>\n",
       "      <td>164.0</td>\n",
       "      <td>27.329231</td>\n",
       "    </tr>\n",
       "    <tr>\n",
       "      <th>1</th>\n",
       "      <td>61.95</td>\n",
       "      <td>191.329231</td>\n",
       "      <td>147.75</td>\n",
       "      <td>-105.529231</td>\n",
       "      <td>85.80</td>\n",
       "      <td>48.462676</td>\n",
       "      <td>85.80</td>\n",
       "      <td>105.529231</td>\n",
       "      <td>0.000000</td>\n",
       "      <td>0.0</td>\n",
       "      <td>164.0</td>\n",
       "      <td>27.329231</td>\n",
       "    </tr>\n",
       "    <tr>\n",
       "      <th>2</th>\n",
       "      <td>147.75</td>\n",
       "      <td>191.329231</td>\n",
       "      <td>226.80</td>\n",
       "      <td>-112.279231</td>\n",
       "      <td>79.05</td>\n",
       "      <td>44.508075</td>\n",
       "      <td>81.15</td>\n",
       "      <td>110.179231</td>\n",
       "      <td>1.191071</td>\n",
       "      <td>2.1</td>\n",
       "      <td>164.0</td>\n",
       "      <td>27.329231</td>\n",
       "    </tr>\n",
       "    <tr>\n",
       "      <th>3</th>\n",
       "      <td>226.80</td>\n",
       "      <td>191.329231</td>\n",
       "      <td>329.40</td>\n",
       "      <td>-88.729231</td>\n",
       "      <td>102.60</td>\n",
       "      <td>57.642972</td>\n",
       "      <td>102.60</td>\n",
       "      <td>88.729231</td>\n",
       "      <td>0.000000</td>\n",
       "      <td>0.0</td>\n",
       "      <td>164.0</td>\n",
       "      <td>27.329231</td>\n",
       "    </tr>\n",
       "    <tr>\n",
       "      <th>4</th>\n",
       "      <td>329.40</td>\n",
       "      <td>191.329231</td>\n",
       "      <td>418.05</td>\n",
       "      <td>-102.679231</td>\n",
       "      <td>88.65</td>\n",
       "      <td>48.299638</td>\n",
       "      <td>88.65</td>\n",
       "      <td>102.679231</td>\n",
       "      <td>0.000000</td>\n",
       "      <td>0.0</td>\n",
       "      <td>164.0</td>\n",
       "      <td>27.329231</td>\n",
       "    </tr>\n",
       "    <tr>\n",
       "      <th>5</th>\n",
       "      <td>418.05</td>\n",
       "      <td>191.329231</td>\n",
       "      <td>529.05</td>\n",
       "      <td>-80.329231</td>\n",
       "      <td>111.00</td>\n",
       "      <td>62.614062</td>\n",
       "      <td>111.00</td>\n",
       "      <td>80.329231</td>\n",
       "      <td>0.000000</td>\n",
       "      <td>0.0</td>\n",
       "      <td>164.0</td>\n",
       "      <td>27.329231</td>\n",
       "    </tr>\n",
       "    <tr>\n",
       "      <th>6</th>\n",
       "      <td>529.05</td>\n",
       "      <td>191.329231</td>\n",
       "      <td>631.95</td>\n",
       "      <td>-88.429231</td>\n",
       "      <td>102.90</td>\n",
       "      <td>57.122585</td>\n",
       "      <td>102.90</td>\n",
       "      <td>88.429231</td>\n",
       "      <td>0.000000</td>\n",
       "      <td>0.0</td>\n",
       "      <td>164.0</td>\n",
       "      <td>27.329231</td>\n",
       "    </tr>\n",
       "    <tr>\n",
       "      <th>7</th>\n",
       "      <td>631.95</td>\n",
       "      <td>191.329231</td>\n",
       "      <td>744.00</td>\n",
       "      <td>-79.279231</td>\n",
       "      <td>112.05</td>\n",
       "      <td>63.141536</td>\n",
       "      <td>112.05</td>\n",
       "      <td>79.279231</td>\n",
       "      <td>0.000000</td>\n",
       "      <td>0.0</td>\n",
       "      <td>164.0</td>\n",
       "      <td>27.329231</td>\n",
       "    </tr>\n",
       "    <tr>\n",
       "      <th>8</th>\n",
       "      <td>744.00</td>\n",
       "      <td>191.329231</td>\n",
       "      <td>855.75</td>\n",
       "      <td>-79.579231</td>\n",
       "      <td>111.75</td>\n",
       "      <td>62.553526</td>\n",
       "      <td>111.75</td>\n",
       "      <td>79.579231</td>\n",
       "      <td>0.000000</td>\n",
       "      <td>0.0</td>\n",
       "      <td>164.0</td>\n",
       "      <td>27.329231</td>\n",
       "    </tr>\n",
       "    <tr>\n",
       "      <th>9</th>\n",
       "      <td>855.75</td>\n",
       "      <td>191.329231</td>\n",
       "      <td>945.75</td>\n",
       "      <td>-101.329231</td>\n",
       "      <td>90.00</td>\n",
       "      <td>50.064734</td>\n",
       "      <td>90.00</td>\n",
       "      <td>101.329231</td>\n",
       "      <td>0.000000</td>\n",
       "      <td>0.0</td>\n",
       "      <td>164.0</td>\n",
       "      <td>27.329231</td>\n",
       "    </tr>\n",
       "  </tbody>\n",
       "</table>\n",
       "</div>"
      ],
      "text/plain": [
       "   initial inventories  total costs  final inventories     profits   \n",
       "0                 0.00   191.329231              61.95 -129.379231  \\\n",
       "1                61.95   191.329231             147.75 -105.529231   \n",
       "2               147.75   191.329231             226.80 -112.279231   \n",
       "3               226.80   191.329231             329.40  -88.729231   \n",
       "4               329.40   191.329231             418.05 -102.679231   \n",
       "5               418.05   191.329231             529.05  -80.329231   \n",
       "6               529.05   191.329231             631.95  -88.429231   \n",
       "7               631.95   191.329231             744.00  -79.279231   \n",
       "8               744.00   191.329231             855.75  -79.579231   \n",
       "9               855.75   191.329231             945.75 -101.329231   \n",
       "\n",
       "   added value  total production  cost of production  cost of unused factors   \n",
       "0        61.95         34.739118               76.65              114.679231  \\\n",
       "1        85.80         48.462676               85.80              105.529231   \n",
       "2        79.05         44.508075               81.15              110.179231   \n",
       "3       102.60         57.642972              102.60               88.729231   \n",
       "4        88.65         48.299638               88.65              102.679231   \n",
       "5       111.00         62.614062              111.00               80.329231   \n",
       "6       102.90         57.122585              102.90               88.429231   \n",
       "7       112.05         63.141536              112.05               79.279231   \n",
       "8       111.75         62.553526              111.75               79.579231   \n",
       "9        90.00         50.064734               90.00              101.329231   \n",
       "\n",
       "   total lost production  total cost of lost production  cost of labor   \n",
       "0               8.351771                           14.7          164.0  \\\n",
       "1               0.000000                            0.0          164.0   \n",
       "2               1.191071                            2.1          164.0   \n",
       "3               0.000000                            0.0          164.0   \n",
       "4               0.000000                            0.0          164.0   \n",
       "5               0.000000                            0.0          164.0   \n",
       "6               0.000000                            0.0          164.0   \n",
       "7               0.000000                            0.0          164.0   \n",
       "8               0.000000                            0.0          164.0   \n",
       "9               0.000000                            0.0          164.0   \n",
       "\n",
       "   cost of capital  \n",
       "0        27.329231  \n",
       "1        27.329231  \n",
       "2        27.329231  \n",
       "3        27.329231  \n",
       "4        27.329231  \n",
       "5        27.329231  \n",
       "6        27.329231  \n",
       "7        27.329231  \n",
       "8        27.329231  \n",
       "9        27.329231  "
      ]
     },
     "execution_count": 8,
     "metadata": {},
     "output_type": "execute_result"
    }
   ],
   "source": [
    "data['allFirms'].drop(['dimensional class'], axis=1)"
   ]
  },
  {
   "cell_type": "code",
   "execution_count": 9,
   "id": "b5f54910",
   "metadata": {},
   "outputs": [
    {
     "data": {
      "text/plain": [
       "<AxesSubplot: >"
      ]
     },
     "execution_count": 9,
     "metadata": {},
     "output_type": "execute_result"
    },
    {
     "data": {
      "image/png": "[encoded data removed]",
      "text/plain": [
       "<Figure size 432x288 with 1 Axes>"
      ]
     },
     "metadata": {
      "needs_background": "light"
     },
     "output_type": "display_data"
    }
   ],
   "source": [
    "data['allFirms'].drop(['dimensional class'], axis=1).plot()"
   ]
  },
  {
   "cell_type": "code",
   "execution_count": 10,
   "id": "37ef8864",
   "metadata": {},
   "outputs": [
    {
     "data": {
      "text/plain": [
       "<AxesSubplot: >"
      ]
     },
     "execution_count": 10,
     "metadata": {},
     "output_type": "execute_result"
    },
    {
     "data": {
      "image/png": "[encoded data removed]",
      "text/plain": [
       "<Figure size 432x288 with 1 Axes>"
      ]
     },
     "metadata": {
      "needs_background": "light"
     },
     "output_type": "display_data"
    }
   ],
   "source": [
    "data['(0, 0, 0)'].drop(['dimensional class'], axis=1).plot()"
   ]
  },
  {
   "cell_type": "markdown",
   "id": "3882ff59",
   "metadata": {},
   "source": [
    "# The National Economic Balance Table"
   ]
  },
  {
   "cell_type": "code",
   "execution_count": 11,
   "id": "cb2153f3",
   "metadata": {},
   "outputs": [
    {
     "data": {
      "text/html": [
       "<div>\n",
       "<style scoped>\n",
       "    .dataframe tbody tr th:only-of-type {\n",
       "        vertical-align: middle;\n",
       "    }\n",
       "\n",
       "    .dataframe tbody tr th {\n",
       "        vertical-align: top;\n",
       "    }\n",
       "\n",
       "    .dataframe thead th {\n",
       "        text-align: right;\n",
       "    }\n",
       "</style>\n",
       "<table border=\"1\" class=\"dataframe\">\n",
       "  <thead>\n",
       "    <tr style=\"text-align: right;\">\n",
       "      <th></th>\n",
       "      <th>initial inventories</th>\n",
       "      <th>added value</th>\n",
       "      <th>final inventories</th>\n",
       "    </tr>\n",
       "  </thead>\n",
       "  <tbody>\n",
       "    <tr>\n",
       "      <th>0</th>\n",
       "      <td>0.00</td>\n",
       "      <td>61.95</td>\n",
       "      <td>61.95</td>\n",
       "    </tr>\n",
       "    <tr>\n",
       "      <th>1</th>\n",
       "      <td>61.95</td>\n",
       "      <td>85.80</td>\n",
       "      <td>147.75</td>\n",
       "    </tr>\n",
       "    <tr>\n",
       "      <th>2</th>\n",
       "      <td>147.75</td>\n",
       "      <td>79.05</td>\n",
       "      <td>226.80</td>\n",
       "    </tr>\n",
       "    <tr>\n",
       "      <th>3</th>\n",
       "      <td>226.80</td>\n",
       "      <td>102.60</td>\n",
       "      <td>329.40</td>\n",
       "    </tr>\n",
       "    <tr>\n",
       "      <th>4</th>\n",
       "      <td>329.40</td>\n",
       "      <td>88.65</td>\n",
       "      <td>418.05</td>\n",
       "    </tr>\n",
       "    <tr>\n",
       "      <th>5</th>\n",
       "      <td>418.05</td>\n",
       "      <td>111.00</td>\n",
       "      <td>529.05</td>\n",
       "    </tr>\n",
       "    <tr>\n",
       "      <th>6</th>\n",
       "      <td>529.05</td>\n",
       "      <td>102.90</td>\n",
       "      <td>631.95</td>\n",
       "    </tr>\n",
       "    <tr>\n",
       "      <th>7</th>\n",
       "      <td>631.95</td>\n",
       "      <td>112.05</td>\n",
       "      <td>744.00</td>\n",
       "    </tr>\n",
       "    <tr>\n",
       "      <th>8</th>\n",
       "      <td>744.00</td>\n",
       "      <td>111.75</td>\n",
       "      <td>855.75</td>\n",
       "    </tr>\n",
       "    <tr>\n",
       "      <th>9</th>\n",
       "      <td>855.75</td>\n",
       "      <td>90.00</td>\n",
       "      <td>945.75</td>\n",
       "    </tr>\n",
       "  </tbody>\n",
       "</table>\n",
       "</div>"
      ],
      "text/plain": [
       "   initial inventories  added value  final inventories\n",
       "0                 0.00        61.95              61.95\n",
       "1                61.95        85.80             147.75\n",
       "2               147.75        79.05             226.80\n",
       "3               226.80       102.60             329.40\n",
       "4               329.40        88.65             418.05\n",
       "5               418.05       111.00             529.05\n",
       "6               529.05       102.90             631.95\n",
       "7               631.95       112.05             744.00\n",
       "8               744.00       111.75             855.75\n",
       "9               855.75        90.00             945.75"
      ]
     },
     "execution_count": 11,
     "metadata": {},
     "output_type": "execute_result"
    }
   ],
   "source": [
    "data['allFirms'][['initial inventories', 'added value', 'final inventories']]"
   ]
  }
 ],
 "metadata": {
  "kernelspec": {
   "display_name": "Python 3 (ipykernel)",
   "language": "python",
   "name": "python3"
  },
  "language_info": {
   "codemirror_mode": {
    "name": "ipython",
    "version": 3
   },
   "file_extension": ".py",
   "mimetype": "text/x-python",
   "name": "python",
   "nbconvert_exporter": "python",
   "pygments_lexer": "ipython3",
   "version": "3.8.10"
  }
 },
 "nbformat": 4,
 "nbformat_minor": 5
}
