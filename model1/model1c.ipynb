{
 "cells": [
  {
   "cell_type": "markdown",
   "id": "naval-nomination",
   "metadata": {},
   "source": [
    "#### Un altro passettino: ecco in azione l'*Istituto Centrale di Statistica* con a fianco la *Banca d'Italia*\n",
    "\n",
    "use it also in [Notebook viewer](https://nbviewer.org/github/terna/ejmmp/blob/main/model0/model0.ipynb)\n",
    "\n",
    "if the content is missing to update, follow once [Notebook viewer and flush cache](https://nbviewer.org/github/terna/ejmmp/blob/main/model0/model0.ipynb?flush_cache=true)\n",
    "\n",
    "[Wikipedia as a memo](https://en.wikipedia.org/wiki/Stock-flow_consistent_model#cite_note-42)"
   ]
  },
  {
   "cell_type": "code",
   "execution_count": 1,
   "id": "latter-survey",
   "metadata": {
    "scrolled": true
   },
   "outputs": [
    {
     "data": {
      "application/javascript": [
       "// to avoid scroll in windows\n",
       "IPython.OutputArea.prototype._should_scroll = function(lines) {\n",
       "    return false;\n",
       "}\n"
      ],
      "text/plain": [
       "<IPython.core.display.Javascript object>"
      ]
     },
     "metadata": {},
     "output_type": "display_data"
    }
   ],
   "source": [
    "%%javascript\n",
    "// to avoid scroll in windows\n",
    "IPython.OutputArea.prototype._should_scroll = function(lines) {\n",
    "    return false;\n",
    "}"
   ]
  },
  {
   "cell_type": "code",
   "execution_count": 2,
   "id": "great-earthquake",
   "metadata": {
    "scrolled": false
   },
   "outputs": [],
   "source": [
    "%matplotlib inline\n",
    "import random as r\n",
    "import matplotlib.pyplot as plt\n",
    "import commonVar as cmv\n",
    "import numpy as np\n",
    "from tools import *"
   ]
  },
  {
   "cell_type": "markdown",
   "id": "prostate-shadow",
   "metadata": {},
   "source": [
    "### Stock-flow *model1c*, with real and financial elements\n",
    "\n",
    "- Besides the real part of the economy, we introduce the initial element of the monetary side of the economy.\n",
    "\n",
    "  \n",
    "\n",
    "- We are introducing gradually loans, credits, debts, capital stock, interest rate.\n",
    "\n",
    "\n",
    "\n",
    "- Firms have unlimited funds that they put freely in their activities, balancing other agent negative cash, if any.\n",
    "\n",
    "  \n",
    "\n",
    "- Saving is abstension from consuming, increasing agent liquidity.\n",
    "\n",
    "\n",
    "\n",
    "- Investments are uniquely for replacement, without technical progress.\n",
    "\n",
    "  "
   ]
  },
  {
   "cell_type": "markdown",
   "id": "comparable-matthew",
   "metadata": {},
   "source": [
    "### symbol table\n",
    "\n",
    "[symbol table](https://oeis.org/wiki/List_of_LaTeX_mathematical_symbols) in $\\LaTeX$ \n",
    "\n",
    "$a_i$ -  with $a_i \\in \\mathbf{A}$; agent number $N=|\\mathbf{A}|$, `agentList` and`agentNum`\n",
    "\n",
    "$a^e_i$ -  with $a^e_i \\in \\mathbf{A^e}$ and $\\mathbf{A^e} \\subset \\mathbf{A}$; employer number $N^e=|\\mathbf{A^e}|$ in range $[N^e_{min},N^e_{max}]$, `employerList`\n",
    "\n",
    "$\\mathbf{F}$ - firms' set, with $f_j \\in \\mathbf{F}$ being $N^f = |\\mathbf{F}|$,  with $N^f = |\\mathbf{F}| = |\\mathbf{A^e}|$ , `firmList`\n",
    "\n",
    "$\\mathbf{A}^w$ - working agents' set, being $\\mathbf{A}^w \\subseteq \\mathbf{A}$, with $N^w_i=|\\mathbf{A}^w_i|$ number of working agents employed by employer $i$, also including self-employed employers, with $a_i \\in \\mathbf{A}^e$\n",
    "\n",
    "$\\mathbf{B}$ - banks' set, with $b_j \\in \\mathbf{B}$ being $N^b = |\\mathbf{B}|$, `bankList`\n",
    "\n",
    "$p$ - price `price`\n",
    "\n",
    "$u$ - unemployment rate `unemploymentRate`\n",
    "\n",
    "$dimensional~heterogeneity$ is a $true/false$ chooser, forcing increasing firms to attract more workers. `dimensionalHeterogeneity`\n",
    "\n",
    "$\\pi_{i,t}$ - labor productivity, a uniformly distributed decimal number in range $[\\pi_{min},\\pi_{max}]$,`productivity`\n",
    "\n",
    "&Delta;$\\pi_{i,t}$ - uniperiodal additive productivity correction in range $[$&Delta;$\\pi_{min},$ &Delta;$\\pi_{max}]$, `productivityDelta`\n",
    "\n",
    "$n_{i,t}$ - number of workers in a firm\n",
    "\n",
    "$q_{i,t}$ - production in quantity, `production`\n",
    "\n",
    "$\\Pi_{i,t}$ - profit, `profit`\n",
    "\n",
    "$\\rho$ - dividend distribution share, `rho`\n",
    "\n",
    "$W$ - wage `wage`\n",
    "\n",
    "$R_{i,t}$ - revenues, `revenues`\n",
    "\n",
    "$s_{i,t}$ - sales in quantity, `sales`\n",
    "\n",
    "$v_{i,t}$ - in**v**entories (final, initial), `initialInventories`, `finalInventories`\n",
    "\n",
    "$d_{i}$ - deperibility share of the production, `deperibilityShare`, setting $d_{max}$\n",
    "\n",
    "$c_{i,t}$ - consumption rate, a uniformly distributed decimal number in range $[c_{min},c_{max}]$,`consumptionRate`\n",
    "\n",
    "$C_{i,t}$ - consumption of $i$ in $t$\n",
    "\n",
    "$I_{i,t}$  - investment plan  of $i$ in $t$, a uniformly distributed realization in range $[I_{min},I_{max}]$,`investmentProgram`\n",
    "\n",
    "$H_{i,t}$  - high powered money (cash) held by individuals (also acting as employers), `cashMoney`\n",
    "\n",
    "$M1_{i,t}$ - checking account money deposits held by  $a_i$ at time $t$, `checkingAccount`\n",
    "\n",
    "$M1^f_{i,t}$ - firm's bank account (with positive or negative balance), `bankAccount`\n",
    "\n",
    "the investment and consumption actions are repeated in each cycle, looking around randomly for the sellers; currently `nOfConsumptionActions` $=30$ and `nOfInvestmentActions`$=10$; each consumption buy action is at maximum the 20% of the planned consumptions in that cycle; instead, each investment buy action can reach the whole amount of the investment program of the cycle; each buy action is limited by the residual capabilty of the seller\n",
    "\n",
    "**magically**, the same good can be a consumption item or an investment one\n",
    "\n",
    "$T$ - number of cycles `ncycles`\n",
    "\n",
    "$t$ - current cycle `cycle`\n"
   ]
  },
  {
   "cell_type": "markdown",
   "id": "broke-marathon",
   "metadata": {},
   "source": [
    "### agent structure\n",
    "\n",
    "The structure of a **generic agent**: it can represent an employer, a worker, an unemployed person.\n",
    "\n",
    "When an agent is created, the **initialization process** defines:\n",
    "\n",
    "- its numerical id, `num`\n",
    "- its entrepreneur status, `entrepreneur`, set to $false$\n",
    "- the id of its employer, `myEmployer`, set to $0$\n",
    "- if entrepreneur, the id of its firm, `myFirm`, set to $0$\n",
    "- $c_{i,0}$ - consumption rate, set to $0$\n",
    "- $H_{i,0}$ - cash money, set to $0$ \n",
    "- $M1_{i,0}$ - checking account money deposits, set to $0$\n",
    "\n",
    "\n",
    "\n",
    "## firm structure\n",
    "\n",
    "- $R_{i,0}$ - `revenues`, initial value  $0$\n",
    "- $s_{i,0}$ - `sales`, initial value  $0$\n",
    "- $v^i_{i,0}$ - in**v**entories, `initialInventories`, set to $0$ \n",
    "- $v^f_{i,0}$ - in**v**entories, `finalInventories`, set to $0$ \n",
    "- $d_{i}$ - deperibility share, a uniformly distributed decimal number in range $[0,d_{max}]$,`deperibilityShare`\n",
    "- $I_{i,0}$  - investment plan, set to $0$\n",
    "- $\\Pi_{i,0}$ - profit, set to $0$, being the related dividend $D_{i,0}$, set to $0$\n",
    "- $M1^f_{i,0}$ - firm's bank account, set to $0$\n",
    "- $\\pi_{i,t-1}$ is set after the initialization step, if an agent becomes an employer\n",
    "\n",
    "\n",
    "\n",
    "each **generic agent** has the **functions**:\n",
    "\n",
    "- **buyConsumptionGoods** \n",
    "\n",
    "  $C_{i,t}=c_{i,t} (W+D_{i,t-1})$; using $D_{i,t-1}$ we introduce a lag with a (possible) cyclical effect\n",
    "\n",
    "  being $bu$ the buyer and $se$ the seller (firm), for each fraction $C_{i,t}/k$ \n",
    "\n",
    "  ($k$ is the number of buying actions in each cycle)\n",
    "\n",
    "  &Delta;$M1^f_{se,t}=C_{bu,t}/k$\n",
    "\n",
    "  &Delta;$M1_{bu,t}=-C_{bu,t}/k$\n",
    "\n",
    "\n",
    "\n",
    "each **firm** has the **functions**:\n",
    "\n",
    "- **produce** function, with:\n",
    "\n",
    "  $\\pi_{i,t}=\\pi_{i,t-1}+$&Delta;$\\pi_{i,t}$\n",
    "\n",
    "  $q_{i,t}=n_{i,t} \\pi_{i,t}$\n",
    "\n",
    "  \n",
    "\n",
    "- **payWages**\n",
    "\n",
    "  paying $W$ to each worker in each time $t$\n",
    "\n",
    "  &Delta;$M1_{i,t}=W$ for  $a_i \\in \\mathbf{A}^w$ \n",
    "\n",
    "  &Delta;$M1^f_{i,t}=-W \\mathbf{N}^w_i$ for $a_i \\in \\mathbf{A}^e$ \n",
    "\n",
    "  \n",
    "\n",
    "- **buyInvestmentGoods**\n",
    "\n",
    "  $I_{j,t}$ for $f_j \\in \\mathbf{F}$  ($I_{j,t}$ is exogenously set)\n",
    "\n",
    "  being $bu$ the buyer (firm) and $se$ the seller (firm), for each fraction $I_{j,t}/k$\n",
    "\n",
    "  ($k$ is the number of investment actions in each cycle)\n",
    "\n",
    "  &Delta;$M1^f_{se,t}=I_{bu,t}/k$\n",
    "\n",
    "  &Delta;$M1^f_{bu,t}=-I_{bu,t}/k$\n",
    "\n",
    "  \n",
    "\n",
    "- **makeBalanceSheet**\n",
    "\n",
    "  $v^f_{i,t}=v^i_{i,t}+(q_{i,t}-s_{i,t}) (1 - d_{i})$\n",
    "\n",
    "  $R_{i,t}=p s_{i,t}$\n",
    "\n",
    "  $\\Pi_{i,t}=R_{i,t}-W n_{i,t}-p(v^f_{i,t}-v^i_{i,t})$\n",
    "\n",
    "\n",
    "\n",
    "Agent **bank** is a special subject operating on the financial side of the model  (to be continued)\n",
    "\n"
   ]
  },
  {
   "cell_type": "code",
   "execution_count": 3,
   "id": "found-bibliography",
   "metadata": {
    "scrolled": false
   },
   "outputs": [],
   "source": [
    "class Agent():\n",
    "    def __init__(self, num):\n",
    "        self.num=num\n",
    "        self.entrepreneur=False\n",
    "        self.myFirm=0\n",
    "        self.myEmployer=0\n",
    "        self.consumptionRate=0\n",
    "        self.cashMoney=0\n",
    "        self.checkingAccount=0\n",
    "        self.perceivedDividend=0\n",
    "\n",
    "    def buyConsumptionGoods(self,k):\n",
    "        if k==0: \n",
    "            self.consumptionRate=r.uniform(cmv.consumptionRateMin,cmv.consumptionRateMax)\n",
    "            self.consumption=(cmv.wage+self.perceivedDividend)*self.consumptionRate\n",
    "            if self.consumption < 0: self.consumption=0\n",
    "            self.madeConsumption=0\n",
    "                \n",
    "        r.shuffle(cmv.firmList)\n",
    "        mySeller=cmv.firmList[0]\n",
    "        self.purchase=r.uniform(0,1/5)*self.consumption \n",
    "                            # mean value 0.10 (10 buy action could be sufficient)\n",
    "        self.purchase=min(self.purchase,mySeller.production+mySeller.initialInventories\\\n",
    "                          -mySeller.sales)\n",
    "        mySeller.sales+=self.purchase/cmv.price\n",
    "        mySeller.bankAccount+=self.purchase\n",
    "        self.consumption-=self.purchase\n",
    "        self.checkingAccount-=self.purchase\n",
    "        self.madeConsumption+=self.purchase\n",
    "    \n"
   ]
  },
  {
   "cell_type": "code",
   "execution_count": 4,
   "id": "dirty-nevada",
   "metadata": {},
   "outputs": [],
   "source": [
    "class Firm():\n",
    "    def __init__(self, num):\n",
    "        self.num=num\n",
    "        self.myWorkers=[]\n",
    "        self.myEntrepreneur=0\n",
    "        self.productivity=0\n",
    "        self.initialInventories=0\n",
    "        self.finalInventories=0\n",
    "        self.bankAccount=0\n",
    "        self.revenues=0 #sales*price\n",
    "        self.sales=0\n",
    "        self.deperibilityShare=r.uniform(0,cmv.maxDeperibilityShare)\n",
    "        self.investmentProgram=0\n",
    "        self.profit=0\n",
    "        self.madeInvestment=0\n",
    "        \n",
    "    def produce(self):\n",
    "        print(\"&&&&&&&&\", self.num)\n",
    "        self.initialInventories=self.finalInventories\n",
    "        self.productivity+=r.uniform(cmv.productivityDeltaMin,cmv.productivityDeltaMax)\n",
    "        self.productivity=max(self.productivity,0)\n",
    "        \n",
    "        self.production=len(self.myWorkers)*self.productivity\n",
    "        self.sales=0\n",
    "\n",
    "    def payWages(self):\n",
    "        for anAgent in self.myWorkers:\n",
    "            anAgent.checkingAccount+=cmv.wage\n",
    "        self.bankAccount-=cmv.wage*len(self.myWorkers)\n",
    "            \n",
    "    def buyInvestmentGoods(self,k):\n",
    "        if k==0: \n",
    "            self.investmentProgram=r.uniform(cmv.investmentMin,cmv.investmentMax)\n",
    "            self.madeInvestment=0\n",
    "                       \n",
    "        r.shuffle(cmv.firmList)\n",
    "        mySeller=cmv.firmList[0]\n",
    "        self.myInvestment=min(self.investmentProgram,mySeller.production+\\\n",
    "                              mySeller.initialInventories-mySeller.sales)\n",
    "        mySeller.sales+=self.myInvestment/cmv.price\n",
    "        mySeller.bankAccount+=self.myInvestment\n",
    "        \n",
    "        self.bankAccount-=self.myInvestment\n",
    "        self.investmentProgram-=self.myInvestment\n",
    "        self.madeInvestment+=self.myInvestment\n",
    "        \n",
    "    def makeBalanceSheet(self):\n",
    "        self.lostProduction=0\n",
    "        if self.production - self.sales > 0: \n",
    "            self.lostProduction=(self.production - self.sales)*self.deperibilityShare\n",
    "        #print(self.num, lostProduction,self.productivity)\n",
    "        self.finalInventories=self.initialInventories+self.production-\\\n",
    "                              self.sales-self.lostProduction\n",
    "        self.revenues=self.sales*cmv.price\n",
    "        self.profit=self.revenues - len(self.myWorkers)*cmv.wage + \\\n",
    "          (self.finalInventories-self.initialInventories)*cmv.price\n",
    "        #print(self.num,self.profit,self.revenues,len(self.myWorkers)*cmv.wage,\\\n",
    "        #      self.finalInventories, self.initialInventories)\n",
    "        \n",
    "    def distributeDividend(self):\n",
    "        dividend=cmv.rho*self.profit\n",
    "        self.bankAccount-=dividend\n",
    "        self.myEntrepreneur.checkingAccount+=dividend\n",
    "        self.myEntrepreneur.perceivedDividend+=dividend\n",
    "        \n"
   ]
  },
  {
   "cell_type": "markdown",
   "id": "given-bangkok",
   "metadata": {},
   "source": [
    "### agent setup\n",
    "\n",
    "- agent basic creation\n",
    "\n",
    "  \n",
    "\n",
    "- creation of entrepreneur list\n",
    "\n",
    "  \n",
    "\n",
    "- selecting entrepreneurs and creating their firms\n",
    "\n",
    "  \n",
    "\n",
    "- with a given (heterogeneous) productivity\n",
    "\n",
    "  \n",
    "\n",
    "- linking the firm to its entrepreneur, considering the entrepreneur itself as a worker in its firm\n",
    "\n",
    "  \n",
    "\n",
    "- creation of a temporary workforce list of to-be-employed agent, escluding entrepreneurs (already self employed)\n",
    "\n",
    "  \n",
    "\n",
    "- applying the unmployement rate to exclude agents\n",
    "\n",
    "  \n",
    "\n",
    "- assigning workforce (to-be-employed agents) to firms, with a reinforcement mechanism, gradually giving more attraction/hiring capability to firms growing the most\n",
    "\n"
   ]
  },
  {
   "cell_type": "code",
   "execution_count": 5,
   "id": "weekly-jordan",
   "metadata": {},
   "outputs": [],
   "source": [
    "def setup():\n",
    "    cmv.agentList=[]\n",
    "    for n in range(cmv.agentNum):\n",
    "        anAgent=Agent(n+1)\n",
    "        cmv.agentList.append(anAgent)\n",
    "    \n",
    "\n",
    "    # creation of entrepreneur list\n",
    "    cmv.entrepreneurNum=r.randint(entrepreneurMin, entrepreneurMax)\n",
    "\n",
    "    cmv.entrepreneurList=[]\n",
    "    cmv.firmList=[]\n",
    "    entrepreneurCandidates=cmv.agentList.copy()\n",
    "\n",
    "    for n in range(cmv.entrepreneurNum):\n",
    "        i=r.randint(0,len(entrepreneurCandidates))\n",
    "        entrepreneurCandidates[i].entrepreneur=True\n",
    "        aFirm=Firm(entrepreneurCandidates[i].num)\n",
    "        entrepreneurCandidates[i].myFirm=aFirm\n",
    "        entrepreneurCandidates[i].myEmployer=aFirm\n",
    "        aFirm.myEntrepreneur=entrepreneurCandidates[i]\n",
    "        aFirm.myWorkers.append(entrepreneurCandidates[i])\n",
    "        aFirm.productivity=\\\n",
    "                r.uniform(cmv.productivityMin,cmv.productivityMax)\n",
    "        print(\"*******\", aFirm.num, entrepreneurCandidates[i].num, \\\n",
    "              entrepreneurCandidates[i].myFirm.num)\n",
    "        cmv.entrepreneurList.append(entrepreneurCandidates.pop(i))\n",
    "        cmv.firmList.append(aFirm)\n",
    "        print(cmv.firmList[-1].num)\n",
    "        \n",
    "    cmv.firmNum=len(cmv.firmList)\n",
    "    print(\"//////////////////\",list(cmv.firmList))\n",
    "    \n",
    "    # creation of workforce list\n",
    "    toBeEmployed=[]\n",
    "\n",
    "    for anAgent in cmv.agentList:\n",
    "        if not anAgent.entrepreneur: toBeEmployed.append(anAgent)\n",
    "    for k in range(round(cmv.unemploymentRate*cmv.agentNum)):\n",
    "        toBeEmployed.pop(r.randint(0,len(toBeEmployed)))\n",
    "    #len(toBeEmployed)\n",
    "\n",
    "\n",
    "    # assigning workforce to firms\n",
    "    tmpFirmListWithDuplications=cmv.firmList\n",
    "    for anAgent in toBeEmployed:\n",
    "        choice=r.choice(tmpFirmListWithDuplications)\n",
    "        anAgent.myEmployer=choice\n",
    "        choice.myWorkers.append(anAgent)\n",
    "        if cmv.dimensionalHeterogeneity: tmpFirmListWithDuplications.append(choice)\n",
    "            \n",
    "    cmv.totalProductionSeries=[]\n",
    "    cmv.totalProductionInfraVarSeries=[]\n",
    "    cmv.totalProfitSeries=[]\n",
    "    cmv.totalProfitInfraVarSeries=[]\n",
    "    cmv.totalInitialInventoriesSeries=[]\n",
    "    cmv.totalInitialInventoriesInfraVarSeries=[]\n",
    "    cmv.totalFinalInventoriesSeries=[]\n",
    "    cmv.totalFinalInventoriesInfraVarSeries=[]\n",
    "    cmv.totalConsumptionSeries=[]\n",
    "    cmv.totalEntrepreneurConsumptionSeries=[]\n",
    "    cmv.totalNonEntrepreneurConsumptionSeries=[]\n",
    "    cmv.totalConsumptionInfraVarSeries=[]\n",
    "    cmv.totalInvestmentSeries=[]\n",
    "    cmv.totalInvestmentInfraVarSeries=[]\n",
    "    cmv.totalCashMoneySeries=[]\n",
    "    cmv.totalCashMoneyInfraVarSeries=[]\n",
    "    cmv.totalCheckingAccountSeries=[]\n",
    "    cmv.totalCheckingAccountInfraVarSeries=[]\n",
    "    cmv.totalBankAccountSeries=[]\n",
    "    cmv.totalBankAccountInfraVarSeries=[]\n",
    "\n",
    "    cmv.totalLostProductionSeries=[]"
   ]
  },
  {
   "cell_type": "markdown",
   "id": "accompanied-defeat",
   "metadata": {},
   "source": [
    "### meta actions\n",
    "\n",
    "\n",
    "\n",
    "- *produceAll* orders to the firms to produce and to collects the results\n",
    "\n",
    "  \n",
    "\n",
    "- *payWagesAll* orders to the firms to pay wages, also to the entrepreneurs\n",
    "\n",
    "  \n",
    "\n",
    "- *buyConsumptionGoodsAll* orders to the agents to buy consumption goods\n",
    "\n",
    "  \n",
    "\n",
    "- *buyInvestmentGoodsAll* orders to the firms to buy investment goods\n",
    "\n",
    "\n",
    "\n",
    "- *makeBalanceSheetAll* with firm making accounts\n",
    "\n",
    "\n",
    "\n",
    "- *accountCashMoneyAll* summarizing eveyone cash money at the end of a cycle\n",
    "\n",
    "  \n",
    "\n",
    "- *accountCheckingAccountAll* summarizing eveyone checking accounts at the end of a cycle\n",
    "\n",
    "  \n",
    "\n",
    "- *accountBankingAccountAll* summarizing firm banking accounts at the end of a cycle\n",
    "\n"
   ]
  },
  {
   "cell_type": "code",
   "execution_count": 6,
   "id": "artistic-barcelona",
   "metadata": {
    "scrolled": false
   },
   "outputs": [],
   "source": [
    "def produceAll():\n",
    "    cmv.totalProductionSeries.append(0)\n",
    "    cmv.totalProductionInfraVarSeries.append(0)\n",
    "    cmv.totalInitialInventoriesSeries.append(0)\n",
    "    cmv.totalInitialInventoriesInfraVarSeries.append(0)\n",
    "    print(\"||||||||||||||||\",len(cmv.firmList))\n",
    "    for aFirm in cmv.firmList:\n",
    "        print(\"$$$$$\", aFirm.num)\n",
    "        aFirm.produce()\n",
    "        cmv.totalProductionSeries[-1]+=aFirm.production\n",
    "        cmv.totalProductionInfraVarSeries[-1]+=aFirm.production**2\n",
    "        cmv.totalInitialInventoriesSeries[-1]+=aFirm.initialInventories\n",
    "        cmv.totalInitialInventoriesInfraVarSeries[-1]+=aFirm.initialInventories**2\n",
    "\n",
    "    cmv.totalProductionInfraVarSeries[-1]=\\\n",
    "                            (cmv.totalProductionInfraVarSeries[-1]/cmv.firmNum - \\\n",
    "                            (cmv.totalProductionSeries[-1]/cmv.firmNum)**2)\n",
    "    cmv.totalInitialInventoriesInfraVarSeries[-1]=\\\n",
    "                            (cmv.totalInitialInventoriesInfraVarSeries[-1]/cmv.firmNum - \\\n",
    "                            (cmv.totalInitialInventoriesSeries[-1]/cmv.firmNum)**2)\n",
    "                                          "
   ]
  },
  {
   "cell_type": "code",
   "execution_count": 7,
   "id": "married-fabric",
   "metadata": {
    "scrolled": false
   },
   "outputs": [],
   "source": [
    "def payWagesAll():\n",
    "    for aFirm in cmv.firmList:\n",
    "        aFirm.payWages()\n"
   ]
  },
  {
   "cell_type": "code",
   "execution_count": 8,
   "id": "global-mercury",
   "metadata": {
    "scrolled": true
   },
   "outputs": [],
   "source": [
    "def buyConsumptionGoodsAll():\n",
    "    cmv.totalEntrepreneurConsumptionSeries.append(0) \n",
    "    cmv.totalNonEntrepreneurConsumptionSeries.append(0)\n",
    "    cmv.totalConsumptionSeries.append(0)\n",
    "    cmv.totalConsumptionInfraVarSeries.append(0)\n",
    "    for k in range(cmv.nOfConsumptionActions):\n",
    "        r.shuffle(cmv.agentList)\n",
    "        for anAgent in cmv.agentList:\n",
    "            anAgent.buyConsumptionGoods(k)\n",
    "            if k==cmv.nOfConsumptionActions-1:\n",
    "                if anAgent.entrepreneur:\n",
    "                    cmv.totalEntrepreneurConsumptionSeries[-1]+=anAgent.madeConsumption\n",
    "                if not anAgent.entrepreneur:\n",
    "                    cmv.totalNonEntrepreneurConsumptionSeries[-1]+=anAgent.madeConsumption\n",
    "                cmv.totalConsumptionSeries[-1]+=anAgent.madeConsumption\n",
    "                cmv.totalConsumptionInfraVarSeries[-1]+=anAgent.madeConsumption**2\n",
    "    cmv.totalConsumptionInfraVarSeries[-1]=\\\n",
    "                              (cmv.totalConsumptionInfraVarSeries[-1]/cmv.agentNum - \\\n",
    "                              (cmv.totalConsumptionSeries[-1]/cmv.agentNum)**2)\n",
    "                "
   ]
  },
  {
   "cell_type": "code",
   "execution_count": 9,
   "id": "incredible-strategy",
   "metadata": {
    "scrolled": true
   },
   "outputs": [],
   "source": [
    "def buyInvestmentGoodsAll():\n",
    "    cmv.totalInvestmentSeries.append(0)\n",
    "    cmv.totalInvestmentInfraVarSeries.append(0)\n",
    "    for k in range(cmv.nOfInvestmentActions):\n",
    "        for aFirm in cmv.firmList:\n",
    "            aFirm.buyInvestmentGoods(k)\n",
    "            if k==cmv.nOfInvestmentActions-1:\n",
    "                cmv.totalInvestmentSeries[-1]+=aFirm.madeInvestment\n",
    "                cmv.totalInvestmentInfraVarSeries[-1]+=aFirm.madeInvestment**2\n",
    "    cmv.totalInvestmentInfraVarSeries[-1]=\\\n",
    "                              (cmv.totalInvestmentInfraVarSeries[-1]/cmv.firmNum - \\\n",
    "                              (cmv.totalInvestmentSeries[-1]/cmv.firmNum)**2)\n",
    "                "
   ]
  },
  {
   "cell_type": "code",
   "execution_count": 10,
   "id": "twelve-aerospace",
   "metadata": {
    "scrolled": true
   },
   "outputs": [],
   "source": [
    "def accountCashMoneyAll():\n",
    "    cmv.totalCashMoneySeries.append(0)\n",
    "    cmv.totalCashMoneyInfraVarSeries.append(0)\n",
    "    for anAgent in cmv.agentList:\n",
    "        cmv.totalCashMoneySeries[-1]+=anAgent.cashMoney\n",
    "        cmv.totalCashMoneyInfraVarSeries[-1]+=anAgent.cashMoney**2\n",
    "\n",
    "    cmv.totalCashMoneyInfraVarSeries[-1]=\\\n",
    "                              (cmv.totalCashMoneyInfraVarSeries[-1]/cmv.agentNum - \\\n",
    "                              (cmv.totalCashMoneySeries[-1]/cmv.agentNum)**2)\n",
    "    if abs(cmv.totalCashMoneySeries[-1])<0.00001: \\\n",
    "        cmv.totalCashMoneySeries[-1]=0\n"
   ]
  },
  {
   "cell_type": "code",
   "execution_count": 11,
   "id": "daily-hobby",
   "metadata": {},
   "outputs": [],
   "source": [
    "def accountCheckingAccountAll():\n",
    "    cmv.totalCheckingAccountSeries.append(0)\n",
    "    cmv.totalCheckingAccountInfraVarSeries.append(0)\n",
    "    for anAgent in cmv.agentList:\n",
    "        cmv.totalCheckingAccountSeries[-1]+=anAgent.checkingAccount\n",
    "        cmv.totalCheckingAccountInfraVarSeries[-1]+=anAgent.checkingAccount**2\n",
    "\n",
    "    cmv.totalCheckingAccountInfraVarSeries[-1]=\\\n",
    "                              (cmv.totalCheckingAccountInfraVarSeries[-1]/cmv.agentNum - \\\n",
    "                              (cmv.totalCheckingAccountSeries[-1]/cmv.agentNum)**2)\n",
    "    if abs(cmv.totalCheckingAccountSeries[-1])<0.00001: \\\n",
    "        cmv.totalCheckingAccountSeries[-1]=0\n"
   ]
  },
  {
   "cell_type": "code",
   "execution_count": 12,
   "id": "soviet-johnson",
   "metadata": {},
   "outputs": [],
   "source": [
    "def accountBankAccountAll(): #temporary - this is an attribute of firms\n",
    "    cmv.totalBankAccountSeries.append(0)\n",
    "    cmv.totalBankAccountInfraVarSeries.append(0)\n",
    "    for aFirm in cmv.firmList:\n",
    "        cmv.totalBankAccountSeries[-1]+=aFirm.bankAccount\n",
    "        cmv.totalBankAccountInfraVarSeries[-1]+=aFirm.bankAccount**2\n",
    "\n",
    "    cmv.totalBankAccountInfraVarSeries[-1]=\\\n",
    "                              (cmv.totalBankAccountInfraVarSeries[-1]/cmv.firmNum - \\\n",
    "                              (cmv.totalBankAccountSeries[-1]/cmv.firmNum)**2)\n",
    "    if abs(cmv.totalBankAccountSeries[-1])<0.00001: \\\n",
    "        cmv.totalBankAccountSeries[-1]=0\n"
   ]
  },
  {
   "cell_type": "code",
   "execution_count": 13,
   "id": "exceptional-management",
   "metadata": {
    "scrolled": false
   },
   "outputs": [],
   "source": [
    "def makeBalanceSheetAll():\n",
    "    cmv.totalProfitSeries.append(0)\n",
    "    cmv.totalProfitInfraVarSeries.append(0)\n",
    "    cmv.totalFinalInventoriesSeries.append(0)\n",
    "    cmv.totalFinalInventoriesInfraVarSeries.append(0)\n",
    "    cmv.totalLostProductionSeries.append(0)\n",
    "    for aFirm in cmv.firmList:\n",
    "        aFirm.makeBalanceSheet()\n",
    "        cmv.totalProfitSeries[-1]+=aFirm.profit\n",
    "        cmv.totalProfitInfraVarSeries[-1]+=aFirm.profit**2\n",
    "        cmv.totalFinalInventoriesSeries[-1]+=aFirm.finalInventories\n",
    "        cmv.totalFinalInventoriesInfraVarSeries[-1]+=aFirm.finalInventories**2\n",
    "        cmv.totalLostProductionSeries[-1]+=aFirm.lostProduction\n",
    "\n",
    "    cmv.totalProfitInfraVarSeries[-1]=(cmv.totalProfitInfraVarSeries[-1]/cmv.firmNum - \\\n",
    "                                          (cmv.totalProfitSeries[-1]/cmv.firmNum)**2)\n",
    "    cmv.totalFinalInventoriesInfraVarSeries[-1]=\\\n",
    "                            (cmv.totalFinalInventoriesInfraVarSeries[-1]/cmv.firmNum - \\\n",
    "                            (cmv.totalFinalInventoriesSeries[-1]/cmv.firmNum)**2)\n",
    "                                            "
   ]
  },
  {
   "cell_type": "code",
   "execution_count": 14,
   "id": "arctic-terminology",
   "metadata": {},
   "outputs": [],
   "source": [
    "def distributeDividendAll():\n",
    "    for aFirm in cmv.firmList:\n",
    "        aFirm.distributeDividend()"
   ]
  },
  {
   "cell_type": "markdown",
   "id": "dense-journey",
   "metadata": {},
   "source": [
    "\n",
    "### model parameters\n",
    "\n"
   ]
  },
  {
   "cell_type": "code",
   "execution_count": 15,
   "id": "designing-participant",
   "metadata": {
    "scrolled": false
   },
   "outputs": [],
   "source": [
    "cmv.agentNum=100\n",
    "entrepreneurMin=5\n",
    "entrepreneurMax=20\n",
    "\n",
    "cmv.price=1\n",
    "\n",
    "cmv.unemploymentRate=0\n",
    "cmv.dimensionalHeterogeneity=True\n",
    "\n",
    "cmv.productivityMin=0.8\n",
    "cmv.productivityMax=1.2\n",
    "cmv.productivityDeltaMin=cmv.productivityMin-1\n",
    "cmv.productivityDeltaMax=cmv.productivityMax-1\n",
    "\n",
    "cmv.maxDeperibilityShare=0.5\n",
    "\n",
    "cmv.wage=1\n",
    "cmv.rho=1\n",
    "cmv.consumptionRateMin=0.5\n",
    "cmv.consumptionRateMax=1\n",
    "\n",
    "cmv.investmentMin=1\n",
    "cmv.investmentMax=10\n",
    "\n",
    "cmv.nOfConsumptionActions=30\n",
    "cmv.nOfInvestmentActions=10\n",
    "cmv.ncycles=2\n",
    "cmv.cycle=0"
   ]
  },
  {
   "cell_type": "markdown",
   "id": "neutral-cylinder",
   "metadata": {},
   "source": [
    "## <p style=\"color:red\">model machine</p>\n",
    "\n",
    "- a random seed determining the random number sequences\n",
    "\n",
    "\n",
    "\n",
    "- a list of actions (meta ones)\n",
    "\n",
    "\n",
    "\n",
    "- an engine excecuting the meta actions\n",
    "\n",
    "\n",
    "\n",
    "- display tools (their code is hidden into the file `tools.py`)\n",
    "\n",
    "\n"
   ]
  },
  {
   "cell_type": "code",
   "execution_count": 16,
   "id": "sealed-valuation",
   "metadata": {
    "scrolled": false
   },
   "outputs": [
    {
     "name": "stdout",
     "output_type": "stream",
     "text": [
      "******* 25 25 25\n",
      "25\n",
      "******* 62 62 62\n",
      "62\n",
      "******* 61 61 61\n",
      "61\n",
      "******* 12 12 12\n",
      "12\n",
      "******* 74 74 74\n",
      "74\n",
      "******* 80 80 80\n",
      "80\n",
      "******* 60 60 60\n",
      "60\n",
      "******* 33 33 33\n",
      "33\n",
      "******* 24 24 24\n",
      "24\n",
      "******* 16 16 16\n",
      "16\n",
      "******* 88 88 88\n",
      "88\n",
      "******* 84 84 84\n",
      "84\n",
      "******* 37 37 37\n",
      "37\n",
      "******* 31 31 31\n",
      "31\n",
      "******* 34 34 34\n",
      "34\n",
      "******* 95 95 95\n",
      "95\n",
      "******* 15 15 15\n",
      "15\n",
      "******* 96 96 96\n",
      "96\n",
      "******* 40 40 40\n",
      "40\n",
      "////////////////// [<__main__.Firm object at 0x7fc3b2127970>, <__main__.Firm object at 0x7fc3b21545e0>, <__main__.Firm object at 0x7fc3b21549d0>, <__main__.Firm object at 0x7fc3b2154dc0>, <__main__.Firm object at 0x7fc3b21581f0>, <__main__.Firm object at 0x7fc3b210aee0>, <__main__.Firm object at 0x7fc3b2154b80>, <__main__.Firm object at 0x7fc3b21547c0>, <__main__.Firm object at 0x7fc3b21543a0>, <__main__.Firm object at 0x7fc3b2158190>, <__main__.Firm object at 0x7fc3b2158820>, <__main__.Firm object at 0x7fc3b2158c10>, <__main__.Firm object at 0x7fc3b2154460>, <__main__.Firm object at 0x7fc3b2154850>, <__main__.Firm object at 0x7fc3b2154d00>, <__main__.Firm object at 0x7fc3b2158e50>, <__main__.Firm object at 0x7fc3b2154c70>, <__main__.Firm object at 0x7fc3b2154760>, <__main__.Firm object at 0x7fc3b2158d60>]\n",
      "|||||||||||||||| 100\n",
      "$$$$$ 25\n",
      "&&&&&&&& 25\n",
      "$$$$$ 62\n",
      "&&&&&&&& 62\n",
      "$$$$$ 61\n",
      "&&&&&&&& 61\n",
      "$$$$$ 12\n",
      "&&&&&&&& 12\n",
      "$$$$$ 74\n",
      "&&&&&&&& 74\n",
      "$$$$$ 80\n",
      "&&&&&&&& 80\n",
      "$$$$$ 60\n",
      "&&&&&&&& 60\n",
      "$$$$$ 33\n",
      "&&&&&&&& 33\n",
      "$$$$$ 24\n",
      "&&&&&&&& 24\n",
      "$$$$$ 16\n",
      "&&&&&&&& 16\n",
      "$$$$$ 88\n",
      "&&&&&&&& 88\n",
      "$$$$$ 84\n",
      "&&&&&&&& 84\n",
      "$$$$$ 37\n",
      "&&&&&&&& 37\n",
      "$$$$$ 31\n",
      "&&&&&&&& 31\n",
      "$$$$$ 34\n",
      "&&&&&&&& 34\n",
      "$$$$$ 95\n",
      "&&&&&&&& 95\n",
      "$$$$$ 15\n",
      "&&&&&&&& 15\n",
      "$$$$$ 96\n",
      "&&&&&&&& 96\n",
      "$$$$$ 40\n",
      "&&&&&&&& 40\n",
      "$$$$$ 40\n",
      "&&&&&&&& 40\n",
      "$$$$$ 95\n",
      "&&&&&&&& 95\n",
      "$$$$$ 31\n",
      "&&&&&&&& 31\n",
      "$$$$$ 31\n",
      "&&&&&&&& 31\n",
      "$$$$$ 95\n",
      "&&&&&&&& 95\n",
      "$$$$$ 16\n",
      "&&&&&&&& 16\n",
      "$$$$$ 84\n",
      "&&&&&&&& 84\n",
      "$$$$$ 95\n",
      "&&&&&&&& 95\n",
      "$$$$$ 95\n",
      "&&&&&&&& 95\n",
      "$$$$$ 40\n",
      "&&&&&&&& 40\n",
      "$$$$$ 31\n",
      "&&&&&&&& 31\n",
      "$$$$$ 95\n",
      "&&&&&&&& 95\n",
      "$$$$$ 37\n",
      "&&&&&&&& 37\n",
      "$$$$$ 60\n",
      "&&&&&&&& 60\n",
      "$$$$$ 80\n",
      "&&&&&&&& 80\n",
      "$$$$$ 34\n",
      "&&&&&&&& 34\n",
      "$$$$$ 16\n",
      "&&&&&&&& 16\n",
      "$$$$$ 16\n",
      "&&&&&&&& 16\n",
      "$$$$$ 80\n",
      "&&&&&&&& 80\n",
      "$$$$$ 16\n",
      "&&&&&&&& 16\n",
      "$$$$$ 16\n",
      "&&&&&&&& 16\n",
      "$$$$$ 95\n",
      "&&&&&&&& 95\n",
      "$$$$$ 31\n",
      "&&&&&&&& 31\n",
      "$$$$$ 31\n",
      "&&&&&&&& 31\n",
      "$$$$$ 31\n",
      "&&&&&&&& 31\n",
      "$$$$$ 16\n",
      "&&&&&&&& 16\n",
      "$$$$$ 16\n",
      "&&&&&&&& 16\n",
      "$$$$$ 95\n",
      "&&&&&&&& 95\n",
      "$$$$$ 16\n",
      "&&&&&&&& 16\n",
      "$$$$$ 62\n",
      "&&&&&&&& 62\n",
      "$$$$$ 37\n",
      "&&&&&&&& 37\n",
      "$$$$$ 40\n",
      "&&&&&&&& 40\n",
      "$$$$$ 95\n",
      "&&&&&&&& 95\n",
      "$$$$$ 34\n",
      "&&&&&&&& 34\n",
      "$$$$$ 16\n",
      "&&&&&&&& 16\n",
      "$$$$$ 34\n",
      "&&&&&&&& 34\n",
      "$$$$$ 16\n",
      "&&&&&&&& 16\n",
      "$$$$$ 31\n",
      "&&&&&&&& 31\n",
      "$$$$$ 37\n",
      "&&&&&&&& 37\n",
      "$$$$$ 80\n",
      "&&&&&&&& 80\n",
      "$$$$$ 95\n",
      "&&&&&&&& 95\n",
      "$$$$$ 61\n",
      "&&&&&&&& 61\n",
      "$$$$$ 16\n",
      "&&&&&&&& 16\n",
      "$$$$$ 61\n",
      "&&&&&&&& 61\n",
      "$$$$$ 12\n",
      "&&&&&&&& 12\n",
      "$$$$$ 16\n",
      "&&&&&&&& 16\n",
      "$$$$$ 16\n",
      "&&&&&&&& 16\n",
      "$$$$$ 80\n",
      "&&&&&&&& 80\n",
      "$$$$$ 31\n",
      "&&&&&&&& 31\n",
      "$$$$$ 31\n",
      "&&&&&&&& 31\n",
      "$$$$$ 95\n",
      "&&&&&&&& 95\n",
      "$$$$$ 74\n",
      "&&&&&&&& 74\n",
      "$$$$$ 16\n",
      "&&&&&&&& 16\n",
      "$$$$$ 37\n",
      "&&&&&&&& 37\n",
      "$$$$$ 37\n",
      "&&&&&&&& 37\n",
      "$$$$$ 31\n",
      "&&&&&&&& 31\n",
      "$$$$$ 31\n",
      "&&&&&&&& 31\n",
      "$$$$$ 31\n",
      "&&&&&&&& 31\n",
      "$$$$$ 16\n",
      "&&&&&&&& 16\n",
      "$$$$$ 16\n",
      "&&&&&&&& 16\n",
      "$$$$$ 88\n",
      "&&&&&&&& 88\n",
      "$$$$$ 31\n",
      "&&&&&&&& 31\n",
      "$$$$$ 37\n",
      "&&&&&&&& 37\n",
      "$$$$$ 37\n",
      "&&&&&&&& 37\n",
      "$$$$$ 16\n",
      "&&&&&&&& 16\n",
      "$$$$$ 31\n",
      "&&&&&&&& 31\n",
      "$$$$$ 24\n",
      "&&&&&&&& 24\n",
      "$$$$$ 16\n",
      "&&&&&&&& 16\n",
      "$$$$$ 16\n",
      "&&&&&&&& 16\n",
      "$$$$$ 31\n",
      "&&&&&&&& 31\n",
      "$$$$$ 95\n",
      "&&&&&&&& 95\n",
      "$$$$$ 31\n",
      "&&&&&&&& 31\n",
      "$$$$$ 31\n",
      "&&&&&&&& 31\n",
      "$$$$$ 31\n",
      "&&&&&&&& 31\n",
      "$$$$$ 16\n",
      "&&&&&&&& 16\n",
      "$$$$$ 80\n",
      "&&&&&&&& 80\n",
      "$$$$$ 62\n",
      "&&&&&&&& 62\n",
      "$$$$$ 80\n",
      "&&&&&&&& 80\n",
      "$$$$$ 16\n",
      "&&&&&&&& 16\n",
      "$$$$$ 95\n",
      "&&&&&&&& 95\n",
      "$$$$$ 37\n",
      "&&&&&&&& 37\n",
      "|||||||||||||||| 100\n",
      "$$$$$ 88\n",
      "&&&&&&&& 88\n",
      "$$$$$ 12\n",
      "&&&&&&&& 12\n",
      "$$$$$ 31\n",
      "&&&&&&&& 31\n",
      "$$$$$ 31\n",
      "&&&&&&&& 31\n",
      "$$$$$ 80\n",
      "&&&&&&&& 80\n",
      "$$$$$ 95\n",
      "&&&&&&&& 95\n",
      "$$$$$ 34\n",
      "&&&&&&&& 34\n",
      "$$$$$ 95\n",
      "&&&&&&&& 95\n",
      "$$$$$ 84\n",
      "&&&&&&&& 84\n",
      "$$$$$ 80\n",
      "&&&&&&&& 80\n",
      "$$$$$ 95\n",
      "&&&&&&&& 95\n",
      "$$$$$ 31\n",
      "&&&&&&&& 31\n",
      "$$$$$ 60\n",
      "&&&&&&&& 60\n",
      "$$$$$ 31\n",
      "&&&&&&&& 31\n",
      "$$$$$ 16\n",
      "&&&&&&&& 16\n",
      "$$$$$ 37\n",
      "&&&&&&&& 37\n",
      "$$$$$ 34\n",
      "&&&&&&&& 34\n",
      "$$$$$ 61\n",
      "&&&&&&&& 61\n",
      "$$$$$ 16\n",
      "&&&&&&&& 16\n",
      "$$$$$ 95\n",
      "&&&&&&&& 95\n",
      "$$$$$ 33\n",
      "&&&&&&&& 33\n",
      "$$$$$ 37\n",
      "&&&&&&&& 37\n",
      "$$$$$ 16\n",
      "&&&&&&&& 16\n",
      "$$$$$ 16\n",
      "&&&&&&&& 16\n",
      "$$$$$ 37\n",
      "&&&&&&&& 37\n",
      "$$$$$ 37\n",
      "&&&&&&&& 37\n",
      "$$$$$ 16\n",
      "&&&&&&&& 16\n",
      "$$$$$ 16\n",
      "&&&&&&&& 16\n",
      "$$$$$ 95\n",
      "&&&&&&&& 95\n",
      "$$$$$ 95\n",
      "&&&&&&&& 95\n",
      "$$$$$ 80\n",
      "&&&&&&&& 80\n",
      "$$$$$ 31\n",
      "&&&&&&&& 31\n",
      "$$$$$ 37\n",
      "&&&&&&&& 37\n",
      "$$$$$ 61\n",
      "&&&&&&&& 61\n",
      "$$$$$ 34\n",
      "&&&&&&&& 34\n",
      "$$$$$ 31\n",
      "&&&&&&&& 31\n",
      "$$$$$ 95\n",
      "&&&&&&&& 95\n",
      "$$$$$ 16\n",
      "&&&&&&&& 16\n",
      "$$$$$ 16\n",
      "&&&&&&&& 16\n",
      "$$$$$ 37\n",
      "&&&&&&&& 37\n",
      "$$$$$ 12\n",
      "&&&&&&&& 12\n",
      "$$$$$ 80\n",
      "&&&&&&&& 80\n",
      "$$$$$ 16\n",
      "&&&&&&&& 16\n",
      "$$$$$ 15\n",
      "&&&&&&&& 15\n",
      "$$$$$ 16\n",
      "&&&&&&&& 16\n",
      "$$$$$ 37\n",
      "&&&&&&&& 37\n",
      "$$$$$ 31\n",
      "&&&&&&&& 31\n",
      "$$$$$ 34\n",
      "&&&&&&&& 34\n",
      "$$$$$ 16\n",
      "&&&&&&&& 16\n",
      "$$$$$ 61\n",
      "&&&&&&&& 61\n",
      "$$$$$ 95\n",
      "&&&&&&&& 95\n",
      "$$$$$ 80\n",
      "&&&&&&&& 80\n",
      "$$$$$ 62\n",
      "&&&&&&&& 62\n",
      "$$$$$ 16\n",
      "&&&&&&&& 16\n",
      "$$$$$ 95\n",
      "&&&&&&&& 95\n",
      "$$$$$ 95\n",
      "&&&&&&&& 95\n",
      "$$$$$ 16\n",
      "&&&&&&&& 16\n",
      "$$$$$ 31\n",
      "&&&&&&&& 31\n",
      "$$$$$ 24\n",
      "&&&&&&&& 24\n",
      "$$$$$ 16\n",
      "&&&&&&&& 16\n",
      "$$$$$ 31\n",
      "&&&&&&&& 31\n",
      "$$$$$ 24\n",
      "&&&&&&&& 24\n",
      "$$$$$ 37\n",
      "&&&&&&&& 37\n",
      "$$$$$ 74\n",
      "&&&&&&&& 74\n",
      "$$$$$ 95\n",
      "&&&&&&&& 95\n",
      "$$$$$ 40\n",
      "&&&&&&&& 40\n",
      "$$$$$ 31\n",
      "&&&&&&&& 31\n",
      "$$$$$ 16\n",
      "&&&&&&&& 16\n",
      "$$$$$ 84\n",
      "&&&&&&&& 84\n",
      "$$$$$ 16\n",
      "&&&&&&&& 16\n",
      "$$$$$ 16\n",
      "&&&&&&&& 16\n",
      "$$$$$ 62\n",
      "&&&&&&&& 62\n",
      "$$$$$ 31\n",
      "&&&&&&&& 31\n",
      "$$$$$ 16\n",
      "&&&&&&&& 16\n",
      "$$$$$ 16\n",
      "&&&&&&&& 16\n",
      "$$$$$ 31\n",
      "&&&&&&&& 31\n",
      "$$$$$ 60\n",
      "&&&&&&&& 60\n",
      "$$$$$ 16\n",
      "&&&&&&&& 16\n",
      "$$$$$ 40\n",
      "&&&&&&&& 40\n",
      "$$$$$ 80\n",
      "&&&&&&&& 80\n",
      "$$$$$ 31\n",
      "&&&&&&&& 31\n",
      "$$$$$ 31\n",
      "&&&&&&&& 31\n",
      "$$$$$ 96\n",
      "&&&&&&&& 96\n",
      "$$$$$ 74\n",
      "&&&&&&&& 74\n",
      "$$$$$ 16\n",
      "&&&&&&&& 16\n",
      "$$$$$ 31\n",
      "&&&&&&&& 31\n",
      "$$$$$ 16\n",
      "&&&&&&&& 16\n",
      "$$$$$ 95\n",
      "&&&&&&&& 95\n",
      "$$$$$ 95\n",
      "&&&&&&&& 95\n",
      "$$$$$ 31\n",
      "&&&&&&&& 31\n",
      "$$$$$ 37\n",
      "&&&&&&&& 37\n",
      "$$$$$ 62\n",
      "&&&&&&&& 62\n",
      "$$$$$ 31\n",
      "&&&&&&&& 31\n",
      "$$$$$ 88\n",
      "&&&&&&&& 88\n",
      "$$$$$ 31\n",
      "&&&&&&&& 31\n",
      "$$$$$ 80\n",
      "&&&&&&&& 80\n",
      "$$$$$ 31\n",
      "&&&&&&&& 31\n",
      "$$$$$ 40\n",
      "&&&&&&&& 40\n",
      "$$$$$ 25\n",
      "&&&&&&&& 25\n",
      "$$$$$ 40\n",
      "&&&&&&&& 40\n",
      "-------------------------------------------\n",
      "entrepreneur number 19\n",
      "-------------------------------------------\n",
      "\n"
     ]
    },
    {
     "name": "stderr",
     "output_type": "stream",
     "text": [
      "/Users/pt/GitHub/ejmmp/model1/tools.py:59: UserWarning: Attempting to set identical bottom == top == 0 results in singular transformations; automatically expanding.\n",
      "  ax1c.set_ylim([min(cmv.totalInitialInventoriesSeries), \\\n",
      "/Users/pt/GitHub/ejmmp/model1/tools.py:68: UserWarning: Attempting to set identical bottom == top == 0 results in singular transformations; automatically expanding.\n",
      "  ax2c.set_ylim([0, max(cmv.totalInitialInventoriesInfraVarSeries)])\n",
      "/Users/pt/GitHub/ejmmp/model1/tools.py:80: UserWarning: Attempting to set identical bottom == top == 0.0 results in singular transformations; automatically expanding.\n",
      "  ax1d.set_ylim([min(cmv.totalFinalInventoriesSeries), \\\n",
      "/Users/pt/GitHub/ejmmp/model1/tools.py:89: UserWarning: Attempting to set identical bottom == top == 0 results in singular transformations; automatically expanding.\n",
      "  ax2d.set_ylim([0, max(cmv.totalFinalInventoriesInfraVarSeries)])\n"
     ]
    },
    {
     "name": "stdout",
     "output_type": "stream",
     "text": [
      "-------------------------------------------\n",
      "\"national\" accounts\n",
      "-------------------------------------------\n",
      "\n",
      "t\ttotal\tlost\tinitial\t\tconsum.\tinvest.\tfinal\n",
      "\tproduc.\tproduc.\tinvent.\t\t\t\tinvent.\n",
      "  1\t1304.7\t0.0\t0.0\t    |\t68.7\t17.4\t0.0\n",
      "  2\t1072.7\t0.0\t0.0\t    |\t97.9\t0.0\t0.0\n",
      "\n",
      "\n",
      "\n",
      "\n"
     ]
    },
    {
     "data": {
      "image/png": "[encoded data removed]",
      "text/plain": [
       "<Figure size 432x288 with 1 Axes>"
      ]
     },
     "metadata": {
      "needs_background": "light"
     },
     "output_type": "display_data"
    },
    {
     "data": {
      "image/png": "[encoded data removed]",
      "text/plain": [
       "<Figure size 432x288 with 2 Axes>"
      ]
     },
     "metadata": {},
     "output_type": "display_data"
    },
    {
     "data": {
      "image/png": "[encoded data removed]",
      "text/plain": [
       "<Figure size 432x288 with 2 Axes>"
      ]
     },
     "metadata": {},
     "output_type": "display_data"
    },
    {
     "data": {
      "image/png": "[encoded data removed]",
      "text/plain": [
       "<Figure size 432x288 with 2 Axes>"
      ]
     },
     "metadata": {},
     "output_type": "display_data"
    },
    {
     "data": {
      "image/png": "[encoded data removed]",
      "text/plain": [
       "<Figure size 432x288 with 2 Axes>"
      ]
     },
     "metadata": {},
     "output_type": "display_data"
    },
    {
     "data": {
      "image/png": "[encoded data removed]",
      "text/plain": [
       "<Figure size 432x288 with 2 Axes>"
      ]
     },
     "metadata": {},
     "output_type": "display_data"
    },
    {
     "data": {
      "image/png": "[encoded data removed]",
      "text/plain": [
       "<Figure size 432x288 with 2 Axes>"
      ]
     },
     "metadata": {},
     "output_type": "display_data"
    },
    {
     "data": {
      "image/png": "[encoded data removed]",
      "text/plain": [
       "<Figure size 432x288 with 2 Axes>"
      ]
     },
     "metadata": {},
     "output_type": "display_data"
    },
    {
     "data": {
      "image/png": "[encoded data removed]",
      "text/plain": [
       "<Figure size 432x288 with 2 Axes>"
      ]
     },
     "metadata": {},
     "output_type": "display_data"
    },
    {
     "data": {
      "image/png": "[encoded data removed]",
      "text/plain": [
       "<Figure size 432x288 with 2 Axes>"
      ]
     },
     "metadata": {},
     "output_type": "display_data"
    }
   ],
   "source": [
    "r.seed(121314)\n",
    "\n",
    "setup()\n",
    "\n",
    "cmv.actionList=[\"produceAll()\",\"payWagesAll()\",\"buyConsumptionGoodsAll()\",\\\n",
    "                \"buyInvestmentGoodsAll()\",\"makeBalanceSheetAll()\",\\\n",
    "                \"distributeDividendAll()\",\"accountCashMoneyAll()\",\\\n",
    "                \"accountCheckingAccountAll()\",\"accountBankAccountAll()\",\\\n",
    "                ]\n",
    "\n",
    "for cmv.cycle in range(cmv.ncycles):\n",
    "    for anAction in cmv.actionList:\n",
    "            exec(anAction)\n",
    "\n",
    "makeHist()   \n",
    "plot1()\n",
    "plot2()\n",
    "plot3()\n",
    "plot4()\n",
    "plot5()\n",
    "plot6()\n",
    "plot7()\n",
    "plot8()\n",
    "plot9()\n",
    "\n",
    "nationalAccounts()"
   ]
  },
  {
   "cell_type": "code",
   "execution_count": 17,
   "id": "honest-photograph",
   "metadata": {},
   "outputs": [
    {
     "data": {
      "text/plain": [
       "[<__main__.Agent at 0x7fc3b2119c10>,\n",
       " <__main__.Agent at 0x7fc3b21193a0>,\n",
       " <__main__.Agent at 0x7fc3b21541f0>]"
      ]
     },
     "execution_count": 17,
     "metadata": {},
     "output_type": "execute_result"
    }
   ],
   "source": [
    "list(cmv.entrepreneurList[1].myFirm.myWorkers)"
   ]
  },
  {
   "cell_type": "code",
   "execution_count": 18,
   "id": "qualified-estate",
   "metadata": {},
   "outputs": [
    {
     "data": {
      "text/plain": [
       "62"
      ]
     },
     "execution_count": 18,
     "metadata": {},
     "output_type": "execute_result"
    }
   ],
   "source": [
    "cmv.entrepreneurList[1].myFirm.num"
   ]
  },
  {
   "cell_type": "code",
   "execution_count": 19,
   "id": "ignored-spell",
   "metadata": {},
   "outputs": [
    {
     "data": {
      "text/plain": [
       "62"
      ]
     },
     "execution_count": 19,
     "metadata": {},
     "output_type": "execute_result"
    }
   ],
   "source": [
    "cmv.entrepreneurList[1].myFirm.num"
   ]
  },
  {
   "cell_type": "code",
   "execution_count": 20,
   "id": "typical-washer",
   "metadata": {},
   "outputs": [
    {
     "data": {
      "text/plain": [
       "[96, 16, 62, 61, 16, 31, 95, 37, 95, 31, 31, 16, 12, 33, 95, 12, 74, 31, 34]"
      ]
     },
     "execution_count": 20,
     "metadata": {},
     "output_type": "execute_result"
    }
   ],
   "source": [
    "list(cmv.firmList[i].num for i in range(cmv.firmNum))"
   ]
  },
  {
   "cell_type": "code",
   "execution_count": 21,
   "id": "sized-charge",
   "metadata": {},
   "outputs": [
    {
     "data": {
      "text/plain": [
       "[25, 62, 61, 12, 74, 80, 60, 33, 24, 16, 88, 84, 37, 31, 34, 95, 15, 96, 40]"
      ]
     },
     "execution_count": 21,
     "metadata": {},
     "output_type": "execute_result"
    }
   ],
   "source": [
    "list(cmv.entrepreneurList[i].num for i in range(cmv.firmNum))"
   ]
  },
  {
   "cell_type": "code",
   "execution_count": 22,
   "id": "sufficient-darkness",
   "metadata": {
    "scrolled": true
   },
   "outputs": [],
   "source": [
    "# last cycle\n",
    "tCashNe=0\n",
    "for anA in cmv.agentList:\n",
    "    if not anA.entrepreneur: tCashNe+=anA.cashMoney\n",
    "\n",
    "tCashE=0\n",
    "for anA in cmv.agentList:\n",
    "    if anA.entrepreneur: tCashE+=anA.cashMoney"
   ]
  },
  {
   "cell_type": "code",
   "execution_count": 23,
   "id": "vocal-transparency",
   "metadata": {
    "scrolled": true
   },
   "outputs": [
    {
     "data": {
      "text/plain": [
       "0"
      ]
     },
     "execution_count": 23,
     "metadata": {},
     "output_type": "execute_result"
    }
   ],
   "source": [
    "tCashNe"
   ]
  },
  {
   "cell_type": "code",
   "execution_count": 24,
   "id": "intelligent-powell",
   "metadata": {
    "scrolled": true
   },
   "outputs": [
    {
     "data": {
      "text/plain": [
       "0"
      ]
     },
     "execution_count": 24,
     "metadata": {},
     "output_type": "execute_result"
    }
   ],
   "source": [
    "tCashE"
   ]
  },
  {
   "cell_type": "code",
   "execution_count": 25,
   "id": "native-textbook",
   "metadata": {
    "scrolled": true
   },
   "outputs": [],
   "source": [
    "tC=0\n",
    "for i in range(cmv.ncycles):\n",
    "    tC+=cmv.totalConsumptionSeries[i]"
   ]
  },
  {
   "cell_type": "code",
   "execution_count": 26,
   "id": "smart-employment",
   "metadata": {
    "scrolled": true
   },
   "outputs": [
    {
     "data": {
      "text/plain": [
       "166.6269419115005"
      ]
     },
     "execution_count": 26,
     "metadata": {},
     "output_type": "execute_result"
    }
   ],
   "source": [
    "tC"
   ]
  },
  {
   "cell_type": "code",
   "execution_count": 27,
   "id": "distinguished-bacon",
   "metadata": {
    "scrolled": true
   },
   "outputs": [],
   "source": [
    "tCE=0\n",
    "for i in range(cmv.ncycles):\n",
    "    tCE+=cmv.totalEntrepreneurConsumptionSeries[i]"
   ]
  },
  {
   "cell_type": "code",
   "execution_count": 28,
   "id": "alive-electricity",
   "metadata": {
    "scrolled": true
   },
   "outputs": [
    {
     "data": {
      "text/plain": [
       "78.62484155017918"
      ]
     },
     "execution_count": 28,
     "metadata": {},
     "output_type": "execute_result"
    }
   ],
   "source": [
    "tCE"
   ]
  },
  {
   "cell_type": "code",
   "execution_count": 29,
   "id": "sufficient-placement",
   "metadata": {
    "scrolled": true
   },
   "outputs": [],
   "source": [
    "tCNe=0\n",
    "for i in range(cmv.ncycles):\n",
    "    tCNe+=cmv.totalNonEntrepreneurConsumptionSeries[i]"
   ]
  },
  {
   "cell_type": "code",
   "execution_count": 30,
   "id": "regional-somerset",
   "metadata": {
    "scrolled": true
   },
   "outputs": [
    {
     "data": {
      "text/plain": [
       "88.00210036132127"
      ]
     },
     "execution_count": 30,
     "metadata": {},
     "output_type": "execute_result"
    }
   ],
   "source": [
    "tCNe"
   ]
  },
  {
   "cell_type": "code",
   "execution_count": 31,
   "id": "great-dublin",
   "metadata": {
    "scrolled": true
   },
   "outputs": [],
   "source": [
    "tI=0\n",
    "for i in range(cmv.ncycles):\n",
    "    tI+=cmv.totalInvestmentSeries[i]"
   ]
  },
  {
   "cell_type": "code",
   "execution_count": 32,
   "id": "responsible-appendix",
   "metadata": {
    "scrolled": true
   },
   "outputs": [
    {
     "data": {
      "text/plain": [
       "17.410886373205052"
      ]
     },
     "execution_count": 32,
     "metadata": {},
     "output_type": "execute_result"
    }
   ],
   "source": [
    "tI"
   ]
  },
  {
   "cell_type": "code",
   "execution_count": 33,
   "id": "fancy-geography",
   "metadata": {},
   "outputs": [
    {
     "data": {
      "text/plain": [
       "[1172.2961365623817, 2187.425875641192]"
      ]
     },
     "execution_count": 33,
     "metadata": {},
     "output_type": "execute_result"
    }
   ],
   "source": [
    "cmv.totalCheckingAccountSeries"
   ]
  },
  {
   "cell_type": "code",
   "execution_count": 34,
   "id": "thorough-thesaurus",
   "metadata": {},
   "outputs": [
    {
     "data": {
      "text/plain": [
       "[-20400.33647285616, -38076.94777588584]"
      ]
     },
     "execution_count": 34,
     "metadata": {},
     "output_type": "execute_result"
    }
   ],
   "source": [
    "cmv.totalBankAccountSeries"
   ]
  },
  {
   "cell_type": "code",
   "execution_count": 35,
   "id": "graphic-brisbane",
   "metadata": {},
   "outputs": [
    {
     "data": {
      "text/plain": [
       "[<__main__.Agent at 0x7fc3b2154250>]"
      ]
     },
     "execution_count": 35,
     "metadata": {},
     "output_type": "execute_result"
    }
   ],
   "source": [
    "cmv.firmList[0].myWorkers"
   ]
  },
  {
   "cell_type": "code",
   "execution_count": 36,
   "id": "endless-fault",
   "metadata": {},
   "outputs": [
    {
     "data": {
      "text/plain": [
       "1.0376977834903305"
      ]
     },
     "execution_count": 36,
     "metadata": {},
     "output_type": "execute_result"
    }
   ],
   "source": [
    "cmv.firmList[0].production"
   ]
  },
  {
   "cell_type": "code",
   "execution_count": 37,
   "id": "extreme-tooth",
   "metadata": {},
   "outputs": [
    {
     "data": {
      "text/plain": [
       "1.0376977834903305"
      ]
     },
     "execution_count": 37,
     "metadata": {},
     "output_type": "execute_result"
    }
   ],
   "source": [
    "cmv.firmList[0].productivity"
   ]
  },
  {
   "cell_type": "code",
   "execution_count": 38,
   "id": "particular-climate",
   "metadata": {},
   "outputs": [
    {
     "data": {
      "text/plain": [
       "[1.0376977834903305,\n",
       " 1.3585955851351132,\n",
       " 1.2588477158695182,\n",
       " 1.0743340530681746,\n",
       " 1.3585955851351132,\n",
       " 0.008357208569731517,\n",
       " 1.232493487961888,\n",
       " 1.1494427324696137,\n",
       " 1.232493487961888,\n",
       " 0.008357208569731517,\n",
       " 0.008357208569731517,\n",
       " 1.3585955851351132,\n",
       " 1.2666862434936383,\n",
       " 0.9472205002658755,\n",
       " 1.232493487961888,\n",
       " 1.2666862434936383,\n",
       " 0.7676396190650263,\n",
       " 0.008357208569731517,\n",
       " 0.9450537945952413]"
      ]
     },
     "execution_count": 38,
     "metadata": {},
     "output_type": "execute_result"
    }
   ],
   "source": [
    "list(cmv.firmList[i].productivity for i in range(cmv.firmNum))"
   ]
  },
  {
   "cell_type": "code",
   "execution_count": 39,
   "id": "compatible-craft",
   "metadata": {},
   "outputs": [
    {
     "data": {
      "text/plain": [
       "[1.0376977834903305,\n",
       " 29.88910287297249,\n",
       " 3.7765431476085545,\n",
       " 3.223002159204524,\n",
       " 29.88910287297249,\n",
       " 0.15878696282489882,\n",
       " 16.022415343504544,\n",
       " 10.344984592226524,\n",
       " 16.022415343504544,\n",
       " 0.15878696282489882,\n",
       " 0.15878696282489882,\n",
       " 29.88910287297249,\n",
       " 2.5333724869872767,\n",
       " 0.9472205002658755,\n",
       " 16.022415343504544,\n",
       " 2.5333724869872767,\n",
       " 1.5352792381300526,\n",
       " 0.15878696282489882,\n",
       " 3.780215178380965]"
      ]
     },
     "execution_count": 39,
     "metadata": {},
     "output_type": "execute_result"
    }
   ],
   "source": [
    "list(cmv.firmList[i].production for i in range(cmv.firmNum))"
   ]
  },
  {
   "cell_type": "code",
   "execution_count": 40,
   "id": "authorized-lover",
   "metadata": {},
   "outputs": [
    {
     "data": {
      "text/plain": [
       "[2.7755575615628914e-17,\n",
       " -1330.0168094902983,\n",
       " -16.52882060207539,\n",
       " -12.275019274863757,\n",
       " -1330.0168094902983,\n",
       " -29.644640482834816,\n",
       " -420.1484045170299,\n",
       " -172.22889456590198,\n",
       " -420.1484045170299,\n",
       " -29.644640482834816,\n",
       " -29.644640482834816,\n",
       " -1330.0168094902983,\n",
       " -5.087829339145339,\n",
       " -5.551115123125783e-17,\n",
       " -420.1484045170299,\n",
       " -5.087829339145339,\n",
       " -3.4433264765674796,\n",
       " -29.644640482834816,\n",
       " -23.80038346636384]"
      ]
     },
     "execution_count": 40,
     "metadata": {},
     "output_type": "execute_result"
    }
   ],
   "source": [
    "list(cmv.firmList[i].bankAccount for i in range(cmv.firmNum))"
   ]
  },
  {
   "cell_type": "code",
   "execution_count": 41,
   "id": "outstanding-tissue",
   "metadata": {},
   "outputs": [
    {
     "data": {
      "text/plain": [
       "19"
      ]
     },
     "execution_count": 41,
     "metadata": {},
     "output_type": "execute_result"
    }
   ],
   "source": [
    "cmv.firmNum"
   ]
  },
  {
   "cell_type": "code",
   "execution_count": null,
   "id": "attached-wrong",
   "metadata": {},
   "outputs": [],
   "source": []
  }
 ],
 "metadata": {
  "kernelspec": {
   "display_name": "Python 3",
   "language": "python",
   "name": "python3"
  },
  "language_info": {
   "codemirror_mode": {
    "name": "ipython",
    "version": 3
   },
   "file_extension": ".py",
   "mimetype": "text/x-python",
   "name": "python",
   "nbconvert_exporter": "python",
   "pygments_lexer": "ipython3",
   "version": "3.9.7"
  }
 },
 "nbformat": 4,
 "nbformat_minor": 5
}
