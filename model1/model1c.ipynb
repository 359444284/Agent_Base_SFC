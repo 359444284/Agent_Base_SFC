{
 "cells": [
  {
   "cell_type": "markdown",
   "id": "naval-nomination",
   "metadata": {},
   "source": [
    "#### Un altro passettino: ecco in azione l'*Istituto Centrale di Statistica* con a fianco la *Banca d'Italia*\n",
    "\n",
    "use it also in [Notebook viewer](https://nbviewer.org/github/terna/ejmmp/blob/main/model0/model0.ipynb)\n",
    "\n",
    "if the content is missing to update, follow once [Notebook viewer and flush cache](https://nbviewer.org/github/terna/ejmmp/blob/main/model0/model0.ipynb?flush_cache=true)\n",
    "\n",
    "[Wikipedia as a memo](https://en.wikipedia.org/wiki/Stock-flow_consistent_model#cite_note-42)"
   ]
  },
  {
   "cell_type": "code",
   "execution_count": 1,
   "id": "latter-survey",
   "metadata": {
    "scrolled": true
   },
   "outputs": [
    {
     "data": {
      "application/javascript": [
       "// to avoid scroll in windows\n",
       "IPython.OutputArea.prototype._should_scroll = function(lines) {\n",
       "    return false;\n",
       "}\n"
      ],
      "text/plain": [
       "<IPython.core.display.Javascript object>"
      ]
     },
     "metadata": {},
     "output_type": "display_data"
    }
   ],
   "source": [
    "%%javascript\n",
    "// to avoid scroll in windows\n",
    "IPython.OutputArea.prototype._should_scroll = function(lines) {\n",
    "    return false;\n",
    "}"
   ]
  },
  {
   "cell_type": "code",
   "execution_count": 2,
   "id": "great-earthquake",
   "metadata": {
    "scrolled": false
   },
   "outputs": [],
   "source": [
    "%matplotlib inline\n",
    "import random as r\n",
    "import matplotlib.pyplot as plt\n",
    "import commonVar as cmv\n",
    "import numpy as np\n",
    "from tools import *"
   ]
  },
  {
   "cell_type": "markdown",
   "id": "prostate-shadow",
   "metadata": {},
   "source": [
    "### Stock-flow *model1c*, with real and financial elements\n",
    "\n",
    "- Besides the real part of the economy, we introduce the initial element of the monetary side of the economy.\n",
    "\n",
    "  \n",
    "\n",
    "- We are introducing gradually loans, credits, debts, capital stock, interest rate.\n",
    "\n",
    "\n",
    "\n",
    "- Firms have unlimited funds that they put freely in their activities, balancing other agent negative cash, if any.\n",
    "\n",
    "  \n",
    "\n",
    "- Saving is abstension from consuming, increasing agent liquidity.\n",
    "\n",
    "\n",
    "\n",
    "- Investments are uniquely for replacement, without technical progress.\n",
    "\n",
    "  "
   ]
  },
  {
   "cell_type": "markdown",
   "id": "comparable-matthew",
   "metadata": {},
   "source": [
    "### symbol table\n",
    "\n",
    "[symbol table](https://oeis.org/wiki/List_of_LaTeX_mathematical_symbols) in $\\LaTeX$ \n",
    "\n",
    "$a_i$ -  with $a_i \\in \\mathbf{A}$; agent number $N=|\\mathbf{A}|$, `agentList` and`agentNum`\n",
    "\n",
    "$a^e_i$ -  with $a^e_i \\in \\mathbf{A^e}$ and $\\mathbf{A^e} \\subset \\mathbf{A}$; employer number $N^e=|\\mathbf{A^e}|$ in range $[N^e_{min},N^e_{max}]$, `employerList`\n",
    "\n",
    "$\\mathbf{F}$ - firms' set, with $f_j \\in \\mathbf{F}$ being $N^f = |\\mathbf{F}|$,  with $N^f = |\\mathbf{F}| = |\\mathbf{A^e}|$ , `firmList`\n",
    "\n",
    "$\\mathbf{A}^w$ - working agents' set, being $\\mathbf{A}^w \\subseteq \\mathbf{A}$, with $N^w_i=|\\mathbf{A}^w_i|$ number of working agents employed by employer $i$, also including self-employed employers, with $a_i \\in \\mathbf{A}^e$\n",
    "\n",
    "$\\mathbf{B}$ - banks' set, with $b_j \\in \\mathbf{B}$ being $N^b = |\\mathbf{B}|$, `bankList`\n",
    "\n",
    "$p$ - price `price`\n",
    "\n",
    "$u$ - unemployment rate `unemploymentRate`\n",
    "\n",
    "$dimensional~heterogeneity$ is a $true/false$ chooser, forcing increasing firms to attract more workers. `dimensionalHeterogeneity`\n",
    "\n",
    "$\\pi_{i,t}$ - labor productivity, a uniformly distributed decimal number in range $[\\pi_{min},\\pi_{max}]$,`productivity`\n",
    "\n",
    "&Delta;$\\pi_{i,t}$ - uniperiodal additive productivity correction in range $[$&Delta;$\\pi_{min},$ &Delta;$\\pi_{max}]$, `productivityDelta`\n",
    "\n",
    "$n_{i,t}$ - number of workers in a firm\n",
    "\n",
    "$q_{i,t}$ - production in quantity, `production`\n",
    "\n",
    "$\\Pi_{i,t}$ - profit, `profit`\n",
    "\n",
    "$\\rho$ - dividend distribution share, `rho`\n",
    "\n",
    "$W$ - wage `wage`\n",
    "\n",
    "$R_{i,t}$ - revenues, `revenues`\n",
    "\n",
    "$s_{i,t}$ - sales in quantity, `sales`\n",
    "\n",
    "$v_{i,t}$ - in**v**entories (final, initial), `initialInventories`, `finalInventories`\n",
    "\n",
    "$d_{i}$ - deperibility share of the production, `deperibilityShare`, setting $d_{max}$\n",
    "\n",
    "$c_{i,t}$ - consumption rate, a uniformly distributed decimal number in range $[c_{min},c_{max}]$,`consumptionRate`\n",
    "\n",
    "$C_{i,t}$ - consumption of $i$ in $t$\n",
    "\n",
    "$I_{i,t}$  - investment plan  of $i$ in $t$, a uniformly distributed realization in range $[I_{min},I_{max}]$,`investmentProgram`\n",
    "\n",
    "$H_{i,t}$  - high powered money (cash) held by individuals (also acting as employers), `cashMoney`\n",
    "\n",
    "$M1_{i,t}$ - checking account money deposits held by  $a_i$ at time $t$, `checkingAccount`\n",
    "\n",
    "$M1^f_{i,t}$ - firm's bank account (with positive or negative balance), `bankAccount`\n",
    "\n",
    "the investment and consumption actions are repeated in each cycle, looking around randomly for the sellers; currently `nOfConsumptionActions` $=30$ and `nOfInvestmentActions`$=10$; each consumption buy action is at maximum the 20% of the planned consumptions in that cycle; instead, each investment buy action can reach the whole amount of the investment program of the cycle; each buy action is limited by the residual capabilty of the seller\n",
    "\n",
    "**magically**, the same good can be a consumption item or an investment one\n",
    "\n",
    "$T$ - number of cycles `ncycles`\n",
    "\n",
    "$t$ - current cycle `cycle`\n"
   ]
  },
  {
   "cell_type": "markdown",
   "id": "broke-marathon",
   "metadata": {},
   "source": [
    "### agent structure\n",
    "\n",
    "The structure of a **generic agent**: it can represent an employer, a worker, an unemployed person.\n",
    "\n",
    "When an agent is created, the **initialization process** defines:\n",
    "\n",
    "- its numerical id, `num`\n",
    "- its entrepreneur status, `entrepreneur`, set to $false$\n",
    "- the id of its employer, `myEmployer`, set to $0$\n",
    "- if entrepreneur, the id of its firm, `myFirm`, set to $0$\n",
    "- $c_{i,0}$ - consumption rate, set to $0$\n",
    "- $H_{i,0}$ - cash money, set to $0$ \n",
    "- $M1_{i,0}$ - checking account money deposits, set to $0$\n",
    "\n",
    "\n",
    "\n",
    "## firm structure\n",
    "\n",
    "- $R_{i,0}$ - `revenues`, initial value  $0$\n",
    "- $s_{i,0}$ - `sales`, initial value  $0$\n",
    "- $v^i_{i,0}$ - in**v**entories, `initialInventories`, set to $0$ \n",
    "- $v^f_{i,0}$ - in**v**entories, `finalInventories`, set to $0$ \n",
    "- $d_{i}$ - deperibility share, a uniformly distributed decimal number in range $[0,d_{max}]$,`deperibilityShare`\n",
    "- $I_{i,0}$  - investment plan, set to $0$\n",
    "- $\\Pi_{i,0}$ - profit, set to $0$, being the related dividend $D_{i,0}$, set to $0$\n",
    "- $M1^f_{i,0}$ - firm's bank account, set to $0$\n",
    "- $\\pi_{i,t-1}$ is set after the initialization step, if an agent becomes an employer\n",
    "\n",
    "\n",
    "\n",
    "each **generic agent** has the **functions**:\n",
    "\n",
    "- **buyConsumptionGoods** \n",
    "\n",
    "  $C_{i,t}=c_{i,t} (W+D_{i,t-1})$; using $D_{i,t-1}$ we introduce a lag with a (possible) cyclical effect\n",
    "\n",
    "  being $bu$ the buyer and $se$ the seller (firm), for each fraction $C_{i,t}/k$ \n",
    "\n",
    "  ($k$ is the number of buying actions in each cycle)\n",
    "\n",
    "  &Delta;$M1^f_{se,t}=C_{bu,t}/k$\n",
    "\n",
    "  &Delta;$M1_{bu,t}=-C_{bu,t}/k$\n",
    "\n",
    "\n",
    "\n",
    "each **firm** has the **functions**:\n",
    "\n",
    "- **produce** function, with:\n",
    "\n",
    "  $\\pi_{i,t}=\\pi_{i,t-1}+$&Delta;$\\pi_{i,t}$\n",
    "\n",
    "  $q_{i,t}=n_{i,t} \\pi_{i,t}$\n",
    "\n",
    "  \n",
    "\n",
    "- **payWages**\n",
    "\n",
    "  paying $W$ to each worker in each time $t$\n",
    "\n",
    "  &Delta;$M1_{i,t}=W$ for  $a_i \\in \\mathbf{A}^w$ \n",
    "\n",
    "  &Delta;$M1^f_{i,t}=-W \\mathbf{N}^w_i$ for $a_i \\in \\mathbf{A}^e$ \n",
    "\n",
    "  \n",
    "\n",
    "- **buyInvestmentGoods**\n",
    "\n",
    "  $I_{j,t}$ for $f_j \\in \\mathbf{F}$  ($I_{j,t}$ is exogenously set)\n",
    "\n",
    "  being $bu$ the buyer (firm) and $se$ the seller (firm), for each fraction $I_{j,t}/k$\n",
    "\n",
    "  ($k$ is the number of investment actions in each cycle)\n",
    "\n",
    "  &Delta;$M1^f_{se,t}=I_{bu,t}/k$\n",
    "\n",
    "  &Delta;$M1^f_{bu,t}=-I_{bu,t}/k$\n",
    "\n",
    "  \n",
    "\n",
    "- **makeBalanceSheet**\n",
    "\n",
    "  $v^f_{i,t}=v^i_{i,t}+(q_{i,t}-s_{i,t}) (1 - d_{i})$\n",
    "\n",
    "  $R_{i,t}=p s_{i,t}$\n",
    "\n",
    "  $\\Pi_{i,t}=R_{i,t}-W n_{i,t}-p(v^f_{i,t}-v^i_{i,t})$\n",
    "\n",
    "\n",
    "\n",
    "Agent **bank** is a special subject operating on the financial side of the model  (to be continued)\n",
    "\n"
   ]
  },
  {
   "cell_type": "code",
   "execution_count": 3,
   "id": "found-bibliography",
   "metadata": {
    "scrolled": false
   },
   "outputs": [],
   "source": [
    "class Agent():\n",
    "    def __init__(self, num):\n",
    "        self.num=num\n",
    "        self.entrepreneur=False\n",
    "        self.myFirm=0\n",
    "        self.myEmployer=0\n",
    "        self.consumptionRate=0\n",
    "        self.cashMoney=0\n",
    "        self.checkingAccount=0\n",
    "        self.perceivedDividend=0\n",
    "\n",
    "    def buyConsumptionGoods(self,k):\n",
    "        if k==0: \n",
    "            self.consumptionRate=r.uniform(cmv.consumptionRateMin,cmv.consumptionRateMax)\n",
    "            self.consumption=(cmv.wage+self.perceivedDividend)*self.consumptionRate\n",
    "            if self.consumption < 0: self.consumption=0 # impossible, being wage and\n",
    "                                                        # perceivedDividend >=0 btu in case of\n",
    "                                                        # future modifications ...\n",
    "            self.madeConsumption=0\n",
    "                \n",
    "        r.shuffle(cmv.firmList)\n",
    "        mySeller=cmv.firmList[0]\n",
    "        self.purchase=r.uniform(0,1/5)*self.consumption \n",
    "                            # mean value 0.10 (10 buy action could be sufficient)\n",
    "        self.purchase=min(self.purchase,cmv.price*(mySeller.production+\\\n",
    "                                        mySeller.initialInventories-mySeller.sales))\n",
    "        mySeller.sales+=self.purchase/cmv.price\n",
    "        mySeller.bankAccount+=self.purchase\n",
    "        self.consumption-=self.purchase\n",
    "        self.checkingAccount-=self.purchase\n",
    "        self.madeConsumption+=self.purchase\n",
    "    \n"
   ]
  },
  {
   "cell_type": "code",
   "execution_count": 4,
   "id": "dirty-nevada",
   "metadata": {},
   "outputs": [],
   "source": [
    "class Firm():\n",
    "    def __init__(self, num):\n",
    "        self.num=num\n",
    "        self.myWorkers=[]\n",
    "        self.myEntrepreneur=0\n",
    "        self.productivity=0\n",
    "        self.initialInventories=0\n",
    "        self.finalInventories=0\n",
    "        self.bankAccount=0\n",
    "        self.revenues=0 #sales*price\n",
    "        self.sales=0\n",
    "        self.deperibilityShare=r.uniform(0,cmv.maxDeperibilityShare)\n",
    "        self.investmentProgram=0\n",
    "        self.profit=0\n",
    "        self.madeInvestment=0\n",
    "        \n",
    "    def produce(self):\n",
    "        self.initialInventories=self.finalInventories\n",
    "        self.productivity+=r.uniform(cmv.productivityDeltaMin,cmv.productivityDeltaMax)\n",
    "        self.productivity=max(self.productivity,0)\n",
    "        \n",
    "        self.production=len(self.myWorkers)*self.productivity\n",
    "        self.sales=0\n",
    "\n",
    "    def payWages(self):\n",
    "        for anAgent in self.myWorkers:\n",
    "            anAgent.checkingAccount+=cmv.wage\n",
    "        self.bankAccount-=cmv.wage*len(self.myWorkers)\n",
    "            \n",
    "    def buyInvestmentGoods(self,k):\n",
    "        if k==0: \n",
    "            self.investmentProgram=r.uniform(cmv.investmentMin,cmv.investmentMax)\n",
    "            self.madeInvestment=0\n",
    "                       \n",
    "        r.shuffle(cmv.firmList)\n",
    "        mySeller=cmv.firmList[0]\n",
    "        self.myInvestment=min(self.investmentProgram,cmv.price*(mySeller.production+\\\n",
    "                              mySeller.initialInventories-mySeller.sales))\n",
    "        mySeller.sales+=self.myInvestment/cmv.price\n",
    "        mySeller.bankAccount+=self.myInvestment\n",
    "        \n",
    "        self.bankAccount-=self.myInvestment\n",
    "        self.investmentProgram-=self.myInvestment\n",
    "        self.madeInvestment+=self.myInvestment\n",
    "        \n",
    "    def makeBalanceSheet(self):\n",
    "        self.lostProduction=0\n",
    "        if self.production - self.sales > 0: \n",
    "            self.lostProduction=(self.production - self.sales)*self.deperibilityShare\n",
    "        #print(self.num, lostProduction,self.productivity)\n",
    "        self.finalInventories=self.initialInventories+self.production-\\\n",
    "                              self.sales-self.lostProduction\n",
    "        self.revenues=self.sales*cmv.price\n",
    "        self.profit=self.revenues - len(self.myWorkers)*cmv.wage + \\\n",
    "          (self.finalInventories-self.initialInventories)*cmv.price\n",
    "        #print(self.num,self.profit,self.revenues,len(self.myWorkers)*cmv.wage,\\\n",
    "        #      self.finalInventories, self.initialInventories)\n",
    "        \n",
    "    def distributeDividend(self):\n",
    "        if self.profit > 0:\n",
    "            dividend=cmv.rho*self.profit\n",
    "            self.bankAccount-=dividend\n",
    "            self.myEntrepreneur.checkingAccount+=dividend\n",
    "            self.myEntrepreneur.perceivedDividend=dividend\n",
    "        else:\n",
    "            self.myEntrepreneur.perceivedDividend=0\n",
    "        \n"
   ]
  },
  {
   "cell_type": "markdown",
   "id": "given-bangkok",
   "metadata": {},
   "source": [
    "### agent setup\n",
    "\n",
    "- agent basic creation\n",
    "\n",
    "  \n",
    "\n",
    "- creation of entrepreneur list\n",
    "\n",
    "  \n",
    "\n",
    "- selecting entrepreneurs and creating their firms\n",
    "\n",
    "  \n",
    "\n",
    "- with a given (heterogeneous) productivity\n",
    "\n",
    "  \n",
    "\n",
    "- linking the firm to its entrepreneur, considering the entrepreneur itself as a worker in its firm\n",
    "\n",
    "  \n",
    "\n",
    "- creation of a temporary workforce list of to-be-employed agent, escluding entrepreneurs (already self employed)\n",
    "\n",
    "  \n",
    "\n",
    "- applying the unmployement rate to exclude agents\n",
    "\n",
    "  \n",
    "\n",
    "- assigning workforce (to-be-employed agents) to firms, with a reinforcement mechanism, gradually giving more attraction/hiring capability to firms growing the most\n",
    "\n"
   ]
  },
  {
   "cell_type": "code",
   "execution_count": 5,
   "id": "weekly-jordan",
   "metadata": {},
   "outputs": [],
   "source": [
    "def setup():\n",
    "    cmv.agentList=[]\n",
    "    for n in range(cmv.agentNum):\n",
    "        anAgent=Agent(n+1)\n",
    "        cmv.agentList.append(anAgent)\n",
    "    \n",
    "\n",
    "    # creation of entrepreneur list\n",
    "    cmv.entrepreneurNum=r.randint(entrepreneurMin, entrepreneurMax)\n",
    "\n",
    "    cmv.entrepreneurList=[]\n",
    "    cmv.firmList=[]\n",
    "    entrepreneurCandidates=cmv.agentList.copy()\n",
    "\n",
    "    for n in range(cmv.entrepreneurNum):\n",
    "        i=r.randint(0,len(entrepreneurCandidates))\n",
    "        entrepreneurCandidates[i].entrepreneur=True\n",
    "        aFirm=Firm(entrepreneurCandidates[i].num)\n",
    "        entrepreneurCandidates[i].myFirm=aFirm\n",
    "        entrepreneurCandidates[i].myEmployer=aFirm\n",
    "        aFirm.myEntrepreneur=entrepreneurCandidates[i]\n",
    "        aFirm.myWorkers.append(entrepreneurCandidates[i])\n",
    "        aFirm.productivity=\\\n",
    "                r.uniform(cmv.productivityMin,cmv.productivityMax)\n",
    "        cmv.entrepreneurList.append(entrepreneurCandidates.pop(i))\n",
    "        cmv.firmList.append(aFirm)\n",
    "        \n",
    "    cmv.firmNum=len(cmv.firmList)\n",
    "    \n",
    "    # creation of workforce list\n",
    "    toBeEmployed=[]\n",
    "\n",
    "    for anAgent in cmv.agentList:\n",
    "        if not anAgent.entrepreneur: toBeEmployed.append(anAgent)\n",
    "    for k in range(round(cmv.unemploymentRate*cmv.agentNum)):\n",
    "        toBeEmployed.pop(r.randint(0,len(toBeEmployed)))\n",
    "    #len(toBeEmployed)\n",
    "\n",
    "\n",
    "    # assigning workforce to firms\n",
    "    tmpFirmListWithDuplications=cmv.firmList.copy()\n",
    "    for anAgent in toBeEmployed:\n",
    "        choice=r.choice(tmpFirmListWithDuplications)\n",
    "        anAgent.myEmployer=choice\n",
    "        choice.myWorkers.append(anAgent)\n",
    "        if cmv.dimensionalHeterogeneity: tmpFirmListWithDuplications.append(choice)\n",
    "            \n",
    "    cmv.totalProductionSeries=[]\n",
    "    cmv.totalProductionInfraVarSeries=[]\n",
    "    cmv.totalProfitSeries=[]\n",
    "    cmv.totalProfitInfraVarSeries=[]\n",
    "    cmv.totalInitialInventoriesSeries=[]\n",
    "    cmv.totalInitialInventoriesInfraVarSeries=[]\n",
    "    cmv.totalFinalInventoriesSeries=[]\n",
    "    cmv.totalFinalInventoriesInfraVarSeries=[]\n",
    "    cmv.totalConsumptionSeries=[]\n",
    "    cmv.totalEntrepreneurConsumptionSeries=[]\n",
    "    cmv.totalNonEntrepreneurConsumptionSeries=[]\n",
    "    cmv.totalConsumptionInfraVarSeries=[]\n",
    "    cmv.totalInvestmentSeries=[]\n",
    "    cmv.totalInvestmentInfraVarSeries=[]\n",
    "    cmv.totalCashMoneySeries=[]\n",
    "    cmv.totalCashMoneyInfraVarSeries=[]\n",
    "    cmv.totalCheckingAccountSeries=[]\n",
    "    cmv.totalCheckingAccountInfraVarSeries=[]\n",
    "    cmv.totalBankAccountSeries=[]\n",
    "    cmv.totalBankAccountInfraVarSeries=[]\n",
    "\n",
    "    cmv.totalLostProductionSeries=[]"
   ]
  },
  {
   "cell_type": "markdown",
   "id": "accompanied-defeat",
   "metadata": {},
   "source": [
    "### meta actions\n",
    "\n",
    "\n",
    "\n",
    "- *produceAll* orders to the firms to produce and to collects the results\n",
    "\n",
    "  \n",
    "\n",
    "- *payWagesAll* orders to the firms to pay wages, also to the entrepreneurs\n",
    "\n",
    "  \n",
    "\n",
    "- *buyConsumptionGoodsAll* orders to the agents to buy consumption goods\n",
    "\n",
    "  \n",
    "\n",
    "- *buyInvestmentGoodsAll* orders to the firms to buy investment goods\n",
    "\n",
    "\n",
    "\n",
    "- *makeBalanceSheetAll* with firm making accounts\n",
    "\n",
    "\n",
    "\n",
    "- *accountCashMoneyAll* summarizing eveyone cash money at the end of a cycle\n",
    "\n",
    "  \n",
    "\n",
    "- *accountCheckingAccountAll* summarizing eveyone checking accounts at the end of a cycle\n",
    "\n",
    "  \n",
    "\n",
    "- *accountBankingAccountAll* summarizing firm banking accounts at the end of a cycle\n",
    "\n"
   ]
  },
  {
   "cell_type": "code",
   "execution_count": 6,
   "id": "artistic-barcelona",
   "metadata": {
    "scrolled": false
   },
   "outputs": [],
   "source": [
    "def produceAll():\n",
    "    cmv.totalProductionSeries.append(0)\n",
    "    cmv.totalProductionInfraVarSeries.append(0)\n",
    "    cmv.totalInitialInventoriesSeries.append(0)\n",
    "    cmv.totalInitialInventoriesInfraVarSeries.append(0)\n",
    "\n",
    "    for aFirm in cmv.firmList:\n",
    "        aFirm.produce()\n",
    "        cmv.totalProductionSeries[-1]+=aFirm.production\n",
    "        cmv.totalProductionInfraVarSeries[-1]+=aFirm.production**2\n",
    "        cmv.totalInitialInventoriesSeries[-1]+=aFirm.initialInventories\n",
    "        cmv.totalInitialInventoriesInfraVarSeries[-1]+=aFirm.initialInventories**2\n",
    "\n",
    "    cmv.totalProductionInfraVarSeries[-1]=\\\n",
    "                            (cmv.totalProductionInfraVarSeries[-1]/cmv.firmNum - \\\n",
    "                            (cmv.totalProductionSeries[-1]/cmv.firmNum)**2)\n",
    "    cmv.totalInitialInventoriesInfraVarSeries[-1]=\\\n",
    "                            (cmv.totalInitialInventoriesInfraVarSeries[-1]/cmv.firmNum - \\\n",
    "                            (cmv.totalInitialInventoriesSeries[-1]/cmv.firmNum)**2)\n",
    "                                          "
   ]
  },
  {
   "cell_type": "code",
   "execution_count": 7,
   "id": "married-fabric",
   "metadata": {
    "scrolled": false
   },
   "outputs": [],
   "source": [
    "def payWagesAll():\n",
    "    for aFirm in cmv.firmList:\n",
    "        aFirm.payWages()\n"
   ]
  },
  {
   "cell_type": "code",
   "execution_count": 8,
   "id": "global-mercury",
   "metadata": {
    "scrolled": true
   },
   "outputs": [],
   "source": [
    "def buyConsumptionGoodsAll():\n",
    "    cmv.totalEntrepreneurConsumptionSeries.append(0) \n",
    "    cmv.totalNonEntrepreneurConsumptionSeries.append(0)\n",
    "    cmv.totalConsumptionSeries.append(0)\n",
    "    cmv.totalConsumptionInfraVarSeries.append(0)\n",
    "    for k in range(cmv.nOfConsumptionActions):\n",
    "        r.shuffle(cmv.agentList)\n",
    "        for anAgent in cmv.agentList:\n",
    "            anAgent.buyConsumptionGoods(k)\n",
    "            if k==cmv.nOfConsumptionActions-1:\n",
    "                if anAgent.entrepreneur:\n",
    "                    cmv.totalEntrepreneurConsumptionSeries[-1]+=anAgent.madeConsumption\n",
    "                if not anAgent.entrepreneur:\n",
    "                    cmv.totalNonEntrepreneurConsumptionSeries[-1]+=anAgent.madeConsumption\n",
    "                cmv.totalConsumptionSeries[-1]+=anAgent.madeConsumption\n",
    "                cmv.totalConsumptionInfraVarSeries[-1]+=anAgent.madeConsumption**2\n",
    "    cmv.totalConsumptionInfraVarSeries[-1]=\\\n",
    "                              (cmv.totalConsumptionInfraVarSeries[-1]/cmv.agentNum - \\\n",
    "                              (cmv.totalConsumptionSeries[-1]/cmv.agentNum)**2)\n",
    "                "
   ]
  },
  {
   "cell_type": "code",
   "execution_count": 9,
   "id": "incredible-strategy",
   "metadata": {
    "scrolled": true
   },
   "outputs": [],
   "source": [
    "def buyInvestmentGoodsAll():\n",
    "    cmv.totalInvestmentSeries.append(0)\n",
    "    cmv.totalInvestmentInfraVarSeries.append(0)\n",
    "    for k in range(cmv.nOfInvestmentActions):\n",
    "        firmListSafe=cmv.firmList.copy() # safe copy without the shhuffles in \n",
    "                                         # buyInvestmentGoods\n",
    "        r.shuffle(firmListSafe)\n",
    "        for aFirm in firmListSafe:\n",
    "            aFirm.buyInvestmentGoods(k)\n",
    "            if k==cmv.nOfInvestmentActions-1:\n",
    "                cmv.totalInvestmentSeries[-1]+=aFirm.madeInvestment\n",
    "                cmv.totalInvestmentInfraVarSeries[-1]+=aFirm.madeInvestment**2\n",
    "    cmv.totalInvestmentInfraVarSeries[-1]=\\\n",
    "                              (cmv.totalInvestmentInfraVarSeries[-1]/cmv.firmNum - \\\n",
    "                              (cmv.totalInvestmentSeries[-1]/cmv.firmNum)**2)\n",
    "                "
   ]
  },
  {
   "cell_type": "code",
   "execution_count": 10,
   "id": "twelve-aerospace",
   "metadata": {
    "scrolled": true
   },
   "outputs": [],
   "source": [
    "def accountCashMoneyAll():\n",
    "    cmv.totalCashMoneySeries.append(0)\n",
    "    cmv.totalCashMoneyInfraVarSeries.append(0)\n",
    "    for anAgent in cmv.agentList:\n",
    "        cmv.totalCashMoneySeries[-1]+=anAgent.cashMoney\n",
    "        cmv.totalCashMoneyInfraVarSeries[-1]+=anAgent.cashMoney**2\n",
    "\n",
    "    cmv.totalCashMoneyInfraVarSeries[-1]=\\\n",
    "                              (cmv.totalCashMoneyInfraVarSeries[-1]/cmv.agentNum - \\\n",
    "                              (cmv.totalCashMoneySeries[-1]/cmv.agentNum)**2)\n",
    "    if abs(cmv.totalCashMoneySeries[-1])<0.00001: \\\n",
    "        cmv.totalCashMoneySeries[-1]=0\n"
   ]
  },
  {
   "cell_type": "code",
   "execution_count": 11,
   "id": "daily-hobby",
   "metadata": {},
   "outputs": [],
   "source": [
    "def accountCheckingAccountAll():\n",
    "    cmv.totalCheckingAccountSeries.append(0)\n",
    "    cmv.totalCheckingAccountInfraVarSeries.append(0)\n",
    "    for anAgent in cmv.agentList:\n",
    "        cmv.totalCheckingAccountSeries[-1]+=anAgent.checkingAccount\n",
    "        cmv.totalCheckingAccountInfraVarSeries[-1]+=anAgent.checkingAccount**2\n",
    "\n",
    "    cmv.totalCheckingAccountInfraVarSeries[-1]=\\\n",
    "                              (cmv.totalCheckingAccountInfraVarSeries[-1]/cmv.agentNum - \\\n",
    "                              (cmv.totalCheckingAccountSeries[-1]/cmv.agentNum)**2)\n",
    "    if abs(cmv.totalCheckingAccountSeries[-1])<0.00001: \\\n",
    "        cmv.totalCheckingAccountSeries[-1]=0\n"
   ]
  },
  {
   "cell_type": "code",
   "execution_count": 12,
   "id": "soviet-johnson",
   "metadata": {},
   "outputs": [],
   "source": [
    "def accountBankAccountAll(): #temporary - this is an attribute of firms\n",
    "    cmv.totalBankAccountSeries.append(0)\n",
    "    cmv.totalBankAccountInfraVarSeries.append(0)\n",
    "    for aFirm in cmv.firmList:\n",
    "        cmv.totalBankAccountSeries[-1]+=aFirm.bankAccount\n",
    "        cmv.totalBankAccountInfraVarSeries[-1]+=aFirm.bankAccount**2\n",
    "\n",
    "    cmv.totalBankAccountInfraVarSeries[-1]=\\\n",
    "                              (cmv.totalBankAccountInfraVarSeries[-1]/cmv.firmNum - \\\n",
    "                              (cmv.totalBankAccountSeries[-1]/cmv.firmNum)**2)\n",
    "    if abs(cmv.totalBankAccountSeries[-1])<0.00001: \\\n",
    "        cmv.totalBankAccountSeries[-1]=0\n"
   ]
  },
  {
   "cell_type": "code",
   "execution_count": 13,
   "id": "exceptional-management",
   "metadata": {
    "scrolled": false
   },
   "outputs": [],
   "source": [
    "def makeBalanceSheetAll():\n",
    "    cmv.totalProfitSeries.append(0)\n",
    "    cmv.totalProfitInfraVarSeries.append(0)\n",
    "    cmv.totalFinalInventoriesSeries.append(0)\n",
    "    cmv.totalFinalInventoriesInfraVarSeries.append(0)\n",
    "    cmv.totalLostProductionSeries.append(0)\n",
    "    for aFirm in cmv.firmList:\n",
    "        aFirm.makeBalanceSheet()\n",
    "        cmv.totalProfitSeries[-1]+=aFirm.profit\n",
    "        cmv.totalProfitInfraVarSeries[-1]+=aFirm.profit**2\n",
    "        cmv.totalFinalInventoriesSeries[-1]+=aFirm.finalInventories\n",
    "        cmv.totalFinalInventoriesInfraVarSeries[-1]+=aFirm.finalInventories**2\n",
    "        cmv.totalLostProductionSeries[-1]+=aFirm.lostProduction\n",
    "\n",
    "    cmv.totalProfitInfraVarSeries[-1]=(cmv.totalProfitInfraVarSeries[-1]/cmv.firmNum - \\\n",
    "                                          (cmv.totalProfitSeries[-1]/cmv.firmNum)**2)\n",
    "    cmv.totalFinalInventoriesInfraVarSeries[-1]=\\\n",
    "                            (cmv.totalFinalInventoriesInfraVarSeries[-1]/cmv.firmNum - \\\n",
    "                            (cmv.totalFinalInventoriesSeries[-1]/cmv.firmNum)**2)\n",
    "                                            "
   ]
  },
  {
   "cell_type": "code",
   "execution_count": 14,
   "id": "arctic-terminology",
   "metadata": {},
   "outputs": [],
   "source": [
    "def distributeDividendAll():\n",
    "    for aFirm in cmv.firmList:\n",
    "        aFirm.distributeDividend()"
   ]
  },
  {
   "cell_type": "markdown",
   "id": "dense-journey",
   "metadata": {},
   "source": [
    "\n",
    "### model parameters\n",
    "\n"
   ]
  },
  {
   "cell_type": "code",
   "execution_count": 15,
   "id": "designing-participant",
   "metadata": {
    "scrolled": false
   },
   "outputs": [],
   "source": [
    "cmv.agentNum=100\n",
    "entrepreneurMin=5\n",
    "entrepreneurMax=20\n",
    "\n",
    "cmv.price=1\n",
    "\n",
    "cmv.unemploymentRate=0\n",
    "cmv.dimensionalHeterogeneity=True\n",
    "\n",
    "cmv.productivityMin=0.8\n",
    "cmv.productivityMax=1.2\n",
    "cmv.productivityDeltaMin=cmv.productivityMin-1\n",
    "cmv.productivityDeltaMax=cmv.productivityMax-1\n",
    "\n",
    "cmv.maxDeperibilityShare=0.5\n",
    "\n",
    "cmv.wage=1\n",
    "cmv.rho=0.5\n",
    "cmv.consumptionRateMin=0.5\n",
    "cmv.consumptionRateMax=1\n",
    "\n",
    "cmv.investmentMin=1\n",
    "cmv.investmentMax=10\n",
    "\n",
    "cmv.nOfConsumptionActions=30\n",
    "cmv.nOfInvestmentActions=10\n",
    "cmv.ncycles=100\n",
    "cmv.cycle=0"
   ]
  },
  {
   "cell_type": "markdown",
   "id": "neutral-cylinder",
   "metadata": {},
   "source": [
    "## <p style=\"color:red\">model machine</p>\n",
    "\n",
    "- a random seed determining the random number sequences\n",
    "\n",
    "\n",
    "\n",
    "- a list of actions (meta ones)\n",
    "\n",
    "\n",
    "\n",
    "- an engine excecuting the meta actions\n",
    "\n",
    "\n",
    "\n",
    "- display tools (their code is hidden into the file `tools.py`)\n",
    "\n",
    "\n"
   ]
  },
  {
   "cell_type": "code",
   "execution_count": 16,
   "id": "sealed-valuation",
   "metadata": {
    "scrolled": false
   },
   "outputs": [
    {
     "name": "stdout",
     "output_type": "stream",
     "text": [
      "-------------------------------------------\n",
      "entrepreneur number 19\n",
      "-------------------------------------------\n",
      "\n",
      "-------------------------------------------\n",
      "\"national\" accounts\n",
      "-------------------------------------------\n",
      "\n",
      "t\ttotal\tlost\tinitial\t\tconsum.\tinvest.\tfinal\n",
      "\tproduc.\tproduc.\tinvent.\t\t\t\tinvent.\n",
      "  1\t100.8\t0.0\t0.0\t    |\t57.7\t43.1\t0.0\n",
      "  2\t101.1\t0.0\t0.0\t    |\t57.4\t43.7\t0.0\n",
      "  3\t99.6\t0.0\t0.0\t    |\t57.0\t42.7\t0.0\n",
      "  4\t102.8\t0.0\t0.0\t    |\t59.3\t43.5\t0.0\n",
      "  5\t100.5\t-0.1\t0.0\t    |\t57.2\t43.1\t0.2\n",
      "  6\t98.3\t0.0\t0.2\t    |\t61.1\t37.4\t0.0\n",
      "  7\t100.3\t0.0\t0.0\t    |\t57.1\t43.3\t0.0\n",
      "  8\t100.9\t-0.6\t0.0\t    |\t59.4\t36.5\t4.3\n",
      "  9\t96.3\t0.0\t4.3\t    |\t59.9\t40.7\t0.0\n",
      " 10\t91.2\t0.0\t0.0\t    |\t60.3\t31.0\t0.0\n",
      " 11\t96.2\t0.0\t0.0\t    |\t60.7\t35.5\t0.0\n",
      " 12\t105.5\t0.0\t0.0\t    |\t62.5\t43.0\t0.0\n",
      " 13\t108.4\t0.0\t0.0\t    |\t62.9\t45.5\t0.0\n",
      " 14\t110.5\t-0.7\t0.0\t    |\t58.8\t46.3\t4.7\n",
      " 15\t110.7\t0.0\t4.7\t    |\t63.0\t52.4\t0.0\n",
      " 16\t109.6\t-0.2\t0.0\t    |\t61.9\t45.8\t1.6\n",
      " 17\t104.3\t0.0\t1.6\t    |\t57.9\t48.0\t0.0\n",
      " 18\t99.2\t-0.6\t0.0\t    |\t57.6\t36.4\t4.6\n",
      " 19\t103.1\t-1.1\t4.6\t    |\t59.5\t45.9\t1.2\n",
      " 20\t98.6\t0.0\t1.2\t    |\t57.5\t42.2\t0.0\n",
      " 21\t91.7\t0.0\t0.0\t    |\t59.8\t31.9\t0.0\n",
      " 22\t93.5\t0.0\t0.0\t    |\t57.5\t36.0\t0.0\n",
      " 23\t87.0\t0.0\t0.0\t    |\t56.6\t30.4\t0.0\n",
      " 24\t92.3\t0.0\t0.0\t    |\t59.2\t33.1\t0.0\n",
      " 25\t97.7\t0.0\t0.0\t    |\t56.7\t41.0\t0.0\n",
      " 26\t91.5\t0.0\t0.0\t    |\t58.1\t33.4\t0.0\n",
      " 27\t85.2\t0.0\t0.0\t    |\t56.0\t29.2\t0.0\n",
      " 28\t78.8\t0.0\t0.0\t    |\t57.1\t21.7\t0.0\n",
      " 29\t78.0\t0.0\t0.0\t    |\t58.1\t19.9\t0.0\n",
      " 30\t85.4\t0.0\t0.0\t    |\t59.5\t25.9\t0.0\n",
      " 31\t86.5\t0.0\t0.0\t    |\t62.2\t24.3\t0.0\n",
      " 32\t82.8\t0.0\t0.0\t    |\t60.5\t22.3\t0.0\n",
      " 33\t83.3\t0.0\t0.0\t    |\t61.6\t21.8\t0.0\n",
      " 34\t86.3\t0.0\t0.0\t    |\t59.0\t27.3\t0.0\n",
      " 35\t82.2\t0.0\t0.0\t    |\t62.0\t20.2\t0.0\n",
      " 36\t76.5\t0.0\t0.0\t    |\t59.1\t17.4\t0.0\n",
      " 37\t81.6\t0.0\t0.0\t    |\t60.6\t21.0\t0.0\n",
      " 38\t80.6\t0.0\t0.0\t    |\t60.2\t20.4\t0.0\n",
      " 39\t77.8\t0.0\t0.0\t    |\t59.7\t18.1\t0.0\n",
      " 40\t76.6\t0.0\t0.0\t    |\t59.2\t17.4\t0.0\n",
      " 41\t77.0\t0.0\t0.0\t    |\t59.4\t17.6\t0.0\n",
      " 42\t79.5\t0.0\t0.0\t    |\t60.1\t19.5\t0.0\n",
      " 43\t80.7\t0.0\t0.0\t    |\t59.5\t21.2\t0.0\n",
      " 44\t80.2\t0.0\t0.0\t    |\t56.6\t23.6\t0.0\n",
      " 45\t70.5\t0.0\t0.0\t    |\t52.0\t18.5\t0.0\n",
      " 46\t70.7\t0.0\t0.0\t    |\t52.1\t18.6\t0.0\n",
      " 47\t73.6\t0.0\t0.0\t    |\t55.0\t18.7\t0.0\n",
      " 48\t72.8\t0.0\t0.0\t    |\t54.3\t18.5\t0.0\n",
      " 49\t75.4\t0.0\t0.0\t    |\t52.2\t23.2\t0.0\n",
      " 50\t74.7\t0.0\t0.0\t    |\t54.0\t20.7\t0.0\n",
      " 51\t72.2\t0.0\t0.0\t    |\t52.7\t19.5\t0.0\n",
      " 52\t75.2\t0.0\t0.0\t    |\t52.5\t22.6\t0.0\n",
      " 53\t72.1\t0.0\t0.0\t    |\t49.6\t22.5\t0.0\n",
      " 54\t68.6\t0.0\t0.0\t    |\t47.5\t21.1\t0.0\n",
      " 55\t74.3\t0.0\t0.0\t    |\t50.0\t24.3\t0.0\n",
      " 56\t75.7\t0.0\t0.0\t    |\t47.7\t28.1\t0.0\n",
      " 57\t77.5\t0.0\t0.0\t    |\t47.4\t30.1\t0.0\n",
      " 58\t73.2\t0.0\t0.0\t    |\t48.5\t24.7\t0.0\n",
      " 59\t76.5\t0.0\t0.0\t    |\t48.5\t28.0\t0.0\n",
      " 60\t75.3\t0.0\t0.0\t    |\t48.8\t26.4\t0.0\n",
      " 61\t71.0\t0.0\t0.0\t    |\t48.0\t23.0\t0.0\n",
      " 62\t74.9\t0.0\t0.0\t    |\t51.2\t23.6\t0.0\n",
      " 63\t78.6\t0.0\t0.0\t    |\t51.8\t26.9\t0.0\n",
      " 64\t81.7\t0.0\t0.0\t    |\t51.8\t29.9\t0.0\n",
      " 65\t81.8\t0.0\t0.0\t    |\t50.1\t31.8\t0.0\n",
      " 66\t88.6\t0.0\t0.0\t    |\t56.2\t32.4\t0.0\n",
      " 67\t84.3\t0.0\t0.0\t    |\t54.3\t30.0\t0.0\n",
      " 68\t83.8\t-0.0\t0.0\t    |\t51.1\t32.5\t0.2\n",
      " 69\t85.5\t0.0\t0.2\t    |\t56.3\t29.4\t0.0\n",
      " 70\t88.8\t0.0\t0.0\t    |\t55.3\t33.5\t0.0\n",
      " 71\t95.9\t0.0\t0.0\t    |\t56.4\t39.5\t0.0\n",
      " 72\t91.5\t0.0\t0.0\t    |\t56.4\t35.2\t0.0\n",
      " 73\t89.6\t0.0\t0.0\t    |\t61.8\t27.8\t0.0\n",
      " 74\t92.7\t0.0\t0.0\t    |\t58.9\t33.8\t0.0\n",
      " 75\t98.6\t0.0\t0.0\t    |\t63.4\t35.3\t0.0\n",
      " 76\t101.2\t0.0\t0.0\t    |\t63.1\t38.1\t0.0\n",
      " 77\t107.0\t0.0\t0.0\t    |\t63.8\t43.2\t0.0\n",
      " 78\t110.0\t-0.3\t0.0\t    |\t63.4\t44.0\t2.4\n",
      " 79\t113.1\t0.0\t2.4\t    |\t66.1\t49.4\t0.0\n",
      " 80\t110.2\t0.0\t0.0\t    |\t64.1\t46.1\t0.0\n",
      " 81\t110.3\t0.0\t0.0\t    |\t63.1\t47.2\t0.0\n",
      " 82\t113.0\t0.0\t0.0\t    |\t63.5\t49.5\t0.0\n",
      " 83\t110.9\t0.0\t0.0\t    |\t64.0\t46.8\t0.0\n",
      " 84\t111.6\t-1.3\t0.0\t    |\t64.5\t36.4\t9.3\n",
      " 85\t112.4\t0.0\t9.3\t    |\t63.3\t58.4\t0.0\n",
      " 86\t109.6\t0.0\t0.0\t    |\t63.2\t46.5\t0.0\n",
      " 87\t108.4\t0.0\t0.0\t    |\t61.0\t47.4\t0.0\n",
      " 88\t109.0\t-1.1\t0.0\t    |\t61.0\t38.9\t8.0\n",
      " 89\t108.0\t0.0\t8.0\t    |\t60.6\t55.4\t0.0\n",
      " 90\t108.4\t-0.7\t0.0\t    |\t61.9\t40.6\t5.2\n",
      " 91\t108.2\t-1.7\t5.2\t    |\t64.8\t29.8\t17.2\n",
      " 92\t106.9\t-0.1\t17.2\t    |\t58.7\t47.0\t18.2\n",
      " 93\t111.6\t-1.3\t18.2\t    |\t62.5\t38.4\t27.6\n",
      " 94\t118.8\t-0.4\t27.6\t    |\t62.9\t52.5\t30.6\n",
      " 95\t116.5\t0.0\t30.6\t    |\t68.0\t75.8\t3.2\n",
      " 96\t120.1\t0.0\t3.2\t    |\t64.8\t58.5\t0.0\n",
      " 97\t124.4\t-2.3\t0.0\t    |\t65.5\t39.8\t16.7\n",
      " 98\t123.0\t-1.0\t16.7\t    |\t69.5\t45.7\t23.6\n",
      " 99\t123.5\t-0.8\t23.6\t    |\t64.2\t52.8\t29.3\n",
      "100\t126.6\t-0.7\t29.3\t    |\t65.1\t55.5\t34.5\n",
      "\n",
      "\n",
      "\n",
      "\n"
     ]
    },
    {
     "data": {
      "image/png": "[encoded data removed]",
      "text/plain": [
       "<Figure size 432x288 with 1 Axes>"
      ]
     },
     "metadata": {
      "needs_background": "light"
     },
     "output_type": "display_data"
    },
    {
     "data": {
      "image/png": "[encoded data removed]",
      "text/plain": [
       "<Figure size 432x288 with 2 Axes>"
      ]
     },
     "metadata": {},
     "output_type": "display_data"
    },
    {
     "data": {
      "image/png": "[encoded data removed]",
      "text/plain": [
       "<Figure size 432x288 with 2 Axes>"
      ]
     },
     "metadata": {},
     "output_type": "display_data"
    },
    {
     "data": {
      "image/png": "[encoded data removed]",
      "text/plain": [
       "<Figure size 432x288 with 2 Axes>"
      ]
     },
     "metadata": {},
     "output_type": "display_data"
    },
    {
     "data": {
      "image/png": "[encoded data removed]",
      "text/plain": [
       "<Figure size 432x288 with 2 Axes>"
      ]
     },
     "metadata": {},
     "output_type": "display_data"
    },
    {
     "data": {
      "image/png": "[encoded data removed]",
      "text/plain": [
       "<Figure size 432x288 with 2 Axes>"
      ]
     },
     "metadata": {},
     "output_type": "display_data"
    },
    {
     "data": {
      "image/png": "[encoded data removed]",
      "text/plain": [
       "<Figure size 432x288 with 2 Axes>"
      ]
     },
     "metadata": {},
     "output_type": "display_data"
    },
    {
     "data": {
      "image/png": "[encoded data removed]",
      "text/plain": [
       "<Figure size 432x288 with 2 Axes>"
      ]
     },
     "metadata": {},
     "output_type": "display_data"
    },
    {
     "data": {
      "image/png": "[encoded data removed]",
      "text/plain": [
       "<Figure size 432x288 with 2 Axes>"
      ]
     },
     "metadata": {},
     "output_type": "display_data"
    },
    {
     "data": {
      "image/png": "[encoded data removed]",
      "text/plain": [
       "<Figure size 432x288 with 2 Axes>"
      ]
     },
     "metadata": {},
     "output_type": "display_data"
    }
   ],
   "source": [
    "r.seed(121314)\n",
    "\n",
    "setup()\n",
    "\n",
    "cmv.actionList=[\"produceAll()\",\"payWagesAll()\",\"buyConsumptionGoodsAll()\",\\\n",
    "                \"buyInvestmentGoodsAll()\",\"makeBalanceSheetAll()\",\\\n",
    "                \"distributeDividendAll()\",\"accountCashMoneyAll()\",\\\n",
    "                \"accountCheckingAccountAll()\",\"accountBankAccountAll()\",\\\n",
    "                ]\n",
    "\n",
    "for cmv.cycle in range(cmv.ncycles):\n",
    "    for anAction in cmv.actionList:\n",
    "            exec(anAction)\n",
    "\n",
    "makeHist()   \n",
    "plot1()\n",
    "plot2()\n",
    "plot3()\n",
    "plot4()\n",
    "plot5()\n",
    "plot6()\n",
    "plot7()\n",
    "plot8()\n",
    "plot9()\n",
    "\n",
    "nationalAccounts()"
   ]
  },
  {
   "cell_type": "code",
   "execution_count": 17,
   "id": "typical-washer",
   "metadata": {},
   "outputs": [
    {
     "data": {
      "text/plain": [
       "[15, 34, 80, 31, 84, 12, 88, 62, 96, 25, 37, 24, 33, 40, 74, 61, 60, 16, 95]"
      ]
     },
     "execution_count": 17,
     "metadata": {},
     "output_type": "execute_result"
    }
   ],
   "source": [
    "list(cmv.firmList[i].num for i in range(cmv.firmNum))"
   ]
  },
  {
   "cell_type": "code",
   "execution_count": 18,
   "id": "sized-charge",
   "metadata": {},
   "outputs": [
    {
     "data": {
      "text/plain": [
       "[25, 62, 61, 12, 74, 80, 60, 33, 24, 16, 88, 84, 37, 31, 34, 95, 15, 96, 40]"
      ]
     },
     "execution_count": 18,
     "metadata": {},
     "output_type": "execute_result"
    }
   ],
   "source": [
    "list(cmv.entrepreneurList[i].num for i in range(cmv.firmNum))"
   ]
  },
  {
   "cell_type": "code",
   "execution_count": 19,
   "id": "sufficient-darkness",
   "metadata": {
    "scrolled": true
   },
   "outputs": [],
   "source": [
    "# last cycle\n",
    "tCashNe=0\n",
    "for anA in cmv.agentList:\n",
    "    if not anA.entrepreneur: tCashNe+=anA.cashMoney\n",
    "\n",
    "tCashE=0\n",
    "for anA in cmv.agentList:\n",
    "    if anA.entrepreneur: tCashE+=anA.cashMoney"
   ]
  },
  {
   "cell_type": "code",
   "execution_count": 20,
   "id": "vocal-transparency",
   "metadata": {
    "scrolled": true
   },
   "outputs": [
    {
     "data": {
      "text/plain": [
       "0"
      ]
     },
     "execution_count": 20,
     "metadata": {},
     "output_type": "execute_result"
    }
   ],
   "source": [
    "tCashNe"
   ]
  },
  {
   "cell_type": "code",
   "execution_count": 21,
   "id": "intelligent-powell",
   "metadata": {
    "scrolled": true
   },
   "outputs": [
    {
     "data": {
      "text/plain": [
       "0"
      ]
     },
     "execution_count": 21,
     "metadata": {},
     "output_type": "execute_result"
    }
   ],
   "source": [
    "tCashE"
   ]
  },
  {
   "cell_type": "code",
   "execution_count": 22,
   "id": "native-textbook",
   "metadata": {
    "scrolled": true
   },
   "outputs": [],
   "source": [
    "tC=0\n",
    "for i in range(cmv.ncycles):\n",
    "    tC+=cmv.totalConsumptionSeries[i]"
   ]
  },
  {
   "cell_type": "code",
   "execution_count": 23,
   "id": "smart-employment",
   "metadata": {
    "scrolled": true
   },
   "outputs": [
    {
     "data": {
      "text/plain": [
       "5835.308905333819"
      ]
     },
     "execution_count": 23,
     "metadata": {},
     "output_type": "execute_result"
    }
   ],
   "source": [
    "tC"
   ]
  },
  {
   "cell_type": "code",
   "execution_count": 24,
   "id": "distinguished-bacon",
   "metadata": {
    "scrolled": true
   },
   "outputs": [],
   "source": [
    "tCE=0\n",
    "for i in range(cmv.ncycles):\n",
    "    tCE+=cmv.totalEntrepreneurConsumptionSeries[i]"
   ]
  },
  {
   "cell_type": "code",
   "execution_count": 25,
   "id": "alive-electricity",
   "metadata": {
    "scrolled": true
   },
   "outputs": [
    {
     "data": {
      "text/plain": [
       "1509.5880854869208"
      ]
     },
     "execution_count": 25,
     "metadata": {},
     "output_type": "execute_result"
    }
   ],
   "source": [
    "tCE"
   ]
  },
  {
   "cell_type": "code",
   "execution_count": 26,
   "id": "sufficient-placement",
   "metadata": {
    "scrolled": true
   },
   "outputs": [],
   "source": [
    "tCNe=0\n",
    "for i in range(cmv.ncycles):\n",
    "    tCNe+=cmv.totalNonEntrepreneurConsumptionSeries[i]"
   ]
  },
  {
   "cell_type": "code",
   "execution_count": 27,
   "id": "regional-somerset",
   "metadata": {
    "scrolled": true
   },
   "outputs": [
    {
     "data": {
      "text/plain": [
       "4325.720819846898"
      ]
     },
     "execution_count": 27,
     "metadata": {},
     "output_type": "execute_result"
    }
   ],
   "source": [
    "tCNe"
   ]
  },
  {
   "cell_type": "code",
   "execution_count": 28,
   "id": "great-dublin",
   "metadata": {
    "scrolled": true
   },
   "outputs": [],
   "source": [
    "tI=0\n",
    "for i in range(cmv.ncycles):\n",
    "    tI+=cmv.totalInvestmentSeries[i]"
   ]
  },
  {
   "cell_type": "code",
   "execution_count": 29,
   "id": "responsible-appendix",
   "metadata": {
    "scrolled": true
   },
   "outputs": [
    {
     "data": {
      "text/plain": [
       "3453.671216384164"
      ]
     },
     "execution_count": 29,
     "metadata": {},
     "output_type": "execute_result"
    }
   ],
   "source": [
    "tI"
   ]
  },
  {
   "cell_type": "code",
   "execution_count": 30,
   "id": "fancy-geography",
   "metadata": {},
   "outputs": [
    {
     "data": {
      "text/plain": [
       "[44.39614679079636,\n",
       " 90.19315929586003,\n",
       " 137.25842076372774,\n",
       " 181.86528146643192,\n",
       " 228.23451300165905,\n",
       " 269.780013843996,\n",
       " 316.83007065837035,\n",
       " 361.8914597952598,\n",
       " 406.55322323482363,\n",
       " 450.25584126629155,\n",
       " 496.221100409356,\n",
       " 543.2170685286814,\n",
       " 591.0784393989696,\n",
       " 643.3505101195975,\n",
       " 691.0841912775553,\n",
       " 738.7105545189744,\n",
       " 788.4596949733553,\n",
       " 836.7211906571823,\n",
       " 883.8475518236911,\n",
       " 932.4832875480224,\n",
       " 977.2177980783388,\n",
       " 1024.3486349784528,\n",
       " 1072.347113934928,\n",
       " 1120.0210473801305,\n",
       " 1172.9100916818477,\n",
       " 1221.9147778335728,\n",
       " 1272.5822507492662,\n",
       " 1320.547464155658,\n",
       " 1366.2313915389648,\n",
       " 1412.1419076317281,\n",
       " 1455.415110820664,\n",
       " 1499.1200729597085,\n",
       " 1541.8498773248598,\n",
       " 1587.1795174137878,\n",
       " 1629.0990333626144,\n",
       " 1674.011672668835,\n",
       " 1717.7970340227323,\n",
       " 1761.573062316949,\n",
       " 1806.7028014244938,\n",
       " 1851.8435489383783,\n",
       " 1896.4965190678504,\n",
       " 1940.350915698497,\n",
       " 1984.9944342927888,\n",
       " 2033.2370398945147,\n",
       " 2085.125092232798,\n",
       " 2136.6061145715585,\n",
       " 2185.778389429516,\n",
       " 2235.0144456813787,\n",
       " 2286.1835042350863,\n",
       " 2336.124688152486,\n",
       " 2387.6968541623282,\n",
       " 2439.75392384356,\n",
       " 2494.1164805221388,\n",
       " 2549.934370936967,\n",
       " 2604.470385671641,\n",
       " 2662.74185697159,\n",
       " 2722.624801328496,\n",
       " 2779.449754221475,\n",
       " 2837.08444766036,\n",
       " 2894.8440019512036,\n",
       " 2954.2952353447577,\n",
       " 3009.446242793482,\n",
       " 3065.1806321357326,\n",
       " 3122.3961697677155,\n",
       " 3182.0759116942677,\n",
       " 3236.6848812225708,\n",
       " 3293.5795083030907,\n",
       " 3353.0515922936374,\n",
       " 3407.9892694686837,\n",
       " 3464.4856629109895,\n",
       " 3521.5652885459376,\n",
       " 3577.3535993305177,\n",
       " 3625.5177749476547,\n",
       " 3677.5869899544646,\n",
       " 3726.102661293364,\n",
       " 3775.839814943362,\n",
       " 3826.3498185072203,\n",
       " 3877.3816159072067,\n",
       " 3927.0190234718575,\n",
       " 3976.338935608174,\n",
       " 4027.936904468579,\n",
       " 4079.3205917112873,\n",
       " 4131.243452790372,\n",
       " 4181.2008956792515,\n",
       " 4235.046697873083,\n",
       " 4290.197832757104,\n",
       " 4349.080093199001,\n",
       " 4406.560749951798,\n",
       " 4464.905229307617,\n",
       " 4522.039894726482,\n",
       " 4574.857633536229,\n",
       " 4635.497047463042,\n",
       " 4693.856465959639,\n",
       " 4755.242136986447,\n",
       " 4810.714671693814,\n",
       " 4870.380730693117,\n",
       " 4929.971094036869,\n",
       " 4984.120457641248,\n",
       " 5045.6305623969465,\n",
       " 5107.749660393441]"
      ]
     },
     "execution_count": 30,
     "metadata": {},
     "output_type": "execute_result"
    }
   ],
   "source": [
    "cmv.totalCheckingAccountSeries"
   ]
  },
  {
   "cell_type": "code",
   "execution_count": 31,
   "id": "thorough-thesaurus",
   "metadata": {},
   "outputs": [
    {
     "data": {
      "text/plain": [
       "[-44.39614679079635,\n",
       " -90.19315929586001,\n",
       " -137.25842076372777,\n",
       " -181.8652814664319,\n",
       " -228.2345130016591,\n",
       " -269.78001384399573,\n",
       " -316.8300706583703,\n",
       " -361.8914597952598,\n",
       " -406.5532232348238,\n",
       " -450.25584126629144,\n",
       " -496.221100409356,\n",
       " -543.2170685286816,\n",
       " -591.0784393989702,\n",
       " -643.3505101195974,\n",
       " -691.0841912775551,\n",
       " -738.7105545189747,\n",
       " -788.4596949733561,\n",
       " -836.7211906571832,\n",
       " -883.8475518236913,\n",
       " -932.4832875480229,\n",
       " -977.217798078339,\n",
       " -1024.3486349784534,\n",
       " -1072.3471139349285,\n",
       " -1120.0210473801312,\n",
       " -1172.9100916818481,\n",
       " -1221.9147778335737,\n",
       " -1272.5822507492674,\n",
       " -1320.547464155659,\n",
       " -1366.2313915389664,\n",
       " -1412.14190763173,\n",
       " -1455.4151108206652,\n",
       " -1499.12007295971,\n",
       " -1541.8498773248625,\n",
       " -1587.1795174137894,\n",
       " -1629.0990333626164,\n",
       " -1674.0116726688364,\n",
       " -1717.7970340227334,\n",
       " -1761.5730623169507,\n",
       " -1806.7028014244947,\n",
       " -1851.8435489383792,\n",
       " -1896.4965190678506,\n",
       " -1940.3509156984999,\n",
       " -1984.9944342927909,\n",
       " -2033.2370398945159,\n",
       " -2085.1250922327995,\n",
       " -2136.6061145715603,\n",
       " -2185.7783894295176,\n",
       " -2235.014445681381,\n",
       " -2286.183504235087,\n",
       " -2336.1246881524885,\n",
       " -2387.696854162329,\n",
       " -2439.753923843561,\n",
       " -2494.1164805221397,\n",
       " -2549.934370936969,\n",
       " -2604.4703856716424,\n",
       " -2662.74185697159,\n",
       " -2722.624801328496,\n",
       " -2779.449754221476,\n",
       " -2837.0844476603615,\n",
       " -2894.844001951205,\n",
       " -2954.295235344757,\n",
       " -3009.4462427934827,\n",
       " -3065.1806321357367,\n",
       " -3122.3961697677173,\n",
       " -3182.0759116942686,\n",
       " -3236.684881222572,\n",
       " -3293.579508303091,\n",
       " -3353.05159229364,\n",
       " -3407.9892694686846,\n",
       " -3464.485662910992,\n",
       " -3521.565288545939,\n",
       " -3577.353599330519,\n",
       " -3625.517774947655,\n",
       " -3677.5869899544678,\n",
       " -3726.1026612933656,\n",
       " -3775.8398149433615,\n",
       " -3826.3498185072226,\n",
       " -3877.381615907206,\n",
       " -3927.0190234718584,\n",
       " -3976.338935608175,\n",
       " -4027.936904468582,\n",
       " -4079.3205917112873,\n",
       " -4131.243452790375,\n",
       " -4181.2008956792515,\n",
       " -4235.046697873084,\n",
       " -4290.197832757101,\n",
       " -4349.080093198998,\n",
       " -4406.560749951797,\n",
       " -4464.9052293076165,\n",
       " -4522.039894726482,\n",
       " -4574.857633536227,\n",
       " -4635.497047463038,\n",
       " -4693.856465959637,\n",
       " -4755.242136986444,\n",
       " -4810.714671693812,\n",
       " -4870.380730693115,\n",
       " -4929.971094036867,\n",
       " -4984.120457641246,\n",
       " -5045.630562396946,\n",
       " -5107.749660393439]"
      ]
     },
     "execution_count": 31,
     "metadata": {},
     "output_type": "execute_result"
    }
   ],
   "source": [
    "cmv.totalBankAccountSeries"
   ]
  },
  {
   "cell_type": "code",
   "execution_count": null,
   "id": "sonic-allowance",
   "metadata": {},
   "outputs": [],
   "source": []
  },
  {
   "cell_type": "code",
   "execution_count": null,
   "id": "sudden-mainstream",
   "metadata": {},
   "outputs": [],
   "source": []
  }
 ],
 "metadata": {
  "kernelspec": {
   "display_name": "Python 3",
   "language": "python",
   "name": "python3"
  },
  "language_info": {
   "codemirror_mode": {
    "name": "ipython",
    "version": 3
   },
   "file_extension": ".py",
   "mimetype": "text/x-python",
   "name": "python",
   "nbconvert_exporter": "python",
   "pygments_lexer": "ipython3",
   "version": "3.9.7"
  }
 },
 "nbformat": 4,
 "nbformat_minor": 5
}
