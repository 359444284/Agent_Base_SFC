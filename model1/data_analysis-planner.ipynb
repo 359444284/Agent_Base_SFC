{
 "cells": [
  {
   "cell_type": "raw",
   "id": "4725a3d7-a0a8-423f-a0f5-5f7f95348240",
   "metadata": {},
   "source": [
    "%%javascript\n",
    "// to avoid scroll in windows\n",
    "IPython.OutputArea.prototype._should_scroll = function(lines) {\n",
    "    return false;\n",
    "}"
   ]
  },
  {
   "cell_type": "code",
   "execution_count": null,
   "id": "5c899d08",
   "metadata": {},
   "outputs": [],
   "source": [
    "import pandas as pd\n",
    "import csv\n",
    "import os\n",
    "\n",
    "myListDir=os.listdir()\n",
    "folder=input(\"The name of your input folder without extension: \")\n",
    "while not folder+\".0\" in myListDir: #extension 0 certainly exists, as we have at least one rank\n",
    "    print(folder+\": wrong name\")\n",
    "    folder=input(\"The name of your input folder, without extension: \")\n",
    "\n",
    "os.chdir(\"./\"+folder+\".0\") #extension 0 certainly exists, as we have at least one rank\n",
    "\n",
    "with open(\"plotInfo.csv\",\"r\") as data:\n",
    "    reader = csv.reader(data, delimiter = ',')\n",
    "    for row in reader:\n",
    "        fileNameRoot=row[0] #the names of the files contating the data start with...\n",
    "        rankNum=int(row[1]) #we have file from different ranks, reported in different folders with name, for a specific\n",
    "                            #rank: fileNameRoot+\".\"+str(rank)\n",
    "        #ag0num=int(row[2])  #how many agents in each rank, with type==0\n",
    "\n",
    "#current folders\n",
    "print(\"Current folders are:\")\n",
    "for k in range(rankNum):\n",
    "    print(folder+\".\"+str(k))"
   ]
  },
  {
   "cell_type": "code",
   "execution_count": null,
   "id": "f27a8815",
   "metadata": {},
   "outputs": [],
   "source": [
    "#display all the rows of the dataframe  \n",
    "pd.set_option('display.max_rows', None)"
   ]
  },
  {
   "cell_type": "code",
   "execution_count": null,
   "id": "c4ec1b89",
   "metadata": {},
   "outputs": [],
   "source": [
    "names=[\"inv goods bought\", \"inv goods inventories\", \"capQdyn\", \"capQdyn*price\"]"
   ]
  },
  {
   "cell_type": "code",
   "execution_count": null,
   "id": "ee6106ca-d9e1-4be3-b8a0-d942d71c1aef",
   "metadata": {},
   "outputs": [],
   "source": [
    "os.chdir(\"../\"+folder+\".0\")\n",
    "#planner info database\n",
    "plannerInfo=pd.read_csv('plannerInfo.csv')\n",
    "plannerInfo.columns=names"
   ]
  },
  {
   "cell_type": "code",
   "execution_count": null,
   "id": "781e6ce6-39ab-4b4f-a613-6ce0cdbfd703",
   "metadata": {},
   "outputs": [],
   "source": [
    "plannerInfo.plot(figsize=(12,6), title=\"Central Planner Data and Observations\")"
   ]
  }
 ],
 "metadata": {
  "kernelspec": {
   "display_name": "Python 3 (ipykernel)",
   "language": "python",
   "name": "python3"
  },
  "language_info": {
   "codemirror_mode": {
    "name": "ipython",
    "version": 3
   },
   "file_extension": ".py",
   "mimetype": "text/x-python",
   "name": "python",
   "nbconvert_exporter": "python",
   "pygments_lexer": "ipython3",
   "version": "3.11.4"
  }
 },
 "nbformat": 4,
 "nbformat_minor": 5
}
