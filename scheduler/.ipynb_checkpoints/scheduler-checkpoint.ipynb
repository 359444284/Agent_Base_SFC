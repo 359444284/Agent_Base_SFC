{
 "cells": [
  {
   "cell_type": "markdown",
   "id": "norman-sullivan",
   "metadata": {},
   "source": [
    "### scopo e riferimenti\n",
    "\n",
    "- proposta di un mini scheduler per il *toy-model*\n",
    "\n",
    "  come si gestice il tempo e la sequenza degli accadimenti\n",
    "  \n",
    "  \n",
    "- sito di riferimento per exec() usato per eseguire instruzioni memorizzate come testo: https://www.tutorialsteacher.com/python/exec-method\n",
    "\n",
    "\n",
    "- uso dell'espediente commonVar.py per avere variabili condivise nel codice\n",
    "\n",
    "  nella cartella si trova commonVar.py che contiene solo una riga di commento\n",
    "  \n",
    "      # commonVar"
   ]
  },
  {
   "cell_type": "code",
   "execution_count": 2,
   "id": "4c1ac5dd-f278-4e42-9bb9-547541f5c960",
   "metadata": {},
   "outputs": [],
   "source": [
    "%matplotlib inline\n",
    "import commonVar as common\n",
    "import random as r\n",
    "import matplotlib.pyplot as plt #"
   ]
  },
  {
   "cell_type": "code",
   "execution_count": 4,
   "id": "c30571eb-d362-4614-98d6-427d49ce33a9",
   "metadata": {},
   "outputs": [],
   "source": [
    "common.nCycles=20\n",
    "common.nAgents=10\n",
    "common.wMin=60\n",
    "common.wMax=100\n",
    "common.mMin=50\n",
    "common.mMax=150\n",
    "common.actionList=[]\n",
    "common.actionList.append(\"eat(False)\")\n",
    "common.actionList.append(\"giveMoney\")\n",
    "common.share=0.10"
   ]
  },
  {
   "cell_type": "markdown",
   "id": "listed-hospital",
   "metadata": {},
   "source": [
    "### agenti e loro capacità"
   ]
  },
  {
   "cell_type": "code",
   "execution_count": 3,
   "id": "corrected-barrier",
   "metadata": {},
   "outputs": [],
   "source": [
    "class Agent():\n",
    "    def __init__(self, num, weight, money):\n",
    "        print(\"agent # \", num, \"with weight\", weight, \"with money\", money)\n",
    "        self.num=num\n",
    "        self.weight=weight\n",
    "        self.money=money\n",
    "        common.agentList.append(self)\n",
    "        \n",
    "    def eat(self, out):\n",
    "        currentWeight= self.weight + r.uniform(-10,10)\n",
    "        if currentWeight > 80:\n",
    "            if out:\n",
    "                print (\"Too fat, I cannot eat\")\n",
    "        else: \n",
    "            if out: print (\"With pleasure\")\n",
    "            common.eating[common.t]+=1\n",
    "            \n",
    "    def giveMoney(self):\n",
    "        giving=self.money*common.share\n",
    "        self.money-=giving\n",
    "        common.agentList[r.randint(common.nAgents)].money+=giving\n",
    "        "
   ]
  },
  {
   "cell_type": "code",
   "execution_count": 12,
   "id": "potential-referral",
   "metadata": {},
   "outputs": [
    {
     "name": "stdout",
     "output_type": "stream",
     "text": [
      "agent #  1 with weight 66 with money 130.16541573174186\n",
      "agent #  2 with weight 79 with money 144.6321515574723\n",
      "agent #  3 with weight 96 with money 50.39184614846204\n",
      "agent #  4 with weight 99 with money 88.44622787685812\n",
      "agent #  5 with weight 98 with money 66.43316661886999\n",
      "agent #  6 with weight 83 with money 143.01909176791997\n",
      "agent #  7 with weight 68 with money 111.53586265205777\n",
      "agent #  8 with weight 81 with money 87.94890788455962\n",
      "agent #  9 with weight 81 with money 60.82087404728941\n",
      "agent #  10 with weight 80 with money 144.90449806405147\n"
     ]
    }
   ],
   "source": [
    "common.agentList=[]\n",
    "\n",
    "for n in range(common.nAgents):\n",
    "    Agent(n+1,r.randint(common.wMin,common.wMax),r.uniform(common.mMin,common.mMax))"
   ]
  },
  {
   "cell_type": "code",
   "execution_count": 13,
   "id": "powerful-membership",
   "metadata": {},
   "outputs": [
    {
     "data": {
      "text/plain": [
       "[<__main__.Agent at 0x7fc893ca13d0>,\n",
       " <__main__.Agent at 0x7fc895111f70>,\n",
       " <__main__.Agent at 0x7fc895111af0>,\n",
       " <__main__.Agent at 0x7fc895111e50>,\n",
       " <__main__.Agent at 0x7fc893c79c40>,\n",
       " <__main__.Agent at 0x7fc893c79f10>,\n",
       " <__main__.Agent at 0x7fc895112ee0>,\n",
       " <__main__.Agent at 0x7fc895112580>,\n",
       " <__main__.Agent at 0x7fc895112340>,\n",
       " <__main__.Agent at 0x7fc89511d340>]"
      ]
     },
     "execution_count": 13,
     "metadata": {},
     "output_type": "execute_result"
    }
   ],
   "source": [
    "common.agentList"
   ]
  },
  {
   "cell_type": "code",
   "execution_count": 14,
   "id": "governmental-demand",
   "metadata": {},
   "outputs": [],
   "source": [
    "common.eating=[]\n",
    "\n",
    "for common.t in range(common.nCycles):\n",
    "    common.eating.append(0)\n",
    "    \n",
    "    for anAgent in common.agentList:\n",
    "        for anAction in common.actionList:\n",
    "            exec(\"anAgent\" + \".\" + anAction)"
   ]
  },
  {
   "cell_type": "markdown",
   "id": "black-technical",
   "metadata": {},
   "source": [
    "### how many eating"
   ]
  },
  {
   "cell_type": "code",
   "execution_count": 20,
   "id": "metric-editor",
   "metadata": {},
   "outputs": [
    {
     "data": {
      "text/plain": [
       "<BarContainer object of 20 artists>"
      ]
     },
     "execution_count": 20,
     "metadata": {},
     "output_type": "execute_result"
    },
    {
     "data": {
      "image/png": "[encoded data removed]",
      "text/plain": [
       "<Figure size 432x288 with 1 Axes>"
      ]
     },
     "metadata": {
      "needs_background": "light"
     },
     "output_type": "display_data"
    }
   ],
   "source": [
    "plt.ylim((0,10))\n",
    "plt.bar(range(common.nCycles),common.eating)"
   ]
  },
  {
   "cell_type": "markdown",
   "id": "friendly-entrepreneur",
   "metadata": {},
   "source": [
    "### agent's money"
   ]
  },
  {
   "cell_type": "code",
   "execution_count": 21,
   "id": "southwest-coverage",
   "metadata": {},
   "outputs": [
    {
     "data": {
      "text/plain": [
       "<BarContainer object of 10 artists>"
      ]
     },
     "execution_count": 21,
     "metadata": {},
     "output_type": "execute_result"
    },
    {
     "data": {
      "image/png": "[encoded data removed]",
      "text/plain": [
       "<Figure size 432x288 with 1 Axes>"
      ]
     },
     "metadata": {
      "needs_background": "light"
     },
     "output_type": "display_data"
    }
   ],
   "source": [
    "plt.ylim((0,200))\n",
    "plt.bar(range(1,common.nAgents+1),list(common.agentList[i].money for i in range(common.nAgents)))"
   ]
  },
  {
   "cell_type": "code",
   "execution_count": null,
   "id": "numerical-sister",
   "metadata": {},
   "outputs": [],
   "source": []
  }
 ],
 "metadata": {
  "kernelspec": {
   "display_name": "Python 3",
   "language": "python",
   "name": "python3"
  },
  "language_info": {
   "codemirror_mode": {
    "name": "ipython",
    "version": 3
   },
   "file_extension": ".py",
   "mimetype": "text/x-python",
   "name": "python",
   "nbconvert_exporter": "python",
   "pygments_lexer": "ipython3",
   "version": "3.9.7"
  }
 },
 "nbformat": 4,
 "nbformat_minor": 5
}
